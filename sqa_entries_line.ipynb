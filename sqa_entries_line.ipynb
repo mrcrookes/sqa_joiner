{
 "cells": [
  {
   "cell_type": "code",
   "execution_count": 1,
   "id": "52f1ea60",
   "metadata": {},
   "outputs": [],
   "source": [
    "# Import key librarys\n",
    "\n",
    "import pandas as pd\n",
    "import numpy as np\n",
    "\n",
    "import plotly.express as px\n",
    "\n",
    "import chart_studio\n",
    "import chart_studio.plotly as py\n",
    "import chart_studio.tools as tls"
   ]
  },
  {
   "cell_type": "code",
   "execution_count": 2,
   "id": "15238ffd",
   "metadata": {},
   "outputs": [],
   "source": [
    "# Setup Chart Studio\n",
    "username = 'mrcrookes' # your username\n",
    "api_key = 'ZgEVmRwdEN7u8cqkga9A' # your api key - go to profile > settings > regenerate key\n",
    "chart_studio.tools.set_credentials_file(username=username, api_key=api_key)"
   ]
  },
  {
   "cell_type": "code",
   "execution_count": 35,
   "id": "56c78e25",
   "metadata": {},
   "outputs": [],
   "source": [
    "# Define level\n",
    "level = 'Advanced_Higher'\n",
    "level_label = level.replace('_', ' ')\n",
    "\n",
    "# Import data\n",
    "ind_df = pd.read_excel(\"attainment-statistics-(august)-2022-provisional-centre-independent.ods\", \n",
    "                       engine = \"odf\", sheet_name = level, skiprows = 2)\n",
    "\n",
    "state_df = pd.read_excel(\"attainment-statistics-(august)-2022-provisional-centre-education-authority.ods\", \n",
    "                        engine = \"odf\", sheet_name = level, skiprows = 2)"
   ]
  },
  {
   "cell_type": "code",
   "execution_count": 36,
   "id": "70b1816b",
   "metadata": {},
   "outputs": [],
   "source": [
    "def tidy_up_1(df):\n",
    "    \n",
    "    # Remove spaces and replace with '_'\n",
    "    df.columns = df.columns.str.replace(' ','_')\n",
    "\n",
    "    #df.drop(df[df.Grade_A_Count_2022 == '[z]'].index, inplace=True)\n",
    "    df = df.replace('[z]', np.nan)\n",
    "    df = df.replace('[c]', np.nan)\n",
    "    df = df.replace('[low]', np.nan)\n",
    "\n",
    "    # Remove last row\n",
    "    df = df.drop(df.index[-1])\n",
    "\n",
    "    # Remove columns with Percentage in the heading\n",
    "    df = df[df.columns.drop(list(df.filter(regex='Percentage')))]\n",
    "    \n",
    "    return df\n",
    "    \n",
    "ind_df = tidy_up_1(ind_df)\n",
    "state_df = tidy_up_1(state_df)"
   ]
  },
  {
   "cell_type": "code",
   "execution_count": 37,
   "id": "bf27f17c",
   "metadata": {},
   "outputs": [],
   "source": [
    "def tidy_up_2(df):\n",
    "\n",
    "    # Create a list of years\n",
    "    years = ['2022', '2021', '2020', '2019', '2018']\n",
    "\n",
    "    # Sort out column titles\n",
    "    for year in years:\n",
    "        df = df.rename({'Grade_A_Count_' + year: 'As_' + year}, axis=1)\n",
    "        df = df.rename({'Grades_A-B_Count_' + year: 'A-Bs_' + year}, axis=1)\n",
    "        df = df.rename({'Grades_A-C_Count_' + year: 'A-Cs_' + year}, axis=1)\n",
    "        df = df.rename({'Grades_A-D_Count_' + year: 'A-Ds_' + year}, axis=1)\n",
    "        df = df.rename({'No_Award_Count_' + year: 'NAs_' + year}, axis=1)\n",
    "\n",
    "    # Calculate number of Bs, Cs and Ds\n",
    "    for year in years:\n",
    "        df['Bs_' + year] = df['A-Bs_' + year] - df['As_' + year]\n",
    "        df['Cs_' + year] = df['A-Cs_' + year] - df['A-Bs_' + year]\n",
    "        df['Ds_' + year] = df['A-Ds_' + year] - df['A-Cs_' + year]\n",
    "\n",
    "    # Remove original columns\n",
    "    for year in years:\n",
    "        df.drop('A-Bs_' + year, axis=1, inplace=True)\n",
    "        df.drop('A-Cs_' + year, axis=1, inplace=True)\n",
    "        df.drop('A-Ds_' + year, axis=1, inplace=True)\n",
    "        \n",
    "    return df\n",
    "        \n",
    "ind_df = tidy_up_2(ind_df)\n",
    "state_df = tidy_up_2(state_df)"
   ]
  },
  {
   "cell_type": "code",
   "execution_count": 38,
   "id": "a6d32248",
   "metadata": {
    "scrolled": true
   },
   "outputs": [
    {
     "data": {
      "text/html": [
       "<div>\n",
       "<style scoped>\n",
       "    .dataframe tbody tr th:only-of-type {\n",
       "        vertical-align: middle;\n",
       "    }\n",
       "\n",
       "    .dataframe tbody tr th {\n",
       "        vertical-align: top;\n",
       "    }\n",
       "\n",
       "    .dataframe thead th {\n",
       "        text-align: right;\n",
       "    }\n",
       "</style>\n",
       "<table border=\"1\" class=\"dataframe\">\n",
       "  <thead>\n",
       "    <tr style=\"text-align: right;\">\n",
       "      <th></th>\n",
       "      <th>Subject</th>\n",
       "      <th>Count</th>\n",
       "      <th>Grades</th>\n",
       "      <th>Year</th>\n",
       "      <th>School</th>\n",
       "    </tr>\n",
       "  </thead>\n",
       "  <tbody>\n",
       "    <tr>\n",
       "      <th>0</th>\n",
       "      <td>Accounting</td>\n",
       "      <td>10.0</td>\n",
       "      <td>As</td>\n",
       "      <td>2022</td>\n",
       "      <td>Ind</td>\n",
       "    </tr>\n",
       "    <tr>\n",
       "      <th>1</th>\n",
       "      <td>Art and Design (Design)</td>\n",
       "      <td>40.0</td>\n",
       "      <td>As</td>\n",
       "      <td>2022</td>\n",
       "      <td>Ind</td>\n",
       "    </tr>\n",
       "    <tr>\n",
       "      <th>2</th>\n",
       "      <td>Art and Design (Expressive)</td>\n",
       "      <td>65.0</td>\n",
       "      <td>As</td>\n",
       "      <td>2022</td>\n",
       "      <td>Ind</td>\n",
       "    </tr>\n",
       "    <tr>\n",
       "      <th>3</th>\n",
       "      <td>Biology</td>\n",
       "      <td>200.0</td>\n",
       "      <td>As</td>\n",
       "      <td>2022</td>\n",
       "      <td>Ind</td>\n",
       "    </tr>\n",
       "    <tr>\n",
       "      <th>4</th>\n",
       "      <td>Business Management</td>\n",
       "      <td>90.0</td>\n",
       "      <td>As</td>\n",
       "      <td>2022</td>\n",
       "      <td>Ind</td>\n",
       "    </tr>\n",
       "  </tbody>\n",
       "</table>\n",
       "</div>"
      ],
      "text/plain": [
       "                       Subject  Count Grades  Year School\n",
       "0                   Accounting   10.0     As  2022    Ind\n",
       "1      Art and Design (Design)   40.0     As  2022    Ind\n",
       "2  Art and Design (Expressive)   65.0     As  2022    Ind\n",
       "3                      Biology  200.0     As  2022    Ind\n",
       "4          Business Management   90.0     As  2022    Ind"
      ]
     },
     "execution_count": 38,
     "metadata": {},
     "output_type": "execute_result"
    }
   ],
   "source": [
    "# Convert into long format\n",
    "\n",
    "def tolong(df):\n",
    "    ldf = pd.melt(df, id_vars = ['Subject'], var_name = 'abc', value_name ='Count')\n",
    "    ldf['Grades'] = ldf['abc'].apply(lambda x: (x.rsplit('_', 1))[0])\n",
    "    ldf['Year'] = ldf.pop('abc').apply(lambda x: (x.split('_'))[-1])\n",
    "    \n",
    "    return ldf\n",
    "    \n",
    "ind_ldf = tolong(ind_df)\n",
    "state_ldf = tolong(state_df)\n",
    "\n",
    "ind_ldf['School'] = 'Ind'\n",
    "state_ldf['School'] = 'State'\n",
    "\n",
    "ind_ldf.head()"
   ]
  },
  {
   "cell_type": "code",
   "execution_count": 39,
   "id": "80e548a9",
   "metadata": {},
   "outputs": [
    {
     "data": {
      "text/html": [
       "<div>\n",
       "<style scoped>\n",
       "    .dataframe tbody tr th:only-of-type {\n",
       "        vertical-align: middle;\n",
       "    }\n",
       "\n",
       "    .dataframe tbody tr th {\n",
       "        vertical-align: top;\n",
       "    }\n",
       "\n",
       "    .dataframe thead th {\n",
       "        text-align: right;\n",
       "    }\n",
       "</style>\n",
       "<table border=\"1\" class=\"dataframe\">\n",
       "  <thead>\n",
       "    <tr style=\"text-align: right;\">\n",
       "      <th></th>\n",
       "      <th>Subject</th>\n",
       "      <th>Count</th>\n",
       "      <th>Grades</th>\n",
       "      <th>Year</th>\n",
       "      <th>School</th>\n",
       "    </tr>\n",
       "  </thead>\n",
       "  <tbody>\n",
       "    <tr>\n",
       "      <th>0</th>\n",
       "      <td>Accounting</td>\n",
       "      <td>15.0</td>\n",
       "      <td>As</td>\n",
       "      <td>2022</td>\n",
       "      <td>State</td>\n",
       "    </tr>\n",
       "    <tr>\n",
       "      <th>1</th>\n",
       "      <td>Art and Design (Design)</td>\n",
       "      <td>185.0</td>\n",
       "      <td>As</td>\n",
       "      <td>2022</td>\n",
       "      <td>State</td>\n",
       "    </tr>\n",
       "    <tr>\n",
       "      <th>2</th>\n",
       "      <td>Art and Design (Expressive)</td>\n",
       "      <td>410.0</td>\n",
       "      <td>As</td>\n",
       "      <td>2022</td>\n",
       "      <td>State</td>\n",
       "    </tr>\n",
       "    <tr>\n",
       "      <th>3</th>\n",
       "      <td>Biology</td>\n",
       "      <td>570.0</td>\n",
       "      <td>As</td>\n",
       "      <td>2022</td>\n",
       "      <td>State</td>\n",
       "    </tr>\n",
       "    <tr>\n",
       "      <th>4</th>\n",
       "      <td>Business Management</td>\n",
       "      <td>110.0</td>\n",
       "      <td>As</td>\n",
       "      <td>2022</td>\n",
       "      <td>State</td>\n",
       "    </tr>\n",
       "  </tbody>\n",
       "</table>\n",
       "</div>"
      ],
      "text/plain": [
       "                       Subject  Count Grades  Year School\n",
       "0                   Accounting   15.0     As  2022  State\n",
       "1      Art and Design (Design)  185.0     As  2022  State\n",
       "2  Art and Design (Expressive)  410.0     As  2022  State\n",
       "3                      Biology  570.0     As  2022  State\n",
       "4          Business Management  110.0     As  2022  State"
      ]
     },
     "execution_count": 39,
     "metadata": {},
     "output_type": "execute_result"
    }
   ],
   "source": [
    "# Merge together two df\n",
    "#dfc = pd.merge(state_ldf, ind_ldf, on = ['Subject', 'Grades', 'Year', 'Count'])\n",
    "dfc = pd.concat([state_ldf, ind_ldf])\n",
    "\n",
    "dfc.head()"
   ]
  },
  {
   "cell_type": "code",
   "execution_count": 40,
   "id": "ed8850fa",
   "metadata": {},
   "outputs": [
    {
     "data": {
      "text/html": [
       "<div>\n",
       "<style scoped>\n",
       "    .dataframe tbody tr th:only-of-type {\n",
       "        vertical-align: middle;\n",
       "    }\n",
       "\n",
       "    .dataframe tbody tr th {\n",
       "        vertical-align: top;\n",
       "    }\n",
       "\n",
       "    .dataframe thead th {\n",
       "        text-align: right;\n",
       "    }\n",
       "</style>\n",
       "<table border=\"1\" class=\"dataframe\">\n",
       "  <thead>\n",
       "    <tr style=\"text-align: right;\">\n",
       "      <th></th>\n",
       "      <th>Subject</th>\n",
       "      <th>Count</th>\n",
       "      <th>Grades</th>\n",
       "      <th>Year</th>\n",
       "      <th>School</th>\n",
       "    </tr>\n",
       "  </thead>\n",
       "  <tbody>\n",
       "    <tr>\n",
       "      <th>70</th>\n",
       "      <td>Accounting</td>\n",
       "      <td>45.0</td>\n",
       "      <td>Entries</td>\n",
       "      <td>2022</td>\n",
       "      <td>State</td>\n",
       "    </tr>\n",
       "    <tr>\n",
       "      <th>71</th>\n",
       "      <td>Art and Design (Design)</td>\n",
       "      <td>605.0</td>\n",
       "      <td>Entries</td>\n",
       "      <td>2022</td>\n",
       "      <td>State</td>\n",
       "    </tr>\n",
       "    <tr>\n",
       "      <th>72</th>\n",
       "      <td>Art and Design (Expressive)</td>\n",
       "      <td>1185.0</td>\n",
       "      <td>Entries</td>\n",
       "      <td>2022</td>\n",
       "      <td>State</td>\n",
       "    </tr>\n",
       "    <tr>\n",
       "      <th>73</th>\n",
       "      <td>Biology</td>\n",
       "      <td>2675.0</td>\n",
       "      <td>Entries</td>\n",
       "      <td>2022</td>\n",
       "      <td>State</td>\n",
       "    </tr>\n",
       "    <tr>\n",
       "      <th>74</th>\n",
       "      <td>Business Management</td>\n",
       "      <td>535.0</td>\n",
       "      <td>Entries</td>\n",
       "      <td>2022</td>\n",
       "      <td>State</td>\n",
       "    </tr>\n",
       "  </tbody>\n",
       "</table>\n",
       "</div>"
      ],
      "text/plain": [
       "                        Subject   Count   Grades  Year School\n",
       "70                   Accounting    45.0  Entries  2022  State\n",
       "71      Art and Design (Design)   605.0  Entries  2022  State\n",
       "72  Art and Design (Expressive)  1185.0  Entries  2022  State\n",
       "73                      Biology  2675.0  Entries  2022  State\n",
       "74          Business Management   535.0  Entries  2022  State"
      ]
     },
     "execution_count": 40,
     "metadata": {},
     "output_type": "execute_result"
    }
   ],
   "source": [
    "dfc = dfc[dfc.Grades == 'Entries']\n",
    "dfc.dropna(inplace=True)\n",
    "\n",
    "dfc.head()"
   ]
  },
  {
   "cell_type": "code",
   "execution_count": 41,
   "id": "11281c5d",
   "metadata": {},
   "outputs": [
    {
     "name": "stdout",
     "output_type": "stream",
     "text": [
      "<class 'pandas.core.frame.DataFrame'>\n",
      "Int64Index: 319 entries, 70 to 494\n",
      "Data columns (total 5 columns):\n",
      " #   Column   Non-Null Count  Dtype  \n",
      "---  ------   --------------  -----  \n",
      " 0   Subject  319 non-null    object \n",
      " 1   Count    319 non-null    float64\n",
      " 2   Grades   319 non-null    object \n",
      " 3   Year     319 non-null    object \n",
      " 4   School   319 non-null    object \n",
      "dtypes: float64(1), object(4)\n",
      "memory usage: 15.0+ KB\n"
     ]
    }
   ],
   "source": [
    "dfc.info()"
   ]
  },
  {
   "cell_type": "code",
   "execution_count": 42,
   "id": "e8e38656",
   "metadata": {},
   "outputs": [
    {
     "data": {
      "application/vnd.plotly.v1+json": {
       "config": {
        "plotlyServerURL": "https://plotly.com"
       },
       "data": [
        {
         "hovertemplate": "Subject=Accounting<br>School=State<br>Year=%{x}<br>Count=%{y}<extra></extra>",
         "legendgroup": "Accounting",
         "line": {
          "color": "#636efa",
          "dash": "solid"
         },
         "marker": {
          "symbol": "circle"
         },
         "mode": "markers+lines",
         "name": "Accounting",
         "orientation": "v",
         "showlegend": true,
         "type": "scatter",
         "x": [
          "2022",
          "2021",
          "2020",
          "2019",
          "2018"
         ],
         "xaxis": "x2",
         "y": [
          45,
          50,
          45,
          45,
          40
         ],
         "yaxis": "y2"
        },
        {
         "hovertemplate": "Subject=Accounting<br>School=Ind<br>Year=%{x}<br>Count=%{y}<extra></extra>",
         "legendgroup": "Accounting",
         "line": {
          "color": "#636efa",
          "dash": "solid"
         },
         "marker": {
          "symbol": "circle"
         },
         "mode": "markers+lines",
         "name": "Accounting",
         "orientation": "v",
         "showlegend": false,
         "type": "scatter",
         "x": [
          "2022",
          "2021",
          "2020",
          "2019",
          "2018"
         ],
         "xaxis": "x",
         "y": [
          15,
          25,
          20,
          20,
          15
         ],
         "yaxis": "y"
        },
        {
         "hovertemplate": "Subject=Art and Design (Design)<br>School=State<br>Year=%{x}<br>Count=%{y}<extra></extra>",
         "legendgroup": "Art and Design (Design)",
         "line": {
          "color": "#EF553B",
          "dash": "solid"
         },
         "marker": {
          "symbol": "circle"
         },
         "mode": "markers+lines",
         "name": "Art and Design (Design)",
         "orientation": "v",
         "showlegend": true,
         "type": "scatter",
         "x": [
          "2022",
          "2021",
          "2020",
          "2019",
          "2018"
         ],
         "xaxis": "x2",
         "y": [
          605,
          590,
          495,
          460,
          490
         ],
         "yaxis": "y2"
        },
        {
         "hovertemplate": "Subject=Art and Design (Design)<br>School=Ind<br>Year=%{x}<br>Count=%{y}<extra></extra>",
         "legendgroup": "Art and Design (Design)",
         "line": {
          "color": "#EF553B",
          "dash": "solid"
         },
         "marker": {
          "symbol": "circle"
         },
         "mode": "markers+lines",
         "name": "Art and Design (Design)",
         "orientation": "v",
         "showlegend": false,
         "type": "scatter",
         "x": [
          "2022",
          "2021",
          "2020",
          "2019",
          "2018"
         ],
         "xaxis": "x",
         "y": [
          60,
          45,
          45,
          45,
          50
         ],
         "yaxis": "y"
        },
        {
         "hovertemplate": "Subject=Art and Design (Expressive)<br>School=State<br>Year=%{x}<br>Count=%{y}<extra></extra>",
         "legendgroup": "Art and Design (Expressive)",
         "line": {
          "color": "#00cc96",
          "dash": "solid"
         },
         "marker": {
          "symbol": "circle"
         },
         "mode": "markers+lines",
         "name": "Art and Design (Expressive)",
         "orientation": "v",
         "showlegend": true,
         "type": "scatter",
         "x": [
          "2022",
          "2021",
          "2020",
          "2019",
          "2018"
         ],
         "xaxis": "x2",
         "y": [
          1185,
          1080,
          925,
          870,
          850
         ],
         "yaxis": "y2"
        },
        {
         "hovertemplate": "Subject=Art and Design (Expressive)<br>School=Ind<br>Year=%{x}<br>Count=%{y}<extra></extra>",
         "legendgroup": "Art and Design (Expressive)",
         "line": {
          "color": "#00cc96",
          "dash": "solid"
         },
         "marker": {
          "symbol": "circle"
         },
         "mode": "markers+lines",
         "name": "Art and Design (Expressive)",
         "orientation": "v",
         "showlegend": false,
         "type": "scatter",
         "x": [
          "2022",
          "2021",
          "2020",
          "2019",
          "2018"
         ],
         "xaxis": "x",
         "y": [
          95,
          85,
          95,
          65,
          70
         ],
         "yaxis": "y"
        },
        {
         "hovertemplate": "Subject=Biology<br>School=State<br>Year=%{x}<br>Count=%{y}<extra></extra>",
         "legendgroup": "Biology",
         "line": {
          "color": "#ab63fa",
          "dash": "solid"
         },
         "marker": {
          "symbol": "circle"
         },
         "mode": "markers+lines",
         "name": "Biology",
         "orientation": "v",
         "showlegend": true,
         "type": "scatter",
         "x": [
          "2022",
          "2021",
          "2020",
          "2019",
          "2018"
         ],
         "xaxis": "x2",
         "y": [
          2675,
          2460,
          2050,
          1880,
          1885
         ],
         "yaxis": "y2"
        },
        {
         "hovertemplate": "Subject=Biology<br>School=Ind<br>Year=%{x}<br>Count=%{y}<extra></extra>",
         "legendgroup": "Biology",
         "line": {
          "color": "#ab63fa",
          "dash": "solid"
         },
         "marker": {
          "symbol": "circle"
         },
         "mode": "markers+lines",
         "name": "Biology",
         "orientation": "v",
         "showlegend": false,
         "type": "scatter",
         "x": [
          "2022",
          "2021",
          "2020",
          "2019",
          "2018"
         ],
         "xaxis": "x",
         "y": [
          465,
          485,
          430,
          400,
          395
         ],
         "yaxis": "y"
        },
        {
         "hovertemplate": "Subject=Business Management<br>School=State<br>Year=%{x}<br>Count=%{y}<extra></extra>",
         "legendgroup": "Business Management",
         "line": {
          "color": "#FFA15A",
          "dash": "solid"
         },
         "marker": {
          "symbol": "circle"
         },
         "mode": "markers+lines",
         "name": "Business Management",
         "orientation": "v",
         "showlegend": true,
         "type": "scatter",
         "x": [
          "2022",
          "2021",
          "2020",
          "2019",
          "2018"
         ],
         "xaxis": "x2",
         "y": [
          535,
          405,
          360,
          320,
          325
         ],
         "yaxis": "y2"
        },
        {
         "hovertemplate": "Subject=Business Management<br>School=Ind<br>Year=%{x}<br>Count=%{y}<extra></extra>",
         "legendgroup": "Business Management",
         "line": {
          "color": "#FFA15A",
          "dash": "solid"
         },
         "marker": {
          "symbol": "circle"
         },
         "mode": "markers+lines",
         "name": "Business Management",
         "orientation": "v",
         "showlegend": false,
         "type": "scatter",
         "x": [
          "2022",
          "2021",
          "2020",
          "2019",
          "2018"
         ],
         "xaxis": "x",
         "y": [
          240,
          165,
          180,
          120,
          130
         ],
         "yaxis": "y"
        },
        {
         "hovertemplate": "Subject=Chemistry<br>School=State<br>Year=%{x}<br>Count=%{y}<extra></extra>",
         "legendgroup": "Chemistry",
         "line": {
          "color": "#19d3f3",
          "dash": "solid"
         },
         "marker": {
          "symbol": "circle"
         },
         "mode": "markers+lines",
         "name": "Chemistry",
         "orientation": "v",
         "showlegend": true,
         "type": "scatter",
         "x": [
          "2022",
          "2021",
          "2020",
          "2019",
          "2018"
         ],
         "xaxis": "x2",
         "y": [
          2260,
          2165,
          2065,
          1980,
          2100
         ],
         "yaxis": "y2"
        },
        {
         "hovertemplate": "Subject=Chemistry<br>School=Ind<br>Year=%{x}<br>Count=%{y}<extra></extra>",
         "legendgroup": "Chemistry",
         "line": {
          "color": "#19d3f3",
          "dash": "solid"
         },
         "marker": {
          "symbol": "circle"
         },
         "mode": "markers+lines",
         "name": "Chemistry",
         "orientation": "v",
         "showlegend": false,
         "type": "scatter",
         "x": [
          "2022",
          "2021",
          "2020",
          "2019",
          "2018"
         ],
         "xaxis": "x",
         "y": [
          445,
          485,
          450,
          420,
          440
         ],
         "yaxis": "y"
        },
        {
         "hovertemplate": "Subject=Chinese Languages<br>School=State<br>Year=%{x}<br>Count=%{y}<extra></extra>",
         "legendgroup": "Chinese Languages",
         "line": {
          "color": "#FF6692",
          "dash": "solid"
         },
         "marker": {
          "symbol": "circle"
         },
         "mode": "markers+lines",
         "name": "Chinese Languages",
         "orientation": "v",
         "showlegend": true,
         "type": "scatter",
         "x": [
          "2022",
          "2021",
          "2020",
          "2019",
          "2018"
         ],
         "xaxis": "x2",
         "y": [
          25,
          20,
          35,
          20,
          20
         ],
         "yaxis": "y2"
        },
        {
         "hovertemplate": "Subject=Chinese Languages<br>School=Ind<br>Year=%{x}<br>Count=%{y}<extra></extra>",
         "legendgroup": "Chinese Languages",
         "line": {
          "color": "#FF6692",
          "dash": "solid"
         },
         "marker": {
          "symbol": "circle"
         },
         "mode": "markers+lines",
         "name": "Chinese Languages",
         "orientation": "v",
         "showlegend": false,
         "type": "scatter",
         "x": [
          "2022",
          "2021",
          "2020",
          "2019",
          "2018"
         ],
         "xaxis": "x",
         "y": [
          35,
          35,
          20,
          30,
          25
         ],
         "yaxis": "y"
        },
        {
         "hovertemplate": "Subject=Classical Studies<br>School=State<br>Year=%{x}<br>Count=%{y}<extra></extra>",
         "legendgroup": "Classical Studies",
         "line": {
          "color": "#B6E880",
          "dash": "solid"
         },
         "marker": {
          "symbol": "circle"
         },
         "mode": "markers+lines",
         "name": "Classical Studies",
         "orientation": "v",
         "showlegend": true,
         "type": "scatter",
         "x": [
          "2022",
          "2021",
          "2020",
          "2019",
          "2018"
         ],
         "xaxis": "x2",
         "y": [
          5,
          10,
          10,
          5,
          15
         ],
         "yaxis": "y2"
        },
        {
         "hovertemplate": "Subject=Classical Studies<br>School=Ind<br>Year=%{x}<br>Count=%{y}<extra></extra>",
         "legendgroup": "Classical Studies",
         "line": {
          "color": "#B6E880",
          "dash": "solid"
         },
         "marker": {
          "symbol": "circle"
         },
         "mode": "markers+lines",
         "name": "Classical Studies",
         "orientation": "v",
         "showlegend": false,
         "type": "scatter",
         "x": [
          "2022",
          "2021",
          "2020",
          "2019",
          "2018"
         ],
         "xaxis": "x",
         "y": [
          40,
          30,
          20,
          30,
          35
         ],
         "yaxis": "y"
        },
        {
         "hovertemplate": "Subject=Computing Science<br>School=State<br>Year=%{x}<br>Count=%{y}<extra></extra>",
         "legendgroup": "Computing Science",
         "line": {
          "color": "#FF97FF",
          "dash": "solid"
         },
         "marker": {
          "symbol": "circle"
         },
         "mode": "markers+lines",
         "name": "Computing Science",
         "orientation": "v",
         "showlegend": true,
         "type": "scatter",
         "x": [
          "2022",
          "2021",
          "2020",
          "2019",
          "2018"
         ],
         "xaxis": "x2",
         "y": [
          560,
          445,
          375,
          505,
          550
         ],
         "yaxis": "y2"
        },
        {
         "hovertemplate": "Subject=Computing Science<br>School=Ind<br>Year=%{x}<br>Count=%{y}<extra></extra>",
         "legendgroup": "Computing Science",
         "line": {
          "color": "#FF97FF",
          "dash": "solid"
         },
         "marker": {
          "symbol": "circle"
         },
         "mode": "markers+lines",
         "name": "Computing Science",
         "orientation": "v",
         "showlegend": false,
         "type": "scatter",
         "x": [
          "2022",
          "2021",
          "2020",
          "2019",
          "2018"
         ],
         "xaxis": "x",
         "y": [
          125,
          120,
          115,
          110,
          85
         ],
         "yaxis": "y"
        },
        {
         "hovertemplate": "Subject=Design and Manufacture<br>School=State<br>Year=%{x}<br>Count=%{y}<extra></extra>",
         "legendgroup": "Design and Manufacture",
         "line": {
          "color": "#FECB52",
          "dash": "solid"
         },
         "marker": {
          "symbol": "circle"
         },
         "mode": "markers+lines",
         "name": "Design and Manufacture",
         "orientation": "v",
         "showlegend": true,
         "type": "scatter",
         "x": [
          "2022",
          "2021",
          "2020",
          "2019",
          "2018"
         ],
         "xaxis": "x2",
         "y": [
          100,
          105,
          45,
          75,
          70
         ],
         "yaxis": "y2"
        },
        {
         "hovertemplate": "Subject=Design and Manufacture<br>School=Ind<br>Year=%{x}<br>Count=%{y}<extra></extra>",
         "legendgroup": "Design and Manufacture",
         "line": {
          "color": "#FECB52",
          "dash": "solid"
         },
         "marker": {
          "symbol": "circle"
         },
         "mode": "markers+lines",
         "name": "Design and Manufacture",
         "orientation": "v",
         "showlegend": false,
         "type": "scatter",
         "x": [
          "2022",
          "2019",
          "2018"
         ],
         "xaxis": "x",
         "y": [
          15,
          5,
          25
         ],
         "yaxis": "y"
        },
        {
         "hovertemplate": "Subject=Drama<br>School=State<br>Year=%{x}<br>Count=%{y}<extra></extra>",
         "legendgroup": "Drama",
         "line": {
          "color": "#636efa",
          "dash": "solid"
         },
         "marker": {
          "symbol": "circle"
         },
         "mode": "markers+lines",
         "name": "Drama",
         "orientation": "v",
         "showlegend": true,
         "type": "scatter",
         "x": [
          "2022",
          "2021",
          "2020",
          "2019",
          "2018"
         ],
         "xaxis": "x2",
         "y": [
          540,
          485,
          465,
          495,
          440
         ],
         "yaxis": "y2"
        },
        {
         "hovertemplate": "Subject=Drama<br>School=Ind<br>Year=%{x}<br>Count=%{y}<extra></extra>",
         "legendgroup": "Drama",
         "line": {
          "color": "#636efa",
          "dash": "solid"
         },
         "marker": {
          "symbol": "circle"
         },
         "mode": "markers+lines",
         "name": "Drama",
         "orientation": "v",
         "showlegend": false,
         "type": "scatter",
         "x": [
          "2022",
          "2021",
          "2020",
          "2019",
          "2018"
         ],
         "xaxis": "x",
         "y": [
          80,
          85,
          75,
          75,
          70
         ],
         "yaxis": "y"
        },
        {
         "hovertemplate": "Subject=Economics<br>School=State<br>Year=%{x}<br>Count=%{y}<extra></extra>",
         "legendgroup": "Economics",
         "line": {
          "color": "#EF553B",
          "dash": "solid"
         },
         "marker": {
          "symbol": "circle"
         },
         "mode": "markers+lines",
         "name": "Economics",
         "orientation": "v",
         "showlegend": true,
         "type": "scatter",
         "x": [
          "2020",
          "2018"
         ],
         "xaxis": "x2",
         "y": [
          0,
          10
         ],
         "yaxis": "y2"
        },
        {
         "hovertemplate": "Subject=Economics<br>School=Ind<br>Year=%{x}<br>Count=%{y}<extra></extra>",
         "legendgroup": "Economics",
         "line": {
          "color": "#EF553B",
          "dash": "solid"
         },
         "marker": {
          "symbol": "circle"
         },
         "mode": "markers+lines",
         "name": "Economics",
         "orientation": "v",
         "showlegend": false,
         "type": "scatter",
         "x": [
          "2022",
          "2021",
          "2020",
          "2019",
          "2018"
         ],
         "xaxis": "x",
         "y": [
          125,
          75,
          105,
          105,
          85
         ],
         "yaxis": "y"
        },
        {
         "hovertemplate": "Subject=Engineering Science<br>School=State<br>Year=%{x}<br>Count=%{y}<extra></extra>",
         "legendgroup": "Engineering Science",
         "line": {
          "color": "#00cc96",
          "dash": "solid"
         },
         "marker": {
          "symbol": "circle"
         },
         "mode": "markers+lines",
         "name": "Engineering Science",
         "orientation": "v",
         "showlegend": true,
         "type": "scatter",
         "x": [
          "2022",
          "2021",
          "2020",
          "2019",
          "2018"
         ],
         "xaxis": "x2",
         "y": [
          70,
          70,
          35,
          25,
          50
         ],
         "yaxis": "y2"
        },
        {
         "hovertemplate": "Subject=Engineering Science<br>School=Ind<br>Year=%{x}<br>Count=%{y}<extra></extra>",
         "legendgroup": "Engineering Science",
         "line": {
          "color": "#00cc96",
          "dash": "solid"
         },
         "marker": {
          "symbol": "circle"
         },
         "mode": "markers+lines",
         "name": "Engineering Science",
         "orientation": "v",
         "showlegend": false,
         "type": "scatter",
         "x": [
          "2022",
          "2021",
          "2020",
          "2019",
          "2018"
         ],
         "xaxis": "x",
         "y": [
          20,
          20,
          10,
          10,
          10
         ],
         "yaxis": "y"
        },
        {
         "hovertemplate": "Subject=English<br>School=State<br>Year=%{x}<br>Count=%{y}<extra></extra>",
         "legendgroup": "English",
         "line": {
          "color": "#ab63fa",
          "dash": "solid"
         },
         "marker": {
          "symbol": "circle"
         },
         "mode": "markers+lines",
         "name": "English",
         "orientation": "v",
         "showlegend": true,
         "type": "scatter",
         "x": [
          "2022",
          "2021",
          "2020",
          "2019",
          "2018"
         ],
         "xaxis": "x2",
         "y": [
          2430,
          2490,
          1920,
          2050,
          2150
         ],
         "yaxis": "y2"
        },
        {
         "hovertemplate": "Subject=English<br>School=Ind<br>Year=%{x}<br>Count=%{y}<extra></extra>",
         "legendgroup": "English",
         "line": {
          "color": "#ab63fa",
          "dash": "solid"
         },
         "marker": {
          "symbol": "circle"
         },
         "mode": "markers+lines",
         "name": "English",
         "orientation": "v",
         "showlegend": false,
         "type": "scatter",
         "x": [
          "2022",
          "2021",
          "2020",
          "2019",
          "2018"
         ],
         "xaxis": "x",
         "y": [
          325,
          315,
          305,
          285,
          320
         ],
         "yaxis": "y"
        },
        {
         "hovertemplate": "Subject=French<br>School=State<br>Year=%{x}<br>Count=%{y}<extra></extra>",
         "legendgroup": "French",
         "line": {
          "color": "#FFA15A",
          "dash": "solid"
         },
         "marker": {
          "symbol": "circle"
         },
         "mode": "markers+lines",
         "name": "French",
         "orientation": "v",
         "showlegend": true,
         "type": "scatter",
         "x": [
          "2022",
          "2021",
          "2020",
          "2019",
          "2018"
         ],
         "xaxis": "x2",
         "y": [
          400,
          475,
          430,
          460,
          500
         ],
         "yaxis": "y2"
        },
        {
         "hovertemplate": "Subject=French<br>School=Ind<br>Year=%{x}<br>Count=%{y}<extra></extra>",
         "legendgroup": "French",
         "line": {
          "color": "#FFA15A",
          "dash": "solid"
         },
         "marker": {
          "symbol": "circle"
         },
         "mode": "markers+lines",
         "name": "French",
         "orientation": "v",
         "showlegend": false,
         "type": "scatter",
         "x": [
          "2022",
          "2021",
          "2020",
          "2019",
          "2018"
         ],
         "xaxis": "x",
         "y": [
          90,
          95,
          120,
          115,
          125
         ],
         "yaxis": "y"
        },
        {
         "hovertemplate": "Subject=Gaelic (Learners)<br>School=State<br>Year=%{x}<br>Count=%{y}<extra></extra>",
         "legendgroup": "Gaelic (Learners)",
         "line": {
          "color": "#19d3f3",
          "dash": "solid"
         },
         "marker": {
          "symbol": "circle"
         },
         "mode": "markers+lines",
         "name": "Gaelic (Learners)",
         "orientation": "v",
         "showlegend": true,
         "type": "scatter",
         "x": [
          "2022",
          "2021",
          "2020",
          "2019",
          "2018"
         ],
         "xaxis": "x2",
         "y": [
          5,
          10,
          10,
          15,
          10
         ],
         "yaxis": "y2"
        },
        {
         "hovertemplate": "Subject=Geography<br>School=State<br>Year=%{x}<br>Count=%{y}<extra></extra>",
         "legendgroup": "Geography",
         "line": {
          "color": "#FF6692",
          "dash": "solid"
         },
         "marker": {
          "symbol": "circle"
         },
         "mode": "markers+lines",
         "name": "Geography",
         "orientation": "v",
         "showlegend": true,
         "type": "scatter",
         "x": [
          "2022",
          "2021",
          "2020",
          "2019",
          "2018"
         ],
         "xaxis": "x2",
         "y": [
          785,
          620,
          555,
          565,
          615
         ],
         "yaxis": "y2"
        },
        {
         "hovertemplate": "Subject=Geography<br>School=Ind<br>Year=%{x}<br>Count=%{y}<extra></extra>",
         "legendgroup": "Geography",
         "line": {
          "color": "#FF6692",
          "dash": "solid"
         },
         "marker": {
          "symbol": "circle"
         },
         "mode": "markers+lines",
         "name": "Geography",
         "orientation": "v",
         "showlegend": false,
         "type": "scatter",
         "x": [
          "2022",
          "2021",
          "2020",
          "2019",
          "2018"
         ],
         "xaxis": "x",
         "y": [
          230,
          175,
          195,
          145,
          190
         ],
         "yaxis": "y"
        },
        {
         "hovertemplate": "Subject=German<br>School=State<br>Year=%{x}<br>Count=%{y}<extra></extra>",
         "legendgroup": "German",
         "line": {
          "color": "#B6E880",
          "dash": "solid"
         },
         "marker": {
          "symbol": "circle"
         },
         "mode": "markers+lines",
         "name": "German",
         "orientation": "v",
         "showlegend": true,
         "type": "scatter",
         "x": [
          "2022",
          "2021",
          "2020",
          "2019",
          "2018"
         ],
         "xaxis": "x2",
         "y": [
          65,
          100,
          75,
          80,
          90
         ],
         "yaxis": "y2"
        },
        {
         "hovertemplate": "Subject=German<br>School=Ind<br>Year=%{x}<br>Count=%{y}<extra></extra>",
         "legendgroup": "German",
         "line": {
          "color": "#B6E880",
          "dash": "solid"
         },
         "marker": {
          "symbol": "circle"
         },
         "mode": "markers+lines",
         "name": "German",
         "orientation": "v",
         "showlegend": false,
         "type": "scatter",
         "x": [
          "2022",
          "2021",
          "2020",
          "2019",
          "2018"
         ],
         "xaxis": "x",
         "y": [
          40,
          40,
          30,
          50,
          35
         ],
         "yaxis": "y"
        },
        {
         "hovertemplate": "Subject=Graphic Communication<br>School=State<br>Year=%{x}<br>Count=%{y}<extra></extra>",
         "legendgroup": "Graphic Communication",
         "line": {
          "color": "#FF97FF",
          "dash": "solid"
         },
         "marker": {
          "symbol": "circle"
         },
         "mode": "markers+lines",
         "name": "Graphic Communication",
         "orientation": "v",
         "showlegend": true,
         "type": "scatter",
         "x": [
          "2022",
          "2021",
          "2020",
          "2019",
          "2018"
         ],
         "xaxis": "x2",
         "y": [
          445,
          450,
          365,
          495,
          505
         ],
         "yaxis": "y2"
        },
        {
         "hovertemplate": "Subject=Graphic Communication<br>School=Ind<br>Year=%{x}<br>Count=%{y}<extra></extra>",
         "legendgroup": "Graphic Communication",
         "line": {
          "color": "#FF97FF",
          "dash": "solid"
         },
         "marker": {
          "symbol": "circle"
         },
         "mode": "markers+lines",
         "name": "Graphic Communication",
         "orientation": "v",
         "showlegend": false,
         "type": "scatter",
         "x": [
          "2022",
          "2021",
          "2020",
          "2019",
          "2018"
         ],
         "xaxis": "x",
         "y": [
          20,
          10,
          10,
          10,
          20
         ],
         "yaxis": "y"
        },
        {
         "hovertemplate": "Subject=Gàidhlig<br>School=State<br>Year=%{x}<br>Count=%{y}<extra></extra>",
         "legendgroup": "Gàidhlig",
         "line": {
          "color": "#FECB52",
          "dash": "solid"
         },
         "marker": {
          "symbol": "circle"
         },
         "mode": "markers+lines",
         "name": "Gàidhlig",
         "orientation": "v",
         "showlegend": true,
         "type": "scatter",
         "x": [
          "2022",
          "2021",
          "2020",
          "2019",
          "2018"
         ],
         "xaxis": "x2",
         "y": [
          25,
          30,
          45,
          30,
          30
         ],
         "yaxis": "y2"
        },
        {
         "hovertemplate": "Subject=Health and Food Technology<br>School=State<br>Year=%{x}<br>Count=%{y}<extra></extra>",
         "legendgroup": "Health and Food Technology",
         "line": {
          "color": "#636efa",
          "dash": "solid"
         },
         "marker": {
          "symbol": "circle"
         },
         "mode": "markers+lines",
         "name": "Health and Food Technology",
         "orientation": "v",
         "showlegend": true,
         "type": "scatter",
         "x": [
          "2022",
          "2021",
          "2020",
          "2019",
          "2018"
         ],
         "xaxis": "x2",
         "y": [
          60,
          35,
          20,
          15,
          40
         ],
         "yaxis": "y2"
        },
        {
         "hovertemplate": "Subject=Health and Food Technology<br>School=Ind<br>Year=%{x}<br>Count=%{y}<extra></extra>",
         "legendgroup": "Health and Food Technology",
         "line": {
          "color": "#636efa",
          "dash": "solid"
         },
         "marker": {
          "symbol": "circle"
         },
         "mode": "markers+lines",
         "name": "Health and Food Technology",
         "orientation": "v",
         "showlegend": false,
         "type": "scatter",
         "x": [
          "2022",
          "2020",
          "2019"
         ],
         "xaxis": "x",
         "y": [
          5,
          5,
          5
         ],
         "yaxis": "y"
        },
        {
         "hovertemplate": "Subject=History<br>School=State<br>Year=%{x}<br>Count=%{y}<extra></extra>",
         "legendgroup": "History",
         "line": {
          "color": "#EF553B",
          "dash": "solid"
         },
         "marker": {
          "symbol": "circle"
         },
         "mode": "markers+lines",
         "name": "History",
         "orientation": "v",
         "showlegend": true,
         "type": "scatter",
         "x": [
          "2022",
          "2021",
          "2020",
          "2019",
          "2018"
         ],
         "xaxis": "x2",
         "y": [
          1175,
          1210,
          965,
          995,
          1215
         ],
         "yaxis": "y2"
        },
        {
         "hovertemplate": "Subject=History<br>School=Ind<br>Year=%{x}<br>Count=%{y}<extra></extra>",
         "legendgroup": "History",
         "line": {
          "color": "#EF553B",
          "dash": "solid"
         },
         "marker": {
          "symbol": "circle"
         },
         "mode": "markers+lines",
         "name": "History",
         "orientation": "v",
         "showlegend": false,
         "type": "scatter",
         "x": [
          "2022",
          "2021",
          "2020",
          "2019",
          "2018"
         ],
         "xaxis": "x",
         "y": [
          285,
          225,
          240,
          260,
          295
         ],
         "yaxis": "y"
        },
        {
         "hovertemplate": "Subject=Italian<br>School=State<br>Year=%{x}<br>Count=%{y}<extra></extra>",
         "legendgroup": "Italian",
         "line": {
          "color": "#00cc96",
          "dash": "solid"
         },
         "marker": {
          "symbol": "circle"
         },
         "mode": "markers+lines",
         "name": "Italian",
         "orientation": "v",
         "showlegend": true,
         "type": "scatter",
         "x": [
          "2022",
          "2021",
          "2020",
          "2019",
          "2018"
         ],
         "xaxis": "x2",
         "y": [
          15,
          20,
          15,
          20,
          25
         ],
         "yaxis": "y2"
        },
        {
         "hovertemplate": "Subject=Italian<br>School=Ind<br>Year=%{x}<br>Count=%{y}<extra></extra>",
         "legendgroup": "Italian",
         "line": {
          "color": "#00cc96",
          "dash": "solid"
         },
         "marker": {
          "symbol": "circle"
         },
         "mode": "markers+lines",
         "name": "Italian",
         "orientation": "v",
         "showlegend": false,
         "type": "scatter",
         "x": [
          "2022",
          "2021",
          "2020",
          "2019",
          "2018"
         ],
         "xaxis": "x",
         "y": [
          10,
          15,
          10,
          10,
          10
         ],
         "yaxis": "y"
        },
        {
         "hovertemplate": "Subject=Latin<br>School=State<br>Year=%{x}<br>Count=%{y}<extra></extra>",
         "legendgroup": "Latin",
         "line": {
          "color": "#ab63fa",
          "dash": "solid"
         },
         "marker": {
          "symbol": "circle"
         },
         "mode": "markers+lines",
         "name": "Latin",
         "orientation": "v",
         "showlegend": true,
         "type": "scatter",
         "x": [
          "2020",
          "2019",
          "2018"
         ],
         "xaxis": "x2",
         "y": [
          0,
          10,
          10
         ],
         "yaxis": "y2"
        },
        {
         "hovertemplate": "Subject=Latin<br>School=Ind<br>Year=%{x}<br>Count=%{y}<extra></extra>",
         "legendgroup": "Latin",
         "line": {
          "color": "#ab63fa",
          "dash": "solid"
         },
         "marker": {
          "symbol": "circle"
         },
         "mode": "markers+lines",
         "name": "Latin",
         "orientation": "v",
         "showlegend": false,
         "type": "scatter",
         "x": [
          "2022",
          "2021",
          "2020",
          "2019",
          "2018"
         ],
         "xaxis": "x",
         "y": [
          30,
          35,
          35,
          50,
          35
         ],
         "yaxis": "y"
        },
        {
         "hovertemplate": "Subject=Mathematics<br>School=State<br>Year=%{x}<br>Count=%{y}<extra></extra>",
         "legendgroup": "Mathematics",
         "line": {
          "color": "#FFA15A",
          "dash": "solid"
         },
         "marker": {
          "symbol": "circle"
         },
         "mode": "markers+lines",
         "name": "Mathematics",
         "orientation": "v",
         "showlegend": true,
         "type": "scatter",
         "x": [
          "2022",
          "2021",
          "2020",
          "2019",
          "2018"
         ],
         "xaxis": "x2",
         "y": [
          3265,
          3140,
          2955,
          3070,
          3060
         ],
         "yaxis": "y2"
        },
        {
         "hovertemplate": "Subject=Mathematics<br>School=Ind<br>Year=%{x}<br>Count=%{y}<extra></extra>",
         "legendgroup": "Mathematics",
         "line": {
          "color": "#FFA15A",
          "dash": "solid"
         },
         "marker": {
          "symbol": "circle"
         },
         "mode": "markers+lines",
         "name": "Mathematics",
         "orientation": "v",
         "showlegend": false,
         "type": "scatter",
         "x": [
          "2022",
          "2021",
          "2020",
          "2019",
          "2018"
         ],
         "xaxis": "x",
         "y": [
          620,
          605,
          645,
          595,
          580
         ],
         "yaxis": "y"
        },
        {
         "hovertemplate": "Subject=Mathematics of Mechanics<br>School=State<br>Year=%{x}<br>Count=%{y}<extra></extra>",
         "legendgroup": "Mathematics of Mechanics",
         "line": {
          "color": "#19d3f3",
          "dash": "solid"
         },
         "marker": {
          "symbol": "circle"
         },
         "mode": "markers+lines",
         "name": "Mathematics of Mechanics",
         "orientation": "v",
         "showlegend": true,
         "type": "scatter",
         "x": [
          "2022",
          "2021",
          "2020",
          "2019",
          "2018"
         ],
         "xaxis": "x2",
         "y": [
          175,
          200,
          180,
          195,
          190
         ],
         "yaxis": "y2"
        },
        {
         "hovertemplate": "Subject=Mathematics of Mechanics<br>School=Ind<br>Year=%{x}<br>Count=%{y}<extra></extra>",
         "legendgroup": "Mathematics of Mechanics",
         "line": {
          "color": "#19d3f3",
          "dash": "solid"
         },
         "marker": {
          "symbol": "circle"
         },
         "mode": "markers+lines",
         "name": "Mathematics of Mechanics",
         "orientation": "v",
         "showlegend": false,
         "type": "scatter",
         "x": [
          "2022",
          "2021",
          "2020",
          "2019",
          "2018"
         ],
         "xaxis": "x",
         "y": [
          100,
          110,
          135,
          95,
          115
         ],
         "yaxis": "y"
        },
        {
         "hovertemplate": "Subject=Modern Studies<br>School=State<br>Year=%{x}<br>Count=%{y}<extra></extra>",
         "legendgroup": "Modern Studies",
         "line": {
          "color": "#FF6692",
          "dash": "solid"
         },
         "marker": {
          "symbol": "circle"
         },
         "mode": "markers+lines",
         "name": "Modern Studies",
         "orientation": "v",
         "showlegend": true,
         "type": "scatter",
         "x": [
          "2022",
          "2021",
          "2020",
          "2019",
          "2018"
         ],
         "xaxis": "x2",
         "y": [
          960,
          855,
          680,
          630,
          655
         ],
         "yaxis": "y2"
        },
        {
         "hovertemplate": "Subject=Modern Studies<br>School=Ind<br>Year=%{x}<br>Count=%{y}<extra></extra>",
         "legendgroup": "Modern Studies",
         "line": {
          "color": "#FF6692",
          "dash": "solid"
         },
         "marker": {
          "symbol": "circle"
         },
         "mode": "markers+lines",
         "name": "Modern Studies",
         "orientation": "v",
         "showlegend": false,
         "type": "scatter",
         "x": [
          "2022",
          "2021",
          "2020",
          "2019",
          "2018"
         ],
         "xaxis": "x",
         "y": [
          200,
          205,
          195,
          160,
          175
         ],
         "yaxis": "y"
        },
        {
         "hovertemplate": "Subject=Music<br>School=State<br>Year=%{x}<br>Count=%{y}<extra></extra>",
         "legendgroup": "Music",
         "line": {
          "color": "#B6E880",
          "dash": "solid"
         },
         "marker": {
          "symbol": "circle"
         },
         "mode": "markers+lines",
         "name": "Music",
         "orientation": "v",
         "showlegend": true,
         "type": "scatter",
         "x": [
          "2022",
          "2021",
          "2020",
          "2019",
          "2018"
         ],
         "xaxis": "x2",
         "y": [
          1630,
          1740,
          1525,
          1570,
          1570
         ],
         "yaxis": "y2"
        },
        {
         "hovertemplate": "Subject=Music<br>School=Ind<br>Year=%{x}<br>Count=%{y}<extra></extra>",
         "legendgroup": "Music",
         "line": {
          "color": "#B6E880",
          "dash": "solid"
         },
         "marker": {
          "symbol": "circle"
         },
         "mode": "markers+lines",
         "name": "Music",
         "orientation": "v",
         "showlegend": false,
         "type": "scatter",
         "x": [
          "2022",
          "2021",
          "2020",
          "2019",
          "2018"
         ],
         "xaxis": "x",
         "y": [
          125,
          125,
          120,
          130,
          140
         ],
         "yaxis": "y"
        },
        {
         "hovertemplate": "Subject=Music Technology<br>School=State<br>Year=%{x}<br>Count=%{y}<extra></extra>",
         "legendgroup": "Music Technology",
         "line": {
          "color": "#FF97FF",
          "dash": "solid"
         },
         "marker": {
          "symbol": "circle"
         },
         "mode": "markers+lines",
         "name": "Music Technology",
         "orientation": "v",
         "showlegend": true,
         "type": "scatter",
         "x": [
          "2022",
          "2021",
          "2020"
         ],
         "xaxis": "x2",
         "y": [
          55,
          50,
          30
         ],
         "yaxis": "y2"
        },
        {
         "hovertemplate": "Subject=Music: Portfolio<br>School=State<br>Year=%{x}<br>Count=%{y}<extra></extra>",
         "legendgroup": "Music: Portfolio",
         "line": {
          "color": "#FECB52",
          "dash": "solid"
         },
         "marker": {
          "symbol": "circle"
         },
         "mode": "markers+lines",
         "name": "Music: Portfolio",
         "orientation": "v",
         "showlegend": true,
         "type": "scatter",
         "x": [
          "2022",
          "2021",
          "2020",
          "2019",
          "2018"
         ],
         "xaxis": "x2",
         "y": [
          10,
          15,
          20,
          5,
          10
         ],
         "yaxis": "y2"
        },
        {
         "hovertemplate": "Subject=Physical Education<br>School=State<br>Year=%{x}<br>Count=%{y}<extra></extra>",
         "legendgroup": "Physical Education",
         "line": {
          "color": "#636efa",
          "dash": "solid"
         },
         "marker": {
          "symbol": "circle"
         },
         "mode": "markers+lines",
         "name": "Physical Education",
         "orientation": "v",
         "showlegend": true,
         "type": "scatter",
         "x": [
          "2022",
          "2021",
          "2020",
          "2019",
          "2018"
         ],
         "xaxis": "x2",
         "y": [
          925,
          715,
          450,
          450,
          380
         ],
         "yaxis": "y2"
        },
        {
         "hovertemplate": "Subject=Physical Education<br>School=Ind<br>Year=%{x}<br>Count=%{y}<extra></extra>",
         "legendgroup": "Physical Education",
         "line": {
          "color": "#636efa",
          "dash": "solid"
         },
         "marker": {
          "symbol": "circle"
         },
         "mode": "markers+lines",
         "name": "Physical Education",
         "orientation": "v",
         "showlegend": false,
         "type": "scatter",
         "x": [
          "2022",
          "2021",
          "2020",
          "2019",
          "2018"
         ],
         "xaxis": "x",
         "y": [
          125,
          95,
          65,
          50,
          50
         ],
         "yaxis": "y"
        },
        {
         "hovertemplate": "Subject=Physics<br>School=State<br>Year=%{x}<br>Count=%{y}<extra></extra>",
         "legendgroup": "Physics",
         "line": {
          "color": "#EF553B",
          "dash": "solid"
         },
         "marker": {
          "symbol": "circle"
         },
         "mode": "markers+lines",
         "name": "Physics",
         "orientation": "v",
         "showlegend": true,
         "type": "scatter",
         "x": [
          "2022",
          "2021",
          "2020",
          "2019",
          "2018"
         ],
         "xaxis": "x2",
         "y": [
          1815,
          1615,
          1405,
          1405,
          1610
         ],
         "yaxis": "y2"
        },
        {
         "hovertemplate": "Subject=Physics<br>School=Ind<br>Year=%{x}<br>Count=%{y}<extra></extra>",
         "legendgroup": "Physics",
         "line": {
          "color": "#EF553B",
          "dash": "solid"
         },
         "marker": {
          "symbol": "circle"
         },
         "mode": "markers+lines",
         "name": "Physics",
         "orientation": "v",
         "showlegend": false,
         "type": "scatter",
         "x": [
          "2022",
          "2021",
          "2020",
          "2019",
          "2018"
         ],
         "xaxis": "x",
         "y": [
          290,
          295,
          280,
          215,
          265
         ],
         "yaxis": "y"
        },
        {
         "hovertemplate": "Subject=Religious, Moral and Philosophical Studies<br>School=State<br>Year=%{x}<br>Count=%{y}<extra></extra>",
         "legendgroup": "Religious, Moral and Philosophical Studies",
         "line": {
          "color": "#00cc96",
          "dash": "solid"
         },
         "marker": {
          "symbol": "circle"
         },
         "mode": "markers+lines",
         "name": "Religious, Moral and Philosophical Studies",
         "orientation": "v",
         "showlegend": true,
         "type": "scatter",
         "x": [
          "2022",
          "2021",
          "2020",
          "2019",
          "2018"
         ],
         "xaxis": "x2",
         "y": [
          150,
          145,
          85,
          100,
          100
         ],
         "yaxis": "y2"
        },
        {
         "hovertemplate": "Subject=Religious, Moral and Philosophical Studies<br>School=Ind<br>Year=%{x}<br>Count=%{y}<extra></extra>",
         "legendgroup": "Religious, Moral and Philosophical Studies",
         "line": {
          "color": "#00cc96",
          "dash": "solid"
         },
         "marker": {
          "symbol": "circle"
         },
         "mode": "markers+lines",
         "name": "Religious, Moral and Philosophical Studies",
         "orientation": "v",
         "showlegend": false,
         "type": "scatter",
         "x": [
          "2022",
          "2021",
          "2020",
          "2019",
          "2018"
         ],
         "xaxis": "x",
         "y": [
          100,
          95,
          95,
          75,
          60
         ],
         "yaxis": "y"
        },
        {
         "hovertemplate": "Subject=Spanish<br>School=State<br>Year=%{x}<br>Count=%{y}<extra></extra>",
         "legendgroup": "Spanish",
         "line": {
          "color": "#ab63fa",
          "dash": "solid"
         },
         "marker": {
          "symbol": "circle"
         },
         "mode": "markers+lines",
         "name": "Spanish",
         "orientation": "v",
         "showlegend": true,
         "type": "scatter",
         "x": [
          "2022",
          "2021",
          "2020",
          "2019",
          "2018"
         ],
         "xaxis": "x2",
         "y": [
          370,
          355,
          360,
          360,
          360
         ],
         "yaxis": "y2"
        },
        {
         "hovertemplate": "Subject=Spanish<br>School=Ind<br>Year=%{x}<br>Count=%{y}<extra></extra>",
         "legendgroup": "Spanish",
         "line": {
          "color": "#ab63fa",
          "dash": "solid"
         },
         "marker": {
          "symbol": "circle"
         },
         "mode": "markers+lines",
         "name": "Spanish",
         "orientation": "v",
         "showlegend": false,
         "type": "scatter",
         "x": [
          "2022",
          "2021",
          "2020",
          "2019",
          "2018"
         ],
         "xaxis": "x",
         "y": [
          90,
          85,
          80,
          95,
          95
         ],
         "yaxis": "y"
        },
        {
         "hovertemplate": "Subject=Statistics<br>School=State<br>Year=%{x}<br>Count=%{y}<extra></extra>",
         "legendgroup": "Statistics",
         "line": {
          "color": "#FFA15A",
          "dash": "solid"
         },
         "marker": {
          "symbol": "circle"
         },
         "mode": "markers+lines",
         "name": "Statistics",
         "orientation": "v",
         "showlegend": true,
         "type": "scatter",
         "x": [
          "2022",
          "2021",
          "2020",
          "2019",
          "2018"
         ],
         "xaxis": "x2",
         "y": [
          45,
          80,
          90,
          100,
          90
         ],
         "yaxis": "y2"
        },
        {
         "hovertemplate": "Subject=Statistics<br>School=Ind<br>Year=%{x}<br>Count=%{y}<extra></extra>",
         "legendgroup": "Statistics",
         "line": {
          "color": "#FFA15A",
          "dash": "solid"
         },
         "marker": {
          "symbol": "circle"
         },
         "mode": "markers+lines",
         "name": "Statistics",
         "orientation": "v",
         "showlegend": false,
         "type": "scatter",
         "x": [
          "2022",
          "2021",
          "2020",
          "2019",
          "2018"
         ],
         "xaxis": "x",
         "y": [
          95,
          125,
          90,
          110,
          95
         ],
         "yaxis": "y"
        }
       ],
       "layout": {
        "annotations": [
         {
          "font": {},
          "showarrow": false,
          "text": "School=Ind",
          "textangle": 90,
          "x": 0.98,
          "xanchor": "left",
          "xref": "paper",
          "y": 0.2425,
          "yanchor": "middle",
          "yref": "paper"
         },
         {
          "font": {},
          "showarrow": false,
          "text": "School=State",
          "textangle": 90,
          "x": 0.98,
          "xanchor": "left",
          "xref": "paper",
          "y": 0.7575000000000001,
          "yanchor": "middle",
          "yref": "paper"
         }
        ],
        "height": 1150,
        "legend": {
         "title": {
          "text": "Subject"
         },
         "tracegroupgap": 0
        },
        "template": {
         "data": {
          "bar": [
           {
            "error_x": {
             "color": "#2a3f5f"
            },
            "error_y": {
             "color": "#2a3f5f"
            },
            "marker": {
             "line": {
              "color": "#E5ECF6",
              "width": 0.5
             },
             "pattern": {
              "fillmode": "overlay",
              "size": 10,
              "solidity": 0.2
             }
            },
            "type": "bar"
           }
          ],
          "barpolar": [
           {
            "marker": {
             "line": {
              "color": "#E5ECF6",
              "width": 0.5
             },
             "pattern": {
              "fillmode": "overlay",
              "size": 10,
              "solidity": 0.2
             }
            },
            "type": "barpolar"
           }
          ],
          "carpet": [
           {
            "aaxis": {
             "endlinecolor": "#2a3f5f",
             "gridcolor": "white",
             "linecolor": "white",
             "minorgridcolor": "white",
             "startlinecolor": "#2a3f5f"
            },
            "baxis": {
             "endlinecolor": "#2a3f5f",
             "gridcolor": "white",
             "linecolor": "white",
             "minorgridcolor": "white",
             "startlinecolor": "#2a3f5f"
            },
            "type": "carpet"
           }
          ],
          "choropleth": [
           {
            "colorbar": {
             "outlinewidth": 0,
             "ticks": ""
            },
            "type": "choropleth"
           }
          ],
          "contour": [
           {
            "colorbar": {
             "outlinewidth": 0,
             "ticks": ""
            },
            "colorscale": [
             [
              0,
              "#0d0887"
             ],
             [
              0.1111111111111111,
              "#46039f"
             ],
             [
              0.2222222222222222,
              "#7201a8"
             ],
             [
              0.3333333333333333,
              "#9c179e"
             ],
             [
              0.4444444444444444,
              "#bd3786"
             ],
             [
              0.5555555555555556,
              "#d8576b"
             ],
             [
              0.6666666666666666,
              "#ed7953"
             ],
             [
              0.7777777777777778,
              "#fb9f3a"
             ],
             [
              0.8888888888888888,
              "#fdca26"
             ],
             [
              1,
              "#f0f921"
             ]
            ],
            "type": "contour"
           }
          ],
          "contourcarpet": [
           {
            "colorbar": {
             "outlinewidth": 0,
             "ticks": ""
            },
            "type": "contourcarpet"
           }
          ],
          "heatmap": [
           {
            "colorbar": {
             "outlinewidth": 0,
             "ticks": ""
            },
            "colorscale": [
             [
              0,
              "#0d0887"
             ],
             [
              0.1111111111111111,
              "#46039f"
             ],
             [
              0.2222222222222222,
              "#7201a8"
             ],
             [
              0.3333333333333333,
              "#9c179e"
             ],
             [
              0.4444444444444444,
              "#bd3786"
             ],
             [
              0.5555555555555556,
              "#d8576b"
             ],
             [
              0.6666666666666666,
              "#ed7953"
             ],
             [
              0.7777777777777778,
              "#fb9f3a"
             ],
             [
              0.8888888888888888,
              "#fdca26"
             ],
             [
              1,
              "#f0f921"
             ]
            ],
            "type": "heatmap"
           }
          ],
          "heatmapgl": [
           {
            "colorbar": {
             "outlinewidth": 0,
             "ticks": ""
            },
            "colorscale": [
             [
              0,
              "#0d0887"
             ],
             [
              0.1111111111111111,
              "#46039f"
             ],
             [
              0.2222222222222222,
              "#7201a8"
             ],
             [
              0.3333333333333333,
              "#9c179e"
             ],
             [
              0.4444444444444444,
              "#bd3786"
             ],
             [
              0.5555555555555556,
              "#d8576b"
             ],
             [
              0.6666666666666666,
              "#ed7953"
             ],
             [
              0.7777777777777778,
              "#fb9f3a"
             ],
             [
              0.8888888888888888,
              "#fdca26"
             ],
             [
              1,
              "#f0f921"
             ]
            ],
            "type": "heatmapgl"
           }
          ],
          "histogram": [
           {
            "marker": {
             "pattern": {
              "fillmode": "overlay",
              "size": 10,
              "solidity": 0.2
             }
            },
            "type": "histogram"
           }
          ],
          "histogram2d": [
           {
            "colorbar": {
             "outlinewidth": 0,
             "ticks": ""
            },
            "colorscale": [
             [
              0,
              "#0d0887"
             ],
             [
              0.1111111111111111,
              "#46039f"
             ],
             [
              0.2222222222222222,
              "#7201a8"
             ],
             [
              0.3333333333333333,
              "#9c179e"
             ],
             [
              0.4444444444444444,
              "#bd3786"
             ],
             [
              0.5555555555555556,
              "#d8576b"
             ],
             [
              0.6666666666666666,
              "#ed7953"
             ],
             [
              0.7777777777777778,
              "#fb9f3a"
             ],
             [
              0.8888888888888888,
              "#fdca26"
             ],
             [
              1,
              "#f0f921"
             ]
            ],
            "type": "histogram2d"
           }
          ],
          "histogram2dcontour": [
           {
            "colorbar": {
             "outlinewidth": 0,
             "ticks": ""
            },
            "colorscale": [
             [
              0,
              "#0d0887"
             ],
             [
              0.1111111111111111,
              "#46039f"
             ],
             [
              0.2222222222222222,
              "#7201a8"
             ],
             [
              0.3333333333333333,
              "#9c179e"
             ],
             [
              0.4444444444444444,
              "#bd3786"
             ],
             [
              0.5555555555555556,
              "#d8576b"
             ],
             [
              0.6666666666666666,
              "#ed7953"
             ],
             [
              0.7777777777777778,
              "#fb9f3a"
             ],
             [
              0.8888888888888888,
              "#fdca26"
             ],
             [
              1,
              "#f0f921"
             ]
            ],
            "type": "histogram2dcontour"
           }
          ],
          "mesh3d": [
           {
            "colorbar": {
             "outlinewidth": 0,
             "ticks": ""
            },
            "type": "mesh3d"
           }
          ],
          "parcoords": [
           {
            "line": {
             "colorbar": {
              "outlinewidth": 0,
              "ticks": ""
             }
            },
            "type": "parcoords"
           }
          ],
          "pie": [
           {
            "automargin": true,
            "type": "pie"
           }
          ],
          "scatter": [
           {
            "marker": {
             "colorbar": {
              "outlinewidth": 0,
              "ticks": ""
             }
            },
            "type": "scatter"
           }
          ],
          "scatter3d": [
           {
            "line": {
             "colorbar": {
              "outlinewidth": 0,
              "ticks": ""
             }
            },
            "marker": {
             "colorbar": {
              "outlinewidth": 0,
              "ticks": ""
             }
            },
            "type": "scatter3d"
           }
          ],
          "scattercarpet": [
           {
            "marker": {
             "colorbar": {
              "outlinewidth": 0,
              "ticks": ""
             }
            },
            "type": "scattercarpet"
           }
          ],
          "scattergeo": [
           {
            "marker": {
             "colorbar": {
              "outlinewidth": 0,
              "ticks": ""
             }
            },
            "type": "scattergeo"
           }
          ],
          "scattergl": [
           {
            "marker": {
             "colorbar": {
              "outlinewidth": 0,
              "ticks": ""
             }
            },
            "type": "scattergl"
           }
          ],
          "scattermapbox": [
           {
            "marker": {
             "colorbar": {
              "outlinewidth": 0,
              "ticks": ""
             }
            },
            "type": "scattermapbox"
           }
          ],
          "scatterpolar": [
           {
            "marker": {
             "colorbar": {
              "outlinewidth": 0,
              "ticks": ""
             }
            },
            "type": "scatterpolar"
           }
          ],
          "scatterpolargl": [
           {
            "marker": {
             "colorbar": {
              "outlinewidth": 0,
              "ticks": ""
             }
            },
            "type": "scatterpolargl"
           }
          ],
          "scatterternary": [
           {
            "marker": {
             "colorbar": {
              "outlinewidth": 0,
              "ticks": ""
             }
            },
            "type": "scatterternary"
           }
          ],
          "surface": [
           {
            "colorbar": {
             "outlinewidth": 0,
             "ticks": ""
            },
            "colorscale": [
             [
              0,
              "#0d0887"
             ],
             [
              0.1111111111111111,
              "#46039f"
             ],
             [
              0.2222222222222222,
              "#7201a8"
             ],
             [
              0.3333333333333333,
              "#9c179e"
             ],
             [
              0.4444444444444444,
              "#bd3786"
             ],
             [
              0.5555555555555556,
              "#d8576b"
             ],
             [
              0.6666666666666666,
              "#ed7953"
             ],
             [
              0.7777777777777778,
              "#fb9f3a"
             ],
             [
              0.8888888888888888,
              "#fdca26"
             ],
             [
              1,
              "#f0f921"
             ]
            ],
            "type": "surface"
           }
          ],
          "table": [
           {
            "cells": {
             "fill": {
              "color": "#EBF0F8"
             },
             "line": {
              "color": "white"
             }
            },
            "header": {
             "fill": {
              "color": "#C8D4E3"
             },
             "line": {
              "color": "white"
             }
            },
            "type": "table"
           }
          ]
         },
         "layout": {
          "annotationdefaults": {
           "arrowcolor": "#2a3f5f",
           "arrowhead": 0,
           "arrowwidth": 1
          },
          "autotypenumbers": "strict",
          "coloraxis": {
           "colorbar": {
            "outlinewidth": 0,
            "ticks": ""
           }
          },
          "colorscale": {
           "diverging": [
            [
             0,
             "#8e0152"
            ],
            [
             0.1,
             "#c51b7d"
            ],
            [
             0.2,
             "#de77ae"
            ],
            [
             0.3,
             "#f1b6da"
            ],
            [
             0.4,
             "#fde0ef"
            ],
            [
             0.5,
             "#f7f7f7"
            ],
            [
             0.6,
             "#e6f5d0"
            ],
            [
             0.7,
             "#b8e186"
            ],
            [
             0.8,
             "#7fbc41"
            ],
            [
             0.9,
             "#4d9221"
            ],
            [
             1,
             "#276419"
            ]
           ],
           "sequential": [
            [
             0,
             "#0d0887"
            ],
            [
             0.1111111111111111,
             "#46039f"
            ],
            [
             0.2222222222222222,
             "#7201a8"
            ],
            [
             0.3333333333333333,
             "#9c179e"
            ],
            [
             0.4444444444444444,
             "#bd3786"
            ],
            [
             0.5555555555555556,
             "#d8576b"
            ],
            [
             0.6666666666666666,
             "#ed7953"
            ],
            [
             0.7777777777777778,
             "#fb9f3a"
            ],
            [
             0.8888888888888888,
             "#fdca26"
            ],
            [
             1,
             "#f0f921"
            ]
           ],
           "sequentialminus": [
            [
             0,
             "#0d0887"
            ],
            [
             0.1111111111111111,
             "#46039f"
            ],
            [
             0.2222222222222222,
             "#7201a8"
            ],
            [
             0.3333333333333333,
             "#9c179e"
            ],
            [
             0.4444444444444444,
             "#bd3786"
            ],
            [
             0.5555555555555556,
             "#d8576b"
            ],
            [
             0.6666666666666666,
             "#ed7953"
            ],
            [
             0.7777777777777778,
             "#fb9f3a"
            ],
            [
             0.8888888888888888,
             "#fdca26"
            ],
            [
             1,
             "#f0f921"
            ]
           ]
          },
          "colorway": [
           "#636efa",
           "#EF553B",
           "#00cc96",
           "#ab63fa",
           "#FFA15A",
           "#19d3f3",
           "#FF6692",
           "#B6E880",
           "#FF97FF",
           "#FECB52"
          ],
          "font": {
           "color": "#2a3f5f"
          },
          "geo": {
           "bgcolor": "white",
           "lakecolor": "white",
           "landcolor": "#E5ECF6",
           "showlakes": true,
           "showland": true,
           "subunitcolor": "white"
          },
          "hoverlabel": {
           "align": "left"
          },
          "hovermode": "closest",
          "mapbox": {
           "style": "light"
          },
          "paper_bgcolor": "white",
          "plot_bgcolor": "#E5ECF6",
          "polar": {
           "angularaxis": {
            "gridcolor": "white",
            "linecolor": "white",
            "ticks": ""
           },
           "bgcolor": "#E5ECF6",
           "radialaxis": {
            "gridcolor": "white",
            "linecolor": "white",
            "ticks": ""
           }
          },
          "scene": {
           "xaxis": {
            "backgroundcolor": "#E5ECF6",
            "gridcolor": "white",
            "gridwidth": 2,
            "linecolor": "white",
            "showbackground": true,
            "ticks": "",
            "zerolinecolor": "white"
           },
           "yaxis": {
            "backgroundcolor": "#E5ECF6",
            "gridcolor": "white",
            "gridwidth": 2,
            "linecolor": "white",
            "showbackground": true,
            "ticks": "",
            "zerolinecolor": "white"
           },
           "zaxis": {
            "backgroundcolor": "#E5ECF6",
            "gridcolor": "white",
            "gridwidth": 2,
            "linecolor": "white",
            "showbackground": true,
            "ticks": "",
            "zerolinecolor": "white"
           }
          },
          "shapedefaults": {
           "line": {
            "color": "#2a3f5f"
           }
          },
          "ternary": {
           "aaxis": {
            "gridcolor": "white",
            "linecolor": "white",
            "ticks": ""
           },
           "baxis": {
            "gridcolor": "white",
            "linecolor": "white",
            "ticks": ""
           },
           "bgcolor": "#E5ECF6",
           "caxis": {
            "gridcolor": "white",
            "linecolor": "white",
            "ticks": ""
           }
          },
          "title": {
           "x": 0.05
          },
          "xaxis": {
           "automargin": true,
           "gridcolor": "white",
           "linecolor": "white",
           "ticks": "",
           "title": {
            "standoff": 15
           },
           "zerolinecolor": "white",
           "zerolinewidth": 2
          },
          "yaxis": {
           "automargin": true,
           "gridcolor": "white",
           "linecolor": "white",
           "ticks": "",
           "title": {
            "standoff": 15
           },
           "zerolinecolor": "white",
           "zerolinewidth": 2
          }
         }
        },
        "title": {
         "text": "Entries per subject from 2018 - 2022 at Advanced Higher"
        },
        "width": 800,
        "xaxis": {
         "anchor": "y",
         "categoryarray": [
          "2018",
          "2019",
          "2020",
          "2021",
          "2022"
         ],
         "categoryorder": "array",
         "domain": [
          0,
          0.98
         ],
         "title": {
          "text": "Year"
         }
        },
        "xaxis2": {
         "anchor": "y2",
         "domain": [
          0,
          0.98
         ],
         "matches": "x",
         "showticklabels": false
        },
        "yaxis": {
         "anchor": "x",
         "domain": [
          0,
          0.485
         ],
         "rangemode": "tozero",
         "title": {
          "text": "Count"
         }
        },
        "yaxis2": {
         "anchor": "x2",
         "domain": [
          0.515,
          1
         ],
         "rangemode": "tozero",
         "title": {
          "text": "Count"
         }
        }
       }
      },
      "text/html": [
       "<div>                            <div id=\"f6054fb4-6976-4816-a3bf-9cee7d8851aa\" class=\"plotly-graph-div\" style=\"height:1150px; width:800px;\"></div>            <script type=\"text/javascript\">                require([\"plotly\"], function(Plotly) {                    window.PLOTLYENV=window.PLOTLYENV || {};                                    if (document.getElementById(\"f6054fb4-6976-4816-a3bf-9cee7d8851aa\")) {                    Plotly.newPlot(                        \"f6054fb4-6976-4816-a3bf-9cee7d8851aa\",                        [{\"hovertemplate\":\"Subject=Accounting<br>School=State<br>Year=%{x}<br>Count=%{y}<extra></extra>\",\"legendgroup\":\"Accounting\",\"line\":{\"color\":\"#636efa\",\"dash\":\"solid\"},\"marker\":{\"symbol\":\"circle\"},\"mode\":\"markers+lines\",\"name\":\"Accounting\",\"orientation\":\"v\",\"showlegend\":true,\"x\":[\"2022\",\"2021\",\"2020\",\"2019\",\"2018\"],\"xaxis\":\"x2\",\"y\":[45.0,50.0,45.0,45.0,40.0],\"yaxis\":\"y2\",\"type\":\"scatter\"},{\"hovertemplate\":\"Subject=Accounting<br>School=Ind<br>Year=%{x}<br>Count=%{y}<extra></extra>\",\"legendgroup\":\"Accounting\",\"line\":{\"color\":\"#636efa\",\"dash\":\"solid\"},\"marker\":{\"symbol\":\"circle\"},\"mode\":\"markers+lines\",\"name\":\"Accounting\",\"orientation\":\"v\",\"showlegend\":false,\"x\":[\"2022\",\"2021\",\"2020\",\"2019\",\"2018\"],\"xaxis\":\"x\",\"y\":[15.0,25.0,20.0,20.0,15.0],\"yaxis\":\"y\",\"type\":\"scatter\"},{\"hovertemplate\":\"Subject=Art and Design (Design)<br>School=State<br>Year=%{x}<br>Count=%{y}<extra></extra>\",\"legendgroup\":\"Art and Design (Design)\",\"line\":{\"color\":\"#EF553B\",\"dash\":\"solid\"},\"marker\":{\"symbol\":\"circle\"},\"mode\":\"markers+lines\",\"name\":\"Art and Design (Design)\",\"orientation\":\"v\",\"showlegend\":true,\"x\":[\"2022\",\"2021\",\"2020\",\"2019\",\"2018\"],\"xaxis\":\"x2\",\"y\":[605.0,590.0,495.0,460.0,490.0],\"yaxis\":\"y2\",\"type\":\"scatter\"},{\"hovertemplate\":\"Subject=Art and Design (Design)<br>School=Ind<br>Year=%{x}<br>Count=%{y}<extra></extra>\",\"legendgroup\":\"Art and Design (Design)\",\"line\":{\"color\":\"#EF553B\",\"dash\":\"solid\"},\"marker\":{\"symbol\":\"circle\"},\"mode\":\"markers+lines\",\"name\":\"Art and Design (Design)\",\"orientation\":\"v\",\"showlegend\":false,\"x\":[\"2022\",\"2021\",\"2020\",\"2019\",\"2018\"],\"xaxis\":\"x\",\"y\":[60.0,45.0,45.0,45.0,50.0],\"yaxis\":\"y\",\"type\":\"scatter\"},{\"hovertemplate\":\"Subject=Art and Design (Expressive)<br>School=State<br>Year=%{x}<br>Count=%{y}<extra></extra>\",\"legendgroup\":\"Art and Design (Expressive)\",\"line\":{\"color\":\"#00cc96\",\"dash\":\"solid\"},\"marker\":{\"symbol\":\"circle\"},\"mode\":\"markers+lines\",\"name\":\"Art and Design (Expressive)\",\"orientation\":\"v\",\"showlegend\":true,\"x\":[\"2022\",\"2021\",\"2020\",\"2019\",\"2018\"],\"xaxis\":\"x2\",\"y\":[1185.0,1080.0,925.0,870.0,850.0],\"yaxis\":\"y2\",\"type\":\"scatter\"},{\"hovertemplate\":\"Subject=Art and Design (Expressive)<br>School=Ind<br>Year=%{x}<br>Count=%{y}<extra></extra>\",\"legendgroup\":\"Art and Design (Expressive)\",\"line\":{\"color\":\"#00cc96\",\"dash\":\"solid\"},\"marker\":{\"symbol\":\"circle\"},\"mode\":\"markers+lines\",\"name\":\"Art and Design (Expressive)\",\"orientation\":\"v\",\"showlegend\":false,\"x\":[\"2022\",\"2021\",\"2020\",\"2019\",\"2018\"],\"xaxis\":\"x\",\"y\":[95.0,85.0,95.0,65.0,70.0],\"yaxis\":\"y\",\"type\":\"scatter\"},{\"hovertemplate\":\"Subject=Biology<br>School=State<br>Year=%{x}<br>Count=%{y}<extra></extra>\",\"legendgroup\":\"Biology\",\"line\":{\"color\":\"#ab63fa\",\"dash\":\"solid\"},\"marker\":{\"symbol\":\"circle\"},\"mode\":\"markers+lines\",\"name\":\"Biology\",\"orientation\":\"v\",\"showlegend\":true,\"x\":[\"2022\",\"2021\",\"2020\",\"2019\",\"2018\"],\"xaxis\":\"x2\",\"y\":[2675.0,2460.0,2050.0,1880.0,1885.0],\"yaxis\":\"y2\",\"type\":\"scatter\"},{\"hovertemplate\":\"Subject=Biology<br>School=Ind<br>Year=%{x}<br>Count=%{y}<extra></extra>\",\"legendgroup\":\"Biology\",\"line\":{\"color\":\"#ab63fa\",\"dash\":\"solid\"},\"marker\":{\"symbol\":\"circle\"},\"mode\":\"markers+lines\",\"name\":\"Biology\",\"orientation\":\"v\",\"showlegend\":false,\"x\":[\"2022\",\"2021\",\"2020\",\"2019\",\"2018\"],\"xaxis\":\"x\",\"y\":[465.0,485.0,430.0,400.0,395.0],\"yaxis\":\"y\",\"type\":\"scatter\"},{\"hovertemplate\":\"Subject=Business Management<br>School=State<br>Year=%{x}<br>Count=%{y}<extra></extra>\",\"legendgroup\":\"Business Management\",\"line\":{\"color\":\"#FFA15A\",\"dash\":\"solid\"},\"marker\":{\"symbol\":\"circle\"},\"mode\":\"markers+lines\",\"name\":\"Business Management\",\"orientation\":\"v\",\"showlegend\":true,\"x\":[\"2022\",\"2021\",\"2020\",\"2019\",\"2018\"],\"xaxis\":\"x2\",\"y\":[535.0,405.0,360.0,320.0,325.0],\"yaxis\":\"y2\",\"type\":\"scatter\"},{\"hovertemplate\":\"Subject=Business Management<br>School=Ind<br>Year=%{x}<br>Count=%{y}<extra></extra>\",\"legendgroup\":\"Business Management\",\"line\":{\"color\":\"#FFA15A\",\"dash\":\"solid\"},\"marker\":{\"symbol\":\"circle\"},\"mode\":\"markers+lines\",\"name\":\"Business Management\",\"orientation\":\"v\",\"showlegend\":false,\"x\":[\"2022\",\"2021\",\"2020\",\"2019\",\"2018\"],\"xaxis\":\"x\",\"y\":[240.0,165.0,180.0,120.0,130.0],\"yaxis\":\"y\",\"type\":\"scatter\"},{\"hovertemplate\":\"Subject=Chemistry<br>School=State<br>Year=%{x}<br>Count=%{y}<extra></extra>\",\"legendgroup\":\"Chemistry\",\"line\":{\"color\":\"#19d3f3\",\"dash\":\"solid\"},\"marker\":{\"symbol\":\"circle\"},\"mode\":\"markers+lines\",\"name\":\"Chemistry\",\"orientation\":\"v\",\"showlegend\":true,\"x\":[\"2022\",\"2021\",\"2020\",\"2019\",\"2018\"],\"xaxis\":\"x2\",\"y\":[2260.0,2165.0,2065.0,1980.0,2100.0],\"yaxis\":\"y2\",\"type\":\"scatter\"},{\"hovertemplate\":\"Subject=Chemistry<br>School=Ind<br>Year=%{x}<br>Count=%{y}<extra></extra>\",\"legendgroup\":\"Chemistry\",\"line\":{\"color\":\"#19d3f3\",\"dash\":\"solid\"},\"marker\":{\"symbol\":\"circle\"},\"mode\":\"markers+lines\",\"name\":\"Chemistry\",\"orientation\":\"v\",\"showlegend\":false,\"x\":[\"2022\",\"2021\",\"2020\",\"2019\",\"2018\"],\"xaxis\":\"x\",\"y\":[445.0,485.0,450.0,420.0,440.0],\"yaxis\":\"y\",\"type\":\"scatter\"},{\"hovertemplate\":\"Subject=Chinese Languages<br>School=State<br>Year=%{x}<br>Count=%{y}<extra></extra>\",\"legendgroup\":\"Chinese Languages\",\"line\":{\"color\":\"#FF6692\",\"dash\":\"solid\"},\"marker\":{\"symbol\":\"circle\"},\"mode\":\"markers+lines\",\"name\":\"Chinese Languages\",\"orientation\":\"v\",\"showlegend\":true,\"x\":[\"2022\",\"2021\",\"2020\",\"2019\",\"2018\"],\"xaxis\":\"x2\",\"y\":[25.0,20.0,35.0,20.0,20.0],\"yaxis\":\"y2\",\"type\":\"scatter\"},{\"hovertemplate\":\"Subject=Chinese Languages<br>School=Ind<br>Year=%{x}<br>Count=%{y}<extra></extra>\",\"legendgroup\":\"Chinese Languages\",\"line\":{\"color\":\"#FF6692\",\"dash\":\"solid\"},\"marker\":{\"symbol\":\"circle\"},\"mode\":\"markers+lines\",\"name\":\"Chinese Languages\",\"orientation\":\"v\",\"showlegend\":false,\"x\":[\"2022\",\"2021\",\"2020\",\"2019\",\"2018\"],\"xaxis\":\"x\",\"y\":[35.0,35.0,20.0,30.0,25.0],\"yaxis\":\"y\",\"type\":\"scatter\"},{\"hovertemplate\":\"Subject=Classical Studies<br>School=State<br>Year=%{x}<br>Count=%{y}<extra></extra>\",\"legendgroup\":\"Classical Studies\",\"line\":{\"color\":\"#B6E880\",\"dash\":\"solid\"},\"marker\":{\"symbol\":\"circle\"},\"mode\":\"markers+lines\",\"name\":\"Classical Studies\",\"orientation\":\"v\",\"showlegend\":true,\"x\":[\"2022\",\"2021\",\"2020\",\"2019\",\"2018\"],\"xaxis\":\"x2\",\"y\":[5.0,10.0,10.0,5.0,15.0],\"yaxis\":\"y2\",\"type\":\"scatter\"},{\"hovertemplate\":\"Subject=Classical Studies<br>School=Ind<br>Year=%{x}<br>Count=%{y}<extra></extra>\",\"legendgroup\":\"Classical Studies\",\"line\":{\"color\":\"#B6E880\",\"dash\":\"solid\"},\"marker\":{\"symbol\":\"circle\"},\"mode\":\"markers+lines\",\"name\":\"Classical Studies\",\"orientation\":\"v\",\"showlegend\":false,\"x\":[\"2022\",\"2021\",\"2020\",\"2019\",\"2018\"],\"xaxis\":\"x\",\"y\":[40.0,30.0,20.0,30.0,35.0],\"yaxis\":\"y\",\"type\":\"scatter\"},{\"hovertemplate\":\"Subject=Computing Science<br>School=State<br>Year=%{x}<br>Count=%{y}<extra></extra>\",\"legendgroup\":\"Computing Science\",\"line\":{\"color\":\"#FF97FF\",\"dash\":\"solid\"},\"marker\":{\"symbol\":\"circle\"},\"mode\":\"markers+lines\",\"name\":\"Computing Science\",\"orientation\":\"v\",\"showlegend\":true,\"x\":[\"2022\",\"2021\",\"2020\",\"2019\",\"2018\"],\"xaxis\":\"x2\",\"y\":[560.0,445.0,375.0,505.0,550.0],\"yaxis\":\"y2\",\"type\":\"scatter\"},{\"hovertemplate\":\"Subject=Computing Science<br>School=Ind<br>Year=%{x}<br>Count=%{y}<extra></extra>\",\"legendgroup\":\"Computing Science\",\"line\":{\"color\":\"#FF97FF\",\"dash\":\"solid\"},\"marker\":{\"symbol\":\"circle\"},\"mode\":\"markers+lines\",\"name\":\"Computing Science\",\"orientation\":\"v\",\"showlegend\":false,\"x\":[\"2022\",\"2021\",\"2020\",\"2019\",\"2018\"],\"xaxis\":\"x\",\"y\":[125.0,120.0,115.0,110.0,85.0],\"yaxis\":\"y\",\"type\":\"scatter\"},{\"hovertemplate\":\"Subject=Design and Manufacture<br>School=State<br>Year=%{x}<br>Count=%{y}<extra></extra>\",\"legendgroup\":\"Design and Manufacture\",\"line\":{\"color\":\"#FECB52\",\"dash\":\"solid\"},\"marker\":{\"symbol\":\"circle\"},\"mode\":\"markers+lines\",\"name\":\"Design and Manufacture\",\"orientation\":\"v\",\"showlegend\":true,\"x\":[\"2022\",\"2021\",\"2020\",\"2019\",\"2018\"],\"xaxis\":\"x2\",\"y\":[100.0,105.0,45.0,75.0,70.0],\"yaxis\":\"y2\",\"type\":\"scatter\"},{\"hovertemplate\":\"Subject=Design and Manufacture<br>School=Ind<br>Year=%{x}<br>Count=%{y}<extra></extra>\",\"legendgroup\":\"Design and Manufacture\",\"line\":{\"color\":\"#FECB52\",\"dash\":\"solid\"},\"marker\":{\"symbol\":\"circle\"},\"mode\":\"markers+lines\",\"name\":\"Design and Manufacture\",\"orientation\":\"v\",\"showlegend\":false,\"x\":[\"2022\",\"2019\",\"2018\"],\"xaxis\":\"x\",\"y\":[15.0,5.0,25.0],\"yaxis\":\"y\",\"type\":\"scatter\"},{\"hovertemplate\":\"Subject=Drama<br>School=State<br>Year=%{x}<br>Count=%{y}<extra></extra>\",\"legendgroup\":\"Drama\",\"line\":{\"color\":\"#636efa\",\"dash\":\"solid\"},\"marker\":{\"symbol\":\"circle\"},\"mode\":\"markers+lines\",\"name\":\"Drama\",\"orientation\":\"v\",\"showlegend\":true,\"x\":[\"2022\",\"2021\",\"2020\",\"2019\",\"2018\"],\"xaxis\":\"x2\",\"y\":[540.0,485.0,465.0,495.0,440.0],\"yaxis\":\"y2\",\"type\":\"scatter\"},{\"hovertemplate\":\"Subject=Drama<br>School=Ind<br>Year=%{x}<br>Count=%{y}<extra></extra>\",\"legendgroup\":\"Drama\",\"line\":{\"color\":\"#636efa\",\"dash\":\"solid\"},\"marker\":{\"symbol\":\"circle\"},\"mode\":\"markers+lines\",\"name\":\"Drama\",\"orientation\":\"v\",\"showlegend\":false,\"x\":[\"2022\",\"2021\",\"2020\",\"2019\",\"2018\"],\"xaxis\":\"x\",\"y\":[80.0,85.0,75.0,75.0,70.0],\"yaxis\":\"y\",\"type\":\"scatter\"},{\"hovertemplate\":\"Subject=Economics<br>School=State<br>Year=%{x}<br>Count=%{y}<extra></extra>\",\"legendgroup\":\"Economics\",\"line\":{\"color\":\"#EF553B\",\"dash\":\"solid\"},\"marker\":{\"symbol\":\"circle\"},\"mode\":\"markers+lines\",\"name\":\"Economics\",\"orientation\":\"v\",\"showlegend\":true,\"x\":[\"2020\",\"2018\"],\"xaxis\":\"x2\",\"y\":[0.0,10.0],\"yaxis\":\"y2\",\"type\":\"scatter\"},{\"hovertemplate\":\"Subject=Economics<br>School=Ind<br>Year=%{x}<br>Count=%{y}<extra></extra>\",\"legendgroup\":\"Economics\",\"line\":{\"color\":\"#EF553B\",\"dash\":\"solid\"},\"marker\":{\"symbol\":\"circle\"},\"mode\":\"markers+lines\",\"name\":\"Economics\",\"orientation\":\"v\",\"showlegend\":false,\"x\":[\"2022\",\"2021\",\"2020\",\"2019\",\"2018\"],\"xaxis\":\"x\",\"y\":[125.0,75.0,105.0,105.0,85.0],\"yaxis\":\"y\",\"type\":\"scatter\"},{\"hovertemplate\":\"Subject=Engineering Science<br>School=State<br>Year=%{x}<br>Count=%{y}<extra></extra>\",\"legendgroup\":\"Engineering Science\",\"line\":{\"color\":\"#00cc96\",\"dash\":\"solid\"},\"marker\":{\"symbol\":\"circle\"},\"mode\":\"markers+lines\",\"name\":\"Engineering Science\",\"orientation\":\"v\",\"showlegend\":true,\"x\":[\"2022\",\"2021\",\"2020\",\"2019\",\"2018\"],\"xaxis\":\"x2\",\"y\":[70.0,70.0,35.0,25.0,50.0],\"yaxis\":\"y2\",\"type\":\"scatter\"},{\"hovertemplate\":\"Subject=Engineering Science<br>School=Ind<br>Year=%{x}<br>Count=%{y}<extra></extra>\",\"legendgroup\":\"Engineering Science\",\"line\":{\"color\":\"#00cc96\",\"dash\":\"solid\"},\"marker\":{\"symbol\":\"circle\"},\"mode\":\"markers+lines\",\"name\":\"Engineering Science\",\"orientation\":\"v\",\"showlegend\":false,\"x\":[\"2022\",\"2021\",\"2020\",\"2019\",\"2018\"],\"xaxis\":\"x\",\"y\":[20.0,20.0,10.0,10.0,10.0],\"yaxis\":\"y\",\"type\":\"scatter\"},{\"hovertemplate\":\"Subject=English<br>School=State<br>Year=%{x}<br>Count=%{y}<extra></extra>\",\"legendgroup\":\"English\",\"line\":{\"color\":\"#ab63fa\",\"dash\":\"solid\"},\"marker\":{\"symbol\":\"circle\"},\"mode\":\"markers+lines\",\"name\":\"English\",\"orientation\":\"v\",\"showlegend\":true,\"x\":[\"2022\",\"2021\",\"2020\",\"2019\",\"2018\"],\"xaxis\":\"x2\",\"y\":[2430.0,2490.0,1920.0,2050.0,2150.0],\"yaxis\":\"y2\",\"type\":\"scatter\"},{\"hovertemplate\":\"Subject=English<br>School=Ind<br>Year=%{x}<br>Count=%{y}<extra></extra>\",\"legendgroup\":\"English\",\"line\":{\"color\":\"#ab63fa\",\"dash\":\"solid\"},\"marker\":{\"symbol\":\"circle\"},\"mode\":\"markers+lines\",\"name\":\"English\",\"orientation\":\"v\",\"showlegend\":false,\"x\":[\"2022\",\"2021\",\"2020\",\"2019\",\"2018\"],\"xaxis\":\"x\",\"y\":[325.0,315.0,305.0,285.0,320.0],\"yaxis\":\"y\",\"type\":\"scatter\"},{\"hovertemplate\":\"Subject=French<br>School=State<br>Year=%{x}<br>Count=%{y}<extra></extra>\",\"legendgroup\":\"French\",\"line\":{\"color\":\"#FFA15A\",\"dash\":\"solid\"},\"marker\":{\"symbol\":\"circle\"},\"mode\":\"markers+lines\",\"name\":\"French\",\"orientation\":\"v\",\"showlegend\":true,\"x\":[\"2022\",\"2021\",\"2020\",\"2019\",\"2018\"],\"xaxis\":\"x2\",\"y\":[400.0,475.0,430.0,460.0,500.0],\"yaxis\":\"y2\",\"type\":\"scatter\"},{\"hovertemplate\":\"Subject=French<br>School=Ind<br>Year=%{x}<br>Count=%{y}<extra></extra>\",\"legendgroup\":\"French\",\"line\":{\"color\":\"#FFA15A\",\"dash\":\"solid\"},\"marker\":{\"symbol\":\"circle\"},\"mode\":\"markers+lines\",\"name\":\"French\",\"orientation\":\"v\",\"showlegend\":false,\"x\":[\"2022\",\"2021\",\"2020\",\"2019\",\"2018\"],\"xaxis\":\"x\",\"y\":[90.0,95.0,120.0,115.0,125.0],\"yaxis\":\"y\",\"type\":\"scatter\"},{\"hovertemplate\":\"Subject=Gaelic (Learners)<br>School=State<br>Year=%{x}<br>Count=%{y}<extra></extra>\",\"legendgroup\":\"Gaelic (Learners)\",\"line\":{\"color\":\"#19d3f3\",\"dash\":\"solid\"},\"marker\":{\"symbol\":\"circle\"},\"mode\":\"markers+lines\",\"name\":\"Gaelic (Learners)\",\"orientation\":\"v\",\"showlegend\":true,\"x\":[\"2022\",\"2021\",\"2020\",\"2019\",\"2018\"],\"xaxis\":\"x2\",\"y\":[5.0,10.0,10.0,15.0,10.0],\"yaxis\":\"y2\",\"type\":\"scatter\"},{\"hovertemplate\":\"Subject=Geography<br>School=State<br>Year=%{x}<br>Count=%{y}<extra></extra>\",\"legendgroup\":\"Geography\",\"line\":{\"color\":\"#FF6692\",\"dash\":\"solid\"},\"marker\":{\"symbol\":\"circle\"},\"mode\":\"markers+lines\",\"name\":\"Geography\",\"orientation\":\"v\",\"showlegend\":true,\"x\":[\"2022\",\"2021\",\"2020\",\"2019\",\"2018\"],\"xaxis\":\"x2\",\"y\":[785.0,620.0,555.0,565.0,615.0],\"yaxis\":\"y2\",\"type\":\"scatter\"},{\"hovertemplate\":\"Subject=Geography<br>School=Ind<br>Year=%{x}<br>Count=%{y}<extra></extra>\",\"legendgroup\":\"Geography\",\"line\":{\"color\":\"#FF6692\",\"dash\":\"solid\"},\"marker\":{\"symbol\":\"circle\"},\"mode\":\"markers+lines\",\"name\":\"Geography\",\"orientation\":\"v\",\"showlegend\":false,\"x\":[\"2022\",\"2021\",\"2020\",\"2019\",\"2018\"],\"xaxis\":\"x\",\"y\":[230.0,175.0,195.0,145.0,190.0],\"yaxis\":\"y\",\"type\":\"scatter\"},{\"hovertemplate\":\"Subject=German<br>School=State<br>Year=%{x}<br>Count=%{y}<extra></extra>\",\"legendgroup\":\"German\",\"line\":{\"color\":\"#B6E880\",\"dash\":\"solid\"},\"marker\":{\"symbol\":\"circle\"},\"mode\":\"markers+lines\",\"name\":\"German\",\"orientation\":\"v\",\"showlegend\":true,\"x\":[\"2022\",\"2021\",\"2020\",\"2019\",\"2018\"],\"xaxis\":\"x2\",\"y\":[65.0,100.0,75.0,80.0,90.0],\"yaxis\":\"y2\",\"type\":\"scatter\"},{\"hovertemplate\":\"Subject=German<br>School=Ind<br>Year=%{x}<br>Count=%{y}<extra></extra>\",\"legendgroup\":\"German\",\"line\":{\"color\":\"#B6E880\",\"dash\":\"solid\"},\"marker\":{\"symbol\":\"circle\"},\"mode\":\"markers+lines\",\"name\":\"German\",\"orientation\":\"v\",\"showlegend\":false,\"x\":[\"2022\",\"2021\",\"2020\",\"2019\",\"2018\"],\"xaxis\":\"x\",\"y\":[40.0,40.0,30.0,50.0,35.0],\"yaxis\":\"y\",\"type\":\"scatter\"},{\"hovertemplate\":\"Subject=Graphic Communication<br>School=State<br>Year=%{x}<br>Count=%{y}<extra></extra>\",\"legendgroup\":\"Graphic Communication\",\"line\":{\"color\":\"#FF97FF\",\"dash\":\"solid\"},\"marker\":{\"symbol\":\"circle\"},\"mode\":\"markers+lines\",\"name\":\"Graphic Communication\",\"orientation\":\"v\",\"showlegend\":true,\"x\":[\"2022\",\"2021\",\"2020\",\"2019\",\"2018\"],\"xaxis\":\"x2\",\"y\":[445.0,450.0,365.0,495.0,505.0],\"yaxis\":\"y2\",\"type\":\"scatter\"},{\"hovertemplate\":\"Subject=Graphic Communication<br>School=Ind<br>Year=%{x}<br>Count=%{y}<extra></extra>\",\"legendgroup\":\"Graphic Communication\",\"line\":{\"color\":\"#FF97FF\",\"dash\":\"solid\"},\"marker\":{\"symbol\":\"circle\"},\"mode\":\"markers+lines\",\"name\":\"Graphic Communication\",\"orientation\":\"v\",\"showlegend\":false,\"x\":[\"2022\",\"2021\",\"2020\",\"2019\",\"2018\"],\"xaxis\":\"x\",\"y\":[20.0,10.0,10.0,10.0,20.0],\"yaxis\":\"y\",\"type\":\"scatter\"},{\"hovertemplate\":\"Subject=G\\u00e0idhlig<br>School=State<br>Year=%{x}<br>Count=%{y}<extra></extra>\",\"legendgroup\":\"G\\u00e0idhlig\",\"line\":{\"color\":\"#FECB52\",\"dash\":\"solid\"},\"marker\":{\"symbol\":\"circle\"},\"mode\":\"markers+lines\",\"name\":\"G\\u00e0idhlig\",\"orientation\":\"v\",\"showlegend\":true,\"x\":[\"2022\",\"2021\",\"2020\",\"2019\",\"2018\"],\"xaxis\":\"x2\",\"y\":[25.0,30.0,45.0,30.0,30.0],\"yaxis\":\"y2\",\"type\":\"scatter\"},{\"hovertemplate\":\"Subject=Health and Food Technology<br>School=State<br>Year=%{x}<br>Count=%{y}<extra></extra>\",\"legendgroup\":\"Health and Food Technology\",\"line\":{\"color\":\"#636efa\",\"dash\":\"solid\"},\"marker\":{\"symbol\":\"circle\"},\"mode\":\"markers+lines\",\"name\":\"Health and Food Technology\",\"orientation\":\"v\",\"showlegend\":true,\"x\":[\"2022\",\"2021\",\"2020\",\"2019\",\"2018\"],\"xaxis\":\"x2\",\"y\":[60.0,35.0,20.0,15.0,40.0],\"yaxis\":\"y2\",\"type\":\"scatter\"},{\"hovertemplate\":\"Subject=Health and Food Technology<br>School=Ind<br>Year=%{x}<br>Count=%{y}<extra></extra>\",\"legendgroup\":\"Health and Food Technology\",\"line\":{\"color\":\"#636efa\",\"dash\":\"solid\"},\"marker\":{\"symbol\":\"circle\"},\"mode\":\"markers+lines\",\"name\":\"Health and Food Technology\",\"orientation\":\"v\",\"showlegend\":false,\"x\":[\"2022\",\"2020\",\"2019\"],\"xaxis\":\"x\",\"y\":[5.0,5.0,5.0],\"yaxis\":\"y\",\"type\":\"scatter\"},{\"hovertemplate\":\"Subject=History<br>School=State<br>Year=%{x}<br>Count=%{y}<extra></extra>\",\"legendgroup\":\"History\",\"line\":{\"color\":\"#EF553B\",\"dash\":\"solid\"},\"marker\":{\"symbol\":\"circle\"},\"mode\":\"markers+lines\",\"name\":\"History\",\"orientation\":\"v\",\"showlegend\":true,\"x\":[\"2022\",\"2021\",\"2020\",\"2019\",\"2018\"],\"xaxis\":\"x2\",\"y\":[1175.0,1210.0,965.0,995.0,1215.0],\"yaxis\":\"y2\",\"type\":\"scatter\"},{\"hovertemplate\":\"Subject=History<br>School=Ind<br>Year=%{x}<br>Count=%{y}<extra></extra>\",\"legendgroup\":\"History\",\"line\":{\"color\":\"#EF553B\",\"dash\":\"solid\"},\"marker\":{\"symbol\":\"circle\"},\"mode\":\"markers+lines\",\"name\":\"History\",\"orientation\":\"v\",\"showlegend\":false,\"x\":[\"2022\",\"2021\",\"2020\",\"2019\",\"2018\"],\"xaxis\":\"x\",\"y\":[285.0,225.0,240.0,260.0,295.0],\"yaxis\":\"y\",\"type\":\"scatter\"},{\"hovertemplate\":\"Subject=Italian<br>School=State<br>Year=%{x}<br>Count=%{y}<extra></extra>\",\"legendgroup\":\"Italian\",\"line\":{\"color\":\"#00cc96\",\"dash\":\"solid\"},\"marker\":{\"symbol\":\"circle\"},\"mode\":\"markers+lines\",\"name\":\"Italian\",\"orientation\":\"v\",\"showlegend\":true,\"x\":[\"2022\",\"2021\",\"2020\",\"2019\",\"2018\"],\"xaxis\":\"x2\",\"y\":[15.0,20.0,15.0,20.0,25.0],\"yaxis\":\"y2\",\"type\":\"scatter\"},{\"hovertemplate\":\"Subject=Italian<br>School=Ind<br>Year=%{x}<br>Count=%{y}<extra></extra>\",\"legendgroup\":\"Italian\",\"line\":{\"color\":\"#00cc96\",\"dash\":\"solid\"},\"marker\":{\"symbol\":\"circle\"},\"mode\":\"markers+lines\",\"name\":\"Italian\",\"orientation\":\"v\",\"showlegend\":false,\"x\":[\"2022\",\"2021\",\"2020\",\"2019\",\"2018\"],\"xaxis\":\"x\",\"y\":[10.0,15.0,10.0,10.0,10.0],\"yaxis\":\"y\",\"type\":\"scatter\"},{\"hovertemplate\":\"Subject=Latin<br>School=State<br>Year=%{x}<br>Count=%{y}<extra></extra>\",\"legendgroup\":\"Latin\",\"line\":{\"color\":\"#ab63fa\",\"dash\":\"solid\"},\"marker\":{\"symbol\":\"circle\"},\"mode\":\"markers+lines\",\"name\":\"Latin\",\"orientation\":\"v\",\"showlegend\":true,\"x\":[\"2020\",\"2019\",\"2018\"],\"xaxis\":\"x2\",\"y\":[0.0,10.0,10.0],\"yaxis\":\"y2\",\"type\":\"scatter\"},{\"hovertemplate\":\"Subject=Latin<br>School=Ind<br>Year=%{x}<br>Count=%{y}<extra></extra>\",\"legendgroup\":\"Latin\",\"line\":{\"color\":\"#ab63fa\",\"dash\":\"solid\"},\"marker\":{\"symbol\":\"circle\"},\"mode\":\"markers+lines\",\"name\":\"Latin\",\"orientation\":\"v\",\"showlegend\":false,\"x\":[\"2022\",\"2021\",\"2020\",\"2019\",\"2018\"],\"xaxis\":\"x\",\"y\":[30.0,35.0,35.0,50.0,35.0],\"yaxis\":\"y\",\"type\":\"scatter\"},{\"hovertemplate\":\"Subject=Mathematics<br>School=State<br>Year=%{x}<br>Count=%{y}<extra></extra>\",\"legendgroup\":\"Mathematics\",\"line\":{\"color\":\"#FFA15A\",\"dash\":\"solid\"},\"marker\":{\"symbol\":\"circle\"},\"mode\":\"markers+lines\",\"name\":\"Mathematics\",\"orientation\":\"v\",\"showlegend\":true,\"x\":[\"2022\",\"2021\",\"2020\",\"2019\",\"2018\"],\"xaxis\":\"x2\",\"y\":[3265.0,3140.0,2955.0,3070.0,3060.0],\"yaxis\":\"y2\",\"type\":\"scatter\"},{\"hovertemplate\":\"Subject=Mathematics<br>School=Ind<br>Year=%{x}<br>Count=%{y}<extra></extra>\",\"legendgroup\":\"Mathematics\",\"line\":{\"color\":\"#FFA15A\",\"dash\":\"solid\"},\"marker\":{\"symbol\":\"circle\"},\"mode\":\"markers+lines\",\"name\":\"Mathematics\",\"orientation\":\"v\",\"showlegend\":false,\"x\":[\"2022\",\"2021\",\"2020\",\"2019\",\"2018\"],\"xaxis\":\"x\",\"y\":[620.0,605.0,645.0,595.0,580.0],\"yaxis\":\"y\",\"type\":\"scatter\"},{\"hovertemplate\":\"Subject=Mathematics of Mechanics<br>School=State<br>Year=%{x}<br>Count=%{y}<extra></extra>\",\"legendgroup\":\"Mathematics of Mechanics\",\"line\":{\"color\":\"#19d3f3\",\"dash\":\"solid\"},\"marker\":{\"symbol\":\"circle\"},\"mode\":\"markers+lines\",\"name\":\"Mathematics of Mechanics\",\"orientation\":\"v\",\"showlegend\":true,\"x\":[\"2022\",\"2021\",\"2020\",\"2019\",\"2018\"],\"xaxis\":\"x2\",\"y\":[175.0,200.0,180.0,195.0,190.0],\"yaxis\":\"y2\",\"type\":\"scatter\"},{\"hovertemplate\":\"Subject=Mathematics of Mechanics<br>School=Ind<br>Year=%{x}<br>Count=%{y}<extra></extra>\",\"legendgroup\":\"Mathematics of Mechanics\",\"line\":{\"color\":\"#19d3f3\",\"dash\":\"solid\"},\"marker\":{\"symbol\":\"circle\"},\"mode\":\"markers+lines\",\"name\":\"Mathematics of Mechanics\",\"orientation\":\"v\",\"showlegend\":false,\"x\":[\"2022\",\"2021\",\"2020\",\"2019\",\"2018\"],\"xaxis\":\"x\",\"y\":[100.0,110.0,135.0,95.0,115.0],\"yaxis\":\"y\",\"type\":\"scatter\"},{\"hovertemplate\":\"Subject=Modern Studies<br>School=State<br>Year=%{x}<br>Count=%{y}<extra></extra>\",\"legendgroup\":\"Modern Studies\",\"line\":{\"color\":\"#FF6692\",\"dash\":\"solid\"},\"marker\":{\"symbol\":\"circle\"},\"mode\":\"markers+lines\",\"name\":\"Modern Studies\",\"orientation\":\"v\",\"showlegend\":true,\"x\":[\"2022\",\"2021\",\"2020\",\"2019\",\"2018\"],\"xaxis\":\"x2\",\"y\":[960.0,855.0,680.0,630.0,655.0],\"yaxis\":\"y2\",\"type\":\"scatter\"},{\"hovertemplate\":\"Subject=Modern Studies<br>School=Ind<br>Year=%{x}<br>Count=%{y}<extra></extra>\",\"legendgroup\":\"Modern Studies\",\"line\":{\"color\":\"#FF6692\",\"dash\":\"solid\"},\"marker\":{\"symbol\":\"circle\"},\"mode\":\"markers+lines\",\"name\":\"Modern Studies\",\"orientation\":\"v\",\"showlegend\":false,\"x\":[\"2022\",\"2021\",\"2020\",\"2019\",\"2018\"],\"xaxis\":\"x\",\"y\":[200.0,205.0,195.0,160.0,175.0],\"yaxis\":\"y\",\"type\":\"scatter\"},{\"hovertemplate\":\"Subject=Music<br>School=State<br>Year=%{x}<br>Count=%{y}<extra></extra>\",\"legendgroup\":\"Music\",\"line\":{\"color\":\"#B6E880\",\"dash\":\"solid\"},\"marker\":{\"symbol\":\"circle\"},\"mode\":\"markers+lines\",\"name\":\"Music\",\"orientation\":\"v\",\"showlegend\":true,\"x\":[\"2022\",\"2021\",\"2020\",\"2019\",\"2018\"],\"xaxis\":\"x2\",\"y\":[1630.0,1740.0,1525.0,1570.0,1570.0],\"yaxis\":\"y2\",\"type\":\"scatter\"},{\"hovertemplate\":\"Subject=Music<br>School=Ind<br>Year=%{x}<br>Count=%{y}<extra></extra>\",\"legendgroup\":\"Music\",\"line\":{\"color\":\"#B6E880\",\"dash\":\"solid\"},\"marker\":{\"symbol\":\"circle\"},\"mode\":\"markers+lines\",\"name\":\"Music\",\"orientation\":\"v\",\"showlegend\":false,\"x\":[\"2022\",\"2021\",\"2020\",\"2019\",\"2018\"],\"xaxis\":\"x\",\"y\":[125.0,125.0,120.0,130.0,140.0],\"yaxis\":\"y\",\"type\":\"scatter\"},{\"hovertemplate\":\"Subject=Music Technology<br>School=State<br>Year=%{x}<br>Count=%{y}<extra></extra>\",\"legendgroup\":\"Music Technology\",\"line\":{\"color\":\"#FF97FF\",\"dash\":\"solid\"},\"marker\":{\"symbol\":\"circle\"},\"mode\":\"markers+lines\",\"name\":\"Music Technology\",\"orientation\":\"v\",\"showlegend\":true,\"x\":[\"2022\",\"2021\",\"2020\"],\"xaxis\":\"x2\",\"y\":[55.0,50.0,30.0],\"yaxis\":\"y2\",\"type\":\"scatter\"},{\"hovertemplate\":\"Subject=Music: Portfolio<br>School=State<br>Year=%{x}<br>Count=%{y}<extra></extra>\",\"legendgroup\":\"Music: Portfolio\",\"line\":{\"color\":\"#FECB52\",\"dash\":\"solid\"},\"marker\":{\"symbol\":\"circle\"},\"mode\":\"markers+lines\",\"name\":\"Music: Portfolio\",\"orientation\":\"v\",\"showlegend\":true,\"x\":[\"2022\",\"2021\",\"2020\",\"2019\",\"2018\"],\"xaxis\":\"x2\",\"y\":[10.0,15.0,20.0,5.0,10.0],\"yaxis\":\"y2\",\"type\":\"scatter\"},{\"hovertemplate\":\"Subject=Physical Education<br>School=State<br>Year=%{x}<br>Count=%{y}<extra></extra>\",\"legendgroup\":\"Physical Education\",\"line\":{\"color\":\"#636efa\",\"dash\":\"solid\"},\"marker\":{\"symbol\":\"circle\"},\"mode\":\"markers+lines\",\"name\":\"Physical Education\",\"orientation\":\"v\",\"showlegend\":true,\"x\":[\"2022\",\"2021\",\"2020\",\"2019\",\"2018\"],\"xaxis\":\"x2\",\"y\":[925.0,715.0,450.0,450.0,380.0],\"yaxis\":\"y2\",\"type\":\"scatter\"},{\"hovertemplate\":\"Subject=Physical Education<br>School=Ind<br>Year=%{x}<br>Count=%{y}<extra></extra>\",\"legendgroup\":\"Physical Education\",\"line\":{\"color\":\"#636efa\",\"dash\":\"solid\"},\"marker\":{\"symbol\":\"circle\"},\"mode\":\"markers+lines\",\"name\":\"Physical Education\",\"orientation\":\"v\",\"showlegend\":false,\"x\":[\"2022\",\"2021\",\"2020\",\"2019\",\"2018\"],\"xaxis\":\"x\",\"y\":[125.0,95.0,65.0,50.0,50.0],\"yaxis\":\"y\",\"type\":\"scatter\"},{\"hovertemplate\":\"Subject=Physics<br>School=State<br>Year=%{x}<br>Count=%{y}<extra></extra>\",\"legendgroup\":\"Physics\",\"line\":{\"color\":\"#EF553B\",\"dash\":\"solid\"},\"marker\":{\"symbol\":\"circle\"},\"mode\":\"markers+lines\",\"name\":\"Physics\",\"orientation\":\"v\",\"showlegend\":true,\"x\":[\"2022\",\"2021\",\"2020\",\"2019\",\"2018\"],\"xaxis\":\"x2\",\"y\":[1815.0,1615.0,1405.0,1405.0,1610.0],\"yaxis\":\"y2\",\"type\":\"scatter\"},{\"hovertemplate\":\"Subject=Physics<br>School=Ind<br>Year=%{x}<br>Count=%{y}<extra></extra>\",\"legendgroup\":\"Physics\",\"line\":{\"color\":\"#EF553B\",\"dash\":\"solid\"},\"marker\":{\"symbol\":\"circle\"},\"mode\":\"markers+lines\",\"name\":\"Physics\",\"orientation\":\"v\",\"showlegend\":false,\"x\":[\"2022\",\"2021\",\"2020\",\"2019\",\"2018\"],\"xaxis\":\"x\",\"y\":[290.0,295.0,280.0,215.0,265.0],\"yaxis\":\"y\",\"type\":\"scatter\"},{\"hovertemplate\":\"Subject=Religious, Moral and Philosophical Studies<br>School=State<br>Year=%{x}<br>Count=%{y}<extra></extra>\",\"legendgroup\":\"Religious, Moral and Philosophical Studies\",\"line\":{\"color\":\"#00cc96\",\"dash\":\"solid\"},\"marker\":{\"symbol\":\"circle\"},\"mode\":\"markers+lines\",\"name\":\"Religious, Moral and Philosophical Studies\",\"orientation\":\"v\",\"showlegend\":true,\"x\":[\"2022\",\"2021\",\"2020\",\"2019\",\"2018\"],\"xaxis\":\"x2\",\"y\":[150.0,145.0,85.0,100.0,100.0],\"yaxis\":\"y2\",\"type\":\"scatter\"},{\"hovertemplate\":\"Subject=Religious, Moral and Philosophical Studies<br>School=Ind<br>Year=%{x}<br>Count=%{y}<extra></extra>\",\"legendgroup\":\"Religious, Moral and Philosophical Studies\",\"line\":{\"color\":\"#00cc96\",\"dash\":\"solid\"},\"marker\":{\"symbol\":\"circle\"},\"mode\":\"markers+lines\",\"name\":\"Religious, Moral and Philosophical Studies\",\"orientation\":\"v\",\"showlegend\":false,\"x\":[\"2022\",\"2021\",\"2020\",\"2019\",\"2018\"],\"xaxis\":\"x\",\"y\":[100.0,95.0,95.0,75.0,60.0],\"yaxis\":\"y\",\"type\":\"scatter\"},{\"hovertemplate\":\"Subject=Spanish<br>School=State<br>Year=%{x}<br>Count=%{y}<extra></extra>\",\"legendgroup\":\"Spanish\",\"line\":{\"color\":\"#ab63fa\",\"dash\":\"solid\"},\"marker\":{\"symbol\":\"circle\"},\"mode\":\"markers+lines\",\"name\":\"Spanish\",\"orientation\":\"v\",\"showlegend\":true,\"x\":[\"2022\",\"2021\",\"2020\",\"2019\",\"2018\"],\"xaxis\":\"x2\",\"y\":[370.0,355.0,360.0,360.0,360.0],\"yaxis\":\"y2\",\"type\":\"scatter\"},{\"hovertemplate\":\"Subject=Spanish<br>School=Ind<br>Year=%{x}<br>Count=%{y}<extra></extra>\",\"legendgroup\":\"Spanish\",\"line\":{\"color\":\"#ab63fa\",\"dash\":\"solid\"},\"marker\":{\"symbol\":\"circle\"},\"mode\":\"markers+lines\",\"name\":\"Spanish\",\"orientation\":\"v\",\"showlegend\":false,\"x\":[\"2022\",\"2021\",\"2020\",\"2019\",\"2018\"],\"xaxis\":\"x\",\"y\":[90.0,85.0,80.0,95.0,95.0],\"yaxis\":\"y\",\"type\":\"scatter\"},{\"hovertemplate\":\"Subject=Statistics<br>School=State<br>Year=%{x}<br>Count=%{y}<extra></extra>\",\"legendgroup\":\"Statistics\",\"line\":{\"color\":\"#FFA15A\",\"dash\":\"solid\"},\"marker\":{\"symbol\":\"circle\"},\"mode\":\"markers+lines\",\"name\":\"Statistics\",\"orientation\":\"v\",\"showlegend\":true,\"x\":[\"2022\",\"2021\",\"2020\",\"2019\",\"2018\"],\"xaxis\":\"x2\",\"y\":[45.0,80.0,90.0,100.0,90.0],\"yaxis\":\"y2\",\"type\":\"scatter\"},{\"hovertemplate\":\"Subject=Statistics<br>School=Ind<br>Year=%{x}<br>Count=%{y}<extra></extra>\",\"legendgroup\":\"Statistics\",\"line\":{\"color\":\"#FFA15A\",\"dash\":\"solid\"},\"marker\":{\"symbol\":\"circle\"},\"mode\":\"markers+lines\",\"name\":\"Statistics\",\"orientation\":\"v\",\"showlegend\":false,\"x\":[\"2022\",\"2021\",\"2020\",\"2019\",\"2018\"],\"xaxis\":\"x\",\"y\":[95.0,125.0,90.0,110.0,95.0],\"yaxis\":\"y\",\"type\":\"scatter\"}],                        {\"template\":{\"data\":{\"bar\":[{\"error_x\":{\"color\":\"#2a3f5f\"},\"error_y\":{\"color\":\"#2a3f5f\"},\"marker\":{\"line\":{\"color\":\"#E5ECF6\",\"width\":0.5},\"pattern\":{\"fillmode\":\"overlay\",\"size\":10,\"solidity\":0.2}},\"type\":\"bar\"}],\"barpolar\":[{\"marker\":{\"line\":{\"color\":\"#E5ECF6\",\"width\":0.5},\"pattern\":{\"fillmode\":\"overlay\",\"size\":10,\"solidity\":0.2}},\"type\":\"barpolar\"}],\"carpet\":[{\"aaxis\":{\"endlinecolor\":\"#2a3f5f\",\"gridcolor\":\"white\",\"linecolor\":\"white\",\"minorgridcolor\":\"white\",\"startlinecolor\":\"#2a3f5f\"},\"baxis\":{\"endlinecolor\":\"#2a3f5f\",\"gridcolor\":\"white\",\"linecolor\":\"white\",\"minorgridcolor\":\"white\",\"startlinecolor\":\"#2a3f5f\"},\"type\":\"carpet\"}],\"choropleth\":[{\"colorbar\":{\"outlinewidth\":0,\"ticks\":\"\"},\"type\":\"choropleth\"}],\"contour\":[{\"colorbar\":{\"outlinewidth\":0,\"ticks\":\"\"},\"colorscale\":[[0.0,\"#0d0887\"],[0.1111111111111111,\"#46039f\"],[0.2222222222222222,\"#7201a8\"],[0.3333333333333333,\"#9c179e\"],[0.4444444444444444,\"#bd3786\"],[0.5555555555555556,\"#d8576b\"],[0.6666666666666666,\"#ed7953\"],[0.7777777777777778,\"#fb9f3a\"],[0.8888888888888888,\"#fdca26\"],[1.0,\"#f0f921\"]],\"type\":\"contour\"}],\"contourcarpet\":[{\"colorbar\":{\"outlinewidth\":0,\"ticks\":\"\"},\"type\":\"contourcarpet\"}],\"heatmap\":[{\"colorbar\":{\"outlinewidth\":0,\"ticks\":\"\"},\"colorscale\":[[0.0,\"#0d0887\"],[0.1111111111111111,\"#46039f\"],[0.2222222222222222,\"#7201a8\"],[0.3333333333333333,\"#9c179e\"],[0.4444444444444444,\"#bd3786\"],[0.5555555555555556,\"#d8576b\"],[0.6666666666666666,\"#ed7953\"],[0.7777777777777778,\"#fb9f3a\"],[0.8888888888888888,\"#fdca26\"],[1.0,\"#f0f921\"]],\"type\":\"heatmap\"}],\"heatmapgl\":[{\"colorbar\":{\"outlinewidth\":0,\"ticks\":\"\"},\"colorscale\":[[0.0,\"#0d0887\"],[0.1111111111111111,\"#46039f\"],[0.2222222222222222,\"#7201a8\"],[0.3333333333333333,\"#9c179e\"],[0.4444444444444444,\"#bd3786\"],[0.5555555555555556,\"#d8576b\"],[0.6666666666666666,\"#ed7953\"],[0.7777777777777778,\"#fb9f3a\"],[0.8888888888888888,\"#fdca26\"],[1.0,\"#f0f921\"]],\"type\":\"heatmapgl\"}],\"histogram\":[{\"marker\":{\"pattern\":{\"fillmode\":\"overlay\",\"size\":10,\"solidity\":0.2}},\"type\":\"histogram\"}],\"histogram2d\":[{\"colorbar\":{\"outlinewidth\":0,\"ticks\":\"\"},\"colorscale\":[[0.0,\"#0d0887\"],[0.1111111111111111,\"#46039f\"],[0.2222222222222222,\"#7201a8\"],[0.3333333333333333,\"#9c179e\"],[0.4444444444444444,\"#bd3786\"],[0.5555555555555556,\"#d8576b\"],[0.6666666666666666,\"#ed7953\"],[0.7777777777777778,\"#fb9f3a\"],[0.8888888888888888,\"#fdca26\"],[1.0,\"#f0f921\"]],\"type\":\"histogram2d\"}],\"histogram2dcontour\":[{\"colorbar\":{\"outlinewidth\":0,\"ticks\":\"\"},\"colorscale\":[[0.0,\"#0d0887\"],[0.1111111111111111,\"#46039f\"],[0.2222222222222222,\"#7201a8\"],[0.3333333333333333,\"#9c179e\"],[0.4444444444444444,\"#bd3786\"],[0.5555555555555556,\"#d8576b\"],[0.6666666666666666,\"#ed7953\"],[0.7777777777777778,\"#fb9f3a\"],[0.8888888888888888,\"#fdca26\"],[1.0,\"#f0f921\"]],\"type\":\"histogram2dcontour\"}],\"mesh3d\":[{\"colorbar\":{\"outlinewidth\":0,\"ticks\":\"\"},\"type\":\"mesh3d\"}],\"parcoords\":[{\"line\":{\"colorbar\":{\"outlinewidth\":0,\"ticks\":\"\"}},\"type\":\"parcoords\"}],\"pie\":[{\"automargin\":true,\"type\":\"pie\"}],\"scatter\":[{\"marker\":{\"colorbar\":{\"outlinewidth\":0,\"ticks\":\"\"}},\"type\":\"scatter\"}],\"scatter3d\":[{\"line\":{\"colorbar\":{\"outlinewidth\":0,\"ticks\":\"\"}},\"marker\":{\"colorbar\":{\"outlinewidth\":0,\"ticks\":\"\"}},\"type\":\"scatter3d\"}],\"scattercarpet\":[{\"marker\":{\"colorbar\":{\"outlinewidth\":0,\"ticks\":\"\"}},\"type\":\"scattercarpet\"}],\"scattergeo\":[{\"marker\":{\"colorbar\":{\"outlinewidth\":0,\"ticks\":\"\"}},\"type\":\"scattergeo\"}],\"scattergl\":[{\"marker\":{\"colorbar\":{\"outlinewidth\":0,\"ticks\":\"\"}},\"type\":\"scattergl\"}],\"scattermapbox\":[{\"marker\":{\"colorbar\":{\"outlinewidth\":0,\"ticks\":\"\"}},\"type\":\"scattermapbox\"}],\"scatterpolar\":[{\"marker\":{\"colorbar\":{\"outlinewidth\":0,\"ticks\":\"\"}},\"type\":\"scatterpolar\"}],\"scatterpolargl\":[{\"marker\":{\"colorbar\":{\"outlinewidth\":0,\"ticks\":\"\"}},\"type\":\"scatterpolargl\"}],\"scatterternary\":[{\"marker\":{\"colorbar\":{\"outlinewidth\":0,\"ticks\":\"\"}},\"type\":\"scatterternary\"}],\"surface\":[{\"colorbar\":{\"outlinewidth\":0,\"ticks\":\"\"},\"colorscale\":[[0.0,\"#0d0887\"],[0.1111111111111111,\"#46039f\"],[0.2222222222222222,\"#7201a8\"],[0.3333333333333333,\"#9c179e\"],[0.4444444444444444,\"#bd3786\"],[0.5555555555555556,\"#d8576b\"],[0.6666666666666666,\"#ed7953\"],[0.7777777777777778,\"#fb9f3a\"],[0.8888888888888888,\"#fdca26\"],[1.0,\"#f0f921\"]],\"type\":\"surface\"}],\"table\":[{\"cells\":{\"fill\":{\"color\":\"#EBF0F8\"},\"line\":{\"color\":\"white\"}},\"header\":{\"fill\":{\"color\":\"#C8D4E3\"},\"line\":{\"color\":\"white\"}},\"type\":\"table\"}]},\"layout\":{\"annotationdefaults\":{\"arrowcolor\":\"#2a3f5f\",\"arrowhead\":0,\"arrowwidth\":1},\"autotypenumbers\":\"strict\",\"coloraxis\":{\"colorbar\":{\"outlinewidth\":0,\"ticks\":\"\"}},\"colorscale\":{\"diverging\":[[0,\"#8e0152\"],[0.1,\"#c51b7d\"],[0.2,\"#de77ae\"],[0.3,\"#f1b6da\"],[0.4,\"#fde0ef\"],[0.5,\"#f7f7f7\"],[0.6,\"#e6f5d0\"],[0.7,\"#b8e186\"],[0.8,\"#7fbc41\"],[0.9,\"#4d9221\"],[1,\"#276419\"]],\"sequential\":[[0.0,\"#0d0887\"],[0.1111111111111111,\"#46039f\"],[0.2222222222222222,\"#7201a8\"],[0.3333333333333333,\"#9c179e\"],[0.4444444444444444,\"#bd3786\"],[0.5555555555555556,\"#d8576b\"],[0.6666666666666666,\"#ed7953\"],[0.7777777777777778,\"#fb9f3a\"],[0.8888888888888888,\"#fdca26\"],[1.0,\"#f0f921\"]],\"sequentialminus\":[[0.0,\"#0d0887\"],[0.1111111111111111,\"#46039f\"],[0.2222222222222222,\"#7201a8\"],[0.3333333333333333,\"#9c179e\"],[0.4444444444444444,\"#bd3786\"],[0.5555555555555556,\"#d8576b\"],[0.6666666666666666,\"#ed7953\"],[0.7777777777777778,\"#fb9f3a\"],[0.8888888888888888,\"#fdca26\"],[1.0,\"#f0f921\"]]},\"colorway\":[\"#636efa\",\"#EF553B\",\"#00cc96\",\"#ab63fa\",\"#FFA15A\",\"#19d3f3\",\"#FF6692\",\"#B6E880\",\"#FF97FF\",\"#FECB52\"],\"font\":{\"color\":\"#2a3f5f\"},\"geo\":{\"bgcolor\":\"white\",\"lakecolor\":\"white\",\"landcolor\":\"#E5ECF6\",\"showlakes\":true,\"showland\":true,\"subunitcolor\":\"white\"},\"hoverlabel\":{\"align\":\"left\"},\"hovermode\":\"closest\",\"mapbox\":{\"style\":\"light\"},\"paper_bgcolor\":\"white\",\"plot_bgcolor\":\"#E5ECF6\",\"polar\":{\"angularaxis\":{\"gridcolor\":\"white\",\"linecolor\":\"white\",\"ticks\":\"\"},\"bgcolor\":\"#E5ECF6\",\"radialaxis\":{\"gridcolor\":\"white\",\"linecolor\":\"white\",\"ticks\":\"\"}},\"scene\":{\"xaxis\":{\"backgroundcolor\":\"#E5ECF6\",\"gridcolor\":\"white\",\"gridwidth\":2,\"linecolor\":\"white\",\"showbackground\":true,\"ticks\":\"\",\"zerolinecolor\":\"white\"},\"yaxis\":{\"backgroundcolor\":\"#E5ECF6\",\"gridcolor\":\"white\",\"gridwidth\":2,\"linecolor\":\"white\",\"showbackground\":true,\"ticks\":\"\",\"zerolinecolor\":\"white\"},\"zaxis\":{\"backgroundcolor\":\"#E5ECF6\",\"gridcolor\":\"white\",\"gridwidth\":2,\"linecolor\":\"white\",\"showbackground\":true,\"ticks\":\"\",\"zerolinecolor\":\"white\"}},\"shapedefaults\":{\"line\":{\"color\":\"#2a3f5f\"}},\"ternary\":{\"aaxis\":{\"gridcolor\":\"white\",\"linecolor\":\"white\",\"ticks\":\"\"},\"baxis\":{\"gridcolor\":\"white\",\"linecolor\":\"white\",\"ticks\":\"\"},\"bgcolor\":\"#E5ECF6\",\"caxis\":{\"gridcolor\":\"white\",\"linecolor\":\"white\",\"ticks\":\"\"}},\"title\":{\"x\":0.05},\"xaxis\":{\"automargin\":true,\"gridcolor\":\"white\",\"linecolor\":\"white\",\"ticks\":\"\",\"title\":{\"standoff\":15},\"zerolinecolor\":\"white\",\"zerolinewidth\":2},\"yaxis\":{\"automargin\":true,\"gridcolor\":\"white\",\"linecolor\":\"white\",\"ticks\":\"\",\"title\":{\"standoff\":15},\"zerolinecolor\":\"white\",\"zerolinewidth\":2}}},\"xaxis\":{\"anchor\":\"y\",\"domain\":[0.0,0.98],\"title\":{\"text\":\"Year\"},\"categoryorder\":\"array\",\"categoryarray\":[\"2018\",\"2019\",\"2020\",\"2021\",\"2022\"]},\"yaxis\":{\"anchor\":\"x\",\"domain\":[0.0,0.485],\"title\":{\"text\":\"Count\"},\"rangemode\":\"tozero\"},\"xaxis2\":{\"anchor\":\"y2\",\"domain\":[0.0,0.98],\"matches\":\"x\",\"showticklabels\":false},\"yaxis2\":{\"anchor\":\"x2\",\"domain\":[0.515,1.0],\"title\":{\"text\":\"Count\"},\"rangemode\":\"tozero\"},\"annotations\":[{\"font\":{},\"showarrow\":false,\"text\":\"School=Ind\",\"textangle\":90,\"x\":0.98,\"xanchor\":\"left\",\"xref\":\"paper\",\"y\":0.2425,\"yanchor\":\"middle\",\"yref\":\"paper\"},{\"font\":{},\"showarrow\":false,\"text\":\"School=State\",\"textangle\":90,\"x\":0.98,\"xanchor\":\"left\",\"xref\":\"paper\",\"y\":0.7575000000000001,\"yanchor\":\"middle\",\"yref\":\"paper\"}],\"legend\":{\"title\":{\"text\":\"Subject\"},\"tracegroupgap\":0},\"title\":{\"text\":\"Entries per subject from 2018 - 2022 at Advanced Higher\"},\"height\":1150,\"width\":800},                        {\"responsive\": true}                    ).then(function(){\n",
       "                            \n",
       "var gd = document.getElementById('f6054fb4-6976-4816-a3bf-9cee7d8851aa');\n",
       "var x = new MutationObserver(function (mutations, observer) {{\n",
       "        var display = window.getComputedStyle(gd).display;\n",
       "        if (!display || display === 'none') {{\n",
       "            console.log([gd, 'removed!']);\n",
       "            Plotly.purge(gd);\n",
       "            observer.disconnect();\n",
       "        }}\n",
       "}});\n",
       "\n",
       "// Listen for the removal of the full notebook cells\n",
       "var notebookContainer = gd.closest('#notebook-container');\n",
       "if (notebookContainer) {{\n",
       "    x.observe(notebookContainer, {childList: true});\n",
       "}}\n",
       "\n",
       "// Listen for the clearing of the current output cell\n",
       "var outputEl = gd.closest('.output');\n",
       "if (outputEl) {{\n",
       "    x.observe(outputEl, {childList: true});\n",
       "}}\n",
       "\n",
       "                        })                };                });            </script>        </div>"
      ]
     },
     "metadata": {},
     "output_type": "display_data"
    }
   ],
   "source": [
    "# Plot graph\n",
    "\n",
    "# Create a list of subjects in alphabetical order\n",
    "subjects = sorted(dfc['Subject'].unique())\n",
    "years = sorted(dfc['Year'].unique())\n",
    "\n",
    "fig = px.line(dfc, x = \"Year\", y = \"Count\", \n",
    "                color = \"Subject\",\n",
    "                facet_row = 'School',\n",
    "                width = 800,\n",
    "                height = 1150,\n",
    "                category_orders = {'Subject' : subjects, 'Year' : years},\n",
    "                labels = {\"perc\": \"Percentage\"},\n",
    "                title = 'Entries per subject from 2018 - 2022 at ' + level_label\n",
    "                )\n",
    "\n",
    "fig.update_traces(mode = \"markers+lines\")\n",
    "\n",
    "fig.update_yaxes(matches=None, rangemode = \"tozero\")\n",
    "\n",
    "fig.write_html('./graphs/entries_line_' + level + '.html')\n",
    "\n",
    "fig.show()"
   ]
  },
  {
   "cell_type": "code",
   "execution_count": 43,
   "id": "e566af13",
   "metadata": {},
   "outputs": [
    {
     "data": {
      "text/plain": [
       "'https://plotly.com/~mrcrookes/35/'"
      ]
     },
     "execution_count": 43,
     "metadata": {},
     "output_type": "execute_result"
    }
   ],
   "source": [
    "# Upload to Chart Studio\n",
    "py.plot(fig, filename = 'entries_line_' + level, auto_open=True)\n",
    "\n",
    "# Output html embed code\n",
    "#tls.get_embed('https://plotly.com/~mrcrookes/14/') #change to your url"
   ]
  },
  {
   "cell_type": "code",
   "execution_count": null,
   "id": "929d613b",
   "metadata": {},
   "outputs": [],
   "source": []
  }
 ],
 "metadata": {
  "kernelspec": {
   "display_name": "Python 3 (ipykernel)",
   "language": "python",
   "name": "python3"
  },
  "language_info": {
   "codemirror_mode": {
    "name": "ipython",
    "version": 3
   },
   "file_extension": ".py",
   "mimetype": "text/x-python",
   "name": "python",
   "nbconvert_exporter": "python",
   "pygments_lexer": "ipython3",
   "version": "3.10.4"
  }
 },
 "nbformat": 4,
 "nbformat_minor": 5
}
