{
 "cells": [
  {
   "cell_type": "code",
   "execution_count": 2,
   "id": "26c21252",
   "metadata": {},
   "outputs": [],
   "source": [
    "# Import key librarys\n",
    "\n",
    "import pandas as pd\n",
    "import numpy as np\n",
    "\n",
    "import plotly.express as px\n",
    "\n",
    "import chart_studio\n",
    "import chart_studio.plotly as py\n",
    "import chart_studio.tools as tls"
   ]
  },
  {
   "cell_type": "code",
   "execution_count": 24,
   "id": "1a4f0eec",
   "metadata": {},
   "outputs": [],
   "source": [
    "# Define level\n",
    "level = 'Advanced Higher'\n",
    "level_label = level.replace('_', ' ')\n",
    "\n",
    "# Import data\n",
    "years = ['2018', '2017', '2016', '2015', '2014']\n",
    "\n",
    "fields = ['Title','National Rating']\n",
    "\n",
    "li = []\n",
    "\n",
    "for year in years:\n",
    "    \n",
    "    df = pd.read_excel('./ratings/National Ratings ' + year + '.xlsx', usecols = fields,\n",
    "                        sheet_name = level, skiprows = 5)\n",
    "    \n",
    "    df['Year'] = year\n",
    "    \n",
    "    li.append(df)"
   ]
  },
  {
   "cell_type": "code",
   "execution_count": 25,
   "id": "d3b2c115",
   "metadata": {},
   "outputs": [],
   "source": [
    "years = ['2013', '2012','2011','2010','2009','2008','2007','2006']\n",
    "\n",
    "for year in years:\n",
    "    \n",
    "    fields = ['Title','National Rating']\n",
    "    rows = 5\n",
    "    \n",
    "    # Deal with different format of SQA spreadsheets over the years\n",
    "    \n",
    "    if level == 'National 5' or level == 'Standard Grade' or level == 'SG':\n",
    "    \n",
    "        if year >= '2012':\n",
    "            level = 'Standard Grade'\n",
    "        else:\n",
    "            level = 'SG'\n",
    "            \n",
    "        if year <= '2010':\n",
    "            rows = 6\n",
    "        \n",
    "        if year <= '2008':\n",
    "            rows = 5\n",
    "                \n",
    "    if level == 'Advanced Higher' and year <= '2008':\n",
    "        level = 'Adv Higher'\n",
    "        \n",
    "    if year == '2006':\n",
    "        rows = 4\n",
    "\n",
    "    df = pd.read_excel('./ratings/National Ratings ' + year + '.xls', usecols = fields,\n",
    "                        sheet_name = level, skiprows = rows)\n",
    "    \n",
    "    df['Year'] = year\n",
    "    \n",
    "    li.append(df)"
   ]
  },
  {
   "cell_type": "code",
   "execution_count": 26,
   "id": "dc7b52f2",
   "metadata": {},
   "outputs": [],
   "source": [
    "# concat list into long df\n",
    "\n",
    "ldf = pd.concat(li, axis = 0, ignore_index = True)"
   ]
  },
  {
   "cell_type": "code",
   "execution_count": 27,
   "id": "5d2744e3",
   "metadata": {
    "scrolled": false
   },
   "outputs": [
    {
     "data": {
      "text/html": [
       "<div>\n",
       "<style scoped>\n",
       "    .dataframe tbody tr th:only-of-type {\n",
       "        vertical-align: middle;\n",
       "    }\n",
       "\n",
       "    .dataframe tbody tr th {\n",
       "        vertical-align: top;\n",
       "    }\n",
       "\n",
       "    .dataframe thead th {\n",
       "        text-align: right;\n",
       "    }\n",
       "</style>\n",
       "<table border=\"1\" class=\"dataframe\">\n",
       "  <thead>\n",
       "    <tr style=\"text-align: right;\">\n",
       "      <th></th>\n",
       "      <th>National Rating</th>\n",
       "      <th>Title</th>\n",
       "      <th>Year</th>\n",
       "    </tr>\n",
       "  </thead>\n",
       "  <tbody>\n",
       "    <tr>\n",
       "      <th>478</th>\n",
       "      <td>0.199863</td>\n",
       "      <td>Religious, Moral and Philosophical Studies</td>\n",
       "      <td>2006</td>\n",
       "    </tr>\n",
       "    <tr>\n",
       "      <th>479</th>\n",
       "      <td>NaN</td>\n",
       "      <td>Russian</td>\n",
       "      <td>2006</td>\n",
       "    </tr>\n",
       "    <tr>\n",
       "      <th>480</th>\n",
       "      <td>NaN</td>\n",
       "      <td>Sociology</td>\n",
       "      <td>2006</td>\n",
       "    </tr>\n",
       "    <tr>\n",
       "      <th>481</th>\n",
       "      <td>0.046842</td>\n",
       "      <td>Spanish</td>\n",
       "      <td>2006</td>\n",
       "    </tr>\n",
       "    <tr>\n",
       "      <th>482</th>\n",
       "      <td>0.162924</td>\n",
       "      <td>Technological Studies</td>\n",
       "      <td>2006</td>\n",
       "    </tr>\n",
       "  </tbody>\n",
       "</table>\n",
       "</div>"
      ],
      "text/plain": [
       "     National Rating                                       Title  Year\n",
       "478         0.199863  Religious, Moral and Philosophical Studies  2006\n",
       "479              NaN                                     Russian  2006\n",
       "480              NaN                                   Sociology  2006\n",
       "481         0.046842                                     Spanish  2006\n",
       "482         0.162924                       Technological Studies  2006"
      ]
     },
     "execution_count": 27,
     "metadata": {},
     "output_type": "execute_result"
    }
   ],
   "source": [
    "ldf.tail()"
   ]
  },
  {
   "cell_type": "code",
   "execution_count": 28,
   "id": "755e4840",
   "metadata": {},
   "outputs": [],
   "source": [
    "# sort colum titles\n",
    "ldf = ldf.rename({'Title': 'Subject'}, axis = 1)\n",
    "\n",
    "# remove rows with NaN\n",
    "ldf.dropna(inplace = True)\n",
    "\n",
    "# round to 2 decimal places\n",
    "ldf = ldf.round(2)"
   ]
  },
  {
   "cell_type": "code",
   "execution_count": 29,
   "id": "3db00e0a",
   "metadata": {},
   "outputs": [],
   "source": [
    "# Sort out subjects names in 2016 and 2017 datasets\n",
    "\n",
    "def tidy_up(df):\n",
    "\n",
    "    # Update names\n",
    "    di = {'Home Economics: Fashion and Textile Technology': 'Fashion and Textile Technology',\n",
    "            'Home Economics: Health and Food Technology': 'Health and Food Technology',\n",
    "            'Home Economics: Lifestyle and Consumer Technology': 'Lifestyle and Consumer Technology',\n",
    "            'Administration': 'Administration and IT',\n",
    "            'Computing': 'Computing Science',\n",
    "            'Dance Practice': 'Dance',\n",
    "            'Managing Environmental Resources': 'Environmental Science',\n",
    "            'Media': 'Media Studies',\n",
    "            'Product Design': 'Design and Manufacture',\n",
    "            'Art and Design: Design': 'Art and Design (Design)',\n",
    "            'Art and Design: Expressive': 'Art and Design (Expressive)',\n",
    "            'Art and Design Enquiry: Design': 'Art and Design (Design)',\n",
    "            'Art and Design Enquiry: Expressive': 'Art and Design (Expressive)',\n",
    "            'Gaidhlig': 'Gàidhlig',\n",
    "            'Accounting': 'Accounting & Finance',\n",
    "            'Art & Design': 'Art and Design',\n",
    "            'Religious Studies': 'Religious, Moral and Philosophical Studies',\n",
    "            'Computing Studies': 'Computing Science',\n",
    "            'Home Economics': 'Health and Food Technology',\n",
    "            'Photography for the Media': 'Photography'}\n",
    "    \n",
    "    df = df.replace({\"Subject\": di})\n",
    "    \n",
    "    # Remove revised science courses\n",
    "    values = ['Biology (Revised)', 'Chemistry (Revised)', 'Physics (Revised)', 'Human Biology (Revised)']\n",
    "    \n",
    "    df = df.loc[~df['Subject'].isin(values)]\n",
    "    \n",
    "    # Remove other courses that don't seem useful\n",
    "    values = ['Religious, Moral and Philosophical Studies (New)', 'Selling Scheduled Air Travel',\n",
    "                 'Building Construction', 'Construction']\n",
    "    \n",
    "    df = df.loc[~df['Subject'].isin(values)]\n",
    "    \n",
    "    return df\n",
    "\n",
    "ldf = tidy_up(ldf)"
   ]
  },
  {
   "cell_type": "code",
   "execution_count": 30,
   "id": "16c94a53",
   "metadata": {},
   "outputs": [
    {
     "data": {
      "application/vnd.plotly.v1+json": {
       "config": {
        "plotlyServerURL": "https://plotly.com"
       },
       "data": [
        {
         "hovertemplate": "Subject=Accounting & Finance<br>Year=%{x}<br>National Rating=%{y}<extra></extra>",
         "legendgroup": "Accounting & Finance",
         "line": {
          "color": "#636efa",
          "dash": "solid"
         },
         "marker": {
          "symbol": "circle"
         },
         "mode": "markers+lines",
         "name": "Accounting & Finance",
         "orientation": "v",
         "showlegend": true,
         "type": "scatter",
         "x": [
          "2018",
          "2017",
          "2016",
          "2015",
          "2013",
          "2012",
          "2010",
          "2009",
          "2008",
          "2007",
          "2006"
         ],
         "xaxis": "x",
         "y": [
          0.56,
          0.23,
          0.34,
          -0.43,
          -0.15,
          0.09,
          -0.25,
          0.05,
          0.08,
          -0.44,
          -0.39
         ],
         "yaxis": "y"
        },
        {
         "hovertemplate": "Subject=Applied Mathematics<br>Year=%{x}<br>National Rating=%{y}<extra></extra>",
         "legendgroup": "Applied Mathematics",
         "line": {
          "color": "#EF553B",
          "dash": "solid"
         },
         "marker": {
          "symbol": "circle"
         },
         "mode": "markers+lines",
         "name": "Applied Mathematics",
         "orientation": "v",
         "showlegend": true,
         "type": "scatter",
         "x": [
          "2015",
          "2014",
          "2013",
          "2012",
          "2011",
          "2010",
          "2009",
          "2008",
          "2007",
          "2006"
         ],
         "xaxis": "x",
         "y": [
          -0.32,
          -0.43,
          -0.78,
          -0.71,
          -0.53,
          -0.68,
          -0.58,
          -0.5,
          -0.36,
          -0.63
         ],
         "yaxis": "y"
        },
        {
         "hovertemplate": "Subject=Art and Design (Design)<br>Year=%{x}<br>National Rating=%{y}<extra></extra>",
         "legendgroup": "Art and Design (Design)",
         "line": {
          "color": "#00cc96",
          "dash": "solid"
         },
         "marker": {
          "symbol": "circle"
         },
         "mode": "markers+lines",
         "name": "Art and Design (Design)",
         "orientation": "v",
         "showlegend": true,
         "type": "scatter",
         "x": [
          "2018",
          "2017",
          "2016",
          "2015",
          "2014",
          "2013",
          "2012",
          "2011",
          "2010",
          "2009",
          "2008",
          "2007",
          "2006"
         ],
         "xaxis": "x",
         "y": [
          0.47,
          0.85,
          0.62,
          0.78,
          0.71,
          0.63,
          0.6,
          0.78,
          0.55,
          0.8,
          0.53,
          0.56,
          0.52
         ],
         "yaxis": "y"
        },
        {
         "hovertemplate": "Subject=Art and Design (Expressive)<br>Year=%{x}<br>National Rating=%{y}<extra></extra>",
         "legendgroup": "Art and Design (Expressive)",
         "line": {
          "color": "#ab63fa",
          "dash": "solid"
         },
         "marker": {
          "symbol": "circle"
         },
         "mode": "markers+lines",
         "name": "Art and Design (Expressive)",
         "orientation": "v",
         "showlegend": true,
         "type": "scatter",
         "x": [
          "2018",
          "2017",
          "2016",
          "2015",
          "2014",
          "2013",
          "2012",
          "2011",
          "2010",
          "2009",
          "2008",
          "2007",
          "2006"
         ],
         "xaxis": "x",
         "y": [
          0.49,
          0.84,
          0.57,
          0.6,
          0.81,
          0.51,
          0.57,
          0.38,
          0.6,
          0.59,
          0.59,
          0.55,
          0.34
         ],
         "yaxis": "y"
        },
        {
         "hovertemplate": "Subject=Art and Design: Research and Appreciation<br>Year=%{x}<br>National Rating=%{y}<extra></extra>",
         "legendgroup": "Art and Design: Research and Appreciation",
         "line": {
          "color": "#FFA15A",
          "dash": "solid"
         },
         "marker": {
          "symbol": "circle"
         },
         "mode": "markers+lines",
         "name": "Art and Design: Research and Appreciation",
         "orientation": "v",
         "showlegend": true,
         "type": "scatter",
         "x": [
          "2007",
          "2006"
         ],
         "xaxis": "x",
         "y": [
          0.41,
          0.6
         ],
         "yaxis": "y"
        },
        {
         "hovertemplate": "Subject=Biology<br>Year=%{x}<br>National Rating=%{y}<extra></extra>",
         "legendgroup": "Biology",
         "line": {
          "color": "#19d3f3",
          "dash": "solid"
         },
         "marker": {
          "symbol": "circle"
         },
         "mode": "markers+lines",
         "name": "Biology",
         "orientation": "v",
         "showlegend": true,
         "type": "scatter",
         "x": [
          "2018",
          "2017",
          "2016",
          "2015",
          "2014",
          "2013",
          "2012",
          "2011",
          "2010",
          "2009",
          "2008",
          "2007",
          "2006"
         ],
         "xaxis": "x",
         "y": [
          -0.27,
          -0.42,
          -0.2,
          -0.24,
          -0.28,
          -0.12,
          -0.15,
          -0.31,
          -0.17,
          -0.19,
          -0.05,
          -0.14,
          -0.18
         ],
         "yaxis": "y"
        },
        {
         "hovertemplate": "Subject=Business Management<br>Year=%{x}<br>National Rating=%{y}<extra></extra>",
         "legendgroup": "Business Management",
         "line": {
          "color": "#FF6692",
          "dash": "solid"
         },
         "marker": {
          "symbol": "circle"
         },
         "mode": "markers+lines",
         "name": "Business Management",
         "orientation": "v",
         "showlegend": true,
         "type": "scatter",
         "x": [
          "2018",
          "2017",
          "2016",
          "2015",
          "2014",
          "2013",
          "2012",
          "2011",
          "2010",
          "2009",
          "2008",
          "2007",
          "2006"
         ],
         "xaxis": "x",
         "y": [
          0.32,
          0.53,
          0.18,
          0.14,
          -0.13,
          0.14,
          -0.03,
          -0.48,
          -0.22,
          -0.58,
          -0.46,
          -0.43,
          -0.46
         ],
         "yaxis": "y"
        },
        {
         "hovertemplate": "Subject=Chemistry<br>Year=%{x}<br>National Rating=%{y}<extra></extra>",
         "legendgroup": "Chemistry",
         "line": {
          "color": "#B6E880",
          "dash": "solid"
         },
         "marker": {
          "symbol": "circle"
         },
         "mode": "markers+lines",
         "name": "Chemistry",
         "orientation": "v",
         "showlegend": true,
         "type": "scatter",
         "x": [
          "2018",
          "2017",
          "2016",
          "2015",
          "2014",
          "2013",
          "2012",
          "2011",
          "2010",
          "2009",
          "2008",
          "2007",
          "2006"
         ],
         "xaxis": "x",
         "y": [
          -0.27,
          -0.3,
          -0.3,
          -0.3,
          -0.43,
          -0.34,
          -0.32,
          -0.3,
          -0.4,
          -0.36,
          -0.35,
          -0.21,
          -0.31
         ],
         "yaxis": "y"
        },
        {
         "hovertemplate": "Subject=Chinese Languages<br>Year=%{x}<br>National Rating=%{y}<extra></extra>",
         "legendgroup": "Chinese Languages",
         "line": {
          "color": "#FF97FF",
          "dash": "solid"
         },
         "marker": {
          "symbol": "circle"
         },
         "mode": "markers+lines",
         "name": "Chinese Languages",
         "orientation": "v",
         "showlegend": true,
         "type": "scatter",
         "x": [
          "2018",
          "2017"
         ],
         "xaxis": "x",
         "y": [
          1.18,
          0.94
         ],
         "yaxis": "y"
        },
        {
         "hovertemplate": "Subject=Classical Studies<br>Year=%{x}<br>National Rating=%{y}<extra></extra>",
         "legendgroup": "Classical Studies",
         "line": {
          "color": "#FECB52",
          "dash": "solid"
         },
         "marker": {
          "symbol": "circle"
         },
         "mode": "markers+lines",
         "name": "Classical Studies",
         "orientation": "v",
         "showlegend": true,
         "type": "scatter",
         "x": [
          "2018",
          "2017",
          "2016",
          "2015",
          "2014",
          "2013",
          "2012",
          "2011",
          "2010",
          "2009",
          "2008",
          "2007",
          "2006"
         ],
         "xaxis": "x",
         "y": [
          0.19,
          0.01,
          0.56,
          0.89,
          0.87,
          0.97,
          0.94,
          0.7,
          0.8,
          0.7,
          0.66,
          0.49,
          0.74
         ],
         "yaxis": "y"
        },
        {
         "hovertemplate": "Subject=Computing Science<br>Year=%{x}<br>National Rating=%{y}<extra></extra>",
         "legendgroup": "Computing Science",
         "line": {
          "color": "#636efa",
          "dash": "solid"
         },
         "marker": {
          "symbol": "circle"
         },
         "mode": "markers+lines",
         "name": "Computing Science",
         "orientation": "v",
         "showlegend": true,
         "type": "scatter",
         "x": [
          "2018",
          "2017",
          "2016",
          "2015",
          "2014",
          "2013",
          "2012",
          "2011",
          "2010",
          "2009",
          "2008",
          "2007",
          "2006"
         ],
         "xaxis": "x",
         "y": [
          0.22,
          0.08,
          0.16,
          0.69,
          0.47,
          0.67,
          0.54,
          0.44,
          0.47,
          0.42,
          0.32,
          0.42,
          0.16
         ],
         "yaxis": "y"
        },
        {
         "hovertemplate": "Subject=Design and Manufacture<br>Year=%{x}<br>National Rating=%{y}<extra></extra>",
         "legendgroup": "Design and Manufacture",
         "line": {
          "color": "#EF553B",
          "dash": "solid"
         },
         "marker": {
          "symbol": "circle"
         },
         "mode": "markers+lines",
         "name": "Design and Manufacture",
         "orientation": "v",
         "showlegend": true,
         "type": "scatter",
         "x": [
          "2018",
          "2017",
          "2016",
          "2015",
          "2014",
          "2013",
          "2012",
          "2011",
          "2010",
          "2009",
          "2008",
          "2007",
          "2006"
         ],
         "xaxis": "x",
         "y": [
          -0.25,
          -0.29,
          -0.88,
          -0.94,
          -0.51,
          -0.63,
          -0.72,
          -0.6,
          0.15,
          -0.08,
          -0.51,
          -0.25,
          0.01
         ],
         "yaxis": "y"
        },
        {
         "hovertemplate": "Subject=Drama<br>Year=%{x}<br>National Rating=%{y}<extra></extra>",
         "legendgroup": "Drama",
         "line": {
          "color": "#00cc96",
          "dash": "solid"
         },
         "marker": {
          "symbol": "circle"
         },
         "mode": "markers+lines",
         "name": "Drama",
         "orientation": "v",
         "showlegend": true,
         "type": "scatter",
         "x": [
          "2018",
          "2017",
          "2016",
          "2015",
          "2014",
          "2013",
          "2012",
          "2011",
          "2010",
          "2009",
          "2008",
          "2007",
          "2006"
         ],
         "xaxis": "x",
         "y": [
          0.58,
          0.75,
          0.61,
          0.57,
          0.39,
          0.31,
          0.37,
          0.21,
          0.24,
          0.31,
          0.07,
          0.07,
          0.24
         ],
         "yaxis": "y"
        },
        {
         "hovertemplate": "Subject=Economics<br>Year=%{x}<br>National Rating=%{y}<extra></extra>",
         "legendgroup": "Economics",
         "line": {
          "color": "#ab63fa",
          "dash": "solid"
         },
         "marker": {
          "symbol": "circle"
         },
         "mode": "markers+lines",
         "name": "Economics",
         "orientation": "v",
         "showlegend": true,
         "type": "scatter",
         "x": [
          "2018",
          "2017",
          "2016",
          "2015",
          "2014",
          "2013",
          "2012",
          "2011",
          "2010",
          "2009",
          "2008",
          "2007",
          "2006"
         ],
         "xaxis": "x",
         "y": [
          -0.28,
          0.07,
          -0.21,
          -0.02,
          -0.02,
          -0.09,
          0.05,
          0.01,
          -0.22,
          -0.07,
          0.1,
          0.14,
          -0.24
         ],
         "yaxis": "y"
        },
        {
         "hovertemplate": "Subject=Engineering Science<br>Year=%{x}<br>National Rating=%{y}<extra></extra>",
         "legendgroup": "Engineering Science",
         "line": {
          "color": "#FFA15A",
          "dash": "solid"
         },
         "marker": {
          "symbol": "circle"
         },
         "mode": "markers+lines",
         "name": "Engineering Science",
         "orientation": "v",
         "showlegend": true,
         "type": "scatter",
         "x": [
          "2018",
          "2017",
          "2016"
         ],
         "xaxis": "x",
         "y": [
          -0.08,
          -0.43,
          0.32
         ],
         "yaxis": "y"
        },
        {
         "hovertemplate": "Subject=English<br>Year=%{x}<br>National Rating=%{y}<extra></extra>",
         "legendgroup": "English",
         "line": {
          "color": "#19d3f3",
          "dash": "solid"
         },
         "marker": {
          "symbol": "circle"
         },
         "mode": "markers+lines",
         "name": "English",
         "orientation": "v",
         "showlegend": true,
         "type": "scatter",
         "x": [
          "2018",
          "2017",
          "2016",
          "2015",
          "2014",
          "2013",
          "2012",
          "2011",
          "2010",
          "2009",
          "2008",
          "2007",
          "2006"
         ],
         "xaxis": "x",
         "y": [
          0.22,
          0.13,
          0.21,
          0.14,
          0.16,
          0.11,
          0.15,
          0.14,
          0.18,
          -0.08,
          -0.29,
          -0.28,
          0.03
         ],
         "yaxis": "y"
        },
        {
         "hovertemplate": "Subject=French<br>Year=%{x}<br>National Rating=%{y}<extra></extra>",
         "legendgroup": "French",
         "line": {
          "color": "#FF6692",
          "dash": "solid"
         },
         "marker": {
          "symbol": "circle"
         },
         "mode": "markers+lines",
         "name": "French",
         "orientation": "v",
         "showlegend": true,
         "type": "scatter",
         "x": [
          "2018",
          "2017",
          "2016",
          "2015",
          "2014",
          "2013",
          "2012",
          "2011",
          "2010",
          "2009",
          "2008",
          "2007",
          "2006"
         ],
         "xaxis": "x",
         "y": [
          0.09,
          -0.12,
          0.07,
          -0.04,
          0.02,
          0.1,
          0.26,
          -0.06,
          -0.08,
          -0.01,
          -0.13,
          -0.11,
          -0.18
         ],
         "yaxis": "y"
        },
        {
         "hovertemplate": "Subject=Geography<br>Year=%{x}<br>National Rating=%{y}<extra></extra>",
         "legendgroup": "Geography",
         "line": {
          "color": "#B6E880",
          "dash": "solid"
         },
         "marker": {
          "symbol": "circle"
         },
         "mode": "markers+lines",
         "name": "Geography",
         "orientation": "v",
         "showlegend": true,
         "type": "scatter",
         "x": [
          "2018",
          "2017",
          "2016",
          "2015",
          "2014",
          "2013",
          "2012",
          "2011",
          "2010",
          "2009",
          "2008",
          "2007",
          "2006"
         ],
         "xaxis": "x",
         "y": [
          0.38,
          0.33,
          0.33,
          0.5,
          0.44,
          0.45,
          0.53,
          0.27,
          -0.03,
          0.34,
          0.37,
          0.27,
          0.39
         ],
         "yaxis": "y"
        },
        {
         "hovertemplate": "Subject=German<br>Year=%{x}<br>National Rating=%{y}<extra></extra>",
         "legendgroup": "German",
         "line": {
          "color": "#FF97FF",
          "dash": "solid"
         },
         "marker": {
          "symbol": "circle"
         },
         "mode": "markers+lines",
         "name": "German",
         "orientation": "v",
         "showlegend": true,
         "type": "scatter",
         "x": [
          "2018",
          "2017",
          "2016",
          "2015",
          "2014",
          "2013",
          "2012",
          "2011",
          "2010",
          "2009",
          "2008",
          "2007",
          "2006"
         ],
         "xaxis": "x",
         "y": [
          0.31,
          0.16,
          0.43,
          0.05,
          0.07,
          -0.01,
          -0.22,
          -0.07,
          -0.03,
          0.17,
          -0.32,
          -0.17,
          -0.06
         ],
         "yaxis": "y"
        },
        {
         "hovertemplate": "Subject=Graphic Communication<br>Year=%{x}<br>National Rating=%{y}<extra></extra>",
         "legendgroup": "Graphic Communication",
         "line": {
          "color": "#FECB52",
          "dash": "solid"
         },
         "marker": {
          "symbol": "circle"
         },
         "mode": "markers+lines",
         "name": "Graphic Communication",
         "orientation": "v",
         "showlegend": true,
         "type": "scatter",
         "x": [
          "2018",
          "2017",
          "2016",
          "2015",
          "2014",
          "2013",
          "2012",
          "2011",
          "2010",
          "2009",
          "2008",
          "2007",
          "2006"
         ],
         "xaxis": "x",
         "y": [
          -0.02,
          0.02,
          0.05,
          0.93,
          1.04,
          0.96,
          1.08,
          1.2,
          1.05,
          1.13,
          0.97,
          1.23,
          0.91
         ],
         "yaxis": "y"
        },
        {
         "hovertemplate": "Subject=History<br>Year=%{x}<br>National Rating=%{y}<extra></extra>",
         "legendgroup": "History",
         "line": {
          "color": "#636efa",
          "dash": "solid"
         },
         "marker": {
          "symbol": "circle"
         },
         "mode": "markers+lines",
         "name": "History",
         "orientation": "v",
         "showlegend": true,
         "type": "scatter",
         "x": [
          "2018",
          "2017",
          "2016",
          "2015",
          "2014",
          "2013",
          "2012",
          "2011",
          "2010",
          "2009",
          "2008",
          "2007",
          "2006"
         ],
         "xaxis": "x",
         "y": [
          0.18,
          0.27,
          0.3,
          0.39,
          0.36,
          0.44,
          0.3,
          0.24,
          0.52,
          0.44,
          0.32,
          0.11,
          0.24
         ],
         "yaxis": "y"
        },
        {
         "hovertemplate": "Subject=Information Systems<br>Year=%{x}<br>National Rating=%{y}<extra></extra>",
         "legendgroup": "Information Systems",
         "line": {
          "color": "#EF553B",
          "dash": "solid"
         },
         "marker": {
          "symbol": "circle"
         },
         "mode": "markers+lines",
         "name": "Information Systems",
         "orientation": "v",
         "showlegend": true,
         "type": "scatter",
         "x": [
          "2013",
          "2012",
          "2011",
          "2010",
          "2009",
          "2008",
          "2007",
          "2006"
         ],
         "xaxis": "x",
         "y": [
          0.97,
          1.23,
          0.55,
          0.32,
          0.26,
          0.51,
          -0.25,
          0.64
         ],
         "yaxis": "y"
        },
        {
         "hovertemplate": "Subject=Italian<br>Year=%{x}<br>National Rating=%{y}<extra></extra>",
         "legendgroup": "Italian",
         "line": {
          "color": "#00cc96",
          "dash": "solid"
         },
         "marker": {
          "symbol": "circle"
         },
         "mode": "markers+lines",
         "name": "Italian",
         "orientation": "v",
         "showlegend": true,
         "type": "scatter",
         "x": [
          "2018",
          "2015",
          "2014",
          "2012",
          "2010",
          "2006"
         ],
         "xaxis": "x",
         "y": [
          0.81,
          0.35,
          0.42,
          0.63,
          0.63,
          0.76
         ],
         "yaxis": "y"
        },
        {
         "hovertemplate": "Subject=Latin<br>Year=%{x}<br>National Rating=%{y}<extra></extra>",
         "legendgroup": "Latin",
         "line": {
          "color": "#ab63fa",
          "dash": "solid"
         },
         "marker": {
          "symbol": "circle"
         },
         "mode": "markers+lines",
         "name": "Latin",
         "orientation": "v",
         "showlegend": true,
         "type": "scatter",
         "x": [
          "2018",
          "2017",
          "2016",
          "2015",
          "2014",
          "2013",
          "2012",
          "2011",
          "2010",
          "2009",
          "2008",
          "2007",
          "2006"
         ],
         "xaxis": "x",
         "y": [
          -0.07,
          -0.05,
          0.39,
          0.12,
          0.34,
          0.09,
          -0.37,
          -0.08,
          -0.19,
          -0.21,
          -0.05,
          0.54,
          0.11
         ],
         "yaxis": "y"
        },
        {
         "hovertemplate": "Subject=Mathematics<br>Year=%{x}<br>National Rating=%{y}<extra></extra>",
         "legendgroup": "Mathematics",
         "line": {
          "color": "#FFA15A",
          "dash": "solid"
         },
         "marker": {
          "symbol": "circle"
         },
         "mode": "markers+lines",
         "name": "Mathematics",
         "orientation": "v",
         "showlegend": true,
         "type": "scatter",
         "x": [
          "2018",
          "2017",
          "2016",
          "2015",
          "2014",
          "2013",
          "2012",
          "2011",
          "2010",
          "2009",
          "2008",
          "2007",
          "2006"
         ],
         "xaxis": "x",
         "y": [
          -0.15,
          -0.17,
          -0.25,
          -0.43,
          -0.36,
          -0.43,
          -0.49,
          -0.38,
          -0.43,
          -0.39,
          -0.21,
          -0.28,
          -0.28
         ],
         "yaxis": "y"
        },
        {
         "hovertemplate": "Subject=Mathematics of Mechanics<br>Year=%{x}<br>National Rating=%{y}<extra></extra>",
         "legendgroup": "Mathematics of Mechanics",
         "line": {
          "color": "#19d3f3",
          "dash": "solid"
         },
         "marker": {
          "symbol": "circle"
         },
         "mode": "markers+lines",
         "name": "Mathematics of Mechanics",
         "orientation": "v",
         "showlegend": true,
         "type": "scatter",
         "x": [
          "2018",
          "2017",
          "2016"
         ],
         "xaxis": "x",
         "y": [
          -0.58,
          -0.58,
          -0.95
         ],
         "yaxis": "y"
        },
        {
         "hovertemplate": "Subject=Modern Studies<br>Year=%{x}<br>National Rating=%{y}<extra></extra>",
         "legendgroup": "Modern Studies",
         "line": {
          "color": "#FF6692",
          "dash": "solid"
         },
         "marker": {
          "symbol": "circle"
         },
         "mode": "markers+lines",
         "name": "Modern Studies",
         "orientation": "v",
         "showlegend": true,
         "type": "scatter",
         "x": [
          "2018",
          "2017",
          "2016",
          "2015",
          "2014",
          "2013",
          "2012",
          "2011",
          "2010",
          "2009",
          "2008",
          "2007",
          "2006"
         ],
         "xaxis": "x",
         "y": [
          0.07,
          0.18,
          0.2,
          0.44,
          0.45,
          0.42,
          0.42,
          0.51,
          0.65,
          0.72,
          0.56,
          0.46,
          0.34
         ],
         "yaxis": "y"
        },
        {
         "hovertemplate": "Subject=Music<br>Year=%{x}<br>National Rating=%{y}<extra></extra>",
         "legendgroup": "Music",
         "line": {
          "color": "#B6E880",
          "dash": "solid"
         },
         "marker": {
          "symbol": "circle"
         },
         "mode": "markers+lines",
         "name": "Music",
         "orientation": "v",
         "showlegend": true,
         "type": "scatter",
         "x": [
          "2018",
          "2017",
          "2016",
          "2015",
          "2014",
          "2013",
          "2012",
          "2011",
          "2010",
          "2009",
          "2008",
          "2007",
          "2006"
         ],
         "xaxis": "x",
         "y": [
          1.08,
          1.32,
          1.13,
          1.17,
          1.15,
          1.14,
          1.06,
          1.05,
          1.18,
          1.16,
          0.89,
          0.83,
          1.13
         ],
         "yaxis": "y"
        },
        {
         "hovertemplate": "Subject=Physical Education<br>Year=%{x}<br>National Rating=%{y}<extra></extra>",
         "legendgroup": "Physical Education",
         "line": {
          "color": "#FF97FF",
          "dash": "solid"
         },
         "marker": {
          "symbol": "circle"
         },
         "mode": "markers+lines",
         "name": "Physical Education",
         "orientation": "v",
         "showlegend": true,
         "type": "scatter",
         "x": [
          "2018",
          "2017",
          "2016",
          "2015",
          "2014",
          "2013",
          "2012",
          "2011",
          "2010",
          "2009",
          "2008",
          "2007"
         ],
         "xaxis": "x",
         "y": [
          0.61,
          0.76,
          0.67,
          0.37,
          0.26,
          0.42,
          0.28,
          0.31,
          0.66,
          0.44,
          0.3,
          0.19
         ],
         "yaxis": "y"
        },
        {
         "hovertemplate": "Subject=Physics<br>Year=%{x}<br>National Rating=%{y}<extra></extra>",
         "legendgroup": "Physics",
         "line": {
          "color": "#FECB52",
          "dash": "solid"
         },
         "marker": {
          "symbol": "circle"
         },
         "mode": "markers+lines",
         "name": "Physics",
         "orientation": "v",
         "showlegend": true,
         "type": "scatter",
         "x": [
          "2018",
          "2017",
          "2016",
          "2015",
          "2014",
          "2013",
          "2012",
          "2011",
          "2010",
          "2009",
          "2008",
          "2007",
          "2006"
         ],
         "xaxis": "x",
         "y": [
          -0.23,
          -0.24,
          -0.26,
          -0.12,
          -0.1,
          -0.12,
          -0.08,
          -0.03,
          -0.11,
          -0.11,
          -0.03,
          0.03,
          0.03
         ],
         "yaxis": "y"
        },
        {
         "hovertemplate": "Subject=Religious, Moral and Philosophical Studies<br>Year=%{x}<br>National Rating=%{y}<extra></extra>",
         "legendgroup": "Religious, Moral and Philosophical Studies",
         "line": {
          "color": "#636efa",
          "dash": "solid"
         },
         "marker": {
          "symbol": "circle"
         },
         "mode": "markers+lines",
         "name": "Religious, Moral and Philosophical Studies",
         "orientation": "v",
         "showlegend": true,
         "type": "scatter",
         "x": [
          "2018",
          "2017",
          "2016",
          "2015",
          "2014",
          "2013",
          "2012",
          "2011",
          "2010",
          "2009",
          "2008",
          "2007",
          "2006"
         ],
         "xaxis": "x",
         "y": [
          -0.43,
          -0.02,
          0.4,
          0.46,
          0.51,
          0.7,
          0.55,
          0.49,
          0.37,
          0.45,
          0.22,
          0.57,
          0.2
         ],
         "yaxis": "y"
        },
        {
         "hovertemplate": "Subject=Spanish<br>Year=%{x}<br>National Rating=%{y}<extra></extra>",
         "legendgroup": "Spanish",
         "line": {
          "color": "#EF553B",
          "dash": "solid"
         },
         "marker": {
          "symbol": "circle"
         },
         "mode": "markers+lines",
         "name": "Spanish",
         "orientation": "v",
         "showlegend": true,
         "type": "scatter",
         "x": [
          "2018",
          "2017",
          "2016",
          "2015",
          "2014",
          "2013",
          "2012",
          "2011",
          "2010",
          "2009",
          "2008",
          "2007",
          "2006"
         ],
         "xaxis": "x",
         "y": [
          -0.02,
          0.02,
          0,
          -0.13,
          0.06,
          -0.13,
          -0.16,
          -0.09,
          0.01,
          -0.05,
          -0.1,
          -0.11,
          0.05
         ],
         "yaxis": "y"
        },
        {
         "hovertemplate": "Subject=Statistics<br>Year=%{x}<br>National Rating=%{y}<extra></extra>",
         "legendgroup": "Statistics",
         "line": {
          "color": "#00cc96",
          "dash": "solid"
         },
         "marker": {
          "symbol": "circle"
         },
         "mode": "markers+lines",
         "name": "Statistics",
         "orientation": "v",
         "showlegend": true,
         "type": "scatter",
         "x": [
          "2018",
          "2017",
          "2016"
         ],
         "xaxis": "x",
         "y": [
          -0.33,
          -0.52,
          -0.51
         ],
         "yaxis": "y"
        },
        {
         "hovertemplate": "Subject=Technological Studies<br>Year=%{x}<br>National Rating=%{y}<extra></extra>",
         "legendgroup": "Technological Studies",
         "line": {
          "color": "#ab63fa",
          "dash": "solid"
         },
         "marker": {
          "symbol": "circle"
         },
         "mode": "markers+lines",
         "name": "Technological Studies",
         "orientation": "v",
         "showlegend": true,
         "type": "scatter",
         "x": [
          "2015",
          "2014",
          "2013",
          "2012",
          "2011",
          "2010",
          "2009",
          "2008",
          "2007",
          "2006"
         ],
         "xaxis": "x",
         "y": [
          0.54,
          0.66,
          0.5,
          0.1,
          0.17,
          -0.19,
          0.26,
          0.13,
          0.45,
          0.16
         ],
         "yaxis": "y"
        }
       ],
       "layout": {
        "height": 800,
        "legend": {
         "title": {
          "text": "Subject"
         },
         "tracegroupgap": 0
        },
        "template": {
         "data": {
          "bar": [
           {
            "error_x": {
             "color": "#2a3f5f"
            },
            "error_y": {
             "color": "#2a3f5f"
            },
            "marker": {
             "line": {
              "color": "#E5ECF6",
              "width": 0.5
             },
             "pattern": {
              "fillmode": "overlay",
              "size": 10,
              "solidity": 0.2
             }
            },
            "type": "bar"
           }
          ],
          "barpolar": [
           {
            "marker": {
             "line": {
              "color": "#E5ECF6",
              "width": 0.5
             },
             "pattern": {
              "fillmode": "overlay",
              "size": 10,
              "solidity": 0.2
             }
            },
            "type": "barpolar"
           }
          ],
          "carpet": [
           {
            "aaxis": {
             "endlinecolor": "#2a3f5f",
             "gridcolor": "white",
             "linecolor": "white",
             "minorgridcolor": "white",
             "startlinecolor": "#2a3f5f"
            },
            "baxis": {
             "endlinecolor": "#2a3f5f",
             "gridcolor": "white",
             "linecolor": "white",
             "minorgridcolor": "white",
             "startlinecolor": "#2a3f5f"
            },
            "type": "carpet"
           }
          ],
          "choropleth": [
           {
            "colorbar": {
             "outlinewidth": 0,
             "ticks": ""
            },
            "type": "choropleth"
           }
          ],
          "contour": [
           {
            "colorbar": {
             "outlinewidth": 0,
             "ticks": ""
            },
            "colorscale": [
             [
              0,
              "#0d0887"
             ],
             [
              0.1111111111111111,
              "#46039f"
             ],
             [
              0.2222222222222222,
              "#7201a8"
             ],
             [
              0.3333333333333333,
              "#9c179e"
             ],
             [
              0.4444444444444444,
              "#bd3786"
             ],
             [
              0.5555555555555556,
              "#d8576b"
             ],
             [
              0.6666666666666666,
              "#ed7953"
             ],
             [
              0.7777777777777778,
              "#fb9f3a"
             ],
             [
              0.8888888888888888,
              "#fdca26"
             ],
             [
              1,
              "#f0f921"
             ]
            ],
            "type": "contour"
           }
          ],
          "contourcarpet": [
           {
            "colorbar": {
             "outlinewidth": 0,
             "ticks": ""
            },
            "type": "contourcarpet"
           }
          ],
          "heatmap": [
           {
            "colorbar": {
             "outlinewidth": 0,
             "ticks": ""
            },
            "colorscale": [
             [
              0,
              "#0d0887"
             ],
             [
              0.1111111111111111,
              "#46039f"
             ],
             [
              0.2222222222222222,
              "#7201a8"
             ],
             [
              0.3333333333333333,
              "#9c179e"
             ],
             [
              0.4444444444444444,
              "#bd3786"
             ],
             [
              0.5555555555555556,
              "#d8576b"
             ],
             [
              0.6666666666666666,
              "#ed7953"
             ],
             [
              0.7777777777777778,
              "#fb9f3a"
             ],
             [
              0.8888888888888888,
              "#fdca26"
             ],
             [
              1,
              "#f0f921"
             ]
            ],
            "type": "heatmap"
           }
          ],
          "heatmapgl": [
           {
            "colorbar": {
             "outlinewidth": 0,
             "ticks": ""
            },
            "colorscale": [
             [
              0,
              "#0d0887"
             ],
             [
              0.1111111111111111,
              "#46039f"
             ],
             [
              0.2222222222222222,
              "#7201a8"
             ],
             [
              0.3333333333333333,
              "#9c179e"
             ],
             [
              0.4444444444444444,
              "#bd3786"
             ],
             [
              0.5555555555555556,
              "#d8576b"
             ],
             [
              0.6666666666666666,
              "#ed7953"
             ],
             [
              0.7777777777777778,
              "#fb9f3a"
             ],
             [
              0.8888888888888888,
              "#fdca26"
             ],
             [
              1,
              "#f0f921"
             ]
            ],
            "type": "heatmapgl"
           }
          ],
          "histogram": [
           {
            "marker": {
             "pattern": {
              "fillmode": "overlay",
              "size": 10,
              "solidity": 0.2
             }
            },
            "type": "histogram"
           }
          ],
          "histogram2d": [
           {
            "colorbar": {
             "outlinewidth": 0,
             "ticks": ""
            },
            "colorscale": [
             [
              0,
              "#0d0887"
             ],
             [
              0.1111111111111111,
              "#46039f"
             ],
             [
              0.2222222222222222,
              "#7201a8"
             ],
             [
              0.3333333333333333,
              "#9c179e"
             ],
             [
              0.4444444444444444,
              "#bd3786"
             ],
             [
              0.5555555555555556,
              "#d8576b"
             ],
             [
              0.6666666666666666,
              "#ed7953"
             ],
             [
              0.7777777777777778,
              "#fb9f3a"
             ],
             [
              0.8888888888888888,
              "#fdca26"
             ],
             [
              1,
              "#f0f921"
             ]
            ],
            "type": "histogram2d"
           }
          ],
          "histogram2dcontour": [
           {
            "colorbar": {
             "outlinewidth": 0,
             "ticks": ""
            },
            "colorscale": [
             [
              0,
              "#0d0887"
             ],
             [
              0.1111111111111111,
              "#46039f"
             ],
             [
              0.2222222222222222,
              "#7201a8"
             ],
             [
              0.3333333333333333,
              "#9c179e"
             ],
             [
              0.4444444444444444,
              "#bd3786"
             ],
             [
              0.5555555555555556,
              "#d8576b"
             ],
             [
              0.6666666666666666,
              "#ed7953"
             ],
             [
              0.7777777777777778,
              "#fb9f3a"
             ],
             [
              0.8888888888888888,
              "#fdca26"
             ],
             [
              1,
              "#f0f921"
             ]
            ],
            "type": "histogram2dcontour"
           }
          ],
          "mesh3d": [
           {
            "colorbar": {
             "outlinewidth": 0,
             "ticks": ""
            },
            "type": "mesh3d"
           }
          ],
          "parcoords": [
           {
            "line": {
             "colorbar": {
              "outlinewidth": 0,
              "ticks": ""
             }
            },
            "type": "parcoords"
           }
          ],
          "pie": [
           {
            "automargin": true,
            "type": "pie"
           }
          ],
          "scatter": [
           {
            "fillpattern": {
             "fillmode": "overlay",
             "size": 10,
             "solidity": 0.2
            },
            "type": "scatter"
           }
          ],
          "scatter3d": [
           {
            "line": {
             "colorbar": {
              "outlinewidth": 0,
              "ticks": ""
             }
            },
            "marker": {
             "colorbar": {
              "outlinewidth": 0,
              "ticks": ""
             }
            },
            "type": "scatter3d"
           }
          ],
          "scattercarpet": [
           {
            "marker": {
             "colorbar": {
              "outlinewidth": 0,
              "ticks": ""
             }
            },
            "type": "scattercarpet"
           }
          ],
          "scattergeo": [
           {
            "marker": {
             "colorbar": {
              "outlinewidth": 0,
              "ticks": ""
             }
            },
            "type": "scattergeo"
           }
          ],
          "scattergl": [
           {
            "marker": {
             "colorbar": {
              "outlinewidth": 0,
              "ticks": ""
             }
            },
            "type": "scattergl"
           }
          ],
          "scattermapbox": [
           {
            "marker": {
             "colorbar": {
              "outlinewidth": 0,
              "ticks": ""
             }
            },
            "type": "scattermapbox"
           }
          ],
          "scatterpolar": [
           {
            "marker": {
             "colorbar": {
              "outlinewidth": 0,
              "ticks": ""
             }
            },
            "type": "scatterpolar"
           }
          ],
          "scatterpolargl": [
           {
            "marker": {
             "colorbar": {
              "outlinewidth": 0,
              "ticks": ""
             }
            },
            "type": "scatterpolargl"
           }
          ],
          "scatterternary": [
           {
            "marker": {
             "colorbar": {
              "outlinewidth": 0,
              "ticks": ""
             }
            },
            "type": "scatterternary"
           }
          ],
          "surface": [
           {
            "colorbar": {
             "outlinewidth": 0,
             "ticks": ""
            },
            "colorscale": [
             [
              0,
              "#0d0887"
             ],
             [
              0.1111111111111111,
              "#46039f"
             ],
             [
              0.2222222222222222,
              "#7201a8"
             ],
             [
              0.3333333333333333,
              "#9c179e"
             ],
             [
              0.4444444444444444,
              "#bd3786"
             ],
             [
              0.5555555555555556,
              "#d8576b"
             ],
             [
              0.6666666666666666,
              "#ed7953"
             ],
             [
              0.7777777777777778,
              "#fb9f3a"
             ],
             [
              0.8888888888888888,
              "#fdca26"
             ],
             [
              1,
              "#f0f921"
             ]
            ],
            "type": "surface"
           }
          ],
          "table": [
           {
            "cells": {
             "fill": {
              "color": "#EBF0F8"
             },
             "line": {
              "color": "white"
             }
            },
            "header": {
             "fill": {
              "color": "#C8D4E3"
             },
             "line": {
              "color": "white"
             }
            },
            "type": "table"
           }
          ]
         },
         "layout": {
          "annotationdefaults": {
           "arrowcolor": "#2a3f5f",
           "arrowhead": 0,
           "arrowwidth": 1
          },
          "autotypenumbers": "strict",
          "coloraxis": {
           "colorbar": {
            "outlinewidth": 0,
            "ticks": ""
           }
          },
          "colorscale": {
           "diverging": [
            [
             0,
             "#8e0152"
            ],
            [
             0.1,
             "#c51b7d"
            ],
            [
             0.2,
             "#de77ae"
            ],
            [
             0.3,
             "#f1b6da"
            ],
            [
             0.4,
             "#fde0ef"
            ],
            [
             0.5,
             "#f7f7f7"
            ],
            [
             0.6,
             "#e6f5d0"
            ],
            [
             0.7,
             "#b8e186"
            ],
            [
             0.8,
             "#7fbc41"
            ],
            [
             0.9,
             "#4d9221"
            ],
            [
             1,
             "#276419"
            ]
           ],
           "sequential": [
            [
             0,
             "#0d0887"
            ],
            [
             0.1111111111111111,
             "#46039f"
            ],
            [
             0.2222222222222222,
             "#7201a8"
            ],
            [
             0.3333333333333333,
             "#9c179e"
            ],
            [
             0.4444444444444444,
             "#bd3786"
            ],
            [
             0.5555555555555556,
             "#d8576b"
            ],
            [
             0.6666666666666666,
             "#ed7953"
            ],
            [
             0.7777777777777778,
             "#fb9f3a"
            ],
            [
             0.8888888888888888,
             "#fdca26"
            ],
            [
             1,
             "#f0f921"
            ]
           ],
           "sequentialminus": [
            [
             0,
             "#0d0887"
            ],
            [
             0.1111111111111111,
             "#46039f"
            ],
            [
             0.2222222222222222,
             "#7201a8"
            ],
            [
             0.3333333333333333,
             "#9c179e"
            ],
            [
             0.4444444444444444,
             "#bd3786"
            ],
            [
             0.5555555555555556,
             "#d8576b"
            ],
            [
             0.6666666666666666,
             "#ed7953"
            ],
            [
             0.7777777777777778,
             "#fb9f3a"
            ],
            [
             0.8888888888888888,
             "#fdca26"
            ],
            [
             1,
             "#f0f921"
            ]
           ]
          },
          "colorway": [
           "#636efa",
           "#EF553B",
           "#00cc96",
           "#ab63fa",
           "#FFA15A",
           "#19d3f3",
           "#FF6692",
           "#B6E880",
           "#FF97FF",
           "#FECB52"
          ],
          "font": {
           "color": "#2a3f5f"
          },
          "geo": {
           "bgcolor": "white",
           "lakecolor": "white",
           "landcolor": "#E5ECF6",
           "showlakes": true,
           "showland": true,
           "subunitcolor": "white"
          },
          "hoverlabel": {
           "align": "left"
          },
          "hovermode": "closest",
          "mapbox": {
           "style": "light"
          },
          "paper_bgcolor": "white",
          "plot_bgcolor": "#E5ECF6",
          "polar": {
           "angularaxis": {
            "gridcolor": "white",
            "linecolor": "white",
            "ticks": ""
           },
           "bgcolor": "#E5ECF6",
           "radialaxis": {
            "gridcolor": "white",
            "linecolor": "white",
            "ticks": ""
           }
          },
          "scene": {
           "xaxis": {
            "backgroundcolor": "#E5ECF6",
            "gridcolor": "white",
            "gridwidth": 2,
            "linecolor": "white",
            "showbackground": true,
            "ticks": "",
            "zerolinecolor": "white"
           },
           "yaxis": {
            "backgroundcolor": "#E5ECF6",
            "gridcolor": "white",
            "gridwidth": 2,
            "linecolor": "white",
            "showbackground": true,
            "ticks": "",
            "zerolinecolor": "white"
           },
           "zaxis": {
            "backgroundcolor": "#E5ECF6",
            "gridcolor": "white",
            "gridwidth": 2,
            "linecolor": "white",
            "showbackground": true,
            "ticks": "",
            "zerolinecolor": "white"
           }
          },
          "shapedefaults": {
           "line": {
            "color": "#2a3f5f"
           }
          },
          "ternary": {
           "aaxis": {
            "gridcolor": "white",
            "linecolor": "white",
            "ticks": ""
           },
           "baxis": {
            "gridcolor": "white",
            "linecolor": "white",
            "ticks": ""
           },
           "bgcolor": "#E5ECF6",
           "caxis": {
            "gridcolor": "white",
            "linecolor": "white",
            "ticks": ""
           }
          },
          "title": {
           "x": 0.05
          },
          "xaxis": {
           "automargin": true,
           "gridcolor": "white",
           "linecolor": "white",
           "ticks": "",
           "title": {
            "standoff": 15
           },
           "zerolinecolor": "white",
           "zerolinewidth": 2
          },
          "yaxis": {
           "automargin": true,
           "gridcolor": "white",
           "linecolor": "white",
           "ticks": "",
           "title": {
            "standoff": 15
           },
           "zerolinecolor": "white",
           "zerolinewidth": 2
          }
         }
        },
        "title": {
         "text": "National ratings per subject from 2006 - 2018 at Advanced Higher"
        },
        "width": 1000,
        "xaxis": {
         "anchor": "y",
         "categoryarray": [
          "2006",
          "2007",
          "2008",
          "2009",
          "2010",
          "2011",
          "2012",
          "2013",
          "2014",
          "2015",
          "2016",
          "2017",
          "2018"
         ],
         "categoryorder": "array",
         "domain": [
          0,
          1
         ],
         "title": {
          "text": "Year"
         }
        },
        "yaxis": {
         "anchor": "x",
         "domain": [
          0,
          1
         ],
         "rangemode": "tozero",
         "title": {
          "text": "National Rating"
         }
        }
       }
      },
      "text/html": [
       "<div>                            <div id=\"ee27694e-0799-47ea-9c13-4ebb00b8f057\" class=\"plotly-graph-div\" style=\"height:800px; width:1000px;\"></div>            <script type=\"text/javascript\">                require([\"plotly\"], function(Plotly) {                    window.PLOTLYENV=window.PLOTLYENV || {};                                    if (document.getElementById(\"ee27694e-0799-47ea-9c13-4ebb00b8f057\")) {                    Plotly.newPlot(                        \"ee27694e-0799-47ea-9c13-4ebb00b8f057\",                        [{\"hovertemplate\":\"Subject=Accounting & Finance<br>Year=%{x}<br>National Rating=%{y}<extra></extra>\",\"legendgroup\":\"Accounting & Finance\",\"line\":{\"color\":\"#636efa\",\"dash\":\"solid\"},\"marker\":{\"symbol\":\"circle\"},\"mode\":\"markers+lines\",\"name\":\"Accounting & Finance\",\"orientation\":\"v\",\"showlegend\":true,\"x\":[\"2018\",\"2017\",\"2016\",\"2015\",\"2013\",\"2012\",\"2010\",\"2009\",\"2008\",\"2007\",\"2006\"],\"xaxis\":\"x\",\"y\":[0.56,0.23,0.34,-0.43,-0.15,0.09,-0.25,0.05,0.08,-0.44,-0.39],\"yaxis\":\"y\",\"type\":\"scatter\"},{\"hovertemplate\":\"Subject=Applied Mathematics<br>Year=%{x}<br>National Rating=%{y}<extra></extra>\",\"legendgroup\":\"Applied Mathematics\",\"line\":{\"color\":\"#EF553B\",\"dash\":\"solid\"},\"marker\":{\"symbol\":\"circle\"},\"mode\":\"markers+lines\",\"name\":\"Applied Mathematics\",\"orientation\":\"v\",\"showlegend\":true,\"x\":[\"2015\",\"2014\",\"2013\",\"2012\",\"2011\",\"2010\",\"2009\",\"2008\",\"2007\",\"2006\"],\"xaxis\":\"x\",\"y\":[-0.32,-0.43,-0.78,-0.71,-0.53,-0.68,-0.58,-0.5,-0.36,-0.63],\"yaxis\":\"y\",\"type\":\"scatter\"},{\"hovertemplate\":\"Subject=Art and Design (Design)<br>Year=%{x}<br>National Rating=%{y}<extra></extra>\",\"legendgroup\":\"Art and Design (Design)\",\"line\":{\"color\":\"#00cc96\",\"dash\":\"solid\"},\"marker\":{\"symbol\":\"circle\"},\"mode\":\"markers+lines\",\"name\":\"Art and Design (Design)\",\"orientation\":\"v\",\"showlegend\":true,\"x\":[\"2018\",\"2017\",\"2016\",\"2015\",\"2014\",\"2013\",\"2012\",\"2011\",\"2010\",\"2009\",\"2008\",\"2007\",\"2006\"],\"xaxis\":\"x\",\"y\":[0.47,0.85,0.62,0.78,0.71,0.63,0.6,0.78,0.55,0.8,0.53,0.56,0.52],\"yaxis\":\"y\",\"type\":\"scatter\"},{\"hovertemplate\":\"Subject=Art and Design (Expressive)<br>Year=%{x}<br>National Rating=%{y}<extra></extra>\",\"legendgroup\":\"Art and Design (Expressive)\",\"line\":{\"color\":\"#ab63fa\",\"dash\":\"solid\"},\"marker\":{\"symbol\":\"circle\"},\"mode\":\"markers+lines\",\"name\":\"Art and Design (Expressive)\",\"orientation\":\"v\",\"showlegend\":true,\"x\":[\"2018\",\"2017\",\"2016\",\"2015\",\"2014\",\"2013\",\"2012\",\"2011\",\"2010\",\"2009\",\"2008\",\"2007\",\"2006\"],\"xaxis\":\"x\",\"y\":[0.49,0.84,0.57,0.6,0.81,0.51,0.57,0.38,0.6,0.59,0.59,0.55,0.34],\"yaxis\":\"y\",\"type\":\"scatter\"},{\"hovertemplate\":\"Subject=Art and Design: Research and Appreciation<br>Year=%{x}<br>National Rating=%{y}<extra></extra>\",\"legendgroup\":\"Art and Design: Research and Appreciation\",\"line\":{\"color\":\"#FFA15A\",\"dash\":\"solid\"},\"marker\":{\"symbol\":\"circle\"},\"mode\":\"markers+lines\",\"name\":\"Art and Design: Research and Appreciation\",\"orientation\":\"v\",\"showlegend\":true,\"x\":[\"2007\",\"2006\"],\"xaxis\":\"x\",\"y\":[0.41,0.6],\"yaxis\":\"y\",\"type\":\"scatter\"},{\"hovertemplate\":\"Subject=Biology<br>Year=%{x}<br>National Rating=%{y}<extra></extra>\",\"legendgroup\":\"Biology\",\"line\":{\"color\":\"#19d3f3\",\"dash\":\"solid\"},\"marker\":{\"symbol\":\"circle\"},\"mode\":\"markers+lines\",\"name\":\"Biology\",\"orientation\":\"v\",\"showlegend\":true,\"x\":[\"2018\",\"2017\",\"2016\",\"2015\",\"2014\",\"2013\",\"2012\",\"2011\",\"2010\",\"2009\",\"2008\",\"2007\",\"2006\"],\"xaxis\":\"x\",\"y\":[-0.27,-0.42,-0.2,-0.24,-0.28,-0.12,-0.15,-0.31,-0.17,-0.19,-0.05,-0.14,-0.18],\"yaxis\":\"y\",\"type\":\"scatter\"},{\"hovertemplate\":\"Subject=Business Management<br>Year=%{x}<br>National Rating=%{y}<extra></extra>\",\"legendgroup\":\"Business Management\",\"line\":{\"color\":\"#FF6692\",\"dash\":\"solid\"},\"marker\":{\"symbol\":\"circle\"},\"mode\":\"markers+lines\",\"name\":\"Business Management\",\"orientation\":\"v\",\"showlegend\":true,\"x\":[\"2018\",\"2017\",\"2016\",\"2015\",\"2014\",\"2013\",\"2012\",\"2011\",\"2010\",\"2009\",\"2008\",\"2007\",\"2006\"],\"xaxis\":\"x\",\"y\":[0.32,0.53,0.18,0.14,-0.13,0.14,-0.03,-0.48,-0.22,-0.58,-0.46,-0.43,-0.46],\"yaxis\":\"y\",\"type\":\"scatter\"},{\"hovertemplate\":\"Subject=Chemistry<br>Year=%{x}<br>National Rating=%{y}<extra></extra>\",\"legendgroup\":\"Chemistry\",\"line\":{\"color\":\"#B6E880\",\"dash\":\"solid\"},\"marker\":{\"symbol\":\"circle\"},\"mode\":\"markers+lines\",\"name\":\"Chemistry\",\"orientation\":\"v\",\"showlegend\":true,\"x\":[\"2018\",\"2017\",\"2016\",\"2015\",\"2014\",\"2013\",\"2012\",\"2011\",\"2010\",\"2009\",\"2008\",\"2007\",\"2006\"],\"xaxis\":\"x\",\"y\":[-0.27,-0.3,-0.3,-0.3,-0.43,-0.34,-0.32,-0.3,-0.4,-0.36,-0.35,-0.21,-0.31],\"yaxis\":\"y\",\"type\":\"scatter\"},{\"hovertemplate\":\"Subject=Chinese Languages<br>Year=%{x}<br>National Rating=%{y}<extra></extra>\",\"legendgroup\":\"Chinese Languages\",\"line\":{\"color\":\"#FF97FF\",\"dash\":\"solid\"},\"marker\":{\"symbol\":\"circle\"},\"mode\":\"markers+lines\",\"name\":\"Chinese Languages\",\"orientation\":\"v\",\"showlegend\":true,\"x\":[\"2018\",\"2017\"],\"xaxis\":\"x\",\"y\":[1.18,0.94],\"yaxis\":\"y\",\"type\":\"scatter\"},{\"hovertemplate\":\"Subject=Classical Studies<br>Year=%{x}<br>National Rating=%{y}<extra></extra>\",\"legendgroup\":\"Classical Studies\",\"line\":{\"color\":\"#FECB52\",\"dash\":\"solid\"},\"marker\":{\"symbol\":\"circle\"},\"mode\":\"markers+lines\",\"name\":\"Classical Studies\",\"orientation\":\"v\",\"showlegend\":true,\"x\":[\"2018\",\"2017\",\"2016\",\"2015\",\"2014\",\"2013\",\"2012\",\"2011\",\"2010\",\"2009\",\"2008\",\"2007\",\"2006\"],\"xaxis\":\"x\",\"y\":[0.19,0.01,0.56,0.89,0.87,0.97,0.94,0.7,0.8,0.7,0.66,0.49,0.74],\"yaxis\":\"y\",\"type\":\"scatter\"},{\"hovertemplate\":\"Subject=Computing Science<br>Year=%{x}<br>National Rating=%{y}<extra></extra>\",\"legendgroup\":\"Computing Science\",\"line\":{\"color\":\"#636efa\",\"dash\":\"solid\"},\"marker\":{\"symbol\":\"circle\"},\"mode\":\"markers+lines\",\"name\":\"Computing Science\",\"orientation\":\"v\",\"showlegend\":true,\"x\":[\"2018\",\"2017\",\"2016\",\"2015\",\"2014\",\"2013\",\"2012\",\"2011\",\"2010\",\"2009\",\"2008\",\"2007\",\"2006\"],\"xaxis\":\"x\",\"y\":[0.22,0.08,0.16,0.69,0.47,0.67,0.54,0.44,0.47,0.42,0.32,0.42,0.16],\"yaxis\":\"y\",\"type\":\"scatter\"},{\"hovertemplate\":\"Subject=Design and Manufacture<br>Year=%{x}<br>National Rating=%{y}<extra></extra>\",\"legendgroup\":\"Design and Manufacture\",\"line\":{\"color\":\"#EF553B\",\"dash\":\"solid\"},\"marker\":{\"symbol\":\"circle\"},\"mode\":\"markers+lines\",\"name\":\"Design and Manufacture\",\"orientation\":\"v\",\"showlegend\":true,\"x\":[\"2018\",\"2017\",\"2016\",\"2015\",\"2014\",\"2013\",\"2012\",\"2011\",\"2010\",\"2009\",\"2008\",\"2007\",\"2006\"],\"xaxis\":\"x\",\"y\":[-0.25,-0.29,-0.88,-0.94,-0.51,-0.63,-0.72,-0.6,0.15,-0.08,-0.51,-0.25,0.01],\"yaxis\":\"y\",\"type\":\"scatter\"},{\"hovertemplate\":\"Subject=Drama<br>Year=%{x}<br>National Rating=%{y}<extra></extra>\",\"legendgroup\":\"Drama\",\"line\":{\"color\":\"#00cc96\",\"dash\":\"solid\"},\"marker\":{\"symbol\":\"circle\"},\"mode\":\"markers+lines\",\"name\":\"Drama\",\"orientation\":\"v\",\"showlegend\":true,\"x\":[\"2018\",\"2017\",\"2016\",\"2015\",\"2014\",\"2013\",\"2012\",\"2011\",\"2010\",\"2009\",\"2008\",\"2007\",\"2006\"],\"xaxis\":\"x\",\"y\":[0.58,0.75,0.61,0.57,0.39,0.31,0.37,0.21,0.24,0.31,0.07,0.07,0.24],\"yaxis\":\"y\",\"type\":\"scatter\"},{\"hovertemplate\":\"Subject=Economics<br>Year=%{x}<br>National Rating=%{y}<extra></extra>\",\"legendgroup\":\"Economics\",\"line\":{\"color\":\"#ab63fa\",\"dash\":\"solid\"},\"marker\":{\"symbol\":\"circle\"},\"mode\":\"markers+lines\",\"name\":\"Economics\",\"orientation\":\"v\",\"showlegend\":true,\"x\":[\"2018\",\"2017\",\"2016\",\"2015\",\"2014\",\"2013\",\"2012\",\"2011\",\"2010\",\"2009\",\"2008\",\"2007\",\"2006\"],\"xaxis\":\"x\",\"y\":[-0.28,0.07,-0.21,-0.02,-0.02,-0.09,0.05,0.01,-0.22,-0.07,0.1,0.14,-0.24],\"yaxis\":\"y\",\"type\":\"scatter\"},{\"hovertemplate\":\"Subject=Engineering Science<br>Year=%{x}<br>National Rating=%{y}<extra></extra>\",\"legendgroup\":\"Engineering Science\",\"line\":{\"color\":\"#FFA15A\",\"dash\":\"solid\"},\"marker\":{\"symbol\":\"circle\"},\"mode\":\"markers+lines\",\"name\":\"Engineering Science\",\"orientation\":\"v\",\"showlegend\":true,\"x\":[\"2018\",\"2017\",\"2016\"],\"xaxis\":\"x\",\"y\":[-0.08,-0.43,0.32],\"yaxis\":\"y\",\"type\":\"scatter\"},{\"hovertemplate\":\"Subject=English<br>Year=%{x}<br>National Rating=%{y}<extra></extra>\",\"legendgroup\":\"English\",\"line\":{\"color\":\"#19d3f3\",\"dash\":\"solid\"},\"marker\":{\"symbol\":\"circle\"},\"mode\":\"markers+lines\",\"name\":\"English\",\"orientation\":\"v\",\"showlegend\":true,\"x\":[\"2018\",\"2017\",\"2016\",\"2015\",\"2014\",\"2013\",\"2012\",\"2011\",\"2010\",\"2009\",\"2008\",\"2007\",\"2006\"],\"xaxis\":\"x\",\"y\":[0.22,0.13,0.21,0.14,0.16,0.11,0.15,0.14,0.18,-0.08,-0.29,-0.28,0.03],\"yaxis\":\"y\",\"type\":\"scatter\"},{\"hovertemplate\":\"Subject=French<br>Year=%{x}<br>National Rating=%{y}<extra></extra>\",\"legendgroup\":\"French\",\"line\":{\"color\":\"#FF6692\",\"dash\":\"solid\"},\"marker\":{\"symbol\":\"circle\"},\"mode\":\"markers+lines\",\"name\":\"French\",\"orientation\":\"v\",\"showlegend\":true,\"x\":[\"2018\",\"2017\",\"2016\",\"2015\",\"2014\",\"2013\",\"2012\",\"2011\",\"2010\",\"2009\",\"2008\",\"2007\",\"2006\"],\"xaxis\":\"x\",\"y\":[0.09,-0.12,0.07,-0.04,0.02,0.1,0.26,-0.06,-0.08,-0.01,-0.13,-0.11,-0.18],\"yaxis\":\"y\",\"type\":\"scatter\"},{\"hovertemplate\":\"Subject=Geography<br>Year=%{x}<br>National Rating=%{y}<extra></extra>\",\"legendgroup\":\"Geography\",\"line\":{\"color\":\"#B6E880\",\"dash\":\"solid\"},\"marker\":{\"symbol\":\"circle\"},\"mode\":\"markers+lines\",\"name\":\"Geography\",\"orientation\":\"v\",\"showlegend\":true,\"x\":[\"2018\",\"2017\",\"2016\",\"2015\",\"2014\",\"2013\",\"2012\",\"2011\",\"2010\",\"2009\",\"2008\",\"2007\",\"2006\"],\"xaxis\":\"x\",\"y\":[0.38,0.33,0.33,0.5,0.44,0.45,0.53,0.27,-0.03,0.34,0.37,0.27,0.39],\"yaxis\":\"y\",\"type\":\"scatter\"},{\"hovertemplate\":\"Subject=German<br>Year=%{x}<br>National Rating=%{y}<extra></extra>\",\"legendgroup\":\"German\",\"line\":{\"color\":\"#FF97FF\",\"dash\":\"solid\"},\"marker\":{\"symbol\":\"circle\"},\"mode\":\"markers+lines\",\"name\":\"German\",\"orientation\":\"v\",\"showlegend\":true,\"x\":[\"2018\",\"2017\",\"2016\",\"2015\",\"2014\",\"2013\",\"2012\",\"2011\",\"2010\",\"2009\",\"2008\",\"2007\",\"2006\"],\"xaxis\":\"x\",\"y\":[0.31,0.16,0.43,0.05,0.07,-0.01,-0.22,-0.07,-0.03,0.17,-0.32,-0.17,-0.06],\"yaxis\":\"y\",\"type\":\"scatter\"},{\"hovertemplate\":\"Subject=Graphic Communication<br>Year=%{x}<br>National Rating=%{y}<extra></extra>\",\"legendgroup\":\"Graphic Communication\",\"line\":{\"color\":\"#FECB52\",\"dash\":\"solid\"},\"marker\":{\"symbol\":\"circle\"},\"mode\":\"markers+lines\",\"name\":\"Graphic Communication\",\"orientation\":\"v\",\"showlegend\":true,\"x\":[\"2018\",\"2017\",\"2016\",\"2015\",\"2014\",\"2013\",\"2012\",\"2011\",\"2010\",\"2009\",\"2008\",\"2007\",\"2006\"],\"xaxis\":\"x\",\"y\":[-0.02,0.02,0.05,0.93,1.04,0.96,1.08,1.2,1.05,1.13,0.97,1.23,0.91],\"yaxis\":\"y\",\"type\":\"scatter\"},{\"hovertemplate\":\"Subject=History<br>Year=%{x}<br>National Rating=%{y}<extra></extra>\",\"legendgroup\":\"History\",\"line\":{\"color\":\"#636efa\",\"dash\":\"solid\"},\"marker\":{\"symbol\":\"circle\"},\"mode\":\"markers+lines\",\"name\":\"History\",\"orientation\":\"v\",\"showlegend\":true,\"x\":[\"2018\",\"2017\",\"2016\",\"2015\",\"2014\",\"2013\",\"2012\",\"2011\",\"2010\",\"2009\",\"2008\",\"2007\",\"2006\"],\"xaxis\":\"x\",\"y\":[0.18,0.27,0.3,0.39,0.36,0.44,0.3,0.24,0.52,0.44,0.32,0.11,0.24],\"yaxis\":\"y\",\"type\":\"scatter\"},{\"hovertemplate\":\"Subject=Information Systems<br>Year=%{x}<br>National Rating=%{y}<extra></extra>\",\"legendgroup\":\"Information Systems\",\"line\":{\"color\":\"#EF553B\",\"dash\":\"solid\"},\"marker\":{\"symbol\":\"circle\"},\"mode\":\"markers+lines\",\"name\":\"Information Systems\",\"orientation\":\"v\",\"showlegend\":true,\"x\":[\"2013\",\"2012\",\"2011\",\"2010\",\"2009\",\"2008\",\"2007\",\"2006\"],\"xaxis\":\"x\",\"y\":[0.97,1.23,0.55,0.32,0.26,0.51,-0.25,0.64],\"yaxis\":\"y\",\"type\":\"scatter\"},{\"hovertemplate\":\"Subject=Italian<br>Year=%{x}<br>National Rating=%{y}<extra></extra>\",\"legendgroup\":\"Italian\",\"line\":{\"color\":\"#00cc96\",\"dash\":\"solid\"},\"marker\":{\"symbol\":\"circle\"},\"mode\":\"markers+lines\",\"name\":\"Italian\",\"orientation\":\"v\",\"showlegend\":true,\"x\":[\"2018\",\"2015\",\"2014\",\"2012\",\"2010\",\"2006\"],\"xaxis\":\"x\",\"y\":[0.81,0.35,0.42,0.63,0.63,0.76],\"yaxis\":\"y\",\"type\":\"scatter\"},{\"hovertemplate\":\"Subject=Latin<br>Year=%{x}<br>National Rating=%{y}<extra></extra>\",\"legendgroup\":\"Latin\",\"line\":{\"color\":\"#ab63fa\",\"dash\":\"solid\"},\"marker\":{\"symbol\":\"circle\"},\"mode\":\"markers+lines\",\"name\":\"Latin\",\"orientation\":\"v\",\"showlegend\":true,\"x\":[\"2018\",\"2017\",\"2016\",\"2015\",\"2014\",\"2013\",\"2012\",\"2011\",\"2010\",\"2009\",\"2008\",\"2007\",\"2006\"],\"xaxis\":\"x\",\"y\":[-0.07,-0.05,0.39,0.12,0.34,0.09,-0.37,-0.08,-0.19,-0.21,-0.05,0.54,0.11],\"yaxis\":\"y\",\"type\":\"scatter\"},{\"hovertemplate\":\"Subject=Mathematics<br>Year=%{x}<br>National Rating=%{y}<extra></extra>\",\"legendgroup\":\"Mathematics\",\"line\":{\"color\":\"#FFA15A\",\"dash\":\"solid\"},\"marker\":{\"symbol\":\"circle\"},\"mode\":\"markers+lines\",\"name\":\"Mathematics\",\"orientation\":\"v\",\"showlegend\":true,\"x\":[\"2018\",\"2017\",\"2016\",\"2015\",\"2014\",\"2013\",\"2012\",\"2011\",\"2010\",\"2009\",\"2008\",\"2007\",\"2006\"],\"xaxis\":\"x\",\"y\":[-0.15,-0.17,-0.25,-0.43,-0.36,-0.43,-0.49,-0.38,-0.43,-0.39,-0.21,-0.28,-0.28],\"yaxis\":\"y\",\"type\":\"scatter\"},{\"hovertemplate\":\"Subject=Mathematics of Mechanics<br>Year=%{x}<br>National Rating=%{y}<extra></extra>\",\"legendgroup\":\"Mathematics of Mechanics\",\"line\":{\"color\":\"#19d3f3\",\"dash\":\"solid\"},\"marker\":{\"symbol\":\"circle\"},\"mode\":\"markers+lines\",\"name\":\"Mathematics of Mechanics\",\"orientation\":\"v\",\"showlegend\":true,\"x\":[\"2018\",\"2017\",\"2016\"],\"xaxis\":\"x\",\"y\":[-0.58,-0.58,-0.95],\"yaxis\":\"y\",\"type\":\"scatter\"},{\"hovertemplate\":\"Subject=Modern Studies<br>Year=%{x}<br>National Rating=%{y}<extra></extra>\",\"legendgroup\":\"Modern Studies\",\"line\":{\"color\":\"#FF6692\",\"dash\":\"solid\"},\"marker\":{\"symbol\":\"circle\"},\"mode\":\"markers+lines\",\"name\":\"Modern Studies\",\"orientation\":\"v\",\"showlegend\":true,\"x\":[\"2018\",\"2017\",\"2016\",\"2015\",\"2014\",\"2013\",\"2012\",\"2011\",\"2010\",\"2009\",\"2008\",\"2007\",\"2006\"],\"xaxis\":\"x\",\"y\":[0.07,0.18,0.2,0.44,0.45,0.42,0.42,0.51,0.65,0.72,0.56,0.46,0.34],\"yaxis\":\"y\",\"type\":\"scatter\"},{\"hovertemplate\":\"Subject=Music<br>Year=%{x}<br>National Rating=%{y}<extra></extra>\",\"legendgroup\":\"Music\",\"line\":{\"color\":\"#B6E880\",\"dash\":\"solid\"},\"marker\":{\"symbol\":\"circle\"},\"mode\":\"markers+lines\",\"name\":\"Music\",\"orientation\":\"v\",\"showlegend\":true,\"x\":[\"2018\",\"2017\",\"2016\",\"2015\",\"2014\",\"2013\",\"2012\",\"2011\",\"2010\",\"2009\",\"2008\",\"2007\",\"2006\"],\"xaxis\":\"x\",\"y\":[1.08,1.32,1.13,1.17,1.15,1.14,1.06,1.05,1.18,1.16,0.89,0.83,1.13],\"yaxis\":\"y\",\"type\":\"scatter\"},{\"hovertemplate\":\"Subject=Physical Education<br>Year=%{x}<br>National Rating=%{y}<extra></extra>\",\"legendgroup\":\"Physical Education\",\"line\":{\"color\":\"#FF97FF\",\"dash\":\"solid\"},\"marker\":{\"symbol\":\"circle\"},\"mode\":\"markers+lines\",\"name\":\"Physical Education\",\"orientation\":\"v\",\"showlegend\":true,\"x\":[\"2018\",\"2017\",\"2016\",\"2015\",\"2014\",\"2013\",\"2012\",\"2011\",\"2010\",\"2009\",\"2008\",\"2007\"],\"xaxis\":\"x\",\"y\":[0.61,0.76,0.67,0.37,0.26,0.42,0.28,0.31,0.66,0.44,0.3,0.19],\"yaxis\":\"y\",\"type\":\"scatter\"},{\"hovertemplate\":\"Subject=Physics<br>Year=%{x}<br>National Rating=%{y}<extra></extra>\",\"legendgroup\":\"Physics\",\"line\":{\"color\":\"#FECB52\",\"dash\":\"solid\"},\"marker\":{\"symbol\":\"circle\"},\"mode\":\"markers+lines\",\"name\":\"Physics\",\"orientation\":\"v\",\"showlegend\":true,\"x\":[\"2018\",\"2017\",\"2016\",\"2015\",\"2014\",\"2013\",\"2012\",\"2011\",\"2010\",\"2009\",\"2008\",\"2007\",\"2006\"],\"xaxis\":\"x\",\"y\":[-0.23,-0.24,-0.26,-0.12,-0.1,-0.12,-0.08,-0.03,-0.11,-0.11,-0.03,0.03,0.03],\"yaxis\":\"y\",\"type\":\"scatter\"},{\"hovertemplate\":\"Subject=Religious, Moral and Philosophical Studies<br>Year=%{x}<br>National Rating=%{y}<extra></extra>\",\"legendgroup\":\"Religious, Moral and Philosophical Studies\",\"line\":{\"color\":\"#636efa\",\"dash\":\"solid\"},\"marker\":{\"symbol\":\"circle\"},\"mode\":\"markers+lines\",\"name\":\"Religious, Moral and Philosophical Studies\",\"orientation\":\"v\",\"showlegend\":true,\"x\":[\"2018\",\"2017\",\"2016\",\"2015\",\"2014\",\"2013\",\"2012\",\"2011\",\"2010\",\"2009\",\"2008\",\"2007\",\"2006\"],\"xaxis\":\"x\",\"y\":[-0.43,-0.02,0.4,0.46,0.51,0.7,0.55,0.49,0.37,0.45,0.22,0.57,0.2],\"yaxis\":\"y\",\"type\":\"scatter\"},{\"hovertemplate\":\"Subject=Spanish<br>Year=%{x}<br>National Rating=%{y}<extra></extra>\",\"legendgroup\":\"Spanish\",\"line\":{\"color\":\"#EF553B\",\"dash\":\"solid\"},\"marker\":{\"symbol\":\"circle\"},\"mode\":\"markers+lines\",\"name\":\"Spanish\",\"orientation\":\"v\",\"showlegend\":true,\"x\":[\"2018\",\"2017\",\"2016\",\"2015\",\"2014\",\"2013\",\"2012\",\"2011\",\"2010\",\"2009\",\"2008\",\"2007\",\"2006\"],\"xaxis\":\"x\",\"y\":[-0.02,0.02,0.0,-0.13,0.06,-0.13,-0.16,-0.09,0.01,-0.05,-0.1,-0.11,0.05],\"yaxis\":\"y\",\"type\":\"scatter\"},{\"hovertemplate\":\"Subject=Statistics<br>Year=%{x}<br>National Rating=%{y}<extra></extra>\",\"legendgroup\":\"Statistics\",\"line\":{\"color\":\"#00cc96\",\"dash\":\"solid\"},\"marker\":{\"symbol\":\"circle\"},\"mode\":\"markers+lines\",\"name\":\"Statistics\",\"orientation\":\"v\",\"showlegend\":true,\"x\":[\"2018\",\"2017\",\"2016\"],\"xaxis\":\"x\",\"y\":[-0.33,-0.52,-0.51],\"yaxis\":\"y\",\"type\":\"scatter\"},{\"hovertemplate\":\"Subject=Technological Studies<br>Year=%{x}<br>National Rating=%{y}<extra></extra>\",\"legendgroup\":\"Technological Studies\",\"line\":{\"color\":\"#ab63fa\",\"dash\":\"solid\"},\"marker\":{\"symbol\":\"circle\"},\"mode\":\"markers+lines\",\"name\":\"Technological Studies\",\"orientation\":\"v\",\"showlegend\":true,\"x\":[\"2015\",\"2014\",\"2013\",\"2012\",\"2011\",\"2010\",\"2009\",\"2008\",\"2007\",\"2006\"],\"xaxis\":\"x\",\"y\":[0.54,0.66,0.5,0.1,0.17,-0.19,0.26,0.13,0.45,0.16],\"yaxis\":\"y\",\"type\":\"scatter\"}],                        {\"template\":{\"data\":{\"histogram2dcontour\":[{\"type\":\"histogram2dcontour\",\"colorbar\":{\"outlinewidth\":0,\"ticks\":\"\"},\"colorscale\":[[0.0,\"#0d0887\"],[0.1111111111111111,\"#46039f\"],[0.2222222222222222,\"#7201a8\"],[0.3333333333333333,\"#9c179e\"],[0.4444444444444444,\"#bd3786\"],[0.5555555555555556,\"#d8576b\"],[0.6666666666666666,\"#ed7953\"],[0.7777777777777778,\"#fb9f3a\"],[0.8888888888888888,\"#fdca26\"],[1.0,\"#f0f921\"]]}],\"choropleth\":[{\"type\":\"choropleth\",\"colorbar\":{\"outlinewidth\":0,\"ticks\":\"\"}}],\"histogram2d\":[{\"type\":\"histogram2d\",\"colorbar\":{\"outlinewidth\":0,\"ticks\":\"\"},\"colorscale\":[[0.0,\"#0d0887\"],[0.1111111111111111,\"#46039f\"],[0.2222222222222222,\"#7201a8\"],[0.3333333333333333,\"#9c179e\"],[0.4444444444444444,\"#bd3786\"],[0.5555555555555556,\"#d8576b\"],[0.6666666666666666,\"#ed7953\"],[0.7777777777777778,\"#fb9f3a\"],[0.8888888888888888,\"#fdca26\"],[1.0,\"#f0f921\"]]}],\"heatmap\":[{\"type\":\"heatmap\",\"colorbar\":{\"outlinewidth\":0,\"ticks\":\"\"},\"colorscale\":[[0.0,\"#0d0887\"],[0.1111111111111111,\"#46039f\"],[0.2222222222222222,\"#7201a8\"],[0.3333333333333333,\"#9c179e\"],[0.4444444444444444,\"#bd3786\"],[0.5555555555555556,\"#d8576b\"],[0.6666666666666666,\"#ed7953\"],[0.7777777777777778,\"#fb9f3a\"],[0.8888888888888888,\"#fdca26\"],[1.0,\"#f0f921\"]]}],\"heatmapgl\":[{\"type\":\"heatmapgl\",\"colorbar\":{\"outlinewidth\":0,\"ticks\":\"\"},\"colorscale\":[[0.0,\"#0d0887\"],[0.1111111111111111,\"#46039f\"],[0.2222222222222222,\"#7201a8\"],[0.3333333333333333,\"#9c179e\"],[0.4444444444444444,\"#bd3786\"],[0.5555555555555556,\"#d8576b\"],[0.6666666666666666,\"#ed7953\"],[0.7777777777777778,\"#fb9f3a\"],[0.8888888888888888,\"#fdca26\"],[1.0,\"#f0f921\"]]}],\"contourcarpet\":[{\"type\":\"contourcarpet\",\"colorbar\":{\"outlinewidth\":0,\"ticks\":\"\"}}],\"contour\":[{\"type\":\"contour\",\"colorbar\":{\"outlinewidth\":0,\"ticks\":\"\"},\"colorscale\":[[0.0,\"#0d0887\"],[0.1111111111111111,\"#46039f\"],[0.2222222222222222,\"#7201a8\"],[0.3333333333333333,\"#9c179e\"],[0.4444444444444444,\"#bd3786\"],[0.5555555555555556,\"#d8576b\"],[0.6666666666666666,\"#ed7953\"],[0.7777777777777778,\"#fb9f3a\"],[0.8888888888888888,\"#fdca26\"],[1.0,\"#f0f921\"]]}],\"surface\":[{\"type\":\"surface\",\"colorbar\":{\"outlinewidth\":0,\"ticks\":\"\"},\"colorscale\":[[0.0,\"#0d0887\"],[0.1111111111111111,\"#46039f\"],[0.2222222222222222,\"#7201a8\"],[0.3333333333333333,\"#9c179e\"],[0.4444444444444444,\"#bd3786\"],[0.5555555555555556,\"#d8576b\"],[0.6666666666666666,\"#ed7953\"],[0.7777777777777778,\"#fb9f3a\"],[0.8888888888888888,\"#fdca26\"],[1.0,\"#f0f921\"]]}],\"mesh3d\":[{\"type\":\"mesh3d\",\"colorbar\":{\"outlinewidth\":0,\"ticks\":\"\"}}],\"scatter\":[{\"fillpattern\":{\"fillmode\":\"overlay\",\"size\":10,\"solidity\":0.2},\"type\":\"scatter\"}],\"parcoords\":[{\"type\":\"parcoords\",\"line\":{\"colorbar\":{\"outlinewidth\":0,\"ticks\":\"\"}}}],\"scatterpolargl\":[{\"type\":\"scatterpolargl\",\"marker\":{\"colorbar\":{\"outlinewidth\":0,\"ticks\":\"\"}}}],\"bar\":[{\"error_x\":{\"color\":\"#2a3f5f\"},\"error_y\":{\"color\":\"#2a3f5f\"},\"marker\":{\"line\":{\"color\":\"#E5ECF6\",\"width\":0.5},\"pattern\":{\"fillmode\":\"overlay\",\"size\":10,\"solidity\":0.2}},\"type\":\"bar\"}],\"scattergeo\":[{\"type\":\"scattergeo\",\"marker\":{\"colorbar\":{\"outlinewidth\":0,\"ticks\":\"\"}}}],\"scatterpolar\":[{\"type\":\"scatterpolar\",\"marker\":{\"colorbar\":{\"outlinewidth\":0,\"ticks\":\"\"}}}],\"histogram\":[{\"marker\":{\"pattern\":{\"fillmode\":\"overlay\",\"size\":10,\"solidity\":0.2}},\"type\":\"histogram\"}],\"scattergl\":[{\"type\":\"scattergl\",\"marker\":{\"colorbar\":{\"outlinewidth\":0,\"ticks\":\"\"}}}],\"scatter3d\":[{\"type\":\"scatter3d\",\"line\":{\"colorbar\":{\"outlinewidth\":0,\"ticks\":\"\"}},\"marker\":{\"colorbar\":{\"outlinewidth\":0,\"ticks\":\"\"}}}],\"scattermapbox\":[{\"type\":\"scattermapbox\",\"marker\":{\"colorbar\":{\"outlinewidth\":0,\"ticks\":\"\"}}}],\"scatterternary\":[{\"type\":\"scatterternary\",\"marker\":{\"colorbar\":{\"outlinewidth\":0,\"ticks\":\"\"}}}],\"scattercarpet\":[{\"type\":\"scattercarpet\",\"marker\":{\"colorbar\":{\"outlinewidth\":0,\"ticks\":\"\"}}}],\"carpet\":[{\"aaxis\":{\"endlinecolor\":\"#2a3f5f\",\"gridcolor\":\"white\",\"linecolor\":\"white\",\"minorgridcolor\":\"white\",\"startlinecolor\":\"#2a3f5f\"},\"baxis\":{\"endlinecolor\":\"#2a3f5f\",\"gridcolor\":\"white\",\"linecolor\":\"white\",\"minorgridcolor\":\"white\",\"startlinecolor\":\"#2a3f5f\"},\"type\":\"carpet\"}],\"table\":[{\"cells\":{\"fill\":{\"color\":\"#EBF0F8\"},\"line\":{\"color\":\"white\"}},\"header\":{\"fill\":{\"color\":\"#C8D4E3\"},\"line\":{\"color\":\"white\"}},\"type\":\"table\"}],\"barpolar\":[{\"marker\":{\"line\":{\"color\":\"#E5ECF6\",\"width\":0.5},\"pattern\":{\"fillmode\":\"overlay\",\"size\":10,\"solidity\":0.2}},\"type\":\"barpolar\"}],\"pie\":[{\"automargin\":true,\"type\":\"pie\"}]},\"layout\":{\"autotypenumbers\":\"strict\",\"colorway\":[\"#636efa\",\"#EF553B\",\"#00cc96\",\"#ab63fa\",\"#FFA15A\",\"#19d3f3\",\"#FF6692\",\"#B6E880\",\"#FF97FF\",\"#FECB52\"],\"font\":{\"color\":\"#2a3f5f\"},\"hovermode\":\"closest\",\"hoverlabel\":{\"align\":\"left\"},\"paper_bgcolor\":\"white\",\"plot_bgcolor\":\"#E5ECF6\",\"polar\":{\"bgcolor\":\"#E5ECF6\",\"angularaxis\":{\"gridcolor\":\"white\",\"linecolor\":\"white\",\"ticks\":\"\"},\"radialaxis\":{\"gridcolor\":\"white\",\"linecolor\":\"white\",\"ticks\":\"\"}},\"ternary\":{\"bgcolor\":\"#E5ECF6\",\"aaxis\":{\"gridcolor\":\"white\",\"linecolor\":\"white\",\"ticks\":\"\"},\"baxis\":{\"gridcolor\":\"white\",\"linecolor\":\"white\",\"ticks\":\"\"},\"caxis\":{\"gridcolor\":\"white\",\"linecolor\":\"white\",\"ticks\":\"\"}},\"coloraxis\":{\"colorbar\":{\"outlinewidth\":0,\"ticks\":\"\"}},\"colorscale\":{\"sequential\":[[0.0,\"#0d0887\"],[0.1111111111111111,\"#46039f\"],[0.2222222222222222,\"#7201a8\"],[0.3333333333333333,\"#9c179e\"],[0.4444444444444444,\"#bd3786\"],[0.5555555555555556,\"#d8576b\"],[0.6666666666666666,\"#ed7953\"],[0.7777777777777778,\"#fb9f3a\"],[0.8888888888888888,\"#fdca26\"],[1.0,\"#f0f921\"]],\"sequentialminus\":[[0.0,\"#0d0887\"],[0.1111111111111111,\"#46039f\"],[0.2222222222222222,\"#7201a8\"],[0.3333333333333333,\"#9c179e\"],[0.4444444444444444,\"#bd3786\"],[0.5555555555555556,\"#d8576b\"],[0.6666666666666666,\"#ed7953\"],[0.7777777777777778,\"#fb9f3a\"],[0.8888888888888888,\"#fdca26\"],[1.0,\"#f0f921\"]],\"diverging\":[[0,\"#8e0152\"],[0.1,\"#c51b7d\"],[0.2,\"#de77ae\"],[0.3,\"#f1b6da\"],[0.4,\"#fde0ef\"],[0.5,\"#f7f7f7\"],[0.6,\"#e6f5d0\"],[0.7,\"#b8e186\"],[0.8,\"#7fbc41\"],[0.9,\"#4d9221\"],[1,\"#276419\"]]},\"xaxis\":{\"gridcolor\":\"white\",\"linecolor\":\"white\",\"ticks\":\"\",\"title\":{\"standoff\":15},\"zerolinecolor\":\"white\",\"automargin\":true,\"zerolinewidth\":2},\"yaxis\":{\"gridcolor\":\"white\",\"linecolor\":\"white\",\"ticks\":\"\",\"title\":{\"standoff\":15},\"zerolinecolor\":\"white\",\"automargin\":true,\"zerolinewidth\":2},\"scene\":{\"xaxis\":{\"backgroundcolor\":\"#E5ECF6\",\"gridcolor\":\"white\",\"linecolor\":\"white\",\"showbackground\":true,\"ticks\":\"\",\"zerolinecolor\":\"white\",\"gridwidth\":2},\"yaxis\":{\"backgroundcolor\":\"#E5ECF6\",\"gridcolor\":\"white\",\"linecolor\":\"white\",\"showbackground\":true,\"ticks\":\"\",\"zerolinecolor\":\"white\",\"gridwidth\":2},\"zaxis\":{\"backgroundcolor\":\"#E5ECF6\",\"gridcolor\":\"white\",\"linecolor\":\"white\",\"showbackground\":true,\"ticks\":\"\",\"zerolinecolor\":\"white\",\"gridwidth\":2}},\"shapedefaults\":{\"line\":{\"color\":\"#2a3f5f\"}},\"annotationdefaults\":{\"arrowcolor\":\"#2a3f5f\",\"arrowhead\":0,\"arrowwidth\":1},\"geo\":{\"bgcolor\":\"white\",\"landcolor\":\"#E5ECF6\",\"subunitcolor\":\"white\",\"showland\":true,\"showlakes\":true,\"lakecolor\":\"white\"},\"title\":{\"x\":0.05},\"mapbox\":{\"style\":\"light\"}}},\"xaxis\":{\"anchor\":\"y\",\"domain\":[0.0,1.0],\"title\":{\"text\":\"Year\"},\"categoryorder\":\"array\",\"categoryarray\":[\"2006\",\"2007\",\"2008\",\"2009\",\"2010\",\"2011\",\"2012\",\"2013\",\"2014\",\"2015\",\"2016\",\"2017\",\"2018\"]},\"yaxis\":{\"anchor\":\"x\",\"domain\":[0.0,1.0],\"title\":{\"text\":\"National Rating\"},\"rangemode\":\"tozero\"},\"legend\":{\"title\":{\"text\":\"Subject\"},\"tracegroupgap\":0},\"title\":{\"text\":\"National ratings per subject from 2006 - 2018 at Advanced Higher\"},\"height\":800,\"width\":1000},                        {\"responsive\": true}                    ).then(function(){\n",
       "                            \n",
       "var gd = document.getElementById('ee27694e-0799-47ea-9c13-4ebb00b8f057');\n",
       "var x = new MutationObserver(function (mutations, observer) {{\n",
       "        var display = window.getComputedStyle(gd).display;\n",
       "        if (!display || display === 'none') {{\n",
       "            console.log([gd, 'removed!']);\n",
       "            Plotly.purge(gd);\n",
       "            observer.disconnect();\n",
       "        }}\n",
       "}});\n",
       "\n",
       "// Listen for the removal of the full notebook cells\n",
       "var notebookContainer = gd.closest('#notebook-container');\n",
       "if (notebookContainer) {{\n",
       "    x.observe(notebookContainer, {childList: true});\n",
       "}}\n",
       "\n",
       "// Listen for the clearing of the current output cell\n",
       "var outputEl = gd.closest('.output');\n",
       "if (outputEl) {{\n",
       "    x.observe(outputEl, {childList: true});\n",
       "}}\n",
       "\n",
       "                        })                };                });            </script>        </div>"
      ]
     },
     "metadata": {},
     "output_type": "display_data"
    }
   ],
   "source": [
    "# Plot graph\n",
    "\n",
    "# Create a list of subjects in alphabetical order\n",
    "subjects = sorted(ldf['Subject'].unique())\n",
    "years = sorted(ldf['Year'].unique())\n",
    "\n",
    "fig = px.line(ldf, x = \"Year\", y = \"National Rating\", \n",
    "                color = \"Subject\",\n",
    "                width = 1000,\n",
    "                height = 800,\n",
    "                category_orders = {'Subject' : subjects, 'Year' : years},\n",
    "               # color_discrete_sequence=px.colors.qualitative.Light24,\n",
    "                title = 'National ratings per subject from 2006 - 2018 at ' + level_label #+ ' and Standard Grade'\n",
    "                )\n",
    "\n",
    "fig.update_traces(mode = \"markers+lines\")\n",
    "\n",
    "fig.update_yaxes(matches = None, rangemode = \"tozero\")\n",
    "\n",
    "filename = 'ratings_' + level + '.html'\n",
    "\n",
    "fig.write_html('./graphs/' + filename)\n",
    "\n",
    "fig.show()"
   ]
  },
  {
   "cell_type": "code",
   "execution_count": 3,
   "id": "41094c13",
   "metadata": {},
   "outputs": [],
   "source": [
    "# Setup Chart Studio\n",
    "username = '###' # your username\n",
    "api_key = '###' # your api key - go to profile > settings > regenerate key\n",
    "chart_studio.tools.set_credentials_file(username=username, api_key=api_key)\n",
    "\n",
    "# Upload to Chart Studio\n",
    "#py.plot(fig, filename = filename, auto_open=True)"
   ]
  },
  {
   "cell_type": "code",
   "execution_count": null,
   "id": "804074e4",
   "metadata": {},
   "outputs": [],
   "source": []
  }
 ],
 "metadata": {
  "kernelspec": {
   "display_name": "Python 3 (ipykernel)",
   "language": "python",
   "name": "python3"
  },
  "language_info": {
   "codemirror_mode": {
    "name": "ipython",
    "version": 3
   },
   "file_extension": ".py",
   "mimetype": "text/x-python",
   "name": "python",
   "nbconvert_exporter": "python",
   "pygments_lexer": "ipython3",
   "version": "3.10.4"
  }
 },
 "nbformat": 4,
 "nbformat_minor": 5
}
