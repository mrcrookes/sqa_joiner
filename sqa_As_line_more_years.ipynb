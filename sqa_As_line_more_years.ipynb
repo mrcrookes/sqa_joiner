{
 "cells": [
  {
   "cell_type": "code",
   "execution_count": 71,
   "id": "52f1ea60",
   "metadata": {},
   "outputs": [],
   "source": [
    "# Import key librarys\n",
    "\n",
    "import pandas as pd\n",
    "import numpy as np\n",
    "\n",
    "import plotly.express as px\n",
    "\n",
    "import chart_studio\n",
    "import chart_studio.plotly as py\n",
    "import chart_studio.tools as tls"
   ]
  },
  {
   "cell_type": "code",
   "execution_count": 86,
   "id": "56c78e25",
   "metadata": {},
   "outputs": [],
   "source": [
    "# Define level\n",
    "level = 'National_5'\n",
    "level_label = level.replace('_', ' ')\n",
    "\n",
    "# Import data\n",
    "df = pd.read_excel(\"./more_data/attainment-statistics-(august)-2022-provisional-main.xlsx\", \n",
    "                        sheet_name = level, skiprows = 2)\n",
    "\n",
    "df17 = pd.read_excel(\"./more_data/ASR2017_\" + level + \".xls\", \n",
    "                        sheet_name = \"Table 4\", skiprows = 7)\n",
    "\n",
    "df16 = pd.read_excel(\"./more_data/ASR2016_\" + level + \".xls\", \n",
    "                        sheet_name = \"Table 4\", skiprows = 7)"
   ]
  },
  {
   "cell_type": "code",
   "execution_count": 87,
   "id": "70b1816b",
   "metadata": {},
   "outputs": [],
   "source": [
    "def tidy_up_1(df):\n",
    "    \n",
    "    # Remove spaces and replace with '_'\n",
    "    df.columns = df.columns.str.replace(' ','_')\n",
    "\n",
    "    #df.drop(df[df.Grade_A_Count_2022 == '[z]'].index, inplace=True)\n",
    "    df = df.replace('[z]', np.nan)\n",
    "    df = df.replace('[c]', np.nan)\n",
    "    df = df.replace('[low]', np.nan)\n",
    "\n",
    "    # Remove last row\n",
    "    df = df.drop(df.index[-1])\n",
    "\n",
    "    # Remove columns with Percentage in the heading\n",
    "    df = df[df.columns.drop(list(df.filter(regex='Percentage')))]\n",
    "    \n",
    "    return df\n",
    "    \n",
    "df = tidy_up_1(df)"
   ]
  },
  {
   "cell_type": "code",
   "execution_count": 88,
   "id": "d3573da1",
   "metadata": {},
   "outputs": [],
   "source": [
    "def tidy_up_1a(df, year):\n",
    "    \n",
    "    # Sort out column titles\n",
    "    df = df.rename({'TITLE': 'Subject'}, axis=1)\n",
    "    df = df.rename({'ENTRIES': 'Entries_' + year}, axis=1)\n",
    "    \n",
    "    df = df.rename({'A': 'As_' + year}, axis=1)\n",
    "    df = df.rename({'B': 'Bs_' + year}, axis=1)\n",
    "    df = df.rename({'C': 'Cs_' + year}, axis=1)\n",
    "    df = df.rename({'D': 'Ds_' + year}, axis=1)\n",
    "    \n",
    "    #df = df.rename({'NAs' + year: 'NAs_' + year}, axis=1)\n",
    "\n",
    "    # Remove last row\n",
    "    df = df.drop(df.index[-1])\n",
    " \n",
    "    return df\n",
    "    \n",
    "df16 = tidy_up_1a(df17, '2016')\n",
    "df17 = tidy_up_1a(df17, '2017')"
   ]
  },
  {
   "cell_type": "code",
   "execution_count": 89,
   "id": "4bc26297",
   "metadata": {},
   "outputs": [],
   "source": [
    "def count(df, year):\n",
    "\n",
    "    # Calculate number of Bs, Cs and Ds\n",
    "    df['As_' + year] = round(df['Entries_' + year] * df['As_' + year] / 100)\n",
    "    df['Bs_' + year] = round(df['Entries_' + year] * df['Bs_' + year] / 100)\n",
    "    df['Cs_' + year] = round(df['Entries_' + year] * df['Cs_' + year] / 100)\n",
    "    df['Ds_' + year] = round(df['Entries_' + year] * df['Ds_' + year] / 100)\n",
    "    \n",
    "    # Calculate number of NAs\n",
    "    df['NAs_' + year] = round(df['Entries_' + year] \n",
    "                              - df['As_' + year]\n",
    "                              - df['Bs_' + year]\n",
    "                              - df['Cs_' + year]\n",
    "                              - df['Ds_' + year])\n",
    "        \n",
    "    return df\n",
    "\n",
    "df16 = count(df16, '2016')\n",
    "df17 = count(df17, '2017')"
   ]
  },
  {
   "cell_type": "code",
   "execution_count": 90,
   "id": "d9e99668",
   "metadata": {},
   "outputs": [
    {
     "data": {
      "text/html": [
       "<div>\n",
       "<style scoped>\n",
       "    .dataframe tbody tr th:only-of-type {\n",
       "        vertical-align: middle;\n",
       "    }\n",
       "\n",
       "    .dataframe tbody tr th {\n",
       "        vertical-align: top;\n",
       "    }\n",
       "\n",
       "    .dataframe thead th {\n",
       "        text-align: right;\n",
       "    }\n",
       "</style>\n",
       "<table border=\"1\" class=\"dataframe\">\n",
       "  <thead>\n",
       "    <tr style=\"text-align: right;\">\n",
       "      <th></th>\n",
       "      <th>Subject</th>\n",
       "      <th>Entries_2016</th>\n",
       "      <th>As_2016</th>\n",
       "      <th>Bs_2016</th>\n",
       "      <th>Cs_2016</th>\n",
       "      <th>Ds_2016</th>\n",
       "      <th>NAs_2016</th>\n",
       "    </tr>\n",
       "  </thead>\n",
       "  <tbody>\n",
       "    <tr>\n",
       "      <th>44</th>\n",
       "      <td>Psychology</td>\n",
       "      <td>622.0</td>\n",
       "      <td>226.0</td>\n",
       "      <td>120.0</td>\n",
       "      <td>92.0</td>\n",
       "      <td>39.0</td>\n",
       "      <td>145.0</td>\n",
       "    </tr>\n",
       "    <tr>\n",
       "      <th>45</th>\n",
       "      <td>Religious, Moral and Philosophical Studies</td>\n",
       "      <td>2623.0</td>\n",
       "      <td>819.0</td>\n",
       "      <td>482.0</td>\n",
       "      <td>490.0</td>\n",
       "      <td>201.0</td>\n",
       "      <td>631.0</td>\n",
       "    </tr>\n",
       "    <tr>\n",
       "      <th>46</th>\n",
       "      <td>Sociology</td>\n",
       "      <td>241.0</td>\n",
       "      <td>97.0</td>\n",
       "      <td>51.0</td>\n",
       "      <td>38.0</td>\n",
       "      <td>14.0</td>\n",
       "      <td>41.0</td>\n",
       "    </tr>\n",
       "    <tr>\n",
       "      <th>47</th>\n",
       "      <td>Spanish</td>\n",
       "      <td>4488.0</td>\n",
       "      <td>2642.0</td>\n",
       "      <td>829.0</td>\n",
       "      <td>558.0</td>\n",
       "      <td>184.0</td>\n",
       "      <td>275.0</td>\n",
       "    </tr>\n",
       "    <tr>\n",
       "      <th>48</th>\n",
       "      <td>Urdu</td>\n",
       "      <td>74.0</td>\n",
       "      <td>50.0</td>\n",
       "      <td>11.0</td>\n",
       "      <td>7.0</td>\n",
       "      <td>3.0</td>\n",
       "      <td>3.0</td>\n",
       "    </tr>\n",
       "  </tbody>\n",
       "</table>\n",
       "</div>"
      ],
      "text/plain": [
       "                                       Subject  Entries_2016  As_2016  \\\n",
       "44                                  Psychology         622.0    226.0   \n",
       "45  Religious, Moral and Philosophical Studies        2623.0    819.0   \n",
       "46                                   Sociology         241.0     97.0   \n",
       "47                                     Spanish        4488.0   2642.0   \n",
       "48                                        Urdu          74.0     50.0   \n",
       "\n",
       "    Bs_2016  Cs_2016  Ds_2016  NAs_2016  \n",
       "44    120.0     92.0     39.0     145.0  \n",
       "45    482.0    490.0    201.0     631.0  \n",
       "46     51.0     38.0     14.0      41.0  \n",
       "47    829.0    558.0    184.0     275.0  \n",
       "48     11.0      7.0      3.0       3.0  "
      ]
     },
     "execution_count": 90,
     "metadata": {},
     "output_type": "execute_result"
    }
   ],
   "source": [
    "df16.tail()"
   ]
  },
  {
   "cell_type": "code",
   "execution_count": 91,
   "id": "bf27f17c",
   "metadata": {},
   "outputs": [],
   "source": [
    "def tidy_up_2(df):\n",
    "\n",
    "    # Create a list of years\n",
    "    years = ['2022', '2021', '2020', '2019', '2018']\n",
    "\n",
    "    # Sort out column titles\n",
    "    for year in years:\n",
    "        df = df.rename({'Grade_A_Count_' + year: 'As_' + year}, axis=1)\n",
    "        df = df.rename({'Grades_A-B_Count_' + year: 'A-Bs_' + year}, axis=1)\n",
    "        df = df.rename({'Grades_A-C_Count_' + year: 'A-Cs_' + year}, axis=1)\n",
    "        df = df.rename({'Grades_A-D_Count_' + year: 'A-Ds_' + year}, axis=1)\n",
    "        df = df.rename({'No_Award_Count_' + year: 'NAs_' + year}, axis=1)\n",
    "\n",
    "    # Calculate number of Bs, Cs and Ds\n",
    "    for year in years:\n",
    "        df['Bs_' + year] = df['A-Bs_' + year] - df['As_' + year]\n",
    "        df['Cs_' + year] = df['A-Cs_' + year] - df['A-Bs_' + year]\n",
    "        df['Ds_' + year] = df['A-Ds_' + year] - df['A-Cs_' + year]\n",
    "\n",
    "    # Remove original columns\n",
    "    for year in years:\n",
    "        df.drop('A-Bs_' + year, axis=1, inplace=True)\n",
    "        df.drop('A-Cs_' + year, axis=1, inplace=True)\n",
    "        df.drop('A-Ds_' + year, axis=1, inplace=True)\n",
    "        \n",
    "    return df\n",
    "        \n",
    "df = tidy_up_2(df)"
   ]
  },
  {
   "cell_type": "code",
   "execution_count": 92,
   "id": "6e1414f0",
   "metadata": {},
   "outputs": [],
   "source": [
    "# Sort out subjects names in 2016 and 2017 datasets\n",
    "\n",
    "def tidy_up_2a(df):\n",
    "\n",
    "    # Update names\n",
    "    di = {'Hospitality: Practical Cake Craft': 'Practical Cake Craft',\n",
    "          'Hospitality: Practical Cookery': 'Practical Cookery',\n",
    "          'Cantonese': 'Chinese Languages', 'Gàidhlig': 'Gaidhlig'}\n",
    "    \n",
    "    df = df.replace({\"Subject\": di})\n",
    "    \n",
    "    # Remove duplicate names\n",
    "    values = ['Cruinn-eolas (Geography)', 'Nuadh-Eolas (Modern Studies)', 'Eachdraidh (History)', \n",
    "        'Matamataig (Mathematics)', 'Matamataig Fad-bheatha (Lifeskills Mathematics)',\n",
    "            'Mandarin (Simplified)', 'Mandarin (Traditional)']\n",
    "\n",
    "    df = df.loc[~df['Subject'].isin(values)]\n",
    "    \n",
    "    return df\n",
    "\n",
    "df16 = tidy_up_2a(df16)\n",
    "df17 = tidy_up_2a(df17)"
   ]
  },
  {
   "cell_type": "code",
   "execution_count": 93,
   "id": "7bd52fec",
   "metadata": {},
   "outputs": [
    {
     "data": {
      "text/html": [
       "<div>\n",
       "<style scoped>\n",
       "    .dataframe tbody tr th:only-of-type {\n",
       "        vertical-align: middle;\n",
       "    }\n",
       "\n",
       "    .dataframe tbody tr th {\n",
       "        vertical-align: top;\n",
       "    }\n",
       "\n",
       "    .dataframe thead th {\n",
       "        text-align: right;\n",
       "    }\n",
       "</style>\n",
       "<table border=\"1\" class=\"dataframe\">\n",
       "  <thead>\n",
       "    <tr style=\"text-align: right;\">\n",
       "      <th></th>\n",
       "      <th>Subject</th>\n",
       "      <th>As_2022</th>\n",
       "      <th>NAs_2022</th>\n",
       "      <th>Entries_2022</th>\n",
       "      <th>As_2021</th>\n",
       "      <th>NAs_2021</th>\n",
       "      <th>Entries_2021</th>\n",
       "      <th>As_2020</th>\n",
       "      <th>NAs_2020</th>\n",
       "      <th>Entries_2020</th>\n",
       "      <th>...</th>\n",
       "      <th>Ds_2021</th>\n",
       "      <th>Bs_2020</th>\n",
       "      <th>Cs_2020</th>\n",
       "      <th>Ds_2020</th>\n",
       "      <th>Bs_2019</th>\n",
       "      <th>Cs_2019</th>\n",
       "      <th>Ds_2019</th>\n",
       "      <th>Bs_2018</th>\n",
       "      <th>Cs_2018</th>\n",
       "      <th>Ds_2018</th>\n",
       "    </tr>\n",
       "  </thead>\n",
       "  <tbody>\n",
       "    <tr>\n",
       "      <th>0</th>\n",
       "      <td>Accounting</td>\n",
       "      <td>440</td>\n",
       "      <td>85.0</td>\n",
       "      <td>855</td>\n",
       "      <td>510</td>\n",
       "      <td>50.0</td>\n",
       "      <td>900</td>\n",
       "      <td>515</td>\n",
       "      <td>30.0</td>\n",
       "      <td>910</td>\n",
       "      <td>...</td>\n",
       "      <td>60</td>\n",
       "      <td>190</td>\n",
       "      <td>125</td>\n",
       "      <td>50</td>\n",
       "      <td>180</td>\n",
       "      <td>135</td>\n",
       "      <td>65</td>\n",
       "      <td>145</td>\n",
       "      <td>130</td>\n",
       "      <td>100</td>\n",
       "    </tr>\n",
       "    <tr>\n",
       "      <th>1</th>\n",
       "      <td>Administration and IT</td>\n",
       "      <td>1680</td>\n",
       "      <td>305.0</td>\n",
       "      <td>5410</td>\n",
       "      <td>2665</td>\n",
       "      <td>110.0</td>\n",
       "      <td>5420</td>\n",
       "      <td>2000</td>\n",
       "      <td>100.0</td>\n",
       "      <td>5190</td>\n",
       "      <td>...</td>\n",
       "      <td>295</td>\n",
       "      <td>1530</td>\n",
       "      <td>1255</td>\n",
       "      <td>305</td>\n",
       "      <td>1310</td>\n",
       "      <td>1085</td>\n",
       "      <td>645</td>\n",
       "      <td>1345</td>\n",
       "      <td>1020</td>\n",
       "      <td>590</td>\n",
       "    </tr>\n",
       "    <tr>\n",
       "      <th>2</th>\n",
       "      <td>Applications of Mathematics</td>\n",
       "      <td>3570</td>\n",
       "      <td>2485.0</td>\n",
       "      <td>14305</td>\n",
       "      <td>2440</td>\n",
       "      <td>2055.0</td>\n",
       "      <td>10750</td>\n",
       "      <td>3020</td>\n",
       "      <td>1285.0</td>\n",
       "      <td>10430</td>\n",
       "      <td>...</td>\n",
       "      <td>1815</td>\n",
       "      <td>2060</td>\n",
       "      <td>2770</td>\n",
       "      <td>1295</td>\n",
       "      <td>720</td>\n",
       "      <td>825</td>\n",
       "      <td>830</td>\n",
       "      <td>485</td>\n",
       "      <td>490</td>\n",
       "      <td>485</td>\n",
       "    </tr>\n",
       "    <tr>\n",
       "      <th>3</th>\n",
       "      <td>Art and Design</td>\n",
       "      <td>4480</td>\n",
       "      <td>190.0</td>\n",
       "      <td>10095</td>\n",
       "      <td>4750</td>\n",
       "      <td>160.0</td>\n",
       "      <td>10020</td>\n",
       "      <td>4570</td>\n",
       "      <td>100.0</td>\n",
       "      <td>9915</td>\n",
       "      <td>...</td>\n",
       "      <td>450</td>\n",
       "      <td>3045</td>\n",
       "      <td>1940</td>\n",
       "      <td>260</td>\n",
       "      <td>2695</td>\n",
       "      <td>2180</td>\n",
       "      <td>930</td>\n",
       "      <td>2530</td>\n",
       "      <td>1720</td>\n",
       "      <td>795</td>\n",
       "    </tr>\n",
       "    <tr>\n",
       "      <th>4</th>\n",
       "      <td>Biology</td>\n",
       "      <td>7350</td>\n",
       "      <td>2240.0</td>\n",
       "      <td>22575</td>\n",
       "      <td>7745</td>\n",
       "      <td>1980.0</td>\n",
       "      <td>21195</td>\n",
       "      <td>7690</td>\n",
       "      <td>1135.0</td>\n",
       "      <td>21785</td>\n",
       "      <td>...</td>\n",
       "      <td>3145</td>\n",
       "      <td>5030</td>\n",
       "      <td>5440</td>\n",
       "      <td>2495</td>\n",
       "      <td>4455</td>\n",
       "      <td>4390</td>\n",
       "      <td>3925</td>\n",
       "      <td>4535</td>\n",
       "      <td>4215</td>\n",
       "      <td>3475</td>\n",
       "    </tr>\n",
       "  </tbody>\n",
       "</table>\n",
       "<p>5 rows × 31 columns</p>\n",
       "</div>"
      ],
      "text/plain": [
       "                       Subject  As_2022  NAs_2022  Entries_2022  As_2021  \\\n",
       "0                   Accounting      440      85.0           855      510   \n",
       "1        Administration and IT     1680     305.0          5410     2665   \n",
       "2  Applications of Mathematics     3570    2485.0         14305     2440   \n",
       "3               Art and Design     4480     190.0         10095     4750   \n",
       "4                      Biology     7350    2240.0         22575     7745   \n",
       "\n",
       "   NAs_2021  Entries_2021  As_2020  NAs_2020  Entries_2020  ...  Ds_2021  \\\n",
       "0      50.0           900      515      30.0           910  ...       60   \n",
       "1     110.0          5420     2000     100.0          5190  ...      295   \n",
       "2    2055.0         10750     3020    1285.0         10430  ...     1815   \n",
       "3     160.0         10020     4570     100.0          9915  ...      450   \n",
       "4    1980.0         21195     7690    1135.0         21785  ...     3145   \n",
       "\n",
       "   Bs_2020  Cs_2020  Ds_2020  Bs_2019  Cs_2019  Ds_2019  Bs_2018  Cs_2018  \\\n",
       "0      190      125       50      180      135       65      145      130   \n",
       "1     1530     1255      305     1310     1085      645     1345     1020   \n",
       "2     2060     2770     1295      720      825      830      485      490   \n",
       "3     3045     1940      260     2695     2180      930     2530     1720   \n",
       "4     5030     5440     2495     4455     4390     3925     4535     4215   \n",
       "\n",
       "   Ds_2018  \n",
       "0      100  \n",
       "1      590  \n",
       "2      485  \n",
       "3      795  \n",
       "4     3475  \n",
       "\n",
       "[5 rows x 31 columns]"
      ]
     },
     "execution_count": 93,
     "metadata": {},
     "output_type": "execute_result"
    }
   ],
   "source": [
    "df.head()"
   ]
  },
  {
   "cell_type": "code",
   "execution_count": 94,
   "id": "27a9ead9",
   "metadata": {},
   "outputs": [],
   "source": [
    "# Concat together three dfs (on Subject as index)\n",
    "\n",
    "dfc = pd.concat([df.set_index('Subject'), df17.set_index('Subject'), df16.set_index('Subject')], \n",
    "                  axis=1).reset_index()"
   ]
  },
  {
   "cell_type": "code",
   "execution_count": 95,
   "id": "b850461a",
   "metadata": {},
   "outputs": [
    {
     "data": {
      "text/html": [
       "<div>\n",
       "<style scoped>\n",
       "    .dataframe tbody tr th:only-of-type {\n",
       "        vertical-align: middle;\n",
       "    }\n",
       "\n",
       "    .dataframe tbody tr th {\n",
       "        vertical-align: top;\n",
       "    }\n",
       "\n",
       "    .dataframe thead th {\n",
       "        text-align: right;\n",
       "    }\n",
       "</style>\n",
       "<table border=\"1\" class=\"dataframe\">\n",
       "  <thead>\n",
       "    <tr style=\"text-align: right;\">\n",
       "      <th></th>\n",
       "      <th>Subject</th>\n",
       "      <th>As_2022</th>\n",
       "      <th>NAs_2022</th>\n",
       "      <th>Entries_2022</th>\n",
       "      <th>As_2021</th>\n",
       "      <th>NAs_2021</th>\n",
       "      <th>Entries_2021</th>\n",
       "      <th>As_2020</th>\n",
       "      <th>NAs_2020</th>\n",
       "      <th>Entries_2020</th>\n",
       "      <th>...</th>\n",
       "      <th>Cs_2016</th>\n",
       "      <th>Ds_2016</th>\n",
       "      <th>NAs_2016</th>\n",
       "      <th>perAs_2022</th>\n",
       "      <th>perAs_2021</th>\n",
       "      <th>perAs_2020</th>\n",
       "      <th>perAs_2019</th>\n",
       "      <th>perAs_2018</th>\n",
       "      <th>perAs_2017</th>\n",
       "      <th>perAs_2016</th>\n",
       "    </tr>\n",
       "  </thead>\n",
       "  <tbody>\n",
       "    <tr>\n",
       "      <th>45</th>\n",
       "      <td>Sociology</td>\n",
       "      <td>85.0</td>\n",
       "      <td>40.0</td>\n",
       "      <td>280.0</td>\n",
       "      <td>120.0</td>\n",
       "      <td>15.0</td>\n",
       "      <td>270.0</td>\n",
       "      <td>95.0</td>\n",
       "      <td>15.0</td>\n",
       "      <td>285.0</td>\n",
       "      <td>...</td>\n",
       "      <td>38.0</td>\n",
       "      <td>14.0</td>\n",
       "      <td>41.0</td>\n",
       "      <td>0.30</td>\n",
       "      <td>0.44</td>\n",
       "      <td>0.33</td>\n",
       "      <td>0.29</td>\n",
       "      <td>0.27</td>\n",
       "      <td>0.40</td>\n",
       "      <td>0.40</td>\n",
       "    </tr>\n",
       "    <tr>\n",
       "      <th>46</th>\n",
       "      <td>Spanish</td>\n",
       "      <td>3410.0</td>\n",
       "      <td>195.0</td>\n",
       "      <td>5765.0</td>\n",
       "      <td>3200.0</td>\n",
       "      <td>130.0</td>\n",
       "      <td>5425.0</td>\n",
       "      <td>3275.0</td>\n",
       "      <td>60.0</td>\n",
       "      <td>5815.0</td>\n",
       "      <td>...</td>\n",
       "      <td>558.0</td>\n",
       "      <td>184.0</td>\n",
       "      <td>275.0</td>\n",
       "      <td>0.59</td>\n",
       "      <td>0.59</td>\n",
       "      <td>0.56</td>\n",
       "      <td>0.53</td>\n",
       "      <td>0.58</td>\n",
       "      <td>0.59</td>\n",
       "      <td>0.59</td>\n",
       "    </tr>\n",
       "    <tr>\n",
       "      <th>47</th>\n",
       "      <td>Urdu</td>\n",
       "      <td>55.0</td>\n",
       "      <td>NaN</td>\n",
       "      <td>70.0</td>\n",
       "      <td>50.0</td>\n",
       "      <td>0.0</td>\n",
       "      <td>65.0</td>\n",
       "      <td>80.0</td>\n",
       "      <td>0.0</td>\n",
       "      <td>85.0</td>\n",
       "      <td>...</td>\n",
       "      <td>7.0</td>\n",
       "      <td>3.0</td>\n",
       "      <td>3.0</td>\n",
       "      <td>0.79</td>\n",
       "      <td>0.77</td>\n",
       "      <td>0.94</td>\n",
       "      <td>0.87</td>\n",
       "      <td>0.78</td>\n",
       "      <td>0.68</td>\n",
       "      <td>0.68</td>\n",
       "    </tr>\n",
       "    <tr>\n",
       "      <th>48</th>\n",
       "      <td>NaN</td>\n",
       "      <td>NaN</td>\n",
       "      <td>NaN</td>\n",
       "      <td>NaN</td>\n",
       "      <td>NaN</td>\n",
       "      <td>NaN</td>\n",
       "      <td>NaN</td>\n",
       "      <td>NaN</td>\n",
       "      <td>NaN</td>\n",
       "      <td>NaN</td>\n",
       "      <td>...</td>\n",
       "      <td>NaN</td>\n",
       "      <td>NaN</td>\n",
       "      <td>NaN</td>\n",
       "      <td>NaN</td>\n",
       "      <td>NaN</td>\n",
       "      <td>NaN</td>\n",
       "      <td>NaN</td>\n",
       "      <td>NaN</td>\n",
       "      <td>NaN</td>\n",
       "      <td>NaN</td>\n",
       "    </tr>\n",
       "    <tr>\n",
       "      <th>49</th>\n",
       "      <td>Lifeskills Mathematics</td>\n",
       "      <td>NaN</td>\n",
       "      <td>NaN</td>\n",
       "      <td>NaN</td>\n",
       "      <td>NaN</td>\n",
       "      <td>NaN</td>\n",
       "      <td>NaN</td>\n",
       "      <td>NaN</td>\n",
       "      <td>NaN</td>\n",
       "      <td>NaN</td>\n",
       "      <td>...</td>\n",
       "      <td>486.0</td>\n",
       "      <td>295.0</td>\n",
       "      <td>1096.0</td>\n",
       "      <td>NaN</td>\n",
       "      <td>NaN</td>\n",
       "      <td>NaN</td>\n",
       "      <td>NaN</td>\n",
       "      <td>NaN</td>\n",
       "      <td>0.13</td>\n",
       "      <td>0.13</td>\n",
       "    </tr>\n",
       "  </tbody>\n",
       "</table>\n",
       "<p>5 rows × 50 columns</p>\n",
       "</div>"
      ],
      "text/plain": [
       "                   Subject  As_2022  NAs_2022  Entries_2022  As_2021  \\\n",
       "45               Sociology     85.0      40.0         280.0    120.0   \n",
       "46                 Spanish   3410.0     195.0        5765.0   3200.0   \n",
       "47                    Urdu     55.0       NaN          70.0     50.0   \n",
       "48                     NaN      NaN       NaN           NaN      NaN   \n",
       "49  Lifeskills Mathematics      NaN       NaN           NaN      NaN   \n",
       "\n",
       "    NAs_2021  Entries_2021  As_2020  NAs_2020  Entries_2020  ...  Cs_2016  \\\n",
       "45      15.0         270.0     95.0      15.0         285.0  ...     38.0   \n",
       "46     130.0        5425.0   3275.0      60.0        5815.0  ...    558.0   \n",
       "47       0.0          65.0     80.0       0.0          85.0  ...      7.0   \n",
       "48       NaN           NaN      NaN       NaN           NaN  ...      NaN   \n",
       "49       NaN           NaN      NaN       NaN           NaN  ...    486.0   \n",
       "\n",
       "    Ds_2016  NAs_2016  perAs_2022  perAs_2021  perAs_2020  perAs_2019  \\\n",
       "45     14.0      41.0        0.30        0.44        0.33        0.29   \n",
       "46    184.0     275.0        0.59        0.59        0.56        0.53   \n",
       "47      3.0       3.0        0.79        0.77        0.94        0.87   \n",
       "48      NaN       NaN         NaN         NaN         NaN         NaN   \n",
       "49    295.0    1096.0         NaN         NaN         NaN         NaN   \n",
       "\n",
       "    perAs_2018  perAs_2017  perAs_2016  \n",
       "45        0.27        0.40        0.40  \n",
       "46        0.58        0.59        0.59  \n",
       "47        0.78        0.68        0.68  \n",
       "48         NaN         NaN         NaN  \n",
       "49         NaN        0.13        0.13  \n",
       "\n",
       "[5 rows x 50 columns]"
      ]
     },
     "execution_count": 95,
     "metadata": {},
     "output_type": "execute_result"
    }
   ],
   "source": [
    "def as_per(df):\n",
    "\n",
    "    # Create a list of years\n",
    "    years = ['2022', '2021', '2020', '2019', '2018', '2017', '2016']\n",
    "\n",
    "    # Calculate perc of As\n",
    "    for year in years:\n",
    "        \n",
    "        df['perAs_' + year] = round(df['As_' + year] / df['Entries_' + year], 2)\n",
    "        \n",
    "    return df\n",
    "\n",
    "dfc = as_per(dfc)\n",
    "        \n",
    "dfc.tail()"
   ]
  },
  {
   "cell_type": "code",
   "execution_count": 96,
   "id": "a6d32248",
   "metadata": {
    "scrolled": true
   },
   "outputs": [
    {
     "data": {
      "text/html": [
       "<div>\n",
       "<style scoped>\n",
       "    .dataframe tbody tr th:only-of-type {\n",
       "        vertical-align: middle;\n",
       "    }\n",
       "\n",
       "    .dataframe tbody tr th {\n",
       "        vertical-align: top;\n",
       "    }\n",
       "\n",
       "    .dataframe thead th {\n",
       "        text-align: right;\n",
       "    }\n",
       "</style>\n",
       "<table border=\"1\" class=\"dataframe\">\n",
       "  <thead>\n",
       "    <tr style=\"text-align: right;\">\n",
       "      <th></th>\n",
       "      <th>Subject</th>\n",
       "      <th>Count</th>\n",
       "      <th>Grades</th>\n",
       "      <th>Year</th>\n",
       "    </tr>\n",
       "  </thead>\n",
       "  <tbody>\n",
       "    <tr>\n",
       "      <th>2445</th>\n",
       "      <td>Sociology</td>\n",
       "      <td>0.40</td>\n",
       "      <td>perAs</td>\n",
       "      <td>2016</td>\n",
       "    </tr>\n",
       "    <tr>\n",
       "      <th>2446</th>\n",
       "      <td>Spanish</td>\n",
       "      <td>0.59</td>\n",
       "      <td>perAs</td>\n",
       "      <td>2016</td>\n",
       "    </tr>\n",
       "    <tr>\n",
       "      <th>2447</th>\n",
       "      <td>Urdu</td>\n",
       "      <td>0.68</td>\n",
       "      <td>perAs</td>\n",
       "      <td>2016</td>\n",
       "    </tr>\n",
       "    <tr>\n",
       "      <th>2448</th>\n",
       "      <td>NaN</td>\n",
       "      <td>NaN</td>\n",
       "      <td>perAs</td>\n",
       "      <td>2016</td>\n",
       "    </tr>\n",
       "    <tr>\n",
       "      <th>2449</th>\n",
       "      <td>Lifeskills Mathematics</td>\n",
       "      <td>0.13</td>\n",
       "      <td>perAs</td>\n",
       "      <td>2016</td>\n",
       "    </tr>\n",
       "  </tbody>\n",
       "</table>\n",
       "</div>"
      ],
      "text/plain": [
       "                     Subject  Count Grades  Year\n",
       "2445               Sociology   0.40  perAs  2016\n",
       "2446                 Spanish   0.59  perAs  2016\n",
       "2447                    Urdu   0.68  perAs  2016\n",
       "2448                     NaN    NaN  perAs  2016\n",
       "2449  Lifeskills Mathematics   0.13  perAs  2016"
      ]
     },
     "execution_count": 96,
     "metadata": {},
     "output_type": "execute_result"
    }
   ],
   "source": [
    "# Convert into long format\n",
    "\n",
    "def tolong(df):\n",
    "    ldf = pd.melt(df, id_vars = ['Subject'], var_name = 'abc', value_name ='Count')\n",
    "    ldf['Grades'] = ldf['abc'].apply(lambda x: (x.rsplit('_', 1))[0])\n",
    "    ldf['Year'] = ldf.pop('abc').apply(lambda x: (x.split('_'))[-1])\n",
    "    \n",
    "    return ldf\n",
    "    \n",
    "ldf = tolong(dfc)\n",
    "\n",
    "ldf.tail()"
   ]
  },
  {
   "cell_type": "code",
   "execution_count": 97,
   "id": "ed8850fa",
   "metadata": {},
   "outputs": [
    {
     "data": {
      "text/html": [
       "<div>\n",
       "<style scoped>\n",
       "    .dataframe tbody tr th:only-of-type {\n",
       "        vertical-align: middle;\n",
       "    }\n",
       "\n",
       "    .dataframe tbody tr th {\n",
       "        vertical-align: top;\n",
       "    }\n",
       "\n",
       "    .dataframe thead th {\n",
       "        text-align: right;\n",
       "    }\n",
       "</style>\n",
       "<table border=\"1\" class=\"dataframe\">\n",
       "  <thead>\n",
       "    <tr style=\"text-align: right;\">\n",
       "      <th></th>\n",
       "      <th>Subject</th>\n",
       "      <th>Count</th>\n",
       "      <th>Grades</th>\n",
       "      <th>Year</th>\n",
       "    </tr>\n",
       "  </thead>\n",
       "  <tbody>\n",
       "    <tr>\n",
       "      <th>2444</th>\n",
       "      <td>Religious, Moral and Philosophical Studies</td>\n",
       "      <td>0.31</td>\n",
       "      <td>perAs</td>\n",
       "      <td>2016</td>\n",
       "    </tr>\n",
       "    <tr>\n",
       "      <th>2445</th>\n",
       "      <td>Sociology</td>\n",
       "      <td>0.40</td>\n",
       "      <td>perAs</td>\n",
       "      <td>2016</td>\n",
       "    </tr>\n",
       "    <tr>\n",
       "      <th>2446</th>\n",
       "      <td>Spanish</td>\n",
       "      <td>0.59</td>\n",
       "      <td>perAs</td>\n",
       "      <td>2016</td>\n",
       "    </tr>\n",
       "    <tr>\n",
       "      <th>2447</th>\n",
       "      <td>Urdu</td>\n",
       "      <td>0.68</td>\n",
       "      <td>perAs</td>\n",
       "      <td>2016</td>\n",
       "    </tr>\n",
       "    <tr>\n",
       "      <th>2449</th>\n",
       "      <td>Lifeskills Mathematics</td>\n",
       "      <td>0.13</td>\n",
       "      <td>perAs</td>\n",
       "      <td>2016</td>\n",
       "    </tr>\n",
       "  </tbody>\n",
       "</table>\n",
       "</div>"
      ],
      "text/plain": [
       "                                         Subject  Count Grades  Year\n",
       "2444  Religious, Moral and Philosophical Studies   0.31  perAs  2016\n",
       "2445                                   Sociology   0.40  perAs  2016\n",
       "2446                                     Spanish   0.59  perAs  2016\n",
       "2447                                        Urdu   0.68  perAs  2016\n",
       "2449                      Lifeskills Mathematics   0.13  perAs  2016"
      ]
     },
     "execution_count": 97,
     "metadata": {},
     "output_type": "execute_result"
    }
   ],
   "source": [
    "ldf = ldf[ldf.Grades == 'perAs']\n",
    "ldf.dropna(inplace=True)\n",
    "\n",
    "ldf.tail()"
   ]
  },
  {
   "cell_type": "code",
   "execution_count": 98,
   "id": "11281c5d",
   "metadata": {},
   "outputs": [
    {
     "name": "stdout",
     "output_type": "stream",
     "text": [
      "<class 'pandas.core.frame.DataFrame'>\n",
      "Int64Index: 336 entries, 2100 to 2449\n",
      "Data columns (total 4 columns):\n",
      " #   Column   Non-Null Count  Dtype  \n",
      "---  ------   --------------  -----  \n",
      " 0   Subject  336 non-null    object \n",
      " 1   Count    336 non-null    float64\n",
      " 2   Grades   336 non-null    object \n",
      " 3   Year     336 non-null    object \n",
      "dtypes: float64(1), object(3)\n",
      "memory usage: 13.1+ KB\n"
     ]
    }
   ],
   "source": [
    "ldf.info()"
   ]
  },
  {
   "cell_type": "code",
   "execution_count": 99,
   "id": "e8e38656",
   "metadata": {},
   "outputs": [
    {
     "data": {
      "application/vnd.plotly.v1+json": {
       "config": {
        "plotlyServerURL": "https://plotly.com"
       },
       "data": [
        {
         "hovertemplate": "Subject=Accounting<br>Year=%{x}<br>Percentage=%{y}<extra></extra>",
         "legendgroup": "Accounting",
         "line": {
          "color": "#636efa",
          "dash": "solid"
         },
         "marker": {
          "symbol": "circle"
         },
         "mode": "markers+lines",
         "name": "Accounting",
         "orientation": "v",
         "showlegend": true,
         "type": "scatter",
         "x": [
          "2022",
          "2021",
          "2020",
          "2019",
          "2018",
          "2017",
          "2016"
         ],
         "xaxis": "x",
         "y": [
          0.51,
          0.57,
          0.57,
          0.48,
          0.49,
          0.49,
          0.49
         ],
         "yaxis": "y"
        },
        {
         "hovertemplate": "Subject=Administration and IT<br>Year=%{x}<br>Percentage=%{y}<extra></extra>",
         "legendgroup": "Administration and IT",
         "line": {
          "color": "#EF553B",
          "dash": "solid"
         },
         "marker": {
          "symbol": "circle"
         },
         "mode": "markers+lines",
         "name": "Administration and IT",
         "orientation": "v",
         "showlegend": true,
         "type": "scatter",
         "x": [
          "2022",
          "2021",
          "2020",
          "2019",
          "2018",
          "2017",
          "2016"
         ],
         "xaxis": "x",
         "y": [
          0.31,
          0.49,
          0.39,
          0.3,
          0.3,
          0.29,
          0.29
         ],
         "yaxis": "y"
        },
        {
         "hovertemplate": "Subject=Applications of Mathematics<br>Year=%{x}<br>Percentage=%{y}<extra></extra>",
         "legendgroup": "Applications of Mathematics",
         "line": {
          "color": "#00cc96",
          "dash": "solid"
         },
         "marker": {
          "symbol": "circle"
         },
         "mode": "markers+lines",
         "name": "Applications of Mathematics",
         "orientation": "v",
         "showlegend": true,
         "type": "scatter",
         "x": [
          "2022",
          "2021",
          "2020",
          "2019",
          "2018"
         ],
         "xaxis": "x",
         "y": [
          0.25,
          0.23,
          0.29,
          0.24,
          0.19
         ],
         "yaxis": "y"
        },
        {
         "hovertemplate": "Subject=Art and Design<br>Year=%{x}<br>Percentage=%{y}<extra></extra>",
         "legendgroup": "Art and Design",
         "line": {
          "color": "#ab63fa",
          "dash": "solid"
         },
         "marker": {
          "symbol": "circle"
         },
         "mode": "markers+lines",
         "name": "Art and Design",
         "orientation": "v",
         "showlegend": true,
         "type": "scatter",
         "x": [
          "2022",
          "2021",
          "2020",
          "2019",
          "2018",
          "2017",
          "2016"
         ],
         "xaxis": "x",
         "y": [
          0.44,
          0.47,
          0.46,
          0.35,
          0.42,
          0.49,
          0.49
         ],
         "yaxis": "y"
        },
        {
         "hovertemplate": "Subject=Biology<br>Year=%{x}<br>Percentage=%{y}<extra></extra>",
         "legendgroup": "Biology",
         "line": {
          "color": "#FFA15A",
          "dash": "solid"
         },
         "marker": {
          "symbol": "circle"
         },
         "mode": "markers+lines",
         "name": "Biology",
         "orientation": "v",
         "showlegend": true,
         "type": "scatter",
         "x": [
          "2022",
          "2021",
          "2020",
          "2019",
          "2018",
          "2017",
          "2016"
         ],
         "xaxis": "x",
         "y": [
          0.33,
          0.37,
          0.35,
          0.29,
          0.31,
          0.27,
          0.27
         ],
         "yaxis": "y"
        },
        {
         "hovertemplate": "Subject=Business Management<br>Year=%{x}<br>Percentage=%{y}<extra></extra>",
         "legendgroup": "Business Management",
         "line": {
          "color": "#19d3f3",
          "dash": "solid"
         },
         "marker": {
          "symbol": "circle"
         },
         "mode": "markers+lines",
         "name": "Business Management",
         "orientation": "v",
         "showlegend": true,
         "type": "scatter",
         "x": [
          "2022",
          "2021",
          "2020",
          "2019",
          "2018",
          "2017",
          "2016"
         ],
         "xaxis": "x",
         "y": [
          0.41,
          0.41,
          0.39,
          0.35,
          0.39,
          0.33,
          0.33
         ],
         "yaxis": "y"
        },
        {
         "hovertemplate": "Subject=Care<br>Year=%{x}<br>Percentage=%{y}<extra></extra>",
         "legendgroup": "Care",
         "line": {
          "color": "#FF6692",
          "dash": "solid"
         },
         "marker": {
          "symbol": "circle"
         },
         "mode": "markers+lines",
         "name": "Care",
         "orientation": "v",
         "showlegend": true,
         "type": "scatter",
         "x": [
          "2022",
          "2021",
          "2020",
          "2019",
          "2018",
          "2017",
          "2016"
         ],
         "xaxis": "x",
         "y": [
          0.19,
          0.34,
          0.35,
          0.34,
          0.33,
          0.35,
          0.35
         ],
         "yaxis": "y"
        },
        {
         "hovertemplate": "Subject=Chemistry<br>Year=%{x}<br>Percentage=%{y}<extra></extra>",
         "legendgroup": "Chemistry",
         "line": {
          "color": "#B6E880",
          "dash": "solid"
         },
         "marker": {
          "symbol": "circle"
         },
         "mode": "markers+lines",
         "name": "Chemistry",
         "orientation": "v",
         "showlegend": true,
         "type": "scatter",
         "x": [
          "2022",
          "2021",
          "2020",
          "2019",
          "2018",
          "2017",
          "2016"
         ],
         "xaxis": "x",
         "y": [
          0.42,
          0.45,
          0.43,
          0.35,
          0.36,
          0.35,
          0.35
         ],
         "yaxis": "y"
        },
        {
         "hovertemplate": "Subject=Chinese Languages<br>Year=%{x}<br>Percentage=%{y}<extra></extra>",
         "legendgroup": "Chinese Languages",
         "line": {
          "color": "#FF97FF",
          "dash": "solid"
         },
         "marker": {
          "symbol": "circle"
         },
         "mode": "markers+lines",
         "name": "Chinese Languages",
         "orientation": "v",
         "showlegend": true,
         "type": "scatter",
         "x": [
          "2022",
          "2021",
          "2020",
          "2019",
          "2018",
          "2017",
          "2016"
         ],
         "xaxis": "x",
         "y": [
          0.75,
          0.76,
          0.75,
          0.76,
          0.65,
          0.69,
          0.69
         ],
         "yaxis": "y"
        },
        {
         "hovertemplate": "Subject=Classical Studies<br>Year=%{x}<br>Percentage=%{y}<extra></extra>",
         "legendgroup": "Classical Studies",
         "line": {
          "color": "#FECB52",
          "dash": "solid"
         },
         "marker": {
          "symbol": "circle"
         },
         "mode": "markers+lines",
         "name": "Classical Studies",
         "orientation": "v",
         "showlegend": true,
         "type": "scatter",
         "x": [
          "2022",
          "2021",
          "2020",
          "2019",
          "2018",
          "2017",
          "2016"
         ],
         "xaxis": "x",
         "y": [
          0.5,
          0.55,
          0.54,
          0.5,
          0.44,
          0.52,
          0.52
         ],
         "yaxis": "y"
        },
        {
         "hovertemplate": "Subject=Computing Science<br>Year=%{x}<br>Percentage=%{y}<extra></extra>",
         "legendgroup": "Computing Science",
         "line": {
          "color": "#636efa",
          "dash": "solid"
         },
         "marker": {
          "symbol": "circle"
         },
         "mode": "markers+lines",
         "name": "Computing Science",
         "orientation": "v",
         "showlegend": true,
         "type": "scatter",
         "x": [
          "2022",
          "2021",
          "2020",
          "2019",
          "2018",
          "2017",
          "2016"
         ],
         "xaxis": "x",
         "y": [
          0.41,
          0.45,
          0.41,
          0.32,
          0.29,
          0.29,
          0.29
         ],
         "yaxis": "y"
        },
        {
         "hovertemplate": "Subject=Dance<br>Year=%{x}<br>Percentage=%{y}<extra></extra>",
         "legendgroup": "Dance",
         "line": {
          "color": "#EF553B",
          "dash": "solid"
         },
         "marker": {
          "symbol": "circle"
         },
         "mode": "markers+lines",
         "name": "Dance",
         "orientation": "v",
         "showlegend": true,
         "type": "scatter",
         "x": [
          "2022",
          "2021",
          "2020",
          "2019",
          "2018",
          "2017",
          "2016"
         ],
         "xaxis": "x",
         "y": [
          0.33,
          0.51,
          0.56,
          0.41,
          0.51,
          0.53,
          0.53
         ],
         "yaxis": "y"
        },
        {
         "hovertemplate": "Subject=Design and Manufacture<br>Year=%{x}<br>Percentage=%{y}<extra></extra>",
         "legendgroup": "Design and Manufacture",
         "line": {
          "color": "#00cc96",
          "dash": "solid"
         },
         "marker": {
          "symbol": "circle"
         },
         "mode": "markers+lines",
         "name": "Design and Manufacture",
         "orientation": "v",
         "showlegend": true,
         "type": "scatter",
         "x": [
          "2022",
          "2021",
          "2020",
          "2019",
          "2018",
          "2017",
          "2016"
         ],
         "xaxis": "x",
         "y": [
          0.25,
          0.34,
          0.29,
          0.18,
          0.12,
          0.35,
          0.35
         ],
         "yaxis": "y"
        },
        {
         "hovertemplate": "Subject=Drama<br>Year=%{x}<br>Percentage=%{y}<extra></extra>",
         "legendgroup": "Drama",
         "line": {
          "color": "#ab63fa",
          "dash": "solid"
         },
         "marker": {
          "symbol": "circle"
         },
         "mode": "markers+lines",
         "name": "Drama",
         "orientation": "v",
         "showlegend": true,
         "type": "scatter",
         "x": [
          "2022",
          "2021",
          "2020",
          "2019",
          "2018",
          "2017",
          "2016"
         ],
         "xaxis": "x",
         "y": [
          0.64,
          0.62,
          0.6,
          0.59,
          0.56,
          0.53,
          0.53
         ],
         "yaxis": "y"
        },
        {
         "hovertemplate": "Subject=Economics<br>Year=%{x}<br>Percentage=%{y}<extra></extra>",
         "legendgroup": "Economics",
         "line": {
          "color": "#FFA15A",
          "dash": "solid"
         },
         "marker": {
          "symbol": "circle"
         },
         "mode": "markers+lines",
         "name": "Economics",
         "orientation": "v",
         "showlegend": true,
         "type": "scatter",
         "x": [
          "2022",
          "2021",
          "2020",
          "2019",
          "2018",
          "2017",
          "2016"
         ],
         "xaxis": "x",
         "y": [
          0.72,
          0.83,
          0.73,
          0.65,
          0.73,
          0.58,
          0.58
         ],
         "yaxis": "y"
        },
        {
         "hovertemplate": "Subject=Engineering Science<br>Year=%{x}<br>Percentage=%{y}<extra></extra>",
         "legendgroup": "Engineering Science",
         "line": {
          "color": "#19d3f3",
          "dash": "solid"
         },
         "marker": {
          "symbol": "circle"
         },
         "mode": "markers+lines",
         "name": "Engineering Science",
         "orientation": "v",
         "showlegend": true,
         "type": "scatter",
         "x": [
          "2022",
          "2021",
          "2020",
          "2019",
          "2018",
          "2017",
          "2016"
         ],
         "xaxis": "x",
         "y": [
          0.57,
          0.53,
          0.52,
          0.48,
          0.41,
          0.46,
          0.46
         ],
         "yaxis": "y"
        },
        {
         "hovertemplate": "Subject=English<br>Year=%{x}<br>Percentage=%{y}<extra></extra>",
         "legendgroup": "English",
         "line": {
          "color": "#FF6692",
          "dash": "solid"
         },
         "marker": {
          "symbol": "circle"
         },
         "mode": "markers+lines",
         "name": "English",
         "orientation": "v",
         "showlegend": true,
         "type": "scatter",
         "x": [
          "2022",
          "2021",
          "2020",
          "2019",
          "2018",
          "2017",
          "2016"
         ],
         "xaxis": "x",
         "y": [
          0.41,
          0.48,
          0.39,
          0.35,
          0.36,
          0.37,
          0.37
         ],
         "yaxis": "y"
        },
        {
         "hovertemplate": "Subject=English for Speakers of Other Languages<br>Year=%{x}<br>Percentage=%{y}<extra></extra>",
         "legendgroup": "English for Speakers of Other Languages",
         "line": {
          "color": "#B6E880",
          "dash": "solid"
         },
         "marker": {
          "symbol": "circle"
         },
         "mode": "markers+lines",
         "name": "English for Speakers of Other Languages",
         "orientation": "v",
         "showlegend": true,
         "type": "scatter",
         "x": [
          "2022",
          "2021",
          "2020",
          "2019",
          "2018",
          "2017",
          "2016"
         ],
         "xaxis": "x",
         "y": [
          0.29,
          0.36,
          0.37,
          0.25,
          0.31,
          0.4,
          0.4
         ],
         "yaxis": "y"
        },
        {
         "hovertemplate": "Subject=Environmental Science<br>Year=%{x}<br>Percentage=%{y}<extra></extra>",
         "legendgroup": "Environmental Science",
         "line": {
          "color": "#FF97FF",
          "dash": "solid"
         },
         "marker": {
          "symbol": "circle"
         },
         "mode": "markers+lines",
         "name": "Environmental Science",
         "orientation": "v",
         "showlegend": true,
         "type": "scatter",
         "x": [
          "2022",
          "2021",
          "2020",
          "2019",
          "2018",
          "2017",
          "2016"
         ],
         "xaxis": "x",
         "y": [
          0.17,
          0.34,
          0.25,
          0.12,
          0.09,
          0.17,
          0.17
         ],
         "yaxis": "y"
        },
        {
         "hovertemplate": "Subject=Fashion and Textile Technology<br>Year=%{x}<br>Percentage=%{y}<extra></extra>",
         "legendgroup": "Fashion and Textile Technology",
         "line": {
          "color": "#FECB52",
          "dash": "solid"
         },
         "marker": {
          "symbol": "circle"
         },
         "mode": "markers+lines",
         "name": "Fashion and Textile Technology",
         "orientation": "v",
         "showlegend": true,
         "type": "scatter",
         "x": [
          "2022",
          "2021",
          "2020",
          "2019",
          "2018",
          "2017",
          "2016"
         ],
         "xaxis": "x",
         "y": [
          0.16,
          0.47,
          0.28,
          0.12,
          0.13,
          0.65,
          0.65
         ],
         "yaxis": "y"
        },
        {
         "hovertemplate": "Subject=French<br>Year=%{x}<br>Percentage=%{y}<extra></extra>",
         "legendgroup": "French",
         "line": {
          "color": "#636efa",
          "dash": "solid"
         },
         "marker": {
          "symbol": "circle"
         },
         "mode": "markers+lines",
         "name": "French",
         "orientation": "v",
         "showlegend": true,
         "type": "scatter",
         "x": [
          "2022",
          "2021",
          "2020",
          "2019",
          "2018",
          "2017",
          "2016"
         ],
         "xaxis": "x",
         "y": [
          0.59,
          0.6,
          0.6,
          0.54,
          0.57,
          0.6,
          0.6
         ],
         "yaxis": "y"
        },
        {
         "hovertemplate": "Subject=Gaelic (Learners)<br>Year=%{x}<br>Percentage=%{y}<extra></extra>",
         "legendgroup": "Gaelic (Learners)",
         "line": {
          "color": "#EF553B",
          "dash": "solid"
         },
         "marker": {
          "symbol": "circle"
         },
         "mode": "markers+lines",
         "name": "Gaelic (Learners)",
         "orientation": "v",
         "showlegend": true,
         "type": "scatter",
         "x": [
          "2022",
          "2021",
          "2020",
          "2019",
          "2018",
          "2017",
          "2016"
         ],
         "xaxis": "x",
         "y": [
          0.48,
          0.56,
          0.52,
          0.41,
          0.52,
          0.52,
          0.52
         ],
         "yaxis": "y"
        },
        {
         "hovertemplate": "Subject=Gaidhlig<br>Year=%{x}<br>Percentage=%{y}<extra></extra>",
         "legendgroup": "Gaidhlig",
         "line": {
          "color": "#00cc96",
          "dash": "solid"
         },
         "marker": {
          "symbol": "circle"
         },
         "mode": "markers+lines",
         "name": "Gaidhlig",
         "orientation": "v",
         "showlegend": true,
         "type": "scatter",
         "x": [
          "2022",
          "2021",
          "2020",
          "2019",
          "2018",
          "2017",
          "2016"
         ],
         "xaxis": "x",
         "y": [
          0.54,
          0.71,
          0.62,
          0.51,
          0.62,
          0.6,
          0.6
         ],
         "yaxis": "y"
        },
        {
         "hovertemplate": "Subject=Geography<br>Year=%{x}<br>Percentage=%{y}<extra></extra>",
         "legendgroup": "Geography",
         "line": {
          "color": "#ab63fa",
          "dash": "solid"
         },
         "marker": {
          "symbol": "circle"
         },
         "mode": "markers+lines",
         "name": "Geography",
         "orientation": "v",
         "showlegend": true,
         "type": "scatter",
         "x": [
          "2022",
          "2021",
          "2020",
          "2019",
          "2018",
          "2017",
          "2016"
         ],
         "xaxis": "x",
         "y": [
          0.42,
          0.53,
          0.43,
          0.29,
          0.29,
          0.35,
          0.35
         ],
         "yaxis": "y"
        },
        {
         "hovertemplate": "Subject=German<br>Year=%{x}<br>Percentage=%{y}<extra></extra>",
         "legendgroup": "German",
         "line": {
          "color": "#FFA15A",
          "dash": "solid"
         },
         "marker": {
          "symbol": "circle"
         },
         "mode": "markers+lines",
         "name": "German",
         "orientation": "v",
         "showlegend": true,
         "type": "scatter",
         "x": [
          "2022",
          "2021",
          "2020",
          "2019",
          "2018",
          "2017",
          "2016"
         ],
         "xaxis": "x",
         "y": [
          0.57,
          0.58,
          0.58,
          0.54,
          0.53,
          0.57,
          0.57
         ],
         "yaxis": "y"
        },
        {
         "hovertemplate": "Subject=Graphic Communication<br>Year=%{x}<br>Percentage=%{y}<extra></extra>",
         "legendgroup": "Graphic Communication",
         "line": {
          "color": "#19d3f3",
          "dash": "solid"
         },
         "marker": {
          "symbol": "circle"
         },
         "mode": "markers+lines",
         "name": "Graphic Communication",
         "orientation": "v",
         "showlegend": true,
         "type": "scatter",
         "x": [
          "2022",
          "2021",
          "2020",
          "2019",
          "2018",
          "2017",
          "2016"
         ],
         "xaxis": "x",
         "y": [
          0.26,
          0.39,
          0.35,
          0.22,
          0.21,
          0.36,
          0.36
         ],
         "yaxis": "y"
        },
        {
         "hovertemplate": "Subject=Health and Food Technology<br>Year=%{x}<br>Percentage=%{y}<extra></extra>",
         "legendgroup": "Health and Food Technology",
         "line": {
          "color": "#FF6692",
          "dash": "solid"
         },
         "marker": {
          "symbol": "circle"
         },
         "mode": "markers+lines",
         "name": "Health and Food Technology",
         "orientation": "v",
         "showlegend": true,
         "type": "scatter",
         "x": [
          "2022",
          "2021",
          "2020",
          "2019",
          "2018",
          "2017",
          "2016"
         ],
         "xaxis": "x",
         "y": [
          0.24,
          0.34,
          0.32,
          0.21,
          0.16,
          0.13,
          0.13
         ],
         "yaxis": "y"
        },
        {
         "hovertemplate": "Subject=History<br>Year=%{x}<br>Percentage=%{y}<extra></extra>",
         "legendgroup": "History",
         "line": {
          "color": "#B6E880",
          "dash": "solid"
         },
         "marker": {
          "symbol": "circle"
         },
         "mode": "markers+lines",
         "name": "History",
         "orientation": "v",
         "showlegend": true,
         "type": "scatter",
         "x": [
          "2022",
          "2021",
          "2020",
          "2019",
          "2018",
          "2017",
          "2016"
         ],
         "xaxis": "x",
         "y": [
          0.42,
          0.54,
          0.45,
          0.38,
          0.32,
          0.32,
          0.32
         ],
         "yaxis": "y"
        },
        {
         "hovertemplate": "Subject=Italian<br>Year=%{x}<br>Percentage=%{y}<extra></extra>",
         "legendgroup": "Italian",
         "line": {
          "color": "#FF97FF",
          "dash": "solid"
         },
         "marker": {
          "symbol": "circle"
         },
         "mode": "markers+lines",
         "name": "Italian",
         "orientation": "v",
         "showlegend": true,
         "type": "scatter",
         "x": [
          "2022",
          "2021",
          "2020",
          "2019",
          "2018",
          "2017",
          "2016"
         ],
         "xaxis": "x",
         "y": [
          0.6,
          0.61,
          0.57,
          0.58,
          0.49,
          0.71,
          0.71
         ],
         "yaxis": "y"
        },
        {
         "hovertemplate": "Subject=Latin<br>Year=%{x}<br>Percentage=%{y}<extra></extra>",
         "legendgroup": "Latin",
         "line": {
          "color": "#FECB52",
          "dash": "solid"
         },
         "marker": {
          "symbol": "circle"
         },
         "mode": "markers+lines",
         "name": "Latin",
         "orientation": "v",
         "showlegend": true,
         "type": "scatter",
         "x": [
          "2022",
          "2021",
          "2020",
          "2019",
          "2018",
          "2017",
          "2016"
         ],
         "xaxis": "x",
         "y": [
          0.87,
          0.96,
          0.88,
          0.85,
          0.92,
          0.96,
          0.96
         ],
         "yaxis": "y"
        },
        {
         "hovertemplate": "Subject=Lifeskills Mathematics<br>Year=%{x}<br>Percentage=%{y}<extra></extra>",
         "legendgroup": "Lifeskills Mathematics",
         "line": {
          "color": "#636efa",
          "dash": "solid"
         },
         "marker": {
          "symbol": "circle"
         },
         "mode": "markers+lines",
         "name": "Lifeskills Mathematics",
         "orientation": "v",
         "showlegend": true,
         "type": "scatter",
         "x": [
          "2017",
          "2016"
         ],
         "xaxis": "x",
         "y": [
          0.13,
          0.13
         ],
         "yaxis": "y"
        },
        {
         "hovertemplate": "Subject=Mathematics<br>Year=%{x}<br>Percentage=%{y}<extra></extra>",
         "legendgroup": "Mathematics",
         "line": {
          "color": "#EF553B",
          "dash": "solid"
         },
         "marker": {
          "symbol": "circle"
         },
         "mode": "markers+lines",
         "name": "Mathematics",
         "orientation": "v",
         "showlegend": true,
         "type": "scatter",
         "x": [
          "2022",
          "2021",
          "2020",
          "2019",
          "2018",
          "2017",
          "2016"
         ],
         "xaxis": "x",
         "y": [
          0.37,
          0.38,
          0.37,
          0.31,
          0.31,
          0.31,
          0.31
         ],
         "yaxis": "y"
        },
        {
         "hovertemplate": "Subject=Media<br>Year=%{x}<br>Percentage=%{y}<extra></extra>",
         "legendgroup": "Media",
         "line": {
          "color": "#00cc96",
          "dash": "solid"
         },
         "marker": {
          "symbol": "circle"
         },
         "mode": "markers+lines",
         "name": "Media",
         "orientation": "v",
         "showlegend": true,
         "type": "scatter",
         "x": [
          "2022",
          "2021",
          "2020",
          "2019",
          "2018",
          "2017",
          "2016"
         ],
         "xaxis": "x",
         "y": [
          0.43,
          0.45,
          0.4,
          0.3,
          0.24,
          0.23,
          0.23
         ],
         "yaxis": "y"
        },
        {
         "hovertemplate": "Subject=Modern Studies<br>Year=%{x}<br>Percentage=%{y}<extra></extra>",
         "legendgroup": "Modern Studies",
         "line": {
          "color": "#ab63fa",
          "dash": "solid"
         },
         "marker": {
          "symbol": "circle"
         },
         "mode": "markers+lines",
         "name": "Modern Studies",
         "orientation": "v",
         "showlegend": true,
         "type": "scatter",
         "x": [
          "2022",
          "2021",
          "2020",
          "2019",
          "2018",
          "2017",
          "2016"
         ],
         "xaxis": "x",
         "y": [
          0.32,
          0.55,
          0.41,
          0.3,
          0.29,
          0.32,
          0.32
         ],
         "yaxis": "y"
        },
        {
         "hovertemplate": "Subject=Music<br>Year=%{x}<br>Percentage=%{y}<extra></extra>",
         "legendgroup": "Music",
         "line": {
          "color": "#FFA15A",
          "dash": "solid"
         },
         "marker": {
          "symbol": "circle"
         },
         "mode": "markers+lines",
         "name": "Music",
         "orientation": "v",
         "showlegend": true,
         "type": "scatter",
         "x": [
          "2022",
          "2021",
          "2020",
          "2019",
          "2018",
          "2017",
          "2016"
         ],
         "xaxis": "x",
         "y": [
          0.57,
          0.67,
          0.61,
          0.61,
          0.58,
          0.62,
          0.62
         ],
         "yaxis": "y"
        },
        {
         "hovertemplate": "Subject=Music Technology<br>Year=%{x}<br>Percentage=%{y}<extra></extra>",
         "legendgroup": "Music Technology",
         "line": {
          "color": "#19d3f3",
          "dash": "solid"
         },
         "marker": {
          "symbol": "circle"
         },
         "mode": "markers+lines",
         "name": "Music Technology",
         "orientation": "v",
         "showlegend": true,
         "type": "scatter",
         "x": [
          "2022",
          "2021",
          "2020",
          "2019",
          "2018",
          "2017",
          "2016"
         ],
         "xaxis": "x",
         "y": [
          0.36,
          0.49,
          0.46,
          0.32,
          0.44,
          0.5,
          0.5
         ],
         "yaxis": "y"
        },
        {
         "hovertemplate": "Subject=Philosophy<br>Year=%{x}<br>Percentage=%{y}<extra></extra>",
         "legendgroup": "Philosophy",
         "line": {
          "color": "#FF6692",
          "dash": "solid"
         },
         "marker": {
          "symbol": "circle"
         },
         "mode": "markers+lines",
         "name": "Philosophy",
         "orientation": "v",
         "showlegend": true,
         "type": "scatter",
         "x": [
          "2022",
          "2021",
          "2020",
          "2019",
          "2018",
          "2017",
          "2016"
         ],
         "xaxis": "x",
         "y": [
          0.33,
          0.46,
          0.41,
          0.28,
          0.35,
          0.32,
          0.32
         ],
         "yaxis": "y"
        },
        {
         "hovertemplate": "Subject=Physical Education<br>Year=%{x}<br>Percentage=%{y}<extra></extra>",
         "legendgroup": "Physical Education",
         "line": {
          "color": "#B6E880",
          "dash": "solid"
         },
         "marker": {
          "symbol": "circle"
         },
         "mode": "markers+lines",
         "name": "Physical Education",
         "orientation": "v",
         "showlegend": true,
         "type": "scatter",
         "x": [
          "2022",
          "2021",
          "2020",
          "2019",
          "2018",
          "2017",
          "2016"
         ],
         "xaxis": "x",
         "y": [
          0.55,
          0.62,
          0.6,
          0.46,
          0.46,
          0.49,
          0.49
         ],
         "yaxis": "y"
        },
        {
         "hovertemplate": "Subject=Physics<br>Year=%{x}<br>Percentage=%{y}<extra></extra>",
         "legendgroup": "Physics",
         "line": {
          "color": "#FF97FF",
          "dash": "solid"
         },
         "marker": {
          "symbol": "circle"
         },
         "mode": "markers+lines",
         "name": "Physics",
         "orientation": "v",
         "showlegend": true,
         "type": "scatter",
         "x": [
          "2022",
          "2021",
          "2020",
          "2019",
          "2018",
          "2017",
          "2016"
         ],
         "xaxis": "x",
         "y": [
          0.35,
          0.43,
          0.4,
          0.32,
          0.31,
          0.32,
          0.32
         ],
         "yaxis": "y"
        },
        {
         "hovertemplate": "Subject=Practical Cake Craft<br>Year=%{x}<br>Percentage=%{y}<extra></extra>",
         "legendgroup": "Practical Cake Craft",
         "line": {
          "color": "#FECB52",
          "dash": "solid"
         },
         "marker": {
          "symbol": "circle"
         },
         "mode": "markers+lines",
         "name": "Practical Cake Craft",
         "orientation": "v",
         "showlegend": true,
         "type": "scatter",
         "x": [
          "2022",
          "2021",
          "2020",
          "2019",
          "2018",
          "2017",
          "2016"
         ],
         "xaxis": "x",
         "y": [
          0.28,
          0.42,
          0.34,
          0.14,
          0.13,
          0.35,
          0.35
         ],
         "yaxis": "y"
        },
        {
         "hovertemplate": "Subject=Practical Cookery<br>Year=%{x}<br>Percentage=%{y}<extra></extra>",
         "legendgroup": "Practical Cookery",
         "line": {
          "color": "#636efa",
          "dash": "solid"
         },
         "marker": {
          "symbol": "circle"
         },
         "mode": "markers+lines",
         "name": "Practical Cookery",
         "orientation": "v",
         "showlegend": true,
         "type": "scatter",
         "x": [
          "2022",
          "2021",
          "2020",
          "2019",
          "2018",
          "2017",
          "2016"
         ],
         "xaxis": "x",
         "y": [
          0.26,
          0.41,
          0.37,
          0.2,
          0.07,
          0.36,
          0.36
         ],
         "yaxis": "y"
        },
        {
         "hovertemplate": "Subject=Practical Electronics<br>Year=%{x}<br>Percentage=%{y}<extra></extra>",
         "legendgroup": "Practical Electronics",
         "line": {
          "color": "#EF553B",
          "dash": "solid"
         },
         "marker": {
          "symbol": "circle"
         },
         "mode": "markers+lines",
         "name": "Practical Electronics",
         "orientation": "v",
         "showlegend": true,
         "type": "scatter",
         "x": [
          "2022",
          "2021",
          "2020",
          "2019",
          "2018",
          "2017",
          "2016"
         ],
         "xaxis": "x",
         "y": [
          0.4,
          0.36,
          0.29,
          0.38,
          0.33,
          0.37,
          0.37
         ],
         "yaxis": "y"
        },
        {
         "hovertemplate": "Subject=Practical Metalworking<br>Year=%{x}<br>Percentage=%{y}<extra></extra>",
         "legendgroup": "Practical Metalworking",
         "line": {
          "color": "#00cc96",
          "dash": "solid"
         },
         "marker": {
          "symbol": "circle"
         },
         "mode": "markers+lines",
         "name": "Practical Metalworking",
         "orientation": "v",
         "showlegend": true,
         "type": "scatter",
         "x": [
          "2022",
          "2021",
          "2020",
          "2019",
          "2018",
          "2017",
          "2016"
         ],
         "xaxis": "x",
         "y": [
          0.44,
          0.37,
          0.42,
          0.37,
          0.39,
          0.47,
          0.47
         ],
         "yaxis": "y"
        },
        {
         "hovertemplate": "Subject=Practical Woodworking<br>Year=%{x}<br>Percentage=%{y}<extra></extra>",
         "legendgroup": "Practical Woodworking",
         "line": {
          "color": "#ab63fa",
          "dash": "solid"
         },
         "marker": {
          "symbol": "circle"
         },
         "mode": "markers+lines",
         "name": "Practical Woodworking",
         "orientation": "v",
         "showlegend": true,
         "type": "scatter",
         "x": [
          "2022",
          "2021",
          "2020",
          "2019",
          "2018",
          "2017",
          "2016"
         ],
         "xaxis": "x",
         "y": [
          0.5,
          0.43,
          0.41,
          0.35,
          0.39,
          0.49,
          0.49
         ],
         "yaxis": "y"
        },
        {
         "hovertemplate": "Subject=Psychology<br>Year=%{x}<br>Percentage=%{y}<extra></extra>",
         "legendgroup": "Psychology",
         "line": {
          "color": "#FFA15A",
          "dash": "solid"
         },
         "marker": {
          "symbol": "circle"
         },
         "mode": "markers+lines",
         "name": "Psychology",
         "orientation": "v",
         "showlegend": true,
         "type": "scatter",
         "x": [
          "2022",
          "2021",
          "2020",
          "2019",
          "2018",
          "2017",
          "2016"
         ],
         "xaxis": "x",
         "y": [
          0.5,
          0.51,
          0.42,
          0.25,
          0.32,
          0.36,
          0.36
         ],
         "yaxis": "y"
        },
        {
         "hovertemplate": "Subject=Religious, Moral and Philosophical Studies<br>Year=%{x}<br>Percentage=%{y}<extra></extra>",
         "legendgroup": "Religious, Moral and Philosophical Studies",
         "line": {
          "color": "#19d3f3",
          "dash": "solid"
         },
         "marker": {
          "symbol": "circle"
         },
         "mode": "markers+lines",
         "name": "Religious, Moral and Philosophical Studies",
         "orientation": "v",
         "showlegend": true,
         "type": "scatter",
         "x": [
          "2022",
          "2021",
          "2020",
          "2019",
          "2018",
          "2017",
          "2016"
         ],
         "xaxis": "x",
         "y": [
          0.39,
          0.52,
          0.42,
          0.34,
          0.34,
          0.31,
          0.31
         ],
         "yaxis": "y"
        },
        {
         "hovertemplate": "Subject=Sociology<br>Year=%{x}<br>Percentage=%{y}<extra></extra>",
         "legendgroup": "Sociology",
         "line": {
          "color": "#FF6692",
          "dash": "solid"
         },
         "marker": {
          "symbol": "circle"
         },
         "mode": "markers+lines",
         "name": "Sociology",
         "orientation": "v",
         "showlegend": true,
         "type": "scatter",
         "x": [
          "2022",
          "2021",
          "2020",
          "2019",
          "2018",
          "2017",
          "2016"
         ],
         "xaxis": "x",
         "y": [
          0.3,
          0.44,
          0.33,
          0.29,
          0.27,
          0.4,
          0.4
         ],
         "yaxis": "y"
        },
        {
         "hovertemplate": "Subject=Spanish<br>Year=%{x}<br>Percentage=%{y}<extra></extra>",
         "legendgroup": "Spanish",
         "line": {
          "color": "#B6E880",
          "dash": "solid"
         },
         "marker": {
          "symbol": "circle"
         },
         "mode": "markers+lines",
         "name": "Spanish",
         "orientation": "v",
         "showlegend": true,
         "type": "scatter",
         "x": [
          "2022",
          "2021",
          "2020",
          "2019",
          "2018",
          "2017",
          "2016"
         ],
         "xaxis": "x",
         "y": [
          0.59,
          0.59,
          0.56,
          0.53,
          0.58,
          0.59,
          0.59
         ],
         "yaxis": "y"
        },
        {
         "hovertemplate": "Subject=Urdu<br>Year=%{x}<br>Percentage=%{y}<extra></extra>",
         "legendgroup": "Urdu",
         "line": {
          "color": "#FF97FF",
          "dash": "solid"
         },
         "marker": {
          "symbol": "circle"
         },
         "mode": "markers+lines",
         "name": "Urdu",
         "orientation": "v",
         "showlegend": true,
         "type": "scatter",
         "x": [
          "2022",
          "2021",
          "2020",
          "2019",
          "2018",
          "2017",
          "2016"
         ],
         "xaxis": "x",
         "y": [
          0.79,
          0.77,
          0.94,
          0.87,
          0.78,
          0.68,
          0.68
         ],
         "yaxis": "y"
        }
       ],
       "layout": {
        "height": 1150,
        "legend": {
         "title": {
          "text": "Subject"
         },
         "tracegroupgap": 0
        },
        "template": {
         "data": {
          "bar": [
           {
            "error_x": {
             "color": "#2a3f5f"
            },
            "error_y": {
             "color": "#2a3f5f"
            },
            "marker": {
             "line": {
              "color": "#E5ECF6",
              "width": 0.5
             },
             "pattern": {
              "fillmode": "overlay",
              "size": 10,
              "solidity": 0.2
             }
            },
            "type": "bar"
           }
          ],
          "barpolar": [
           {
            "marker": {
             "line": {
              "color": "#E5ECF6",
              "width": 0.5
             },
             "pattern": {
              "fillmode": "overlay",
              "size": 10,
              "solidity": 0.2
             }
            },
            "type": "barpolar"
           }
          ],
          "carpet": [
           {
            "aaxis": {
             "endlinecolor": "#2a3f5f",
             "gridcolor": "white",
             "linecolor": "white",
             "minorgridcolor": "white",
             "startlinecolor": "#2a3f5f"
            },
            "baxis": {
             "endlinecolor": "#2a3f5f",
             "gridcolor": "white",
             "linecolor": "white",
             "minorgridcolor": "white",
             "startlinecolor": "#2a3f5f"
            },
            "type": "carpet"
           }
          ],
          "choropleth": [
           {
            "colorbar": {
             "outlinewidth": 0,
             "ticks": ""
            },
            "type": "choropleth"
           }
          ],
          "contour": [
           {
            "colorbar": {
             "outlinewidth": 0,
             "ticks": ""
            },
            "colorscale": [
             [
              0,
              "#0d0887"
             ],
             [
              0.1111111111111111,
              "#46039f"
             ],
             [
              0.2222222222222222,
              "#7201a8"
             ],
             [
              0.3333333333333333,
              "#9c179e"
             ],
             [
              0.4444444444444444,
              "#bd3786"
             ],
             [
              0.5555555555555556,
              "#d8576b"
             ],
             [
              0.6666666666666666,
              "#ed7953"
             ],
             [
              0.7777777777777778,
              "#fb9f3a"
             ],
             [
              0.8888888888888888,
              "#fdca26"
             ],
             [
              1,
              "#f0f921"
             ]
            ],
            "type": "contour"
           }
          ],
          "contourcarpet": [
           {
            "colorbar": {
             "outlinewidth": 0,
             "ticks": ""
            },
            "type": "contourcarpet"
           }
          ],
          "heatmap": [
           {
            "colorbar": {
             "outlinewidth": 0,
             "ticks": ""
            },
            "colorscale": [
             [
              0,
              "#0d0887"
             ],
             [
              0.1111111111111111,
              "#46039f"
             ],
             [
              0.2222222222222222,
              "#7201a8"
             ],
             [
              0.3333333333333333,
              "#9c179e"
             ],
             [
              0.4444444444444444,
              "#bd3786"
             ],
             [
              0.5555555555555556,
              "#d8576b"
             ],
             [
              0.6666666666666666,
              "#ed7953"
             ],
             [
              0.7777777777777778,
              "#fb9f3a"
             ],
             [
              0.8888888888888888,
              "#fdca26"
             ],
             [
              1,
              "#f0f921"
             ]
            ],
            "type": "heatmap"
           }
          ],
          "heatmapgl": [
           {
            "colorbar": {
             "outlinewidth": 0,
             "ticks": ""
            },
            "colorscale": [
             [
              0,
              "#0d0887"
             ],
             [
              0.1111111111111111,
              "#46039f"
             ],
             [
              0.2222222222222222,
              "#7201a8"
             ],
             [
              0.3333333333333333,
              "#9c179e"
             ],
             [
              0.4444444444444444,
              "#bd3786"
             ],
             [
              0.5555555555555556,
              "#d8576b"
             ],
             [
              0.6666666666666666,
              "#ed7953"
             ],
             [
              0.7777777777777778,
              "#fb9f3a"
             ],
             [
              0.8888888888888888,
              "#fdca26"
             ],
             [
              1,
              "#f0f921"
             ]
            ],
            "type": "heatmapgl"
           }
          ],
          "histogram": [
           {
            "marker": {
             "pattern": {
              "fillmode": "overlay",
              "size": 10,
              "solidity": 0.2
             }
            },
            "type": "histogram"
           }
          ],
          "histogram2d": [
           {
            "colorbar": {
             "outlinewidth": 0,
             "ticks": ""
            },
            "colorscale": [
             [
              0,
              "#0d0887"
             ],
             [
              0.1111111111111111,
              "#46039f"
             ],
             [
              0.2222222222222222,
              "#7201a8"
             ],
             [
              0.3333333333333333,
              "#9c179e"
             ],
             [
              0.4444444444444444,
              "#bd3786"
             ],
             [
              0.5555555555555556,
              "#d8576b"
             ],
             [
              0.6666666666666666,
              "#ed7953"
             ],
             [
              0.7777777777777778,
              "#fb9f3a"
             ],
             [
              0.8888888888888888,
              "#fdca26"
             ],
             [
              1,
              "#f0f921"
             ]
            ],
            "type": "histogram2d"
           }
          ],
          "histogram2dcontour": [
           {
            "colorbar": {
             "outlinewidth": 0,
             "ticks": ""
            },
            "colorscale": [
             [
              0,
              "#0d0887"
             ],
             [
              0.1111111111111111,
              "#46039f"
             ],
             [
              0.2222222222222222,
              "#7201a8"
             ],
             [
              0.3333333333333333,
              "#9c179e"
             ],
             [
              0.4444444444444444,
              "#bd3786"
             ],
             [
              0.5555555555555556,
              "#d8576b"
             ],
             [
              0.6666666666666666,
              "#ed7953"
             ],
             [
              0.7777777777777778,
              "#fb9f3a"
             ],
             [
              0.8888888888888888,
              "#fdca26"
             ],
             [
              1,
              "#f0f921"
             ]
            ],
            "type": "histogram2dcontour"
           }
          ],
          "mesh3d": [
           {
            "colorbar": {
             "outlinewidth": 0,
             "ticks": ""
            },
            "type": "mesh3d"
           }
          ],
          "parcoords": [
           {
            "line": {
             "colorbar": {
              "outlinewidth": 0,
              "ticks": ""
             }
            },
            "type": "parcoords"
           }
          ],
          "pie": [
           {
            "automargin": true,
            "type": "pie"
           }
          ],
          "scatter": [
           {
            "marker": {
             "colorbar": {
              "outlinewidth": 0,
              "ticks": ""
             }
            },
            "type": "scatter"
           }
          ],
          "scatter3d": [
           {
            "line": {
             "colorbar": {
              "outlinewidth": 0,
              "ticks": ""
             }
            },
            "marker": {
             "colorbar": {
              "outlinewidth": 0,
              "ticks": ""
             }
            },
            "type": "scatter3d"
           }
          ],
          "scattercarpet": [
           {
            "marker": {
             "colorbar": {
              "outlinewidth": 0,
              "ticks": ""
             }
            },
            "type": "scattercarpet"
           }
          ],
          "scattergeo": [
           {
            "marker": {
             "colorbar": {
              "outlinewidth": 0,
              "ticks": ""
             }
            },
            "type": "scattergeo"
           }
          ],
          "scattergl": [
           {
            "marker": {
             "colorbar": {
              "outlinewidth": 0,
              "ticks": ""
             }
            },
            "type": "scattergl"
           }
          ],
          "scattermapbox": [
           {
            "marker": {
             "colorbar": {
              "outlinewidth": 0,
              "ticks": ""
             }
            },
            "type": "scattermapbox"
           }
          ],
          "scatterpolar": [
           {
            "marker": {
             "colorbar": {
              "outlinewidth": 0,
              "ticks": ""
             }
            },
            "type": "scatterpolar"
           }
          ],
          "scatterpolargl": [
           {
            "marker": {
             "colorbar": {
              "outlinewidth": 0,
              "ticks": ""
             }
            },
            "type": "scatterpolargl"
           }
          ],
          "scatterternary": [
           {
            "marker": {
             "colorbar": {
              "outlinewidth": 0,
              "ticks": ""
             }
            },
            "type": "scatterternary"
           }
          ],
          "surface": [
           {
            "colorbar": {
             "outlinewidth": 0,
             "ticks": ""
            },
            "colorscale": [
             [
              0,
              "#0d0887"
             ],
             [
              0.1111111111111111,
              "#46039f"
             ],
             [
              0.2222222222222222,
              "#7201a8"
             ],
             [
              0.3333333333333333,
              "#9c179e"
             ],
             [
              0.4444444444444444,
              "#bd3786"
             ],
             [
              0.5555555555555556,
              "#d8576b"
             ],
             [
              0.6666666666666666,
              "#ed7953"
             ],
             [
              0.7777777777777778,
              "#fb9f3a"
             ],
             [
              0.8888888888888888,
              "#fdca26"
             ],
             [
              1,
              "#f0f921"
             ]
            ],
            "type": "surface"
           }
          ],
          "table": [
           {
            "cells": {
             "fill": {
              "color": "#EBF0F8"
             },
             "line": {
              "color": "white"
             }
            },
            "header": {
             "fill": {
              "color": "#C8D4E3"
             },
             "line": {
              "color": "white"
             }
            },
            "type": "table"
           }
          ]
         },
         "layout": {
          "annotationdefaults": {
           "arrowcolor": "#2a3f5f",
           "arrowhead": 0,
           "arrowwidth": 1
          },
          "autotypenumbers": "strict",
          "coloraxis": {
           "colorbar": {
            "outlinewidth": 0,
            "ticks": ""
           }
          },
          "colorscale": {
           "diverging": [
            [
             0,
             "#8e0152"
            ],
            [
             0.1,
             "#c51b7d"
            ],
            [
             0.2,
             "#de77ae"
            ],
            [
             0.3,
             "#f1b6da"
            ],
            [
             0.4,
             "#fde0ef"
            ],
            [
             0.5,
             "#f7f7f7"
            ],
            [
             0.6,
             "#e6f5d0"
            ],
            [
             0.7,
             "#b8e186"
            ],
            [
             0.8,
             "#7fbc41"
            ],
            [
             0.9,
             "#4d9221"
            ],
            [
             1,
             "#276419"
            ]
           ],
           "sequential": [
            [
             0,
             "#0d0887"
            ],
            [
             0.1111111111111111,
             "#46039f"
            ],
            [
             0.2222222222222222,
             "#7201a8"
            ],
            [
             0.3333333333333333,
             "#9c179e"
            ],
            [
             0.4444444444444444,
             "#bd3786"
            ],
            [
             0.5555555555555556,
             "#d8576b"
            ],
            [
             0.6666666666666666,
             "#ed7953"
            ],
            [
             0.7777777777777778,
             "#fb9f3a"
            ],
            [
             0.8888888888888888,
             "#fdca26"
            ],
            [
             1,
             "#f0f921"
            ]
           ],
           "sequentialminus": [
            [
             0,
             "#0d0887"
            ],
            [
             0.1111111111111111,
             "#46039f"
            ],
            [
             0.2222222222222222,
             "#7201a8"
            ],
            [
             0.3333333333333333,
             "#9c179e"
            ],
            [
             0.4444444444444444,
             "#bd3786"
            ],
            [
             0.5555555555555556,
             "#d8576b"
            ],
            [
             0.6666666666666666,
             "#ed7953"
            ],
            [
             0.7777777777777778,
             "#fb9f3a"
            ],
            [
             0.8888888888888888,
             "#fdca26"
            ],
            [
             1,
             "#f0f921"
            ]
           ]
          },
          "colorway": [
           "#636efa",
           "#EF553B",
           "#00cc96",
           "#ab63fa",
           "#FFA15A",
           "#19d3f3",
           "#FF6692",
           "#B6E880",
           "#FF97FF",
           "#FECB52"
          ],
          "font": {
           "color": "#2a3f5f"
          },
          "geo": {
           "bgcolor": "white",
           "lakecolor": "white",
           "landcolor": "#E5ECF6",
           "showlakes": true,
           "showland": true,
           "subunitcolor": "white"
          },
          "hoverlabel": {
           "align": "left"
          },
          "hovermode": "closest",
          "mapbox": {
           "style": "light"
          },
          "paper_bgcolor": "white",
          "plot_bgcolor": "#E5ECF6",
          "polar": {
           "angularaxis": {
            "gridcolor": "white",
            "linecolor": "white",
            "ticks": ""
           },
           "bgcolor": "#E5ECF6",
           "radialaxis": {
            "gridcolor": "white",
            "linecolor": "white",
            "ticks": ""
           }
          },
          "scene": {
           "xaxis": {
            "backgroundcolor": "#E5ECF6",
            "gridcolor": "white",
            "gridwidth": 2,
            "linecolor": "white",
            "showbackground": true,
            "ticks": "",
            "zerolinecolor": "white"
           },
           "yaxis": {
            "backgroundcolor": "#E5ECF6",
            "gridcolor": "white",
            "gridwidth": 2,
            "linecolor": "white",
            "showbackground": true,
            "ticks": "",
            "zerolinecolor": "white"
           },
           "zaxis": {
            "backgroundcolor": "#E5ECF6",
            "gridcolor": "white",
            "gridwidth": 2,
            "linecolor": "white",
            "showbackground": true,
            "ticks": "",
            "zerolinecolor": "white"
           }
          },
          "shapedefaults": {
           "line": {
            "color": "#2a3f5f"
           }
          },
          "ternary": {
           "aaxis": {
            "gridcolor": "white",
            "linecolor": "white",
            "ticks": ""
           },
           "baxis": {
            "gridcolor": "white",
            "linecolor": "white",
            "ticks": ""
           },
           "bgcolor": "#E5ECF6",
           "caxis": {
            "gridcolor": "white",
            "linecolor": "white",
            "ticks": ""
           }
          },
          "title": {
           "x": 0.05
          },
          "xaxis": {
           "automargin": true,
           "gridcolor": "white",
           "linecolor": "white",
           "ticks": "",
           "title": {
            "standoff": 15
           },
           "zerolinecolor": "white",
           "zerolinewidth": 2
          },
          "yaxis": {
           "automargin": true,
           "gridcolor": "white",
           "linecolor": "white",
           "ticks": "",
           "title": {
            "standoff": 15
           },
           "zerolinecolor": "white",
           "zerolinewidth": 2
          }
         }
        },
        "title": {
         "text": "Percentage of As per entry per subject from 2016 - 2022 at National 5"
        },
        "width": 800,
        "xaxis": {
         "anchor": "y",
         "categoryarray": [
          "2016",
          "2017",
          "2018",
          "2019",
          "2020",
          "2021",
          "2022"
         ],
         "categoryorder": "array",
         "domain": [
          0,
          1
         ],
         "title": {
          "text": "Year"
         }
        },
        "yaxis": {
         "anchor": "x",
         "domain": [
          0,
          1
         ],
         "rangemode": "tozero",
         "title": {
          "text": "Percentage"
         }
        }
       }
      },
      "text/html": [
       "<div>                            <div id=\"6a51a135-6bab-409e-86ad-03aa06c1b80a\" class=\"plotly-graph-div\" style=\"height:1150px; width:800px;\"></div>            <script type=\"text/javascript\">                require([\"plotly\"], function(Plotly) {                    window.PLOTLYENV=window.PLOTLYENV || {};                                    if (document.getElementById(\"6a51a135-6bab-409e-86ad-03aa06c1b80a\")) {                    Plotly.newPlot(                        \"6a51a135-6bab-409e-86ad-03aa06c1b80a\",                        [{\"hovertemplate\":\"Subject=Accounting<br>Year=%{x}<br>Percentage=%{y}<extra></extra>\",\"legendgroup\":\"Accounting\",\"line\":{\"color\":\"#636efa\",\"dash\":\"solid\"},\"marker\":{\"symbol\":\"circle\"},\"mode\":\"markers+lines\",\"name\":\"Accounting\",\"orientation\":\"v\",\"showlegend\":true,\"x\":[\"2022\",\"2021\",\"2020\",\"2019\",\"2018\",\"2017\",\"2016\"],\"xaxis\":\"x\",\"y\":[0.51,0.57,0.57,0.48,0.49,0.49,0.49],\"yaxis\":\"y\",\"type\":\"scatter\"},{\"hovertemplate\":\"Subject=Administration and IT<br>Year=%{x}<br>Percentage=%{y}<extra></extra>\",\"legendgroup\":\"Administration and IT\",\"line\":{\"color\":\"#EF553B\",\"dash\":\"solid\"},\"marker\":{\"symbol\":\"circle\"},\"mode\":\"markers+lines\",\"name\":\"Administration and IT\",\"orientation\":\"v\",\"showlegend\":true,\"x\":[\"2022\",\"2021\",\"2020\",\"2019\",\"2018\",\"2017\",\"2016\"],\"xaxis\":\"x\",\"y\":[0.31,0.49,0.39,0.3,0.3,0.29,0.29],\"yaxis\":\"y\",\"type\":\"scatter\"},{\"hovertemplate\":\"Subject=Applications of Mathematics<br>Year=%{x}<br>Percentage=%{y}<extra></extra>\",\"legendgroup\":\"Applications of Mathematics\",\"line\":{\"color\":\"#00cc96\",\"dash\":\"solid\"},\"marker\":{\"symbol\":\"circle\"},\"mode\":\"markers+lines\",\"name\":\"Applications of Mathematics\",\"orientation\":\"v\",\"showlegend\":true,\"x\":[\"2022\",\"2021\",\"2020\",\"2019\",\"2018\"],\"xaxis\":\"x\",\"y\":[0.25,0.23,0.29,0.24,0.19],\"yaxis\":\"y\",\"type\":\"scatter\"},{\"hovertemplate\":\"Subject=Art and Design<br>Year=%{x}<br>Percentage=%{y}<extra></extra>\",\"legendgroup\":\"Art and Design\",\"line\":{\"color\":\"#ab63fa\",\"dash\":\"solid\"},\"marker\":{\"symbol\":\"circle\"},\"mode\":\"markers+lines\",\"name\":\"Art and Design\",\"orientation\":\"v\",\"showlegend\":true,\"x\":[\"2022\",\"2021\",\"2020\",\"2019\",\"2018\",\"2017\",\"2016\"],\"xaxis\":\"x\",\"y\":[0.44,0.47,0.46,0.35,0.42,0.49,0.49],\"yaxis\":\"y\",\"type\":\"scatter\"},{\"hovertemplate\":\"Subject=Biology<br>Year=%{x}<br>Percentage=%{y}<extra></extra>\",\"legendgroup\":\"Biology\",\"line\":{\"color\":\"#FFA15A\",\"dash\":\"solid\"},\"marker\":{\"symbol\":\"circle\"},\"mode\":\"markers+lines\",\"name\":\"Biology\",\"orientation\":\"v\",\"showlegend\":true,\"x\":[\"2022\",\"2021\",\"2020\",\"2019\",\"2018\",\"2017\",\"2016\"],\"xaxis\":\"x\",\"y\":[0.33,0.37,0.35,0.29,0.31,0.27,0.27],\"yaxis\":\"y\",\"type\":\"scatter\"},{\"hovertemplate\":\"Subject=Business Management<br>Year=%{x}<br>Percentage=%{y}<extra></extra>\",\"legendgroup\":\"Business Management\",\"line\":{\"color\":\"#19d3f3\",\"dash\":\"solid\"},\"marker\":{\"symbol\":\"circle\"},\"mode\":\"markers+lines\",\"name\":\"Business Management\",\"orientation\":\"v\",\"showlegend\":true,\"x\":[\"2022\",\"2021\",\"2020\",\"2019\",\"2018\",\"2017\",\"2016\"],\"xaxis\":\"x\",\"y\":[0.41,0.41,0.39,0.35,0.39,0.33,0.33],\"yaxis\":\"y\",\"type\":\"scatter\"},{\"hovertemplate\":\"Subject=Care<br>Year=%{x}<br>Percentage=%{y}<extra></extra>\",\"legendgroup\":\"Care\",\"line\":{\"color\":\"#FF6692\",\"dash\":\"solid\"},\"marker\":{\"symbol\":\"circle\"},\"mode\":\"markers+lines\",\"name\":\"Care\",\"orientation\":\"v\",\"showlegend\":true,\"x\":[\"2022\",\"2021\",\"2020\",\"2019\",\"2018\",\"2017\",\"2016\"],\"xaxis\":\"x\",\"y\":[0.19,0.34,0.35,0.34,0.33,0.35,0.35],\"yaxis\":\"y\",\"type\":\"scatter\"},{\"hovertemplate\":\"Subject=Chemistry<br>Year=%{x}<br>Percentage=%{y}<extra></extra>\",\"legendgroup\":\"Chemistry\",\"line\":{\"color\":\"#B6E880\",\"dash\":\"solid\"},\"marker\":{\"symbol\":\"circle\"},\"mode\":\"markers+lines\",\"name\":\"Chemistry\",\"orientation\":\"v\",\"showlegend\":true,\"x\":[\"2022\",\"2021\",\"2020\",\"2019\",\"2018\",\"2017\",\"2016\"],\"xaxis\":\"x\",\"y\":[0.42,0.45,0.43,0.35,0.36,0.35,0.35],\"yaxis\":\"y\",\"type\":\"scatter\"},{\"hovertemplate\":\"Subject=Chinese Languages<br>Year=%{x}<br>Percentage=%{y}<extra></extra>\",\"legendgroup\":\"Chinese Languages\",\"line\":{\"color\":\"#FF97FF\",\"dash\":\"solid\"},\"marker\":{\"symbol\":\"circle\"},\"mode\":\"markers+lines\",\"name\":\"Chinese Languages\",\"orientation\":\"v\",\"showlegend\":true,\"x\":[\"2022\",\"2021\",\"2020\",\"2019\",\"2018\",\"2017\",\"2016\"],\"xaxis\":\"x\",\"y\":[0.75,0.76,0.75,0.76,0.65,0.69,0.69],\"yaxis\":\"y\",\"type\":\"scatter\"},{\"hovertemplate\":\"Subject=Classical Studies<br>Year=%{x}<br>Percentage=%{y}<extra></extra>\",\"legendgroup\":\"Classical Studies\",\"line\":{\"color\":\"#FECB52\",\"dash\":\"solid\"},\"marker\":{\"symbol\":\"circle\"},\"mode\":\"markers+lines\",\"name\":\"Classical Studies\",\"orientation\":\"v\",\"showlegend\":true,\"x\":[\"2022\",\"2021\",\"2020\",\"2019\",\"2018\",\"2017\",\"2016\"],\"xaxis\":\"x\",\"y\":[0.5,0.55,0.54,0.5,0.44,0.52,0.52],\"yaxis\":\"y\",\"type\":\"scatter\"},{\"hovertemplate\":\"Subject=Computing Science<br>Year=%{x}<br>Percentage=%{y}<extra></extra>\",\"legendgroup\":\"Computing Science\",\"line\":{\"color\":\"#636efa\",\"dash\":\"solid\"},\"marker\":{\"symbol\":\"circle\"},\"mode\":\"markers+lines\",\"name\":\"Computing Science\",\"orientation\":\"v\",\"showlegend\":true,\"x\":[\"2022\",\"2021\",\"2020\",\"2019\",\"2018\",\"2017\",\"2016\"],\"xaxis\":\"x\",\"y\":[0.41,0.45,0.41,0.32,0.29,0.29,0.29],\"yaxis\":\"y\",\"type\":\"scatter\"},{\"hovertemplate\":\"Subject=Dance<br>Year=%{x}<br>Percentage=%{y}<extra></extra>\",\"legendgroup\":\"Dance\",\"line\":{\"color\":\"#EF553B\",\"dash\":\"solid\"},\"marker\":{\"symbol\":\"circle\"},\"mode\":\"markers+lines\",\"name\":\"Dance\",\"orientation\":\"v\",\"showlegend\":true,\"x\":[\"2022\",\"2021\",\"2020\",\"2019\",\"2018\",\"2017\",\"2016\"],\"xaxis\":\"x\",\"y\":[0.33,0.51,0.56,0.41,0.51,0.53,0.53],\"yaxis\":\"y\",\"type\":\"scatter\"},{\"hovertemplate\":\"Subject=Design and Manufacture<br>Year=%{x}<br>Percentage=%{y}<extra></extra>\",\"legendgroup\":\"Design and Manufacture\",\"line\":{\"color\":\"#00cc96\",\"dash\":\"solid\"},\"marker\":{\"symbol\":\"circle\"},\"mode\":\"markers+lines\",\"name\":\"Design and Manufacture\",\"orientation\":\"v\",\"showlegend\":true,\"x\":[\"2022\",\"2021\",\"2020\",\"2019\",\"2018\",\"2017\",\"2016\"],\"xaxis\":\"x\",\"y\":[0.25,0.34,0.29,0.18,0.12,0.35,0.35],\"yaxis\":\"y\",\"type\":\"scatter\"},{\"hovertemplate\":\"Subject=Drama<br>Year=%{x}<br>Percentage=%{y}<extra></extra>\",\"legendgroup\":\"Drama\",\"line\":{\"color\":\"#ab63fa\",\"dash\":\"solid\"},\"marker\":{\"symbol\":\"circle\"},\"mode\":\"markers+lines\",\"name\":\"Drama\",\"orientation\":\"v\",\"showlegend\":true,\"x\":[\"2022\",\"2021\",\"2020\",\"2019\",\"2018\",\"2017\",\"2016\"],\"xaxis\":\"x\",\"y\":[0.64,0.62,0.6,0.59,0.56,0.53,0.53],\"yaxis\":\"y\",\"type\":\"scatter\"},{\"hovertemplate\":\"Subject=Economics<br>Year=%{x}<br>Percentage=%{y}<extra></extra>\",\"legendgroup\":\"Economics\",\"line\":{\"color\":\"#FFA15A\",\"dash\":\"solid\"},\"marker\":{\"symbol\":\"circle\"},\"mode\":\"markers+lines\",\"name\":\"Economics\",\"orientation\":\"v\",\"showlegend\":true,\"x\":[\"2022\",\"2021\",\"2020\",\"2019\",\"2018\",\"2017\",\"2016\"],\"xaxis\":\"x\",\"y\":[0.72,0.83,0.73,0.65,0.73,0.58,0.58],\"yaxis\":\"y\",\"type\":\"scatter\"},{\"hovertemplate\":\"Subject=Engineering Science<br>Year=%{x}<br>Percentage=%{y}<extra></extra>\",\"legendgroup\":\"Engineering Science\",\"line\":{\"color\":\"#19d3f3\",\"dash\":\"solid\"},\"marker\":{\"symbol\":\"circle\"},\"mode\":\"markers+lines\",\"name\":\"Engineering Science\",\"orientation\":\"v\",\"showlegend\":true,\"x\":[\"2022\",\"2021\",\"2020\",\"2019\",\"2018\",\"2017\",\"2016\"],\"xaxis\":\"x\",\"y\":[0.57,0.53,0.52,0.48,0.41,0.46,0.46],\"yaxis\":\"y\",\"type\":\"scatter\"},{\"hovertemplate\":\"Subject=English<br>Year=%{x}<br>Percentage=%{y}<extra></extra>\",\"legendgroup\":\"English\",\"line\":{\"color\":\"#FF6692\",\"dash\":\"solid\"},\"marker\":{\"symbol\":\"circle\"},\"mode\":\"markers+lines\",\"name\":\"English\",\"orientation\":\"v\",\"showlegend\":true,\"x\":[\"2022\",\"2021\",\"2020\",\"2019\",\"2018\",\"2017\",\"2016\"],\"xaxis\":\"x\",\"y\":[0.41,0.48,0.39,0.35,0.36,0.37,0.37],\"yaxis\":\"y\",\"type\":\"scatter\"},{\"hovertemplate\":\"Subject=English for Speakers of Other Languages<br>Year=%{x}<br>Percentage=%{y}<extra></extra>\",\"legendgroup\":\"English for Speakers of Other Languages\",\"line\":{\"color\":\"#B6E880\",\"dash\":\"solid\"},\"marker\":{\"symbol\":\"circle\"},\"mode\":\"markers+lines\",\"name\":\"English for Speakers of Other Languages\",\"orientation\":\"v\",\"showlegend\":true,\"x\":[\"2022\",\"2021\",\"2020\",\"2019\",\"2018\",\"2017\",\"2016\"],\"xaxis\":\"x\",\"y\":[0.29,0.36,0.37,0.25,0.31,0.4,0.4],\"yaxis\":\"y\",\"type\":\"scatter\"},{\"hovertemplate\":\"Subject=Environmental Science<br>Year=%{x}<br>Percentage=%{y}<extra></extra>\",\"legendgroup\":\"Environmental Science\",\"line\":{\"color\":\"#FF97FF\",\"dash\":\"solid\"},\"marker\":{\"symbol\":\"circle\"},\"mode\":\"markers+lines\",\"name\":\"Environmental Science\",\"orientation\":\"v\",\"showlegend\":true,\"x\":[\"2022\",\"2021\",\"2020\",\"2019\",\"2018\",\"2017\",\"2016\"],\"xaxis\":\"x\",\"y\":[0.17,0.34,0.25,0.12,0.09,0.17,0.17],\"yaxis\":\"y\",\"type\":\"scatter\"},{\"hovertemplate\":\"Subject=Fashion and Textile Technology<br>Year=%{x}<br>Percentage=%{y}<extra></extra>\",\"legendgroup\":\"Fashion and Textile Technology\",\"line\":{\"color\":\"#FECB52\",\"dash\":\"solid\"},\"marker\":{\"symbol\":\"circle\"},\"mode\":\"markers+lines\",\"name\":\"Fashion and Textile Technology\",\"orientation\":\"v\",\"showlegend\":true,\"x\":[\"2022\",\"2021\",\"2020\",\"2019\",\"2018\",\"2017\",\"2016\"],\"xaxis\":\"x\",\"y\":[0.16,0.47,0.28,0.12,0.13,0.65,0.65],\"yaxis\":\"y\",\"type\":\"scatter\"},{\"hovertemplate\":\"Subject=French<br>Year=%{x}<br>Percentage=%{y}<extra></extra>\",\"legendgroup\":\"French\",\"line\":{\"color\":\"#636efa\",\"dash\":\"solid\"},\"marker\":{\"symbol\":\"circle\"},\"mode\":\"markers+lines\",\"name\":\"French\",\"orientation\":\"v\",\"showlegend\":true,\"x\":[\"2022\",\"2021\",\"2020\",\"2019\",\"2018\",\"2017\",\"2016\"],\"xaxis\":\"x\",\"y\":[0.59,0.6,0.6,0.54,0.57,0.6,0.6],\"yaxis\":\"y\",\"type\":\"scatter\"},{\"hovertemplate\":\"Subject=Gaelic (Learners)<br>Year=%{x}<br>Percentage=%{y}<extra></extra>\",\"legendgroup\":\"Gaelic (Learners)\",\"line\":{\"color\":\"#EF553B\",\"dash\":\"solid\"},\"marker\":{\"symbol\":\"circle\"},\"mode\":\"markers+lines\",\"name\":\"Gaelic (Learners)\",\"orientation\":\"v\",\"showlegend\":true,\"x\":[\"2022\",\"2021\",\"2020\",\"2019\",\"2018\",\"2017\",\"2016\"],\"xaxis\":\"x\",\"y\":[0.48,0.56,0.52,0.41,0.52,0.52,0.52],\"yaxis\":\"y\",\"type\":\"scatter\"},{\"hovertemplate\":\"Subject=Gaidhlig<br>Year=%{x}<br>Percentage=%{y}<extra></extra>\",\"legendgroup\":\"Gaidhlig\",\"line\":{\"color\":\"#00cc96\",\"dash\":\"solid\"},\"marker\":{\"symbol\":\"circle\"},\"mode\":\"markers+lines\",\"name\":\"Gaidhlig\",\"orientation\":\"v\",\"showlegend\":true,\"x\":[\"2022\",\"2021\",\"2020\",\"2019\",\"2018\",\"2017\",\"2016\"],\"xaxis\":\"x\",\"y\":[0.54,0.71,0.62,0.51,0.62,0.6,0.6],\"yaxis\":\"y\",\"type\":\"scatter\"},{\"hovertemplate\":\"Subject=Geography<br>Year=%{x}<br>Percentage=%{y}<extra></extra>\",\"legendgroup\":\"Geography\",\"line\":{\"color\":\"#ab63fa\",\"dash\":\"solid\"},\"marker\":{\"symbol\":\"circle\"},\"mode\":\"markers+lines\",\"name\":\"Geography\",\"orientation\":\"v\",\"showlegend\":true,\"x\":[\"2022\",\"2021\",\"2020\",\"2019\",\"2018\",\"2017\",\"2016\"],\"xaxis\":\"x\",\"y\":[0.42,0.53,0.43,0.29,0.29,0.35,0.35],\"yaxis\":\"y\",\"type\":\"scatter\"},{\"hovertemplate\":\"Subject=German<br>Year=%{x}<br>Percentage=%{y}<extra></extra>\",\"legendgroup\":\"German\",\"line\":{\"color\":\"#FFA15A\",\"dash\":\"solid\"},\"marker\":{\"symbol\":\"circle\"},\"mode\":\"markers+lines\",\"name\":\"German\",\"orientation\":\"v\",\"showlegend\":true,\"x\":[\"2022\",\"2021\",\"2020\",\"2019\",\"2018\",\"2017\",\"2016\"],\"xaxis\":\"x\",\"y\":[0.57,0.58,0.58,0.54,0.53,0.57,0.57],\"yaxis\":\"y\",\"type\":\"scatter\"},{\"hovertemplate\":\"Subject=Graphic Communication<br>Year=%{x}<br>Percentage=%{y}<extra></extra>\",\"legendgroup\":\"Graphic Communication\",\"line\":{\"color\":\"#19d3f3\",\"dash\":\"solid\"},\"marker\":{\"symbol\":\"circle\"},\"mode\":\"markers+lines\",\"name\":\"Graphic Communication\",\"orientation\":\"v\",\"showlegend\":true,\"x\":[\"2022\",\"2021\",\"2020\",\"2019\",\"2018\",\"2017\",\"2016\"],\"xaxis\":\"x\",\"y\":[0.26,0.39,0.35,0.22,0.21,0.36,0.36],\"yaxis\":\"y\",\"type\":\"scatter\"},{\"hovertemplate\":\"Subject=Health and Food Technology<br>Year=%{x}<br>Percentage=%{y}<extra></extra>\",\"legendgroup\":\"Health and Food Technology\",\"line\":{\"color\":\"#FF6692\",\"dash\":\"solid\"},\"marker\":{\"symbol\":\"circle\"},\"mode\":\"markers+lines\",\"name\":\"Health and Food Technology\",\"orientation\":\"v\",\"showlegend\":true,\"x\":[\"2022\",\"2021\",\"2020\",\"2019\",\"2018\",\"2017\",\"2016\"],\"xaxis\":\"x\",\"y\":[0.24,0.34,0.32,0.21,0.16,0.13,0.13],\"yaxis\":\"y\",\"type\":\"scatter\"},{\"hovertemplate\":\"Subject=History<br>Year=%{x}<br>Percentage=%{y}<extra></extra>\",\"legendgroup\":\"History\",\"line\":{\"color\":\"#B6E880\",\"dash\":\"solid\"},\"marker\":{\"symbol\":\"circle\"},\"mode\":\"markers+lines\",\"name\":\"History\",\"orientation\":\"v\",\"showlegend\":true,\"x\":[\"2022\",\"2021\",\"2020\",\"2019\",\"2018\",\"2017\",\"2016\"],\"xaxis\":\"x\",\"y\":[0.42,0.54,0.45,0.38,0.32,0.32,0.32],\"yaxis\":\"y\",\"type\":\"scatter\"},{\"hovertemplate\":\"Subject=Italian<br>Year=%{x}<br>Percentage=%{y}<extra></extra>\",\"legendgroup\":\"Italian\",\"line\":{\"color\":\"#FF97FF\",\"dash\":\"solid\"},\"marker\":{\"symbol\":\"circle\"},\"mode\":\"markers+lines\",\"name\":\"Italian\",\"orientation\":\"v\",\"showlegend\":true,\"x\":[\"2022\",\"2021\",\"2020\",\"2019\",\"2018\",\"2017\",\"2016\"],\"xaxis\":\"x\",\"y\":[0.6,0.61,0.57,0.58,0.49,0.71,0.71],\"yaxis\":\"y\",\"type\":\"scatter\"},{\"hovertemplate\":\"Subject=Latin<br>Year=%{x}<br>Percentage=%{y}<extra></extra>\",\"legendgroup\":\"Latin\",\"line\":{\"color\":\"#FECB52\",\"dash\":\"solid\"},\"marker\":{\"symbol\":\"circle\"},\"mode\":\"markers+lines\",\"name\":\"Latin\",\"orientation\":\"v\",\"showlegend\":true,\"x\":[\"2022\",\"2021\",\"2020\",\"2019\",\"2018\",\"2017\",\"2016\"],\"xaxis\":\"x\",\"y\":[0.87,0.96,0.88,0.85,0.92,0.96,0.96],\"yaxis\":\"y\",\"type\":\"scatter\"},{\"hovertemplate\":\"Subject=Lifeskills Mathematics<br>Year=%{x}<br>Percentage=%{y}<extra></extra>\",\"legendgroup\":\"Lifeskills Mathematics\",\"line\":{\"color\":\"#636efa\",\"dash\":\"solid\"},\"marker\":{\"symbol\":\"circle\"},\"mode\":\"markers+lines\",\"name\":\"Lifeskills Mathematics\",\"orientation\":\"v\",\"showlegend\":true,\"x\":[\"2017\",\"2016\"],\"xaxis\":\"x\",\"y\":[0.13,0.13],\"yaxis\":\"y\",\"type\":\"scatter\"},{\"hovertemplate\":\"Subject=Mathematics<br>Year=%{x}<br>Percentage=%{y}<extra></extra>\",\"legendgroup\":\"Mathematics\",\"line\":{\"color\":\"#EF553B\",\"dash\":\"solid\"},\"marker\":{\"symbol\":\"circle\"},\"mode\":\"markers+lines\",\"name\":\"Mathematics\",\"orientation\":\"v\",\"showlegend\":true,\"x\":[\"2022\",\"2021\",\"2020\",\"2019\",\"2018\",\"2017\",\"2016\"],\"xaxis\":\"x\",\"y\":[0.37,0.38,0.37,0.31,0.31,0.31,0.31],\"yaxis\":\"y\",\"type\":\"scatter\"},{\"hovertemplate\":\"Subject=Media<br>Year=%{x}<br>Percentage=%{y}<extra></extra>\",\"legendgroup\":\"Media\",\"line\":{\"color\":\"#00cc96\",\"dash\":\"solid\"},\"marker\":{\"symbol\":\"circle\"},\"mode\":\"markers+lines\",\"name\":\"Media\",\"orientation\":\"v\",\"showlegend\":true,\"x\":[\"2022\",\"2021\",\"2020\",\"2019\",\"2018\",\"2017\",\"2016\"],\"xaxis\":\"x\",\"y\":[0.43,0.45,0.4,0.3,0.24,0.23,0.23],\"yaxis\":\"y\",\"type\":\"scatter\"},{\"hovertemplate\":\"Subject=Modern Studies<br>Year=%{x}<br>Percentage=%{y}<extra></extra>\",\"legendgroup\":\"Modern Studies\",\"line\":{\"color\":\"#ab63fa\",\"dash\":\"solid\"},\"marker\":{\"symbol\":\"circle\"},\"mode\":\"markers+lines\",\"name\":\"Modern Studies\",\"orientation\":\"v\",\"showlegend\":true,\"x\":[\"2022\",\"2021\",\"2020\",\"2019\",\"2018\",\"2017\",\"2016\"],\"xaxis\":\"x\",\"y\":[0.32,0.55,0.41,0.3,0.29,0.32,0.32],\"yaxis\":\"y\",\"type\":\"scatter\"},{\"hovertemplate\":\"Subject=Music<br>Year=%{x}<br>Percentage=%{y}<extra></extra>\",\"legendgroup\":\"Music\",\"line\":{\"color\":\"#FFA15A\",\"dash\":\"solid\"},\"marker\":{\"symbol\":\"circle\"},\"mode\":\"markers+lines\",\"name\":\"Music\",\"orientation\":\"v\",\"showlegend\":true,\"x\":[\"2022\",\"2021\",\"2020\",\"2019\",\"2018\",\"2017\",\"2016\"],\"xaxis\":\"x\",\"y\":[0.57,0.67,0.61,0.61,0.58,0.62,0.62],\"yaxis\":\"y\",\"type\":\"scatter\"},{\"hovertemplate\":\"Subject=Music Technology<br>Year=%{x}<br>Percentage=%{y}<extra></extra>\",\"legendgroup\":\"Music Technology\",\"line\":{\"color\":\"#19d3f3\",\"dash\":\"solid\"},\"marker\":{\"symbol\":\"circle\"},\"mode\":\"markers+lines\",\"name\":\"Music Technology\",\"orientation\":\"v\",\"showlegend\":true,\"x\":[\"2022\",\"2021\",\"2020\",\"2019\",\"2018\",\"2017\",\"2016\"],\"xaxis\":\"x\",\"y\":[0.36,0.49,0.46,0.32,0.44,0.5,0.5],\"yaxis\":\"y\",\"type\":\"scatter\"},{\"hovertemplate\":\"Subject=Philosophy<br>Year=%{x}<br>Percentage=%{y}<extra></extra>\",\"legendgroup\":\"Philosophy\",\"line\":{\"color\":\"#FF6692\",\"dash\":\"solid\"},\"marker\":{\"symbol\":\"circle\"},\"mode\":\"markers+lines\",\"name\":\"Philosophy\",\"orientation\":\"v\",\"showlegend\":true,\"x\":[\"2022\",\"2021\",\"2020\",\"2019\",\"2018\",\"2017\",\"2016\"],\"xaxis\":\"x\",\"y\":[0.33,0.46,0.41,0.28,0.35,0.32,0.32],\"yaxis\":\"y\",\"type\":\"scatter\"},{\"hovertemplate\":\"Subject=Physical Education<br>Year=%{x}<br>Percentage=%{y}<extra></extra>\",\"legendgroup\":\"Physical Education\",\"line\":{\"color\":\"#B6E880\",\"dash\":\"solid\"},\"marker\":{\"symbol\":\"circle\"},\"mode\":\"markers+lines\",\"name\":\"Physical Education\",\"orientation\":\"v\",\"showlegend\":true,\"x\":[\"2022\",\"2021\",\"2020\",\"2019\",\"2018\",\"2017\",\"2016\"],\"xaxis\":\"x\",\"y\":[0.55,0.62,0.6,0.46,0.46,0.49,0.49],\"yaxis\":\"y\",\"type\":\"scatter\"},{\"hovertemplate\":\"Subject=Physics<br>Year=%{x}<br>Percentage=%{y}<extra></extra>\",\"legendgroup\":\"Physics\",\"line\":{\"color\":\"#FF97FF\",\"dash\":\"solid\"},\"marker\":{\"symbol\":\"circle\"},\"mode\":\"markers+lines\",\"name\":\"Physics\",\"orientation\":\"v\",\"showlegend\":true,\"x\":[\"2022\",\"2021\",\"2020\",\"2019\",\"2018\",\"2017\",\"2016\"],\"xaxis\":\"x\",\"y\":[0.35,0.43,0.4,0.32,0.31,0.32,0.32],\"yaxis\":\"y\",\"type\":\"scatter\"},{\"hovertemplate\":\"Subject=Practical Cake Craft<br>Year=%{x}<br>Percentage=%{y}<extra></extra>\",\"legendgroup\":\"Practical Cake Craft\",\"line\":{\"color\":\"#FECB52\",\"dash\":\"solid\"},\"marker\":{\"symbol\":\"circle\"},\"mode\":\"markers+lines\",\"name\":\"Practical Cake Craft\",\"orientation\":\"v\",\"showlegend\":true,\"x\":[\"2022\",\"2021\",\"2020\",\"2019\",\"2018\",\"2017\",\"2016\"],\"xaxis\":\"x\",\"y\":[0.28,0.42,0.34,0.14,0.13,0.35,0.35],\"yaxis\":\"y\",\"type\":\"scatter\"},{\"hovertemplate\":\"Subject=Practical Cookery<br>Year=%{x}<br>Percentage=%{y}<extra></extra>\",\"legendgroup\":\"Practical Cookery\",\"line\":{\"color\":\"#636efa\",\"dash\":\"solid\"},\"marker\":{\"symbol\":\"circle\"},\"mode\":\"markers+lines\",\"name\":\"Practical Cookery\",\"orientation\":\"v\",\"showlegend\":true,\"x\":[\"2022\",\"2021\",\"2020\",\"2019\",\"2018\",\"2017\",\"2016\"],\"xaxis\":\"x\",\"y\":[0.26,0.41,0.37,0.2,0.07,0.36,0.36],\"yaxis\":\"y\",\"type\":\"scatter\"},{\"hovertemplate\":\"Subject=Practical Electronics<br>Year=%{x}<br>Percentage=%{y}<extra></extra>\",\"legendgroup\":\"Practical Electronics\",\"line\":{\"color\":\"#EF553B\",\"dash\":\"solid\"},\"marker\":{\"symbol\":\"circle\"},\"mode\":\"markers+lines\",\"name\":\"Practical Electronics\",\"orientation\":\"v\",\"showlegend\":true,\"x\":[\"2022\",\"2021\",\"2020\",\"2019\",\"2018\",\"2017\",\"2016\"],\"xaxis\":\"x\",\"y\":[0.4,0.36,0.29,0.38,0.33,0.37,0.37],\"yaxis\":\"y\",\"type\":\"scatter\"},{\"hovertemplate\":\"Subject=Practical Metalworking<br>Year=%{x}<br>Percentage=%{y}<extra></extra>\",\"legendgroup\":\"Practical Metalworking\",\"line\":{\"color\":\"#00cc96\",\"dash\":\"solid\"},\"marker\":{\"symbol\":\"circle\"},\"mode\":\"markers+lines\",\"name\":\"Practical Metalworking\",\"orientation\":\"v\",\"showlegend\":true,\"x\":[\"2022\",\"2021\",\"2020\",\"2019\",\"2018\",\"2017\",\"2016\"],\"xaxis\":\"x\",\"y\":[0.44,0.37,0.42,0.37,0.39,0.47,0.47],\"yaxis\":\"y\",\"type\":\"scatter\"},{\"hovertemplate\":\"Subject=Practical Woodworking<br>Year=%{x}<br>Percentage=%{y}<extra></extra>\",\"legendgroup\":\"Practical Woodworking\",\"line\":{\"color\":\"#ab63fa\",\"dash\":\"solid\"},\"marker\":{\"symbol\":\"circle\"},\"mode\":\"markers+lines\",\"name\":\"Practical Woodworking\",\"orientation\":\"v\",\"showlegend\":true,\"x\":[\"2022\",\"2021\",\"2020\",\"2019\",\"2018\",\"2017\",\"2016\"],\"xaxis\":\"x\",\"y\":[0.5,0.43,0.41,0.35,0.39,0.49,0.49],\"yaxis\":\"y\",\"type\":\"scatter\"},{\"hovertemplate\":\"Subject=Psychology<br>Year=%{x}<br>Percentage=%{y}<extra></extra>\",\"legendgroup\":\"Psychology\",\"line\":{\"color\":\"#FFA15A\",\"dash\":\"solid\"},\"marker\":{\"symbol\":\"circle\"},\"mode\":\"markers+lines\",\"name\":\"Psychology\",\"orientation\":\"v\",\"showlegend\":true,\"x\":[\"2022\",\"2021\",\"2020\",\"2019\",\"2018\",\"2017\",\"2016\"],\"xaxis\":\"x\",\"y\":[0.5,0.51,0.42,0.25,0.32,0.36,0.36],\"yaxis\":\"y\",\"type\":\"scatter\"},{\"hovertemplate\":\"Subject=Religious, Moral and Philosophical Studies<br>Year=%{x}<br>Percentage=%{y}<extra></extra>\",\"legendgroup\":\"Religious, Moral and Philosophical Studies\",\"line\":{\"color\":\"#19d3f3\",\"dash\":\"solid\"},\"marker\":{\"symbol\":\"circle\"},\"mode\":\"markers+lines\",\"name\":\"Religious, Moral and Philosophical Studies\",\"orientation\":\"v\",\"showlegend\":true,\"x\":[\"2022\",\"2021\",\"2020\",\"2019\",\"2018\",\"2017\",\"2016\"],\"xaxis\":\"x\",\"y\":[0.39,0.52,0.42,0.34,0.34,0.31,0.31],\"yaxis\":\"y\",\"type\":\"scatter\"},{\"hovertemplate\":\"Subject=Sociology<br>Year=%{x}<br>Percentage=%{y}<extra></extra>\",\"legendgroup\":\"Sociology\",\"line\":{\"color\":\"#FF6692\",\"dash\":\"solid\"},\"marker\":{\"symbol\":\"circle\"},\"mode\":\"markers+lines\",\"name\":\"Sociology\",\"orientation\":\"v\",\"showlegend\":true,\"x\":[\"2022\",\"2021\",\"2020\",\"2019\",\"2018\",\"2017\",\"2016\"],\"xaxis\":\"x\",\"y\":[0.3,0.44,0.33,0.29,0.27,0.4,0.4],\"yaxis\":\"y\",\"type\":\"scatter\"},{\"hovertemplate\":\"Subject=Spanish<br>Year=%{x}<br>Percentage=%{y}<extra></extra>\",\"legendgroup\":\"Spanish\",\"line\":{\"color\":\"#B6E880\",\"dash\":\"solid\"},\"marker\":{\"symbol\":\"circle\"},\"mode\":\"markers+lines\",\"name\":\"Spanish\",\"orientation\":\"v\",\"showlegend\":true,\"x\":[\"2022\",\"2021\",\"2020\",\"2019\",\"2018\",\"2017\",\"2016\"],\"xaxis\":\"x\",\"y\":[0.59,0.59,0.56,0.53,0.58,0.59,0.59],\"yaxis\":\"y\",\"type\":\"scatter\"},{\"hovertemplate\":\"Subject=Urdu<br>Year=%{x}<br>Percentage=%{y}<extra></extra>\",\"legendgroup\":\"Urdu\",\"line\":{\"color\":\"#FF97FF\",\"dash\":\"solid\"},\"marker\":{\"symbol\":\"circle\"},\"mode\":\"markers+lines\",\"name\":\"Urdu\",\"orientation\":\"v\",\"showlegend\":true,\"x\":[\"2022\",\"2021\",\"2020\",\"2019\",\"2018\",\"2017\",\"2016\"],\"xaxis\":\"x\",\"y\":[0.79,0.77,0.94,0.87,0.78,0.68,0.68],\"yaxis\":\"y\",\"type\":\"scatter\"}],                        {\"template\":{\"data\":{\"bar\":[{\"error_x\":{\"color\":\"#2a3f5f\"},\"error_y\":{\"color\":\"#2a3f5f\"},\"marker\":{\"line\":{\"color\":\"#E5ECF6\",\"width\":0.5},\"pattern\":{\"fillmode\":\"overlay\",\"size\":10,\"solidity\":0.2}},\"type\":\"bar\"}],\"barpolar\":[{\"marker\":{\"line\":{\"color\":\"#E5ECF6\",\"width\":0.5},\"pattern\":{\"fillmode\":\"overlay\",\"size\":10,\"solidity\":0.2}},\"type\":\"barpolar\"}],\"carpet\":[{\"aaxis\":{\"endlinecolor\":\"#2a3f5f\",\"gridcolor\":\"white\",\"linecolor\":\"white\",\"minorgridcolor\":\"white\",\"startlinecolor\":\"#2a3f5f\"},\"baxis\":{\"endlinecolor\":\"#2a3f5f\",\"gridcolor\":\"white\",\"linecolor\":\"white\",\"minorgridcolor\":\"white\",\"startlinecolor\":\"#2a3f5f\"},\"type\":\"carpet\"}],\"choropleth\":[{\"colorbar\":{\"outlinewidth\":0,\"ticks\":\"\"},\"type\":\"choropleth\"}],\"contour\":[{\"colorbar\":{\"outlinewidth\":0,\"ticks\":\"\"},\"colorscale\":[[0.0,\"#0d0887\"],[0.1111111111111111,\"#46039f\"],[0.2222222222222222,\"#7201a8\"],[0.3333333333333333,\"#9c179e\"],[0.4444444444444444,\"#bd3786\"],[0.5555555555555556,\"#d8576b\"],[0.6666666666666666,\"#ed7953\"],[0.7777777777777778,\"#fb9f3a\"],[0.8888888888888888,\"#fdca26\"],[1.0,\"#f0f921\"]],\"type\":\"contour\"}],\"contourcarpet\":[{\"colorbar\":{\"outlinewidth\":0,\"ticks\":\"\"},\"type\":\"contourcarpet\"}],\"heatmap\":[{\"colorbar\":{\"outlinewidth\":0,\"ticks\":\"\"},\"colorscale\":[[0.0,\"#0d0887\"],[0.1111111111111111,\"#46039f\"],[0.2222222222222222,\"#7201a8\"],[0.3333333333333333,\"#9c179e\"],[0.4444444444444444,\"#bd3786\"],[0.5555555555555556,\"#d8576b\"],[0.6666666666666666,\"#ed7953\"],[0.7777777777777778,\"#fb9f3a\"],[0.8888888888888888,\"#fdca26\"],[1.0,\"#f0f921\"]],\"type\":\"heatmap\"}],\"heatmapgl\":[{\"colorbar\":{\"outlinewidth\":0,\"ticks\":\"\"},\"colorscale\":[[0.0,\"#0d0887\"],[0.1111111111111111,\"#46039f\"],[0.2222222222222222,\"#7201a8\"],[0.3333333333333333,\"#9c179e\"],[0.4444444444444444,\"#bd3786\"],[0.5555555555555556,\"#d8576b\"],[0.6666666666666666,\"#ed7953\"],[0.7777777777777778,\"#fb9f3a\"],[0.8888888888888888,\"#fdca26\"],[1.0,\"#f0f921\"]],\"type\":\"heatmapgl\"}],\"histogram\":[{\"marker\":{\"pattern\":{\"fillmode\":\"overlay\",\"size\":10,\"solidity\":0.2}},\"type\":\"histogram\"}],\"histogram2d\":[{\"colorbar\":{\"outlinewidth\":0,\"ticks\":\"\"},\"colorscale\":[[0.0,\"#0d0887\"],[0.1111111111111111,\"#46039f\"],[0.2222222222222222,\"#7201a8\"],[0.3333333333333333,\"#9c179e\"],[0.4444444444444444,\"#bd3786\"],[0.5555555555555556,\"#d8576b\"],[0.6666666666666666,\"#ed7953\"],[0.7777777777777778,\"#fb9f3a\"],[0.8888888888888888,\"#fdca26\"],[1.0,\"#f0f921\"]],\"type\":\"histogram2d\"}],\"histogram2dcontour\":[{\"colorbar\":{\"outlinewidth\":0,\"ticks\":\"\"},\"colorscale\":[[0.0,\"#0d0887\"],[0.1111111111111111,\"#46039f\"],[0.2222222222222222,\"#7201a8\"],[0.3333333333333333,\"#9c179e\"],[0.4444444444444444,\"#bd3786\"],[0.5555555555555556,\"#d8576b\"],[0.6666666666666666,\"#ed7953\"],[0.7777777777777778,\"#fb9f3a\"],[0.8888888888888888,\"#fdca26\"],[1.0,\"#f0f921\"]],\"type\":\"histogram2dcontour\"}],\"mesh3d\":[{\"colorbar\":{\"outlinewidth\":0,\"ticks\":\"\"},\"type\":\"mesh3d\"}],\"parcoords\":[{\"line\":{\"colorbar\":{\"outlinewidth\":0,\"ticks\":\"\"}},\"type\":\"parcoords\"}],\"pie\":[{\"automargin\":true,\"type\":\"pie\"}],\"scatter\":[{\"marker\":{\"colorbar\":{\"outlinewidth\":0,\"ticks\":\"\"}},\"type\":\"scatter\"}],\"scatter3d\":[{\"line\":{\"colorbar\":{\"outlinewidth\":0,\"ticks\":\"\"}},\"marker\":{\"colorbar\":{\"outlinewidth\":0,\"ticks\":\"\"}},\"type\":\"scatter3d\"}],\"scattercarpet\":[{\"marker\":{\"colorbar\":{\"outlinewidth\":0,\"ticks\":\"\"}},\"type\":\"scattercarpet\"}],\"scattergeo\":[{\"marker\":{\"colorbar\":{\"outlinewidth\":0,\"ticks\":\"\"}},\"type\":\"scattergeo\"}],\"scattergl\":[{\"marker\":{\"colorbar\":{\"outlinewidth\":0,\"ticks\":\"\"}},\"type\":\"scattergl\"}],\"scattermapbox\":[{\"marker\":{\"colorbar\":{\"outlinewidth\":0,\"ticks\":\"\"}},\"type\":\"scattermapbox\"}],\"scatterpolar\":[{\"marker\":{\"colorbar\":{\"outlinewidth\":0,\"ticks\":\"\"}},\"type\":\"scatterpolar\"}],\"scatterpolargl\":[{\"marker\":{\"colorbar\":{\"outlinewidth\":0,\"ticks\":\"\"}},\"type\":\"scatterpolargl\"}],\"scatterternary\":[{\"marker\":{\"colorbar\":{\"outlinewidth\":0,\"ticks\":\"\"}},\"type\":\"scatterternary\"}],\"surface\":[{\"colorbar\":{\"outlinewidth\":0,\"ticks\":\"\"},\"colorscale\":[[0.0,\"#0d0887\"],[0.1111111111111111,\"#46039f\"],[0.2222222222222222,\"#7201a8\"],[0.3333333333333333,\"#9c179e\"],[0.4444444444444444,\"#bd3786\"],[0.5555555555555556,\"#d8576b\"],[0.6666666666666666,\"#ed7953\"],[0.7777777777777778,\"#fb9f3a\"],[0.8888888888888888,\"#fdca26\"],[1.0,\"#f0f921\"]],\"type\":\"surface\"}],\"table\":[{\"cells\":{\"fill\":{\"color\":\"#EBF0F8\"},\"line\":{\"color\":\"white\"}},\"header\":{\"fill\":{\"color\":\"#C8D4E3\"},\"line\":{\"color\":\"white\"}},\"type\":\"table\"}]},\"layout\":{\"annotationdefaults\":{\"arrowcolor\":\"#2a3f5f\",\"arrowhead\":0,\"arrowwidth\":1},\"autotypenumbers\":\"strict\",\"coloraxis\":{\"colorbar\":{\"outlinewidth\":0,\"ticks\":\"\"}},\"colorscale\":{\"diverging\":[[0,\"#8e0152\"],[0.1,\"#c51b7d\"],[0.2,\"#de77ae\"],[0.3,\"#f1b6da\"],[0.4,\"#fde0ef\"],[0.5,\"#f7f7f7\"],[0.6,\"#e6f5d0\"],[0.7,\"#b8e186\"],[0.8,\"#7fbc41\"],[0.9,\"#4d9221\"],[1,\"#276419\"]],\"sequential\":[[0.0,\"#0d0887\"],[0.1111111111111111,\"#46039f\"],[0.2222222222222222,\"#7201a8\"],[0.3333333333333333,\"#9c179e\"],[0.4444444444444444,\"#bd3786\"],[0.5555555555555556,\"#d8576b\"],[0.6666666666666666,\"#ed7953\"],[0.7777777777777778,\"#fb9f3a\"],[0.8888888888888888,\"#fdca26\"],[1.0,\"#f0f921\"]],\"sequentialminus\":[[0.0,\"#0d0887\"],[0.1111111111111111,\"#46039f\"],[0.2222222222222222,\"#7201a8\"],[0.3333333333333333,\"#9c179e\"],[0.4444444444444444,\"#bd3786\"],[0.5555555555555556,\"#d8576b\"],[0.6666666666666666,\"#ed7953\"],[0.7777777777777778,\"#fb9f3a\"],[0.8888888888888888,\"#fdca26\"],[1.0,\"#f0f921\"]]},\"colorway\":[\"#636efa\",\"#EF553B\",\"#00cc96\",\"#ab63fa\",\"#FFA15A\",\"#19d3f3\",\"#FF6692\",\"#B6E880\",\"#FF97FF\",\"#FECB52\"],\"font\":{\"color\":\"#2a3f5f\"},\"geo\":{\"bgcolor\":\"white\",\"lakecolor\":\"white\",\"landcolor\":\"#E5ECF6\",\"showlakes\":true,\"showland\":true,\"subunitcolor\":\"white\"},\"hoverlabel\":{\"align\":\"left\"},\"hovermode\":\"closest\",\"mapbox\":{\"style\":\"light\"},\"paper_bgcolor\":\"white\",\"plot_bgcolor\":\"#E5ECF6\",\"polar\":{\"angularaxis\":{\"gridcolor\":\"white\",\"linecolor\":\"white\",\"ticks\":\"\"},\"bgcolor\":\"#E5ECF6\",\"radialaxis\":{\"gridcolor\":\"white\",\"linecolor\":\"white\",\"ticks\":\"\"}},\"scene\":{\"xaxis\":{\"backgroundcolor\":\"#E5ECF6\",\"gridcolor\":\"white\",\"gridwidth\":2,\"linecolor\":\"white\",\"showbackground\":true,\"ticks\":\"\",\"zerolinecolor\":\"white\"},\"yaxis\":{\"backgroundcolor\":\"#E5ECF6\",\"gridcolor\":\"white\",\"gridwidth\":2,\"linecolor\":\"white\",\"showbackground\":true,\"ticks\":\"\",\"zerolinecolor\":\"white\"},\"zaxis\":{\"backgroundcolor\":\"#E5ECF6\",\"gridcolor\":\"white\",\"gridwidth\":2,\"linecolor\":\"white\",\"showbackground\":true,\"ticks\":\"\",\"zerolinecolor\":\"white\"}},\"shapedefaults\":{\"line\":{\"color\":\"#2a3f5f\"}},\"ternary\":{\"aaxis\":{\"gridcolor\":\"white\",\"linecolor\":\"white\",\"ticks\":\"\"},\"baxis\":{\"gridcolor\":\"white\",\"linecolor\":\"white\",\"ticks\":\"\"},\"bgcolor\":\"#E5ECF6\",\"caxis\":{\"gridcolor\":\"white\",\"linecolor\":\"white\",\"ticks\":\"\"}},\"title\":{\"x\":0.05},\"xaxis\":{\"automargin\":true,\"gridcolor\":\"white\",\"linecolor\":\"white\",\"ticks\":\"\",\"title\":{\"standoff\":15},\"zerolinecolor\":\"white\",\"zerolinewidth\":2},\"yaxis\":{\"automargin\":true,\"gridcolor\":\"white\",\"linecolor\":\"white\",\"ticks\":\"\",\"title\":{\"standoff\":15},\"zerolinecolor\":\"white\",\"zerolinewidth\":2}}},\"xaxis\":{\"anchor\":\"y\",\"domain\":[0.0,1.0],\"title\":{\"text\":\"Year\"},\"categoryorder\":\"array\",\"categoryarray\":[\"2016\",\"2017\",\"2018\",\"2019\",\"2020\",\"2021\",\"2022\"]},\"yaxis\":{\"anchor\":\"x\",\"domain\":[0.0,1.0],\"title\":{\"text\":\"Percentage\"},\"rangemode\":\"tozero\"},\"legend\":{\"title\":{\"text\":\"Subject\"},\"tracegroupgap\":0},\"title\":{\"text\":\"Percentage of As per entry per subject from 2016 - 2022 at National 5\"},\"height\":1150,\"width\":800},                        {\"responsive\": true}                    ).then(function(){\n",
       "                            \n",
       "var gd = document.getElementById('6a51a135-6bab-409e-86ad-03aa06c1b80a');\n",
       "var x = new MutationObserver(function (mutations, observer) {{\n",
       "        var display = window.getComputedStyle(gd).display;\n",
       "        if (!display || display === 'none') {{\n",
       "            console.log([gd, 'removed!']);\n",
       "            Plotly.purge(gd);\n",
       "            observer.disconnect();\n",
       "        }}\n",
       "}});\n",
       "\n",
       "// Listen for the removal of the full notebook cells\n",
       "var notebookContainer = gd.closest('#notebook-container');\n",
       "if (notebookContainer) {{\n",
       "    x.observe(notebookContainer, {childList: true});\n",
       "}}\n",
       "\n",
       "// Listen for the clearing of the current output cell\n",
       "var outputEl = gd.closest('.output');\n",
       "if (outputEl) {{\n",
       "    x.observe(outputEl, {childList: true});\n",
       "}}\n",
       "\n",
       "                        })                };                });            </script>        </div>"
      ]
     },
     "metadata": {},
     "output_type": "display_data"
    }
   ],
   "source": [
    "# Plot graph\n",
    "\n",
    "# Create a list of subjects in alphabetical order\n",
    "subjects = sorted(ldf['Subject'].unique())\n",
    "years = sorted(ldf['Year'].unique())\n",
    "\n",
    "fig = px.line(ldf, x = \"Year\", y = \"Count\", \n",
    "                color = \"Subject\",\n",
    "               # facet_row = 'School',\n",
    "                width = 800,\n",
    "                height = 1150,\n",
    "                category_orders = {'Subject' : subjects, 'Year' : years},\n",
    "                labels = {\"Count\": \"Percentage\"},\n",
    "                title = 'Percentage of As per entry per subject from 2016 - 2022 at ' + level_label\n",
    "                )\n",
    "\n",
    "fig.update_traces(mode = \"markers+lines\")\n",
    "\n",
    "fig.update_yaxes(matches=None, rangemode = \"tozero\")\n",
    "\n",
    "fig.write_html('./graphs/As_percentage_line_' + level + '.html')\n",
    "\n",
    "fig.show()"
   ]
  },
  {
   "cell_type": "code",
   "execution_count": 101,
   "id": "e566af13",
   "metadata": {},
   "outputs": [
    {
     "ename": "PlotlyRequestError",
     "evalue": "No such user",
     "output_type": "error",
     "traceback": [
      "\u001b[0;31m---------------------------------------------------------------------------\u001b[0m",
      "\u001b[0;31mPlotlyRequestError\u001b[0m                        Traceback (most recent call last)",
      "\u001b[0;32m/tmp/ipykernel_3378/2098656974.py\u001b[0m in \u001b[0;36m<module>\u001b[0;34m\u001b[0m\n\u001b[1;32m      5\u001b[0m \u001b[0;34m\u001b[0m\u001b[0m\n\u001b[1;32m      6\u001b[0m \u001b[0;31m# Upload to Chart Studio\u001b[0m\u001b[0;34m\u001b[0m\u001b[0;34m\u001b[0m\u001b[0m\n\u001b[0;32m----> 7\u001b[0;31m \u001b[0mpy\u001b[0m\u001b[0;34m.\u001b[0m\u001b[0mplot\u001b[0m\u001b[0;34m(\u001b[0m\u001b[0mfig\u001b[0m\u001b[0;34m,\u001b[0m \u001b[0mfilename\u001b[0m \u001b[0;34m=\u001b[0m \u001b[0;34m'As_percentage_line_2016_'\u001b[0m \u001b[0;34m+\u001b[0m \u001b[0mlevel\u001b[0m\u001b[0;34m,\u001b[0m \u001b[0mauto_open\u001b[0m\u001b[0;34m=\u001b[0m\u001b[0;32mTrue\u001b[0m\u001b[0;34m)\u001b[0m\u001b[0;34m\u001b[0m\u001b[0;34m\u001b[0m\u001b[0m\n\u001b[0m",
      "\u001b[0;32m~/.local/lib/python3.10/site-packages/chart_studio/plotly/plotly.py\u001b[0m in \u001b[0;36mplot\u001b[0;34m(figure_or_data, validate, **plot_options)\u001b[0m\n\u001b[1;32m    274\u001b[0m             \u001b[0mgrid_filename\u001b[0m \u001b[0;34m=\u001b[0m \u001b[0mfilename\u001b[0m \u001b[0;34m+\u001b[0m \u001b[0;34m\"_grid\"\u001b[0m\u001b[0;34m\u001b[0m\u001b[0;34m\u001b[0m\u001b[0m\n\u001b[1;32m    275\u001b[0m \u001b[0;34m\u001b[0m\u001b[0m\n\u001b[0;32m--> 276\u001b[0;31m         grid_ops.upload(\n\u001b[0m\u001b[1;32m    277\u001b[0m             \u001b[0mgrid\u001b[0m\u001b[0;34m=\u001b[0m\u001b[0mgrid\u001b[0m\u001b[0;34m,\u001b[0m\u001b[0;34m\u001b[0m\u001b[0;34m\u001b[0m\u001b[0m\n\u001b[1;32m    278\u001b[0m             \u001b[0mfilename\u001b[0m\u001b[0;34m=\u001b[0m\u001b[0mgrid_filename\u001b[0m\u001b[0;34m,\u001b[0m\u001b[0;34m\u001b[0m\u001b[0;34m\u001b[0m\u001b[0m\n",
      "\u001b[0;32m~/.local/lib/python3.10/site-packages/chart_studio/plotly/plotly.py\u001b[0m in \u001b[0;36mupload\u001b[0;34m(cls, grid, filename, world_readable, auto_open, meta)\u001b[0m\n\u001b[1;32m   1085\u001b[0m                 \u001b[0mpayload\u001b[0m\u001b[0;34m[\u001b[0m\u001b[0;34m\"parent_path\"\u001b[0m\u001b[0;34m]\u001b[0m \u001b[0;34m=\u001b[0m \u001b[0mparent_path\u001b[0m\u001b[0;34m\u001b[0m\u001b[0;34m\u001b[0m\u001b[0m\n\u001b[1;32m   1086\u001b[0m \u001b[0;34m\u001b[0m\u001b[0m\n\u001b[0;32m-> 1087\u001b[0;31m         \u001b[0mfile_info\u001b[0m \u001b[0;34m=\u001b[0m \u001b[0m_create_or_overwrite_grid\u001b[0m\u001b[0;34m(\u001b[0m\u001b[0mpayload\u001b[0m\u001b[0;34m)\u001b[0m\u001b[0;34m\u001b[0m\u001b[0;34m\u001b[0m\u001b[0m\n\u001b[0m\u001b[1;32m   1088\u001b[0m \u001b[0;34m\u001b[0m\u001b[0m\n\u001b[1;32m   1089\u001b[0m         \u001b[0mcols\u001b[0m \u001b[0;34m=\u001b[0m \u001b[0mfile_info\u001b[0m\u001b[0;34m[\u001b[0m\u001b[0;34m\"cols\"\u001b[0m\u001b[0;34m]\u001b[0m\u001b[0;34m\u001b[0m\u001b[0;34m\u001b[0m\u001b[0m\n",
      "\u001b[0;32m~/.local/lib/python3.10/site-packages/chart_studio/plotly/plotly.py\u001b[0m in \u001b[0;36m_create_or_overwrite_grid\u001b[0;34m(data, max_retries)\u001b[0m\n\u001b[1;32m   1548\u001b[0m     \u001b[0;31m# Create file\u001b[0m\u001b[0;34m\u001b[0m\u001b[0;34m\u001b[0m\u001b[0m\n\u001b[1;32m   1549\u001b[0m     \u001b[0;32mtry\u001b[0m\u001b[0;34m:\u001b[0m\u001b[0;34m\u001b[0m\u001b[0;34m\u001b[0m\u001b[0m\n\u001b[0;32m-> 1550\u001b[0;31m         \u001b[0mres\u001b[0m \u001b[0;34m=\u001b[0m \u001b[0mapi_module\u001b[0m\u001b[0;34m.\u001b[0m\u001b[0mcreate\u001b[0m\u001b[0;34m(\u001b[0m\u001b[0mdata\u001b[0m\u001b[0;34m)\u001b[0m\u001b[0;34m\u001b[0m\u001b[0;34m\u001b[0m\u001b[0m\n\u001b[0m\u001b[1;32m   1551\u001b[0m     \u001b[0;32mexcept\u001b[0m \u001b[0mexceptions\u001b[0m\u001b[0;34m.\u001b[0m\u001b[0mPlotlyRequestError\u001b[0m \u001b[0;32mas\u001b[0m \u001b[0me\u001b[0m\u001b[0;34m:\u001b[0m\u001b[0;34m\u001b[0m\u001b[0;34m\u001b[0m\u001b[0m\n\u001b[1;32m   1552\u001b[0m         \u001b[0;32mif\u001b[0m \u001b[0mmax_retries\u001b[0m \u001b[0;34m>\u001b[0m \u001b[0;36m0\u001b[0m \u001b[0;32mand\u001b[0m \u001b[0;34m\"already exists\"\u001b[0m \u001b[0;32min\u001b[0m \u001b[0me\u001b[0m\u001b[0;34m.\u001b[0m\u001b[0mmessage\u001b[0m\u001b[0;34m:\u001b[0m\u001b[0;34m\u001b[0m\u001b[0;34m\u001b[0m\u001b[0m\n",
      "\u001b[0;32m~/.local/lib/python3.10/site-packages/chart_studio/api/v2/grids.py\u001b[0m in \u001b[0;36mcreate\u001b[0;34m(body)\u001b[0m\n\u001b[1;32m     16\u001b[0m     \"\"\"\n\u001b[1;32m     17\u001b[0m     \u001b[0murl\u001b[0m \u001b[0;34m=\u001b[0m \u001b[0mbuild_url\u001b[0m\u001b[0;34m(\u001b[0m\u001b[0mRESOURCE\u001b[0m\u001b[0;34m)\u001b[0m\u001b[0;34m\u001b[0m\u001b[0;34m\u001b[0m\u001b[0m\n\u001b[0;32m---> 18\u001b[0;31m     \u001b[0;32mreturn\u001b[0m \u001b[0mrequest\u001b[0m\u001b[0;34m(\u001b[0m\u001b[0;34m\"post\"\u001b[0m\u001b[0;34m,\u001b[0m \u001b[0murl\u001b[0m\u001b[0;34m,\u001b[0m \u001b[0mjson\u001b[0m\u001b[0;34m=\u001b[0m\u001b[0mbody\u001b[0m\u001b[0;34m)\u001b[0m\u001b[0;34m\u001b[0m\u001b[0;34m\u001b[0m\u001b[0m\n\u001b[0m\u001b[1;32m     19\u001b[0m \u001b[0;34m\u001b[0m\u001b[0m\n\u001b[1;32m     20\u001b[0m \u001b[0;34m\u001b[0m\u001b[0m\n",
      "\u001b[0;32m~/.local/lib/python3.10/site-packages/retrying.py\u001b[0m in \u001b[0;36mwrapped_f\u001b[0;34m(*args, **kw)\u001b[0m\n\u001b[1;32m     47\u001b[0m             \u001b[0;34m@\u001b[0m\u001b[0msix\u001b[0m\u001b[0;34m.\u001b[0m\u001b[0mwraps\u001b[0m\u001b[0;34m(\u001b[0m\u001b[0mf\u001b[0m\u001b[0;34m)\u001b[0m\u001b[0;34m\u001b[0m\u001b[0;34m\u001b[0m\u001b[0m\n\u001b[1;32m     48\u001b[0m             \u001b[0;32mdef\u001b[0m \u001b[0mwrapped_f\u001b[0m\u001b[0;34m(\u001b[0m\u001b[0;34m*\u001b[0m\u001b[0margs\u001b[0m\u001b[0;34m,\u001b[0m \u001b[0;34m**\u001b[0m\u001b[0mkw\u001b[0m\u001b[0;34m)\u001b[0m\u001b[0;34m:\u001b[0m\u001b[0;34m\u001b[0m\u001b[0;34m\u001b[0m\u001b[0m\n\u001b[0;32m---> 49\u001b[0;31m                 \u001b[0;32mreturn\u001b[0m \u001b[0mRetrying\u001b[0m\u001b[0;34m(\u001b[0m\u001b[0;34m*\u001b[0m\u001b[0mdargs\u001b[0m\u001b[0;34m,\u001b[0m \u001b[0;34m**\u001b[0m\u001b[0mdkw\u001b[0m\u001b[0;34m)\u001b[0m\u001b[0;34m.\u001b[0m\u001b[0mcall\u001b[0m\u001b[0;34m(\u001b[0m\u001b[0mf\u001b[0m\u001b[0;34m,\u001b[0m \u001b[0;34m*\u001b[0m\u001b[0margs\u001b[0m\u001b[0;34m,\u001b[0m \u001b[0;34m**\u001b[0m\u001b[0mkw\u001b[0m\u001b[0;34m)\u001b[0m\u001b[0;34m\u001b[0m\u001b[0;34m\u001b[0m\u001b[0m\n\u001b[0m\u001b[1;32m     50\u001b[0m \u001b[0;34m\u001b[0m\u001b[0m\n\u001b[1;32m     51\u001b[0m             \u001b[0;32mreturn\u001b[0m \u001b[0mwrapped_f\u001b[0m\u001b[0;34m\u001b[0m\u001b[0;34m\u001b[0m\u001b[0m\n",
      "\u001b[0;32m~/.local/lib/python3.10/site-packages/retrying.py\u001b[0m in \u001b[0;36mcall\u001b[0;34m(self, fn, *args, **kwargs)\u001b[0m\n\u001b[1;32m    204\u001b[0m \u001b[0;34m\u001b[0m\u001b[0m\n\u001b[1;32m    205\u001b[0m             \u001b[0;32mif\u001b[0m \u001b[0;32mnot\u001b[0m \u001b[0mself\u001b[0m\u001b[0;34m.\u001b[0m\u001b[0mshould_reject\u001b[0m\u001b[0;34m(\u001b[0m\u001b[0mattempt\u001b[0m\u001b[0;34m)\u001b[0m\u001b[0;34m:\u001b[0m\u001b[0;34m\u001b[0m\u001b[0;34m\u001b[0m\u001b[0m\n\u001b[0;32m--> 206\u001b[0;31m                 \u001b[0;32mreturn\u001b[0m \u001b[0mattempt\u001b[0m\u001b[0;34m.\u001b[0m\u001b[0mget\u001b[0m\u001b[0;34m(\u001b[0m\u001b[0mself\u001b[0m\u001b[0;34m.\u001b[0m\u001b[0m_wrap_exception\u001b[0m\u001b[0;34m)\u001b[0m\u001b[0;34m\u001b[0m\u001b[0;34m\u001b[0m\u001b[0m\n\u001b[0m\u001b[1;32m    207\u001b[0m \u001b[0;34m\u001b[0m\u001b[0m\n\u001b[1;32m    208\u001b[0m             \u001b[0mdelay_since_first_attempt_ms\u001b[0m \u001b[0;34m=\u001b[0m \u001b[0mint\u001b[0m\u001b[0;34m(\u001b[0m\u001b[0mround\u001b[0m\u001b[0;34m(\u001b[0m\u001b[0mtime\u001b[0m\u001b[0;34m.\u001b[0m\u001b[0mtime\u001b[0m\u001b[0;34m(\u001b[0m\u001b[0;34m)\u001b[0m \u001b[0;34m*\u001b[0m \u001b[0;36m1000\u001b[0m\u001b[0;34m)\u001b[0m\u001b[0;34m)\u001b[0m \u001b[0;34m-\u001b[0m \u001b[0mstart_time\u001b[0m\u001b[0;34m\u001b[0m\u001b[0;34m\u001b[0m\u001b[0m\n",
      "\u001b[0;32m~/.local/lib/python3.10/site-packages/retrying.py\u001b[0m in \u001b[0;36mget\u001b[0;34m(self, wrap_exception)\u001b[0m\n\u001b[1;32m    245\u001b[0m                 \u001b[0;32mraise\u001b[0m \u001b[0mRetryError\u001b[0m\u001b[0;34m(\u001b[0m\u001b[0mself\u001b[0m\u001b[0;34m)\u001b[0m\u001b[0;34m\u001b[0m\u001b[0;34m\u001b[0m\u001b[0m\n\u001b[1;32m    246\u001b[0m             \u001b[0;32melse\u001b[0m\u001b[0;34m:\u001b[0m\u001b[0;34m\u001b[0m\u001b[0;34m\u001b[0m\u001b[0m\n\u001b[0;32m--> 247\u001b[0;31m                 \u001b[0msix\u001b[0m\u001b[0;34m.\u001b[0m\u001b[0mreraise\u001b[0m\u001b[0;34m(\u001b[0m\u001b[0mself\u001b[0m\u001b[0;34m.\u001b[0m\u001b[0mvalue\u001b[0m\u001b[0;34m[\u001b[0m\u001b[0;36m0\u001b[0m\u001b[0;34m]\u001b[0m\u001b[0;34m,\u001b[0m \u001b[0mself\u001b[0m\u001b[0;34m.\u001b[0m\u001b[0mvalue\u001b[0m\u001b[0;34m[\u001b[0m\u001b[0;36m1\u001b[0m\u001b[0;34m]\u001b[0m\u001b[0;34m,\u001b[0m \u001b[0mself\u001b[0m\u001b[0;34m.\u001b[0m\u001b[0mvalue\u001b[0m\u001b[0;34m[\u001b[0m\u001b[0;36m2\u001b[0m\u001b[0;34m]\u001b[0m\u001b[0;34m)\u001b[0m\u001b[0;34m\u001b[0m\u001b[0;34m\u001b[0m\u001b[0m\n\u001b[0m\u001b[1;32m    248\u001b[0m         \u001b[0;32melse\u001b[0m\u001b[0;34m:\u001b[0m\u001b[0;34m\u001b[0m\u001b[0;34m\u001b[0m\u001b[0m\n\u001b[1;32m    249\u001b[0m             \u001b[0;32mreturn\u001b[0m \u001b[0mself\u001b[0m\u001b[0;34m.\u001b[0m\u001b[0mvalue\u001b[0m\u001b[0;34m\u001b[0m\u001b[0;34m\u001b[0m\u001b[0m\n",
      "\u001b[0;32m/usr/lib/python3/dist-packages/six.py\u001b[0m in \u001b[0;36mreraise\u001b[0;34m(tp, value, tb)\u001b[0m\n\u001b[1;32m    717\u001b[0m             \u001b[0;32mif\u001b[0m \u001b[0mvalue\u001b[0m\u001b[0;34m.\u001b[0m\u001b[0m__traceback__\u001b[0m \u001b[0;32mis\u001b[0m \u001b[0;32mnot\u001b[0m \u001b[0mtb\u001b[0m\u001b[0;34m:\u001b[0m\u001b[0;34m\u001b[0m\u001b[0;34m\u001b[0m\u001b[0m\n\u001b[1;32m    718\u001b[0m                 \u001b[0;32mraise\u001b[0m \u001b[0mvalue\u001b[0m\u001b[0;34m.\u001b[0m\u001b[0mwith_traceback\u001b[0m\u001b[0;34m(\u001b[0m\u001b[0mtb\u001b[0m\u001b[0;34m)\u001b[0m\u001b[0;34m\u001b[0m\u001b[0;34m\u001b[0m\u001b[0m\n\u001b[0;32m--> 719\u001b[0;31m             \u001b[0;32mraise\u001b[0m \u001b[0mvalue\u001b[0m\u001b[0;34m\u001b[0m\u001b[0;34m\u001b[0m\u001b[0m\n\u001b[0m\u001b[1;32m    720\u001b[0m         \u001b[0;32mfinally\u001b[0m\u001b[0;34m:\u001b[0m\u001b[0;34m\u001b[0m\u001b[0;34m\u001b[0m\u001b[0m\n\u001b[1;32m    721\u001b[0m             \u001b[0mvalue\u001b[0m \u001b[0;34m=\u001b[0m \u001b[0;32mNone\u001b[0m\u001b[0;34m\u001b[0m\u001b[0;34m\u001b[0m\u001b[0m\n",
      "\u001b[0;32m~/.local/lib/python3.10/site-packages/retrying.py\u001b[0m in \u001b[0;36mcall\u001b[0;34m(self, fn, *args, **kwargs)\u001b[0m\n\u001b[1;32m    198\u001b[0m         \u001b[0;32mwhile\u001b[0m \u001b[0;32mTrue\u001b[0m\u001b[0;34m:\u001b[0m\u001b[0;34m\u001b[0m\u001b[0;34m\u001b[0m\u001b[0m\n\u001b[1;32m    199\u001b[0m             \u001b[0;32mtry\u001b[0m\u001b[0;34m:\u001b[0m\u001b[0;34m\u001b[0m\u001b[0;34m\u001b[0m\u001b[0m\n\u001b[0;32m--> 200\u001b[0;31m                 \u001b[0mattempt\u001b[0m \u001b[0;34m=\u001b[0m \u001b[0mAttempt\u001b[0m\u001b[0;34m(\u001b[0m\u001b[0mfn\u001b[0m\u001b[0;34m(\u001b[0m\u001b[0;34m*\u001b[0m\u001b[0margs\u001b[0m\u001b[0;34m,\u001b[0m \u001b[0;34m**\u001b[0m\u001b[0mkwargs\u001b[0m\u001b[0;34m)\u001b[0m\u001b[0;34m,\u001b[0m \u001b[0mattempt_number\u001b[0m\u001b[0;34m,\u001b[0m \u001b[0;32mFalse\u001b[0m\u001b[0;34m)\u001b[0m\u001b[0;34m\u001b[0m\u001b[0;34m\u001b[0m\u001b[0m\n\u001b[0m\u001b[1;32m    201\u001b[0m             \u001b[0;32mexcept\u001b[0m\u001b[0;34m:\u001b[0m\u001b[0;34m\u001b[0m\u001b[0;34m\u001b[0m\u001b[0m\n\u001b[1;32m    202\u001b[0m                 \u001b[0mtb\u001b[0m \u001b[0;34m=\u001b[0m \u001b[0msys\u001b[0m\u001b[0;34m.\u001b[0m\u001b[0mexc_info\u001b[0m\u001b[0;34m(\u001b[0m\u001b[0;34m)\u001b[0m\u001b[0;34m\u001b[0m\u001b[0;34m\u001b[0m\u001b[0m\n",
      "\u001b[0;32m~/.local/lib/python3.10/site-packages/chart_studio/api/v2/utils.py\u001b[0m in \u001b[0;36mrequest\u001b[0;34m(method, url, **kwargs)\u001b[0m\n\u001b[1;32m    178\u001b[0m         \u001b[0mcontent\u001b[0m \u001b[0;34m=\u001b[0m \u001b[0mresponse\u001b[0m\u001b[0;34m.\u001b[0m\u001b[0mcontent\u001b[0m \u001b[0;32mif\u001b[0m \u001b[0mresponse\u001b[0m \u001b[0;32melse\u001b[0m \u001b[0;34m\"No content\"\u001b[0m\u001b[0;34m\u001b[0m\u001b[0;34m\u001b[0m\u001b[0m\n\u001b[1;32m    179\u001b[0m         \u001b[0;32mraise\u001b[0m \u001b[0mexceptions\u001b[0m\u001b[0;34m.\u001b[0m\u001b[0mPlotlyRequestError\u001b[0m\u001b[0;34m(\u001b[0m\u001b[0mmessage\u001b[0m\u001b[0;34m,\u001b[0m \u001b[0mstatus_code\u001b[0m\u001b[0;34m,\u001b[0m \u001b[0mcontent\u001b[0m\u001b[0;34m)\u001b[0m\u001b[0;34m\u001b[0m\u001b[0;34m\u001b[0m\u001b[0m\n\u001b[0;32m--> 180\u001b[0;31m     \u001b[0mvalidate_response\u001b[0m\u001b[0;34m(\u001b[0m\u001b[0mresponse\u001b[0m\u001b[0;34m)\u001b[0m\u001b[0;34m\u001b[0m\u001b[0;34m\u001b[0m\u001b[0m\n\u001b[0m\u001b[1;32m    181\u001b[0m     \u001b[0;32mreturn\u001b[0m \u001b[0mresponse\u001b[0m\u001b[0;34m\u001b[0m\u001b[0;34m\u001b[0m\u001b[0m\n",
      "\u001b[0;32m~/.local/lib/python3.10/site-packages/chart_studio/api/v2/utils.py\u001b[0m in \u001b[0;36mvalidate_response\u001b[0;34m(response)\u001b[0m\n\u001b[1;32m     80\u001b[0m         \u001b[0mmessage\u001b[0m \u001b[0;34m=\u001b[0m \u001b[0mcontent\u001b[0m \u001b[0;32mif\u001b[0m \u001b[0mcontent\u001b[0m \u001b[0;32melse\u001b[0m \u001b[0;34m\"No Content\"\u001b[0m\u001b[0;34m\u001b[0m\u001b[0;34m\u001b[0m\u001b[0m\n\u001b[1;32m     81\u001b[0m \u001b[0;34m\u001b[0m\u001b[0m\n\u001b[0;32m---> 82\u001b[0;31m     \u001b[0;32mraise\u001b[0m \u001b[0mexceptions\u001b[0m\u001b[0;34m.\u001b[0m\u001b[0mPlotlyRequestError\u001b[0m\u001b[0;34m(\u001b[0m\u001b[0mmessage\u001b[0m\u001b[0;34m,\u001b[0m \u001b[0mstatus_code\u001b[0m\u001b[0;34m,\u001b[0m \u001b[0mcontent\u001b[0m\u001b[0;34m)\u001b[0m\u001b[0;34m\u001b[0m\u001b[0;34m\u001b[0m\u001b[0m\n\u001b[0m\u001b[1;32m     83\u001b[0m \u001b[0;34m\u001b[0m\u001b[0m\n\u001b[1;32m     84\u001b[0m \u001b[0;34m\u001b[0m\u001b[0m\n",
      "\u001b[0;31mPlotlyRequestError\u001b[0m: No such user"
     ]
    }
   ],
   "source": [
    "# Setup Chart Studio\n",
    "username = '#####' # your username\n",
    "api_key = '#####' # your api key - go to profile > settings > regenerate key\n",
    "chart_studio.tools.set_credentials_file(username=username, api_key=api_key)\n",
    "\n",
    "# Upload to Chart Studio\n",
    "py.plot(fig, filename = 'As_percentage_line_2016_' + level, auto_open=True)"
   ]
  },
  {
   "cell_type": "code",
   "execution_count": null,
   "id": "929d613b",
   "metadata": {},
   "outputs": [],
   "source": []
  }
 ],
 "metadata": {
  "kernelspec": {
   "display_name": "Python 3 (ipykernel)",
   "language": "python",
   "name": "python3"
  },
  "language_info": {
   "codemirror_mode": {
    "name": "ipython",
    "version": 3
   },
   "file_extension": ".py",
   "mimetype": "text/x-python",
   "name": "python",
   "nbconvert_exporter": "python",
   "pygments_lexer": "ipython3",
   "version": "3.10.4"
  }
 },
 "nbformat": 4,
 "nbformat_minor": 5
}
