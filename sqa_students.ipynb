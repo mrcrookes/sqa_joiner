{
 "cells": [
  {
   "cell_type": "code",
   "execution_count": 2,
   "id": "3df8d1c8",
   "metadata": {},
   "outputs": [],
   "source": [
    "# Import key librarys\n",
    "\n",
    "import pandas as pd\n",
    "import numpy as np\n",
    "\n",
    "import plotly.express as px\n",
    "\n",
    "import chart_studio\n",
    "import chart_studio.plotly as py\n",
    "import chart_studio.tools as tls"
   ]
  },
  {
   "cell_type": "code",
   "execution_count": 12,
   "id": "19607cd8",
   "metadata": {},
   "outputs": [],
   "source": [
    "levels = ['National_4', 'National_5', 'Higher', 'Advanced_Higher']\n",
    "years = ['2021', '2020', '2019', '2018', '2017', '2016', '2015', '2014']\n",
    "\n",
    "sheet_di = {'Advanced_Higher': 'Tables 6a, 6b & 6c', 'Higher': 'Tables 6a, 6b & 6c', \n",
    "                'National_5': 'Tables 6a, 6b & 6c', 'National_4': 'TABLE 5a & 5b'}\n",
    "\n",
    "# Create empty dictionary, dataframe and 3 lists for year, level and total students, entries, passes\n",
    "total_students = {}\n",
    "df1 = pd.DataFrame()\n",
    "yl = []\n",
    "ll = []\n",
    "sl = []\n",
    "el = []\n",
    "pl = []\n",
    "al = []\n",
    "\n",
    "for level in levels:\n",
    "    \n",
    "    for year in years:\n",
    "        \n",
    "        # read in xls, skip row and look at limited rows and cols\n",
    "        dfs = pd.read_excel('./even_more_data/ASR' + year + '_' + level + '.xls', \n",
    "                            sheet_name = sheet_di[level], \n",
    "                               usecols=[0, 1])\n",
    "        \n",
    "        # Append year and level to lists\n",
    "        yl.append(year) \n",
    "        ll.append(level)\n",
    "        \n",
    "        # Look in 1st column for string 'Total learners', case insensitive, NaN > False\n",
    "        # and append 2nd column value to list \n",
    "        sl.append(dfs[dfs.iloc[:, 0].str.contains(\"Total learners\", na=False, case=False)].values[0][1])\n",
    "        # Same for 'Total entries'\n",
    "        el.append(dfs[dfs.iloc[:, 0].str.contains(\"Total entries\", na=False, case=False)].values[0][1])\n",
    "        # Same for 'Total entries'\n",
    "        pl.append(dfs[dfs.iloc[:, 0].str.contains(\"Total grades A to C|Total courses attained\", \n",
    "                                                  na=False, case=False)].values[0][1])\n",
    "        # Same for 'Total grade As' but check if this value exists first as National 4 doesn't have A grade\n",
    "        if dfs.iloc[:, 0].str.contains(\"Total grade As\", na=False, case=False).any():\n",
    "            al.append(dfs[dfs.iloc[:, 0].str.contains(\"Total grade As\", \n",
    "                                                  na=False, case=False)].values[0][1])\n",
    "        else:\n",
    "            al.append(np.nan)\n",
    "            \n",
    "    total_students['Year'] = yl\n",
    "    total_students['Level'] = ll\n",
    "    total_students['Students'] = sl\n",
    "    total_students['Entries'] = el\n",
    "    total_students['Passes'] = pl\n",
    "    total_students['As'] = al\n",
    "        \n",
    "    df1 = pd.DataFrame(total_students)"
   ]
  },
  {
   "cell_type": "code",
   "execution_count": 13,
   "id": "4de66a1f",
   "metadata": {
    "scrolled": true
   },
   "outputs": [
    {
     "data": {
      "text/html": [
       "<div>\n",
       "<style scoped>\n",
       "    .dataframe tbody tr th:only-of-type {\n",
       "        vertical-align: middle;\n",
       "    }\n",
       "\n",
       "    .dataframe tbody tr th {\n",
       "        vertical-align: top;\n",
       "    }\n",
       "\n",
       "    .dataframe thead th {\n",
       "        text-align: right;\n",
       "    }\n",
       "</style>\n",
       "<table border=\"1\" class=\"dataframe\">\n",
       "  <thead>\n",
       "    <tr style=\"text-align: right;\">\n",
       "      <th></th>\n",
       "      <th>Year</th>\n",
       "      <th>Level</th>\n",
       "      <th>Students</th>\n",
       "      <th>Entries</th>\n",
       "      <th>Passes</th>\n",
       "      <th>As</th>\n",
       "    </tr>\n",
       "  </thead>\n",
       "  <tbody>\n",
       "    <tr>\n",
       "      <th>0</th>\n",
       "      <td>2021</td>\n",
       "      <td>National_4</td>\n",
       "      <td>42458</td>\n",
       "      <td>103660</td>\n",
       "      <td>92491</td>\n",
       "      <td>NaN</td>\n",
       "    </tr>\n",
       "    <tr>\n",
       "      <th>1</th>\n",
       "      <td>2020</td>\n",
       "      <td>National_4</td>\n",
       "      <td>41639</td>\n",
       "      <td>102492</td>\n",
       "      <td>94711</td>\n",
       "      <td>NaN</td>\n",
       "    </tr>\n",
       "    <tr>\n",
       "      <th>2</th>\n",
       "      <td>2019</td>\n",
       "      <td>National_4</td>\n",
       "      <td>46544</td>\n",
       "      <td>107999</td>\n",
       "      <td>97221</td>\n",
       "      <td>NaN</td>\n",
       "    </tr>\n",
       "    <tr>\n",
       "      <th>3</th>\n",
       "      <td>2018</td>\n",
       "      <td>National_4</td>\n",
       "      <td>46774</td>\n",
       "      <td>109644</td>\n",
       "      <td>101067</td>\n",
       "      <td>NaN</td>\n",
       "    </tr>\n",
       "    <tr>\n",
       "      <th>4</th>\n",
       "      <td>2017</td>\n",
       "      <td>National_4</td>\n",
       "      <td>51970</td>\n",
       "      <td>125649</td>\n",
       "      <td>117828</td>\n",
       "      <td>NaN</td>\n",
       "    </tr>\n",
       "  </tbody>\n",
       "</table>\n",
       "</div>"
      ],
      "text/plain": [
       "   Year       Level  Students  Entries  Passes  As\n",
       "0  2021  National_4     42458   103660   92491 NaN\n",
       "1  2020  National_4     41639   102492   94711 NaN\n",
       "2  2019  National_4     46544   107999   97221 NaN\n",
       "3  2018  National_4     46774   109644  101067 NaN\n",
       "4  2017  National_4     51970   125649  117828 NaN"
      ]
     },
     "execution_count": 13,
     "metadata": {},
     "output_type": "execute_result"
    }
   ],
   "source": [
    "df1.head()"
   ]
  },
  {
   "cell_type": "code",
   "execution_count": 14,
   "id": "dd8f0fbe",
   "metadata": {},
   "outputs": [],
   "source": [
    "levels = ['Intermediate2', 'Intermediate1']\n",
    "years = ['2015', '2014']\n",
    "\n",
    "sheet_di = {'Intermediate2': 'Tables 6a, 6b & 6c', 'Intermediate1': 'Tables 6a, 6b & 6c',}\n",
    "\n",
    "# Create empty dictionary, dataframe and 3 lists for year, level and total students, entries, passes\n",
    "total_students = {}\n",
    "df1a = pd.DataFrame()\n",
    "yl = []\n",
    "ll = []\n",
    "sl = []\n",
    "el = []\n",
    "pl = []\n",
    "al = []\n",
    "\n",
    "for level in levels:\n",
    "    \n",
    "    for year in years:\n",
    "        \n",
    "        # read in xls, skip row and look at limited rows and cols\n",
    "        dfs = pd.read_excel('./even_more_data/ASR' + year + '_' + level + '.xls', \n",
    "                            sheet_name = sheet_di[level], \n",
    "                               usecols=[0, 1])\n",
    "        \n",
    "        # Append year and level to lists\n",
    "        yl.append(year) \n",
    "        ll.append(level)\n",
    "        \n",
    "        # Look in 1st column for string 'Total learners', case insensitive, NaN > False\n",
    "        # and append 2nd column value to list \n",
    "        sl.append(dfs[dfs.iloc[:, 0].str.contains(\"Total learners\", na=False, case=False)].values[0][1])\n",
    "        # Same for 'Total entries'\n",
    "        el.append(dfs[dfs.iloc[:, 0].str.contains(\"Total entries\", na=False, case=False)].values[0][1])\n",
    "        # Same for 'Total entries'\n",
    "        pl.append(dfs[dfs.iloc[:, 0].str.contains(\"Total grades A to C|Total courses attained\", \n",
    "                                                  na=False, case=False)].values[0][1])\n",
    "        # Same for 'Total grade As' but check if this value exists first as National 4 doesn't have A grade\n",
    "        if dfs.iloc[:, 0].str.contains(\"Total grade As\", na=False, case=False).any():\n",
    "            al.append(dfs[dfs.iloc[:, 0].str.contains(\"Total grade As\", \n",
    "                                                  na=False, case=False)].values[0][1])\n",
    "        else:\n",
    "            al.append(np.nan)\n",
    "            \n",
    "    total_students['Year'] = yl\n",
    "    total_students['Level'] = ll\n",
    "    total_students['Students'] = sl\n",
    "    total_students['Entries'] = el\n",
    "    total_students['Passes'] = pl\n",
    "    total_students['As'] = al\n",
    "        \n",
    "    df1a = pd.DataFrame(total_students)"
   ]
  },
  {
   "cell_type": "code",
   "execution_count": 15,
   "id": "5aff9ff2",
   "metadata": {},
   "outputs": [
    {
     "data": {
      "text/html": [
       "<div>\n",
       "<style scoped>\n",
       "    .dataframe tbody tr th:only-of-type {\n",
       "        vertical-align: middle;\n",
       "    }\n",
       "\n",
       "    .dataframe tbody tr th {\n",
       "        vertical-align: top;\n",
       "    }\n",
       "\n",
       "    .dataframe thead th {\n",
       "        text-align: right;\n",
       "    }\n",
       "</style>\n",
       "<table border=\"1\" class=\"dataframe\">\n",
       "  <thead>\n",
       "    <tr style=\"text-align: right;\">\n",
       "      <th></th>\n",
       "      <th>Year</th>\n",
       "      <th>Level</th>\n",
       "      <th>Students</th>\n",
       "      <th>Entries</th>\n",
       "      <th>Passes</th>\n",
       "      <th>As</th>\n",
       "    </tr>\n",
       "  </thead>\n",
       "  <tbody>\n",
       "    <tr>\n",
       "      <th>0</th>\n",
       "      <td>2015</td>\n",
       "      <td>Intermediate2</td>\n",
       "      <td>7854</td>\n",
       "      <td>10682</td>\n",
       "      <td>7858</td>\n",
       "      <td>3227</td>\n",
       "    </tr>\n",
       "    <tr>\n",
       "      <th>1</th>\n",
       "      <td>2014</td>\n",
       "      <td>Intermediate2</td>\n",
       "      <td>44257</td>\n",
       "      <td>97124</td>\n",
       "      <td>75938</td>\n",
       "      <td>31487</td>\n",
       "    </tr>\n",
       "    <tr>\n",
       "      <th>2</th>\n",
       "      <td>2015</td>\n",
       "      <td>Intermediate1</td>\n",
       "      <td>1394</td>\n",
       "      <td>1553</td>\n",
       "      <td>1179</td>\n",
       "      <td>473</td>\n",
       "    </tr>\n",
       "    <tr>\n",
       "      <th>3</th>\n",
       "      <td>2014</td>\n",
       "      <td>Intermediate1</td>\n",
       "      <td>12241</td>\n",
       "      <td>18679</td>\n",
       "      <td>13738</td>\n",
       "      <td>4434</td>\n",
       "    </tr>\n",
       "  </tbody>\n",
       "</table>\n",
       "</div>"
      ],
      "text/plain": [
       "   Year          Level  Students  Entries  Passes     As\n",
       "0  2015  Intermediate2      7854    10682    7858   3227\n",
       "1  2014  Intermediate2     44257    97124   75938  31487\n",
       "2  2015  Intermediate1      1394     1553    1179    473\n",
       "3  2014  Intermediate1     12241    18679   13738   4434"
      ]
     },
     "execution_count": 15,
     "metadata": {},
     "output_type": "execute_result"
    }
   ],
   "source": [
    "df1a.head()"
   ]
  },
  {
   "cell_type": "code",
   "execution_count": 16,
   "id": "ba1a06f1",
   "metadata": {},
   "outputs": [],
   "source": [
    "levels = ['Standard_Grade', 'Higher', 'Advanced_Higher', 'Intermediate2', 'Intermediate1']\n",
    "years = ['2013', '2012', '2011', '2010', '2009', '2008', '2007', '2006']\n",
    "\n",
    "sheet_di = {'Advanced_Higher': 'ah7', 'Higher': 'nh7', \n",
    "                'Standard_Grade': 'sg6', 'Intermediate2': 'ib7', 'Intermediate1': 'ia7'}\n",
    "\n",
    "# Create empty dictionary, dataframe and 3 lists for year, level and total students, entries, passes\n",
    "total_students = {}\n",
    "df2 = pd.DataFrame()\n",
    "yl = []\n",
    "ll = []\n",
    "sl = []\n",
    "el = []\n",
    "pl = []\n",
    "al = []\n",
    "\n",
    "for level in levels:\n",
    "\n",
    "    for year in years:\n",
    "\n",
    "        # create list of sheetnames\n",
    "        tabs = pd.ExcelFile('./even_more_data/ASR' + year + '_' + level + '.xls').sheet_names\n",
    "        # Use key to find correct substring to search sheetnames for\n",
    "        subs = sheet_di[level]\n",
    "        # Find correct sheetname, case insensitive search\n",
    "        name = list(filter(lambda x: subs in x.lower(), tabs))[0]\n",
    "        \n",
    "        # read in xls, skip row and look at limited rows and cols\n",
    "        dfs = pd.read_excel('./even_more_data/ASR' + year + '_' + level + '.xls', \n",
    "                            sheet_name = name, usecols=[0, 1])\n",
    "        \n",
    "        # Append year and level to lists\n",
    "        yl.append(year) \n",
    "        ll.append(level)\n",
    "        \n",
    "        # Look in 1st column for string 'Total learners', case insensitive, NaN > False\n",
    "        # and append 2nd column value to list \n",
    "        sl.append(dfs[dfs.iloc[:, 0].str.contains(\"Total learners|Total cands\", \n",
    "                                                  na=False, case=False)].values[0][1])\n",
    "        # Same for 'Total entries'\n",
    "        el.append(dfs[dfs.iloc[:, 0].str.contains(\"Total entries\", na=False, case=False)].values[0][1])\n",
    "        \n",
    "        # Same for 'Total entries'\n",
    "        pl.append(dfs[dfs.iloc[:, 0].str.contains(\"Total Passes|Awards 1-4\", na=False, case=False)].values[0][1])\n",
    "        \n",
    "        # Same for 'Total grade As' but check if this value exists first as National 4 doesn't have A grade\n",
    "        if dfs.iloc[:, 0].str.contains(\"Total grade As|Awards 1-2|Total grade A\", na=False, case=False).any():\n",
    "            al.append(dfs[dfs.iloc[:, 0].str.contains(\"Total grade As|Awards 1-2|Total grade A\", \n",
    "                                                  na=False, case=False)].values[0][1])\n",
    "        else:\n",
    "            al.append(np.nan)\n",
    "\n",
    "    total_students['Year'] = yl\n",
    "    total_students['Level'] = ll\n",
    "    total_students['Students'] = sl\n",
    "    total_students['Entries'] = el\n",
    "    total_students['Passes'] = pl\n",
    "    total_students['As'] = al\n",
    "        \n",
    "    df2 = pd.DataFrame(total_students)"
   ]
  },
  {
   "cell_type": "code",
   "execution_count": 17,
   "id": "58ec8600",
   "metadata": {
    "scrolled": true
   },
   "outputs": [
    {
     "data": {
      "text/html": [
       "<div>\n",
       "<style scoped>\n",
       "    .dataframe tbody tr th:only-of-type {\n",
       "        vertical-align: middle;\n",
       "    }\n",
       "\n",
       "    .dataframe tbody tr th {\n",
       "        vertical-align: top;\n",
       "    }\n",
       "\n",
       "    .dataframe thead th {\n",
       "        text-align: right;\n",
       "    }\n",
       "</style>\n",
       "<table border=\"1\" class=\"dataframe\">\n",
       "  <thead>\n",
       "    <tr style=\"text-align: right;\">\n",
       "      <th></th>\n",
       "      <th>Year</th>\n",
       "      <th>Level</th>\n",
       "      <th>Students</th>\n",
       "      <th>Entries</th>\n",
       "      <th>Passes</th>\n",
       "      <th>As</th>\n",
       "    </tr>\n",
       "  </thead>\n",
       "  <tbody>\n",
       "    <tr>\n",
       "      <th>0</th>\n",
       "      <td>2013</td>\n",
       "      <td>Standard_Grade</td>\n",
       "      <td>55596</td>\n",
       "      <td>308248</td>\n",
       "      <td>276027</td>\n",
       "      <td>155626</td>\n",
       "    </tr>\n",
       "    <tr>\n",
       "      <th>1</th>\n",
       "      <td>2012</td>\n",
       "      <td>Standard_Grade</td>\n",
       "      <td>59966</td>\n",
       "      <td>320021</td>\n",
       "      <td>283415</td>\n",
       "      <td>156934</td>\n",
       "    </tr>\n",
       "    <tr>\n",
       "      <th>2</th>\n",
       "      <td>2011</td>\n",
       "      <td>Standard_Grade</td>\n",
       "      <td>61777</td>\n",
       "      <td>330690</td>\n",
       "      <td>289539</td>\n",
       "      <td>158264</td>\n",
       "    </tr>\n",
       "    <tr>\n",
       "      <th>3</th>\n",
       "      <td>2010</td>\n",
       "      <td>Standard_Grade</td>\n",
       "      <td>63298</td>\n",
       "      <td>339208</td>\n",
       "      <td>296737</td>\n",
       "      <td>160895</td>\n",
       "    </tr>\n",
       "    <tr>\n",
       "      <th>4</th>\n",
       "      <td>2009</td>\n",
       "      <td>Standard_Grade</td>\n",
       "      <td>65705</td>\n",
       "      <td>358519</td>\n",
       "      <td>312815</td>\n",
       "      <td>167938</td>\n",
       "    </tr>\n",
       "  </tbody>\n",
       "</table>\n",
       "</div>"
      ],
      "text/plain": [
       "   Year           Level  Students  Entries  Passes      As\n",
       "0  2013  Standard_Grade     55596   308248  276027  155626\n",
       "1  2012  Standard_Grade     59966   320021  283415  156934\n",
       "2  2011  Standard_Grade     61777   330690  289539  158264\n",
       "3  2010  Standard_Grade     63298   339208  296737  160895\n",
       "4  2009  Standard_Grade     65705   358519  312815  167938"
      ]
     },
     "execution_count": 17,
     "metadata": {},
     "output_type": "execute_result"
    }
   ],
   "source": [
    "df2.head()"
   ]
  },
  {
   "cell_type": "code",
   "execution_count": 18,
   "id": "11253234",
   "metadata": {},
   "outputs": [
    {
     "data": {
      "text/html": [
       "<div>\n",
       "<style scoped>\n",
       "    .dataframe tbody tr th:only-of-type {\n",
       "        vertical-align: middle;\n",
       "    }\n",
       "\n",
       "    .dataframe tbody tr th {\n",
       "        vertical-align: top;\n",
       "    }\n",
       "\n",
       "    .dataframe thead th {\n",
       "        text-align: right;\n",
       "    }\n",
       "</style>\n",
       "<table border=\"1\" class=\"dataframe\">\n",
       "  <thead>\n",
       "    <tr style=\"text-align: right;\">\n",
       "      <th></th>\n",
       "      <th>Year</th>\n",
       "      <th>Level</th>\n",
       "      <th>Students</th>\n",
       "      <th>Entries</th>\n",
       "      <th>Passes</th>\n",
       "      <th>As</th>\n",
       "    </tr>\n",
       "  </thead>\n",
       "  <tbody>\n",
       "    <tr>\n",
       "      <th>0</th>\n",
       "      <td>2021</td>\n",
       "      <td>National_4</td>\n",
       "      <td>42458</td>\n",
       "      <td>103660</td>\n",
       "      <td>92491</td>\n",
       "      <td>NaN</td>\n",
       "    </tr>\n",
       "    <tr>\n",
       "      <th>1</th>\n",
       "      <td>2020</td>\n",
       "      <td>National_4</td>\n",
       "      <td>41639</td>\n",
       "      <td>102492</td>\n",
       "      <td>94711</td>\n",
       "      <td>NaN</td>\n",
       "    </tr>\n",
       "    <tr>\n",
       "      <th>2</th>\n",
       "      <td>2019</td>\n",
       "      <td>National_4</td>\n",
       "      <td>46544</td>\n",
       "      <td>107999</td>\n",
       "      <td>97221</td>\n",
       "      <td>NaN</td>\n",
       "    </tr>\n",
       "    <tr>\n",
       "      <th>3</th>\n",
       "      <td>2018</td>\n",
       "      <td>National_4</td>\n",
       "      <td>46774</td>\n",
       "      <td>109644</td>\n",
       "      <td>101067</td>\n",
       "      <td>NaN</td>\n",
       "    </tr>\n",
       "    <tr>\n",
       "      <th>4</th>\n",
       "      <td>2017</td>\n",
       "      <td>National_4</td>\n",
       "      <td>51970</td>\n",
       "      <td>125649</td>\n",
       "      <td>117828</td>\n",
       "      <td>NaN</td>\n",
       "    </tr>\n",
       "  </tbody>\n",
       "</table>\n",
       "</div>"
      ],
      "text/plain": [
       "   Year       Level  Students  Entries  Passes  As\n",
       "0  2021  National_4     42458   103660   92491 NaN\n",
       "1  2020  National_4     41639   102492   94711 NaN\n",
       "2  2019  National_4     46544   107999   97221 NaN\n",
       "3  2018  National_4     46774   109644  101067 NaN\n",
       "4  2017  National_4     51970   125649  117828 NaN"
      ]
     },
     "execution_count": 18,
     "metadata": {},
     "output_type": "execute_result"
    }
   ],
   "source": [
    "dfc = pd.concat([df1, df1a, df2])\n",
    "\n",
    "# di = {'National_5': 'National 5 and Standard Grade',\n",
    "#           'Standard_Grade': 'National 5 and Standard Grade',\n",
    "#              'Advanced_Higher': 'Advanced Higher'}\n",
    "    \n",
    "# dfc = dfc.replace({\"Level\": di})\n",
    "    \n",
    "\n",
    "dfc.head()"
   ]
  },
  {
   "cell_type": "code",
   "execution_count": 19,
   "id": "1eb6a33b",
   "metadata": {},
   "outputs": [
    {
     "data": {
      "application/vnd.plotly.v1+json": {
       "config": {
        "plotlyServerURL": "https://plotly.com"
       },
       "data": [
        {
         "hovertemplate": "Level=National_4<br>variable=Students<br>Year=%{x}<br>value=%{y}<extra></extra>",
         "legendgroup": "National_4",
         "line": {
          "color": "#636efa",
          "dash": "solid"
         },
         "marker": {
          "symbol": "circle"
         },
         "mode": "markers+lines",
         "name": "National_4",
         "orientation": "v",
         "showlegend": true,
         "type": "scatter",
         "x": [
          "2021",
          "2020",
          "2019",
          "2018",
          "2017",
          "2016",
          "2015",
          "2014"
         ],
         "xaxis": "x",
         "y": [
          42458,
          41639,
          46544,
          46774,
          51970,
          53219,
          53111,
          40641
         ],
         "yaxis": "y"
        },
        {
         "hovertemplate": "Level=National_4<br>variable=Entries<br>Year=%{x}<br>value=%{y}<extra></extra>",
         "legendgroup": "National_4",
         "line": {
          "color": "#636efa",
          "dash": "solid"
         },
         "marker": {
          "symbol": "circle"
         },
         "mode": "markers+lines",
         "name": "National_4",
         "orientation": "v",
         "showlegend": false,
         "type": "scatter",
         "x": [
          "2021",
          "2020",
          "2019",
          "2018",
          "2017",
          "2016",
          "2015",
          "2014"
         ],
         "xaxis": "x",
         "y": [
          103660,
          102492,
          107999,
          109644,
          125649,
          131747,
          140151,
          131711
         ],
         "yaxis": "y"
        },
        {
         "hovertemplate": "Level=National_4<br>variable=Passes<br>Year=%{x}<br>value=%{y}<extra></extra>",
         "legendgroup": "National_4",
         "line": {
          "color": "#636efa",
          "dash": "solid"
         },
         "marker": {
          "symbol": "circle"
         },
         "mode": "markers+lines",
         "name": "National_4",
         "orientation": "v",
         "showlegend": false,
         "type": "scatter",
         "x": [
          "2021",
          "2020",
          "2019",
          "2018",
          "2017",
          "2016",
          "2015",
          "2014"
         ],
         "xaxis": "x",
         "y": [
          92491,
          94711,
          97221,
          101067,
          117828,
          124141,
          132041,
          123734
         ],
         "yaxis": "y"
        },
        {
         "hovertemplate": "Level=National_4<br>variable=As<br>Year=%{x}<br>value=%{y}<extra></extra>",
         "legendgroup": "National_4",
         "line": {
          "color": "#636efa",
          "dash": "solid"
         },
         "marker": {
          "symbol": "circle"
         },
         "mode": "markers+lines",
         "name": "National_4",
         "orientation": "v",
         "showlegend": false,
         "type": "scatter",
         "x": [
          "2021",
          "2020",
          "2019",
          "2018",
          "2017",
          "2016",
          "2015",
          "2014"
         ],
         "xaxis": "x",
         "y": [
          null,
          null,
          null,
          null,
          null,
          null,
          null,
          null
         ],
         "yaxis": "y"
        },
        {
         "hovertemplate": "Level=National_5<br>variable=Students<br>Year=%{x}<br>value=%{y}<extra></extra>",
         "legendgroup": "National_5",
         "line": {
          "color": "#EF553B",
          "dash": "solid"
         },
         "marker": {
          "symbol": "circle"
         },
         "mode": "markers+lines",
         "name": "National_5",
         "orientation": "v",
         "showlegend": true,
         "type": "scatter",
         "x": [
          "2021",
          "2020",
          "2019",
          "2018",
          "2017",
          "2016",
          "2015",
          "2014"
         ],
         "xaxis": "x",
         "y": [
          81048,
          81698,
          80046,
          79719,
          82535,
          83917,
          79944,
          49035
         ],
         "yaxis": "y"
        },
        {
         "hovertemplate": "Level=National_5<br>variable=Entries<br>Year=%{x}<br>value=%{y}<extra></extra>",
         "legendgroup": "National_5",
         "line": {
          "color": "#EF553B",
          "dash": "solid"
         },
         "marker": {
          "symbol": "circle"
         },
         "mode": "markers+lines",
         "name": "National_5",
         "orientation": "v",
         "showlegend": false,
         "type": "scatter",
         "x": [
          "2021",
          "2020",
          "2019",
          "2018",
          "2017",
          "2016",
          "2015",
          "2014"
         ],
         "xaxis": "x",
         "y": [
          298137,
          300683,
          288561,
          281735,
          293167,
          295013,
          288034,
          213601
         ],
         "yaxis": "y"
        },
        {
         "hovertemplate": "Level=National_5<br>variable=Passes<br>Year=%{x}<br>value=%{y}<extra></extra>",
         "legendgroup": "National_5",
         "line": {
          "color": "#EF553B",
          "dash": "solid"
         },
         "marker": {
          "symbol": "circle"
         },
         "mode": "markers+lines",
         "name": "National_5",
         "orientation": "v",
         "showlegend": false,
         "type": "scatter",
         "x": [
          "2021",
          "2020",
          "2019",
          "2018",
          "2017",
          "2016",
          "2015",
          "2014"
         ],
         "xaxis": "x",
         "y": [
          255663,
          267644,
          225819,
          218472,
          233412,
          234665,
          230310,
          173648
         ],
         "yaxis": "y"
        },
        {
         "hovertemplate": "Level=National_5<br>variable=As<br>Year=%{x}<br>value=%{y}<extra></extra>",
         "legendgroup": "National_5",
         "line": {
          "color": "#EF553B",
          "dash": "solid"
         },
         "marker": {
          "symbol": "circle"
         },
         "mode": "markers+lines",
         "name": "National_5",
         "orientation": "v",
         "showlegend": false,
         "type": "scatter",
         "x": [
          "2021",
          "2020",
          "2019",
          "2018",
          "2017",
          "2016",
          "2015",
          "2014"
         ],
         "xaxis": "x",
         "y": [
          139217,
          127375,
          101498,
          99223,
          108997,
          107979,
          108152,
          84317
         ],
         "yaxis": "y"
        },
        {
         "hovertemplate": "Level=Higher<br>variable=Students<br>Year=%{x}<br>value=%{y}<extra></extra>",
         "legendgroup": "Higher",
         "line": {
          "color": "#00cc96",
          "dash": "solid"
         },
         "marker": {
          "symbol": "circle"
         },
         "mode": "markers+lines",
         "name": "Higher",
         "orientation": "v",
         "showlegend": true,
         "type": "scatter",
         "x": [
          "2021",
          "2020",
          "2019",
          "2018",
          "2017",
          "2016",
          "2015",
          "2014",
          "2013",
          "2012",
          "2011",
          "2010",
          "2009",
          "2008",
          "2007",
          "2006"
         ],
         "xaxis": "x",
         "y": [
          66203,
          63522,
          63977,
          66336,
          67357,
          68664,
          45121,
          67420,
          65697,
          65195,
          64516,
          63582,
          60526,
          58595,
          57745,
          57016
         ],
         "yaxis": "y"
        },
        {
         "hovertemplate": "Level=Higher<br>variable=Entries<br>Year=%{x}<br>value=%{y}<extra></extra>",
         "legendgroup": "Higher",
         "line": {
          "color": "#00cc96",
          "dash": "solid"
         },
         "marker": {
          "symbol": "circle"
         },
         "mode": "markers+lines",
         "name": "Higher",
         "orientation": "v",
         "showlegend": false,
         "type": "scatter",
         "x": [
          "2021",
          "2020",
          "2019",
          "2018",
          "2017",
          "2016",
          "2015",
          "2014",
          "2013",
          "2012",
          "2011",
          "2010",
          "2009",
          "2008",
          "2007",
          "2006"
         ],
         "xaxis": "x",
         "y": [
          194794,
          186227,
          185917,
          191952,
          194804,
          197750,
          92568,
          191859,
          183489,
          181699,
          178925,
          175614,
          167792,
          162576,
          161081,
          159140
         ],
         "yaxis": "y"
        },
        {
         "hovertemplate": "Level=Higher<br>variable=Passes<br>Year=%{x}<br>value=%{y}<extra></extra>",
         "legendgroup": "Higher",
         "line": {
          "color": "#00cc96",
          "dash": "solid"
         },
         "marker": {
          "symbol": "circle"
         },
         "mode": "markers+lines",
         "name": "Higher",
         "orientation": "v",
         "showlegend": false,
         "type": "scatter",
         "x": [
          "2021",
          "2020",
          "2019",
          "2018",
          "2017",
          "2016",
          "2015",
          "2014",
          "2013",
          "2012",
          "2011",
          "2010",
          "2009",
          "2008",
          "2007",
          "2006"
         ],
         "xaxis": "x",
         "y": [
          170110,
          166284,
          139322,
          147949,
          150639,
          153391,
          71295,
          148684,
          145417,
          143289,
          138274,
          134029,
          127490,
          122050,
          118150,
          115984
         ],
         "yaxis": "y"
        },
        {
         "hovertemplate": "Level=Higher<br>variable=As<br>Year=%{x}<br>value=%{y}<extra></extra>",
         "legendgroup": "Higher",
         "line": {
          "color": "#00cc96",
          "dash": "solid"
         },
         "marker": {
          "symbol": "circle"
         },
         "mode": "markers+lines",
         "name": "Higher",
         "orientation": "v",
         "showlegend": false,
         "type": "scatter",
         "x": [
          "2021",
          "2020",
          "2019",
          "2018",
          "2017",
          "2016",
          "2015",
          "2014",
          "2013",
          "2012",
          "2011",
          "2010",
          "2009",
          "2008",
          "2007",
          "2006"
         ],
         "xaxis": "x",
         "y": [
          92839,
          74593,
          53013,
          55083,
          56561,
          58345,
          27840,
          53678,
          52228,
          50341,
          46613,
          44273,
          41997,
          39711,
          36644,
          35664
         ],
         "yaxis": "y"
        },
        {
         "hovertemplate": "Level=Advanced_Higher<br>variable=Students<br>Year=%{x}<br>value=%{y}<extra></extra>",
         "legendgroup": "Advanced_Higher",
         "line": {
          "color": "#ab63fa",
          "dash": "solid"
         },
         "marker": {
          "symbol": "circle"
         },
         "mode": "markers+lines",
         "name": "Advanced_Higher",
         "orientation": "v",
         "showlegend": true,
         "type": "scatter",
         "x": [
          "2021",
          "2020",
          "2019",
          "2018",
          "2017",
          "2016",
          "2015",
          "2014",
          "2013",
          "2012",
          "2011",
          "2010",
          "2009",
          "2008",
          "2007",
          "2006"
         ],
         "xaxis": "x",
         "y": [
          15686,
          13893,
          13923,
          14438,
          14375,
          14246,
          13943,
          13497,
          13316,
          13128,
          13074,
          12664,
          11984,
          11615,
          10953,
          11490
         ],
         "yaxis": "y"
        },
        {
         "hovertemplate": "Level=Advanced_Higher<br>variable=Entries<br>Year=%{x}<br>value=%{y}<extra></extra>",
         "legendgroup": "Advanced_Higher",
         "line": {
          "color": "#ab63fa",
          "dash": "solid"
         },
         "marker": {
          "symbol": "circle"
         },
         "mode": "markers+lines",
         "name": "Advanced_Higher",
         "orientation": "v",
         "showlegend": false,
         "type": "scatter",
         "x": [
          "2021",
          "2020",
          "2019",
          "2018",
          "2017",
          "2016",
          "2015",
          "2014",
          "2013",
          "2012",
          "2011",
          "2010",
          "2009",
          "2008",
          "2007",
          "2006"
         ],
         "xaxis": "x",
         "y": [
          26807,
          23571,
          23465,
          24328,
          24107,
          23794,
          23350,
          22431,
          22119,
          21593,
          21431,
          20585,
          19648,
          18854,
          17831,
          18264
         ],
         "yaxis": "y"
        },
        {
         "hovertemplate": "Level=Advanced_Higher<br>variable=Passes<br>Year=%{x}<br>value=%{y}<extra></extra>",
         "legendgroup": "Advanced_Higher",
         "line": {
          "color": "#ab63fa",
          "dash": "solid"
         },
         "marker": {
          "symbol": "circle"
         },
         "mode": "markers+lines",
         "name": "Advanced_Higher",
         "orientation": "v",
         "showlegend": false,
         "type": "scatter",
         "x": [
          "2021",
          "2020",
          "2019",
          "2018",
          "2017",
          "2016",
          "2015",
          "2014",
          "2013",
          "2012",
          "2011",
          "2010",
          "2009",
          "2008",
          "2007",
          "2006"
         ],
         "xaxis": "x",
         "y": [
          24175,
          21938,
          18680,
          19653,
          19381,
          19518,
          19007,
          18281,
          18570,
          17745,
          17449,
          16451,
          15765,
          14688,
          13697,
          13952
         ],
         "yaxis": "y"
        },
        {
         "hovertemplate": "Level=Advanced_Higher<br>variable=As<br>Year=%{x}<br>value=%{y}<extra></extra>",
         "legendgroup": "Advanced_Higher",
         "line": {
          "color": "#ab63fa",
          "dash": "solid"
         },
         "marker": {
          "symbol": "circle"
         },
         "mode": "markers+lines",
         "name": "Advanced_Higher",
         "orientation": "v",
         "showlegend": false,
         "type": "scatter",
         "x": [
          "2021",
          "2020",
          "2019",
          "2018",
          "2017",
          "2016",
          "2015",
          "2014",
          "2013",
          "2012",
          "2011",
          "2010",
          "2009",
          "2008",
          "2007",
          "2006"
         ],
         "xaxis": "x",
         "y": [
          13661,
          10924,
          7504,
          7923,
          7717,
          8031,
          7396,
          6895,
          7493,
          6747,
          6670,
          5932,
          5484,
          4896,
          4494,
          4502
         ],
         "yaxis": "y"
        },
        {
         "hovertemplate": "Level=Intermediate2<br>variable=Students<br>Year=%{x}<br>value=%{y}<extra></extra>",
         "legendgroup": "Intermediate2",
         "line": {
          "color": "#FFA15A",
          "dash": "solid"
         },
         "marker": {
          "symbol": "circle"
         },
         "mode": "markers+lines",
         "name": "Intermediate2",
         "orientation": "v",
         "showlegend": true,
         "type": "scatter",
         "x": [
          "2015",
          "2014",
          "2013",
          "2012",
          "2011",
          "2010",
          "2009",
          "2008",
          "2007",
          "2006"
         ],
         "xaxis": "x",
         "y": [
          7854,
          44257,
          70307,
          69170,
          67513,
          65742,
          61646,
          57479,
          54684,
          49627
         ],
         "yaxis": "y"
        },
        {
         "hovertemplate": "Level=Intermediate2<br>variable=Entries<br>Year=%{x}<br>value=%{y}<extra></extra>",
         "legendgroup": "Intermediate2",
         "line": {
          "color": "#FFA15A",
          "dash": "solid"
         },
         "marker": {
          "symbol": "circle"
         },
         "mode": "markers+lines",
         "name": "Intermediate2",
         "orientation": "v",
         "showlegend": false,
         "type": "scatter",
         "x": [
          "2015",
          "2014",
          "2013",
          "2012",
          "2011",
          "2010",
          "2009",
          "2008",
          "2007",
          "2006"
         ],
         "xaxis": "x",
         "y": [
          10682,
          97124,
          144382,
          140145,
          134573,
          130497,
          122463,
          113388,
          107340,
          94686
         ],
         "yaxis": "y"
        },
        {
         "hovertemplate": "Level=Intermediate2<br>variable=Passes<br>Year=%{x}<br>value=%{y}<extra></extra>",
         "legendgroup": "Intermediate2",
         "line": {
          "color": "#FFA15A",
          "dash": "solid"
         },
         "marker": {
          "symbol": "circle"
         },
         "mode": "markers+lines",
         "name": "Intermediate2",
         "orientation": "v",
         "showlegend": false,
         "type": "scatter",
         "x": [
          "2015",
          "2014",
          "2013",
          "2012",
          "2011",
          "2010",
          "2009",
          "2008",
          "2007",
          "2006"
         ],
         "xaxis": "x",
         "y": [
          7858,
          75938,
          120138,
          114745,
          109775,
          104972,
          97635,
          89972,
          82370,
          70498
         ],
         "yaxis": "y"
        },
        {
         "hovertemplate": "Level=Intermediate2<br>variable=As<br>Year=%{x}<br>value=%{y}<extra></extra>",
         "legendgroup": "Intermediate2",
         "line": {
          "color": "#FFA15A",
          "dash": "solid"
         },
         "marker": {
          "symbol": "circle"
         },
         "mode": "markers+lines",
         "name": "Intermediate2",
         "orientation": "v",
         "showlegend": false,
         "type": "scatter",
         "x": [
          "2015",
          "2014",
          "2013",
          "2012",
          "2011",
          "2010",
          "2009",
          "2008",
          "2007",
          "2006"
         ],
         "xaxis": "x",
         "y": [
          3227,
          31487,
          53070,
          48532,
          47959,
          46930,
          41920,
          38951,
          33927,
          27226
         ],
         "yaxis": "y"
        },
        {
         "hovertemplate": "Level=Intermediate1<br>variable=Students<br>Year=%{x}<br>value=%{y}<extra></extra>",
         "legendgroup": "Intermediate1",
         "line": {
          "color": "#19d3f3",
          "dash": "solid"
         },
         "marker": {
          "symbol": "circle"
         },
         "mode": "markers+lines",
         "name": "Intermediate1",
         "orientation": "v",
         "showlegend": true,
         "type": "scatter",
         "x": [
          "2015",
          "2014",
          "2013",
          "2012",
          "2011",
          "2010",
          "2009",
          "2008",
          "2007",
          "2006"
         ],
         "xaxis": "x",
         "y": [
          1394,
          12241,
          41602,
          45882,
          45645,
          44837,
          43061,
          40693,
          37490,
          32352
         ],
         "yaxis": "y"
        },
        {
         "hovertemplate": "Level=Intermediate1<br>variable=Entries<br>Year=%{x}<br>value=%{y}<extra></extra>",
         "legendgroup": "Intermediate1",
         "line": {
          "color": "#19d3f3",
          "dash": "solid"
         },
         "marker": {
          "symbol": "circle"
         },
         "mode": "markers+lines",
         "name": "Intermediate1",
         "orientation": "v",
         "showlegend": false,
         "type": "scatter",
         "x": [
          "2015",
          "2014",
          "2013",
          "2012",
          "2011",
          "2010",
          "2009",
          "2008",
          "2007",
          "2006"
         ],
         "xaxis": "x",
         "y": [
          1553,
          18679,
          69605,
          74383,
          72324,
          69834,
          65735,
          60267,
          53840,
          45174
         ],
         "yaxis": "y"
        },
        {
         "hovertemplate": "Level=Intermediate1<br>variable=Passes<br>Year=%{x}<br>value=%{y}<extra></extra>",
         "legendgroup": "Intermediate1",
         "line": {
          "color": "#19d3f3",
          "dash": "solid"
         },
         "marker": {
          "symbol": "circle"
         },
         "mode": "markers+lines",
         "name": "Intermediate1",
         "orientation": "v",
         "showlegend": false,
         "type": "scatter",
         "x": [
          "2015",
          "2014",
          "2013",
          "2012",
          "2011",
          "2010",
          "2009",
          "2008",
          "2007",
          "2006"
         ],
         "xaxis": "x",
         "y": [
          1179,
          13738,
          55159,
          57966,
          55963,
          52115,
          49675,
          45066,
          39163,
          32582
         ],
         "yaxis": "y"
        },
        {
         "hovertemplate": "Level=Intermediate1<br>variable=As<br>Year=%{x}<br>value=%{y}<extra></extra>",
         "legendgroup": "Intermediate1",
         "line": {
          "color": "#19d3f3",
          "dash": "solid"
         },
         "marker": {
          "symbol": "circle"
         },
         "mode": "markers+lines",
         "name": "Intermediate1",
         "orientation": "v",
         "showlegend": false,
         "type": "scatter",
         "x": [
          "2015",
          "2014",
          "2013",
          "2012",
          "2011",
          "2010",
          "2009",
          "2008",
          "2007",
          "2006"
         ],
         "xaxis": "x",
         "y": [
          473,
          4434,
          19546,
          20163,
          20101,
          18709,
          20595,
          17314,
          14920,
          12657
         ],
         "yaxis": "y"
        },
        {
         "hovertemplate": "Level=Standard_Grade<br>variable=Students<br>Year=%{x}<br>value=%{y}<extra></extra>",
         "legendgroup": "Standard_Grade",
         "line": {
          "color": "#FF6692",
          "dash": "solid"
         },
         "marker": {
          "symbol": "circle"
         },
         "mode": "markers+lines",
         "name": "Standard_Grade",
         "orientation": "v",
         "showlegend": true,
         "type": "scatter",
         "x": [
          "2013",
          "2012",
          "2011",
          "2010",
          "2009",
          "2008",
          "2007",
          "2006"
         ],
         "xaxis": "x",
         "y": [
          55596,
          59966,
          61777,
          63298,
          65705,
          68705,
          68384,
          66365
         ],
         "yaxis": "y"
        },
        {
         "hovertemplate": "Level=Standard_Grade<br>variable=Entries<br>Year=%{x}<br>value=%{y}<extra></extra>",
         "legendgroup": "Standard_Grade",
         "line": {
          "color": "#FF6692",
          "dash": "solid"
         },
         "marker": {
          "symbol": "circle"
         },
         "mode": "markers+lines",
         "name": "Standard_Grade",
         "orientation": "v",
         "showlegend": false,
         "type": "scatter",
         "x": [
          "2013",
          "2012",
          "2011",
          "2010",
          "2009",
          "2008",
          "2007",
          "2006"
         ],
         "xaxis": "x",
         "y": [
          308248,
          320021,
          330690,
          339208,
          358519,
          386915,
          404693,
          415874
         ],
         "yaxis": "y"
        },
        {
         "hovertemplate": "Level=Standard_Grade<br>variable=Passes<br>Year=%{x}<br>value=%{y}<extra></extra>",
         "legendgroup": "Standard_Grade",
         "line": {
          "color": "#FF6692",
          "dash": "solid"
         },
         "marker": {
          "symbol": "circle"
         },
         "mode": "markers+lines",
         "name": "Standard_Grade",
         "orientation": "v",
         "showlegend": false,
         "type": "scatter",
         "x": [
          "2013",
          "2012",
          "2011",
          "2010",
          "2009",
          "2008",
          "2007",
          "2006"
         ],
         "xaxis": "x",
         "y": [
          276027,
          283415,
          289539,
          296737,
          312815,
          333511,
          344101,
          357414
         ],
         "yaxis": "y"
        },
        {
         "hovertemplate": "Level=Standard_Grade<br>variable=As<br>Year=%{x}<br>value=%{y}<extra></extra>",
         "legendgroup": "Standard_Grade",
         "line": {
          "color": "#FF6692",
          "dash": "solid"
         },
         "marker": {
          "symbol": "circle"
         },
         "mode": "markers+lines",
         "name": "Standard_Grade",
         "orientation": "v",
         "showlegend": false,
         "type": "scatter",
         "x": [
          "2013",
          "2012",
          "2011",
          "2010",
          "2009",
          "2008",
          "2007",
          "2006"
         ],
         "xaxis": "x",
         "y": [
          155626,
          156934,
          158264,
          160895,
          167938,
          174903,
          175947,
          188161
         ],
         "yaxis": "y"
        }
       ],
       "layout": {
        "height": 800,
        "legend": {
         "title": {
          "text": "Level"
         },
         "tracegroupgap": 0
        },
        "template": {
         "data": {
          "bar": [
           {
            "error_x": {
             "color": "#2a3f5f"
            },
            "error_y": {
             "color": "#2a3f5f"
            },
            "marker": {
             "line": {
              "color": "#E5ECF6",
              "width": 0.5
             },
             "pattern": {
              "fillmode": "overlay",
              "size": 10,
              "solidity": 0.2
             }
            },
            "type": "bar"
           }
          ],
          "barpolar": [
           {
            "marker": {
             "line": {
              "color": "#E5ECF6",
              "width": 0.5
             },
             "pattern": {
              "fillmode": "overlay",
              "size": 10,
              "solidity": 0.2
             }
            },
            "type": "barpolar"
           }
          ],
          "carpet": [
           {
            "aaxis": {
             "endlinecolor": "#2a3f5f",
             "gridcolor": "white",
             "linecolor": "white",
             "minorgridcolor": "white",
             "startlinecolor": "#2a3f5f"
            },
            "baxis": {
             "endlinecolor": "#2a3f5f",
             "gridcolor": "white",
             "linecolor": "white",
             "minorgridcolor": "white",
             "startlinecolor": "#2a3f5f"
            },
            "type": "carpet"
           }
          ],
          "choropleth": [
           {
            "colorbar": {
             "outlinewidth": 0,
             "ticks": ""
            },
            "type": "choropleth"
           }
          ],
          "contour": [
           {
            "colorbar": {
             "outlinewidth": 0,
             "ticks": ""
            },
            "colorscale": [
             [
              0,
              "#0d0887"
             ],
             [
              0.1111111111111111,
              "#46039f"
             ],
             [
              0.2222222222222222,
              "#7201a8"
             ],
             [
              0.3333333333333333,
              "#9c179e"
             ],
             [
              0.4444444444444444,
              "#bd3786"
             ],
             [
              0.5555555555555556,
              "#d8576b"
             ],
             [
              0.6666666666666666,
              "#ed7953"
             ],
             [
              0.7777777777777778,
              "#fb9f3a"
             ],
             [
              0.8888888888888888,
              "#fdca26"
             ],
             [
              1,
              "#f0f921"
             ]
            ],
            "type": "contour"
           }
          ],
          "contourcarpet": [
           {
            "colorbar": {
             "outlinewidth": 0,
             "ticks": ""
            },
            "type": "contourcarpet"
           }
          ],
          "heatmap": [
           {
            "colorbar": {
             "outlinewidth": 0,
             "ticks": ""
            },
            "colorscale": [
             [
              0,
              "#0d0887"
             ],
             [
              0.1111111111111111,
              "#46039f"
             ],
             [
              0.2222222222222222,
              "#7201a8"
             ],
             [
              0.3333333333333333,
              "#9c179e"
             ],
             [
              0.4444444444444444,
              "#bd3786"
             ],
             [
              0.5555555555555556,
              "#d8576b"
             ],
             [
              0.6666666666666666,
              "#ed7953"
             ],
             [
              0.7777777777777778,
              "#fb9f3a"
             ],
             [
              0.8888888888888888,
              "#fdca26"
             ],
             [
              1,
              "#f0f921"
             ]
            ],
            "type": "heatmap"
           }
          ],
          "heatmapgl": [
           {
            "colorbar": {
             "outlinewidth": 0,
             "ticks": ""
            },
            "colorscale": [
             [
              0,
              "#0d0887"
             ],
             [
              0.1111111111111111,
              "#46039f"
             ],
             [
              0.2222222222222222,
              "#7201a8"
             ],
             [
              0.3333333333333333,
              "#9c179e"
             ],
             [
              0.4444444444444444,
              "#bd3786"
             ],
             [
              0.5555555555555556,
              "#d8576b"
             ],
             [
              0.6666666666666666,
              "#ed7953"
             ],
             [
              0.7777777777777778,
              "#fb9f3a"
             ],
             [
              0.8888888888888888,
              "#fdca26"
             ],
             [
              1,
              "#f0f921"
             ]
            ],
            "type": "heatmapgl"
           }
          ],
          "histogram": [
           {
            "marker": {
             "pattern": {
              "fillmode": "overlay",
              "size": 10,
              "solidity": 0.2
             }
            },
            "type": "histogram"
           }
          ],
          "histogram2d": [
           {
            "colorbar": {
             "outlinewidth": 0,
             "ticks": ""
            },
            "colorscale": [
             [
              0,
              "#0d0887"
             ],
             [
              0.1111111111111111,
              "#46039f"
             ],
             [
              0.2222222222222222,
              "#7201a8"
             ],
             [
              0.3333333333333333,
              "#9c179e"
             ],
             [
              0.4444444444444444,
              "#bd3786"
             ],
             [
              0.5555555555555556,
              "#d8576b"
             ],
             [
              0.6666666666666666,
              "#ed7953"
             ],
             [
              0.7777777777777778,
              "#fb9f3a"
             ],
             [
              0.8888888888888888,
              "#fdca26"
             ],
             [
              1,
              "#f0f921"
             ]
            ],
            "type": "histogram2d"
           }
          ],
          "histogram2dcontour": [
           {
            "colorbar": {
             "outlinewidth": 0,
             "ticks": ""
            },
            "colorscale": [
             [
              0,
              "#0d0887"
             ],
             [
              0.1111111111111111,
              "#46039f"
             ],
             [
              0.2222222222222222,
              "#7201a8"
             ],
             [
              0.3333333333333333,
              "#9c179e"
             ],
             [
              0.4444444444444444,
              "#bd3786"
             ],
             [
              0.5555555555555556,
              "#d8576b"
             ],
             [
              0.6666666666666666,
              "#ed7953"
             ],
             [
              0.7777777777777778,
              "#fb9f3a"
             ],
             [
              0.8888888888888888,
              "#fdca26"
             ],
             [
              1,
              "#f0f921"
             ]
            ],
            "type": "histogram2dcontour"
           }
          ],
          "mesh3d": [
           {
            "colorbar": {
             "outlinewidth": 0,
             "ticks": ""
            },
            "type": "mesh3d"
           }
          ],
          "parcoords": [
           {
            "line": {
             "colorbar": {
              "outlinewidth": 0,
              "ticks": ""
             }
            },
            "type": "parcoords"
           }
          ],
          "pie": [
           {
            "automargin": true,
            "type": "pie"
           }
          ],
          "scatter": [
           {
            "fillpattern": {
             "fillmode": "overlay",
             "size": 10,
             "solidity": 0.2
            },
            "type": "scatter"
           }
          ],
          "scatter3d": [
           {
            "line": {
             "colorbar": {
              "outlinewidth": 0,
              "ticks": ""
             }
            },
            "marker": {
             "colorbar": {
              "outlinewidth": 0,
              "ticks": ""
             }
            },
            "type": "scatter3d"
           }
          ],
          "scattercarpet": [
           {
            "marker": {
             "colorbar": {
              "outlinewidth": 0,
              "ticks": ""
             }
            },
            "type": "scattercarpet"
           }
          ],
          "scattergeo": [
           {
            "marker": {
             "colorbar": {
              "outlinewidth": 0,
              "ticks": ""
             }
            },
            "type": "scattergeo"
           }
          ],
          "scattergl": [
           {
            "marker": {
             "colorbar": {
              "outlinewidth": 0,
              "ticks": ""
             }
            },
            "type": "scattergl"
           }
          ],
          "scattermapbox": [
           {
            "marker": {
             "colorbar": {
              "outlinewidth": 0,
              "ticks": ""
             }
            },
            "type": "scattermapbox"
           }
          ],
          "scatterpolar": [
           {
            "marker": {
             "colorbar": {
              "outlinewidth": 0,
              "ticks": ""
             }
            },
            "type": "scatterpolar"
           }
          ],
          "scatterpolargl": [
           {
            "marker": {
             "colorbar": {
              "outlinewidth": 0,
              "ticks": ""
             }
            },
            "type": "scatterpolargl"
           }
          ],
          "scatterternary": [
           {
            "marker": {
             "colorbar": {
              "outlinewidth": 0,
              "ticks": ""
             }
            },
            "type": "scatterternary"
           }
          ],
          "surface": [
           {
            "colorbar": {
             "outlinewidth": 0,
             "ticks": ""
            },
            "colorscale": [
             [
              0,
              "#0d0887"
             ],
             [
              0.1111111111111111,
              "#46039f"
             ],
             [
              0.2222222222222222,
              "#7201a8"
             ],
             [
              0.3333333333333333,
              "#9c179e"
             ],
             [
              0.4444444444444444,
              "#bd3786"
             ],
             [
              0.5555555555555556,
              "#d8576b"
             ],
             [
              0.6666666666666666,
              "#ed7953"
             ],
             [
              0.7777777777777778,
              "#fb9f3a"
             ],
             [
              0.8888888888888888,
              "#fdca26"
             ],
             [
              1,
              "#f0f921"
             ]
            ],
            "type": "surface"
           }
          ],
          "table": [
           {
            "cells": {
             "fill": {
              "color": "#EBF0F8"
             },
             "line": {
              "color": "white"
             }
            },
            "header": {
             "fill": {
              "color": "#C8D4E3"
             },
             "line": {
              "color": "white"
             }
            },
            "type": "table"
           }
          ]
         },
         "layout": {
          "annotationdefaults": {
           "arrowcolor": "#2a3f5f",
           "arrowhead": 0,
           "arrowwidth": 1
          },
          "autotypenumbers": "strict",
          "coloraxis": {
           "colorbar": {
            "outlinewidth": 0,
            "ticks": ""
           }
          },
          "colorscale": {
           "diverging": [
            [
             0,
             "#8e0152"
            ],
            [
             0.1,
             "#c51b7d"
            ],
            [
             0.2,
             "#de77ae"
            ],
            [
             0.3,
             "#f1b6da"
            ],
            [
             0.4,
             "#fde0ef"
            ],
            [
             0.5,
             "#f7f7f7"
            ],
            [
             0.6,
             "#e6f5d0"
            ],
            [
             0.7,
             "#b8e186"
            ],
            [
             0.8,
             "#7fbc41"
            ],
            [
             0.9,
             "#4d9221"
            ],
            [
             1,
             "#276419"
            ]
           ],
           "sequential": [
            [
             0,
             "#0d0887"
            ],
            [
             0.1111111111111111,
             "#46039f"
            ],
            [
             0.2222222222222222,
             "#7201a8"
            ],
            [
             0.3333333333333333,
             "#9c179e"
            ],
            [
             0.4444444444444444,
             "#bd3786"
            ],
            [
             0.5555555555555556,
             "#d8576b"
            ],
            [
             0.6666666666666666,
             "#ed7953"
            ],
            [
             0.7777777777777778,
             "#fb9f3a"
            ],
            [
             0.8888888888888888,
             "#fdca26"
            ],
            [
             1,
             "#f0f921"
            ]
           ],
           "sequentialminus": [
            [
             0,
             "#0d0887"
            ],
            [
             0.1111111111111111,
             "#46039f"
            ],
            [
             0.2222222222222222,
             "#7201a8"
            ],
            [
             0.3333333333333333,
             "#9c179e"
            ],
            [
             0.4444444444444444,
             "#bd3786"
            ],
            [
             0.5555555555555556,
             "#d8576b"
            ],
            [
             0.6666666666666666,
             "#ed7953"
            ],
            [
             0.7777777777777778,
             "#fb9f3a"
            ],
            [
             0.8888888888888888,
             "#fdca26"
            ],
            [
             1,
             "#f0f921"
            ]
           ]
          },
          "colorway": [
           "#636efa",
           "#EF553B",
           "#00cc96",
           "#ab63fa",
           "#FFA15A",
           "#19d3f3",
           "#FF6692",
           "#B6E880",
           "#FF97FF",
           "#FECB52"
          ],
          "font": {
           "color": "#2a3f5f"
          },
          "geo": {
           "bgcolor": "white",
           "lakecolor": "white",
           "landcolor": "#E5ECF6",
           "showlakes": true,
           "showland": true,
           "subunitcolor": "white"
          },
          "hoverlabel": {
           "align": "left"
          },
          "hovermode": "closest",
          "mapbox": {
           "style": "light"
          },
          "paper_bgcolor": "white",
          "plot_bgcolor": "#E5ECF6",
          "polar": {
           "angularaxis": {
            "gridcolor": "white",
            "linecolor": "white",
            "ticks": ""
           },
           "bgcolor": "#E5ECF6",
           "radialaxis": {
            "gridcolor": "white",
            "linecolor": "white",
            "ticks": ""
           }
          },
          "scene": {
           "xaxis": {
            "backgroundcolor": "#E5ECF6",
            "gridcolor": "white",
            "gridwidth": 2,
            "linecolor": "white",
            "showbackground": true,
            "ticks": "",
            "zerolinecolor": "white"
           },
           "yaxis": {
            "backgroundcolor": "#E5ECF6",
            "gridcolor": "white",
            "gridwidth": 2,
            "linecolor": "white",
            "showbackground": true,
            "ticks": "",
            "zerolinecolor": "white"
           },
           "zaxis": {
            "backgroundcolor": "#E5ECF6",
            "gridcolor": "white",
            "gridwidth": 2,
            "linecolor": "white",
            "showbackground": true,
            "ticks": "",
            "zerolinecolor": "white"
           }
          },
          "shapedefaults": {
           "line": {
            "color": "#2a3f5f"
           }
          },
          "ternary": {
           "aaxis": {
            "gridcolor": "white",
            "linecolor": "white",
            "ticks": ""
           },
           "baxis": {
            "gridcolor": "white",
            "linecolor": "white",
            "ticks": ""
           },
           "bgcolor": "#E5ECF6",
           "caxis": {
            "gridcolor": "white",
            "linecolor": "white",
            "ticks": ""
           }
          },
          "title": {
           "x": 0.05
          },
          "xaxis": {
           "automargin": true,
           "gridcolor": "white",
           "linecolor": "white",
           "ticks": "",
           "title": {
            "standoff": 15
           },
           "zerolinecolor": "white",
           "zerolinewidth": 2
          },
          "yaxis": {
           "automargin": true,
           "gridcolor": "white",
           "linecolor": "white",
           "ticks": "",
           "title": {
            "standoff": 15
           },
           "zerolinecolor": "white",
           "zerolinewidth": 2
          }
         }
        },
        "title": {
         "text": "Total Students, Entries, Passes and As 2016 - 2021"
        },
        "width": 800,
        "xaxis": {
         "anchor": "y",
         "categoryarray": [
          "2006",
          "2007",
          "2008",
          "2009",
          "2010",
          "2011",
          "2012",
          "2013",
          "2014",
          "2015",
          "2016",
          "2017",
          "2018",
          "2019",
          "2020",
          "2021"
         ],
         "categoryorder": "array",
         "domain": [
          0,
          1
         ],
         "title": {
          "text": "Year"
         }
        },
        "yaxis": {
         "anchor": "x",
         "domain": [
          0,
          1
         ],
         "rangemode": "tozero",
         "title": {
          "text": "value"
         }
        }
       }
      },
      "text/html": [
       "<div>                            <div id=\"9b72a962-0aa7-4997-b76b-1533d3f48d5a\" class=\"plotly-graph-div\" style=\"height:800px; width:800px;\"></div>            <script type=\"text/javascript\">                require([\"plotly\"], function(Plotly) {                    window.PLOTLYENV=window.PLOTLYENV || {};                                    if (document.getElementById(\"9b72a962-0aa7-4997-b76b-1533d3f48d5a\")) {                    Plotly.newPlot(                        \"9b72a962-0aa7-4997-b76b-1533d3f48d5a\",                        [{\"hovertemplate\":\"Level=National_4<br>variable=Students<br>Year=%{x}<br>value=%{y}<extra></extra>\",\"legendgroup\":\"National_4\",\"line\":{\"color\":\"#636efa\",\"dash\":\"solid\"},\"marker\":{\"symbol\":\"circle\"},\"mode\":\"markers+lines\",\"name\":\"National_4\",\"orientation\":\"v\",\"showlegend\":true,\"x\":[\"2021\",\"2020\",\"2019\",\"2018\",\"2017\",\"2016\",\"2015\",\"2014\"],\"xaxis\":\"x\",\"y\":[42458.0,41639.0,46544.0,46774.0,51970.0,53219.0,53111.0,40641.0],\"yaxis\":\"y\",\"type\":\"scatter\"},{\"hovertemplate\":\"Level=National_4<br>variable=Entries<br>Year=%{x}<br>value=%{y}<extra></extra>\",\"legendgroup\":\"National_4\",\"line\":{\"color\":\"#636efa\",\"dash\":\"solid\"},\"marker\":{\"symbol\":\"circle\"},\"mode\":\"markers+lines\",\"name\":\"National_4\",\"orientation\":\"v\",\"showlegend\":false,\"x\":[\"2021\",\"2020\",\"2019\",\"2018\",\"2017\",\"2016\",\"2015\",\"2014\"],\"xaxis\":\"x\",\"y\":[103660.0,102492.0,107999.0,109644.0,125649.0,131747.0,140151.0,131711.0],\"yaxis\":\"y\",\"type\":\"scatter\"},{\"hovertemplate\":\"Level=National_4<br>variable=Passes<br>Year=%{x}<br>value=%{y}<extra></extra>\",\"legendgroup\":\"National_4\",\"line\":{\"color\":\"#636efa\",\"dash\":\"solid\"},\"marker\":{\"symbol\":\"circle\"},\"mode\":\"markers+lines\",\"name\":\"National_4\",\"orientation\":\"v\",\"showlegend\":false,\"x\":[\"2021\",\"2020\",\"2019\",\"2018\",\"2017\",\"2016\",\"2015\",\"2014\"],\"xaxis\":\"x\",\"y\":[92491.0,94711.0,97221.0,101067.0,117828.0,124141.0,132041.0,123734.0],\"yaxis\":\"y\",\"type\":\"scatter\"},{\"hovertemplate\":\"Level=National_4<br>variable=As<br>Year=%{x}<br>value=%{y}<extra></extra>\",\"legendgroup\":\"National_4\",\"line\":{\"color\":\"#636efa\",\"dash\":\"solid\"},\"marker\":{\"symbol\":\"circle\"},\"mode\":\"markers+lines\",\"name\":\"National_4\",\"orientation\":\"v\",\"showlegend\":false,\"x\":[\"2021\",\"2020\",\"2019\",\"2018\",\"2017\",\"2016\",\"2015\",\"2014\"],\"xaxis\":\"x\",\"y\":[null,null,null,null,null,null,null,null],\"yaxis\":\"y\",\"type\":\"scatter\"},{\"hovertemplate\":\"Level=National_5<br>variable=Students<br>Year=%{x}<br>value=%{y}<extra></extra>\",\"legendgroup\":\"National_5\",\"line\":{\"color\":\"#EF553B\",\"dash\":\"solid\"},\"marker\":{\"symbol\":\"circle\"},\"mode\":\"markers+lines\",\"name\":\"National_5\",\"orientation\":\"v\",\"showlegend\":true,\"x\":[\"2021\",\"2020\",\"2019\",\"2018\",\"2017\",\"2016\",\"2015\",\"2014\"],\"xaxis\":\"x\",\"y\":[81048.0,81698.0,80046.0,79719.0,82535.0,83917.0,79944.0,49035.0],\"yaxis\":\"y\",\"type\":\"scatter\"},{\"hovertemplate\":\"Level=National_5<br>variable=Entries<br>Year=%{x}<br>value=%{y}<extra></extra>\",\"legendgroup\":\"National_5\",\"line\":{\"color\":\"#EF553B\",\"dash\":\"solid\"},\"marker\":{\"symbol\":\"circle\"},\"mode\":\"markers+lines\",\"name\":\"National_5\",\"orientation\":\"v\",\"showlegend\":false,\"x\":[\"2021\",\"2020\",\"2019\",\"2018\",\"2017\",\"2016\",\"2015\",\"2014\"],\"xaxis\":\"x\",\"y\":[298137.0,300683.0,288561.0,281735.0,293167.0,295013.0,288034.0,213601.0],\"yaxis\":\"y\",\"type\":\"scatter\"},{\"hovertemplate\":\"Level=National_5<br>variable=Passes<br>Year=%{x}<br>value=%{y}<extra></extra>\",\"legendgroup\":\"National_5\",\"line\":{\"color\":\"#EF553B\",\"dash\":\"solid\"},\"marker\":{\"symbol\":\"circle\"},\"mode\":\"markers+lines\",\"name\":\"National_5\",\"orientation\":\"v\",\"showlegend\":false,\"x\":[\"2021\",\"2020\",\"2019\",\"2018\",\"2017\",\"2016\",\"2015\",\"2014\"],\"xaxis\":\"x\",\"y\":[255663.0,267644.0,225819.0,218472.0,233412.0,234665.0,230310.0,173648.0],\"yaxis\":\"y\",\"type\":\"scatter\"},{\"hovertemplate\":\"Level=National_5<br>variable=As<br>Year=%{x}<br>value=%{y}<extra></extra>\",\"legendgroup\":\"National_5\",\"line\":{\"color\":\"#EF553B\",\"dash\":\"solid\"},\"marker\":{\"symbol\":\"circle\"},\"mode\":\"markers+lines\",\"name\":\"National_5\",\"orientation\":\"v\",\"showlegend\":false,\"x\":[\"2021\",\"2020\",\"2019\",\"2018\",\"2017\",\"2016\",\"2015\",\"2014\"],\"xaxis\":\"x\",\"y\":[139217.0,127375.0,101498.0,99223.0,108997.0,107979.0,108152.0,84317.0],\"yaxis\":\"y\",\"type\":\"scatter\"},{\"hovertemplate\":\"Level=Higher<br>variable=Students<br>Year=%{x}<br>value=%{y}<extra></extra>\",\"legendgroup\":\"Higher\",\"line\":{\"color\":\"#00cc96\",\"dash\":\"solid\"},\"marker\":{\"symbol\":\"circle\"},\"mode\":\"markers+lines\",\"name\":\"Higher\",\"orientation\":\"v\",\"showlegend\":true,\"x\":[\"2021\",\"2020\",\"2019\",\"2018\",\"2017\",\"2016\",\"2015\",\"2014\",\"2013\",\"2012\",\"2011\",\"2010\",\"2009\",\"2008\",\"2007\",\"2006\"],\"xaxis\":\"x\",\"y\":[66203.0,63522.0,63977.0,66336.0,67357.0,68664.0,45121.0,67420.0,65697.0,65195.0,64516.0,63582.0,60526.0,58595.0,57745.0,57016.0],\"yaxis\":\"y\",\"type\":\"scatter\"},{\"hovertemplate\":\"Level=Higher<br>variable=Entries<br>Year=%{x}<br>value=%{y}<extra></extra>\",\"legendgroup\":\"Higher\",\"line\":{\"color\":\"#00cc96\",\"dash\":\"solid\"},\"marker\":{\"symbol\":\"circle\"},\"mode\":\"markers+lines\",\"name\":\"Higher\",\"orientation\":\"v\",\"showlegend\":false,\"x\":[\"2021\",\"2020\",\"2019\",\"2018\",\"2017\",\"2016\",\"2015\",\"2014\",\"2013\",\"2012\",\"2011\",\"2010\",\"2009\",\"2008\",\"2007\",\"2006\"],\"xaxis\":\"x\",\"y\":[194794.0,186227.0,185917.0,191952.0,194804.0,197750.0,92568.0,191859.0,183489.0,181699.0,178925.0,175614.0,167792.0,162576.0,161081.0,159140.0],\"yaxis\":\"y\",\"type\":\"scatter\"},{\"hovertemplate\":\"Level=Higher<br>variable=Passes<br>Year=%{x}<br>value=%{y}<extra></extra>\",\"legendgroup\":\"Higher\",\"line\":{\"color\":\"#00cc96\",\"dash\":\"solid\"},\"marker\":{\"symbol\":\"circle\"},\"mode\":\"markers+lines\",\"name\":\"Higher\",\"orientation\":\"v\",\"showlegend\":false,\"x\":[\"2021\",\"2020\",\"2019\",\"2018\",\"2017\",\"2016\",\"2015\",\"2014\",\"2013\",\"2012\",\"2011\",\"2010\",\"2009\",\"2008\",\"2007\",\"2006\"],\"xaxis\":\"x\",\"y\":[170110.0,166284.0,139322.0,147949.0,150639.0,153391.0,71295.0,148684.0,145417.0,143289.0,138274.0,134029.0,127490.0,122050.0,118150.0,115984.0],\"yaxis\":\"y\",\"type\":\"scatter\"},{\"hovertemplate\":\"Level=Higher<br>variable=As<br>Year=%{x}<br>value=%{y}<extra></extra>\",\"legendgroup\":\"Higher\",\"line\":{\"color\":\"#00cc96\",\"dash\":\"solid\"},\"marker\":{\"symbol\":\"circle\"},\"mode\":\"markers+lines\",\"name\":\"Higher\",\"orientation\":\"v\",\"showlegend\":false,\"x\":[\"2021\",\"2020\",\"2019\",\"2018\",\"2017\",\"2016\",\"2015\",\"2014\",\"2013\",\"2012\",\"2011\",\"2010\",\"2009\",\"2008\",\"2007\",\"2006\"],\"xaxis\":\"x\",\"y\":[92839.0,74593.0,53013.0,55083.0,56561.0,58345.0,27840.0,53678.0,52228.0,50341.0,46613.0,44273.0,41997.0,39711.0,36644.0,35664.0],\"yaxis\":\"y\",\"type\":\"scatter\"},{\"hovertemplate\":\"Level=Advanced_Higher<br>variable=Students<br>Year=%{x}<br>value=%{y}<extra></extra>\",\"legendgroup\":\"Advanced_Higher\",\"line\":{\"color\":\"#ab63fa\",\"dash\":\"solid\"},\"marker\":{\"symbol\":\"circle\"},\"mode\":\"markers+lines\",\"name\":\"Advanced_Higher\",\"orientation\":\"v\",\"showlegend\":true,\"x\":[\"2021\",\"2020\",\"2019\",\"2018\",\"2017\",\"2016\",\"2015\",\"2014\",\"2013\",\"2012\",\"2011\",\"2010\",\"2009\",\"2008\",\"2007\",\"2006\"],\"xaxis\":\"x\",\"y\":[15686.0,13893.0,13923.0,14438.0,14375.0,14246.0,13943.0,13497.0,13316.0,13128.0,13074.0,12664.0,11984.0,11615.0,10953.0,11490.0],\"yaxis\":\"y\",\"type\":\"scatter\"},{\"hovertemplate\":\"Level=Advanced_Higher<br>variable=Entries<br>Year=%{x}<br>value=%{y}<extra></extra>\",\"legendgroup\":\"Advanced_Higher\",\"line\":{\"color\":\"#ab63fa\",\"dash\":\"solid\"},\"marker\":{\"symbol\":\"circle\"},\"mode\":\"markers+lines\",\"name\":\"Advanced_Higher\",\"orientation\":\"v\",\"showlegend\":false,\"x\":[\"2021\",\"2020\",\"2019\",\"2018\",\"2017\",\"2016\",\"2015\",\"2014\",\"2013\",\"2012\",\"2011\",\"2010\",\"2009\",\"2008\",\"2007\",\"2006\"],\"xaxis\":\"x\",\"y\":[26807.0,23571.0,23465.0,24328.0,24107.0,23794.0,23350.0,22431.0,22119.0,21593.0,21431.0,20585.0,19648.0,18854.0,17831.0,18264.0],\"yaxis\":\"y\",\"type\":\"scatter\"},{\"hovertemplate\":\"Level=Advanced_Higher<br>variable=Passes<br>Year=%{x}<br>value=%{y}<extra></extra>\",\"legendgroup\":\"Advanced_Higher\",\"line\":{\"color\":\"#ab63fa\",\"dash\":\"solid\"},\"marker\":{\"symbol\":\"circle\"},\"mode\":\"markers+lines\",\"name\":\"Advanced_Higher\",\"orientation\":\"v\",\"showlegend\":false,\"x\":[\"2021\",\"2020\",\"2019\",\"2018\",\"2017\",\"2016\",\"2015\",\"2014\",\"2013\",\"2012\",\"2011\",\"2010\",\"2009\",\"2008\",\"2007\",\"2006\"],\"xaxis\":\"x\",\"y\":[24175.0,21938.0,18680.0,19653.0,19381.0,19518.0,19007.0,18281.0,18570.0,17745.0,17449.0,16451.0,15765.0,14688.0,13697.0,13952.0],\"yaxis\":\"y\",\"type\":\"scatter\"},{\"hovertemplate\":\"Level=Advanced_Higher<br>variable=As<br>Year=%{x}<br>value=%{y}<extra></extra>\",\"legendgroup\":\"Advanced_Higher\",\"line\":{\"color\":\"#ab63fa\",\"dash\":\"solid\"},\"marker\":{\"symbol\":\"circle\"},\"mode\":\"markers+lines\",\"name\":\"Advanced_Higher\",\"orientation\":\"v\",\"showlegend\":false,\"x\":[\"2021\",\"2020\",\"2019\",\"2018\",\"2017\",\"2016\",\"2015\",\"2014\",\"2013\",\"2012\",\"2011\",\"2010\",\"2009\",\"2008\",\"2007\",\"2006\"],\"xaxis\":\"x\",\"y\":[13661.0,10924.0,7504.0,7923.0,7717.0,8031.0,7396.0,6895.0,7493.0,6747.0,6670.0,5932.0,5484.0,4896.0,4494.0,4502.0],\"yaxis\":\"y\",\"type\":\"scatter\"},{\"hovertemplate\":\"Level=Intermediate2<br>variable=Students<br>Year=%{x}<br>value=%{y}<extra></extra>\",\"legendgroup\":\"Intermediate2\",\"line\":{\"color\":\"#FFA15A\",\"dash\":\"solid\"},\"marker\":{\"symbol\":\"circle\"},\"mode\":\"markers+lines\",\"name\":\"Intermediate2\",\"orientation\":\"v\",\"showlegend\":true,\"x\":[\"2015\",\"2014\",\"2013\",\"2012\",\"2011\",\"2010\",\"2009\",\"2008\",\"2007\",\"2006\"],\"xaxis\":\"x\",\"y\":[7854.0,44257.0,70307.0,69170.0,67513.0,65742.0,61646.0,57479.0,54684.0,49627.0],\"yaxis\":\"y\",\"type\":\"scatter\"},{\"hovertemplate\":\"Level=Intermediate2<br>variable=Entries<br>Year=%{x}<br>value=%{y}<extra></extra>\",\"legendgroup\":\"Intermediate2\",\"line\":{\"color\":\"#FFA15A\",\"dash\":\"solid\"},\"marker\":{\"symbol\":\"circle\"},\"mode\":\"markers+lines\",\"name\":\"Intermediate2\",\"orientation\":\"v\",\"showlegend\":false,\"x\":[\"2015\",\"2014\",\"2013\",\"2012\",\"2011\",\"2010\",\"2009\",\"2008\",\"2007\",\"2006\"],\"xaxis\":\"x\",\"y\":[10682.0,97124.0,144382.0,140145.0,134573.0,130497.0,122463.0,113388.0,107340.0,94686.0],\"yaxis\":\"y\",\"type\":\"scatter\"},{\"hovertemplate\":\"Level=Intermediate2<br>variable=Passes<br>Year=%{x}<br>value=%{y}<extra></extra>\",\"legendgroup\":\"Intermediate2\",\"line\":{\"color\":\"#FFA15A\",\"dash\":\"solid\"},\"marker\":{\"symbol\":\"circle\"},\"mode\":\"markers+lines\",\"name\":\"Intermediate2\",\"orientation\":\"v\",\"showlegend\":false,\"x\":[\"2015\",\"2014\",\"2013\",\"2012\",\"2011\",\"2010\",\"2009\",\"2008\",\"2007\",\"2006\"],\"xaxis\":\"x\",\"y\":[7858.0,75938.0,120138.0,114745.0,109775.0,104972.0,97635.0,89972.0,82370.0,70498.0],\"yaxis\":\"y\",\"type\":\"scatter\"},{\"hovertemplate\":\"Level=Intermediate2<br>variable=As<br>Year=%{x}<br>value=%{y}<extra></extra>\",\"legendgroup\":\"Intermediate2\",\"line\":{\"color\":\"#FFA15A\",\"dash\":\"solid\"},\"marker\":{\"symbol\":\"circle\"},\"mode\":\"markers+lines\",\"name\":\"Intermediate2\",\"orientation\":\"v\",\"showlegend\":false,\"x\":[\"2015\",\"2014\",\"2013\",\"2012\",\"2011\",\"2010\",\"2009\",\"2008\",\"2007\",\"2006\"],\"xaxis\":\"x\",\"y\":[3227.0,31487.0,53070.0,48532.0,47959.0,46930.0,41920.0,38951.0,33927.0,27226.0],\"yaxis\":\"y\",\"type\":\"scatter\"},{\"hovertemplate\":\"Level=Intermediate1<br>variable=Students<br>Year=%{x}<br>value=%{y}<extra></extra>\",\"legendgroup\":\"Intermediate1\",\"line\":{\"color\":\"#19d3f3\",\"dash\":\"solid\"},\"marker\":{\"symbol\":\"circle\"},\"mode\":\"markers+lines\",\"name\":\"Intermediate1\",\"orientation\":\"v\",\"showlegend\":true,\"x\":[\"2015\",\"2014\",\"2013\",\"2012\",\"2011\",\"2010\",\"2009\",\"2008\",\"2007\",\"2006\"],\"xaxis\":\"x\",\"y\":[1394.0,12241.0,41602.0,45882.0,45645.0,44837.0,43061.0,40693.0,37490.0,32352.0],\"yaxis\":\"y\",\"type\":\"scatter\"},{\"hovertemplate\":\"Level=Intermediate1<br>variable=Entries<br>Year=%{x}<br>value=%{y}<extra></extra>\",\"legendgroup\":\"Intermediate1\",\"line\":{\"color\":\"#19d3f3\",\"dash\":\"solid\"},\"marker\":{\"symbol\":\"circle\"},\"mode\":\"markers+lines\",\"name\":\"Intermediate1\",\"orientation\":\"v\",\"showlegend\":false,\"x\":[\"2015\",\"2014\",\"2013\",\"2012\",\"2011\",\"2010\",\"2009\",\"2008\",\"2007\",\"2006\"],\"xaxis\":\"x\",\"y\":[1553.0,18679.0,69605.0,74383.0,72324.0,69834.0,65735.0,60267.0,53840.0,45174.0],\"yaxis\":\"y\",\"type\":\"scatter\"},{\"hovertemplate\":\"Level=Intermediate1<br>variable=Passes<br>Year=%{x}<br>value=%{y}<extra></extra>\",\"legendgroup\":\"Intermediate1\",\"line\":{\"color\":\"#19d3f3\",\"dash\":\"solid\"},\"marker\":{\"symbol\":\"circle\"},\"mode\":\"markers+lines\",\"name\":\"Intermediate1\",\"orientation\":\"v\",\"showlegend\":false,\"x\":[\"2015\",\"2014\",\"2013\",\"2012\",\"2011\",\"2010\",\"2009\",\"2008\",\"2007\",\"2006\"],\"xaxis\":\"x\",\"y\":[1179.0,13738.0,55159.0,57966.0,55963.0,52115.0,49675.0,45066.0,39163.0,32582.0],\"yaxis\":\"y\",\"type\":\"scatter\"},{\"hovertemplate\":\"Level=Intermediate1<br>variable=As<br>Year=%{x}<br>value=%{y}<extra></extra>\",\"legendgroup\":\"Intermediate1\",\"line\":{\"color\":\"#19d3f3\",\"dash\":\"solid\"},\"marker\":{\"symbol\":\"circle\"},\"mode\":\"markers+lines\",\"name\":\"Intermediate1\",\"orientation\":\"v\",\"showlegend\":false,\"x\":[\"2015\",\"2014\",\"2013\",\"2012\",\"2011\",\"2010\",\"2009\",\"2008\",\"2007\",\"2006\"],\"xaxis\":\"x\",\"y\":[473.0,4434.0,19546.0,20163.0,20101.0,18709.0,20595.0,17314.0,14920.0,12657.0],\"yaxis\":\"y\",\"type\":\"scatter\"},{\"hovertemplate\":\"Level=Standard_Grade<br>variable=Students<br>Year=%{x}<br>value=%{y}<extra></extra>\",\"legendgroup\":\"Standard_Grade\",\"line\":{\"color\":\"#FF6692\",\"dash\":\"solid\"},\"marker\":{\"symbol\":\"circle\"},\"mode\":\"markers+lines\",\"name\":\"Standard_Grade\",\"orientation\":\"v\",\"showlegend\":true,\"x\":[\"2013\",\"2012\",\"2011\",\"2010\",\"2009\",\"2008\",\"2007\",\"2006\"],\"xaxis\":\"x\",\"y\":[55596.0,59966.0,61777.0,63298.0,65705.0,68705.0,68384.0,66365.0],\"yaxis\":\"y\",\"type\":\"scatter\"},{\"hovertemplate\":\"Level=Standard_Grade<br>variable=Entries<br>Year=%{x}<br>value=%{y}<extra></extra>\",\"legendgroup\":\"Standard_Grade\",\"line\":{\"color\":\"#FF6692\",\"dash\":\"solid\"},\"marker\":{\"symbol\":\"circle\"},\"mode\":\"markers+lines\",\"name\":\"Standard_Grade\",\"orientation\":\"v\",\"showlegend\":false,\"x\":[\"2013\",\"2012\",\"2011\",\"2010\",\"2009\",\"2008\",\"2007\",\"2006\"],\"xaxis\":\"x\",\"y\":[308248.0,320021.0,330690.0,339208.0,358519.0,386915.0,404693.0,415874.0],\"yaxis\":\"y\",\"type\":\"scatter\"},{\"hovertemplate\":\"Level=Standard_Grade<br>variable=Passes<br>Year=%{x}<br>value=%{y}<extra></extra>\",\"legendgroup\":\"Standard_Grade\",\"line\":{\"color\":\"#FF6692\",\"dash\":\"solid\"},\"marker\":{\"symbol\":\"circle\"},\"mode\":\"markers+lines\",\"name\":\"Standard_Grade\",\"orientation\":\"v\",\"showlegend\":false,\"x\":[\"2013\",\"2012\",\"2011\",\"2010\",\"2009\",\"2008\",\"2007\",\"2006\"],\"xaxis\":\"x\",\"y\":[276027.0,283415.0,289539.0,296737.0,312815.0,333511.0,344101.0,357414.0],\"yaxis\":\"y\",\"type\":\"scatter\"},{\"hovertemplate\":\"Level=Standard_Grade<br>variable=As<br>Year=%{x}<br>value=%{y}<extra></extra>\",\"legendgroup\":\"Standard_Grade\",\"line\":{\"color\":\"#FF6692\",\"dash\":\"solid\"},\"marker\":{\"symbol\":\"circle\"},\"mode\":\"markers+lines\",\"name\":\"Standard_Grade\",\"orientation\":\"v\",\"showlegend\":false,\"x\":[\"2013\",\"2012\",\"2011\",\"2010\",\"2009\",\"2008\",\"2007\",\"2006\"],\"xaxis\":\"x\",\"y\":[155626.0,156934.0,158264.0,160895.0,167938.0,174903.0,175947.0,188161.0],\"yaxis\":\"y\",\"type\":\"scatter\"}],                        {\"template\":{\"data\":{\"histogram2dcontour\":[{\"type\":\"histogram2dcontour\",\"colorbar\":{\"outlinewidth\":0,\"ticks\":\"\"},\"colorscale\":[[0.0,\"#0d0887\"],[0.1111111111111111,\"#46039f\"],[0.2222222222222222,\"#7201a8\"],[0.3333333333333333,\"#9c179e\"],[0.4444444444444444,\"#bd3786\"],[0.5555555555555556,\"#d8576b\"],[0.6666666666666666,\"#ed7953\"],[0.7777777777777778,\"#fb9f3a\"],[0.8888888888888888,\"#fdca26\"],[1.0,\"#f0f921\"]]}],\"choropleth\":[{\"type\":\"choropleth\",\"colorbar\":{\"outlinewidth\":0,\"ticks\":\"\"}}],\"histogram2d\":[{\"type\":\"histogram2d\",\"colorbar\":{\"outlinewidth\":0,\"ticks\":\"\"},\"colorscale\":[[0.0,\"#0d0887\"],[0.1111111111111111,\"#46039f\"],[0.2222222222222222,\"#7201a8\"],[0.3333333333333333,\"#9c179e\"],[0.4444444444444444,\"#bd3786\"],[0.5555555555555556,\"#d8576b\"],[0.6666666666666666,\"#ed7953\"],[0.7777777777777778,\"#fb9f3a\"],[0.8888888888888888,\"#fdca26\"],[1.0,\"#f0f921\"]]}],\"heatmap\":[{\"type\":\"heatmap\",\"colorbar\":{\"outlinewidth\":0,\"ticks\":\"\"},\"colorscale\":[[0.0,\"#0d0887\"],[0.1111111111111111,\"#46039f\"],[0.2222222222222222,\"#7201a8\"],[0.3333333333333333,\"#9c179e\"],[0.4444444444444444,\"#bd3786\"],[0.5555555555555556,\"#d8576b\"],[0.6666666666666666,\"#ed7953\"],[0.7777777777777778,\"#fb9f3a\"],[0.8888888888888888,\"#fdca26\"],[1.0,\"#f0f921\"]]}],\"heatmapgl\":[{\"type\":\"heatmapgl\",\"colorbar\":{\"outlinewidth\":0,\"ticks\":\"\"},\"colorscale\":[[0.0,\"#0d0887\"],[0.1111111111111111,\"#46039f\"],[0.2222222222222222,\"#7201a8\"],[0.3333333333333333,\"#9c179e\"],[0.4444444444444444,\"#bd3786\"],[0.5555555555555556,\"#d8576b\"],[0.6666666666666666,\"#ed7953\"],[0.7777777777777778,\"#fb9f3a\"],[0.8888888888888888,\"#fdca26\"],[1.0,\"#f0f921\"]]}],\"contourcarpet\":[{\"type\":\"contourcarpet\",\"colorbar\":{\"outlinewidth\":0,\"ticks\":\"\"}}],\"contour\":[{\"type\":\"contour\",\"colorbar\":{\"outlinewidth\":0,\"ticks\":\"\"},\"colorscale\":[[0.0,\"#0d0887\"],[0.1111111111111111,\"#46039f\"],[0.2222222222222222,\"#7201a8\"],[0.3333333333333333,\"#9c179e\"],[0.4444444444444444,\"#bd3786\"],[0.5555555555555556,\"#d8576b\"],[0.6666666666666666,\"#ed7953\"],[0.7777777777777778,\"#fb9f3a\"],[0.8888888888888888,\"#fdca26\"],[1.0,\"#f0f921\"]]}],\"surface\":[{\"type\":\"surface\",\"colorbar\":{\"outlinewidth\":0,\"ticks\":\"\"},\"colorscale\":[[0.0,\"#0d0887\"],[0.1111111111111111,\"#46039f\"],[0.2222222222222222,\"#7201a8\"],[0.3333333333333333,\"#9c179e\"],[0.4444444444444444,\"#bd3786\"],[0.5555555555555556,\"#d8576b\"],[0.6666666666666666,\"#ed7953\"],[0.7777777777777778,\"#fb9f3a\"],[0.8888888888888888,\"#fdca26\"],[1.0,\"#f0f921\"]]}],\"mesh3d\":[{\"type\":\"mesh3d\",\"colorbar\":{\"outlinewidth\":0,\"ticks\":\"\"}}],\"scatter\":[{\"fillpattern\":{\"fillmode\":\"overlay\",\"size\":10,\"solidity\":0.2},\"type\":\"scatter\"}],\"parcoords\":[{\"type\":\"parcoords\",\"line\":{\"colorbar\":{\"outlinewidth\":0,\"ticks\":\"\"}}}],\"scatterpolargl\":[{\"type\":\"scatterpolargl\",\"marker\":{\"colorbar\":{\"outlinewidth\":0,\"ticks\":\"\"}}}],\"bar\":[{\"error_x\":{\"color\":\"#2a3f5f\"},\"error_y\":{\"color\":\"#2a3f5f\"},\"marker\":{\"line\":{\"color\":\"#E5ECF6\",\"width\":0.5},\"pattern\":{\"fillmode\":\"overlay\",\"size\":10,\"solidity\":0.2}},\"type\":\"bar\"}],\"scattergeo\":[{\"type\":\"scattergeo\",\"marker\":{\"colorbar\":{\"outlinewidth\":0,\"ticks\":\"\"}}}],\"scatterpolar\":[{\"type\":\"scatterpolar\",\"marker\":{\"colorbar\":{\"outlinewidth\":0,\"ticks\":\"\"}}}],\"histogram\":[{\"marker\":{\"pattern\":{\"fillmode\":\"overlay\",\"size\":10,\"solidity\":0.2}},\"type\":\"histogram\"}],\"scattergl\":[{\"type\":\"scattergl\",\"marker\":{\"colorbar\":{\"outlinewidth\":0,\"ticks\":\"\"}}}],\"scatter3d\":[{\"type\":\"scatter3d\",\"line\":{\"colorbar\":{\"outlinewidth\":0,\"ticks\":\"\"}},\"marker\":{\"colorbar\":{\"outlinewidth\":0,\"ticks\":\"\"}}}],\"scattermapbox\":[{\"type\":\"scattermapbox\",\"marker\":{\"colorbar\":{\"outlinewidth\":0,\"ticks\":\"\"}}}],\"scatterternary\":[{\"type\":\"scatterternary\",\"marker\":{\"colorbar\":{\"outlinewidth\":0,\"ticks\":\"\"}}}],\"scattercarpet\":[{\"type\":\"scattercarpet\",\"marker\":{\"colorbar\":{\"outlinewidth\":0,\"ticks\":\"\"}}}],\"carpet\":[{\"aaxis\":{\"endlinecolor\":\"#2a3f5f\",\"gridcolor\":\"white\",\"linecolor\":\"white\",\"minorgridcolor\":\"white\",\"startlinecolor\":\"#2a3f5f\"},\"baxis\":{\"endlinecolor\":\"#2a3f5f\",\"gridcolor\":\"white\",\"linecolor\":\"white\",\"minorgridcolor\":\"white\",\"startlinecolor\":\"#2a3f5f\"},\"type\":\"carpet\"}],\"table\":[{\"cells\":{\"fill\":{\"color\":\"#EBF0F8\"},\"line\":{\"color\":\"white\"}},\"header\":{\"fill\":{\"color\":\"#C8D4E3\"},\"line\":{\"color\":\"white\"}},\"type\":\"table\"}],\"barpolar\":[{\"marker\":{\"line\":{\"color\":\"#E5ECF6\",\"width\":0.5},\"pattern\":{\"fillmode\":\"overlay\",\"size\":10,\"solidity\":0.2}},\"type\":\"barpolar\"}],\"pie\":[{\"automargin\":true,\"type\":\"pie\"}]},\"layout\":{\"autotypenumbers\":\"strict\",\"colorway\":[\"#636efa\",\"#EF553B\",\"#00cc96\",\"#ab63fa\",\"#FFA15A\",\"#19d3f3\",\"#FF6692\",\"#B6E880\",\"#FF97FF\",\"#FECB52\"],\"font\":{\"color\":\"#2a3f5f\"},\"hovermode\":\"closest\",\"hoverlabel\":{\"align\":\"left\"},\"paper_bgcolor\":\"white\",\"plot_bgcolor\":\"#E5ECF6\",\"polar\":{\"bgcolor\":\"#E5ECF6\",\"angularaxis\":{\"gridcolor\":\"white\",\"linecolor\":\"white\",\"ticks\":\"\"},\"radialaxis\":{\"gridcolor\":\"white\",\"linecolor\":\"white\",\"ticks\":\"\"}},\"ternary\":{\"bgcolor\":\"#E5ECF6\",\"aaxis\":{\"gridcolor\":\"white\",\"linecolor\":\"white\",\"ticks\":\"\"},\"baxis\":{\"gridcolor\":\"white\",\"linecolor\":\"white\",\"ticks\":\"\"},\"caxis\":{\"gridcolor\":\"white\",\"linecolor\":\"white\",\"ticks\":\"\"}},\"coloraxis\":{\"colorbar\":{\"outlinewidth\":0,\"ticks\":\"\"}},\"colorscale\":{\"sequential\":[[0.0,\"#0d0887\"],[0.1111111111111111,\"#46039f\"],[0.2222222222222222,\"#7201a8\"],[0.3333333333333333,\"#9c179e\"],[0.4444444444444444,\"#bd3786\"],[0.5555555555555556,\"#d8576b\"],[0.6666666666666666,\"#ed7953\"],[0.7777777777777778,\"#fb9f3a\"],[0.8888888888888888,\"#fdca26\"],[1.0,\"#f0f921\"]],\"sequentialminus\":[[0.0,\"#0d0887\"],[0.1111111111111111,\"#46039f\"],[0.2222222222222222,\"#7201a8\"],[0.3333333333333333,\"#9c179e\"],[0.4444444444444444,\"#bd3786\"],[0.5555555555555556,\"#d8576b\"],[0.6666666666666666,\"#ed7953\"],[0.7777777777777778,\"#fb9f3a\"],[0.8888888888888888,\"#fdca26\"],[1.0,\"#f0f921\"]],\"diverging\":[[0,\"#8e0152\"],[0.1,\"#c51b7d\"],[0.2,\"#de77ae\"],[0.3,\"#f1b6da\"],[0.4,\"#fde0ef\"],[0.5,\"#f7f7f7\"],[0.6,\"#e6f5d0\"],[0.7,\"#b8e186\"],[0.8,\"#7fbc41\"],[0.9,\"#4d9221\"],[1,\"#276419\"]]},\"xaxis\":{\"gridcolor\":\"white\",\"linecolor\":\"white\",\"ticks\":\"\",\"title\":{\"standoff\":15},\"zerolinecolor\":\"white\",\"automargin\":true,\"zerolinewidth\":2},\"yaxis\":{\"gridcolor\":\"white\",\"linecolor\":\"white\",\"ticks\":\"\",\"title\":{\"standoff\":15},\"zerolinecolor\":\"white\",\"automargin\":true,\"zerolinewidth\":2},\"scene\":{\"xaxis\":{\"backgroundcolor\":\"#E5ECF6\",\"gridcolor\":\"white\",\"linecolor\":\"white\",\"showbackground\":true,\"ticks\":\"\",\"zerolinecolor\":\"white\",\"gridwidth\":2},\"yaxis\":{\"backgroundcolor\":\"#E5ECF6\",\"gridcolor\":\"white\",\"linecolor\":\"white\",\"showbackground\":true,\"ticks\":\"\",\"zerolinecolor\":\"white\",\"gridwidth\":2},\"zaxis\":{\"backgroundcolor\":\"#E5ECF6\",\"gridcolor\":\"white\",\"linecolor\":\"white\",\"showbackground\":true,\"ticks\":\"\",\"zerolinecolor\":\"white\",\"gridwidth\":2}},\"shapedefaults\":{\"line\":{\"color\":\"#2a3f5f\"}},\"annotationdefaults\":{\"arrowcolor\":\"#2a3f5f\",\"arrowhead\":0,\"arrowwidth\":1},\"geo\":{\"bgcolor\":\"white\",\"landcolor\":\"#E5ECF6\",\"subunitcolor\":\"white\",\"showland\":true,\"showlakes\":true,\"lakecolor\":\"white\"},\"title\":{\"x\":0.05},\"mapbox\":{\"style\":\"light\"}}},\"xaxis\":{\"anchor\":\"y\",\"domain\":[0.0,1.0],\"title\":{\"text\":\"Year\"},\"categoryorder\":\"array\",\"categoryarray\":[\"2006\",\"2007\",\"2008\",\"2009\",\"2010\",\"2011\",\"2012\",\"2013\",\"2014\",\"2015\",\"2016\",\"2017\",\"2018\",\"2019\",\"2020\",\"2021\"]},\"yaxis\":{\"anchor\":\"x\",\"domain\":[0.0,1.0],\"title\":{\"text\":\"value\"},\"rangemode\":\"tozero\"},\"legend\":{\"title\":{\"text\":\"Level\"},\"tracegroupgap\":0},\"title\":{\"text\":\"Total Students, Entries, Passes and As 2016 - 2021\"},\"height\":800,\"width\":800},                        {\"responsive\": true}                    ).then(function(){\n",
       "                            \n",
       "var gd = document.getElementById('9b72a962-0aa7-4997-b76b-1533d3f48d5a');\n",
       "var x = new MutationObserver(function (mutations, observer) {{\n",
       "        var display = window.getComputedStyle(gd).display;\n",
       "        if (!display || display === 'none') {{\n",
       "            console.log([gd, 'removed!']);\n",
       "            Plotly.purge(gd);\n",
       "            observer.disconnect();\n",
       "        }}\n",
       "}});\n",
       "\n",
       "// Listen for the removal of the full notebook cells\n",
       "var notebookContainer = gd.closest('#notebook-container');\n",
       "if (notebookContainer) {{\n",
       "    x.observe(notebookContainer, {childList: true});\n",
       "}}\n",
       "\n",
       "// Listen for the clearing of the current output cell\n",
       "var outputEl = gd.closest('.output');\n",
       "if (outputEl) {{\n",
       "    x.observe(outputEl, {childList: true});\n",
       "}}\n",
       "\n",
       "                        })                };                });            </script>        </div>"
      ]
     },
     "metadata": {},
     "output_type": "display_data"
    }
   ],
   "source": [
    "# Plot graph\n",
    "\n",
    "# Create a list of subjects in alphabetical order\n",
    "subjects = sorted(dfc['Level'].unique())\n",
    "years = sorted(dfc['Year'].unique())\n",
    "\n",
    "fig = px.line(dfc, x = \"Year\", y = [\"Students\", \"Entries\", \"Passes\", \"As\"], \n",
    "                color = \"Level\",\n",
    "                #line_dash = 'variable',\n",
    "                width = 800,\n",
    "                height = 800,\n",
    "                category_orders = {'Subject' : subjects, 'Year' : years},\n",
    "                labels = {\"Grades\": \"Category\"},\n",
    "                title = 'Total Students, Entries, Passes and As 2016 - 2021'\n",
    "                )\n",
    "\n",
    "fig.update_traces(mode = \"markers+lines\")\n",
    "\n",
    "fig.update_yaxes(matches = None, rangemode = \"tozero\")\n",
    "\n",
    "fig.update_traces(mode = \"markers+lines\")\n",
    "\n",
    "filename = 'total_students.html'\n",
    "\n",
    "fig.write_html('./graphs/' + filename)\n",
    "\n",
    "fig.show()"
   ]
  },
  {
   "cell_type": "code",
   "execution_count": 3,
   "id": "28286c90",
   "metadata": {},
   "outputs": [],
   "source": [
    "# Setup Chart Studio\n",
    "username = '###' # your username\n",
    "api_key = '###' # your api key - go to profile > settings > regenerate key\n",
    "chart_studio.tools.set_credentials_file(username=username, api_key=api_key)\n",
    "\n",
    "# Upload to Chart Studio\n",
    "#py.plot(fig, filename = filename, auto_open=True)"
   ]
  },
  {
   "cell_type": "code",
   "execution_count": null,
   "id": "4fe677fd",
   "metadata": {},
   "outputs": [],
   "source": []
  }
 ],
 "metadata": {
  "kernelspec": {
   "display_name": "Python 3 (ipykernel)",
   "language": "python",
   "name": "python3"
  },
  "language_info": {
   "codemirror_mode": {
    "name": "ipython",
    "version": 3
   },
   "file_extension": ".py",
   "mimetype": "text/x-python",
   "name": "python",
   "nbconvert_exporter": "python",
   "pygments_lexer": "ipython3",
   "version": "3.10.4"
  }
 },
 "nbformat": 4,
 "nbformat_minor": 5
}
