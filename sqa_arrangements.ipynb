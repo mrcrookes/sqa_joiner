{
 "cells": [
  {
   "cell_type": "markdown",
   "id": "b8ad5d30",
   "metadata": {},
   "source": [
    "# SQA arrangements"
   ]
  },
  {
   "cell_type": "code",
   "execution_count": null,
   "id": "6a677c5c",
   "metadata": {},
   "outputs": [],
   "source": [
    "# Import librarys\n",
    "\n",
    "import pandas as pd\n",
    "import numpy as np"
   ]
  },
  {
   "cell_type": "markdown",
   "id": "41bf3ca2",
   "metadata": {},
   "source": [
    "# Functions"
   ]
  },
  {
   "cell_type": "code",
   "execution_count": null,
   "id": "02c27a08",
   "metadata": {},
   "outputs": [],
   "source": [
    "# Define functions to read sheets\n",
    "\n",
    "def read_grades(level):\n",
    "\n",
    "    # Read in sheet skipping the correct number of rows\n",
    "    df = pd.read_excel('./arrangement_data/attainment-statistics-2024.xlsx', \n",
    "                        sheet_name = level, skiprows = 3,\n",
    "                          na_values = ['***', '-', ' -', '[c]', '[z]'], thousands = ',')\n",
    "    \n",
    "    return df\n",
    "\n",
    "def read_arrangements(level):\n",
    "\n",
    "    # Read in sheet skipping the correct number of rows\n",
    "    df = pd.read_excel('./arrangement_data/assessment-arrangements-tables-2024.xlsx', \n",
    "                        sheet_name = level, skiprows = 3,\n",
    "                          na_values = ['***', '-', ' -', '[c]', '[z]'], thousands = ',')\n",
    "    \n",
    "    return df"
   ]
  },
  {
   "cell_type": "code",
   "execution_count": null,
   "id": "18ebb244",
   "metadata": {},
   "outputs": [],
   "source": [
    "## Define functions to tidy data\n",
    "\n",
    "def tidy_df(df):\n",
    "    \n",
    "    #### Fix usual issues with all strings\n",
    "    \n",
    "    # Capitalise headers\n",
    "    df.columns = df.columns.astype(str).str.upper()\n",
    "    \n",
    "    # Rename subject column\n",
    "    df = df.rename(columns={'TITLE': 'SUBJECT'})\n",
    "    \n",
    "    # Capitalise cells\n",
    "    df = df.map(lambda x: x.upper() if type(x) is str else x)\n",
    "\n",
    "    # Strip whitespace\n",
    "    df = df.map(lambda x: x.strip() if type(x) is str else x)\n",
    "\n",
    "    # Remove parenthesis\n",
    "    df = df.map(lambda x: x.replace('(', '') if type(x) is str else x)\n",
    "    df = df.map(lambda x: x.replace(')', '') if type(x) is str else x)\n",
    "    \n",
    "    # Remove linebreaks\n",
    "    df = df.map(lambda x: x.replace('\\n', '') if type(x) is str else x)\n",
    "\n",
    "    # Replace annoying substrings\n",
    "    df = df.map(lambda x: x.replace(' AND ', ' & ') if type(x) is str else x)\n",
    "    df = df.map(lambda x: x.replace(' – ', ' - ') if type(x) is str else x)\n",
    "    df = df.map(lambda x: x.replace(' / ', '/') if type(x) is str else x)\n",
    "    df = df.map(lambda x: x.replace('/ ', '/') if type(x) is str else x)\n",
    "    df = df.map(lambda x: x.replace(' /', '/') if type(x) is str else x)\n",
    "    \n",
    "    df = df.map(lambda x: x.replace(' - ', ': ') if type(x) is str else x)\n",
    "    df = df.map(lambda x: x.replace(' : ', ': ') if type(x) is str else x)\n",
    "    \n",
    "    df = df.map(lambda x: x.replace('  ', ' ') if type(x) is str else x)\n",
    "    \n",
    "    # Drop rows with minimum number of 2 non-null values\n",
    "    df = df.dropna(thresh=2)\n",
    "\n",
    "    # Drop rows with columns number of 2 non-null values\n",
    "    df = df.dropna(axis='columns', thresh=2)\n",
    "    \n",
    "    return df"
   ]
  },
  {
   "cell_type": "code",
   "execution_count": null,
   "id": "7432e21c",
   "metadata": {},
   "outputs": [],
   "source": [
    "# Define functions to count grades\n",
    "\n",
    "def grade_count(df, year):\n",
    "    \n",
    "    # Change columns from percentages to counts\n",
    "    df['A'] = df['GRADE A COUNT ' + year]\n",
    "    df['B'] = df['GRADE A-B COUNT ' + year] - df['GRADE A COUNT ' + year]\n",
    "    df['C'] = df['GRADE A-C COUNT ' + year] - df['GRADE A-B COUNT ' + year]\n",
    "    df['D'] = df['GRADE A-D COUNT ' + year] - df['GRADE A-C COUNT ' + year]\n",
    "    \n",
    "    return df\n",
    "\n",
    "def pass_fail(df):\n",
    "    \n",
    "    # Replace nans with zeros\n",
    "    df = df.fillna(0)\n",
    "    \n",
    "    # Add column with na count\n",
    "    df['NA'] = df['ENTRIES'] - df['A'] - df['B'] - df['C'] - df['D']\n",
    "    \n",
    "    # Add column with pass count\n",
    "    df['PASS'] = df['ENTRIES'] - df['NA']\n",
    "    \n",
    "    return df"
   ]
  },
  {
   "cell_type": "markdown",
   "id": "2c18245e",
   "metadata": {},
   "source": [
    "# Read in and process excel files"
   ]
  },
  {
   "cell_type": "code",
   "execution_count": null,
   "id": "e8944db1",
   "metadata": {},
   "outputs": [],
   "source": [
    "# Create empty list for dfs\n",
    "frames = []"
   ]
  },
  {
   "cell_type": "code",
   "execution_count": null,
   "id": "842a6cfb",
   "metadata": {},
   "outputs": [],
   "source": [
    "## Read in attainment data\n",
    "\n",
    "# Define level and years\n",
    "levels = ['National_5', 'Higher', 'Advanced_Higher']\n",
    "years = ['2019', '2022', '2023', '2024']\n",
    "\n",
    "# Define header to search for\n",
    "header = 'subject'\n",
    "\n",
    "# Create empty dataframe\n",
    "dfl = pd.DataFrame()\n",
    "\n",
    "for level in levels:\n",
    "    \n",
    "    for year in years:    \n",
    "        \n",
    "        # Read and tidy data\n",
    "        df = read_grades(level)\n",
    "        df = tidy_df(df)\n",
    "\n",
    "        # Calculate grade counts\n",
    "        df = grade_count(df,year)\n",
    "        \n",
    "        # Simplify column headings for year in loop\n",
    "        df['ENTRIES'] = df['ENTRIES ' + year] \n",
    "\n",
    "        # Calculate pass and fails\n",
    "        df = pass_fail(df)\n",
    "\n",
    "        # Change into long format\n",
    "        dfl = pd.melt(df, id_vars =['SUBJECT'], \n",
    "                value_vars = ['ENTRIES', 'A', 'B', 'C', 'D', 'PASS', 'NA'],\n",
    "                        var_name ='GRADE', value_name ='COUNT')\n",
    "\n",
    "        # Add in year and level columns\n",
    "        dfl['YEAR'] = int(year)\n",
    "        dfl['LEVEL'] = level\n",
    "\n",
    "        # Append to df list\n",
    "        frames.append(dfl)"
   ]
  },
  {
   "cell_type": "code",
   "execution_count": null,
   "id": "58d446cc",
   "metadata": {},
   "outputs": [],
   "source": [
    "## Read in additional arrangements data\n",
    "\n",
    "# Define level and years\n",
    "levels = {'National_5': 'Table_2.1', 'Higher': 'Table_2.2', 'Advanced_Higher': 'Table_2.3'}\n",
    "years = ['2019', '2022', '2023', '2024']\n",
    "\n",
    "# Define header to search for\n",
    "header = 'subject'\n",
    "\n",
    "# Create empty dataframe\n",
    "dfl = pd.DataFrame()\n",
    "\n",
    "for level, sheet in levels.items():\n",
    "        \n",
    "    # Read and tidy data\n",
    "    df = read_arrangements(sheet)\n",
    "    df = tidy_df(df)\n",
    "\n",
    "    # Change into long format\n",
    "    dfl = pd.melt(df, id_vars =['SUBJECT'], \n",
    "            value_vars = ['2024', '2023', '2022', '2019'],\n",
    "                    var_name ='YEAR', value_name ='COUNT')\n",
    "\n",
    "    # Add in grade and level columns\n",
    "    dfl['GRADE'] = 'AA'\n",
    "    dfl['LEVEL'] = level\n",
    "\n",
    "    # Append to df list\n",
    "    frames.append(dfl)"
   ]
  },
  {
   "cell_type": "code",
   "execution_count": null,
   "id": "1e716a7a",
   "metadata": {},
   "outputs": [],
   "source": [
    "# df.columns\n",
    "# df.head()\n",
    "dfl.head()"
   ]
  },
  {
   "cell_type": "markdown",
   "id": "8b6002f6",
   "metadata": {},
   "source": [
    "# Tidy up"
   ]
  },
  {
   "cell_type": "code",
   "execution_count": null,
   "id": "72f629b0",
   "metadata": {},
   "outputs": [],
   "source": [
    "# Concat list of dfs together\n",
    "dft = pd.concat(frames)\n",
    "\n",
    "# Drop rows with any nans\n",
    "dft = dft.dropna()\n",
    "\n",
    "# Tidy rows\n",
    "dft = tidy_df(dft)\n",
    "\n",
    "# Sort out row order and reset index\n",
    "dft = dft.sort_values(['YEAR', 'LEVEL', 'SUBJECT', 'GRADE'])\n",
    "dft = dft.reset_index(drop=True)"
   ]
  },
  {
   "cell_type": "code",
   "execution_count": null,
   "id": "99a0606d",
   "metadata": {},
   "outputs": [],
   "source": [
    "# Select a subset of the df\n",
    "#dft.loc[(dft['SUBJECT'] == 'HEALTH & SOCIAL CARE')]\n",
    "#sorted(dft['LEVEL'].unique())\n",
    "dft.head()"
   ]
  },
  {
   "cell_type": "markdown",
   "id": "52ca43ea",
   "metadata": {},
   "source": [
    "# Export to .csv"
   ]
  },
  {
   "cell_type": "code",
   "execution_count": null,
   "id": "329b3734",
   "metadata": {},
   "outputs": [],
   "source": [
    "dft.to_csv('./output_csvs/arrangements.csv', index=False)"
   ]
  }
 ],
 "metadata": {
  "kernelspec": {
   "display_name": "Python 3 (ipykernel)",
   "language": "python",
   "name": "python3"
  },
  "language_info": {
   "codemirror_mode": {
    "name": "ipython",
    "version": 3
   },
   "file_extension": ".py",
   "mimetype": "text/x-python",
   "name": "python",
   "nbconvert_exporter": "python",
   "pygments_lexer": "ipython3",
   "version": "3.12.3"
  }
 },
 "nbformat": 4,
 "nbformat_minor": 5
}
