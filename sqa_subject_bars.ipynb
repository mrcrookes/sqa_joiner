{
 "cells": [
  {
   "cell_type": "code",
   "execution_count": 1,
   "id": "351e9e34",
   "metadata": {},
   "outputs": [],
   "source": [
    "# Import key librarys\n",
    "\n",
    "import pandas as pd\n",
    "import numpy as np\n",
    "\n",
    "import plotly.express as px\n",
    "\n",
    "import chart_studio\n",
    "import chart_studio.plotly as py\n",
    "import chart_studio.tools as tls"
   ]
  },
  {
   "cell_type": "code",
   "execution_count": 2,
   "id": "76e97a41",
   "metadata": {},
   "outputs": [],
   "source": [
    "# Setup Chart Studio\n",
    "username = 'mrcrookes' # your username\n",
    "api_key = 'ZgEVmRwdEN7u8cqkga9A' # your api key - go to profile > settings > regenerate key\n",
    "chart_studio.tools.set_credentials_file(username=username, api_key=api_key)"
   ]
  },
  {
   "cell_type": "code",
   "execution_count": 42,
   "id": "ef265087",
   "metadata": {},
   "outputs": [],
   "source": [
    "# Define level\n",
    "level = 'Advanced_Higher'\n",
    "level_label = level.replace('_', ' ')\n",
    "\n",
    "# Import data\n",
    "ind_df = pd.read_excel(\"attainment-statistics-(august)-2022-provisional-centre-independent.ods\", \n",
    "                       engine = \"odf\", sheet_name = level, skiprows = 2)\n",
    "\n",
    "state_df = pd.read_excel(\"attainment-statistics-(august)-2022-provisional-centre-education-authority.ods\", \n",
    "                        engine = \"odf\", sheet_name = level, skiprows = 2)"
   ]
  },
  {
   "cell_type": "code",
   "execution_count": 43,
   "id": "4777f37a",
   "metadata": {},
   "outputs": [],
   "source": [
    "def tidy_up_1(df):\n",
    "    \n",
    "    # Remove spaces and replace with '_'\n",
    "    df.columns = df.columns.str.replace(' ','_')\n",
    "\n",
    "    #df.drop(df[df.Grade_A_Count_2022 == '[z]'].index, inplace=True)\n",
    "    df = df.replace('[z]', np.nan)\n",
    "    df = df.replace('[c]', np.nan)\n",
    "    df = df.replace('[low]', np.nan)\n",
    "\n",
    "    # Remove last row\n",
    "    df = df.drop(df.index[-1])\n",
    "\n",
    "    # Remove columns with Percentage in the heading\n",
    "    df = df[df.columns.drop(list(df.filter(regex='Percentage')))]\n",
    "    \n",
    "    return df\n",
    "    \n",
    "ind_df = tidy_up_1(ind_df)\n",
    "state_df = tidy_up_1(state_df)"
   ]
  },
  {
   "cell_type": "code",
   "execution_count": 44,
   "id": "53988880",
   "metadata": {},
   "outputs": [],
   "source": [
    "def tidy_up_2(df):\n",
    "\n",
    "    # Create a list of years\n",
    "    years = ['2022', '2021', '2020', '2019', '2018']\n",
    "\n",
    "    # Sort out column titles\n",
    "    for year in years:\n",
    "        df = df.rename({'Grade_A_Count_' + year: 'As_' + year}, axis=1)\n",
    "        df = df.rename({'Grades_A-B_Count_' + year: 'A-Bs_' + year}, axis=1)\n",
    "        df = df.rename({'Grades_A-C_Count_' + year: 'A-Cs_' + year}, axis=1)\n",
    "        df = df.rename({'Grades_A-D_Count_' + year: 'A-Ds_' + year}, axis=1)\n",
    "        df = df.rename({'No_Award_Count_' + year: 'NAs_' + year}, axis=1)\n",
    "\n",
    "    # Calculate number of Bs, Cs and Ds\n",
    "    for year in years:\n",
    "        df['Bs_' + year] = df['A-Bs_' + year] - df['As_' + year]\n",
    "        df['Cs_' + year] = df['A-Cs_' + year] - df['A-Bs_' + year]\n",
    "        df['Ds_' + year] = df['A-Ds_' + year] - df['A-Cs_' + year]\n",
    "\n",
    "    # Remove original columns\n",
    "    for year in years:\n",
    "        df.drop('A-Bs_' + year, axis=1, inplace=True)\n",
    "        df.drop('A-Cs_' + year, axis=1, inplace=True)\n",
    "        df.drop('A-Ds_' + year, axis=1, inplace=True)\n",
    "        \n",
    "    return df\n",
    "        \n",
    "ind_df = tidy_up_2(ind_df)\n",
    "state_df = tidy_up_2(state_df)"
   ]
  },
  {
   "cell_type": "code",
   "execution_count": 45,
   "id": "25adda0c",
   "metadata": {},
   "outputs": [
    {
     "data": {
      "text/html": [
       "<div>\n",
       "<style scoped>\n",
       "    .dataframe tbody tr th:only-of-type {\n",
       "        vertical-align: middle;\n",
       "    }\n",
       "\n",
       "    .dataframe tbody tr th {\n",
       "        vertical-align: top;\n",
       "    }\n",
       "\n",
       "    .dataframe thead th {\n",
       "        text-align: right;\n",
       "    }\n",
       "</style>\n",
       "<table border=\"1\" class=\"dataframe\">\n",
       "  <thead>\n",
       "    <tr style=\"text-align: right;\">\n",
       "      <th></th>\n",
       "      <th>Subject</th>\n",
       "      <th>As_2022</th>\n",
       "      <th>NAs_2022</th>\n",
       "      <th>Entries_2022</th>\n",
       "      <th>As_2021</th>\n",
       "      <th>NAs_2021</th>\n",
       "      <th>Entries_2021</th>\n",
       "      <th>As_2020</th>\n",
       "      <th>NAs_2020</th>\n",
       "      <th>Entries_2020</th>\n",
       "      <th>...</th>\n",
       "      <th>Ds_2021</th>\n",
       "      <th>Bs_2020</th>\n",
       "      <th>Cs_2020</th>\n",
       "      <th>Ds_2020</th>\n",
       "      <th>Bs_2019</th>\n",
       "      <th>Cs_2019</th>\n",
       "      <th>Ds_2019</th>\n",
       "      <th>Bs_2018</th>\n",
       "      <th>Cs_2018</th>\n",
       "      <th>Ds_2018</th>\n",
       "    </tr>\n",
       "  </thead>\n",
       "  <tbody>\n",
       "    <tr>\n",
       "      <th>0</th>\n",
       "      <td>Accounting</td>\n",
       "      <td>10.0</td>\n",
       "      <td>0.0</td>\n",
       "      <td>15.0</td>\n",
       "      <td>20.0</td>\n",
       "      <td>0.0</td>\n",
       "      <td>25.0</td>\n",
       "      <td>15.0</td>\n",
       "      <td>0.0</td>\n",
       "      <td>20.0</td>\n",
       "      <td>...</td>\n",
       "      <td>0.0</td>\n",
       "      <td>0.0</td>\n",
       "      <td>5.0</td>\n",
       "      <td>0.0</td>\n",
       "      <td>5.0</td>\n",
       "      <td>5.0</td>\n",
       "      <td>0.0</td>\n",
       "      <td>0.0</td>\n",
       "      <td>0.0</td>\n",
       "      <td>0.0</td>\n",
       "    </tr>\n",
       "    <tr>\n",
       "      <th>1</th>\n",
       "      <td>Art and Design (Design)</td>\n",
       "      <td>40.0</td>\n",
       "      <td>0.0</td>\n",
       "      <td>60.0</td>\n",
       "      <td>35.0</td>\n",
       "      <td>0.0</td>\n",
       "      <td>45.0</td>\n",
       "      <td>35.0</td>\n",
       "      <td>0.0</td>\n",
       "      <td>45.0</td>\n",
       "      <td>...</td>\n",
       "      <td>0.0</td>\n",
       "      <td>5.0</td>\n",
       "      <td>5.0</td>\n",
       "      <td>0.0</td>\n",
       "      <td>15.0</td>\n",
       "      <td>5.0</td>\n",
       "      <td>0.0</td>\n",
       "      <td>15.0</td>\n",
       "      <td>10.0</td>\n",
       "      <td>0.0</td>\n",
       "    </tr>\n",
       "    <tr>\n",
       "      <th>2</th>\n",
       "      <td>Art and Design (Expressive)</td>\n",
       "      <td>65.0</td>\n",
       "      <td>0.0</td>\n",
       "      <td>95.0</td>\n",
       "      <td>65.0</td>\n",
       "      <td>0.0</td>\n",
       "      <td>85.0</td>\n",
       "      <td>75.0</td>\n",
       "      <td>0.0</td>\n",
       "      <td>95.0</td>\n",
       "      <td>...</td>\n",
       "      <td>0.0</td>\n",
       "      <td>15.0</td>\n",
       "      <td>5.0</td>\n",
       "      <td>0.0</td>\n",
       "      <td>20.0</td>\n",
       "      <td>5.0</td>\n",
       "      <td>0.0</td>\n",
       "      <td>10.0</td>\n",
       "      <td>10.0</td>\n",
       "      <td>0.0</td>\n",
       "    </tr>\n",
       "    <tr>\n",
       "      <th>3</th>\n",
       "      <td>Biology</td>\n",
       "      <td>200.0</td>\n",
       "      <td>15.0</td>\n",
       "      <td>465.0</td>\n",
       "      <td>320.0</td>\n",
       "      <td>5.0</td>\n",
       "      <td>485.0</td>\n",
       "      <td>250.0</td>\n",
       "      <td>NaN</td>\n",
       "      <td>430.0</td>\n",
       "      <td>...</td>\n",
       "      <td>15.0</td>\n",
       "      <td>115.0</td>\n",
       "      <td>55.0</td>\n",
       "      <td>10.0</td>\n",
       "      <td>95.0</td>\n",
       "      <td>65.0</td>\n",
       "      <td>30.0</td>\n",
       "      <td>110.0</td>\n",
       "      <td>75.0</td>\n",
       "      <td>20.0</td>\n",
       "    </tr>\n",
       "    <tr>\n",
       "      <th>4</th>\n",
       "      <td>Business Management</td>\n",
       "      <td>90.0</td>\n",
       "      <td>10.0</td>\n",
       "      <td>240.0</td>\n",
       "      <td>110.0</td>\n",
       "      <td>NaN</td>\n",
       "      <td>165.0</td>\n",
       "      <td>120.0</td>\n",
       "      <td>0.0</td>\n",
       "      <td>180.0</td>\n",
       "      <td>...</td>\n",
       "      <td>5.0</td>\n",
       "      <td>35.0</td>\n",
       "      <td>25.0</td>\n",
       "      <td>0.0</td>\n",
       "      <td>30.0</td>\n",
       "      <td>30.0</td>\n",
       "      <td>5.0</td>\n",
       "      <td>40.0</td>\n",
       "      <td>25.0</td>\n",
       "      <td>10.0</td>\n",
       "    </tr>\n",
       "  </tbody>\n",
       "</table>\n",
       "<p>5 rows × 31 columns</p>\n",
       "</div>"
      ],
      "text/plain": [
       "                       Subject  As_2022  NAs_2022  Entries_2022  As_2021  \\\n",
       "0                   Accounting     10.0       0.0          15.0     20.0   \n",
       "1      Art and Design (Design)     40.0       0.0          60.0     35.0   \n",
       "2  Art and Design (Expressive)     65.0       0.0          95.0     65.0   \n",
       "3                      Biology    200.0      15.0         465.0    320.0   \n",
       "4          Business Management     90.0      10.0         240.0    110.0   \n",
       "\n",
       "   NAs_2021  Entries_2021  As_2020  NAs_2020  Entries_2020  ...  Ds_2021  \\\n",
       "0       0.0          25.0     15.0       0.0          20.0  ...      0.0   \n",
       "1       0.0          45.0     35.0       0.0          45.0  ...      0.0   \n",
       "2       0.0          85.0     75.0       0.0          95.0  ...      0.0   \n",
       "3       5.0         485.0    250.0       NaN         430.0  ...     15.0   \n",
       "4       NaN         165.0    120.0       0.0         180.0  ...      5.0   \n",
       "\n",
       "   Bs_2020  Cs_2020  Ds_2020  Bs_2019  Cs_2019  Ds_2019  Bs_2018  Cs_2018  \\\n",
       "0      0.0      5.0      0.0      5.0      5.0      0.0      0.0      0.0   \n",
       "1      5.0      5.0      0.0     15.0      5.0      0.0     15.0     10.0   \n",
       "2     15.0      5.0      0.0     20.0      5.0      0.0     10.0     10.0   \n",
       "3    115.0     55.0     10.0     95.0     65.0     30.0    110.0     75.0   \n",
       "4     35.0     25.0      0.0     30.0     30.0      5.0     40.0     25.0   \n",
       "\n",
       "   Ds_2018  \n",
       "0      0.0  \n",
       "1      0.0  \n",
       "2      0.0  \n",
       "3     20.0  \n",
       "4     10.0  \n",
       "\n",
       "[5 rows x 31 columns]"
      ]
     },
     "execution_count": 45,
     "metadata": {},
     "output_type": "execute_result"
    }
   ],
   "source": [
    "ind_df.head()"
   ]
  },
  {
   "cell_type": "code",
   "execution_count": 46,
   "id": "112fdc8b",
   "metadata": {},
   "outputs": [
    {
     "data": {
      "text/html": [
       "<div>\n",
       "<style scoped>\n",
       "    .dataframe tbody tr th:only-of-type {\n",
       "        vertical-align: middle;\n",
       "    }\n",
       "\n",
       "    .dataframe tbody tr th {\n",
       "        vertical-align: top;\n",
       "    }\n",
       "\n",
       "    .dataframe thead th {\n",
       "        text-align: right;\n",
       "    }\n",
       "</style>\n",
       "<table border=\"1\" class=\"dataframe\">\n",
       "  <thead>\n",
       "    <tr style=\"text-align: right;\">\n",
       "      <th></th>\n",
       "      <th>Subject</th>\n",
       "      <th>Count</th>\n",
       "      <th>Grades</th>\n",
       "      <th>Year</th>\n",
       "    </tr>\n",
       "  </thead>\n",
       "  <tbody>\n",
       "    <tr>\n",
       "      <th>0</th>\n",
       "      <td>Accounting</td>\n",
       "      <td>15.0</td>\n",
       "      <td>As</td>\n",
       "      <td>2022</td>\n",
       "    </tr>\n",
       "    <tr>\n",
       "      <th>1</th>\n",
       "      <td>Art and Design (Design)</td>\n",
       "      <td>185.0</td>\n",
       "      <td>As</td>\n",
       "      <td>2022</td>\n",
       "    </tr>\n",
       "    <tr>\n",
       "      <th>2</th>\n",
       "      <td>Art and Design (Expressive)</td>\n",
       "      <td>410.0</td>\n",
       "      <td>As</td>\n",
       "      <td>2022</td>\n",
       "    </tr>\n",
       "    <tr>\n",
       "      <th>3</th>\n",
       "      <td>Biology</td>\n",
       "      <td>570.0</td>\n",
       "      <td>As</td>\n",
       "      <td>2022</td>\n",
       "    </tr>\n",
       "    <tr>\n",
       "      <th>4</th>\n",
       "      <td>Business Management</td>\n",
       "      <td>110.0</td>\n",
       "      <td>As</td>\n",
       "      <td>2022</td>\n",
       "    </tr>\n",
       "  </tbody>\n",
       "</table>\n",
       "</div>"
      ],
      "text/plain": [
       "                       Subject  Count Grades  Year\n",
       "0                   Accounting   15.0     As  2022\n",
       "1      Art and Design (Design)  185.0     As  2022\n",
       "2  Art and Design (Expressive)  410.0     As  2022\n",
       "3                      Biology  570.0     As  2022\n",
       "4          Business Management  110.0     As  2022"
      ]
     },
     "execution_count": 46,
     "metadata": {},
     "output_type": "execute_result"
    }
   ],
   "source": [
    "# Convert into long format\n",
    "\n",
    "def tolong(df):\n",
    "    ldf = pd.melt(df, id_vars = ['Subject'], var_name = 'abc', value_name ='Count')\n",
    "    ldf['Grades'] = ldf['abc'].apply(lambda x: (x.rsplit('_', 1))[0])\n",
    "    ldf['Year'] = ldf.pop('abc').apply(lambda x: (x.split('_'))[-1])\n",
    "    \n",
    "    return ldf\n",
    "    \n",
    "ind_ldf = tolong(ind_df)\n",
    "state_ldf = tolong(state_df)\n",
    "\n",
    "state_ldf.head()"
   ]
  },
  {
   "cell_type": "code",
   "execution_count": 47,
   "id": "0b642b39",
   "metadata": {},
   "outputs": [
    {
     "data": {
      "text/html": [
       "<div>\n",
       "<style scoped>\n",
       "    .dataframe tbody tr th:only-of-type {\n",
       "        vertical-align: middle;\n",
       "    }\n",
       "\n",
       "    .dataframe tbody tr th {\n",
       "        vertical-align: top;\n",
       "    }\n",
       "\n",
       "    .dataframe thead th {\n",
       "        text-align: right;\n",
       "    }\n",
       "</style>\n",
       "<table border=\"1\" class=\"dataframe\">\n",
       "  <thead>\n",
       "    <tr style=\"text-align: right;\">\n",
       "      <th></th>\n",
       "      <th>Subject</th>\n",
       "      <th>Count</th>\n",
       "      <th>Grades</th>\n",
       "      <th>Year</th>\n",
       "      <th>School</th>\n",
       "    </tr>\n",
       "  </thead>\n",
       "  <tbody>\n",
       "    <tr>\n",
       "      <th>0</th>\n",
       "      <td>Accounting</td>\n",
       "      <td>10.0</td>\n",
       "      <td>As</td>\n",
       "      <td>2022</td>\n",
       "      <td>Ind</td>\n",
       "    </tr>\n",
       "    <tr>\n",
       "      <th>1</th>\n",
       "      <td>Art and Design (Design)</td>\n",
       "      <td>40.0</td>\n",
       "      <td>As</td>\n",
       "      <td>2022</td>\n",
       "      <td>Ind</td>\n",
       "    </tr>\n",
       "    <tr>\n",
       "      <th>2</th>\n",
       "      <td>Art and Design (Expressive)</td>\n",
       "      <td>65.0</td>\n",
       "      <td>As</td>\n",
       "      <td>2022</td>\n",
       "      <td>Ind</td>\n",
       "    </tr>\n",
       "    <tr>\n",
       "      <th>3</th>\n",
       "      <td>Biology</td>\n",
       "      <td>200.0</td>\n",
       "      <td>As</td>\n",
       "      <td>2022</td>\n",
       "      <td>Ind</td>\n",
       "    </tr>\n",
       "    <tr>\n",
       "      <th>4</th>\n",
       "      <td>Business Management</td>\n",
       "      <td>90.0</td>\n",
       "      <td>As</td>\n",
       "      <td>2022</td>\n",
       "      <td>Ind</td>\n",
       "    </tr>\n",
       "  </tbody>\n",
       "</table>\n",
       "</div>"
      ],
      "text/plain": [
       "                       Subject  Count Grades  Year School\n",
       "0                   Accounting   10.0     As  2022    Ind\n",
       "1      Art and Design (Design)   40.0     As  2022    Ind\n",
       "2  Art and Design (Expressive)   65.0     As  2022    Ind\n",
       "3                      Biology  200.0     As  2022    Ind\n",
       "4          Business Management   90.0     As  2022    Ind"
      ]
     },
     "execution_count": 47,
     "metadata": {},
     "output_type": "execute_result"
    }
   ],
   "source": [
    "ind_ldf['School'] = 'Ind'\n",
    "state_ldf['School'] = 'State'\n",
    "\n",
    "ind_ldf.head()"
   ]
  },
  {
   "cell_type": "code",
   "execution_count": 48,
   "id": "14e4e4ae",
   "metadata": {},
   "outputs": [
    {
     "data": {
      "text/html": [
       "<div>\n",
       "<style scoped>\n",
       "    .dataframe tbody tr th:only-of-type {\n",
       "        vertical-align: middle;\n",
       "    }\n",
       "\n",
       "    .dataframe tbody tr th {\n",
       "        vertical-align: top;\n",
       "    }\n",
       "\n",
       "    .dataframe thead th {\n",
       "        text-align: right;\n",
       "    }\n",
       "</style>\n",
       "<table border=\"1\" class=\"dataframe\">\n",
       "  <thead>\n",
       "    <tr style=\"text-align: right;\">\n",
       "      <th></th>\n",
       "      <th>Subject</th>\n",
       "      <th>Count</th>\n",
       "      <th>Grades</th>\n",
       "      <th>Year</th>\n",
       "      <th>School</th>\n",
       "    </tr>\n",
       "  </thead>\n",
       "  <tbody>\n",
       "    <tr>\n",
       "      <th>0</th>\n",
       "      <td>Accounting</td>\n",
       "      <td>15.0</td>\n",
       "      <td>As</td>\n",
       "      <td>2022</td>\n",
       "      <td>State</td>\n",
       "    </tr>\n",
       "    <tr>\n",
       "      <th>1</th>\n",
       "      <td>Art and Design (Design)</td>\n",
       "      <td>185.0</td>\n",
       "      <td>As</td>\n",
       "      <td>2022</td>\n",
       "      <td>State</td>\n",
       "    </tr>\n",
       "    <tr>\n",
       "      <th>2</th>\n",
       "      <td>Art and Design (Expressive)</td>\n",
       "      <td>410.0</td>\n",
       "      <td>As</td>\n",
       "      <td>2022</td>\n",
       "      <td>State</td>\n",
       "    </tr>\n",
       "    <tr>\n",
       "      <th>3</th>\n",
       "      <td>Biology</td>\n",
       "      <td>570.0</td>\n",
       "      <td>As</td>\n",
       "      <td>2022</td>\n",
       "      <td>State</td>\n",
       "    </tr>\n",
       "    <tr>\n",
       "      <th>4</th>\n",
       "      <td>Business Management</td>\n",
       "      <td>110.0</td>\n",
       "      <td>As</td>\n",
       "      <td>2022</td>\n",
       "      <td>State</td>\n",
       "    </tr>\n",
       "    <tr>\n",
       "      <th>5</th>\n",
       "      <td>Chemistry</td>\n",
       "      <td>645.0</td>\n",
       "      <td>As</td>\n",
       "      <td>2022</td>\n",
       "      <td>State</td>\n",
       "    </tr>\n",
       "    <tr>\n",
       "      <th>6</th>\n",
       "      <td>Chinese Languages</td>\n",
       "      <td>15.0</td>\n",
       "      <td>As</td>\n",
       "      <td>2022</td>\n",
       "      <td>State</td>\n",
       "    </tr>\n",
       "    <tr>\n",
       "      <th>7</th>\n",
       "      <td>Classical Studies</td>\n",
       "      <td>0.0</td>\n",
       "      <td>As</td>\n",
       "      <td>2022</td>\n",
       "      <td>State</td>\n",
       "    </tr>\n",
       "    <tr>\n",
       "      <th>8</th>\n",
       "      <td>Computing Science</td>\n",
       "      <td>180.0</td>\n",
       "      <td>As</td>\n",
       "      <td>2022</td>\n",
       "      <td>State</td>\n",
       "    </tr>\n",
       "    <tr>\n",
       "      <th>9</th>\n",
       "      <td>Design and Manufacture</td>\n",
       "      <td>20.0</td>\n",
       "      <td>As</td>\n",
       "      <td>2022</td>\n",
       "      <td>State</td>\n",
       "    </tr>\n",
       "  </tbody>\n",
       "</table>\n",
       "</div>"
      ],
      "text/plain": [
       "                       Subject  Count Grades  Year School\n",
       "0                   Accounting   15.0     As  2022  State\n",
       "1      Art and Design (Design)  185.0     As  2022  State\n",
       "2  Art and Design (Expressive)  410.0     As  2022  State\n",
       "3                      Biology  570.0     As  2022  State\n",
       "4          Business Management  110.0     As  2022  State\n",
       "5                    Chemistry  645.0     As  2022  State\n",
       "6            Chinese Languages   15.0     As  2022  State\n",
       "7            Classical Studies    0.0     As  2022  State\n",
       "8            Computing Science  180.0     As  2022  State\n",
       "9       Design and Manufacture   20.0     As  2022  State"
      ]
     },
     "execution_count": 48,
     "metadata": {},
     "output_type": "execute_result"
    }
   ],
   "source": [
    "# Merge together two df\n",
    "dfc = pd.concat([state_ldf, ind_ldf])\n",
    "\n",
    "dfc.head()\n",
    "\n",
    "dfc.head(10)"
   ]
  },
  {
   "cell_type": "code",
   "execution_count": 49,
   "id": "47eea23a",
   "metadata": {},
   "outputs": [
    {
     "name": "stdout",
     "output_type": "stream",
     "text": [
      "<class 'pandas.core.frame.DataFrame'>\n",
      "Int64Index: 2040 entries, 0 to 989\n",
      "Data columns (total 5 columns):\n",
      " #   Column   Non-Null Count  Dtype  \n",
      "---  ------   --------------  -----  \n",
      " 0   Subject  2040 non-null   object \n",
      " 1   Count    1783 non-null   float64\n",
      " 2   Grades   2040 non-null   object \n",
      " 3   Year     2040 non-null   object \n",
      " 4   School   2040 non-null   object \n",
      "dtypes: float64(1), object(4)\n",
      "memory usage: 95.6+ KB\n"
     ]
    }
   ],
   "source": [
    "dfc.info()"
   ]
  },
  {
   "cell_type": "code",
   "execution_count": 50,
   "id": "3f475c23",
   "metadata": {},
   "outputs": [
    {
     "data": {
      "application/vnd.plotly.v1+json": {
       "config": {
        "plotlyServerURL": "https://plotly.com"
       },
       "data": [
        {
         "alignmentgroup": "True",
         "hovertemplate": "Subject=Accounting<br>Year=2022<br>School=State<br>Grades=%{x}<br>Students=%{y}<extra></extra>",
         "legendgroup": "Accounting",
         "marker": {
          "color": "#636efa",
          "opacity": 0.5,
          "pattern": {
           "shape": ""
          }
         },
         "name": "Accounting",
         "offsetgroup": "Accounting",
         "orientation": "v",
         "showlegend": true,
         "textposition": "auto",
         "type": "bar",
         "x": [
          "As",
          "NAs",
          "Entries",
          "Bs",
          "Cs",
          "Ds"
         ],
         "xaxis": "x9",
         "y": [
          15,
          5,
          45,
          15,
          10,
          0
         ],
         "yaxis": "y9"
        },
        {
         "alignmentgroup": "True",
         "hovertemplate": "Subject=Accounting<br>Year=2022<br>School=Ind<br>Grades=%{x}<br>Students=%{y}<extra></extra>",
         "legendgroup": "Accounting",
         "marker": {
          "color": "#636efa",
          "opacity": 0.5,
          "pattern": {
           "shape": ""
          }
         },
         "name": "Accounting",
         "offsetgroup": "Accounting",
         "orientation": "v",
         "showlegend": false,
         "textposition": "auto",
         "type": "bar",
         "x": [
          "As",
          "NAs",
          "Entries",
          "Bs",
          "Cs",
          "Ds"
         ],
         "xaxis": "x10",
         "y": [
          10,
          0,
          15,
          5,
          0,
          0
         ],
         "yaxis": "y10"
        },
        {
         "alignmentgroup": "True",
         "hovertemplate": "Subject=Accounting<br>Year=2021<br>School=State<br>Grades=%{x}<br>Students=%{y}<extra></extra>",
         "legendgroup": "Accounting",
         "marker": {
          "color": "#636efa",
          "opacity": 0.5,
          "pattern": {
           "shape": ""
          }
         },
         "name": "Accounting",
         "offsetgroup": "Accounting",
         "orientation": "v",
         "showlegend": false,
         "textposition": "auto",
         "type": "bar",
         "x": [
          "As",
          "NAs",
          "Entries",
          "Bs",
          "Cs",
          "Ds"
         ],
         "xaxis": "x7",
         "y": [
          25,
          5,
          50,
          5,
          10,
          5
         ],
         "yaxis": "y7"
        },
        {
         "alignmentgroup": "True",
         "hovertemplate": "Subject=Accounting<br>Year=2021<br>School=Ind<br>Grades=%{x}<br>Students=%{y}<extra></extra>",
         "legendgroup": "Accounting",
         "marker": {
          "color": "#636efa",
          "opacity": 0.5,
          "pattern": {
           "shape": ""
          }
         },
         "name": "Accounting",
         "offsetgroup": "Accounting",
         "orientation": "v",
         "showlegend": false,
         "textposition": "auto",
         "type": "bar",
         "x": [
          "As",
          "NAs",
          "Entries",
          "Bs",
          "Cs",
          "Ds"
         ],
         "xaxis": "x8",
         "y": [
          20,
          0,
          25,
          5,
          0,
          0
         ],
         "yaxis": "y8"
        },
        {
         "alignmentgroup": "True",
         "hovertemplate": "Subject=Accounting<br>Year=2020<br>School=State<br>Grades=%{x}<br>Students=%{y}<extra></extra>",
         "legendgroup": "Accounting",
         "marker": {
          "color": "#636efa",
          "opacity": 0.5,
          "pattern": {
           "shape": ""
          }
         },
         "name": "Accounting",
         "offsetgroup": "Accounting",
         "orientation": "v",
         "showlegend": false,
         "textposition": "auto",
         "type": "bar",
         "x": [
          "As",
          "NAs",
          "Entries",
          "Bs",
          "Cs",
          "Ds"
         ],
         "xaxis": "x5",
         "y": [
          30,
          null,
          45,
          5,
          5,
          0
         ],
         "yaxis": "y5"
        },
        {
         "alignmentgroup": "True",
         "hovertemplate": "Subject=Accounting<br>Year=2020<br>School=Ind<br>Grades=%{x}<br>Students=%{y}<extra></extra>",
         "legendgroup": "Accounting",
         "marker": {
          "color": "#636efa",
          "opacity": 0.5,
          "pattern": {
           "shape": ""
          }
         },
         "name": "Accounting",
         "offsetgroup": "Accounting",
         "orientation": "v",
         "showlegend": false,
         "textposition": "auto",
         "type": "bar",
         "x": [
          "As",
          "NAs",
          "Entries",
          "Bs",
          "Cs",
          "Ds"
         ],
         "xaxis": "x6",
         "y": [
          15,
          0,
          20,
          0,
          5,
          0
         ],
         "yaxis": "y6"
        },
        {
         "alignmentgroup": "True",
         "hovertemplate": "Subject=Accounting<br>Year=2019<br>School=State<br>Grades=%{x}<br>Students=%{y}<extra></extra>",
         "legendgroup": "Accounting",
         "marker": {
          "color": "#636efa",
          "opacity": 0.5,
          "pattern": {
           "shape": ""
          }
         },
         "name": "Accounting",
         "offsetgroup": "Accounting",
         "orientation": "v",
         "showlegend": false,
         "textposition": "auto",
         "type": "bar",
         "x": [
          "As",
          "NAs",
          "Entries",
          "Bs",
          "Cs",
          "Ds"
         ],
         "xaxis": "x3",
         "y": [
          15,
          null,
          45,
          10,
          10,
          5
         ],
         "yaxis": "y3"
        },
        {
         "alignmentgroup": "True",
         "hovertemplate": "Subject=Accounting<br>Year=2019<br>School=Ind<br>Grades=%{x}<br>Students=%{y}<extra></extra>",
         "legendgroup": "Accounting",
         "marker": {
          "color": "#636efa",
          "opacity": 0.5,
          "pattern": {
           "shape": ""
          }
         },
         "name": "Accounting",
         "offsetgroup": "Accounting",
         "orientation": "v",
         "showlegend": false,
         "textposition": "auto",
         "type": "bar",
         "x": [
          "As",
          "NAs",
          "Entries",
          "Bs",
          "Cs",
          "Ds"
         ],
         "xaxis": "x4",
         "y": [
          10,
          0,
          20,
          5,
          5,
          0
         ],
         "yaxis": "y4"
        },
        {
         "alignmentgroup": "True",
         "hovertemplate": "Subject=Accounting<br>Year=2018<br>School=State<br>Grades=%{x}<br>Students=%{y}<extra></extra>",
         "legendgroup": "Accounting",
         "marker": {
          "color": "#636efa",
          "opacity": 0.5,
          "pattern": {
           "shape": ""
          }
         },
         "name": "Accounting",
         "offsetgroup": "Accounting",
         "orientation": "v",
         "showlegend": false,
         "textposition": "auto",
         "type": "bar",
         "x": [
          "As",
          "NAs",
          "Entries",
          "Bs",
          "Cs",
          "Ds"
         ],
         "xaxis": "x",
         "y": [
          15,
          null,
          40,
          15,
          5,
          5
         ],
         "yaxis": "y"
        },
        {
         "alignmentgroup": "True",
         "hovertemplate": "Subject=Accounting<br>Year=2018<br>School=Ind<br>Grades=%{x}<br>Students=%{y}<extra></extra>",
         "legendgroup": "Accounting",
         "marker": {
          "color": "#636efa",
          "opacity": 0.5,
          "pattern": {
           "shape": ""
          }
         },
         "name": "Accounting",
         "offsetgroup": "Accounting",
         "orientation": "v",
         "showlegend": false,
         "textposition": "auto",
         "type": "bar",
         "x": [
          "As",
          "NAs",
          "Entries",
          "Bs",
          "Cs",
          "Ds"
         ],
         "xaxis": "x2",
         "y": [
          15,
          0,
          15,
          0,
          0,
          0
         ],
         "yaxis": "y2"
        },
        {
         "alignmentgroup": "True",
         "hovertemplate": "Subject=Art and Design (Design)<br>Year=2022<br>School=State<br>Grades=%{x}<br>Students=%{y}<extra></extra>",
         "legendgroup": "Art and Design (Design)",
         "marker": {
          "color": "#EF553B",
          "opacity": 0.5,
          "pattern": {
           "shape": ""
          }
         },
         "name": "Art and Design (Design)",
         "offsetgroup": "Art and Design (Design)",
         "orientation": "v",
         "showlegend": true,
         "textposition": "auto",
         "type": "bar",
         "x": [
          "As",
          "NAs",
          "Entries",
          "Bs",
          "Cs",
          "Ds"
         ],
         "xaxis": "x9",
         "y": [
          185,
          10,
          605,
          190,
          180,
          40
         ],
         "yaxis": "y9"
        },
        {
         "alignmentgroup": "True",
         "hovertemplate": "Subject=Art and Design (Design)<br>Year=2022<br>School=Ind<br>Grades=%{x}<br>Students=%{y}<extra></extra>",
         "legendgroup": "Art and Design (Design)",
         "marker": {
          "color": "#EF553B",
          "opacity": 0.5,
          "pattern": {
           "shape": ""
          }
         },
         "name": "Art and Design (Design)",
         "offsetgroup": "Art and Design (Design)",
         "orientation": "v",
         "showlegend": false,
         "textposition": "auto",
         "type": "bar",
         "x": [
          "As",
          "NAs",
          "Entries",
          "Bs",
          "Cs",
          "Ds"
         ],
         "xaxis": "x10",
         "y": [
          40,
          0,
          60,
          10,
          10,
          0
         ],
         "yaxis": "y10"
        },
        {
         "alignmentgroup": "True",
         "hovertemplate": "Subject=Art and Design (Design)<br>Year=2021<br>School=State<br>Grades=%{x}<br>Students=%{y}<extra></extra>",
         "legendgroup": "Art and Design (Design)",
         "marker": {
          "color": "#EF553B",
          "opacity": 0.5,
          "pattern": {
           "shape": ""
          }
         },
         "name": "Art and Design (Design)",
         "offsetgroup": "Art and Design (Design)",
         "orientation": "v",
         "showlegend": false,
         "textposition": "auto",
         "type": "bar",
         "x": [
          "As",
          "NAs",
          "Entries",
          "Bs",
          "Cs",
          "Ds"
         ],
         "xaxis": "x7",
         "y": [
          260,
          15,
          590,
          180,
          115,
          20
         ],
         "yaxis": "y7"
        },
        {
         "alignmentgroup": "True",
         "hovertemplate": "Subject=Art and Design (Design)<br>Year=2021<br>School=Ind<br>Grades=%{x}<br>Students=%{y}<extra></extra>",
         "legendgroup": "Art and Design (Design)",
         "marker": {
          "color": "#EF553B",
          "opacity": 0.5,
          "pattern": {
           "shape": ""
          }
         },
         "name": "Art and Design (Design)",
         "offsetgroup": "Art and Design (Design)",
         "orientation": "v",
         "showlegend": false,
         "textposition": "auto",
         "type": "bar",
         "x": [
          "As",
          "NAs",
          "Entries",
          "Bs",
          "Cs",
          "Ds"
         ],
         "xaxis": "x8",
         "y": [
          35,
          0,
          45,
          10,
          0,
          0
         ],
         "yaxis": "y8"
        },
        {
         "alignmentgroup": "True",
         "hovertemplate": "Subject=Art and Design (Design)<br>Year=2020<br>School=State<br>Grades=%{x}<br>Students=%{y}<extra></extra>",
         "legendgroup": "Art and Design (Design)",
         "marker": {
          "color": "#EF553B",
          "opacity": 0.5,
          "pattern": {
           "shape": ""
          }
         },
         "name": "Art and Design (Design)",
         "offsetgroup": "Art and Design (Design)",
         "orientation": "v",
         "showlegend": false,
         "textposition": "auto",
         "type": "bar",
         "x": [
          "As",
          "NAs",
          "Entries",
          "Bs",
          "Cs",
          "Ds"
         ],
         "xaxis": "x5",
         "y": [
          210,
          10,
          495,
          175,
          85,
          15
         ],
         "yaxis": "y5"
        },
        {
         "alignmentgroup": "True",
         "hovertemplate": "Subject=Art and Design (Design)<br>Year=2020<br>School=Ind<br>Grades=%{x}<br>Students=%{y}<extra></extra>",
         "legendgroup": "Art and Design (Design)",
         "marker": {
          "color": "#EF553B",
          "opacity": 0.5,
          "pattern": {
           "shape": ""
          }
         },
         "name": "Art and Design (Design)",
         "offsetgroup": "Art and Design (Design)",
         "orientation": "v",
         "showlegend": false,
         "textposition": "auto",
         "type": "bar",
         "x": [
          "As",
          "NAs",
          "Entries",
          "Bs",
          "Cs",
          "Ds"
         ],
         "xaxis": "x6",
         "y": [
          35,
          0,
          45,
          5,
          5,
          0
         ],
         "yaxis": "y6"
        },
        {
         "alignmentgroup": "True",
         "hovertemplate": "Subject=Art and Design (Design)<br>Year=2019<br>School=State<br>Grades=%{x}<br>Students=%{y}<extra></extra>",
         "legendgroup": "Art and Design (Design)",
         "marker": {
          "color": "#EF553B",
          "opacity": 0.5,
          "pattern": {
           "shape": ""
          }
         },
         "name": "Art and Design (Design)",
         "offsetgroup": "Art and Design (Design)",
         "orientation": "v",
         "showlegend": false,
         "textposition": "auto",
         "type": "bar",
         "x": [
          "As",
          "NAs",
          "Entries",
          "Bs",
          "Cs",
          "Ds"
         ],
         "xaxis": "x3",
         "y": [
          160,
          20,
          460,
          125,
          130,
          25
         ],
         "yaxis": "y3"
        },
        {
         "alignmentgroup": "True",
         "hovertemplate": "Subject=Art and Design (Design)<br>Year=2019<br>School=Ind<br>Grades=%{x}<br>Students=%{y}<extra></extra>",
         "legendgroup": "Art and Design (Design)",
         "marker": {
          "color": "#EF553B",
          "opacity": 0.5,
          "pattern": {
           "shape": ""
          }
         },
         "name": "Art and Design (Design)",
         "offsetgroup": "Art and Design (Design)",
         "orientation": "v",
         "showlegend": false,
         "textposition": "auto",
         "type": "bar",
         "x": [
          "As",
          "NAs",
          "Entries",
          "Bs",
          "Cs",
          "Ds"
         ],
         "xaxis": "x4",
         "y": [
          25,
          0,
          45,
          15,
          5,
          0
         ],
         "yaxis": "y4"
        },
        {
         "alignmentgroup": "True",
         "hovertemplate": "Subject=Art and Design (Design)<br>Year=2018<br>School=State<br>Grades=%{x}<br>Students=%{y}<extra></extra>",
         "legendgroup": "Art and Design (Design)",
         "marker": {
          "color": "#EF553B",
          "opacity": 0.5,
          "pattern": {
           "shape": ""
          }
         },
         "name": "Art and Design (Design)",
         "offsetgroup": "Art and Design (Design)",
         "orientation": "v",
         "showlegend": false,
         "textposition": "auto",
         "type": "bar",
         "x": [
          "As",
          "NAs",
          "Entries",
          "Bs",
          "Cs",
          "Ds"
         ],
         "xaxis": "x",
         "y": [
          130,
          15,
          490,
          130,
          180,
          35
         ],
         "yaxis": "y"
        },
        {
         "alignmentgroup": "True",
         "hovertemplate": "Subject=Art and Design (Design)<br>Year=2018<br>School=Ind<br>Grades=%{x}<br>Students=%{y}<extra></extra>",
         "legendgroup": "Art and Design (Design)",
         "marker": {
          "color": "#EF553B",
          "opacity": 0.5,
          "pattern": {
           "shape": ""
          }
         },
         "name": "Art and Design (Design)",
         "offsetgroup": "Art and Design (Design)",
         "orientation": "v",
         "showlegend": false,
         "textposition": "auto",
         "type": "bar",
         "x": [
          "As",
          "NAs",
          "Entries",
          "Bs",
          "Cs",
          "Ds"
         ],
         "xaxis": "x2",
         "y": [
          25,
          0,
          50,
          15,
          10,
          0
         ],
         "yaxis": "y2"
        },
        {
         "alignmentgroup": "True",
         "hovertemplate": "Subject=Art and Design (Expressive)<br>Year=2022<br>School=State<br>Grades=%{x}<br>Students=%{y}<extra></extra>",
         "legendgroup": "Art and Design (Expressive)",
         "marker": {
          "color": "#00cc96",
          "opacity": 0.5,
          "pattern": {
           "shape": ""
          }
         },
         "name": "Art and Design (Expressive)",
         "offsetgroup": "Art and Design (Expressive)",
         "orientation": "v",
         "showlegend": true,
         "textposition": "auto",
         "type": "bar",
         "x": [
          "As",
          "NAs",
          "Entries",
          "Bs",
          "Cs",
          "Ds"
         ],
         "xaxis": "x9",
         "y": [
          410,
          10,
          1185,
          370,
          335,
          60
         ],
         "yaxis": "y9"
        },
        {
         "alignmentgroup": "True",
         "hovertemplate": "Subject=Art and Design (Expressive)<br>Year=2022<br>School=Ind<br>Grades=%{x}<br>Students=%{y}<extra></extra>",
         "legendgroup": "Art and Design (Expressive)",
         "marker": {
          "color": "#00cc96",
          "opacity": 0.5,
          "pattern": {
           "shape": ""
          }
         },
         "name": "Art and Design (Expressive)",
         "offsetgroup": "Art and Design (Expressive)",
         "orientation": "v",
         "showlegend": false,
         "textposition": "auto",
         "type": "bar",
         "x": [
          "As",
          "NAs",
          "Entries",
          "Bs",
          "Cs",
          "Ds"
         ],
         "xaxis": "x10",
         "y": [
          65,
          0,
          95,
          20,
          5,
          5
         ],
         "yaxis": "y10"
        },
        {
         "alignmentgroup": "True",
         "hovertemplate": "Subject=Art and Design (Expressive)<br>Year=2021<br>School=State<br>Grades=%{x}<br>Students=%{y}<extra></extra>",
         "legendgroup": "Art and Design (Expressive)",
         "marker": {
          "color": "#00cc96",
          "opacity": 0.5,
          "pattern": {
           "shape": ""
          }
         },
         "name": "Art and Design (Expressive)",
         "offsetgroup": "Art and Design (Expressive)",
         "orientation": "v",
         "showlegend": false,
         "textposition": "auto",
         "type": "bar",
         "x": [
          "As",
          "NAs",
          "Entries",
          "Bs",
          "Cs",
          "Ds"
         ],
         "xaxis": "x7",
         "y": [
          485,
          20,
          1080,
          355,
          185,
          35
         ],
         "yaxis": "y7"
        },
        {
         "alignmentgroup": "True",
         "hovertemplate": "Subject=Art and Design (Expressive)<br>Year=2021<br>School=Ind<br>Grades=%{x}<br>Students=%{y}<extra></extra>",
         "legendgroup": "Art and Design (Expressive)",
         "marker": {
          "color": "#00cc96",
          "opacity": 0.5,
          "pattern": {
           "shape": ""
          }
         },
         "name": "Art and Design (Expressive)",
         "offsetgroup": "Art and Design (Expressive)",
         "orientation": "v",
         "showlegend": false,
         "textposition": "auto",
         "type": "bar",
         "x": [
          "As",
          "NAs",
          "Entries",
          "Bs",
          "Cs",
          "Ds"
         ],
         "xaxis": "x8",
         "y": [
          65,
          0,
          85,
          15,
          5,
          0
         ],
         "yaxis": "y8"
        },
        {
         "alignmentgroup": "True",
         "hovertemplate": "Subject=Art and Design (Expressive)<br>Year=2020<br>School=State<br>Grades=%{x}<br>Students=%{y}<extra></extra>",
         "legendgroup": "Art and Design (Expressive)",
         "marker": {
          "color": "#00cc96",
          "opacity": 0.5,
          "pattern": {
           "shape": ""
          }
         },
         "name": "Art and Design (Expressive)",
         "offsetgroup": "Art and Design (Expressive)",
         "orientation": "v",
         "showlegend": false,
         "textposition": "auto",
         "type": "bar",
         "x": [
          "As",
          "NAs",
          "Entries",
          "Bs",
          "Cs",
          "Ds"
         ],
         "xaxis": "x5",
         "y": [
          400,
          10,
          925,
          325,
          165,
          25
         ],
         "yaxis": "y5"
        },
        {
         "alignmentgroup": "True",
         "hovertemplate": "Subject=Art and Design (Expressive)<br>Year=2020<br>School=Ind<br>Grades=%{x}<br>Students=%{y}<extra></extra>",
         "legendgroup": "Art and Design (Expressive)",
         "marker": {
          "color": "#00cc96",
          "opacity": 0.5,
          "pattern": {
           "shape": ""
          }
         },
         "name": "Art and Design (Expressive)",
         "offsetgroup": "Art and Design (Expressive)",
         "orientation": "v",
         "showlegend": false,
         "textposition": "auto",
         "type": "bar",
         "x": [
          "As",
          "NAs",
          "Entries",
          "Bs",
          "Cs",
          "Ds"
         ],
         "xaxis": "x6",
         "y": [
          75,
          0,
          95,
          15,
          5,
          0
         ],
         "yaxis": "y6"
        },
        {
         "alignmentgroup": "True",
         "hovertemplate": "Subject=Art and Design (Expressive)<br>Year=2019<br>School=State<br>Grades=%{x}<br>Students=%{y}<extra></extra>",
         "legendgroup": "Art and Design (Expressive)",
         "marker": {
          "color": "#00cc96",
          "opacity": 0.5,
          "pattern": {
           "shape": ""
          }
         },
         "name": "Art and Design (Expressive)",
         "offsetgroup": "Art and Design (Expressive)",
         "orientation": "v",
         "showlegend": false,
         "textposition": "auto",
         "type": "bar",
         "x": [
          "As",
          "NAs",
          "Entries",
          "Bs",
          "Cs",
          "Ds"
         ],
         "xaxis": "x3",
         "y": [
          240,
          25,
          870,
          270,
          275,
          60
         ],
         "yaxis": "y3"
        },
        {
         "alignmentgroup": "True",
         "hovertemplate": "Subject=Art and Design (Expressive)<br>Year=2019<br>School=Ind<br>Grades=%{x}<br>Students=%{y}<extra></extra>",
         "legendgroup": "Art and Design (Expressive)",
         "marker": {
          "color": "#00cc96",
          "opacity": 0.5,
          "pattern": {
           "shape": ""
          }
         },
         "name": "Art and Design (Expressive)",
         "offsetgroup": "Art and Design (Expressive)",
         "orientation": "v",
         "showlegend": false,
         "textposition": "auto",
         "type": "bar",
         "x": [
          "As",
          "NAs",
          "Entries",
          "Bs",
          "Cs",
          "Ds"
         ],
         "xaxis": "x4",
         "y": [
          40,
          0,
          65,
          20,
          5,
          0
         ],
         "yaxis": "y4"
        },
        {
         "alignmentgroup": "True",
         "hovertemplate": "Subject=Art and Design (Expressive)<br>Year=2018<br>School=State<br>Grades=%{x}<br>Students=%{y}<extra></extra>",
         "legendgroup": "Art and Design (Expressive)",
         "marker": {
          "color": "#00cc96",
          "opacity": 0.5,
          "pattern": {
           "shape": ""
          }
         },
         "name": "Art and Design (Expressive)",
         "offsetgroup": "Art and Design (Expressive)",
         "orientation": "v",
         "showlegend": false,
         "textposition": "auto",
         "type": "bar",
         "x": [
          "As",
          "NAs",
          "Entries",
          "Bs",
          "Cs",
          "Ds"
         ],
         "xaxis": "x",
         "y": [
          210,
          30,
          850,
          265,
          285,
          60
         ],
         "yaxis": "y"
        },
        {
         "alignmentgroup": "True",
         "hovertemplate": "Subject=Art and Design (Expressive)<br>Year=2018<br>School=Ind<br>Grades=%{x}<br>Students=%{y}<extra></extra>",
         "legendgroup": "Art and Design (Expressive)",
         "marker": {
          "color": "#00cc96",
          "opacity": 0.5,
          "pattern": {
           "shape": ""
          }
         },
         "name": "Art and Design (Expressive)",
         "offsetgroup": "Art and Design (Expressive)",
         "orientation": "v",
         "showlegend": false,
         "textposition": "auto",
         "type": "bar",
         "x": [
          "As",
          "NAs",
          "Entries",
          "Bs",
          "Cs",
          "Ds"
         ],
         "xaxis": "x2",
         "y": [
          45,
          null,
          70,
          10,
          10,
          0
         ],
         "yaxis": "y2"
        },
        {
         "alignmentgroup": "True",
         "hovertemplate": "Subject=Biology<br>Year=2022<br>School=State<br>Grades=%{x}<br>Students=%{y}<extra></extra>",
         "legendgroup": "Biology",
         "marker": {
          "color": "#ab63fa",
          "opacity": 0.5,
          "pattern": {
           "shape": ""
          }
         },
         "name": "Biology",
         "offsetgroup": "Biology",
         "orientation": "v",
         "showlegend": true,
         "textposition": "auto",
         "type": "bar",
         "x": [
          "As",
          "NAs",
          "Entries",
          "Bs",
          "Cs",
          "Ds"
         ],
         "xaxis": "x9",
         "y": [
          570,
          250,
          2675,
          675,
          705,
          475
         ],
         "yaxis": "y9"
        },
        {
         "alignmentgroup": "True",
         "hovertemplate": "Subject=Biology<br>Year=2022<br>School=Ind<br>Grades=%{x}<br>Students=%{y}<extra></extra>",
         "legendgroup": "Biology",
         "marker": {
          "color": "#ab63fa",
          "opacity": 0.5,
          "pattern": {
           "shape": ""
          }
         },
         "name": "Biology",
         "offsetgroup": "Biology",
         "orientation": "v",
         "showlegend": false,
         "textposition": "auto",
         "type": "bar",
         "x": [
          "As",
          "NAs",
          "Entries",
          "Bs",
          "Cs",
          "Ds"
         ],
         "xaxis": "x10",
         "y": [
          200,
          15,
          465,
          125,
          85,
          40
         ],
         "yaxis": "y10"
        },
        {
         "alignmentgroup": "True",
         "hovertemplate": "Subject=Biology<br>Year=2021<br>School=State<br>Grades=%{x}<br>Students=%{y}<extra></extra>",
         "legendgroup": "Biology",
         "marker": {
          "color": "#ab63fa",
          "opacity": 0.5,
          "pattern": {
           "shape": ""
          }
         },
         "name": "Biology",
         "offsetgroup": "Biology",
         "orientation": "v",
         "showlegend": false,
         "textposition": "auto",
         "type": "bar",
         "x": [
          "As",
          "NAs",
          "Entries",
          "Bs",
          "Cs",
          "Ds"
         ],
         "xaxis": "x7",
         "y": [
          915,
          185,
          2460,
          600,
          500,
          260
         ],
         "yaxis": "y7"
        },
        {
         "alignmentgroup": "True",
         "hovertemplate": "Subject=Biology<br>Year=2021<br>School=Ind<br>Grades=%{x}<br>Students=%{y}<extra></extra>",
         "legendgroup": "Biology",
         "marker": {
          "color": "#ab63fa",
          "opacity": 0.5,
          "pattern": {
           "shape": ""
          }
         },
         "name": "Biology",
         "offsetgroup": "Biology",
         "orientation": "v",
         "showlegend": false,
         "textposition": "auto",
         "type": "bar",
         "x": [
          "As",
          "NAs",
          "Entries",
          "Bs",
          "Cs",
          "Ds"
         ],
         "xaxis": "x8",
         "y": [
          320,
          5,
          485,
          95,
          50,
          15
         ],
         "yaxis": "y8"
        },
        {
         "alignmentgroup": "True",
         "hovertemplate": "Subject=Biology<br>Year=2020<br>School=State<br>Grades=%{x}<br>Students=%{y}<extra></extra>",
         "legendgroup": "Biology",
         "marker": {
          "color": "#ab63fa",
          "opacity": 0.5,
          "pattern": {
           "shape": ""
          }
         },
         "name": "Biology",
         "offsetgroup": "Biology",
         "orientation": "v",
         "showlegend": false,
         "textposition": "auto",
         "type": "bar",
         "x": [
          "As",
          "NAs",
          "Entries",
          "Bs",
          "Cs",
          "Ds"
         ],
         "xaxis": "x5",
         "y": [
          650,
          80,
          2050,
          590,
          550,
          180
         ],
         "yaxis": "y5"
        },
        {
         "alignmentgroup": "True",
         "hovertemplate": "Subject=Biology<br>Year=2020<br>School=Ind<br>Grades=%{x}<br>Students=%{y}<extra></extra>",
         "legendgroup": "Biology",
         "marker": {
          "color": "#ab63fa",
          "opacity": 0.5,
          "pattern": {
           "shape": ""
          }
         },
         "name": "Biology",
         "offsetgroup": "Biology",
         "orientation": "v",
         "showlegend": false,
         "textposition": "auto",
         "type": "bar",
         "x": [
          "As",
          "NAs",
          "Entries",
          "Bs",
          "Cs",
          "Ds"
         ],
         "xaxis": "x6",
         "y": [
          250,
          null,
          430,
          115,
          55,
          10
         ],
         "yaxis": "y6"
        },
        {
         "alignmentgroup": "True",
         "hovertemplate": "Subject=Biology<br>Year=2019<br>School=State<br>Grades=%{x}<br>Students=%{y}<extra></extra>",
         "legendgroup": "Biology",
         "marker": {
          "color": "#ab63fa",
          "opacity": 0.5,
          "pattern": {
           "shape": ""
          }
         },
         "name": "Biology",
         "offsetgroup": "Biology",
         "orientation": "v",
         "showlegend": false,
         "textposition": "auto",
         "type": "bar",
         "x": [
          "As",
          "NAs",
          "Entries",
          "Bs",
          "Cs",
          "Ds"
         ],
         "xaxis": "x3",
         "y": [
          370,
          285,
          1880,
          465,
          505,
          255
         ],
         "yaxis": "y3"
        },
        {
         "alignmentgroup": "True",
         "hovertemplate": "Subject=Biology<br>Year=2019<br>School=Ind<br>Grades=%{x}<br>Students=%{y}<extra></extra>",
         "legendgroup": "Biology",
         "marker": {
          "color": "#ab63fa",
          "opacity": 0.5,
          "pattern": {
           "shape": ""
          }
         },
         "name": "Biology",
         "offsetgroup": "Biology",
         "orientation": "v",
         "showlegend": false,
         "textposition": "auto",
         "type": "bar",
         "x": [
          "As",
          "NAs",
          "Entries",
          "Bs",
          "Cs",
          "Ds"
         ],
         "xaxis": "x4",
         "y": [
          195,
          20,
          400,
          95,
          65,
          30
         ],
         "yaxis": "y4"
        },
        {
         "alignmentgroup": "True",
         "hovertemplate": "Subject=Biology<br>Year=2018<br>School=State<br>Grades=%{x}<br>Students=%{y}<extra></extra>",
         "legendgroup": "Biology",
         "marker": {
          "color": "#ab63fa",
          "opacity": 0.5,
          "pattern": {
           "shape": ""
          }
         },
         "name": "Biology",
         "offsetgroup": "Biology",
         "orientation": "v",
         "showlegend": false,
         "textposition": "auto",
         "type": "bar",
         "x": [
          "As",
          "NAs",
          "Entries",
          "Bs",
          "Cs",
          "Ds"
         ],
         "xaxis": "x",
         "y": [
          370,
          285,
          1885,
          460,
          515,
          250
         ],
         "yaxis": "y"
        },
        {
         "alignmentgroup": "True",
         "hovertemplate": "Subject=Biology<br>Year=2018<br>School=Ind<br>Grades=%{x}<br>Students=%{y}<extra></extra>",
         "legendgroup": "Biology",
         "marker": {
          "color": "#ab63fa",
          "opacity": 0.5,
          "pattern": {
           "shape": ""
          }
         },
         "name": "Biology",
         "offsetgroup": "Biology",
         "orientation": "v",
         "showlegend": false,
         "textposition": "auto",
         "type": "bar",
         "x": [
          "As",
          "NAs",
          "Entries",
          "Bs",
          "Cs",
          "Ds"
         ],
         "xaxis": "x2",
         "y": [
          170,
          20,
          395,
          110,
          75,
          20
         ],
         "yaxis": "y2"
        },
        {
         "alignmentgroup": "True",
         "hovertemplate": "Subject=Business Management<br>Year=2022<br>School=State<br>Grades=%{x}<br>Students=%{y}<extra></extra>",
         "legendgroup": "Business Management",
         "marker": {
          "color": "#FFA15A",
          "opacity": 0.5,
          "pattern": {
           "shape": ""
          }
         },
         "name": "Business Management",
         "offsetgroup": "Business Management",
         "orientation": "v",
         "showlegend": true,
         "textposition": "auto",
         "type": "bar",
         "x": [
          "As",
          "NAs",
          "Entries",
          "Bs",
          "Cs",
          "Ds"
         ],
         "xaxis": "x9",
         "y": [
          110,
          55,
          535,
          120,
          150,
          100
         ],
         "yaxis": "y9"
        },
        {
         "alignmentgroup": "True",
         "hovertemplate": "Subject=Business Management<br>Year=2022<br>School=Ind<br>Grades=%{x}<br>Students=%{y}<extra></extra>",
         "legendgroup": "Business Management",
         "marker": {
          "color": "#FFA15A",
          "opacity": 0.5,
          "pattern": {
           "shape": ""
          }
         },
         "name": "Business Management",
         "offsetgroup": "Business Management",
         "orientation": "v",
         "showlegend": false,
         "textposition": "auto",
         "type": "bar",
         "x": [
          "As",
          "NAs",
          "Entries",
          "Bs",
          "Cs",
          "Ds"
         ],
         "xaxis": "x10",
         "y": [
          90,
          10,
          240,
          65,
          45,
          30
         ],
         "yaxis": "y10"
        },
        {
         "alignmentgroup": "True",
         "hovertemplate": "Subject=Business Management<br>Year=2021<br>School=State<br>Grades=%{x}<br>Students=%{y}<extra></extra>",
         "legendgroup": "Business Management",
         "marker": {
          "color": "#FFA15A",
          "opacity": 0.5,
          "pattern": {
           "shape": ""
          }
         },
         "name": "Business Management",
         "offsetgroup": "Business Management",
         "orientation": "v",
         "showlegend": false,
         "textposition": "auto",
         "type": "bar",
         "x": [
          "As",
          "NAs",
          "Entries",
          "Bs",
          "Cs",
          "Ds"
         ],
         "xaxis": "x7",
         "y": [
          220,
          10,
          405,
          95,
          60,
          20
         ],
         "yaxis": "y7"
        },
        {
         "alignmentgroup": "True",
         "hovertemplate": "Subject=Business Management<br>Year=2021<br>School=Ind<br>Grades=%{x}<br>Students=%{y}<extra></extra>",
         "legendgroup": "Business Management",
         "marker": {
          "color": "#FFA15A",
          "opacity": 0.5,
          "pattern": {
           "shape": ""
          }
         },
         "name": "Business Management",
         "offsetgroup": "Business Management",
         "orientation": "v",
         "showlegend": false,
         "textposition": "auto",
         "type": "bar",
         "x": [
          "As",
          "NAs",
          "Entries",
          "Bs",
          "Cs",
          "Ds"
         ],
         "xaxis": "x8",
         "y": [
          110,
          null,
          165,
          30,
          20,
          5
         ],
         "yaxis": "y8"
        },
        {
         "alignmentgroup": "True",
         "hovertemplate": "Subject=Business Management<br>Year=2020<br>School=State<br>Grades=%{x}<br>Students=%{y}<extra></extra>",
         "legendgroup": "Business Management",
         "marker": {
          "color": "#FFA15A",
          "opacity": 0.5,
          "pattern": {
           "shape": ""
          }
         },
         "name": "Business Management",
         "offsetgroup": "Business Management",
         "orientation": "v",
         "showlegend": false,
         "textposition": "auto",
         "type": "bar",
         "x": [
          "As",
          "NAs",
          "Entries",
          "Bs",
          "Cs",
          "Ds"
         ],
         "xaxis": "x5",
         "y": [
          155,
          5,
          360,
          125,
          60,
          15
         ],
         "yaxis": "y5"
        },
        {
         "alignmentgroup": "True",
         "hovertemplate": "Subject=Business Management<br>Year=2020<br>School=Ind<br>Grades=%{x}<br>Students=%{y}<extra></extra>",
         "legendgroup": "Business Management",
         "marker": {
          "color": "#FFA15A",
          "opacity": 0.5,
          "pattern": {
           "shape": ""
          }
         },
         "name": "Business Management",
         "offsetgroup": "Business Management",
         "orientation": "v",
         "showlegend": false,
         "textposition": "auto",
         "type": "bar",
         "x": [
          "As",
          "NAs",
          "Entries",
          "Bs",
          "Cs",
          "Ds"
         ],
         "xaxis": "x6",
         "y": [
          120,
          0,
          180,
          35,
          25,
          0
         ],
         "yaxis": "y6"
        },
        {
         "alignmentgroup": "True",
         "hovertemplate": "Subject=Business Management<br>Year=2019<br>School=State<br>Grades=%{x}<br>Students=%{y}<extra></extra>",
         "legendgroup": "Business Management",
         "marker": {
          "color": "#FFA15A",
          "opacity": 0.5,
          "pattern": {
           "shape": ""
          }
         },
         "name": "Business Management",
         "offsetgroup": "Business Management",
         "orientation": "v",
         "showlegend": false,
         "textposition": "auto",
         "type": "bar",
         "x": [
          "As",
          "NAs",
          "Entries",
          "Bs",
          "Cs",
          "Ds"
         ],
         "xaxis": "x3",
         "y": [
          65,
          60,
          320,
          75,
          85,
          35
         ],
         "yaxis": "y3"
        },
        {
         "alignmentgroup": "True",
         "hovertemplate": "Subject=Business Management<br>Year=2019<br>School=Ind<br>Grades=%{x}<br>Students=%{y}<extra></extra>",
         "legendgroup": "Business Management",
         "marker": {
          "color": "#FFA15A",
          "opacity": 0.5,
          "pattern": {
           "shape": ""
          }
         },
         "name": "Business Management",
         "offsetgroup": "Business Management",
         "orientation": "v",
         "showlegend": false,
         "textposition": "auto",
         "type": "bar",
         "x": [
          "As",
          "NAs",
          "Entries",
          "Bs",
          "Cs",
          "Ds"
         ],
         "xaxis": "x4",
         "y": [
          50,
          5,
          120,
          30,
          30,
          5
         ],
         "yaxis": "y4"
        },
        {
         "alignmentgroup": "True",
         "hovertemplate": "Subject=Business Management<br>Year=2018<br>School=State<br>Grades=%{x}<br>Students=%{y}<extra></extra>",
         "legendgroup": "Business Management",
         "marker": {
          "color": "#FFA15A",
          "opacity": 0.5,
          "pattern": {
           "shape": ""
          }
         },
         "name": "Business Management",
         "offsetgroup": "Business Management",
         "orientation": "v",
         "showlegend": false,
         "textposition": "auto",
         "type": "bar",
         "x": [
          "As",
          "NAs",
          "Entries",
          "Bs",
          "Cs",
          "Ds"
         ],
         "xaxis": "x",
         "y": [
          70,
          45,
          325,
          95,
          80,
          35
         ],
         "yaxis": "y"
        },
        {
         "alignmentgroup": "True",
         "hovertemplate": "Subject=Business Management<br>Year=2018<br>School=Ind<br>Grades=%{x}<br>Students=%{y}<extra></extra>",
         "legendgroup": "Business Management",
         "marker": {
          "color": "#FFA15A",
          "opacity": 0.5,
          "pattern": {
           "shape": ""
          }
         },
         "name": "Business Management",
         "offsetgroup": "Business Management",
         "orientation": "v",
         "showlegend": false,
         "textposition": "auto",
         "type": "bar",
         "x": [
          "As",
          "NAs",
          "Entries",
          "Bs",
          "Cs",
          "Ds"
         ],
         "xaxis": "x2",
         "y": [
          50,
          5,
          130,
          40,
          25,
          10
         ],
         "yaxis": "y2"
        },
        {
         "alignmentgroup": "True",
         "hovertemplate": "Subject=Chemistry<br>Year=2022<br>School=State<br>Grades=%{x}<br>Students=%{y}<extra></extra>",
         "legendgroup": "Chemistry",
         "marker": {
          "color": "#19d3f3",
          "opacity": 0.5,
          "pattern": {
           "shape": ""
          }
         },
         "name": "Chemistry",
         "offsetgroup": "Chemistry",
         "orientation": "v",
         "showlegend": true,
         "textposition": "auto",
         "type": "bar",
         "x": [
          "As",
          "NAs",
          "Entries",
          "Bs",
          "Cs",
          "Ds"
         ],
         "xaxis": "x9",
         "y": [
          645,
          135,
          2260,
          660,
          500,
          320
         ],
         "yaxis": "y9"
        },
        {
         "alignmentgroup": "True",
         "hovertemplate": "Subject=Chemistry<br>Year=2022<br>School=Ind<br>Grades=%{x}<br>Students=%{y}<extra></extra>",
         "legendgroup": "Chemistry",
         "marker": {
          "color": "#19d3f3",
          "opacity": 0.5,
          "pattern": {
           "shape": ""
          }
         },
         "name": "Chemistry",
         "offsetgroup": "Chemistry",
         "orientation": "v",
         "showlegend": false,
         "textposition": "auto",
         "type": "bar",
         "x": [
          "As",
          "NAs",
          "Entries",
          "Bs",
          "Cs",
          "Ds"
         ],
         "xaxis": "x10",
         "y": [
          240,
          10,
          445,
          115,
          55,
          25
         ],
         "yaxis": "y10"
        },
        {
         "alignmentgroup": "True",
         "hovertemplate": "Subject=Chemistry<br>Year=2021<br>School=State<br>Grades=%{x}<br>Students=%{y}<extra></extra>",
         "legendgroup": "Chemistry",
         "marker": {
          "color": "#19d3f3",
          "opacity": 0.5,
          "pattern": {
           "shape": ""
          }
         },
         "name": "Chemistry",
         "offsetgroup": "Chemistry",
         "orientation": "v",
         "showlegend": false,
         "textposition": "auto",
         "type": "bar",
         "x": [
          "As",
          "NAs",
          "Entries",
          "Bs",
          "Cs",
          "Ds"
         ],
         "xaxis": "x7",
         "y": [
          890,
          155,
          2165,
          525,
          405,
          185
         ],
         "yaxis": "y7"
        },
        {
         "alignmentgroup": "True",
         "hovertemplate": "Subject=Chemistry<br>Year=2021<br>School=Ind<br>Grades=%{x}<br>Students=%{y}<extra></extra>",
         "legendgroup": "Chemistry",
         "marker": {
          "color": "#19d3f3",
          "opacity": 0.5,
          "pattern": {
           "shape": ""
          }
         },
         "name": "Chemistry",
         "offsetgroup": "Chemistry",
         "orientation": "v",
         "showlegend": false,
         "textposition": "auto",
         "type": "bar",
         "x": [
          "As",
          "NAs",
          "Entries",
          "Bs",
          "Cs",
          "Ds"
         ],
         "xaxis": "x8",
         "y": [
          310,
          10,
          485,
          110,
          40,
          15
         ],
         "yaxis": "y8"
        },
        {
         "alignmentgroup": "True",
         "hovertemplate": "Subject=Chemistry<br>Year=2020<br>School=State<br>Grades=%{x}<br>Students=%{y}<extra></extra>",
         "legendgroup": "Chemistry",
         "marker": {
          "color": "#19d3f3",
          "opacity": 0.5,
          "pattern": {
           "shape": ""
          }
         },
         "name": "Chemistry",
         "offsetgroup": "Chemistry",
         "orientation": "v",
         "showlegend": false,
         "textposition": "auto",
         "type": "bar",
         "x": [
          "As",
          "NAs",
          "Entries",
          "Bs",
          "Cs",
          "Ds"
         ],
         "xaxis": "x5",
         "y": [
          795,
          45,
          2065,
          610,
          490,
          125
         ],
         "yaxis": "y5"
        },
        {
         "alignmentgroup": "True",
         "hovertemplate": "Subject=Chemistry<br>Year=2020<br>School=Ind<br>Grades=%{x}<br>Students=%{y}<extra></extra>",
         "legendgroup": "Chemistry",
         "marker": {
          "color": "#19d3f3",
          "opacity": 0.5,
          "pattern": {
           "shape": ""
          }
         },
         "name": "Chemistry",
         "offsetgroup": "Chemistry",
         "orientation": "v",
         "showlegend": false,
         "textposition": "auto",
         "type": "bar",
         "x": [
          "As",
          "NAs",
          "Entries",
          "Bs",
          "Cs",
          "Ds"
         ],
         "xaxis": "x6",
         "y": [
          290,
          null,
          450,
          95,
          55,
          5
         ],
         "yaxis": "y6"
        },
        {
         "alignmentgroup": "True",
         "hovertemplate": "Subject=Chemistry<br>Year=2019<br>School=State<br>Grades=%{x}<br>Students=%{y}<extra></extra>",
         "legendgroup": "Chemistry",
         "marker": {
          "color": "#19d3f3",
          "opacity": 0.5,
          "pattern": {
           "shape": ""
          }
         },
         "name": "Chemistry",
         "offsetgroup": "Chemistry",
         "orientation": "v",
         "showlegend": false,
         "textposition": "auto",
         "type": "bar",
         "x": [
          "As",
          "NAs",
          "Entries",
          "Bs",
          "Cs",
          "Ds"
         ],
         "xaxis": "x3",
         "y": [
          590,
          235,
          1980,
          520,
          475,
          165
         ],
         "yaxis": "y3"
        },
        {
         "alignmentgroup": "True",
         "hovertemplate": "Subject=Chemistry<br>Year=2019<br>School=Ind<br>Grades=%{x}<br>Students=%{y}<extra></extra>",
         "legendgroup": "Chemistry",
         "marker": {
          "color": "#19d3f3",
          "opacity": 0.5,
          "pattern": {
           "shape": ""
          }
         },
         "name": "Chemistry",
         "offsetgroup": "Chemistry",
         "orientation": "v",
         "showlegend": false,
         "textposition": "auto",
         "type": "bar",
         "x": [
          "As",
          "NAs",
          "Entries",
          "Bs",
          "Cs",
          "Ds"
         ],
         "xaxis": "x4",
         "y": [
          225,
          10,
          420,
          110,
          60,
          10
         ],
         "yaxis": "y4"
        },
        {
         "alignmentgroup": "True",
         "hovertemplate": "Subject=Chemistry<br>Year=2018<br>School=State<br>Grades=%{x}<br>Students=%{y}<extra></extra>",
         "legendgroup": "Chemistry",
         "marker": {
          "color": "#19d3f3",
          "opacity": 0.5,
          "pattern": {
           "shape": ""
          }
         },
         "name": "Chemistry",
         "offsetgroup": "Chemistry",
         "orientation": "v",
         "showlegend": false,
         "textposition": "auto",
         "type": "bar",
         "x": [
          "As",
          "NAs",
          "Entries",
          "Bs",
          "Cs",
          "Ds"
         ],
         "xaxis": "x",
         "y": [
          585,
          230,
          2100,
          585,
          515,
          185
         ],
         "yaxis": "y"
        },
        {
         "alignmentgroup": "True",
         "hovertemplate": "Subject=Chemistry<br>Year=2018<br>School=Ind<br>Grades=%{x}<br>Students=%{y}<extra></extra>",
         "legendgroup": "Chemistry",
         "marker": {
          "color": "#19d3f3",
          "opacity": 0.5,
          "pattern": {
           "shape": ""
          }
         },
         "name": "Chemistry",
         "offsetgroup": "Chemistry",
         "orientation": "v",
         "showlegend": false,
         "textposition": "auto",
         "type": "bar",
         "x": [
          "As",
          "NAs",
          "Entries",
          "Bs",
          "Cs",
          "Ds"
         ],
         "xaxis": "x2",
         "y": [
          220,
          10,
          440,
          120,
          70,
          20
         ],
         "yaxis": "y2"
        },
        {
         "alignmentgroup": "True",
         "hovertemplate": "Subject=Chinese Languages<br>Year=2022<br>School=State<br>Grades=%{x}<br>Students=%{y}<extra></extra>",
         "legendgroup": "Chinese Languages",
         "marker": {
          "color": "#FF6692",
          "opacity": 0.5,
          "pattern": {
           "shape": ""
          }
         },
         "name": "Chinese Languages",
         "offsetgroup": "Chinese Languages",
         "orientation": "v",
         "showlegend": true,
         "textposition": "auto",
         "type": "bar",
         "x": [
          "As",
          "NAs",
          "Entries",
          "Bs",
          "Cs",
          "Ds"
         ],
         "xaxis": "x9",
         "y": [
          15,
          null,
          25,
          5,
          5,
          0
         ],
         "yaxis": "y9"
        },
        {
         "alignmentgroup": "True",
         "hovertemplate": "Subject=Chinese Languages<br>Year=2022<br>School=Ind<br>Grades=%{x}<br>Students=%{y}<extra></extra>",
         "legendgroup": "Chinese Languages",
         "marker": {
          "color": "#FF6692",
          "opacity": 0.5,
          "pattern": {
           "shape": ""
          }
         },
         "name": "Chinese Languages",
         "offsetgroup": "Chinese Languages",
         "orientation": "v",
         "showlegend": false,
         "textposition": "auto",
         "type": "bar",
         "x": [
          "As",
          "NAs",
          "Entries",
          "Bs",
          "Cs",
          "Ds"
         ],
         "xaxis": "x10",
         "y": [
          30,
          0,
          35,
          0,
          5,
          0
         ],
         "yaxis": "y10"
        },
        {
         "alignmentgroup": "True",
         "hovertemplate": "Subject=Chinese Languages<br>Year=2021<br>School=State<br>Grades=%{x}<br>Students=%{y}<extra></extra>",
         "legendgroup": "Chinese Languages",
         "marker": {
          "color": "#FF6692",
          "opacity": 0.5,
          "pattern": {
           "shape": ""
          }
         },
         "name": "Chinese Languages",
         "offsetgroup": "Chinese Languages",
         "orientation": "v",
         "showlegend": false,
         "textposition": "auto",
         "type": "bar",
         "x": [
          "As",
          "NAs",
          "Entries",
          "Bs",
          "Cs",
          "Ds"
         ],
         "xaxis": "x7",
         "y": [
          15,
          0,
          20,
          5,
          0,
          0
         ],
         "yaxis": "y7"
        },
        {
         "alignmentgroup": "True",
         "hovertemplate": "Subject=Chinese Languages<br>Year=2021<br>School=Ind<br>Grades=%{x}<br>Students=%{y}<extra></extra>",
         "legendgroup": "Chinese Languages",
         "marker": {
          "color": "#FF6692",
          "opacity": 0.5,
          "pattern": {
           "shape": ""
          }
         },
         "name": "Chinese Languages",
         "offsetgroup": "Chinese Languages",
         "orientation": "v",
         "showlegend": false,
         "textposition": "auto",
         "type": "bar",
         "x": [
          "As",
          "NAs",
          "Entries",
          "Bs",
          "Cs",
          "Ds"
         ],
         "xaxis": "x8",
         "y": [
          30,
          0,
          35,
          5,
          0,
          0
         ],
         "yaxis": "y8"
        },
        {
         "alignmentgroup": "True",
         "hovertemplate": "Subject=Chinese Languages<br>Year=2020<br>School=State<br>Grades=%{x}<br>Students=%{y}<extra></extra>",
         "legendgroup": "Chinese Languages",
         "marker": {
          "color": "#FF6692",
          "opacity": 0.5,
          "pattern": {
           "shape": ""
          }
         },
         "name": "Chinese Languages",
         "offsetgroup": "Chinese Languages",
         "orientation": "v",
         "showlegend": false,
         "textposition": "auto",
         "type": "bar",
         "x": [
          "As",
          "NAs",
          "Entries",
          "Bs",
          "Cs",
          "Ds"
         ],
         "xaxis": "x5",
         "y": [
          30,
          0,
          35,
          5,
          0,
          0
         ],
         "yaxis": "y5"
        },
        {
         "alignmentgroup": "True",
         "hovertemplate": "Subject=Chinese Languages<br>Year=2020<br>School=Ind<br>Grades=%{x}<br>Students=%{y}<extra></extra>",
         "legendgroup": "Chinese Languages",
         "marker": {
          "color": "#FF6692",
          "opacity": 0.5,
          "pattern": {
           "shape": ""
          }
         },
         "name": "Chinese Languages",
         "offsetgroup": "Chinese Languages",
         "orientation": "v",
         "showlegend": false,
         "textposition": "auto",
         "type": "bar",
         "x": [
          "As",
          "NAs",
          "Entries",
          "Bs",
          "Cs",
          "Ds"
         ],
         "xaxis": "x6",
         "y": [
          20,
          0,
          20,
          0,
          0,
          0
         ],
         "yaxis": "y6"
        },
        {
         "alignmentgroup": "True",
         "hovertemplate": "Subject=Chinese Languages<br>Year=2019<br>School=State<br>Grades=%{x}<br>Students=%{y}<extra></extra>",
         "legendgroup": "Chinese Languages",
         "marker": {
          "color": "#FF6692",
          "opacity": 0.5,
          "pattern": {
           "shape": ""
          }
         },
         "name": "Chinese Languages",
         "offsetgroup": "Chinese Languages",
         "orientation": "v",
         "showlegend": false,
         "textposition": "auto",
         "type": "bar",
         "x": [
          "As",
          "NAs",
          "Entries",
          "Bs",
          "Cs",
          "Ds"
         ],
         "xaxis": "x3",
         "y": [
          20,
          0,
          20,
          0,
          0,
          0
         ],
         "yaxis": "y3"
        },
        {
         "alignmentgroup": "True",
         "hovertemplate": "Subject=Chinese Languages<br>Year=2019<br>School=Ind<br>Grades=%{x}<br>Students=%{y}<extra></extra>",
         "legendgroup": "Chinese Languages",
         "marker": {
          "color": "#FF6692",
          "opacity": 0.5,
          "pattern": {
           "shape": ""
          }
         },
         "name": "Chinese Languages",
         "offsetgroup": "Chinese Languages",
         "orientation": "v",
         "showlegend": false,
         "textposition": "auto",
         "type": "bar",
         "x": [
          "As",
          "NAs",
          "Entries",
          "Bs",
          "Cs",
          "Ds"
         ],
         "xaxis": "x4",
         "y": [
          25,
          0,
          30,
          5,
          0,
          0
         ],
         "yaxis": "y4"
        },
        {
         "alignmentgroup": "True",
         "hovertemplate": "Subject=Chinese Languages<br>Year=2018<br>School=State<br>Grades=%{x}<br>Students=%{y}<extra></extra>",
         "legendgroup": "Chinese Languages",
         "marker": {
          "color": "#FF6692",
          "opacity": 0.5,
          "pattern": {
           "shape": ""
          }
         },
         "name": "Chinese Languages",
         "offsetgroup": "Chinese Languages",
         "orientation": "v",
         "showlegend": false,
         "textposition": "auto",
         "type": "bar",
         "x": [
          "As",
          "NAs",
          "Entries",
          "Bs",
          "Cs",
          "Ds"
         ],
         "xaxis": "x",
         "y": [
          15,
          0,
          20,
          5,
          0,
          0
         ],
         "yaxis": "y"
        },
        {
         "alignmentgroup": "True",
         "hovertemplate": "Subject=Chinese Languages<br>Year=2018<br>School=Ind<br>Grades=%{x}<br>Students=%{y}<extra></extra>",
         "legendgroup": "Chinese Languages",
         "marker": {
          "color": "#FF6692",
          "opacity": 0.5,
          "pattern": {
           "shape": ""
          }
         },
         "name": "Chinese Languages",
         "offsetgroup": "Chinese Languages",
         "orientation": "v",
         "showlegend": false,
         "textposition": "auto",
         "type": "bar",
         "x": [
          "As",
          "NAs",
          "Entries",
          "Bs",
          "Cs",
          "Ds"
         ],
         "xaxis": "x2",
         "y": [
          25,
          0,
          25,
          0,
          0,
          0
         ],
         "yaxis": "y2"
        },
        {
         "alignmentgroup": "True",
         "hovertemplate": "Subject=Classical Studies<br>Year=2022<br>School=State<br>Grades=%{x}<br>Students=%{y}<extra></extra>",
         "legendgroup": "Classical Studies",
         "marker": {
          "color": "#B6E880",
          "opacity": 0.5,
          "pattern": {
           "shape": ""
          }
         },
         "name": "Classical Studies",
         "offsetgroup": "Classical Studies",
         "orientation": "v",
         "showlegend": true,
         "textposition": "auto",
         "type": "bar",
         "x": [
          "As",
          "NAs",
          "Entries",
          "Bs",
          "Cs",
          "Ds"
         ],
         "xaxis": "x9",
         "y": [
          0,
          0,
          5,
          null,
          null,
          null
         ],
         "yaxis": "y9"
        },
        {
         "alignmentgroup": "True",
         "hovertemplate": "Subject=Classical Studies<br>Year=2022<br>School=Ind<br>Grades=%{x}<br>Students=%{y}<extra></extra>",
         "legendgroup": "Classical Studies",
         "marker": {
          "color": "#B6E880",
          "opacity": 0.5,
          "pattern": {
           "shape": ""
          }
         },
         "name": "Classical Studies",
         "offsetgroup": "Classical Studies",
         "orientation": "v",
         "showlegend": false,
         "textposition": "auto",
         "type": "bar",
         "x": [
          "As",
          "NAs",
          "Entries",
          "Bs",
          "Cs",
          "Ds"
         ],
         "xaxis": "x10",
         "y": [
          15,
          0,
          40,
          15,
          5,
          5
         ],
         "yaxis": "y10"
        },
        {
         "alignmentgroup": "True",
         "hovertemplate": "Subject=Classical Studies<br>Year=2021<br>School=State<br>Grades=%{x}<br>Students=%{y}<extra></extra>",
         "legendgroup": "Classical Studies",
         "marker": {
          "color": "#B6E880",
          "opacity": 0.5,
          "pattern": {
           "shape": ""
          }
         },
         "name": "Classical Studies",
         "offsetgroup": "Classical Studies",
         "orientation": "v",
         "showlegend": false,
         "textposition": "auto",
         "type": "bar",
         "x": [
          "As",
          "NAs",
          "Entries",
          "Bs",
          "Cs",
          "Ds"
         ],
         "xaxis": "x7",
         "y": [
          null,
          0,
          10,
          null,
          5,
          0
         ],
         "yaxis": "y7"
        },
        {
         "alignmentgroup": "True",
         "hovertemplate": "Subject=Classical Studies<br>Year=2021<br>School=Ind<br>Grades=%{x}<br>Students=%{y}<extra></extra>",
         "legendgroup": "Classical Studies",
         "marker": {
          "color": "#B6E880",
          "opacity": 0.5,
          "pattern": {
           "shape": ""
          }
         },
         "name": "Classical Studies",
         "offsetgroup": "Classical Studies",
         "orientation": "v",
         "showlegend": false,
         "textposition": "auto",
         "type": "bar",
         "x": [
          "As",
          "NAs",
          "Entries",
          "Bs",
          "Cs",
          "Ds"
         ],
         "xaxis": "x8",
         "y": [
          20,
          0,
          30,
          5,
          5,
          0
         ],
         "yaxis": "y8"
        },
        {
         "alignmentgroup": "True",
         "hovertemplate": "Subject=Classical Studies<br>Year=2020<br>School=State<br>Grades=%{x}<br>Students=%{y}<extra></extra>",
         "legendgroup": "Classical Studies",
         "marker": {
          "color": "#B6E880",
          "opacity": 0.5,
          "pattern": {
           "shape": ""
          }
         },
         "name": "Classical Studies",
         "offsetgroup": "Classical Studies",
         "orientation": "v",
         "showlegend": false,
         "textposition": "auto",
         "type": "bar",
         "x": [
          "As",
          "NAs",
          "Entries",
          "Bs",
          "Cs",
          "Ds"
         ],
         "xaxis": "x5",
         "y": [
          null,
          0,
          10,
          null,
          0,
          0
         ],
         "yaxis": "y5"
        },
        {
         "alignmentgroup": "True",
         "hovertemplate": "Subject=Classical Studies<br>Year=2020<br>School=Ind<br>Grades=%{x}<br>Students=%{y}<extra></extra>",
         "legendgroup": "Classical Studies",
         "marker": {
          "color": "#B6E880",
          "opacity": 0.5,
          "pattern": {
           "shape": ""
          }
         },
         "name": "Classical Studies",
         "offsetgroup": "Classical Studies",
         "orientation": "v",
         "showlegend": false,
         "textposition": "auto",
         "type": "bar",
         "x": [
          "As",
          "NAs",
          "Entries",
          "Bs",
          "Cs",
          "Ds"
         ],
         "xaxis": "x6",
         "y": [
          15,
          0,
          20,
          5,
          0,
          0
         ],
         "yaxis": "y6"
        },
        {
         "alignmentgroup": "True",
         "hovertemplate": "Subject=Classical Studies<br>Year=2019<br>School=State<br>Grades=%{x}<br>Students=%{y}<extra></extra>",
         "legendgroup": "Classical Studies",
         "marker": {
          "color": "#B6E880",
          "opacity": 0.5,
          "pattern": {
           "shape": ""
          }
         },
         "name": "Classical Studies",
         "offsetgroup": "Classical Studies",
         "orientation": "v",
         "showlegend": false,
         "textposition": "auto",
         "type": "bar",
         "x": [
          "As",
          "NAs",
          "Entries",
          "Bs",
          "Cs",
          "Ds"
         ],
         "xaxis": "x3",
         "y": [
          null,
          0,
          5,
          null,
          0,
          0
         ],
         "yaxis": "y3"
        },
        {
         "alignmentgroup": "True",
         "hovertemplate": "Subject=Classical Studies<br>Year=2019<br>School=Ind<br>Grades=%{x}<br>Students=%{y}<extra></extra>",
         "legendgroup": "Classical Studies",
         "marker": {
          "color": "#B6E880",
          "opacity": 0.5,
          "pattern": {
           "shape": ""
          }
         },
         "name": "Classical Studies",
         "offsetgroup": "Classical Studies",
         "orientation": "v",
         "showlegend": false,
         "textposition": "auto",
         "type": "bar",
         "x": [
          "As",
          "NAs",
          "Entries",
          "Bs",
          "Cs",
          "Ds"
         ],
         "xaxis": "x4",
         "y": [
          15,
          0,
          30,
          10,
          5,
          0
         ],
         "yaxis": "y4"
        },
        {
         "alignmentgroup": "True",
         "hovertemplate": "Subject=Classical Studies<br>Year=2018<br>School=State<br>Grades=%{x}<br>Students=%{y}<extra></extra>",
         "legendgroup": "Classical Studies",
         "marker": {
          "color": "#B6E880",
          "opacity": 0.5,
          "pattern": {
           "shape": ""
          }
         },
         "name": "Classical Studies",
         "offsetgroup": "Classical Studies",
         "orientation": "v",
         "showlegend": false,
         "textposition": "auto",
         "type": "bar",
         "x": [
          "As",
          "NAs",
          "Entries",
          "Bs",
          "Cs",
          "Ds"
         ],
         "xaxis": "x",
         "y": [
          0,
          null,
          15,
          10,
          0,
          0
         ],
         "yaxis": "y"
        },
        {
         "alignmentgroup": "True",
         "hovertemplate": "Subject=Classical Studies<br>Year=2018<br>School=Ind<br>Grades=%{x}<br>Students=%{y}<extra></extra>",
         "legendgroup": "Classical Studies",
         "marker": {
          "color": "#B6E880",
          "opacity": 0.5,
          "pattern": {
           "shape": ""
          }
         },
         "name": "Classical Studies",
         "offsetgroup": "Classical Studies",
         "orientation": "v",
         "showlegend": false,
         "textposition": "auto",
         "type": "bar",
         "x": [
          "As",
          "NAs",
          "Entries",
          "Bs",
          "Cs",
          "Ds"
         ],
         "xaxis": "x2",
         "y": [
          20,
          0,
          35,
          5,
          5,
          5
         ],
         "yaxis": "y2"
        },
        {
         "alignmentgroup": "True",
         "hovertemplate": "Subject=Computing Science<br>Year=2022<br>School=State<br>Grades=%{x}<br>Students=%{y}<extra></extra>",
         "legendgroup": "Computing Science",
         "marker": {
          "color": "#FF97FF",
          "opacity": 0.5,
          "pattern": {
           "shape": ""
          }
         },
         "name": "Computing Science",
         "offsetgroup": "Computing Science",
         "orientation": "v",
         "showlegend": true,
         "textposition": "auto",
         "type": "bar",
         "x": [
          "As",
          "NAs",
          "Entries",
          "Bs",
          "Cs",
          "Ds"
         ],
         "xaxis": "x9",
         "y": [
          180,
          55,
          560,
          120,
          110,
          95
         ],
         "yaxis": "y9"
        },
        {
         "alignmentgroup": "True",
         "hovertemplate": "Subject=Computing Science<br>Year=2022<br>School=Ind<br>Grades=%{x}<br>Students=%{y}<extra></extra>",
         "legendgroup": "Computing Science",
         "marker": {
          "color": "#FF97FF",
          "opacity": 0.5,
          "pattern": {
           "shape": ""
          }
         },
         "name": "Computing Science",
         "offsetgroup": "Computing Science",
         "orientation": "v",
         "showlegend": false,
         "textposition": "auto",
         "type": "bar",
         "x": [
          "As",
          "NAs",
          "Entries",
          "Bs",
          "Cs",
          "Ds"
         ],
         "xaxis": "x10",
         "y": [
          70,
          null,
          125,
          30,
          15,
          10
         ],
         "yaxis": "y10"
        },
        {
         "alignmentgroup": "True",
         "hovertemplate": "Subject=Computing Science<br>Year=2021<br>School=State<br>Grades=%{x}<br>Students=%{y}<extra></extra>",
         "legendgroup": "Computing Science",
         "marker": {
          "color": "#FF97FF",
          "opacity": 0.5,
          "pattern": {
           "shape": ""
          }
         },
         "name": "Computing Science",
         "offsetgroup": "Computing Science",
         "orientation": "v",
         "showlegend": false,
         "textposition": "auto",
         "type": "bar",
         "x": [
          "As",
          "NAs",
          "Entries",
          "Bs",
          "Cs",
          "Ds"
         ],
         "xaxis": "x7",
         "y": [
          185,
          30,
          445,
          105,
          95,
          30
         ],
         "yaxis": "y7"
        },
        {
         "alignmentgroup": "True",
         "hovertemplate": "Subject=Computing Science<br>Year=2021<br>School=Ind<br>Grades=%{x}<br>Students=%{y}<extra></extra>",
         "legendgroup": "Computing Science",
         "marker": {
          "color": "#FF97FF",
          "opacity": 0.5,
          "pattern": {
           "shape": ""
          }
         },
         "name": "Computing Science",
         "offsetgroup": "Computing Science",
         "orientation": "v",
         "showlegend": false,
         "textposition": "auto",
         "type": "bar",
         "x": [
          "As",
          "NAs",
          "Entries",
          "Bs",
          "Cs",
          "Ds"
         ],
         "xaxis": "x8",
         "y": [
          80,
          null,
          120,
          15,
          20,
          5
         ],
         "yaxis": "y8"
        },
        {
         "alignmentgroup": "True",
         "hovertemplate": "Subject=Computing Science<br>Year=2020<br>School=State<br>Grades=%{x}<br>Students=%{y}<extra></extra>",
         "legendgroup": "Computing Science",
         "marker": {
          "color": "#FF97FF",
          "opacity": 0.5,
          "pattern": {
           "shape": ""
          }
         },
         "name": "Computing Science",
         "offsetgroup": "Computing Science",
         "orientation": "v",
         "showlegend": false,
         "textposition": "auto",
         "type": "bar",
         "x": [
          "As",
          "NAs",
          "Entries",
          "Bs",
          "Cs",
          "Ds"
         ],
         "xaxis": "x5",
         "y": [
          155,
          15,
          375,
          120,
          75,
          15
         ],
         "yaxis": "y5"
        },
        {
         "alignmentgroup": "True",
         "hovertemplate": "Subject=Computing Science<br>Year=2020<br>School=Ind<br>Grades=%{x}<br>Students=%{y}<extra></extra>",
         "legendgroup": "Computing Science",
         "marker": {
          "color": "#FF97FF",
          "opacity": 0.5,
          "pattern": {
           "shape": ""
          }
         },
         "name": "Computing Science",
         "offsetgroup": "Computing Science",
         "orientation": "v",
         "showlegend": false,
         "textposition": "auto",
         "type": "bar",
         "x": [
          "As",
          "NAs",
          "Entries",
          "Bs",
          "Cs",
          "Ds"
         ],
         "xaxis": "x6",
         "y": [
          65,
          0,
          115,
          35,
          10,
          5
         ],
         "yaxis": "y6"
        },
        {
         "alignmentgroup": "True",
         "hovertemplate": "Subject=Computing Science<br>Year=2019<br>School=State<br>Grades=%{x}<br>Students=%{y}<extra></extra>",
         "legendgroup": "Computing Science",
         "marker": {
          "color": "#FF97FF",
          "opacity": 0.5,
          "pattern": {
           "shape": ""
          }
         },
         "name": "Computing Science",
         "offsetgroup": "Computing Science",
         "orientation": "v",
         "showlegend": false,
         "textposition": "auto",
         "type": "bar",
         "x": [
          "As",
          "NAs",
          "Entries",
          "Bs",
          "Cs",
          "Ds"
         ],
         "xaxis": "x3",
         "y": [
          90,
          140,
          505,
          105,
          115,
          55
         ],
         "yaxis": "y3"
        },
        {
         "alignmentgroup": "True",
         "hovertemplate": "Subject=Computing Science<br>Year=2019<br>School=Ind<br>Grades=%{x}<br>Students=%{y}<extra></extra>",
         "legendgroup": "Computing Science",
         "marker": {
          "color": "#FF97FF",
          "opacity": 0.5,
          "pattern": {
           "shape": ""
          }
         },
         "name": "Computing Science",
         "offsetgroup": "Computing Science",
         "orientation": "v",
         "showlegend": false,
         "textposition": "auto",
         "type": "bar",
         "x": [
          "As",
          "NAs",
          "Entries",
          "Bs",
          "Cs",
          "Ds"
         ],
         "xaxis": "x4",
         "y": [
          55,
          10,
          110,
          25,
          10,
          5
         ],
         "yaxis": "y4"
        },
        {
         "alignmentgroup": "True",
         "hovertemplate": "Subject=Computing Science<br>Year=2018<br>School=State<br>Grades=%{x}<br>Students=%{y}<extra></extra>",
         "legendgroup": "Computing Science",
         "marker": {
          "color": "#FF97FF",
          "opacity": 0.5,
          "pattern": {
           "shape": ""
          }
         },
         "name": "Computing Science",
         "offsetgroup": "Computing Science",
         "orientation": "v",
         "showlegend": false,
         "textposition": "auto",
         "type": "bar",
         "x": [
          "As",
          "NAs",
          "Entries",
          "Bs",
          "Cs",
          "Ds"
         ],
         "xaxis": "x",
         "y": [
          105,
          105,
          550,
          140,
          130,
          70
         ],
         "yaxis": "y"
        },
        {
         "alignmentgroup": "True",
         "hovertemplate": "Subject=Computing Science<br>Year=2018<br>School=Ind<br>Grades=%{x}<br>Students=%{y}<extra></extra>",
         "legendgroup": "Computing Science",
         "marker": {
          "color": "#FF97FF",
          "opacity": 0.5,
          "pattern": {
           "shape": ""
          }
         },
         "name": "Computing Science",
         "offsetgroup": "Computing Science",
         "orientation": "v",
         "showlegend": false,
         "textposition": "auto",
         "type": "bar",
         "x": [
          "As",
          "NAs",
          "Entries",
          "Bs",
          "Cs",
          "Ds"
         ],
         "xaxis": "x2",
         "y": [
          35,
          5,
          85,
          25,
          20,
          0
         ],
         "yaxis": "y2"
        },
        {
         "alignmentgroup": "True",
         "hovertemplate": "Subject=Design and Manufacture<br>Year=2022<br>School=State<br>Grades=%{x}<br>Students=%{y}<extra></extra>",
         "legendgroup": "Design and Manufacture",
         "marker": {
          "color": "#FECB52",
          "opacity": 0.5,
          "pattern": {
           "shape": ""
          }
         },
         "name": "Design and Manufacture",
         "offsetgroup": "Design and Manufacture",
         "orientation": "v",
         "showlegend": true,
         "textposition": "auto",
         "type": "bar",
         "x": [
          "As",
          "NAs",
          "Entries",
          "Bs",
          "Cs",
          "Ds"
         ],
         "xaxis": "x9",
         "y": [
          20,
          20,
          100,
          15,
          25,
          20
         ],
         "yaxis": "y9"
        },
        {
         "alignmentgroup": "True",
         "hovertemplate": "Subject=Design and Manufacture<br>Year=2022<br>School=Ind<br>Grades=%{x}<br>Students=%{y}<extra></extra>",
         "legendgroup": "Design and Manufacture",
         "marker": {
          "color": "#FECB52",
          "opacity": 0.5,
          "pattern": {
           "shape": ""
          }
         },
         "name": "Design and Manufacture",
         "offsetgroup": "Design and Manufacture",
         "orientation": "v",
         "showlegend": false,
         "textposition": "auto",
         "type": "bar",
         "x": [
          "As",
          "NAs",
          "Entries",
          "Bs",
          "Cs",
          "Ds"
         ],
         "xaxis": "x10",
         "y": [
          null,
          null,
          15,
          null,
          0,
          10
         ],
         "yaxis": "y10"
        },
        {
         "alignmentgroup": "True",
         "hovertemplate": "Subject=Design and Manufacture<br>Year=2021<br>School=State<br>Grades=%{x}<br>Students=%{y}<extra></extra>",
         "legendgroup": "Design and Manufacture",
         "marker": {
          "color": "#FECB52",
          "opacity": 0.5,
          "pattern": {
           "shape": ""
          }
         },
         "name": "Design and Manufacture",
         "offsetgroup": "Design and Manufacture",
         "orientation": "v",
         "showlegend": false,
         "textposition": "auto",
         "type": "bar",
         "x": [
          "As",
          "NAs",
          "Entries",
          "Bs",
          "Cs",
          "Ds"
         ],
         "xaxis": "x7",
         "y": [
          30,
          5,
          105,
          25,
          35,
          10
         ],
         "yaxis": "y7"
        },
        {
         "alignmentgroup": "True",
         "hovertemplate": "Subject=Design and Manufacture<br>Year=2021<br>School=Ind<br>Grades=%{x}<br>Students=%{y}<extra></extra>",
         "legendgroup": "Design and Manufacture",
         "marker": {
          "color": "#FECB52",
          "opacity": 0.5,
          "pattern": {
           "shape": ""
          }
         },
         "name": "Design and Manufacture",
         "offsetgroup": "Design and Manufacture",
         "orientation": "v",
         "showlegend": false,
         "textposition": "auto",
         "type": "bar",
         "x": [
          "As",
          "NAs",
          "Entries",
          "Bs",
          "Cs",
          "Ds"
         ],
         "xaxis": "x8",
         "y": [
          null,
          0,
          null,
          null,
          null,
          null
         ],
         "yaxis": "y8"
        },
        {
         "alignmentgroup": "True",
         "hovertemplate": "Subject=Design and Manufacture<br>Year=2020<br>School=State<br>Grades=%{x}<br>Students=%{y}<extra></extra>",
         "legendgroup": "Design and Manufacture",
         "marker": {
          "color": "#FECB52",
          "opacity": 0.5,
          "pattern": {
           "shape": ""
          }
         },
         "name": "Design and Manufacture",
         "offsetgroup": "Design and Manufacture",
         "orientation": "v",
         "showlegend": false,
         "textposition": "auto",
         "type": "bar",
         "x": [
          "As",
          "NAs",
          "Entries",
          "Bs",
          "Cs",
          "Ds"
         ],
         "xaxis": "x5",
         "y": [
          10,
          null,
          45,
          20,
          10,
          5
         ],
         "yaxis": "y5"
        },
        {
         "alignmentgroup": "True",
         "hovertemplate": "Subject=Design and Manufacture<br>Year=2020<br>School=Ind<br>Grades=%{x}<br>Students=%{y}<extra></extra>",
         "legendgroup": "Design and Manufacture",
         "marker": {
          "color": "#FECB52",
          "opacity": 0.5,
          "pattern": {
           "shape": ""
          }
         },
         "name": "Design and Manufacture",
         "offsetgroup": "Design and Manufacture",
         "orientation": "v",
         "showlegend": false,
         "textposition": "auto",
         "type": "bar",
         "x": [
          "As",
          "NAs",
          "Entries",
          "Bs",
          "Cs",
          "Ds"
         ],
         "xaxis": "x6",
         "y": [
          null,
          0,
          null,
          null,
          null,
          null
         ],
         "yaxis": "y6"
        },
        {
         "alignmentgroup": "True",
         "hovertemplate": "Subject=Design and Manufacture<br>Year=2019<br>School=State<br>Grades=%{x}<br>Students=%{y}<extra></extra>",
         "legendgroup": "Design and Manufacture",
         "marker": {
          "color": "#FECB52",
          "opacity": 0.5,
          "pattern": {
           "shape": ""
          }
         },
         "name": "Design and Manufacture",
         "offsetgroup": "Design and Manufacture",
         "orientation": "v",
         "showlegend": false,
         "textposition": "auto",
         "type": "bar",
         "x": [
          "As",
          "NAs",
          "Entries",
          "Bs",
          "Cs",
          "Ds"
         ],
         "xaxis": "x3",
         "y": [
          5,
          15,
          75,
          15,
          25,
          10
         ],
         "yaxis": "y3"
        },
        {
         "alignmentgroup": "True",
         "hovertemplate": "Subject=Design and Manufacture<br>Year=2019<br>School=Ind<br>Grades=%{x}<br>Students=%{y}<extra></extra>",
         "legendgroup": "Design and Manufacture",
         "marker": {
          "color": "#FECB52",
          "opacity": 0.5,
          "pattern": {
           "shape": ""
          }
         },
         "name": "Design and Manufacture",
         "offsetgroup": "Design and Manufacture",
         "orientation": "v",
         "showlegend": false,
         "textposition": "auto",
         "type": "bar",
         "x": [
          "As",
          "NAs",
          "Entries",
          "Bs",
          "Cs",
          "Ds"
         ],
         "xaxis": "x4",
         "y": [
          null,
          0,
          5,
          null,
          null,
          null
         ],
         "yaxis": "y4"
        },
        {
         "alignmentgroup": "True",
         "hovertemplate": "Subject=Design and Manufacture<br>Year=2018<br>School=State<br>Grades=%{x}<br>Students=%{y}<extra></extra>",
         "legendgroup": "Design and Manufacture",
         "marker": {
          "color": "#FECB52",
          "opacity": 0.5,
          "pattern": {
           "shape": ""
          }
         },
         "name": "Design and Manufacture",
         "offsetgroup": "Design and Manufacture",
         "orientation": "v",
         "showlegend": false,
         "textposition": "auto",
         "type": "bar",
         "x": [
          "As",
          "NAs",
          "Entries",
          "Bs",
          "Cs",
          "Ds"
         ],
         "xaxis": "x",
         "y": [
          5,
          20,
          70,
          15,
          15,
          15
         ],
         "yaxis": "y"
        },
        {
         "alignmentgroup": "True",
         "hovertemplate": "Subject=Design and Manufacture<br>Year=2018<br>School=Ind<br>Grades=%{x}<br>Students=%{y}<extra></extra>",
         "legendgroup": "Design and Manufacture",
         "marker": {
          "color": "#FECB52",
          "opacity": 0.5,
          "pattern": {
           "shape": ""
          }
         },
         "name": "Design and Manufacture",
         "offsetgroup": "Design and Manufacture",
         "orientation": "v",
         "showlegend": false,
         "textposition": "auto",
         "type": "bar",
         "x": [
          "As",
          "NAs",
          "Entries",
          "Bs",
          "Cs",
          "Ds"
         ],
         "xaxis": "x2",
         "y": [
          0,
          5,
          25,
          10,
          5,
          5
         ],
         "yaxis": "y2"
        },
        {
         "alignmentgroup": "True",
         "hovertemplate": "Subject=Drama<br>Year=2022<br>School=State<br>Grades=%{x}<br>Students=%{y}<extra></extra>",
         "legendgroup": "Drama",
         "marker": {
          "color": "#636efa",
          "opacity": 0.5,
          "pattern": {
           "shape": ""
          }
         },
         "name": "Drama",
         "offsetgroup": "Drama",
         "orientation": "v",
         "showlegend": true,
         "textposition": "auto",
         "type": "bar",
         "x": [
          "As",
          "NAs",
          "Entries",
          "Bs",
          "Cs",
          "Ds"
         ],
         "xaxis": "x9",
         "y": [
          105,
          20,
          540,
          175,
          160,
          80
         ],
         "yaxis": "y9"
        },
        {
         "alignmentgroup": "True",
         "hovertemplate": "Subject=Drama<br>Year=2022<br>School=Ind<br>Grades=%{x}<br>Students=%{y}<extra></extra>",
         "legendgroup": "Drama",
         "marker": {
          "color": "#636efa",
          "opacity": 0.5,
          "pattern": {
           "shape": ""
          }
         },
         "name": "Drama",
         "offsetgroup": "Drama",
         "orientation": "v",
         "showlegend": false,
         "textposition": "auto",
         "type": "bar",
         "x": [
          "As",
          "NAs",
          "Entries",
          "Bs",
          "Cs",
          "Ds"
         ],
         "xaxis": "x10",
         "y": [
          35,
          0,
          80,
          25,
          15,
          5
         ],
         "yaxis": "y10"
        },
        {
         "alignmentgroup": "True",
         "hovertemplate": "Subject=Drama<br>Year=2021<br>School=State<br>Grades=%{x}<br>Students=%{y}<extra></extra>",
         "legendgroup": "Drama",
         "marker": {
          "color": "#636efa",
          "opacity": 0.5,
          "pattern": {
           "shape": ""
          }
         },
         "name": "Drama",
         "offsetgroup": "Drama",
         "orientation": "v",
         "showlegend": false,
         "textposition": "auto",
         "type": "bar",
         "x": [
          "As",
          "NAs",
          "Entries",
          "Bs",
          "Cs",
          "Ds"
         ],
         "xaxis": "x7",
         "y": [
          215,
          20,
          485,
          135,
          80,
          30
         ],
         "yaxis": "y7"
        },
        {
         "alignmentgroup": "True",
         "hovertemplate": "Subject=Drama<br>Year=2021<br>School=Ind<br>Grades=%{x}<br>Students=%{y}<extra></extra>",
         "legendgroup": "Drama",
         "marker": {
          "color": "#636efa",
          "opacity": 0.5,
          "pattern": {
           "shape": ""
          }
         },
         "name": "Drama",
         "offsetgroup": "Drama",
         "orientation": "v",
         "showlegend": false,
         "textposition": "auto",
         "type": "bar",
         "x": [
          "As",
          "NAs",
          "Entries",
          "Bs",
          "Cs",
          "Ds"
         ],
         "xaxis": "x8",
         "y": [
          65,
          null,
          85,
          15,
          5,
          0
         ],
         "yaxis": "y8"
        },
        {
         "alignmentgroup": "True",
         "hovertemplate": "Subject=Drama<br>Year=2020<br>School=State<br>Grades=%{x}<br>Students=%{y}<extra></extra>",
         "legendgroup": "Drama",
         "marker": {
          "color": "#636efa",
          "opacity": 0.5,
          "pattern": {
           "shape": ""
          }
         },
         "name": "Drama",
         "offsetgroup": "Drama",
         "orientation": "v",
         "showlegend": false,
         "textposition": "auto",
         "type": "bar",
         "x": [
          "As",
          "NAs",
          "Entries",
          "Bs",
          "Cs",
          "Ds"
         ],
         "xaxis": "x5",
         "y": [
          210,
          null,
          465,
          160,
          85,
          10
         ],
         "yaxis": "y5"
        },
        {
         "alignmentgroup": "True",
         "hovertemplate": "Subject=Drama<br>Year=2020<br>School=Ind<br>Grades=%{x}<br>Students=%{y}<extra></extra>",
         "legendgroup": "Drama",
         "marker": {
          "color": "#636efa",
          "opacity": 0.5,
          "pattern": {
           "shape": ""
          }
         },
         "name": "Drama",
         "offsetgroup": "Drama",
         "orientation": "v",
         "showlegend": false,
         "textposition": "auto",
         "type": "bar",
         "x": [
          "As",
          "NAs",
          "Entries",
          "Bs",
          "Cs",
          "Ds"
         ],
         "xaxis": "x6",
         "y": [
          60,
          0,
          75,
          10,
          5,
          0
         ],
         "yaxis": "y6"
        },
        {
         "alignmentgroup": "True",
         "hovertemplate": "Subject=Drama<br>Year=2019<br>School=State<br>Grades=%{x}<br>Students=%{y}<extra></extra>",
         "legendgroup": "Drama",
         "marker": {
          "color": "#636efa",
          "opacity": 0.5,
          "pattern": {
           "shape": ""
          }
         },
         "name": "Drama",
         "offsetgroup": "Drama",
         "orientation": "v",
         "showlegend": false,
         "textposition": "auto",
         "type": "bar",
         "x": [
          "As",
          "NAs",
          "Entries",
          "Bs",
          "Cs",
          "Ds"
         ],
         "xaxis": "x3",
         "y": [
          95,
          55,
          495,
          145,
          150,
          50
         ],
         "yaxis": "y3"
        },
        {
         "alignmentgroup": "True",
         "hovertemplate": "Subject=Drama<br>Year=2019<br>School=Ind<br>Grades=%{x}<br>Students=%{y}<extra></extra>",
         "legendgroup": "Drama",
         "marker": {
          "color": "#636efa",
          "opacity": 0.5,
          "pattern": {
           "shape": ""
          }
         },
         "name": "Drama",
         "offsetgroup": "Drama",
         "orientation": "v",
         "showlegend": false,
         "textposition": "auto",
         "type": "bar",
         "x": [
          "As",
          "NAs",
          "Entries",
          "Bs",
          "Cs",
          "Ds"
         ],
         "xaxis": "x4",
         "y": [
          30,
          null,
          75,
          30,
          10,
          0
         ],
         "yaxis": "y4"
        },
        {
         "alignmentgroup": "True",
         "hovertemplate": "Subject=Drama<br>Year=2018<br>School=State<br>Grades=%{x}<br>Students=%{y}<extra></extra>",
         "legendgroup": "Drama",
         "marker": {
          "color": "#636efa",
          "opacity": 0.5,
          "pattern": {
           "shape": ""
          }
         },
         "name": "Drama",
         "offsetgroup": "Drama",
         "orientation": "v",
         "showlegend": false,
         "textposition": "auto",
         "type": "bar",
         "x": [
          "As",
          "NAs",
          "Entries",
          "Bs",
          "Cs",
          "Ds"
         ],
         "xaxis": "x",
         "y": [
          130,
          35,
          440,
          120,
          115,
          40
         ],
         "yaxis": "y"
        },
        {
         "alignmentgroup": "True",
         "hovertemplate": "Subject=Drama<br>Year=2018<br>School=Ind<br>Grades=%{x}<br>Students=%{y}<extra></extra>",
         "legendgroup": "Drama",
         "marker": {
          "color": "#636efa",
          "opacity": 0.5,
          "pattern": {
           "shape": ""
          }
         },
         "name": "Drama",
         "offsetgroup": "Drama",
         "orientation": "v",
         "showlegend": false,
         "textposition": "auto",
         "type": "bar",
         "x": [
          "As",
          "NAs",
          "Entries",
          "Bs",
          "Cs",
          "Ds"
         ],
         "xaxis": "x2",
         "y": [
          30,
          null,
          70,
          15,
          15,
          5
         ],
         "yaxis": "y2"
        },
        {
         "alignmentgroup": "True",
         "hovertemplate": "Subject=Economics<br>Year=2022<br>School=State<br>Grades=%{x}<br>Students=%{y}<extra></extra>",
         "legendgroup": "Economics",
         "marker": {
          "color": "#EF553B",
          "opacity": 0.5,
          "pattern": {
           "shape": ""
          }
         },
         "name": "Economics",
         "offsetgroup": "Economics",
         "orientation": "v",
         "showlegend": true,
         "textposition": "auto",
         "type": "bar",
         "x": [
          "As",
          "NAs",
          "Entries",
          "Bs",
          "Cs",
          "Ds"
         ],
         "xaxis": "x9",
         "y": [
          null,
          0,
          null,
          null,
          null,
          null
         ],
         "yaxis": "y9"
        },
        {
         "alignmentgroup": "True",
         "hovertemplate": "Subject=Economics<br>Year=2022<br>School=Ind<br>Grades=%{x}<br>Students=%{y}<extra></extra>",
         "legendgroup": "Economics",
         "marker": {
          "color": "#EF553B",
          "opacity": 0.5,
          "pattern": {
           "shape": ""
          }
         },
         "name": "Economics",
         "offsetgroup": "Economics",
         "orientation": "v",
         "showlegend": false,
         "textposition": "auto",
         "type": "bar",
         "x": [
          "As",
          "NAs",
          "Entries",
          "Bs",
          "Cs",
          "Ds"
         ],
         "xaxis": "x10",
         "y": [
          70,
          null,
          125,
          30,
          15,
          5
         ],
         "yaxis": "y10"
        },
        {
         "alignmentgroup": "True",
         "hovertemplate": "Subject=Economics<br>Year=2021<br>School=State<br>Grades=%{x}<br>Students=%{y}<extra></extra>",
         "legendgroup": "Economics",
         "marker": {
          "color": "#EF553B",
          "opacity": 0.5,
          "pattern": {
           "shape": ""
          }
         },
         "name": "Economics",
         "offsetgroup": "Economics",
         "orientation": "v",
         "showlegend": false,
         "textposition": "auto",
         "type": "bar",
         "x": [
          "As",
          "NAs",
          "Entries",
          "Bs",
          "Cs",
          "Ds"
         ],
         "xaxis": "x7",
         "y": [
          null,
          0,
          null,
          null,
          null,
          null
         ],
         "yaxis": "y7"
        },
        {
         "alignmentgroup": "True",
         "hovertemplate": "Subject=Economics<br>Year=2021<br>School=Ind<br>Grades=%{x}<br>Students=%{y}<extra></extra>",
         "legendgroup": "Economics",
         "marker": {
          "color": "#EF553B",
          "opacity": 0.5,
          "pattern": {
           "shape": ""
          }
         },
         "name": "Economics",
         "offsetgroup": "Economics",
         "orientation": "v",
         "showlegend": false,
         "textposition": "auto",
         "type": "bar",
         "x": [
          "As",
          "NAs",
          "Entries",
          "Bs",
          "Cs",
          "Ds"
         ],
         "xaxis": "x8",
         "y": [
          65,
          0,
          75,
          10,
          0,
          0
         ],
         "yaxis": "y8"
        },
        {
         "alignmentgroup": "True",
         "hovertemplate": "Subject=Economics<br>Year=2020<br>School=State<br>Grades=%{x}<br>Students=%{y}<extra></extra>",
         "legendgroup": "Economics",
         "marker": {
          "color": "#EF553B",
          "opacity": 0.5,
          "pattern": {
           "shape": ""
          }
         },
         "name": "Economics",
         "offsetgroup": "Economics",
         "orientation": "v",
         "showlegend": false,
         "textposition": "auto",
         "type": "bar",
         "x": [
          "As",
          "NAs",
          "Entries",
          "Bs",
          "Cs",
          "Ds"
         ],
         "xaxis": "x5",
         "y": [
          null,
          null,
          0,
          null,
          null,
          null
         ],
         "yaxis": "y5"
        },
        {
         "alignmentgroup": "True",
         "hovertemplate": "Subject=Economics<br>Year=2020<br>School=Ind<br>Grades=%{x}<br>Students=%{y}<extra></extra>",
         "legendgroup": "Economics",
         "marker": {
          "color": "#EF553B",
          "opacity": 0.5,
          "pattern": {
           "shape": ""
          }
         },
         "name": "Economics",
         "offsetgroup": "Economics",
         "orientation": "v",
         "showlegend": false,
         "textposition": "auto",
         "type": "bar",
         "x": [
          "As",
          "NAs",
          "Entries",
          "Bs",
          "Cs",
          "Ds"
         ],
         "xaxis": "x6",
         "y": [
          70,
          0,
          105,
          20,
          10,
          5
         ],
         "yaxis": "y6"
        },
        {
         "alignmentgroup": "True",
         "hovertemplate": "Subject=Economics<br>Year=2019<br>School=State<br>Grades=%{x}<br>Students=%{y}<extra></extra>",
         "legendgroup": "Economics",
         "marker": {
          "color": "#EF553B",
          "opacity": 0.5,
          "pattern": {
           "shape": ""
          }
         },
         "name": "Economics",
         "offsetgroup": "Economics",
         "orientation": "v",
         "showlegend": false,
         "textposition": "auto",
         "type": "bar",
         "x": [
          "As",
          "NAs",
          "Entries",
          "Bs",
          "Cs",
          "Ds"
         ],
         "xaxis": "x3",
         "y": [
          null,
          0,
          null,
          null,
          null,
          null
         ],
         "yaxis": "y3"
        },
        {
         "alignmentgroup": "True",
         "hovertemplate": "Subject=Economics<br>Year=2019<br>School=Ind<br>Grades=%{x}<br>Students=%{y}<extra></extra>",
         "legendgroup": "Economics",
         "marker": {
          "color": "#EF553B",
          "opacity": 0.5,
          "pattern": {
           "shape": ""
          }
         },
         "name": "Economics",
         "offsetgroup": "Economics",
         "orientation": "v",
         "showlegend": false,
         "textposition": "auto",
         "type": "bar",
         "x": [
          "As",
          "NAs",
          "Entries",
          "Bs",
          "Cs",
          "Ds"
         ],
         "xaxis": "x4",
         "y": [
          55,
          null,
          105,
          25,
          15,
          5
         ],
         "yaxis": "y4"
        },
        {
         "alignmentgroup": "True",
         "hovertemplate": "Subject=Economics<br>Year=2018<br>School=State<br>Grades=%{x}<br>Students=%{y}<extra></extra>",
         "legendgroup": "Economics",
         "marker": {
          "color": "#EF553B",
          "opacity": 0.5,
          "pattern": {
           "shape": ""
          }
         },
         "name": "Economics",
         "offsetgroup": "Economics",
         "orientation": "v",
         "showlegend": false,
         "textposition": "auto",
         "type": "bar",
         "x": [
          "As",
          "NAs",
          "Entries",
          "Bs",
          "Cs",
          "Ds"
         ],
         "xaxis": "x",
         "y": [
          null,
          null,
          10,
          null,
          null,
          5
         ],
         "yaxis": "y"
        },
        {
         "alignmentgroup": "True",
         "hovertemplate": "Subject=Economics<br>Year=2018<br>School=Ind<br>Grades=%{x}<br>Students=%{y}<extra></extra>",
         "legendgroup": "Economics",
         "marker": {
          "color": "#EF553B",
          "opacity": 0.5,
          "pattern": {
           "shape": ""
          }
         },
         "name": "Economics",
         "offsetgroup": "Economics",
         "orientation": "v",
         "showlegend": false,
         "textposition": "auto",
         "type": "bar",
         "x": [
          "As",
          "NAs",
          "Entries",
          "Bs",
          "Cs",
          "Ds"
         ],
         "xaxis": "x2",
         "y": [
          40,
          null,
          85,
          20,
          25,
          0
         ],
         "yaxis": "y2"
        },
        {
         "alignmentgroup": "True",
         "hovertemplate": "Subject=Engineering Science<br>Year=2022<br>School=State<br>Grades=%{x}<br>Students=%{y}<extra></extra>",
         "legendgroup": "Engineering Science",
         "marker": {
          "color": "#00cc96",
          "opacity": 0.5,
          "pattern": {
           "shape": ""
          }
         },
         "name": "Engineering Science",
         "offsetgroup": "Engineering Science",
         "orientation": "v",
         "showlegend": true,
         "textposition": "auto",
         "type": "bar",
         "x": [
          "As",
          "NAs",
          "Entries",
          "Bs",
          "Cs",
          "Ds"
         ],
         "xaxis": "x9",
         "y": [
          5,
          25,
          70,
          10,
          15,
          15
         ],
         "yaxis": "y9"
        },
        {
         "alignmentgroup": "True",
         "hovertemplate": "Subject=Engineering Science<br>Year=2022<br>School=Ind<br>Grades=%{x}<br>Students=%{y}<extra></extra>",
         "legendgroup": "Engineering Science",
         "marker": {
          "color": "#00cc96",
          "opacity": 0.5,
          "pattern": {
           "shape": ""
          }
         },
         "name": "Engineering Science",
         "offsetgroup": "Engineering Science",
         "orientation": "v",
         "showlegend": false,
         "textposition": "auto",
         "type": "bar",
         "x": [
          "As",
          "NAs",
          "Entries",
          "Bs",
          "Cs",
          "Ds"
         ],
         "xaxis": "x10",
         "y": [
          5,
          null,
          20,
          5,
          5,
          5
         ],
         "yaxis": "y10"
        },
        {
         "alignmentgroup": "True",
         "hovertemplate": "Subject=Engineering Science<br>Year=2021<br>School=State<br>Grades=%{x}<br>Students=%{y}<extra></extra>",
         "legendgroup": "Engineering Science",
         "marker": {
          "color": "#00cc96",
          "opacity": 0.5,
          "pattern": {
           "shape": ""
          }
         },
         "name": "Engineering Science",
         "offsetgroup": "Engineering Science",
         "orientation": "v",
         "showlegend": false,
         "textposition": "auto",
         "type": "bar",
         "x": [
          "As",
          "NAs",
          "Entries",
          "Bs",
          "Cs",
          "Ds"
         ],
         "xaxis": "x7",
         "y": [
          20,
          null,
          70,
          20,
          15,
          10
         ],
         "yaxis": "y7"
        },
        {
         "alignmentgroup": "True",
         "hovertemplate": "Subject=Engineering Science<br>Year=2021<br>School=Ind<br>Grades=%{x}<br>Students=%{y}<extra></extra>",
         "legendgroup": "Engineering Science",
         "marker": {
          "color": "#00cc96",
          "opacity": 0.5,
          "pattern": {
           "shape": ""
          }
         },
         "name": "Engineering Science",
         "offsetgroup": "Engineering Science",
         "orientation": "v",
         "showlegend": false,
         "textposition": "auto",
         "type": "bar",
         "x": [
          "As",
          "NAs",
          "Entries",
          "Bs",
          "Cs",
          "Ds"
         ],
         "xaxis": "x8",
         "y": [
          10,
          0,
          20,
          5,
          5,
          0
         ],
         "yaxis": "y8"
        },
        {
         "alignmentgroup": "True",
         "hovertemplate": "Subject=Engineering Science<br>Year=2020<br>School=State<br>Grades=%{x}<br>Students=%{y}<extra></extra>",
         "legendgroup": "Engineering Science",
         "marker": {
          "color": "#00cc96",
          "opacity": 0.5,
          "pattern": {
           "shape": ""
          }
         },
         "name": "Engineering Science",
         "offsetgroup": "Engineering Science",
         "orientation": "v",
         "showlegend": false,
         "textposition": "auto",
         "type": "bar",
         "x": [
          "As",
          "NAs",
          "Entries",
          "Bs",
          "Cs",
          "Ds"
         ],
         "xaxis": "x5",
         "y": [
          5,
          null,
          35,
          10,
          15,
          5
         ],
         "yaxis": "y5"
        },
        {
         "alignmentgroup": "True",
         "hovertemplate": "Subject=Engineering Science<br>Year=2020<br>School=Ind<br>Grades=%{x}<br>Students=%{y}<extra></extra>",
         "legendgroup": "Engineering Science",
         "marker": {
          "color": "#00cc96",
          "opacity": 0.5,
          "pattern": {
           "shape": ""
          }
         },
         "name": "Engineering Science",
         "offsetgroup": "Engineering Science",
         "orientation": "v",
         "showlegend": false,
         "textposition": "auto",
         "type": "bar",
         "x": [
          "As",
          "NAs",
          "Entries",
          "Bs",
          "Cs",
          "Ds"
         ],
         "xaxis": "x6",
         "y": [
          null,
          0,
          10,
          null,
          5,
          0
         ],
         "yaxis": "y6"
        },
        {
         "alignmentgroup": "True",
         "hovertemplate": "Subject=Engineering Science<br>Year=2019<br>School=State<br>Grades=%{x}<br>Students=%{y}<extra></extra>",
         "legendgroup": "Engineering Science",
         "marker": {
          "color": "#00cc96",
          "opacity": 0.5,
          "pattern": {
           "shape": ""
          }
         },
         "name": "Engineering Science",
         "offsetgroup": "Engineering Science",
         "orientation": "v",
         "showlegend": false,
         "textposition": "auto",
         "type": "bar",
         "x": [
          "As",
          "NAs",
          "Entries",
          "Bs",
          "Cs",
          "Ds"
         ],
         "xaxis": "x3",
         "y": [
          5,
          null,
          25,
          5,
          10,
          5
         ],
         "yaxis": "y3"
        },
        {
         "alignmentgroup": "True",
         "hovertemplate": "Subject=Engineering Science<br>Year=2019<br>School=Ind<br>Grades=%{x}<br>Students=%{y}<extra></extra>",
         "legendgroup": "Engineering Science",
         "marker": {
          "color": "#00cc96",
          "opacity": 0.5,
          "pattern": {
           "shape": ""
          }
         },
         "name": "Engineering Science",
         "offsetgroup": "Engineering Science",
         "orientation": "v",
         "showlegend": false,
         "textposition": "auto",
         "type": "bar",
         "x": [
          "As",
          "NAs",
          "Entries",
          "Bs",
          "Cs",
          "Ds"
         ],
         "xaxis": "x4",
         "y": [
          null,
          0,
          10,
          null,
          5,
          0
         ],
         "yaxis": "y4"
        },
        {
         "alignmentgroup": "True",
         "hovertemplate": "Subject=Engineering Science<br>Year=2018<br>School=State<br>Grades=%{x}<br>Students=%{y}<extra></extra>",
         "legendgroup": "Engineering Science",
         "marker": {
          "color": "#00cc96",
          "opacity": 0.5,
          "pattern": {
           "shape": ""
          }
         },
         "name": "Engineering Science",
         "offsetgroup": "Engineering Science",
         "orientation": "v",
         "showlegend": false,
         "textposition": "auto",
         "type": "bar",
         "x": [
          "As",
          "NAs",
          "Entries",
          "Bs",
          "Cs",
          "Ds"
         ],
         "xaxis": "x",
         "y": [
          5,
          10,
          50,
          10,
          15,
          10
         ],
         "yaxis": "y"
        },
        {
         "alignmentgroup": "True",
         "hovertemplate": "Subject=Engineering Science<br>Year=2018<br>School=Ind<br>Grades=%{x}<br>Students=%{y}<extra></extra>",
         "legendgroup": "Engineering Science",
         "marker": {
          "color": "#00cc96",
          "opacity": 0.5,
          "pattern": {
           "shape": ""
          }
         },
         "name": "Engineering Science",
         "offsetgroup": "Engineering Science",
         "orientation": "v",
         "showlegend": false,
         "textposition": "auto",
         "type": "bar",
         "x": [
          "As",
          "NAs",
          "Entries",
          "Bs",
          "Cs",
          "Ds"
         ],
         "xaxis": "x2",
         "y": [
          null,
          null,
          10,
          null,
          5,
          0
         ],
         "yaxis": "y2"
        },
        {
         "alignmentgroup": "True",
         "hovertemplate": "Subject=English<br>Year=2022<br>School=State<br>Grades=%{x}<br>Students=%{y}<extra></extra>",
         "legendgroup": "English",
         "marker": {
          "color": "#ab63fa",
          "opacity": 0.5,
          "pattern": {
           "shape": ""
          }
         },
         "name": "English",
         "offsetgroup": "English",
         "orientation": "v",
         "showlegend": true,
         "textposition": "auto",
         "type": "bar",
         "x": [
          "As",
          "NAs",
          "Entries",
          "Bs",
          "Cs",
          "Ds"
         ],
         "xaxis": "x9",
         "y": [
          590,
          75,
          2430,
          720,
          695,
          350
         ],
         "yaxis": "y9"
        },
        {
         "alignmentgroup": "True",
         "hovertemplate": "Subject=English<br>Year=2022<br>School=Ind<br>Grades=%{x}<br>Students=%{y}<extra></extra>",
         "legendgroup": "English",
         "marker": {
          "color": "#ab63fa",
          "opacity": 0.5,
          "pattern": {
           "shape": ""
          }
         },
         "name": "English",
         "offsetgroup": "English",
         "orientation": "v",
         "showlegend": false,
         "textposition": "auto",
         "type": "bar",
         "x": [
          "As",
          "NAs",
          "Entries",
          "Bs",
          "Cs",
          "Ds"
         ],
         "xaxis": "x10",
         "y": [
          175,
          0,
          325,
          95,
          45,
          10
         ],
         "yaxis": "y10"
        },
        {
         "alignmentgroup": "True",
         "hovertemplate": "Subject=English<br>Year=2021<br>School=State<br>Grades=%{x}<br>Students=%{y}<extra></extra>",
         "legendgroup": "English",
         "marker": {
          "color": "#ab63fa",
          "opacity": 0.5,
          "pattern": {
           "shape": ""
          }
         },
         "name": "English",
         "offsetgroup": "English",
         "orientation": "v",
         "showlegend": false,
         "textposition": "auto",
         "type": "bar",
         "x": [
          "As",
          "NAs",
          "Entries",
          "Bs",
          "Cs",
          "Ds"
         ],
         "xaxis": "x7",
         "y": [
          1065,
          80,
          2490,
          675,
          520,
          150
         ],
         "yaxis": "y7"
        },
        {
         "alignmentgroup": "True",
         "hovertemplate": "Subject=English<br>Year=2021<br>School=Ind<br>Grades=%{x}<br>Students=%{y}<extra></extra>",
         "legendgroup": "English",
         "marker": {
          "color": "#ab63fa",
          "opacity": 0.5,
          "pattern": {
           "shape": ""
          }
         },
         "name": "English",
         "offsetgroup": "English",
         "orientation": "v",
         "showlegend": false,
         "textposition": "auto",
         "type": "bar",
         "x": [
          "As",
          "NAs",
          "Entries",
          "Bs",
          "Cs",
          "Ds"
         ],
         "xaxis": "x8",
         "y": [
          220,
          null,
          315,
          70,
          20,
          0
         ],
         "yaxis": "y8"
        },
        {
         "alignmentgroup": "True",
         "hovertemplate": "Subject=English<br>Year=2020<br>School=State<br>Grades=%{x}<br>Students=%{y}<extra></extra>",
         "legendgroup": "English",
         "marker": {
          "color": "#ab63fa",
          "opacity": 0.5,
          "pattern": {
           "shape": ""
          }
         },
         "name": "English",
         "offsetgroup": "English",
         "orientation": "v",
         "showlegend": false,
         "textposition": "auto",
         "type": "bar",
         "x": [
          "As",
          "NAs",
          "Entries",
          "Bs",
          "Cs",
          "Ds"
         ],
         "xaxis": "x5",
         "y": [
          640,
          40,
          1920,
          620,
          500,
          120
         ],
         "yaxis": "y5"
        },
        {
         "alignmentgroup": "True",
         "hovertemplate": "Subject=English<br>Year=2020<br>School=Ind<br>Grades=%{x}<br>Students=%{y}<extra></extra>",
         "legendgroup": "English",
         "marker": {
          "color": "#ab63fa",
          "opacity": 0.5,
          "pattern": {
           "shape": ""
          }
         },
         "name": "English",
         "offsetgroup": "English",
         "orientation": "v",
         "showlegend": false,
         "textposition": "auto",
         "type": "bar",
         "x": [
          "As",
          "NAs",
          "Entries",
          "Bs",
          "Cs",
          "Ds"
         ],
         "xaxis": "x6",
         "y": [
          185,
          null,
          305,
          85,
          30,
          5
         ],
         "yaxis": "y6"
        },
        {
         "alignmentgroup": "True",
         "hovertemplate": "Subject=English<br>Year=2019<br>School=State<br>Grades=%{x}<br>Students=%{y}<extra></extra>",
         "legendgroup": "English",
         "marker": {
          "color": "#ab63fa",
          "opacity": 0.5,
          "pattern": {
           "shape": ""
          }
         },
         "name": "English",
         "offsetgroup": "English",
         "orientation": "v",
         "showlegend": false,
         "textposition": "auto",
         "type": "bar",
         "x": [
          "As",
          "NAs",
          "Entries",
          "Bs",
          "Cs",
          "Ds"
         ],
         "xaxis": "x3",
         "y": [
          350,
          225,
          2050,
          550,
          660,
          265
         ],
         "yaxis": "y3"
        },
        {
         "alignmentgroup": "True",
         "hovertemplate": "Subject=English<br>Year=2019<br>School=Ind<br>Grades=%{x}<br>Students=%{y}<extra></extra>",
         "legendgroup": "English",
         "marker": {
          "color": "#ab63fa",
          "opacity": 0.5,
          "pattern": {
           "shape": ""
          }
         },
         "name": "English",
         "offsetgroup": "English",
         "orientation": "v",
         "showlegend": false,
         "textposition": "auto",
         "type": "bar",
         "x": [
          "As",
          "NAs",
          "Entries",
          "Bs",
          "Cs",
          "Ds"
         ],
         "xaxis": "x4",
         "y": [
          130,
          null,
          285,
          75,
          65,
          10
         ],
         "yaxis": "y4"
        },
        {
         "alignmentgroup": "True",
         "hovertemplate": "Subject=English<br>Year=2018<br>School=State<br>Grades=%{x}<br>Students=%{y}<extra></extra>",
         "legendgroup": "English",
         "marker": {
          "color": "#ab63fa",
          "opacity": 0.5,
          "pattern": {
           "shape": ""
          }
         },
         "name": "English",
         "offsetgroup": "English",
         "orientation": "v",
         "showlegend": false,
         "textposition": "auto",
         "type": "bar",
         "x": [
          "As",
          "NAs",
          "Entries",
          "Bs",
          "Cs",
          "Ds"
         ],
         "xaxis": "x",
         "y": [
          500,
          210,
          2150,
          590,
          610,
          240
         ],
         "yaxis": "y"
        },
        {
         "alignmentgroup": "True",
         "hovertemplate": "Subject=English<br>Year=2018<br>School=Ind<br>Grades=%{x}<br>Students=%{y}<extra></extra>",
         "legendgroup": "English",
         "marker": {
          "color": "#ab63fa",
          "opacity": 0.5,
          "pattern": {
           "shape": ""
          }
         },
         "name": "English",
         "offsetgroup": "English",
         "orientation": "v",
         "showlegend": false,
         "textposition": "auto",
         "type": "bar",
         "x": [
          "As",
          "NAs",
          "Entries",
          "Bs",
          "Cs",
          "Ds"
         ],
         "xaxis": "x2",
         "y": [
          135,
          5,
          320,
          110,
          60,
          10
         ],
         "yaxis": "y2"
        },
        {
         "alignmentgroup": "True",
         "hovertemplate": "Subject=French<br>Year=2022<br>School=State<br>Grades=%{x}<br>Students=%{y}<extra></extra>",
         "legendgroup": "French",
         "marker": {
          "color": "#FFA15A",
          "opacity": 0.5,
          "pattern": {
           "shape": ""
          }
         },
         "name": "French",
         "offsetgroup": "French",
         "orientation": "v",
         "showlegend": true,
         "textposition": "auto",
         "type": "bar",
         "x": [
          "As",
          "NAs",
          "Entries",
          "Bs",
          "Cs",
          "Ds"
         ],
         "xaxis": "x9",
         "y": [
          155,
          30,
          400,
          80,
          85,
          50
         ],
         "yaxis": "y9"
        },
        {
         "alignmentgroup": "True",
         "hovertemplate": "Subject=French<br>Year=2022<br>School=Ind<br>Grades=%{x}<br>Students=%{y}<extra></extra>",
         "legendgroup": "French",
         "marker": {
          "color": "#FFA15A",
          "opacity": 0.5,
          "pattern": {
           "shape": ""
          }
         },
         "name": "French",
         "offsetgroup": "French",
         "orientation": "v",
         "showlegend": false,
         "textposition": "auto",
         "type": "bar",
         "x": [
          "As",
          "NAs",
          "Entries",
          "Bs",
          "Cs",
          "Ds"
         ],
         "xaxis": "x10",
         "y": [
          60,
          null,
          90,
          15,
          10,
          5
         ],
         "yaxis": "y10"
        },
        {
         "alignmentgroup": "True",
         "hovertemplate": "Subject=French<br>Year=2021<br>School=State<br>Grades=%{x}<br>Students=%{y}<extra></extra>",
         "legendgroup": "French",
         "marker": {
          "color": "#FFA15A",
          "opacity": 0.5,
          "pattern": {
           "shape": ""
          }
         },
         "name": "French",
         "offsetgroup": "French",
         "orientation": "v",
         "showlegend": false,
         "textposition": "auto",
         "type": "bar",
         "x": [
          "As",
          "NAs",
          "Entries",
          "Bs",
          "Cs",
          "Ds"
         ],
         "xaxis": "x7",
         "y": [
          260,
          10,
          475,
          115,
          70,
          20
         ],
         "yaxis": "y7"
        },
        {
         "alignmentgroup": "True",
         "hovertemplate": "Subject=French<br>Year=2021<br>School=Ind<br>Grades=%{x}<br>Students=%{y}<extra></extra>",
         "legendgroup": "French",
         "marker": {
          "color": "#FFA15A",
          "opacity": 0.5,
          "pattern": {
           "shape": ""
          }
         },
         "name": "French",
         "offsetgroup": "French",
         "orientation": "v",
         "showlegend": false,
         "textposition": "auto",
         "type": "bar",
         "x": [
          "As",
          "NAs",
          "Entries",
          "Bs",
          "Cs",
          "Ds"
         ],
         "xaxis": "x8",
         "y": [
          80,
          0,
          95,
          10,
          5,
          0
         ],
         "yaxis": "y8"
        },
        {
         "alignmentgroup": "True",
         "hovertemplate": "Subject=French<br>Year=2020<br>School=State<br>Grades=%{x}<br>Students=%{y}<extra></extra>",
         "legendgroup": "French",
         "marker": {
          "color": "#FFA15A",
          "opacity": 0.5,
          "pattern": {
           "shape": ""
          }
         },
         "name": "French",
         "offsetgroup": "French",
         "orientation": "v",
         "showlegend": false,
         "textposition": "auto",
         "type": "bar",
         "x": [
          "As",
          "NAs",
          "Entries",
          "Bs",
          "Cs",
          "Ds"
         ],
         "xaxis": "x5",
         "y": [
          240,
          null,
          430,
          115,
          55,
          20
         ],
         "yaxis": "y5"
        },
        {
         "alignmentgroup": "True",
         "hovertemplate": "Subject=French<br>Year=2020<br>School=Ind<br>Grades=%{x}<br>Students=%{y}<extra></extra>",
         "legendgroup": "French",
         "marker": {
          "color": "#FFA15A",
          "opacity": 0.5,
          "pattern": {
           "shape": ""
          }
         },
         "name": "French",
         "offsetgroup": "French",
         "orientation": "v",
         "showlegend": false,
         "textposition": "auto",
         "type": "bar",
         "x": [
          "As",
          "NAs",
          "Entries",
          "Bs",
          "Cs",
          "Ds"
         ],
         "xaxis": "x6",
         "y": [
          85,
          0,
          120,
          30,
          5,
          0
         ],
         "yaxis": "y6"
        },
        {
         "alignmentgroup": "True",
         "hovertemplate": "Subject=French<br>Year=2019<br>School=State<br>Grades=%{x}<br>Students=%{y}<extra></extra>",
         "legendgroup": "French",
         "marker": {
          "color": "#FFA15A",
          "opacity": 0.5,
          "pattern": {
           "shape": ""
          }
         },
         "name": "French",
         "offsetgroup": "French",
         "orientation": "v",
         "showlegend": false,
         "textposition": "auto",
         "type": "bar",
         "x": [
          "As",
          "NAs",
          "Entries",
          "Bs",
          "Cs",
          "Ds"
         ],
         "xaxis": "x3",
         "y": [
          150,
          95,
          460,
          85,
          100,
          30
         ],
         "yaxis": "y3"
        },
        {
         "alignmentgroup": "True",
         "hovertemplate": "Subject=French<br>Year=2019<br>School=Ind<br>Grades=%{x}<br>Students=%{y}<extra></extra>",
         "legendgroup": "French",
         "marker": {
          "color": "#FFA15A",
          "opacity": 0.5,
          "pattern": {
           "shape": ""
          }
         },
         "name": "French",
         "offsetgroup": "French",
         "orientation": "v",
         "showlegend": false,
         "textposition": "auto",
         "type": "bar",
         "x": [
          "As",
          "NAs",
          "Entries",
          "Bs",
          "Cs",
          "Ds"
         ],
         "xaxis": "x4",
         "y": [
          70,
          5,
          115,
          25,
          10,
          5
         ],
         "yaxis": "y4"
        },
        {
         "alignmentgroup": "True",
         "hovertemplate": "Subject=French<br>Year=2018<br>School=State<br>Grades=%{x}<br>Students=%{y}<extra></extra>",
         "legendgroup": "French",
         "marker": {
          "color": "#FFA15A",
          "opacity": 0.5,
          "pattern": {
           "shape": ""
          }
         },
         "name": "French",
         "offsetgroup": "French",
         "orientation": "v",
         "showlegend": false,
         "textposition": "auto",
         "type": "bar",
         "x": [
          "As",
          "NAs",
          "Entries",
          "Bs",
          "Cs",
          "Ds"
         ],
         "xaxis": "x",
         "y": [
          195,
          45,
          500,
          135,
          95,
          35
         ],
         "yaxis": "y"
        },
        {
         "alignmentgroup": "True",
         "hovertemplate": "Subject=French<br>Year=2018<br>School=Ind<br>Grades=%{x}<br>Students=%{y}<extra></extra>",
         "legendgroup": "French",
         "marker": {
          "color": "#FFA15A",
          "opacity": 0.5,
          "pattern": {
           "shape": ""
          }
         },
         "name": "French",
         "offsetgroup": "French",
         "orientation": "v",
         "showlegend": false,
         "textposition": "auto",
         "type": "bar",
         "x": [
          "As",
          "NAs",
          "Entries",
          "Bs",
          "Cs",
          "Ds"
         ],
         "xaxis": "x2",
         "y": [
          70,
          null,
          125,
          30,
          15,
          5
         ],
         "yaxis": "y2"
        },
        {
         "alignmentgroup": "True",
         "hovertemplate": "Subject=Gaelic (Learners)<br>Year=2022<br>School=State<br>Grades=%{x}<br>Students=%{y}<extra></extra>",
         "legendgroup": "Gaelic (Learners)",
         "marker": {
          "color": "#19d3f3",
          "opacity": 0.5,
          "pattern": {
           "shape": ""
          }
         },
         "name": "Gaelic (Learners)",
         "offsetgroup": "Gaelic (Learners)",
         "orientation": "v",
         "showlegend": true,
         "textposition": "auto",
         "type": "bar",
         "x": [
          "As",
          "NAs",
          "Entries",
          "Bs",
          "Cs",
          "Ds"
         ],
         "xaxis": "x9",
         "y": [
          null,
          0,
          5,
          null,
          null,
          0
         ],
         "yaxis": "y9"
        },
        {
         "alignmentgroup": "True",
         "hovertemplate": "Subject=Gaelic (Learners)<br>Year=2021<br>School=State<br>Grades=%{x}<br>Students=%{y}<extra></extra>",
         "legendgroup": "Gaelic (Learners)",
         "marker": {
          "color": "#19d3f3",
          "opacity": 0.5,
          "pattern": {
           "shape": ""
          }
         },
         "name": "Gaelic (Learners)",
         "offsetgroup": "Gaelic (Learners)",
         "orientation": "v",
         "showlegend": false,
         "textposition": "auto",
         "type": "bar",
         "x": [
          "As",
          "NAs",
          "Entries",
          "Bs",
          "Cs",
          "Ds"
         ],
         "xaxis": "x7",
         "y": [
          5,
          0,
          10,
          5,
          0,
          0
         ],
         "yaxis": "y7"
        },
        {
         "alignmentgroup": "True",
         "hovertemplate": "Subject=Gaelic (Learners)<br>Year=2020<br>School=State<br>Grades=%{x}<br>Students=%{y}<extra></extra>",
         "legendgroup": "Gaelic (Learners)",
         "marker": {
          "color": "#19d3f3",
          "opacity": 0.5,
          "pattern": {
           "shape": ""
          }
         },
         "name": "Gaelic (Learners)",
         "offsetgroup": "Gaelic (Learners)",
         "orientation": "v",
         "showlegend": false,
         "textposition": "auto",
         "type": "bar",
         "x": [
          "As",
          "NAs",
          "Entries",
          "Bs",
          "Cs",
          "Ds"
         ],
         "xaxis": "x5",
         "y": [
          5,
          0,
          10,
          5,
          0,
          0
         ],
         "yaxis": "y5"
        },
        {
         "alignmentgroup": "True",
         "hovertemplate": "Subject=Gaelic (Learners)<br>Year=2019<br>School=State<br>Grades=%{x}<br>Students=%{y}<extra></extra>",
         "legendgroup": "Gaelic (Learners)",
         "marker": {
          "color": "#19d3f3",
          "opacity": 0.5,
          "pattern": {
           "shape": ""
          }
         },
         "name": "Gaelic (Learners)",
         "offsetgroup": "Gaelic (Learners)",
         "orientation": "v",
         "showlegend": false,
         "textposition": "auto",
         "type": "bar",
         "x": [
          "As",
          "NAs",
          "Entries",
          "Bs",
          "Cs",
          "Ds"
         ],
         "xaxis": "x3",
         "y": [
          5,
          null,
          15,
          5,
          5,
          0
         ],
         "yaxis": "y3"
        },
        {
         "alignmentgroup": "True",
         "hovertemplate": "Subject=Gaelic (Learners)<br>Year=2018<br>School=State<br>Grades=%{x}<br>Students=%{y}<extra></extra>",
         "legendgroup": "Gaelic (Learners)",
         "marker": {
          "color": "#19d3f3",
          "opacity": 0.5,
          "pattern": {
           "shape": ""
          }
         },
         "name": "Gaelic (Learners)",
         "offsetgroup": "Gaelic (Learners)",
         "orientation": "v",
         "showlegend": false,
         "textposition": "auto",
         "type": "bar",
         "x": [
          "As",
          "NAs",
          "Entries",
          "Bs",
          "Cs",
          "Ds"
         ],
         "xaxis": "x",
         "y": [
          null,
          0,
          10,
          null,
          5,
          0
         ],
         "yaxis": "y"
        },
        {
         "alignmentgroup": "True",
         "hovertemplate": "Subject=Gàidhlig<br>Year=2022<br>School=State<br>Grades=%{x}<br>Students=%{y}<extra></extra>",
         "legendgroup": "Gàidhlig",
         "marker": {
          "color": "#FF6692",
          "opacity": 0.5,
          "pattern": {
           "shape": ""
          }
         },
         "name": "Gàidhlig",
         "offsetgroup": "Gàidhlig",
         "orientation": "v",
         "showlegend": true,
         "textposition": "auto",
         "type": "bar",
         "x": [
          "As",
          "NAs",
          "Entries",
          "Bs",
          "Cs",
          "Ds"
         ],
         "xaxis": "x9",
         "y": [
          10,
          null,
          25,
          10,
          0,
          5
         ],
         "yaxis": "y9"
        },
        {
         "alignmentgroup": "True",
         "hovertemplate": "Subject=Gàidhlig<br>Year=2021<br>School=State<br>Grades=%{x}<br>Students=%{y}<extra></extra>",
         "legendgroup": "Gàidhlig",
         "marker": {
          "color": "#FF6692",
          "opacity": 0.5,
          "pattern": {
           "shape": ""
          }
         },
         "name": "Gàidhlig",
         "offsetgroup": "Gàidhlig",
         "orientation": "v",
         "showlegend": false,
         "textposition": "auto",
         "type": "bar",
         "x": [
          "As",
          "NAs",
          "Entries",
          "Bs",
          "Cs",
          "Ds"
         ],
         "xaxis": "x7",
         "y": [
          20,
          0,
          30,
          5,
          5,
          0
         ],
         "yaxis": "y7"
        },
        {
         "alignmentgroup": "True",
         "hovertemplate": "Subject=Gàidhlig<br>Year=2020<br>School=State<br>Grades=%{x}<br>Students=%{y}<extra></extra>",
         "legendgroup": "Gàidhlig",
         "marker": {
          "color": "#FF6692",
          "opacity": 0.5,
          "pattern": {
           "shape": ""
          }
         },
         "name": "Gàidhlig",
         "offsetgroup": "Gàidhlig",
         "orientation": "v",
         "showlegend": false,
         "textposition": "auto",
         "type": "bar",
         "x": [
          "As",
          "NAs",
          "Entries",
          "Bs",
          "Cs",
          "Ds"
         ],
         "xaxis": "x5",
         "y": [
          25,
          null,
          45,
          10,
          5,
          0
         ],
         "yaxis": "y5"
        },
        {
         "alignmentgroup": "True",
         "hovertemplate": "Subject=Gàidhlig<br>Year=2019<br>School=State<br>Grades=%{x}<br>Students=%{y}<extra></extra>",
         "legendgroup": "Gàidhlig",
         "marker": {
          "color": "#FF6692",
          "opacity": 0.5,
          "pattern": {
           "shape": ""
          }
         },
         "name": "Gàidhlig",
         "offsetgroup": "Gàidhlig",
         "orientation": "v",
         "showlegend": false,
         "textposition": "auto",
         "type": "bar",
         "x": [
          "As",
          "NAs",
          "Entries",
          "Bs",
          "Cs",
          "Ds"
         ],
         "xaxis": "x3",
         "y": [
          15,
          0,
          30,
          5,
          5,
          5
         ],
         "yaxis": "y3"
        },
        {
         "alignmentgroup": "True",
         "hovertemplate": "Subject=Gàidhlig<br>Year=2018<br>School=State<br>Grades=%{x}<br>Students=%{y}<extra></extra>",
         "legendgroup": "Gàidhlig",
         "marker": {
          "color": "#FF6692",
          "opacity": 0.5,
          "pattern": {
           "shape": ""
          }
         },
         "name": "Gàidhlig",
         "offsetgroup": "Gàidhlig",
         "orientation": "v",
         "showlegend": false,
         "textposition": "auto",
         "type": "bar",
         "x": [
          "As",
          "NAs",
          "Entries",
          "Bs",
          "Cs",
          "Ds"
         ],
         "xaxis": "x",
         "y": [
          20,
          null,
          30,
          0,
          5,
          5
         ],
         "yaxis": "y"
        },
        {
         "alignmentgroup": "True",
         "hovertemplate": "Subject=Geography<br>Year=2022<br>School=State<br>Grades=%{x}<br>Students=%{y}<extra></extra>",
         "legendgroup": "Geography",
         "marker": {
          "color": "#B6E880",
          "opacity": 0.5,
          "pattern": {
           "shape": ""
          }
         },
         "name": "Geography",
         "offsetgroup": "Geography",
         "orientation": "v",
         "showlegend": true,
         "textposition": "auto",
         "type": "bar",
         "x": [
          "As",
          "NAs",
          "Entries",
          "Bs",
          "Cs",
          "Ds"
         ],
         "xaxis": "x9",
         "y": [
          150,
          25,
          785,
          275,
          240,
          95
         ],
         "yaxis": "y9"
        },
        {
         "alignmentgroup": "True",
         "hovertemplate": "Subject=Geography<br>Year=2022<br>School=Ind<br>Grades=%{x}<br>Students=%{y}<extra></extra>",
         "legendgroup": "Geography",
         "marker": {
          "color": "#B6E880",
          "opacity": 0.5,
          "pattern": {
           "shape": ""
          }
         },
         "name": "Geography",
         "offsetgroup": "Geography",
         "orientation": "v",
         "showlegend": false,
         "textposition": "auto",
         "type": "bar",
         "x": [
          "As",
          "NAs",
          "Entries",
          "Bs",
          "Cs",
          "Ds"
         ],
         "xaxis": "x10",
         "y": [
          100,
          0,
          230,
          80,
          40,
          10
         ],
         "yaxis": "y10"
        },
        {
         "alignmentgroup": "True",
         "hovertemplate": "Subject=Geography<br>Year=2021<br>School=State<br>Grades=%{x}<br>Students=%{y}<extra></extra>",
         "legendgroup": "Geography",
         "marker": {
          "color": "#B6E880",
          "opacity": 0.5,
          "pattern": {
           "shape": ""
          }
         },
         "name": "Geography",
         "offsetgroup": "Geography",
         "orientation": "v",
         "showlegend": false,
         "textposition": "auto",
         "type": "bar",
         "x": [
          "As",
          "NAs",
          "Entries",
          "Bs",
          "Cs",
          "Ds"
         ],
         "xaxis": "x7",
         "y": [
          265,
          20,
          620,
          170,
          140,
          30
         ],
         "yaxis": "y7"
        },
        {
         "alignmentgroup": "True",
         "hovertemplate": "Subject=Geography<br>Year=2021<br>School=Ind<br>Grades=%{x}<br>Students=%{y}<extra></extra>",
         "legendgroup": "Geography",
         "marker": {
          "color": "#B6E880",
          "opacity": 0.5,
          "pattern": {
           "shape": ""
          }
         },
         "name": "Geography",
         "offsetgroup": "Geography",
         "orientation": "v",
         "showlegend": false,
         "textposition": "auto",
         "type": "bar",
         "x": [
          "As",
          "NAs",
          "Entries",
          "Bs",
          "Cs",
          "Ds"
         ],
         "xaxis": "x8",
         "y": [
          105,
          0,
          175,
          50,
          15,
          5
         ],
         "yaxis": "y8"
        },
        {
         "alignmentgroup": "True",
         "hovertemplate": "Subject=Geography<br>Year=2020<br>School=State<br>Grades=%{x}<br>Students=%{y}<extra></extra>",
         "legendgroup": "Geography",
         "marker": {
          "color": "#B6E880",
          "opacity": 0.5,
          "pattern": {
           "shape": ""
          }
         },
         "name": "Geography",
         "offsetgroup": "Geography",
         "orientation": "v",
         "showlegend": false,
         "textposition": "auto",
         "type": "bar",
         "x": [
          "As",
          "NAs",
          "Entries",
          "Bs",
          "Cs",
          "Ds"
         ],
         "xaxis": "x5",
         "y": [
          200,
          10,
          555,
          195,
          125,
          25
         ],
         "yaxis": "y5"
        },
        {
         "alignmentgroup": "True",
         "hovertemplate": "Subject=Geography<br>Year=2020<br>School=Ind<br>Grades=%{x}<br>Students=%{y}<extra></extra>",
         "legendgroup": "Geography",
         "marker": {
          "color": "#B6E880",
          "opacity": 0.5,
          "pattern": {
           "shape": ""
          }
         },
         "name": "Geography",
         "offsetgroup": "Geography",
         "orientation": "v",
         "showlegend": false,
         "textposition": "auto",
         "type": "bar",
         "x": [
          "As",
          "NAs",
          "Entries",
          "Bs",
          "Cs",
          "Ds"
         ],
         "xaxis": "x6",
         "y": [
          115,
          0,
          195,
          55,
          25,
          0
         ],
         "yaxis": "y6"
        },
        {
         "alignmentgroup": "True",
         "hovertemplate": "Subject=Geography<br>Year=2019<br>School=State<br>Grades=%{x}<br>Students=%{y}<extra></extra>",
         "legendgroup": "Geography",
         "marker": {
          "color": "#B6E880",
          "opacity": 0.5,
          "pattern": {
           "shape": ""
          }
         },
         "name": "Geography",
         "offsetgroup": "Geography",
         "orientation": "v",
         "showlegend": false,
         "textposition": "auto",
         "type": "bar",
         "x": [
          "As",
          "NAs",
          "Entries",
          "Bs",
          "Cs",
          "Ds"
         ],
         "xaxis": "x3",
         "y": [
          125,
          45,
          565,
          175,
          165,
          55
         ],
         "yaxis": "y3"
        },
        {
         "alignmentgroup": "True",
         "hovertemplate": "Subject=Geography<br>Year=2019<br>School=Ind<br>Grades=%{x}<br>Students=%{y}<extra></extra>",
         "legendgroup": "Geography",
         "marker": {
          "color": "#B6E880",
          "opacity": 0.5,
          "pattern": {
           "shape": ""
          }
         },
         "name": "Geography",
         "offsetgroup": "Geography",
         "orientation": "v",
         "showlegend": false,
         "textposition": "auto",
         "type": "bar",
         "x": [
          "As",
          "NAs",
          "Entries",
          "Bs",
          "Cs",
          "Ds"
         ],
         "xaxis": "x4",
         "y": [
          65,
          null,
          145,
          60,
          15,
          5
         ],
         "yaxis": "y4"
        },
        {
         "alignmentgroup": "True",
         "hovertemplate": "Subject=Geography<br>Year=2018<br>School=State<br>Grades=%{x}<br>Students=%{y}<extra></extra>",
         "legendgroup": "Geography",
         "marker": {
          "color": "#B6E880",
          "opacity": 0.5,
          "pattern": {
           "shape": ""
          }
         },
         "name": "Geography",
         "offsetgroup": "Geography",
         "orientation": "v",
         "showlegend": false,
         "textposition": "auto",
         "type": "bar",
         "x": [
          "As",
          "NAs",
          "Entries",
          "Bs",
          "Cs",
          "Ds"
         ],
         "xaxis": "x",
         "y": [
          140,
          40,
          615,
          215,
          175,
          45
         ],
         "yaxis": "y"
        },
        {
         "alignmentgroup": "True",
         "hovertemplate": "Subject=Geography<br>Year=2018<br>School=Ind<br>Grades=%{x}<br>Students=%{y}<extra></extra>",
         "legendgroup": "Geography",
         "marker": {
          "color": "#B6E880",
          "opacity": 0.5,
          "pattern": {
           "shape": ""
          }
         },
         "name": "Geography",
         "offsetgroup": "Geography",
         "orientation": "v",
         "showlegend": false,
         "textposition": "auto",
         "type": "bar",
         "x": [
          "As",
          "NAs",
          "Entries",
          "Bs",
          "Cs",
          "Ds"
         ],
         "xaxis": "x2",
         "y": [
          80,
          null,
          190,
          70,
          35,
          0
         ],
         "yaxis": "y2"
        },
        {
         "alignmentgroup": "True",
         "hovertemplate": "Subject=German<br>Year=2022<br>School=State<br>Grades=%{x}<br>Students=%{y}<extra></extra>",
         "legendgroup": "German",
         "marker": {
          "color": "#FF97FF",
          "opacity": 0.5,
          "pattern": {
           "shape": ""
          }
         },
         "name": "German",
         "offsetgroup": "German",
         "orientation": "v",
         "showlegend": true,
         "textposition": "auto",
         "type": "bar",
         "x": [
          "As",
          "NAs",
          "Entries",
          "Bs",
          "Cs",
          "Ds"
         ],
         "xaxis": "x9",
         "y": [
          35,
          null,
          65,
          15,
          5,
          10
         ],
         "yaxis": "y9"
        },
        {
         "alignmentgroup": "True",
         "hovertemplate": "Subject=German<br>Year=2022<br>School=Ind<br>Grades=%{x}<br>Students=%{y}<extra></extra>",
         "legendgroup": "German",
         "marker": {
          "color": "#FF97FF",
          "opacity": 0.5,
          "pattern": {
           "shape": ""
          }
         },
         "name": "German",
         "offsetgroup": "German",
         "orientation": "v",
         "showlegend": false,
         "textposition": "auto",
         "type": "bar",
         "x": [
          "As",
          "NAs",
          "Entries",
          "Bs",
          "Cs",
          "Ds"
         ],
         "xaxis": "x10",
         "y": [
          25,
          null,
          40,
          10,
          5,
          0
         ],
         "yaxis": "y10"
        },
        {
         "alignmentgroup": "True",
         "hovertemplate": "Subject=German<br>Year=2021<br>School=State<br>Grades=%{x}<br>Students=%{y}<extra></extra>",
         "legendgroup": "German",
         "marker": {
          "color": "#FF97FF",
          "opacity": 0.5,
          "pattern": {
           "shape": ""
          }
         },
         "name": "German",
         "offsetgroup": "German",
         "orientation": "v",
         "showlegend": false,
         "textposition": "auto",
         "type": "bar",
         "x": [
          "As",
          "NAs",
          "Entries",
          "Bs",
          "Cs",
          "Ds"
         ],
         "xaxis": "x7",
         "y": [
          60,
          null,
          100,
          20,
          15,
          5
         ],
         "yaxis": "y7"
        },
        {
         "alignmentgroup": "True",
         "hovertemplate": "Subject=German<br>Year=2021<br>School=Ind<br>Grades=%{x}<br>Students=%{y}<extra></extra>",
         "legendgroup": "German",
         "marker": {
          "color": "#FF97FF",
          "opacity": 0.5,
          "pattern": {
           "shape": ""
          }
         },
         "name": "German",
         "offsetgroup": "German",
         "orientation": "v",
         "showlegend": false,
         "textposition": "auto",
         "type": "bar",
         "x": [
          "As",
          "NAs",
          "Entries",
          "Bs",
          "Cs",
          "Ds"
         ],
         "xaxis": "x8",
         "y": [
          35,
          null,
          40,
          5,
          0,
          0
         ],
         "yaxis": "y8"
        },
        {
         "alignmentgroup": "True",
         "hovertemplate": "Subject=German<br>Year=2020<br>School=State<br>Grades=%{x}<br>Students=%{y}<extra></extra>",
         "legendgroup": "German",
         "marker": {
          "color": "#FF97FF",
          "opacity": 0.5,
          "pattern": {
           "shape": ""
          }
         },
         "name": "German",
         "offsetgroup": "German",
         "orientation": "v",
         "showlegend": false,
         "textposition": "auto",
         "type": "bar",
         "x": [
          "As",
          "NAs",
          "Entries",
          "Bs",
          "Cs",
          "Ds"
         ],
         "xaxis": "x5",
         "y": [
          30,
          null,
          75,
          20,
          20,
          0
         ],
         "yaxis": "y5"
        },
        {
         "alignmentgroup": "True",
         "hovertemplate": "Subject=German<br>Year=2020<br>School=Ind<br>Grades=%{x}<br>Students=%{y}<extra></extra>",
         "legendgroup": "German",
         "marker": {
          "color": "#FF97FF",
          "opacity": 0.5,
          "pattern": {
           "shape": ""
          }
         },
         "name": "German",
         "offsetgroup": "German",
         "orientation": "v",
         "showlegend": false,
         "textposition": "auto",
         "type": "bar",
         "x": [
          "As",
          "NAs",
          "Entries",
          "Bs",
          "Cs",
          "Ds"
         ],
         "xaxis": "x6",
         "y": [
          25,
          0,
          30,
          5,
          0,
          0
         ],
         "yaxis": "y6"
        },
        {
         "alignmentgroup": "True",
         "hovertemplate": "Subject=German<br>Year=2019<br>School=State<br>Grades=%{x}<br>Students=%{y}<extra></extra>",
         "legendgroup": "German",
         "marker": {
          "color": "#FF97FF",
          "opacity": 0.5,
          "pattern": {
           "shape": ""
          }
         },
         "name": "German",
         "offsetgroup": "German",
         "orientation": "v",
         "showlegend": false,
         "textposition": "auto",
         "type": "bar",
         "x": [
          "As",
          "NAs",
          "Entries",
          "Bs",
          "Cs",
          "Ds"
         ],
         "xaxis": "x3",
         "y": [
          45,
          null,
          80,
          20,
          10,
          0
         ],
         "yaxis": "y3"
        },
        {
         "alignmentgroup": "True",
         "hovertemplate": "Subject=German<br>Year=2019<br>School=Ind<br>Grades=%{x}<br>Students=%{y}<extra></extra>",
         "legendgroup": "German",
         "marker": {
          "color": "#FF97FF",
          "opacity": 0.5,
          "pattern": {
           "shape": ""
          }
         },
         "name": "German",
         "offsetgroup": "German",
         "orientation": "v",
         "showlegend": false,
         "textposition": "auto",
         "type": "bar",
         "x": [
          "As",
          "NAs",
          "Entries",
          "Bs",
          "Cs",
          "Ds"
         ],
         "xaxis": "x4",
         "y": [
          35,
          null,
          50,
          10,
          5,
          0
         ],
         "yaxis": "y4"
        },
        {
         "alignmentgroup": "True",
         "hovertemplate": "Subject=German<br>Year=2018<br>School=State<br>Grades=%{x}<br>Students=%{y}<extra></extra>",
         "legendgroup": "German",
         "marker": {
          "color": "#FF97FF",
          "opacity": 0.5,
          "pattern": {
           "shape": ""
          }
         },
         "name": "German",
         "offsetgroup": "German",
         "orientation": "v",
         "showlegend": false,
         "textposition": "auto",
         "type": "bar",
         "x": [
          "As",
          "NAs",
          "Entries",
          "Bs",
          "Cs",
          "Ds"
         ],
         "xaxis": "x",
         "y": [
          50,
          5,
          90,
          15,
          15,
          5
         ],
         "yaxis": "y"
        },
        {
         "alignmentgroup": "True",
         "hovertemplate": "Subject=German<br>Year=2018<br>School=Ind<br>Grades=%{x}<br>Students=%{y}<extra></extra>",
         "legendgroup": "German",
         "marker": {
          "color": "#FF97FF",
          "opacity": 0.5,
          "pattern": {
           "shape": ""
          }
         },
         "name": "German",
         "offsetgroup": "German",
         "orientation": "v",
         "showlegend": false,
         "textposition": "auto",
         "type": "bar",
         "x": [
          "As",
          "NAs",
          "Entries",
          "Bs",
          "Cs",
          "Ds"
         ],
         "xaxis": "x2",
         "y": [
          30,
          0,
          35,
          5,
          0,
          0
         ],
         "yaxis": "y2"
        },
        {
         "alignmentgroup": "True",
         "hovertemplate": "Subject=Graphic Communication<br>Year=2022<br>School=State<br>Grades=%{x}<br>Students=%{y}<extra></extra>",
         "legendgroup": "Graphic Communication",
         "marker": {
          "color": "#FECB52",
          "opacity": 0.5,
          "pattern": {
           "shape": ""
          }
         },
         "name": "Graphic Communication",
         "offsetgroup": "Graphic Communication",
         "orientation": "v",
         "showlegend": true,
         "textposition": "auto",
         "type": "bar",
         "x": [
          "As",
          "NAs",
          "Entries",
          "Bs",
          "Cs",
          "Ds"
         ],
         "xaxis": "x9",
         "y": [
          60,
          90,
          445,
          90,
          115,
          90
         ],
         "yaxis": "y9"
        },
        {
         "alignmentgroup": "True",
         "hovertemplate": "Subject=Graphic Communication<br>Year=2022<br>School=Ind<br>Grades=%{x}<br>Students=%{y}<extra></extra>",
         "legendgroup": "Graphic Communication",
         "marker": {
          "color": "#FECB52",
          "opacity": 0.5,
          "pattern": {
           "shape": ""
          }
         },
         "name": "Graphic Communication",
         "offsetgroup": "Graphic Communication",
         "orientation": "v",
         "showlegend": false,
         "textposition": "auto",
         "type": "bar",
         "x": [
          "As",
          "NAs",
          "Entries",
          "Bs",
          "Cs",
          "Ds"
         ],
         "xaxis": "x10",
         "y": [
          10,
          null,
          20,
          5,
          0,
          5
         ],
         "yaxis": "y10"
        },
        {
         "alignmentgroup": "True",
         "hovertemplate": "Subject=Graphic Communication<br>Year=2021<br>School=State<br>Grades=%{x}<br>Students=%{y}<extra></extra>",
         "legendgroup": "Graphic Communication",
         "marker": {
          "color": "#FECB52",
          "opacity": 0.5,
          "pattern": {
           "shape": ""
          }
         },
         "name": "Graphic Communication",
         "offsetgroup": "Graphic Communication",
         "orientation": "v",
         "showlegend": false,
         "textposition": "auto",
         "type": "bar",
         "x": [
          "As",
          "NAs",
          "Entries",
          "Bs",
          "Cs",
          "Ds"
         ],
         "xaxis": "x7",
         "y": [
          140,
          25,
          450,
          115,
          125,
          45
         ],
         "yaxis": "y7"
        },
        {
         "alignmentgroup": "True",
         "hovertemplate": "Subject=Graphic Communication<br>Year=2021<br>School=Ind<br>Grades=%{x}<br>Students=%{y}<extra></extra>",
         "legendgroup": "Graphic Communication",
         "marker": {
          "color": "#FECB52",
          "opacity": 0.5,
          "pattern": {
           "shape": ""
          }
         },
         "name": "Graphic Communication",
         "offsetgroup": "Graphic Communication",
         "orientation": "v",
         "showlegend": false,
         "textposition": "auto",
         "type": "bar",
         "x": [
          "As",
          "NAs",
          "Entries",
          "Bs",
          "Cs",
          "Ds"
         ],
         "xaxis": "x8",
         "y": [
          5,
          0,
          10,
          5,
          0,
          0
         ],
         "yaxis": "y8"
        },
        {
         "alignmentgroup": "True",
         "hovertemplate": "Subject=Graphic Communication<br>Year=2020<br>School=State<br>Grades=%{x}<br>Students=%{y}<extra></extra>",
         "legendgroup": "Graphic Communication",
         "marker": {
          "color": "#FECB52",
          "opacity": 0.5,
          "pattern": {
           "shape": ""
          }
         },
         "name": "Graphic Communication",
         "offsetgroup": "Graphic Communication",
         "orientation": "v",
         "showlegend": false,
         "textposition": "auto",
         "type": "bar",
         "x": [
          "As",
          "NAs",
          "Entries",
          "Bs",
          "Cs",
          "Ds"
         ],
         "xaxis": "x5",
         "y": [
          90,
          10,
          365,
          135,
          110,
          20
         ],
         "yaxis": "y5"
        },
        {
         "alignmentgroup": "True",
         "hovertemplate": "Subject=Graphic Communication<br>Year=2020<br>School=Ind<br>Grades=%{x}<br>Students=%{y}<extra></extra>",
         "legendgroup": "Graphic Communication",
         "marker": {
          "color": "#FECB52",
          "opacity": 0.5,
          "pattern": {
           "shape": ""
          }
         },
         "name": "Graphic Communication",
         "offsetgroup": "Graphic Communication",
         "orientation": "v",
         "showlegend": false,
         "textposition": "auto",
         "type": "bar",
         "x": [
          "As",
          "NAs",
          "Entries",
          "Bs",
          "Cs",
          "Ds"
         ],
         "xaxis": "x6",
         "y": [
          null,
          0,
          10,
          null,
          0,
          0
         ],
         "yaxis": "y6"
        },
        {
         "alignmentgroup": "True",
         "hovertemplate": "Subject=Graphic Communication<br>Year=2019<br>School=State<br>Grades=%{x}<br>Students=%{y}<extra></extra>",
         "legendgroup": "Graphic Communication",
         "marker": {
          "color": "#FECB52",
          "opacity": 0.5,
          "pattern": {
           "shape": ""
          }
         },
         "name": "Graphic Communication",
         "offsetgroup": "Graphic Communication",
         "orientation": "v",
         "showlegend": false,
         "textposition": "auto",
         "type": "bar",
         "x": [
          "As",
          "NAs",
          "Entries",
          "Bs",
          "Cs",
          "Ds"
         ],
         "xaxis": "x3",
         "y": [
          50,
          130,
          495,
          125,
          135,
          55
         ],
         "yaxis": "y3"
        },
        {
         "alignmentgroup": "True",
         "hovertemplate": "Subject=Graphic Communication<br>Year=2019<br>School=Ind<br>Grades=%{x}<br>Students=%{y}<extra></extra>",
         "legendgroup": "Graphic Communication",
         "marker": {
          "color": "#FECB52",
          "opacity": 0.5,
          "pattern": {
           "shape": ""
          }
         },
         "name": "Graphic Communication",
         "offsetgroup": "Graphic Communication",
         "orientation": "v",
         "showlegend": false,
         "textposition": "auto",
         "type": "bar",
         "x": [
          "As",
          "NAs",
          "Entries",
          "Bs",
          "Cs",
          "Ds"
         ],
         "xaxis": "x4",
         "y": [
          null,
          null,
          10,
          null,
          0,
          5
         ],
         "yaxis": "y4"
        },
        {
         "alignmentgroup": "True",
         "hovertemplate": "Subject=Graphic Communication<br>Year=2018<br>School=State<br>Grades=%{x}<br>Students=%{y}<extra></extra>",
         "legendgroup": "Graphic Communication",
         "marker": {
          "color": "#FECB52",
          "opacity": 0.5,
          "pattern": {
           "shape": ""
          }
         },
         "name": "Graphic Communication",
         "offsetgroup": "Graphic Communication",
         "orientation": "v",
         "showlegend": false,
         "textposition": "auto",
         "type": "bar",
         "x": [
          "As",
          "NAs",
          "Entries",
          "Bs",
          "Cs",
          "Ds"
         ],
         "xaxis": "x",
         "y": [
          50,
          115,
          505,
          120,
          160,
          60
         ],
         "yaxis": "y"
        },
        {
         "alignmentgroup": "True",
         "hovertemplate": "Subject=Graphic Communication<br>Year=2018<br>School=Ind<br>Grades=%{x}<br>Students=%{y}<extra></extra>",
         "legendgroup": "Graphic Communication",
         "marker": {
          "color": "#FECB52",
          "opacity": 0.5,
          "pattern": {
           "shape": ""
          }
         },
         "name": "Graphic Communication",
         "offsetgroup": "Graphic Communication",
         "orientation": "v",
         "showlegend": false,
         "textposition": "auto",
         "type": "bar",
         "x": [
          "As",
          "NAs",
          "Entries",
          "Bs",
          "Cs",
          "Ds"
         ],
         "xaxis": "x2",
         "y": [
          10,
          null,
          20,
          10,
          0,
          0
         ],
         "yaxis": "y2"
        },
        {
         "alignmentgroup": "True",
         "hovertemplate": "Subject=Health and Food Technology<br>Year=2022<br>School=State<br>Grades=%{x}<br>Students=%{y}<extra></extra>",
         "legendgroup": "Health and Food Technology",
         "marker": {
          "color": "#636efa",
          "opacity": 0.5,
          "pattern": {
           "shape": ""
          }
         },
         "name": "Health and Food Technology",
         "offsetgroup": "Health and Food Technology",
         "orientation": "v",
         "showlegend": true,
         "textposition": "auto",
         "type": "bar",
         "x": [
          "As",
          "NAs",
          "Entries",
          "Bs",
          "Cs",
          "Ds"
         ],
         "xaxis": "x9",
         "y": [
          15,
          null,
          60,
          15,
          20,
          10
         ],
         "yaxis": "y9"
        },
        {
         "alignmentgroup": "True",
         "hovertemplate": "Subject=Health and Food Technology<br>Year=2022<br>School=Ind<br>Grades=%{x}<br>Students=%{y}<extra></extra>",
         "legendgroup": "Health and Food Technology",
         "marker": {
          "color": "#636efa",
          "opacity": 0.5,
          "pattern": {
           "shape": ""
          }
         },
         "name": "Health and Food Technology",
         "offsetgroup": "Health and Food Technology",
         "orientation": "v",
         "showlegend": false,
         "textposition": "auto",
         "type": "bar",
         "x": [
          "As",
          "NAs",
          "Entries",
          "Bs",
          "Cs",
          "Ds"
         ],
         "xaxis": "x10",
         "y": [
          null,
          0,
          5,
          null,
          null,
          0
         ],
         "yaxis": "y10"
        },
        {
         "alignmentgroup": "True",
         "hovertemplate": "Subject=Health and Food Technology<br>Year=2021<br>School=State<br>Grades=%{x}<br>Students=%{y}<extra></extra>",
         "legendgroup": "Health and Food Technology",
         "marker": {
          "color": "#636efa",
          "opacity": 0.5,
          "pattern": {
           "shape": ""
          }
         },
         "name": "Health and Food Technology",
         "offsetgroup": "Health and Food Technology",
         "orientation": "v",
         "showlegend": false,
         "textposition": "auto",
         "type": "bar",
         "x": [
          "As",
          "NAs",
          "Entries",
          "Bs",
          "Cs",
          "Ds"
         ],
         "xaxis": "x7",
         "y": [
          15,
          null,
          35,
          10,
          10,
          0
         ],
         "yaxis": "y7"
        },
        {
         "alignmentgroup": "True",
         "hovertemplate": "Subject=Health and Food Technology<br>Year=2021<br>School=Ind<br>Grades=%{x}<br>Students=%{y}<extra></extra>",
         "legendgroup": "Health and Food Technology",
         "marker": {
          "color": "#636efa",
          "opacity": 0.5,
          "pattern": {
           "shape": ""
          }
         },
         "name": "Health and Food Technology",
         "offsetgroup": "Health and Food Technology",
         "orientation": "v",
         "showlegend": false,
         "textposition": "auto",
         "type": "bar",
         "x": [
          "As",
          "NAs",
          "Entries",
          "Bs",
          "Cs",
          "Ds"
         ],
         "xaxis": "x8",
         "y": [
          null,
          0,
          null,
          null,
          null,
          null
         ],
         "yaxis": "y8"
        },
        {
         "alignmentgroup": "True",
         "hovertemplate": "Subject=Health and Food Technology<br>Year=2020<br>School=State<br>Grades=%{x}<br>Students=%{y}<extra></extra>",
         "legendgroup": "Health and Food Technology",
         "marker": {
          "color": "#636efa",
          "opacity": 0.5,
          "pattern": {
           "shape": ""
          }
         },
         "name": "Health and Food Technology",
         "offsetgroup": "Health and Food Technology",
         "orientation": "v",
         "showlegend": false,
         "textposition": "auto",
         "type": "bar",
         "x": [
          "As",
          "NAs",
          "Entries",
          "Bs",
          "Cs",
          "Ds"
         ],
         "xaxis": "x5",
         "y": [
          10,
          0,
          20,
          5,
          5,
          0
         ],
         "yaxis": "y5"
        },
        {
         "alignmentgroup": "True",
         "hovertemplate": "Subject=Health and Food Technology<br>Year=2020<br>School=Ind<br>Grades=%{x}<br>Students=%{y}<extra></extra>",
         "legendgroup": "Health and Food Technology",
         "marker": {
          "color": "#636efa",
          "opacity": 0.5,
          "pattern": {
           "shape": ""
          }
         },
         "name": "Health and Food Technology",
         "offsetgroup": "Health and Food Technology",
         "orientation": "v",
         "showlegend": false,
         "textposition": "auto",
         "type": "bar",
         "x": [
          "As",
          "NAs",
          "Entries",
          "Bs",
          "Cs",
          "Ds"
         ],
         "xaxis": "x6",
         "y": [
          null,
          0,
          5,
          null,
          0,
          0
         ],
         "yaxis": "y6"
        },
        {
         "alignmentgroup": "True",
         "hovertemplate": "Subject=Health and Food Technology<br>Year=2019<br>School=State<br>Grades=%{x}<br>Students=%{y}<extra></extra>",
         "legendgroup": "Health and Food Technology",
         "marker": {
          "color": "#636efa",
          "opacity": 0.5,
          "pattern": {
           "shape": ""
          }
         },
         "name": "Health and Food Technology",
         "offsetgroup": "Health and Food Technology",
         "orientation": "v",
         "showlegend": false,
         "textposition": "auto",
         "type": "bar",
         "x": [
          "As",
          "NAs",
          "Entries",
          "Bs",
          "Cs",
          "Ds"
         ],
         "xaxis": "x3",
         "y": [
          null,
          null,
          15,
          null,
          null,
          0
         ],
         "yaxis": "y3"
        },
        {
         "alignmentgroup": "True",
         "hovertemplate": "Subject=Health and Food Technology<br>Year=2019<br>School=Ind<br>Grades=%{x}<br>Students=%{y}<extra></extra>",
         "legendgroup": "Health and Food Technology",
         "marker": {
          "color": "#636efa",
          "opacity": 0.5,
          "pattern": {
           "shape": ""
          }
         },
         "name": "Health and Food Technology",
         "offsetgroup": "Health and Food Technology",
         "orientation": "v",
         "showlegend": false,
         "textposition": "auto",
         "type": "bar",
         "x": [
          "As",
          "NAs",
          "Entries",
          "Bs",
          "Cs",
          "Ds"
         ],
         "xaxis": "x4",
         "y": [
          0,
          0,
          5,
          null,
          null,
          null
         ],
         "yaxis": "y4"
        },
        {
         "alignmentgroup": "True",
         "hovertemplate": "Subject=Health and Food Technology<br>Year=2018<br>School=State<br>Grades=%{x}<br>Students=%{y}<extra></extra>",
         "legendgroup": "Health and Food Technology",
         "marker": {
          "color": "#636efa",
          "opacity": 0.5,
          "pattern": {
           "shape": ""
          }
         },
         "name": "Health and Food Technology",
         "offsetgroup": "Health and Food Technology",
         "orientation": "v",
         "showlegend": false,
         "textposition": "auto",
         "type": "bar",
         "x": [
          "As",
          "NAs",
          "Entries",
          "Bs",
          "Cs",
          "Ds"
         ],
         "xaxis": "x",
         "y": [
          null,
          5,
          40,
          null,
          15,
          5
         ],
         "yaxis": "y"
        },
        {
         "alignmentgroup": "True",
         "hovertemplate": "Subject=Health and Food Technology<br>Year=2018<br>School=Ind<br>Grades=%{x}<br>Students=%{y}<extra></extra>",
         "legendgroup": "Health and Food Technology",
         "marker": {
          "color": "#636efa",
          "opacity": 0.5,
          "pattern": {
           "shape": ""
          }
         },
         "name": "Health and Food Technology",
         "offsetgroup": "Health and Food Technology",
         "orientation": "v",
         "showlegend": false,
         "textposition": "auto",
         "type": "bar",
         "x": [
          "As",
          "NAs",
          "Entries",
          "Bs",
          "Cs",
          "Ds"
         ],
         "xaxis": "x2",
         "y": [
          0,
          0,
          null,
          0,
          null,
          null
         ],
         "yaxis": "y2"
        },
        {
         "alignmentgroup": "True",
         "hovertemplate": "Subject=History<br>Year=2022<br>School=State<br>Grades=%{x}<br>Students=%{y}<extra></extra>",
         "legendgroup": "History",
         "marker": {
          "color": "#EF553B",
          "opacity": 0.5,
          "pattern": {
           "shape": ""
          }
         },
         "name": "History",
         "offsetgroup": "History",
         "orientation": "v",
         "showlegend": true,
         "textposition": "auto",
         "type": "bar",
         "x": [
          "As",
          "NAs",
          "Entries",
          "Bs",
          "Cs",
          "Ds"
         ],
         "xaxis": "x9",
         "y": [
          280,
          75,
          1175,
          360,
          285,
          175
         ],
         "yaxis": "y9"
        },
        {
         "alignmentgroup": "True",
         "hovertemplate": "Subject=History<br>Year=2022<br>School=Ind<br>Grades=%{x}<br>Students=%{y}<extra></extra>",
         "legendgroup": "History",
         "marker": {
          "color": "#EF553B",
          "opacity": 0.5,
          "pattern": {
           "shape": ""
          }
         },
         "name": "History",
         "offsetgroup": "History",
         "orientation": "v",
         "showlegend": false,
         "textposition": "auto",
         "type": "bar",
         "x": [
          "As",
          "NAs",
          "Entries",
          "Bs",
          "Cs",
          "Ds"
         ],
         "xaxis": "x10",
         "y": [
          185,
          10,
          285,
          55,
          30,
          5
         ],
         "yaxis": "y10"
        },
        {
         "alignmentgroup": "True",
         "hovertemplate": "Subject=History<br>Year=2021<br>School=State<br>Grades=%{x}<br>Students=%{y}<extra></extra>",
         "legendgroup": "History",
         "marker": {
          "color": "#EF553B",
          "opacity": 0.5,
          "pattern": {
           "shape": ""
          }
         },
         "name": "History",
         "offsetgroup": "History",
         "orientation": "v",
         "showlegend": false,
         "textposition": "auto",
         "type": "bar",
         "x": [
          "As",
          "NAs",
          "Entries",
          "Bs",
          "Cs",
          "Ds"
         ],
         "xaxis": "x7",
         "y": [
          505,
          30,
          1210,
          360,
          250,
          65
         ],
         "yaxis": "y7"
        },
        {
         "alignmentgroup": "True",
         "hovertemplate": "Subject=History<br>Year=2021<br>School=Ind<br>Grades=%{x}<br>Students=%{y}<extra></extra>",
         "legendgroup": "History",
         "marker": {
          "color": "#EF553B",
          "opacity": 0.5,
          "pattern": {
           "shape": ""
          }
         },
         "name": "History",
         "offsetgroup": "History",
         "orientation": "v",
         "showlegend": false,
         "textposition": "auto",
         "type": "bar",
         "x": [
          "As",
          "NAs",
          "Entries",
          "Bs",
          "Cs",
          "Ds"
         ],
         "xaxis": "x8",
         "y": [
          165,
          null,
          225,
          45,
          10,
          5
         ],
         "yaxis": "y8"
        },
        {
         "alignmentgroup": "True",
         "hovertemplate": "Subject=History<br>Year=2020<br>School=State<br>Grades=%{x}<br>Students=%{y}<extra></extra>",
         "legendgroup": "History",
         "marker": {
          "color": "#EF553B",
          "opacity": 0.5,
          "pattern": {
           "shape": ""
          }
         },
         "name": "History",
         "offsetgroup": "History",
         "orientation": "v",
         "showlegend": false,
         "textposition": "auto",
         "type": "bar",
         "x": [
          "As",
          "NAs",
          "Entries",
          "Bs",
          "Cs",
          "Ds"
         ],
         "xaxis": "x5",
         "y": [
          325,
          20,
          965,
          355,
          215,
          50
         ],
         "yaxis": "y5"
        },
        {
         "alignmentgroup": "True",
         "hovertemplate": "Subject=History<br>Year=2020<br>School=Ind<br>Grades=%{x}<br>Students=%{y}<extra></extra>",
         "legendgroup": "History",
         "marker": {
          "color": "#EF553B",
          "opacity": 0.5,
          "pattern": {
           "shape": ""
          }
         },
         "name": "History",
         "offsetgroup": "History",
         "orientation": "v",
         "showlegend": false,
         "textposition": "auto",
         "type": "bar",
         "x": [
          "As",
          "NAs",
          "Entries",
          "Bs",
          "Cs",
          "Ds"
         ],
         "xaxis": "x6",
         "y": [
          155,
          null,
          240,
          70,
          15,
          0
         ],
         "yaxis": "y6"
        },
        {
         "alignmentgroup": "True",
         "hovertemplate": "Subject=History<br>Year=2019<br>School=State<br>Grades=%{x}<br>Students=%{y}<extra></extra>",
         "legendgroup": "History",
         "marker": {
          "color": "#EF553B",
          "opacity": 0.5,
          "pattern": {
           "shape": ""
          }
         },
         "name": "History",
         "offsetgroup": "History",
         "orientation": "v",
         "showlegend": false,
         "textposition": "auto",
         "type": "bar",
         "x": [
          "As",
          "NAs",
          "Entries",
          "Bs",
          "Cs",
          "Ds"
         ],
         "xaxis": "x3",
         "y": [
          195,
          140,
          995,
          280,
          275,
          105
         ],
         "yaxis": "y3"
        },
        {
         "alignmentgroup": "True",
         "hovertemplate": "Subject=History<br>Year=2019<br>School=Ind<br>Grades=%{x}<br>Students=%{y}<extra></extra>",
         "legendgroup": "History",
         "marker": {
          "color": "#EF553B",
          "opacity": 0.5,
          "pattern": {
           "shape": ""
          }
         },
         "name": "History",
         "offsetgroup": "History",
         "orientation": "v",
         "showlegend": false,
         "textposition": "auto",
         "type": "bar",
         "x": [
          "As",
          "NAs",
          "Entries",
          "Bs",
          "Cs",
          "Ds"
         ],
         "xaxis": "x4",
         "y": [
          155,
          5,
          260,
          65,
          25,
          5
         ],
         "yaxis": "y4"
        },
        {
         "alignmentgroup": "True",
         "hovertemplate": "Subject=History<br>Year=2018<br>School=State<br>Grades=%{x}<br>Students=%{y}<extra></extra>",
         "legendgroup": "History",
         "marker": {
          "color": "#EF553B",
          "opacity": 0.5,
          "pattern": {
           "shape": ""
          }
         },
         "name": "History",
         "offsetgroup": "History",
         "orientation": "v",
         "showlegend": false,
         "textposition": "auto",
         "type": "bar",
         "x": [
          "As",
          "NAs",
          "Entries",
          "Bs",
          "Cs",
          "Ds"
         ],
         "xaxis": "x",
         "y": [
          255,
          160,
          1215,
          360,
          330,
          110
         ],
         "yaxis": "y"
        },
        {
         "alignmentgroup": "True",
         "hovertemplate": "Subject=History<br>Year=2018<br>School=Ind<br>Grades=%{x}<br>Students=%{y}<extra></extra>",
         "legendgroup": "History",
         "marker": {
          "color": "#EF553B",
          "opacity": 0.5,
          "pattern": {
           "shape": ""
          }
         },
         "name": "History",
         "offsetgroup": "History",
         "orientation": "v",
         "showlegend": false,
         "textposition": "auto",
         "type": "bar",
         "x": [
          "As",
          "NAs",
          "Entries",
          "Bs",
          "Cs",
          "Ds"
         ],
         "xaxis": "x2",
         "y": [
          195,
          null,
          295,
          60,
          30,
          5
         ],
         "yaxis": "y2"
        },
        {
         "alignmentgroup": "True",
         "hovertemplate": "Subject=Italian<br>Year=2022<br>School=State<br>Grades=%{x}<br>Students=%{y}<extra></extra>",
         "legendgroup": "Italian",
         "marker": {
          "color": "#00cc96",
          "opacity": 0.5,
          "pattern": {
           "shape": ""
          }
         },
         "name": "Italian",
         "offsetgroup": "Italian",
         "orientation": "v",
         "showlegend": true,
         "textposition": "auto",
         "type": "bar",
         "x": [
          "As",
          "NAs",
          "Entries",
          "Bs",
          "Cs",
          "Ds"
         ],
         "xaxis": "x9",
         "y": [
          15,
          null,
          15,
          0,
          0,
          0
         ],
         "yaxis": "y9"
        },
        {
         "alignmentgroup": "True",
         "hovertemplate": "Subject=Italian<br>Year=2022<br>School=Ind<br>Grades=%{x}<br>Students=%{y}<extra></extra>",
         "legendgroup": "Italian",
         "marker": {
          "color": "#00cc96",
          "opacity": 0.5,
          "pattern": {
           "shape": ""
          }
         },
         "name": "Italian",
         "offsetgroup": "Italian",
         "orientation": "v",
         "showlegend": false,
         "textposition": "auto",
         "type": "bar",
         "x": [
          "As",
          "NAs",
          "Entries",
          "Bs",
          "Cs",
          "Ds"
         ],
         "xaxis": "x10",
         "y": [
          10,
          0,
          10,
          0,
          0,
          0
         ],
         "yaxis": "y10"
        },
        {
         "alignmentgroup": "True",
         "hovertemplate": "Subject=Italian<br>Year=2021<br>School=State<br>Grades=%{x}<br>Students=%{y}<extra></extra>",
         "legendgroup": "Italian",
         "marker": {
          "color": "#00cc96",
          "opacity": 0.5,
          "pattern": {
           "shape": ""
          }
         },
         "name": "Italian",
         "offsetgroup": "Italian",
         "orientation": "v",
         "showlegend": false,
         "textposition": "auto",
         "type": "bar",
         "x": [
          "As",
          "NAs",
          "Entries",
          "Bs",
          "Cs",
          "Ds"
         ],
         "xaxis": "x7",
         "y": [
          20,
          0,
          20,
          0,
          0,
          0
         ],
         "yaxis": "y7"
        },
        {
         "alignmentgroup": "True",
         "hovertemplate": "Subject=Italian<br>Year=2021<br>School=Ind<br>Grades=%{x}<br>Students=%{y}<extra></extra>",
         "legendgroup": "Italian",
         "marker": {
          "color": "#00cc96",
          "opacity": 0.5,
          "pattern": {
           "shape": ""
          }
         },
         "name": "Italian",
         "offsetgroup": "Italian",
         "orientation": "v",
         "showlegend": false,
         "textposition": "auto",
         "type": "bar",
         "x": [
          "As",
          "NAs",
          "Entries",
          "Bs",
          "Cs",
          "Ds"
         ],
         "xaxis": "x8",
         "y": [
          10,
          0,
          15,
          0,
          5,
          0
         ],
         "yaxis": "y8"
        },
        {
         "alignmentgroup": "True",
         "hovertemplate": "Subject=Italian<br>Year=2020<br>School=State<br>Grades=%{x}<br>Students=%{y}<extra></extra>",
         "legendgroup": "Italian",
         "marker": {
          "color": "#00cc96",
          "opacity": 0.5,
          "pattern": {
           "shape": ""
          }
         },
         "name": "Italian",
         "offsetgroup": "Italian",
         "orientation": "v",
         "showlegend": false,
         "textposition": "auto",
         "type": "bar",
         "x": [
          "As",
          "NAs",
          "Entries",
          "Bs",
          "Cs",
          "Ds"
         ],
         "xaxis": "x5",
         "y": [
          10,
          0,
          15,
          5,
          0,
          0
         ],
         "yaxis": "y5"
        },
        {
         "alignmentgroup": "True",
         "hovertemplate": "Subject=Italian<br>Year=2020<br>School=Ind<br>Grades=%{x}<br>Students=%{y}<extra></extra>",
         "legendgroup": "Italian",
         "marker": {
          "color": "#00cc96",
          "opacity": 0.5,
          "pattern": {
           "shape": ""
          }
         },
         "name": "Italian",
         "offsetgroup": "Italian",
         "orientation": "v",
         "showlegend": false,
         "textposition": "auto",
         "type": "bar",
         "x": [
          "As",
          "NAs",
          "Entries",
          "Bs",
          "Cs",
          "Ds"
         ],
         "xaxis": "x6",
         "y": [
          10,
          0,
          10,
          0,
          0,
          0
         ],
         "yaxis": "y6"
        },
        {
         "alignmentgroup": "True",
         "hovertemplate": "Subject=Italian<br>Year=2019<br>School=State<br>Grades=%{x}<br>Students=%{y}<extra></extra>",
         "legendgroup": "Italian",
         "marker": {
          "color": "#00cc96",
          "opacity": 0.5,
          "pattern": {
           "shape": ""
          }
         },
         "name": "Italian",
         "offsetgroup": "Italian",
         "orientation": "v",
         "showlegend": false,
         "textposition": "auto",
         "type": "bar",
         "x": [
          "As",
          "NAs",
          "Entries",
          "Bs",
          "Cs",
          "Ds"
         ],
         "xaxis": "x3",
         "y": [
          10,
          null,
          20,
          5,
          0,
          0
         ],
         "yaxis": "y3"
        },
        {
         "alignmentgroup": "True",
         "hovertemplate": "Subject=Italian<br>Year=2019<br>School=Ind<br>Grades=%{x}<br>Students=%{y}<extra></extra>",
         "legendgroup": "Italian",
         "marker": {
          "color": "#00cc96",
          "opacity": 0.5,
          "pattern": {
           "shape": ""
          }
         },
         "name": "Italian",
         "offsetgroup": "Italian",
         "orientation": "v",
         "showlegend": false,
         "textposition": "auto",
         "type": "bar",
         "x": [
          "As",
          "NAs",
          "Entries",
          "Bs",
          "Cs",
          "Ds"
         ],
         "xaxis": "x4",
         "y": [
          5,
          0,
          10,
          5,
          0,
          0
         ],
         "yaxis": "y4"
        },
        {
         "alignmentgroup": "True",
         "hovertemplate": "Subject=Italian<br>Year=2018<br>School=State<br>Grades=%{x}<br>Students=%{y}<extra></extra>",
         "legendgroup": "Italian",
         "marker": {
          "color": "#00cc96",
          "opacity": 0.5,
          "pattern": {
           "shape": ""
          }
         },
         "name": "Italian",
         "offsetgroup": "Italian",
         "orientation": "v",
         "showlegend": false,
         "textposition": "auto",
         "type": "bar",
         "x": [
          "As",
          "NAs",
          "Entries",
          "Bs",
          "Cs",
          "Ds"
         ],
         "xaxis": "x",
         "y": [
          20,
          null,
          25,
          5,
          0,
          0
         ],
         "yaxis": "y"
        },
        {
         "alignmentgroup": "True",
         "hovertemplate": "Subject=Italian<br>Year=2018<br>School=Ind<br>Grades=%{x}<br>Students=%{y}<extra></extra>",
         "legendgroup": "Italian",
         "marker": {
          "color": "#00cc96",
          "opacity": 0.5,
          "pattern": {
           "shape": ""
          }
         },
         "name": "Italian",
         "offsetgroup": "Italian",
         "orientation": "v",
         "showlegend": false,
         "textposition": "auto",
         "type": "bar",
         "x": [
          "As",
          "NAs",
          "Entries",
          "Bs",
          "Cs",
          "Ds"
         ],
         "xaxis": "x2",
         "y": [
          10,
          0,
          10,
          0,
          0,
          0
         ],
         "yaxis": "y2"
        },
        {
         "alignmentgroup": "True",
         "hovertemplate": "Subject=Latin<br>Year=2022<br>School=State<br>Grades=%{x}<br>Students=%{y}<extra></extra>",
         "legendgroup": "Latin",
         "marker": {
          "color": "#ab63fa",
          "opacity": 0.5,
          "pattern": {
           "shape": ""
          }
         },
         "name": "Latin",
         "offsetgroup": "Latin",
         "orientation": "v",
         "showlegend": true,
         "textposition": "auto",
         "type": "bar",
         "x": [
          "As",
          "NAs",
          "Entries",
          "Bs",
          "Cs",
          "Ds"
         ],
         "xaxis": "x9",
         "y": [
          null,
          0,
          null,
          null,
          null,
          null
         ],
         "yaxis": "y9"
        },
        {
         "alignmentgroup": "True",
         "hovertemplate": "Subject=Latin<br>Year=2022<br>School=Ind<br>Grades=%{x}<br>Students=%{y}<extra></extra>",
         "legendgroup": "Latin",
         "marker": {
          "color": "#ab63fa",
          "opacity": 0.5,
          "pattern": {
           "shape": ""
          }
         },
         "name": "Latin",
         "offsetgroup": "Latin",
         "orientation": "v",
         "showlegend": false,
         "textposition": "auto",
         "type": "bar",
         "x": [
          "As",
          "NAs",
          "Entries",
          "Bs",
          "Cs",
          "Ds"
         ],
         "xaxis": "x10",
         "y": [
          15,
          null,
          30,
          10,
          5,
          0
         ],
         "yaxis": "y10"
        },
        {
         "alignmentgroup": "True",
         "hovertemplate": "Subject=Latin<br>Year=2021<br>School=State<br>Grades=%{x}<br>Students=%{y}<extra></extra>",
         "legendgroup": "Latin",
         "marker": {
          "color": "#ab63fa",
          "opacity": 0.5,
          "pattern": {
           "shape": ""
          }
         },
         "name": "Latin",
         "offsetgroup": "Latin",
         "orientation": "v",
         "showlegend": false,
         "textposition": "auto",
         "type": "bar",
         "x": [
          "As",
          "NAs",
          "Entries",
          "Bs",
          "Cs",
          "Ds"
         ],
         "xaxis": "x7",
         "y": [
          null,
          0,
          null,
          null,
          null,
          null
         ],
         "yaxis": "y7"
        },
        {
         "alignmentgroup": "True",
         "hovertemplate": "Subject=Latin<br>Year=2021<br>School=Ind<br>Grades=%{x}<br>Students=%{y}<extra></extra>",
         "legendgroup": "Latin",
         "marker": {
          "color": "#ab63fa",
          "opacity": 0.5,
          "pattern": {
           "shape": ""
          }
         },
         "name": "Latin",
         "offsetgroup": "Latin",
         "orientation": "v",
         "showlegend": false,
         "textposition": "auto",
         "type": "bar",
         "x": [
          "As",
          "NAs",
          "Entries",
          "Bs",
          "Cs",
          "Ds"
         ],
         "xaxis": "x8",
         "y": [
          25,
          0,
          35,
          5,
          5,
          0
         ],
         "yaxis": "y8"
        },
        {
         "alignmentgroup": "True",
         "hovertemplate": "Subject=Latin<br>Year=2020<br>School=State<br>Grades=%{x}<br>Students=%{y}<extra></extra>",
         "legendgroup": "Latin",
         "marker": {
          "color": "#ab63fa",
          "opacity": 0.5,
          "pattern": {
           "shape": ""
          }
         },
         "name": "Latin",
         "offsetgroup": "Latin",
         "orientation": "v",
         "showlegend": false,
         "textposition": "auto",
         "type": "bar",
         "x": [
          "As",
          "NAs",
          "Entries",
          "Bs",
          "Cs",
          "Ds"
         ],
         "xaxis": "x5",
         "y": [
          null,
          null,
          0,
          null,
          null,
          null
         ],
         "yaxis": "y5"
        },
        {
         "alignmentgroup": "True",
         "hovertemplate": "Subject=Latin<br>Year=2020<br>School=Ind<br>Grades=%{x}<br>Students=%{y}<extra></extra>",
         "legendgroup": "Latin",
         "marker": {
          "color": "#ab63fa",
          "opacity": 0.5,
          "pattern": {
           "shape": ""
          }
         },
         "name": "Latin",
         "offsetgroup": "Latin",
         "orientation": "v",
         "showlegend": false,
         "textposition": "auto",
         "type": "bar",
         "x": [
          "As",
          "NAs",
          "Entries",
          "Bs",
          "Cs",
          "Ds"
         ],
         "xaxis": "x6",
         "y": [
          25,
          0,
          35,
          5,
          5,
          0
         ],
         "yaxis": "y6"
        },
        {
         "alignmentgroup": "True",
         "hovertemplate": "Subject=Latin<br>Year=2019<br>School=State<br>Grades=%{x}<br>Students=%{y}<extra></extra>",
         "legendgroup": "Latin",
         "marker": {
          "color": "#ab63fa",
          "opacity": 0.5,
          "pattern": {
           "shape": ""
          }
         },
         "name": "Latin",
         "offsetgroup": "Latin",
         "orientation": "v",
         "showlegend": false,
         "textposition": "auto",
         "type": "bar",
         "x": [
          "As",
          "NAs",
          "Entries",
          "Bs",
          "Cs",
          "Ds"
         ],
         "xaxis": "x3",
         "y": [
          null,
          10,
          10,
          null,
          null,
          null
         ],
         "yaxis": "y3"
        },
        {
         "alignmentgroup": "True",
         "hovertemplate": "Subject=Latin<br>Year=2019<br>School=Ind<br>Grades=%{x}<br>Students=%{y}<extra></extra>",
         "legendgroup": "Latin",
         "marker": {
          "color": "#ab63fa",
          "opacity": 0.5,
          "pattern": {
           "shape": ""
          }
         },
         "name": "Latin",
         "offsetgroup": "Latin",
         "orientation": "v",
         "showlegend": false,
         "textposition": "auto",
         "type": "bar",
         "x": [
          "As",
          "NAs",
          "Entries",
          "Bs",
          "Cs",
          "Ds"
         ],
         "xaxis": "x4",
         "y": [
          20,
          null,
          50,
          10,
          10,
          5
         ],
         "yaxis": "y4"
        },
        {
         "alignmentgroup": "True",
         "hovertemplate": "Subject=Latin<br>Year=2018<br>School=State<br>Grades=%{x}<br>Students=%{y}<extra></extra>",
         "legendgroup": "Latin",
         "marker": {
          "color": "#ab63fa",
          "opacity": 0.5,
          "pattern": {
           "shape": ""
          }
         },
         "name": "Latin",
         "offsetgroup": "Latin",
         "orientation": "v",
         "showlegend": false,
         "textposition": "auto",
         "type": "bar",
         "x": [
          "As",
          "NAs",
          "Entries",
          "Bs",
          "Cs",
          "Ds"
         ],
         "xaxis": "x",
         "y": [
          null,
          null,
          10,
          null,
          null,
          null
         ],
         "yaxis": "y"
        },
        {
         "alignmentgroup": "True",
         "hovertemplate": "Subject=Latin<br>Year=2018<br>School=Ind<br>Grades=%{x}<br>Students=%{y}<extra></extra>",
         "legendgroup": "Latin",
         "marker": {
          "color": "#ab63fa",
          "opacity": 0.5,
          "pattern": {
           "shape": ""
          }
         },
         "name": "Latin",
         "offsetgroup": "Latin",
         "orientation": "v",
         "showlegend": false,
         "textposition": "auto",
         "type": "bar",
         "x": [
          "As",
          "NAs",
          "Entries",
          "Bs",
          "Cs",
          "Ds"
         ],
         "xaxis": "x2",
         "y": [
          15,
          0,
          35,
          15,
          5,
          0
         ],
         "yaxis": "y2"
        },
        {
         "alignmentgroup": "True",
         "hovertemplate": "Subject=Mathematics<br>Year=2022<br>School=State<br>Grades=%{x}<br>Students=%{y}<extra></extra>",
         "legendgroup": "Mathematics",
         "marker": {
          "color": "#FFA15A",
          "opacity": 0.5,
          "pattern": {
           "shape": ""
          }
         },
         "name": "Mathematics",
         "offsetgroup": "Mathematics",
         "orientation": "v",
         "showlegend": true,
         "textposition": "auto",
         "type": "bar",
         "x": [
          "As",
          "NAs",
          "Entries",
          "Bs",
          "Cs",
          "Ds"
         ],
         "xaxis": "x9",
         "y": [
          1125,
          420,
          3265,
          715,
          595,
          410
         ],
         "yaxis": "y9"
        },
        {
         "alignmentgroup": "True",
         "hovertemplate": "Subject=Mathematics<br>Year=2022<br>School=Ind<br>Grades=%{x}<br>Students=%{y}<extra></extra>",
         "legendgroup": "Mathematics",
         "marker": {
          "color": "#FFA15A",
          "opacity": 0.5,
          "pattern": {
           "shape": ""
          }
         },
         "name": "Mathematics",
         "offsetgroup": "Mathematics",
         "orientation": "v",
         "showlegend": false,
         "textposition": "auto",
         "type": "bar",
         "x": [
          "As",
          "NAs",
          "Entries",
          "Bs",
          "Cs",
          "Ds"
         ],
         "xaxis": "x10",
         "y": [
          375,
          20,
          620,
          125,
          70,
          30
         ],
         "yaxis": "y10"
        },
        {
         "alignmentgroup": "True",
         "hovertemplate": "Subject=Mathematics<br>Year=2021<br>School=State<br>Grades=%{x}<br>Students=%{y}<extra></extra>",
         "legendgroup": "Mathematics",
         "marker": {
          "color": "#FFA15A",
          "opacity": 0.5,
          "pattern": {
           "shape": ""
          }
         },
         "name": "Mathematics",
         "offsetgroup": "Mathematics",
         "orientation": "v",
         "showlegend": false,
         "textposition": "auto",
         "type": "bar",
         "x": [
          "As",
          "NAs",
          "Entries",
          "Bs",
          "Cs",
          "Ds"
         ],
         "xaxis": "x7",
         "y": [
          1710,
          265,
          3140,
          545,
          425,
          200
         ],
         "yaxis": "y7"
        },
        {
         "alignmentgroup": "True",
         "hovertemplate": "Subject=Mathematics<br>Year=2021<br>School=Ind<br>Grades=%{x}<br>Students=%{y}<extra></extra>",
         "legendgroup": "Mathematics",
         "marker": {
          "color": "#FFA15A",
          "opacity": 0.5,
          "pattern": {
           "shape": ""
          }
         },
         "name": "Mathematics",
         "offsetgroup": "Mathematics",
         "orientation": "v",
         "showlegend": false,
         "textposition": "auto",
         "type": "bar",
         "x": [
          "As",
          "NAs",
          "Entries",
          "Bs",
          "Cs",
          "Ds"
         ],
         "xaxis": "x8",
         "y": [
          455,
          15,
          605,
          80,
          40,
          15
         ],
         "yaxis": "y8"
        },
        {
         "alignmentgroup": "True",
         "hovertemplate": "Subject=Mathematics<br>Year=2020<br>School=State<br>Grades=%{x}<br>Students=%{y}<extra></extra>",
         "legendgroup": "Mathematics",
         "marker": {
          "color": "#FFA15A",
          "opacity": 0.5,
          "pattern": {
           "shape": ""
          }
         },
         "name": "Mathematics",
         "offsetgroup": "Mathematics",
         "orientation": "v",
         "showlegend": false,
         "textposition": "auto",
         "type": "bar",
         "x": [
          "As",
          "NAs",
          "Entries",
          "Bs",
          "Cs",
          "Ds"
         ],
         "xaxis": "x5",
         "y": [
          1280,
          165,
          2955,
          680,
          630,
          200
         ],
         "yaxis": "y5"
        },
        {
         "alignmentgroup": "True",
         "hovertemplate": "Subject=Mathematics<br>Year=2020<br>School=Ind<br>Grades=%{x}<br>Students=%{y}<extra></extra>",
         "legendgroup": "Mathematics",
         "marker": {
          "color": "#FFA15A",
          "opacity": 0.5,
          "pattern": {
           "shape": ""
          }
         },
         "name": "Mathematics",
         "offsetgroup": "Mathematics",
         "orientation": "v",
         "showlegend": false,
         "textposition": "auto",
         "type": "bar",
         "x": [
          "As",
          "NAs",
          "Entries",
          "Bs",
          "Cs",
          "Ds"
         ],
         "xaxis": "x6",
         "y": [
          445,
          10,
          645,
          110,
          60,
          20
         ],
         "yaxis": "y6"
        },
        {
         "alignmentgroup": "True",
         "hovertemplate": "Subject=Mathematics<br>Year=2019<br>School=State<br>Grades=%{x}<br>Students=%{y}<extra></extra>",
         "legendgroup": "Mathematics",
         "marker": {
          "color": "#FFA15A",
          "opacity": 0.5,
          "pattern": {
           "shape": ""
          }
         },
         "name": "Mathematics",
         "offsetgroup": "Mathematics",
         "orientation": "v",
         "showlegend": false,
         "textposition": "auto",
         "type": "bar",
         "x": [
          "As",
          "NAs",
          "Entries",
          "Bs",
          "Cs",
          "Ds"
         ],
         "xaxis": "x3",
         "y": [
          1020,
          605,
          3070,
          650,
          565,
          230
         ],
         "yaxis": "y3"
        },
        {
         "alignmentgroup": "True",
         "hovertemplate": "Subject=Mathematics<br>Year=2019<br>School=Ind<br>Grades=%{x}<br>Students=%{y}<extra></extra>",
         "legendgroup": "Mathematics",
         "marker": {
          "color": "#FFA15A",
          "opacity": 0.5,
          "pattern": {
           "shape": ""
          }
         },
         "name": "Mathematics",
         "offsetgroup": "Mathematics",
         "orientation": "v",
         "showlegend": false,
         "textposition": "auto",
         "type": "bar",
         "x": [
          "As",
          "NAs",
          "Entries",
          "Bs",
          "Cs",
          "Ds"
         ],
         "xaxis": "x4",
         "y": [
          345,
          30,
          595,
          110,
          75,
          35
         ],
         "yaxis": "y4"
        },
        {
         "alignmentgroup": "True",
         "hovertemplate": "Subject=Mathematics<br>Year=2018<br>School=State<br>Grades=%{x}<br>Students=%{y}<extra></extra>",
         "legendgroup": "Mathematics",
         "marker": {
          "color": "#FFA15A",
          "opacity": 0.5,
          "pattern": {
           "shape": ""
          }
         },
         "name": "Mathematics",
         "offsetgroup": "Mathematics",
         "orientation": "v",
         "showlegend": false,
         "textposition": "auto",
         "type": "bar",
         "x": [
          "As",
          "NAs",
          "Entries",
          "Bs",
          "Cs",
          "Ds"
         ],
         "xaxis": "x",
         "y": [
          1000,
          635,
          3060,
          680,
          510,
          235
         ],
         "yaxis": "y"
        },
        {
         "alignmentgroup": "True",
         "hovertemplate": "Subject=Mathematics<br>Year=2018<br>School=Ind<br>Grades=%{x}<br>Students=%{y}<extra></extra>",
         "legendgroup": "Mathematics",
         "marker": {
          "color": "#FFA15A",
          "opacity": 0.5,
          "pattern": {
           "shape": ""
          }
         },
         "name": "Mathematics",
         "offsetgroup": "Mathematics",
         "orientation": "v",
         "showlegend": false,
         "textposition": "auto",
         "type": "bar",
         "x": [
          "As",
          "NAs",
          "Entries",
          "Bs",
          "Cs",
          "Ds"
         ],
         "xaxis": "x2",
         "y": [
          365,
          35,
          580,
          100,
          60,
          20
         ],
         "yaxis": "y2"
        },
        {
         "alignmentgroup": "True",
         "hovertemplate": "Subject=Mathematics of Mechanics<br>Year=2022<br>School=State<br>Grades=%{x}<br>Students=%{y}<extra></extra>",
         "legendgroup": "Mathematics of Mechanics",
         "marker": {
          "color": "#19d3f3",
          "opacity": 0.5,
          "pattern": {
           "shape": ""
          }
         },
         "name": "Mathematics of Mechanics",
         "offsetgroup": "Mathematics of Mechanics",
         "orientation": "v",
         "showlegend": true,
         "textposition": "auto",
         "type": "bar",
         "x": [
          "As",
          "NAs",
          "Entries",
          "Bs",
          "Cs",
          "Ds"
         ],
         "xaxis": "x9",
         "y": [
          75,
          25,
          175,
          30,
          25,
          15
         ],
         "yaxis": "y9"
        },
        {
         "alignmentgroup": "True",
         "hovertemplate": "Subject=Mathematics of Mechanics<br>Year=2022<br>School=Ind<br>Grades=%{x}<br>Students=%{y}<extra></extra>",
         "legendgroup": "Mathematics of Mechanics",
         "marker": {
          "color": "#19d3f3",
          "opacity": 0.5,
          "pattern": {
           "shape": ""
          }
         },
         "name": "Mathematics of Mechanics",
         "offsetgroup": "Mathematics of Mechanics",
         "orientation": "v",
         "showlegend": false,
         "textposition": "auto",
         "type": "bar",
         "x": [
          "As",
          "NAs",
          "Entries",
          "Bs",
          "Cs",
          "Ds"
         ],
         "xaxis": "x10",
         "y": [
          65,
          5,
          100,
          5,
          15,
          10
         ],
         "yaxis": "y10"
        },
        {
         "alignmentgroup": "True",
         "hovertemplate": "Subject=Mathematics of Mechanics<br>Year=2021<br>School=State<br>Grades=%{x}<br>Students=%{y}<extra></extra>",
         "legendgroup": "Mathematics of Mechanics",
         "marker": {
          "color": "#19d3f3",
          "opacity": 0.5,
          "pattern": {
           "shape": ""
          }
         },
         "name": "Mathematics of Mechanics",
         "offsetgroup": "Mathematics of Mechanics",
         "orientation": "v",
         "showlegend": false,
         "textposition": "auto",
         "type": "bar",
         "x": [
          "As",
          "NAs",
          "Entries",
          "Bs",
          "Cs",
          "Ds"
         ],
         "xaxis": "x7",
         "y": [
          95,
          25,
          200,
          30,
          35,
          15
         ],
         "yaxis": "y7"
        },
        {
         "alignmentgroup": "True",
         "hovertemplate": "Subject=Mathematics of Mechanics<br>Year=2021<br>School=Ind<br>Grades=%{x}<br>Students=%{y}<extra></extra>",
         "legendgroup": "Mathematics of Mechanics",
         "marker": {
          "color": "#19d3f3",
          "opacity": 0.5,
          "pattern": {
           "shape": ""
          }
         },
         "name": "Mathematics of Mechanics",
         "offsetgroup": "Mathematics of Mechanics",
         "orientation": "v",
         "showlegend": false,
         "textposition": "auto",
         "type": "bar",
         "x": [
          "As",
          "NAs",
          "Entries",
          "Bs",
          "Cs",
          "Ds"
         ],
         "xaxis": "x8",
         "y": [
          85,
          null,
          110,
          10,
          10,
          5
         ],
         "yaxis": "y8"
        },
        {
         "alignmentgroup": "True",
         "hovertemplate": "Subject=Mathematics of Mechanics<br>Year=2020<br>School=State<br>Grades=%{x}<br>Students=%{y}<extra></extra>",
         "legendgroup": "Mathematics of Mechanics",
         "marker": {
          "color": "#19d3f3",
          "opacity": 0.5,
          "pattern": {
           "shape": ""
          }
         },
         "name": "Mathematics of Mechanics",
         "offsetgroup": "Mathematics of Mechanics",
         "orientation": "v",
         "showlegend": false,
         "textposition": "auto",
         "type": "bar",
         "x": [
          "As",
          "NAs",
          "Entries",
          "Bs",
          "Cs",
          "Ds"
         ],
         "xaxis": "x5",
         "y": [
          110,
          10,
          180,
          25,
          30,
          5
         ],
         "yaxis": "y5"
        },
        {
         "alignmentgroup": "True",
         "hovertemplate": "Subject=Mathematics of Mechanics<br>Year=2020<br>School=Ind<br>Grades=%{x}<br>Students=%{y}<extra></extra>",
         "legendgroup": "Mathematics of Mechanics",
         "marker": {
          "color": "#19d3f3",
          "opacity": 0.5,
          "pattern": {
           "shape": ""
          }
         },
         "name": "Mathematics of Mechanics",
         "offsetgroup": "Mathematics of Mechanics",
         "orientation": "v",
         "showlegend": false,
         "textposition": "auto",
         "type": "bar",
         "x": [
          "As",
          "NAs",
          "Entries",
          "Bs",
          "Cs",
          "Ds"
         ],
         "xaxis": "x6",
         "y": [
          100,
          null,
          135,
          10,
          15,
          5
         ],
         "yaxis": "y6"
        },
        {
         "alignmentgroup": "True",
         "hovertemplate": "Subject=Mathematics of Mechanics<br>Year=2019<br>School=State<br>Grades=%{x}<br>Students=%{y}<extra></extra>",
         "legendgroup": "Mathematics of Mechanics",
         "marker": {
          "color": "#19d3f3",
          "opacity": 0.5,
          "pattern": {
           "shape": ""
          }
         },
         "name": "Mathematics of Mechanics",
         "offsetgroup": "Mathematics of Mechanics",
         "orientation": "v",
         "showlegend": false,
         "textposition": "auto",
         "type": "bar",
         "x": [
          "As",
          "NAs",
          "Entries",
          "Bs",
          "Cs",
          "Ds"
         ],
         "xaxis": "x3",
         "y": [
          70,
          35,
          195,
          30,
          45,
          15
         ],
         "yaxis": "y3"
        },
        {
         "alignmentgroup": "True",
         "hovertemplate": "Subject=Mathematics of Mechanics<br>Year=2019<br>School=Ind<br>Grades=%{x}<br>Students=%{y}<extra></extra>",
         "legendgroup": "Mathematics of Mechanics",
         "marker": {
          "color": "#19d3f3",
          "opacity": 0.5,
          "pattern": {
           "shape": ""
          }
         },
         "name": "Mathematics of Mechanics",
         "offsetgroup": "Mathematics of Mechanics",
         "orientation": "v",
         "showlegend": false,
         "textposition": "auto",
         "type": "bar",
         "x": [
          "As",
          "NAs",
          "Entries",
          "Bs",
          "Cs",
          "Ds"
         ],
         "xaxis": "x4",
         "y": [
          50,
          10,
          95,
          15,
          15,
          5
         ],
         "yaxis": "y4"
        },
        {
         "alignmentgroup": "True",
         "hovertemplate": "Subject=Mathematics of Mechanics<br>Year=2018<br>School=State<br>Grades=%{x}<br>Students=%{y}<extra></extra>",
         "legendgroup": "Mathematics of Mechanics",
         "marker": {
          "color": "#19d3f3",
          "opacity": 0.5,
          "pattern": {
           "shape": ""
          }
         },
         "name": "Mathematics of Mechanics",
         "offsetgroup": "Mathematics of Mechanics",
         "orientation": "v",
         "showlegend": false,
         "textposition": "auto",
         "type": "bar",
         "x": [
          "As",
          "NAs",
          "Entries",
          "Bs",
          "Cs",
          "Ds"
         ],
         "xaxis": "x",
         "y": [
          90,
          40,
          190,
          25,
          30,
          10
         ],
         "yaxis": "y"
        },
        {
         "alignmentgroup": "True",
         "hovertemplate": "Subject=Mathematics of Mechanics<br>Year=2018<br>School=Ind<br>Grades=%{x}<br>Students=%{y}<extra></extra>",
         "legendgroup": "Mathematics of Mechanics",
         "marker": {
          "color": "#19d3f3",
          "opacity": 0.5,
          "pattern": {
           "shape": ""
          }
         },
         "name": "Mathematics of Mechanics",
         "offsetgroup": "Mathematics of Mechanics",
         "orientation": "v",
         "showlegend": false,
         "textposition": "auto",
         "type": "bar",
         "x": [
          "As",
          "NAs",
          "Entries",
          "Bs",
          "Cs",
          "Ds"
         ],
         "xaxis": "x2",
         "y": [
          65,
          10,
          115,
          15,
          20,
          5
         ],
         "yaxis": "y2"
        },
        {
         "alignmentgroup": "True",
         "hovertemplate": "Subject=Modern Studies<br>Year=2022<br>School=State<br>Grades=%{x}<br>Students=%{y}<extra></extra>",
         "legendgroup": "Modern Studies",
         "marker": {
          "color": "#FF6692",
          "opacity": 0.5,
          "pattern": {
           "shape": ""
          }
         },
         "name": "Modern Studies",
         "offsetgroup": "Modern Studies",
         "orientation": "v",
         "showlegend": true,
         "textposition": "auto",
         "type": "bar",
         "x": [
          "As",
          "NAs",
          "Entries",
          "Bs",
          "Cs",
          "Ds"
         ],
         "xaxis": "x9",
         "y": [
          250,
          120,
          960,
          250,
          210,
          135
         ],
         "yaxis": "y9"
        },
        {
         "alignmentgroup": "True",
         "hovertemplate": "Subject=Modern Studies<br>Year=2022<br>School=Ind<br>Grades=%{x}<br>Students=%{y}<extra></extra>",
         "legendgroup": "Modern Studies",
         "marker": {
          "color": "#FF6692",
          "opacity": 0.5,
          "pattern": {
           "shape": ""
          }
         },
         "name": "Modern Studies",
         "offsetgroup": "Modern Studies",
         "orientation": "v",
         "showlegend": false,
         "textposition": "auto",
         "type": "bar",
         "x": [
          "As",
          "NAs",
          "Entries",
          "Bs",
          "Cs",
          "Ds"
         ],
         "xaxis": "x10",
         "y": [
          110,
          null,
          200,
          55,
          25,
          5
         ],
         "yaxis": "y10"
        },
        {
         "alignmentgroup": "True",
         "hovertemplate": "Subject=Modern Studies<br>Year=2021<br>School=State<br>Grades=%{x}<br>Students=%{y}<extra></extra>",
         "legendgroup": "Modern Studies",
         "marker": {
          "color": "#FF6692",
          "opacity": 0.5,
          "pattern": {
           "shape": ""
          }
         },
         "name": "Modern Studies",
         "offsetgroup": "Modern Studies",
         "orientation": "v",
         "showlegend": false,
         "textposition": "auto",
         "type": "bar",
         "x": [
          "As",
          "NAs",
          "Entries",
          "Bs",
          "Cs",
          "Ds"
         ],
         "xaxis": "x7",
         "y": [
          340,
          25,
          855,
          250,
          190,
          50
         ],
         "yaxis": "y7"
        },
        {
         "alignmentgroup": "True",
         "hovertemplate": "Subject=Modern Studies<br>Year=2021<br>School=Ind<br>Grades=%{x}<br>Students=%{y}<extra></extra>",
         "legendgroup": "Modern Studies",
         "marker": {
          "color": "#FF6692",
          "opacity": 0.5,
          "pattern": {
           "shape": ""
          }
         },
         "name": "Modern Studies",
         "offsetgroup": "Modern Studies",
         "orientation": "v",
         "showlegend": false,
         "textposition": "auto",
         "type": "bar",
         "x": [
          "As",
          "NAs",
          "Entries",
          "Bs",
          "Cs",
          "Ds"
         ],
         "xaxis": "x8",
         "y": [
          135,
          null,
          205,
          55,
          10,
          5
         ],
         "yaxis": "y8"
        },
        {
         "alignmentgroup": "True",
         "hovertemplate": "Subject=Modern Studies<br>Year=2020<br>School=State<br>Grades=%{x}<br>Students=%{y}<extra></extra>",
         "legendgroup": "Modern Studies",
         "marker": {
          "color": "#FF6692",
          "opacity": 0.5,
          "pattern": {
           "shape": ""
          }
         },
         "name": "Modern Studies",
         "offsetgroup": "Modern Studies",
         "orientation": "v",
         "showlegend": false,
         "textposition": "auto",
         "type": "bar",
         "x": [
          "As",
          "NAs",
          "Entries",
          "Bs",
          "Cs",
          "Ds"
         ],
         "xaxis": "x5",
         "y": [
          240,
          20,
          680,
          210,
          165,
          45
         ],
         "yaxis": "y5"
        },
        {
         "alignmentgroup": "True",
         "hovertemplate": "Subject=Modern Studies<br>Year=2020<br>School=Ind<br>Grades=%{x}<br>Students=%{y}<extra></extra>",
         "legendgroup": "Modern Studies",
         "marker": {
          "color": "#FF6692",
          "opacity": 0.5,
          "pattern": {
           "shape": ""
          }
         },
         "name": "Modern Studies",
         "offsetgroup": "Modern Studies",
         "orientation": "v",
         "showlegend": false,
         "textposition": "auto",
         "type": "bar",
         "x": [
          "As",
          "NAs",
          "Entries",
          "Bs",
          "Cs",
          "Ds"
         ],
         "xaxis": "x6",
         "y": [
          120,
          null,
          195,
          55,
          15,
          5
         ],
         "yaxis": "y6"
        },
        {
         "alignmentgroup": "True",
         "hovertemplate": "Subject=Modern Studies<br>Year=2019<br>School=State<br>Grades=%{x}<br>Students=%{y}<extra></extra>",
         "legendgroup": "Modern Studies",
         "marker": {
          "color": "#FF6692",
          "opacity": 0.5,
          "pattern": {
           "shape": ""
          }
         },
         "name": "Modern Studies",
         "offsetgroup": "Modern Studies",
         "orientation": "v",
         "showlegend": false,
         "textposition": "auto",
         "type": "bar",
         "x": [
          "As",
          "NAs",
          "Entries",
          "Bs",
          "Cs",
          "Ds"
         ],
         "xaxis": "x3",
         "y": [
          135,
          130,
          630,
          155,
          160,
          55
         ],
         "yaxis": "y3"
        },
        {
         "alignmentgroup": "True",
         "hovertemplate": "Subject=Modern Studies<br>Year=2019<br>School=Ind<br>Grades=%{x}<br>Students=%{y}<extra></extra>",
         "legendgroup": "Modern Studies",
         "marker": {
          "color": "#FF6692",
          "opacity": 0.5,
          "pattern": {
           "shape": ""
          }
         },
         "name": "Modern Studies",
         "offsetgroup": "Modern Studies",
         "orientation": "v",
         "showlegend": false,
         "textposition": "auto",
         "type": "bar",
         "x": [
          "As",
          "NAs",
          "Entries",
          "Bs",
          "Cs",
          "Ds"
         ],
         "xaxis": "x4",
         "y": [
          95,
          10,
          160,
          35,
          20,
          0
         ],
         "yaxis": "y4"
        },
        {
         "alignmentgroup": "True",
         "hovertemplate": "Subject=Modern Studies<br>Year=2018<br>School=State<br>Grades=%{x}<br>Students=%{y}<extra></extra>",
         "legendgroup": "Modern Studies",
         "marker": {
          "color": "#FF6692",
          "opacity": 0.5,
          "pattern": {
           "shape": ""
          }
         },
         "name": "Modern Studies",
         "offsetgroup": "Modern Studies",
         "orientation": "v",
         "showlegend": false,
         "textposition": "auto",
         "type": "bar",
         "x": [
          "As",
          "NAs",
          "Entries",
          "Bs",
          "Cs",
          "Ds"
         ],
         "xaxis": "x",
         "y": [
          125,
          95,
          655,
          185,
          175,
          75
         ],
         "yaxis": "y"
        },
        {
         "alignmentgroup": "True",
         "hovertemplate": "Subject=Modern Studies<br>Year=2018<br>School=Ind<br>Grades=%{x}<br>Students=%{y}<extra></extra>",
         "legendgroup": "Modern Studies",
         "marker": {
          "color": "#FF6692",
          "opacity": 0.5,
          "pattern": {
           "shape": ""
          }
         },
         "name": "Modern Studies",
         "offsetgroup": "Modern Studies",
         "orientation": "v",
         "showlegend": false,
         "textposition": "auto",
         "type": "bar",
         "x": [
          "As",
          "NAs",
          "Entries",
          "Bs",
          "Cs",
          "Ds"
         ],
         "xaxis": "x2",
         "y": [
          80,
          10,
          175,
          50,
          35,
          0
         ],
         "yaxis": "y2"
        },
        {
         "alignmentgroup": "True",
         "hovertemplate": "Subject=Music<br>Year=2022<br>School=State<br>Grades=%{x}<br>Students=%{y}<extra></extra>",
         "legendgroup": "Music",
         "marker": {
          "color": "#B6E880",
          "opacity": 0.5,
          "pattern": {
           "shape": ""
          }
         },
         "name": "Music",
         "offsetgroup": "Music",
         "orientation": "v",
         "showlegend": true,
         "textposition": "auto",
         "type": "bar",
         "x": [
          "As",
          "NAs",
          "Entries",
          "Bs",
          "Cs",
          "Ds"
         ],
         "xaxis": "x9",
         "y": [
          870,
          40,
          1630,
          430,
          210,
          80
         ],
         "yaxis": "y9"
        },
        {
         "alignmentgroup": "True",
         "hovertemplate": "Subject=Music<br>Year=2022<br>School=Ind<br>Grades=%{x}<br>Students=%{y}<extra></extra>",
         "legendgroup": "Music",
         "marker": {
          "color": "#B6E880",
          "opacity": 0.5,
          "pattern": {
           "shape": ""
          }
         },
         "name": "Music",
         "offsetgroup": "Music",
         "orientation": "v",
         "showlegend": false,
         "textposition": "auto",
         "type": "bar",
         "x": [
          "As",
          "NAs",
          "Entries",
          "Bs",
          "Cs",
          "Ds"
         ],
         "xaxis": "x10",
         "y": [
          100,
          0,
          125,
          15,
          10,
          0
         ],
         "yaxis": "y10"
        },
        {
         "alignmentgroup": "True",
         "hovertemplate": "Subject=Music<br>Year=2021<br>School=State<br>Grades=%{x}<br>Students=%{y}<extra></extra>",
         "legendgroup": "Music",
         "marker": {
          "color": "#B6E880",
          "opacity": 0.5,
          "pattern": {
           "shape": ""
          }
         },
         "name": "Music",
         "offsetgroup": "Music",
         "orientation": "v",
         "showlegend": false,
         "textposition": "auto",
         "type": "bar",
         "x": [
          "As",
          "NAs",
          "Entries",
          "Bs",
          "Cs",
          "Ds"
         ],
         "xaxis": "x7",
         "y": [
          1185,
          15,
          1740,
          345,
          170,
          25
         ],
         "yaxis": "y7"
        },
        {
         "alignmentgroup": "True",
         "hovertemplate": "Subject=Music<br>Year=2021<br>School=Ind<br>Grades=%{x}<br>Students=%{y}<extra></extra>",
         "legendgroup": "Music",
         "marker": {
          "color": "#B6E880",
          "opacity": 0.5,
          "pattern": {
           "shape": ""
          }
         },
         "name": "Music",
         "offsetgroup": "Music",
         "orientation": "v",
         "showlegend": false,
         "textposition": "auto",
         "type": "bar",
         "x": [
          "As",
          "NAs",
          "Entries",
          "Bs",
          "Cs",
          "Ds"
         ],
         "xaxis": "x8",
         "y": [
          115,
          0,
          125,
          5,
          5,
          0
         ],
         "yaxis": "y8"
        },
        {
         "alignmentgroup": "True",
         "hovertemplate": "Subject=Music<br>Year=2020<br>School=State<br>Grades=%{x}<br>Students=%{y}<extra></extra>",
         "legendgroup": "Music",
         "marker": {
          "color": "#B6E880",
          "opacity": 0.5,
          "pattern": {
           "shape": ""
          }
         },
         "name": "Music",
         "offsetgroup": "Music",
         "orientation": "v",
         "showlegend": false,
         "textposition": "auto",
         "type": "bar",
         "x": [
          "As",
          "NAs",
          "Entries",
          "Bs",
          "Cs",
          "Ds"
         ],
         "xaxis": "x5",
         "y": [
          985,
          10,
          1525,
          345,
          165,
          20
         ],
         "yaxis": "y5"
        },
        {
         "alignmentgroup": "True",
         "hovertemplate": "Subject=Music<br>Year=2020<br>School=Ind<br>Grades=%{x}<br>Students=%{y}<extra></extra>",
         "legendgroup": "Music",
         "marker": {
          "color": "#B6E880",
          "opacity": 0.5,
          "pattern": {
           "shape": ""
          }
         },
         "name": "Music",
         "offsetgroup": "Music",
         "orientation": "v",
         "showlegend": false,
         "textposition": "auto",
         "type": "bar",
         "x": [
          "As",
          "NAs",
          "Entries",
          "Bs",
          "Cs",
          "Ds"
         ],
         "xaxis": "x6",
         "y": [
          120,
          0,
          120,
          0,
          0,
          0
         ],
         "yaxis": "y6"
        },
        {
         "alignmentgroup": "True",
         "hovertemplate": "Subject=Music<br>Year=2019<br>School=State<br>Grades=%{x}<br>Students=%{y}<extra></extra>",
         "legendgroup": "Music",
         "marker": {
          "color": "#B6E880",
          "opacity": 0.5,
          "pattern": {
           "shape": ""
          }
         },
         "name": "Music",
         "offsetgroup": "Music",
         "orientation": "v",
         "showlegend": false,
         "textposition": "auto",
         "type": "bar",
         "x": [
          "As",
          "NAs",
          "Entries",
          "Bs",
          "Cs",
          "Ds"
         ],
         "xaxis": "x3",
         "y": [
          805,
          70,
          1570,
          400,
          230,
          60
         ],
         "yaxis": "y3"
        },
        {
         "alignmentgroup": "True",
         "hovertemplate": "Subject=Music<br>Year=2019<br>School=Ind<br>Grades=%{x}<br>Students=%{y}<extra></extra>",
         "legendgroup": "Music",
         "marker": {
          "color": "#B6E880",
          "opacity": 0.5,
          "pattern": {
           "shape": ""
          }
         },
         "name": "Music",
         "offsetgroup": "Music",
         "orientation": "v",
         "showlegend": false,
         "textposition": "auto",
         "type": "bar",
         "x": [
          "As",
          "NAs",
          "Entries",
          "Bs",
          "Cs",
          "Ds"
         ],
         "xaxis": "x4",
         "y": [
          115,
          null,
          130,
          5,
          5,
          5
         ],
         "yaxis": "y4"
        },
        {
         "alignmentgroup": "True",
         "hovertemplate": "Subject=Music<br>Year=2018<br>School=State<br>Grades=%{x}<br>Students=%{y}<extra></extra>",
         "legendgroup": "Music",
         "marker": {
          "color": "#B6E880",
          "opacity": 0.5,
          "pattern": {
           "shape": ""
          }
         },
         "name": "Music",
         "offsetgroup": "Music",
         "orientation": "v",
         "showlegend": false,
         "textposition": "auto",
         "type": "bar",
         "x": [
          "As",
          "NAs",
          "Entries",
          "Bs",
          "Cs",
          "Ds"
         ],
         "xaxis": "x",
         "y": [
          920,
          60,
          1570,
          355,
          190,
          45
         ],
         "yaxis": "y"
        },
        {
         "alignmentgroup": "True",
         "hovertemplate": "Subject=Music<br>Year=2018<br>School=Ind<br>Grades=%{x}<br>Students=%{y}<extra></extra>",
         "legendgroup": "Music",
         "marker": {
          "color": "#B6E880",
          "opacity": 0.5,
          "pattern": {
           "shape": ""
          }
         },
         "name": "Music",
         "offsetgroup": "Music",
         "orientation": "v",
         "showlegend": false,
         "textposition": "auto",
         "type": "bar",
         "x": [
          "As",
          "NAs",
          "Entries",
          "Bs",
          "Cs",
          "Ds"
         ],
         "xaxis": "x2",
         "y": [
          120,
          null,
          140,
          15,
          5,
          0
         ],
         "yaxis": "y2"
        },
        {
         "alignmentgroup": "True",
         "hovertemplate": "Subject=Music Technology<br>Year=2022<br>School=State<br>Grades=%{x}<br>Students=%{y}<extra></extra>",
         "legendgroup": "Music Technology",
         "marker": {
          "color": "#FF97FF",
          "opacity": 0.5,
          "pattern": {
           "shape": ""
          }
         },
         "name": "Music Technology",
         "offsetgroup": "Music Technology",
         "orientation": "v",
         "showlegend": true,
         "textposition": "auto",
         "type": "bar",
         "x": [
          "As",
          "NAs",
          "Entries",
          "Bs",
          "Cs",
          "Ds"
         ],
         "xaxis": "x9",
         "y": [
          10,
          5,
          55,
          15,
          15,
          10
         ],
         "yaxis": "y9"
        },
        {
         "alignmentgroup": "True",
         "hovertemplate": "Subject=Music Technology<br>Year=2022<br>School=Ind<br>Grades=%{x}<br>Students=%{y}<extra></extra>",
         "legendgroup": "Music Technology",
         "marker": {
          "color": "#FF97FF",
          "opacity": 0.5,
          "pattern": {
           "shape": ""
          }
         },
         "name": "Music Technology",
         "offsetgroup": "Music Technology",
         "orientation": "v",
         "showlegend": false,
         "textposition": "auto",
         "type": "bar",
         "x": [
          "As",
          "NAs",
          "Entries",
          "Bs",
          "Cs",
          "Ds"
         ],
         "xaxis": "x10",
         "y": [
          0,
          0,
          null,
          null,
          null,
          null
         ],
         "yaxis": "y10"
        },
        {
         "alignmentgroup": "True",
         "hovertemplate": "Subject=Music Technology<br>Year=2021<br>School=State<br>Grades=%{x}<br>Students=%{y}<extra></extra>",
         "legendgroup": "Music Technology",
         "marker": {
          "color": "#FF97FF",
          "opacity": 0.5,
          "pattern": {
           "shape": ""
          }
         },
         "name": "Music Technology",
         "offsetgroup": "Music Technology",
         "orientation": "v",
         "showlegend": false,
         "textposition": "auto",
         "type": "bar",
         "x": [
          "As",
          "NAs",
          "Entries",
          "Bs",
          "Cs",
          "Ds"
         ],
         "xaxis": "x7",
         "y": [
          20,
          10,
          50,
          10,
          10,
          5
         ],
         "yaxis": "y7"
        },
        {
         "alignmentgroup": "True",
         "hovertemplate": "Subject=Music Technology<br>Year=2021<br>School=Ind<br>Grades=%{x}<br>Students=%{y}<extra></extra>",
         "legendgroup": "Music Technology",
         "marker": {
          "color": "#FF97FF",
          "opacity": 0.5,
          "pattern": {
           "shape": ""
          }
         },
         "name": "Music Technology",
         "offsetgroup": "Music Technology",
         "orientation": "v",
         "showlegend": false,
         "textposition": "auto",
         "type": "bar",
         "x": [
          "As",
          "NAs",
          "Entries",
          "Bs",
          "Cs",
          "Ds"
         ],
         "xaxis": "x8",
         "y": [
          null,
          0,
          null,
          null,
          null,
          null
         ],
         "yaxis": "y8"
        },
        {
         "alignmentgroup": "True",
         "hovertemplate": "Subject=Music Technology<br>Year=2020<br>School=State<br>Grades=%{x}<br>Students=%{y}<extra></extra>",
         "legendgroup": "Music Technology",
         "marker": {
          "color": "#FF97FF",
          "opacity": 0.5,
          "pattern": {
           "shape": ""
          }
         },
         "name": "Music Technology",
         "offsetgroup": "Music Technology",
         "orientation": "v",
         "showlegend": false,
         "textposition": "auto",
         "type": "bar",
         "x": [
          "As",
          "NAs",
          "Entries",
          "Bs",
          "Cs",
          "Ds"
         ],
         "xaxis": "x5",
         "y": [
          20,
          0,
          30,
          5,
          5,
          0
         ],
         "yaxis": "y5"
        },
        {
         "alignmentgroup": "True",
         "hovertemplate": "Subject=Music Technology<br>Year=2020<br>School=Ind<br>Grades=%{x}<br>Students=%{y}<extra></extra>",
         "legendgroup": "Music Technology",
         "marker": {
          "color": "#FF97FF",
          "opacity": 0.5,
          "pattern": {
           "shape": ""
          }
         },
         "name": "Music Technology",
         "offsetgroup": "Music Technology",
         "orientation": "v",
         "showlegend": false,
         "textposition": "auto",
         "type": "bar",
         "x": [
          "As",
          "NAs",
          "Entries",
          "Bs",
          "Cs",
          "Ds"
         ],
         "xaxis": "x6",
         "y": [
          null,
          0,
          null,
          null,
          null,
          null
         ],
         "yaxis": "y6"
        },
        {
         "alignmentgroup": "True",
         "hovertemplate": "Subject=Music Technology<br>Year=2019<br>School=State<br>Grades=%{x}<br>Students=%{y}<extra></extra>",
         "legendgroup": "Music Technology",
         "marker": {
          "color": "#FF97FF",
          "opacity": 0.5,
          "pattern": {
           "shape": ""
          }
         },
         "name": "Music Technology",
         "offsetgroup": "Music Technology",
         "orientation": "v",
         "showlegend": false,
         "textposition": "auto",
         "type": "bar",
         "x": [
          "As",
          "NAs",
          "Entries",
          "Bs",
          "Cs",
          "Ds"
         ],
         "xaxis": "x3",
         "y": [
          null,
          null,
          null,
          null,
          null,
          null
         ],
         "yaxis": "y3"
        },
        {
         "alignmentgroup": "True",
         "hovertemplate": "Subject=Music Technology<br>Year=2019<br>School=Ind<br>Grades=%{x}<br>Students=%{y}<extra></extra>",
         "legendgroup": "Music Technology",
         "marker": {
          "color": "#FF97FF",
          "opacity": 0.5,
          "pattern": {
           "shape": ""
          }
         },
         "name": "Music Technology",
         "offsetgroup": "Music Technology",
         "orientation": "v",
         "showlegend": false,
         "textposition": "auto",
         "type": "bar",
         "x": [
          "As",
          "NAs",
          "Entries",
          "Bs",
          "Cs",
          "Ds"
         ],
         "xaxis": "x4",
         "y": [
          null,
          null,
          null,
          null,
          null,
          null
         ],
         "yaxis": "y4"
        },
        {
         "alignmentgroup": "True",
         "hovertemplate": "Subject=Music Technology<br>Year=2018<br>School=State<br>Grades=%{x}<br>Students=%{y}<extra></extra>",
         "legendgroup": "Music Technology",
         "marker": {
          "color": "#FF97FF",
          "opacity": 0.5,
          "pattern": {
           "shape": ""
          }
         },
         "name": "Music Technology",
         "offsetgroup": "Music Technology",
         "orientation": "v",
         "showlegend": false,
         "textposition": "auto",
         "type": "bar",
         "x": [
          "As",
          "NAs",
          "Entries",
          "Bs",
          "Cs",
          "Ds"
         ],
         "xaxis": "x",
         "y": [
          null,
          null,
          null,
          null,
          null,
          null
         ],
         "yaxis": "y"
        },
        {
         "alignmentgroup": "True",
         "hovertemplate": "Subject=Music Technology<br>Year=2018<br>School=Ind<br>Grades=%{x}<br>Students=%{y}<extra></extra>",
         "legendgroup": "Music Technology",
         "marker": {
          "color": "#FF97FF",
          "opacity": 0.5,
          "pattern": {
           "shape": ""
          }
         },
         "name": "Music Technology",
         "offsetgroup": "Music Technology",
         "orientation": "v",
         "showlegend": false,
         "textposition": "auto",
         "type": "bar",
         "x": [
          "As",
          "NAs",
          "Entries",
          "Bs",
          "Cs",
          "Ds"
         ],
         "xaxis": "x2",
         "y": [
          null,
          null,
          null,
          null,
          null,
          null
         ],
         "yaxis": "y2"
        },
        {
         "alignmentgroup": "True",
         "hovertemplate": "Subject=Music: Portfolio<br>Year=2022<br>School=State<br>Grades=%{x}<br>Students=%{y}<extra></extra>",
         "legendgroup": "Music: Portfolio",
         "marker": {
          "color": "#FECB52",
          "opacity": 0.5,
          "pattern": {
           "shape": ""
          }
         },
         "name": "Music: Portfolio",
         "offsetgroup": "Music: Portfolio",
         "orientation": "v",
         "showlegend": true,
         "textposition": "auto",
         "type": "bar",
         "x": [
          "As",
          "NAs",
          "Entries",
          "Bs",
          "Cs",
          "Ds"
         ],
         "xaxis": "x9",
         "y": [
          null,
          0,
          10,
          null,
          null,
          0
         ],
         "yaxis": "y9"
        },
        {
         "alignmentgroup": "True",
         "hovertemplate": "Subject=Music: Portfolio<br>Year=2022<br>School=Ind<br>Grades=%{x}<br>Students=%{y}<extra></extra>",
         "legendgroup": "Music: Portfolio",
         "marker": {
          "color": "#FECB52",
          "opacity": 0.5,
          "pattern": {
           "shape": ""
          }
         },
         "name": "Music: Portfolio",
         "offsetgroup": "Music: Portfolio",
         "orientation": "v",
         "showlegend": false,
         "textposition": "auto",
         "type": "bar",
         "x": [
          "As",
          "NAs",
          "Entries",
          "Bs",
          "Cs",
          "Ds"
         ],
         "xaxis": "x10",
         "y": [
          null,
          0,
          null,
          null,
          null,
          null
         ],
         "yaxis": "y10"
        },
        {
         "alignmentgroup": "True",
         "hovertemplate": "Subject=Music: Portfolio<br>Year=2021<br>School=State<br>Grades=%{x}<br>Students=%{y}<extra></extra>",
         "legendgroup": "Music: Portfolio",
         "marker": {
          "color": "#FECB52",
          "opacity": 0.5,
          "pattern": {
           "shape": ""
          }
         },
         "name": "Music: Portfolio",
         "offsetgroup": "Music: Portfolio",
         "orientation": "v",
         "showlegend": false,
         "textposition": "auto",
         "type": "bar",
         "x": [
          "As",
          "NAs",
          "Entries",
          "Bs",
          "Cs",
          "Ds"
         ],
         "xaxis": "x7",
         "y": [
          10,
          0,
          15,
          5,
          0,
          0
         ],
         "yaxis": "y7"
        },
        {
         "alignmentgroup": "True",
         "hovertemplate": "Subject=Music: Portfolio<br>Year=2021<br>School=Ind<br>Grades=%{x}<br>Students=%{y}<extra></extra>",
         "legendgroup": "Music: Portfolio",
         "marker": {
          "color": "#FECB52",
          "opacity": 0.5,
          "pattern": {
           "shape": ""
          }
         },
         "name": "Music: Portfolio",
         "offsetgroup": "Music: Portfolio",
         "orientation": "v",
         "showlegend": false,
         "textposition": "auto",
         "type": "bar",
         "x": [
          "As",
          "NAs",
          "Entries",
          "Bs",
          "Cs",
          "Ds"
         ],
         "xaxis": "x8",
         "y": [
          null,
          0,
          null,
          null,
          null,
          null
         ],
         "yaxis": "y8"
        },
        {
         "alignmentgroup": "True",
         "hovertemplate": "Subject=Music: Portfolio<br>Year=2020<br>School=State<br>Grades=%{x}<br>Students=%{y}<extra></extra>",
         "legendgroup": "Music: Portfolio",
         "marker": {
          "color": "#FECB52",
          "opacity": 0.5,
          "pattern": {
           "shape": ""
          }
         },
         "name": "Music: Portfolio",
         "offsetgroup": "Music: Portfolio",
         "orientation": "v",
         "showlegend": false,
         "textposition": "auto",
         "type": "bar",
         "x": [
          "As",
          "NAs",
          "Entries",
          "Bs",
          "Cs",
          "Ds"
         ],
         "xaxis": "x5",
         "y": [
          15,
          0,
          20,
          5,
          0,
          0
         ],
         "yaxis": "y5"
        },
        {
         "alignmentgroup": "True",
         "hovertemplate": "Subject=Music: Portfolio<br>Year=2020<br>School=Ind<br>Grades=%{x}<br>Students=%{y}<extra></extra>",
         "legendgroup": "Music: Portfolio",
         "marker": {
          "color": "#FECB52",
          "opacity": 0.5,
          "pattern": {
           "shape": ""
          }
         },
         "name": "Music: Portfolio",
         "offsetgroup": "Music: Portfolio",
         "orientation": "v",
         "showlegend": false,
         "textposition": "auto",
         "type": "bar",
         "x": [
          "As",
          "NAs",
          "Entries",
          "Bs",
          "Cs",
          "Ds"
         ],
         "xaxis": "x6",
         "y": [
          null,
          0,
          null,
          null,
          null,
          null
         ],
         "yaxis": "y6"
        },
        {
         "alignmentgroup": "True",
         "hovertemplate": "Subject=Music: Portfolio<br>Year=2019<br>School=State<br>Grades=%{x}<br>Students=%{y}<extra></extra>",
         "legendgroup": "Music: Portfolio",
         "marker": {
          "color": "#FECB52",
          "opacity": 0.5,
          "pattern": {
           "shape": ""
          }
         },
         "name": "Music: Portfolio",
         "offsetgroup": "Music: Portfolio",
         "orientation": "v",
         "showlegend": false,
         "textposition": "auto",
         "type": "bar",
         "x": [
          "As",
          "NAs",
          "Entries",
          "Bs",
          "Cs",
          "Ds"
         ],
         "xaxis": "x3",
         "y": [
          null,
          null,
          5,
          null,
          null,
          null
         ],
         "yaxis": "y3"
        },
        {
         "alignmentgroup": "True",
         "hovertemplate": "Subject=Music: Portfolio<br>Year=2019<br>School=Ind<br>Grades=%{x}<br>Students=%{y}<extra></extra>",
         "legendgroup": "Music: Portfolio",
         "marker": {
          "color": "#FECB52",
          "opacity": 0.5,
          "pattern": {
           "shape": ""
          }
         },
         "name": "Music: Portfolio",
         "offsetgroup": "Music: Portfolio",
         "orientation": "v",
         "showlegend": false,
         "textposition": "auto",
         "type": "bar",
         "x": [
          "As",
          "NAs",
          "Entries",
          "Bs",
          "Cs",
          "Ds"
         ],
         "xaxis": "x4",
         "y": [
          null,
          0,
          null,
          null,
          null,
          null
         ],
         "yaxis": "y4"
        },
        {
         "alignmentgroup": "True",
         "hovertemplate": "Subject=Music: Portfolio<br>Year=2018<br>School=State<br>Grades=%{x}<br>Students=%{y}<extra></extra>",
         "legendgroup": "Music: Portfolio",
         "marker": {
          "color": "#FECB52",
          "opacity": 0.5,
          "pattern": {
           "shape": ""
          }
         },
         "name": "Music: Portfolio",
         "offsetgroup": "Music: Portfolio",
         "orientation": "v",
         "showlegend": false,
         "textposition": "auto",
         "type": "bar",
         "x": [
          "As",
          "NAs",
          "Entries",
          "Bs",
          "Cs",
          "Ds"
         ],
         "xaxis": "x",
         "y": [
          5,
          null,
          10,
          0,
          0,
          5
         ],
         "yaxis": "y"
        },
        {
         "alignmentgroup": "True",
         "hovertemplate": "Subject=Music: Portfolio<br>Year=2018<br>School=Ind<br>Grades=%{x}<br>Students=%{y}<extra></extra>",
         "legendgroup": "Music: Portfolio",
         "marker": {
          "color": "#FECB52",
          "opacity": 0.5,
          "pattern": {
           "shape": ""
          }
         },
         "name": "Music: Portfolio",
         "offsetgroup": "Music: Portfolio",
         "orientation": "v",
         "showlegend": false,
         "textposition": "auto",
         "type": "bar",
         "x": [
          "As",
          "NAs",
          "Entries",
          "Bs",
          "Cs",
          "Ds"
         ],
         "xaxis": "x2",
         "y": [
          null,
          0,
          null,
          null,
          null,
          null
         ],
         "yaxis": "y2"
        },
        {
         "alignmentgroup": "True",
         "hovertemplate": "Subject=Physical Education<br>Year=2022<br>School=State<br>Grades=%{x}<br>Students=%{y}<extra></extra>",
         "legendgroup": "Physical Education",
         "marker": {
          "color": "#636efa",
          "opacity": 0.5,
          "pattern": {
           "shape": ""
          }
         },
         "name": "Physical Education",
         "offsetgroup": "Physical Education",
         "orientation": "v",
         "showlegend": true,
         "textposition": "auto",
         "type": "bar",
         "x": [
          "As",
          "NAs",
          "Entries",
          "Bs",
          "Cs",
          "Ds"
         ],
         "xaxis": "x9",
         "y": [
          225,
          50,
          925,
          245,
          240,
          170
         ],
         "yaxis": "y9"
        },
        {
         "alignmentgroup": "True",
         "hovertemplate": "Subject=Physical Education<br>Year=2022<br>School=Ind<br>Grades=%{x}<br>Students=%{y}<extra></extra>",
         "legendgroup": "Physical Education",
         "marker": {
          "color": "#636efa",
          "opacity": 0.5,
          "pattern": {
           "shape": ""
          }
         },
         "name": "Physical Education",
         "offsetgroup": "Physical Education",
         "orientation": "v",
         "showlegend": false,
         "textposition": "auto",
         "type": "bar",
         "x": [
          "As",
          "NAs",
          "Entries",
          "Bs",
          "Cs",
          "Ds"
         ],
         "xaxis": "x10",
         "y": [
          55,
          0,
          125,
          35,
          20,
          15
         ],
         "yaxis": "y10"
        },
        {
         "alignmentgroup": "True",
         "hovertemplate": "Subject=Physical Education<br>Year=2021<br>School=State<br>Grades=%{x}<br>Students=%{y}<extra></extra>",
         "legendgroup": "Physical Education",
         "marker": {
          "color": "#636efa",
          "opacity": 0.5,
          "pattern": {
           "shape": ""
          }
         },
         "name": "Physical Education",
         "offsetgroup": "Physical Education",
         "orientation": "v",
         "showlegend": false,
         "textposition": "auto",
         "type": "bar",
         "x": [
          "As",
          "NAs",
          "Entries",
          "Bs",
          "Cs",
          "Ds"
         ],
         "xaxis": "x7",
         "y": [
          325,
          15,
          715,
          210,
          130,
          35
         ],
         "yaxis": "y7"
        },
        {
         "alignmentgroup": "True",
         "hovertemplate": "Subject=Physical Education<br>Year=2021<br>School=Ind<br>Grades=%{x}<br>Students=%{y}<extra></extra>",
         "legendgroup": "Physical Education",
         "marker": {
          "color": "#636efa",
          "opacity": 0.5,
          "pattern": {
           "shape": ""
          }
         },
         "name": "Physical Education",
         "offsetgroup": "Physical Education",
         "orientation": "v",
         "showlegend": false,
         "textposition": "auto",
         "type": "bar",
         "x": [
          "As",
          "NAs",
          "Entries",
          "Bs",
          "Cs",
          "Ds"
         ],
         "xaxis": "x8",
         "y": [
          80,
          0,
          95,
          10,
          5,
          0
         ],
         "yaxis": "y8"
        },
        {
         "alignmentgroup": "True",
         "hovertemplate": "Subject=Physical Education<br>Year=2020<br>School=State<br>Grades=%{x}<br>Students=%{y}<extra></extra>",
         "legendgroup": "Physical Education",
         "marker": {
          "color": "#636efa",
          "opacity": 0.5,
          "pattern": {
           "shape": ""
          }
         },
         "name": "Physical Education",
         "offsetgroup": "Physical Education",
         "orientation": "v",
         "showlegend": false,
         "textposition": "auto",
         "type": "bar",
         "x": [
          "As",
          "NAs",
          "Entries",
          "Bs",
          "Cs",
          "Ds"
         ],
         "xaxis": "x5",
         "y": [
          195,
          5,
          450,
          140,
          90,
          20
         ],
         "yaxis": "y5"
        },
        {
         "alignmentgroup": "True",
         "hovertemplate": "Subject=Physical Education<br>Year=2020<br>School=Ind<br>Grades=%{x}<br>Students=%{y}<extra></extra>",
         "legendgroup": "Physical Education",
         "marker": {
          "color": "#636efa",
          "opacity": 0.5,
          "pattern": {
           "shape": ""
          }
         },
         "name": "Physical Education",
         "offsetgroup": "Physical Education",
         "orientation": "v",
         "showlegend": false,
         "textposition": "auto",
         "type": "bar",
         "x": [
          "As",
          "NAs",
          "Entries",
          "Bs",
          "Cs",
          "Ds"
         ],
         "xaxis": "x6",
         "y": [
          50,
          0,
          65,
          10,
          5,
          0
         ],
         "yaxis": "y6"
        },
        {
         "alignmentgroup": "True",
         "hovertemplate": "Subject=Physical Education<br>Year=2019<br>School=State<br>Grades=%{x}<br>Students=%{y}<extra></extra>",
         "legendgroup": "Physical Education",
         "marker": {
          "color": "#636efa",
          "opacity": 0.5,
          "pattern": {
           "shape": ""
          }
         },
         "name": "Physical Education",
         "offsetgroup": "Physical Education",
         "orientation": "v",
         "showlegend": false,
         "textposition": "auto",
         "type": "bar",
         "x": [
          "As",
          "NAs",
          "Entries",
          "Bs",
          "Cs",
          "Ds"
         ],
         "xaxis": "x3",
         "y": [
          95,
          55,
          450,
          115,
          125,
          60
         ],
         "yaxis": "y3"
        },
        {
         "alignmentgroup": "True",
         "hovertemplate": "Subject=Physical Education<br>Year=2019<br>School=Ind<br>Grades=%{x}<br>Students=%{y}<extra></extra>",
         "legendgroup": "Physical Education",
         "marker": {
          "color": "#636efa",
          "opacity": 0.5,
          "pattern": {
           "shape": ""
          }
         },
         "name": "Physical Education",
         "offsetgroup": "Physical Education",
         "orientation": "v",
         "showlegend": false,
         "textposition": "auto",
         "type": "bar",
         "x": [
          "As",
          "NAs",
          "Entries",
          "Bs",
          "Cs",
          "Ds"
         ],
         "xaxis": "x4",
         "y": [
          20,
          0,
          50,
          20,
          5,
          5
         ],
         "yaxis": "y4"
        },
        {
         "alignmentgroup": "True",
         "hovertemplate": "Subject=Physical Education<br>Year=2018<br>School=State<br>Grades=%{x}<br>Students=%{y}<extra></extra>",
         "legendgroup": "Physical Education",
         "marker": {
          "color": "#636efa",
          "opacity": 0.5,
          "pattern": {
           "shape": ""
          }
         },
         "name": "Physical Education",
         "offsetgroup": "Physical Education",
         "orientation": "v",
         "showlegend": false,
         "textposition": "auto",
         "type": "bar",
         "x": [
          "As",
          "NAs",
          "Entries",
          "Bs",
          "Cs",
          "Ds"
         ],
         "xaxis": "x",
         "y": [
          70,
          55,
          380,
          110,
          95,
          50
         ],
         "yaxis": "y"
        },
        {
         "alignmentgroup": "True",
         "hovertemplate": "Subject=Physical Education<br>Year=2018<br>School=Ind<br>Grades=%{x}<br>Students=%{y}<extra></extra>",
         "legendgroup": "Physical Education",
         "marker": {
          "color": "#636efa",
          "opacity": 0.5,
          "pattern": {
           "shape": ""
          }
         },
         "name": "Physical Education",
         "offsetgroup": "Physical Education",
         "orientation": "v",
         "showlegend": false,
         "textposition": "auto",
         "type": "bar",
         "x": [
          "As",
          "NAs",
          "Entries",
          "Bs",
          "Cs",
          "Ds"
         ],
         "xaxis": "x2",
         "y": [
          20,
          null,
          50,
          15,
          10,
          0
         ],
         "yaxis": "y2"
        },
        {
         "alignmentgroup": "True",
         "hovertemplate": "Subject=Physics<br>Year=2022<br>School=State<br>Grades=%{x}<br>Students=%{y}<extra></extra>",
         "legendgroup": "Physics",
         "marker": {
          "color": "#EF553B",
          "opacity": 0.5,
          "pattern": {
           "shape": ""
          }
         },
         "name": "Physics",
         "offsetgroup": "Physics",
         "orientation": "v",
         "showlegend": true,
         "textposition": "auto",
         "type": "bar",
         "x": [
          "As",
          "NAs",
          "Entries",
          "Bs",
          "Cs",
          "Ds"
         ],
         "xaxis": "x9",
         "y": [
          600,
          140,
          1815,
          450,
          385,
          235
         ],
         "yaxis": "y9"
        },
        {
         "alignmentgroup": "True",
         "hovertemplate": "Subject=Physics<br>Year=2022<br>School=Ind<br>Grades=%{x}<br>Students=%{y}<extra></extra>",
         "legendgroup": "Physics",
         "marker": {
          "color": "#EF553B",
          "opacity": 0.5,
          "pattern": {
           "shape": ""
          }
         },
         "name": "Physics",
         "offsetgroup": "Physics",
         "orientation": "v",
         "showlegend": false,
         "textposition": "auto",
         "type": "bar",
         "x": [
          "As",
          "NAs",
          "Entries",
          "Bs",
          "Cs",
          "Ds"
         ],
         "xaxis": "x10",
         "y": [
          160,
          5,
          290,
          75,
          30,
          20
         ],
         "yaxis": "y10"
        },
        {
         "alignmentgroup": "True",
         "hovertemplate": "Subject=Physics<br>Year=2021<br>School=State<br>Grades=%{x}<br>Students=%{y}<extra></extra>",
         "legendgroup": "Physics",
         "marker": {
          "color": "#EF553B",
          "opacity": 0.5,
          "pattern": {
           "shape": ""
          }
         },
         "name": "Physics",
         "offsetgroup": "Physics",
         "orientation": "v",
         "showlegend": false,
         "textposition": "auto",
         "type": "bar",
         "x": [
          "As",
          "NAs",
          "Entries",
          "Bs",
          "Cs",
          "Ds"
         ],
         "xaxis": "x7",
         "y": [
          770,
          95,
          1615,
          375,
          250,
          130
         ],
         "yaxis": "y7"
        },
        {
         "alignmentgroup": "True",
         "hovertemplate": "Subject=Physics<br>Year=2021<br>School=Ind<br>Grades=%{x}<br>Students=%{y}<extra></extra>",
         "legendgroup": "Physics",
         "marker": {
          "color": "#EF553B",
          "opacity": 0.5,
          "pattern": {
           "shape": ""
          }
         },
         "name": "Physics",
         "offsetgroup": "Physics",
         "orientation": "v",
         "showlegend": false,
         "textposition": "auto",
         "type": "bar",
         "x": [
          "As",
          "NAs",
          "Entries",
          "Bs",
          "Cs",
          "Ds"
         ],
         "xaxis": "x8",
         "y": [
          215,
          null,
          295,
          55,
          20,
          0
         ],
         "yaxis": "y8"
        },
        {
         "alignmentgroup": "True",
         "hovertemplate": "Subject=Physics<br>Year=2020<br>School=State<br>Grades=%{x}<br>Students=%{y}<extra></extra>",
         "legendgroup": "Physics",
         "marker": {
          "color": "#EF553B",
          "opacity": 0.5,
          "pattern": {
           "shape": ""
          }
         },
         "name": "Physics",
         "offsetgroup": "Physics",
         "orientation": "v",
         "showlegend": false,
         "textposition": "auto",
         "type": "bar",
         "x": [
          "As",
          "NAs",
          "Entries",
          "Bs",
          "Cs",
          "Ds"
         ],
         "xaxis": "x5",
         "y": [
          660,
          40,
          1405,
          350,
          280,
          75
         ],
         "yaxis": "y5"
        },
        {
         "alignmentgroup": "True",
         "hovertemplate": "Subject=Physics<br>Year=2020<br>School=Ind<br>Grades=%{x}<br>Students=%{y}<extra></extra>",
         "legendgroup": "Physics",
         "marker": {
          "color": "#EF553B",
          "opacity": 0.5,
          "pattern": {
           "shape": ""
          }
         },
         "name": "Physics",
         "offsetgroup": "Physics",
         "orientation": "v",
         "showlegend": false,
         "textposition": "auto",
         "type": "bar",
         "x": [
          "As",
          "NAs",
          "Entries",
          "Bs",
          "Cs",
          "Ds"
         ],
         "xaxis": "x6",
         "y": [
          190,
          null,
          280,
          60,
          25,
          5
         ],
         "yaxis": "y6"
        },
        {
         "alignmentgroup": "True",
         "hovertemplate": "Subject=Physics<br>Year=2019<br>School=State<br>Grades=%{x}<br>Students=%{y}<extra></extra>",
         "legendgroup": "Physics",
         "marker": {
          "color": "#EF553B",
          "opacity": 0.5,
          "pattern": {
           "shape": ""
          }
         },
         "name": "Physics",
         "offsetgroup": "Physics",
         "orientation": "v",
         "showlegend": false,
         "textposition": "auto",
         "type": "bar",
         "x": [
          "As",
          "NAs",
          "Entries",
          "Bs",
          "Cs",
          "Ds"
         ],
         "xaxis": "x3",
         "y": [
          390,
          190,
          1405,
          385,
          300,
          140
         ],
         "yaxis": "y3"
        },
        {
         "alignmentgroup": "True",
         "hovertemplate": "Subject=Physics<br>Year=2019<br>School=Ind<br>Grades=%{x}<br>Students=%{y}<extra></extra>",
         "legendgroup": "Physics",
         "marker": {
          "color": "#EF553B",
          "opacity": 0.5,
          "pattern": {
           "shape": ""
          }
         },
         "name": "Physics",
         "offsetgroup": "Physics",
         "orientation": "v",
         "showlegend": false,
         "textposition": "auto",
         "type": "bar",
         "x": [
          "As",
          "NAs",
          "Entries",
          "Bs",
          "Cs",
          "Ds"
         ],
         "xaxis": "x4",
         "y": [
          110,
          10,
          215,
          55,
          30,
          10
         ],
         "yaxis": "y4"
        },
        {
         "alignmentgroup": "True",
         "hovertemplate": "Subject=Physics<br>Year=2018<br>School=State<br>Grades=%{x}<br>Students=%{y}<extra></extra>",
         "legendgroup": "Physics",
         "marker": {
          "color": "#EF553B",
          "opacity": 0.5,
          "pattern": {
           "shape": ""
          }
         },
         "name": "Physics",
         "offsetgroup": "Physics",
         "orientation": "v",
         "showlegend": false,
         "textposition": "auto",
         "type": "bar",
         "x": [
          "As",
          "NAs",
          "Entries",
          "Bs",
          "Cs",
          "Ds"
         ],
         "xaxis": "x",
         "y": [
          430,
          220,
          1610,
          430,
          380,
          150
         ],
         "yaxis": "y"
        },
        {
         "alignmentgroup": "True",
         "hovertemplate": "Subject=Physics<br>Year=2018<br>School=Ind<br>Grades=%{x}<br>Students=%{y}<extra></extra>",
         "legendgroup": "Physics",
         "marker": {
          "color": "#EF553B",
          "opacity": 0.5,
          "pattern": {
           "shape": ""
          }
         },
         "name": "Physics",
         "offsetgroup": "Physics",
         "orientation": "v",
         "showlegend": false,
         "textposition": "auto",
         "type": "bar",
         "x": [
          "As",
          "NAs",
          "Entries",
          "Bs",
          "Cs",
          "Ds"
         ],
         "xaxis": "x2",
         "y": [
          140,
          5,
          265,
          75,
          35,
          5
         ],
         "yaxis": "y2"
        },
        {
         "alignmentgroup": "True",
         "hovertemplate": "Subject=Religious, Moral and Philosophical Studies<br>Year=2022<br>School=State<br>Grades=%{x}<br>Students=%{y}<extra></extra>",
         "legendgroup": "Religious, Moral and Philosophical Studies",
         "marker": {
          "color": "#00cc96",
          "opacity": 0.5,
          "pattern": {
           "shape": ""
          }
         },
         "name": "Religious, Moral and Philosophical Studies",
         "offsetgroup": "Religious, Moral and Philosophical Studies",
         "orientation": "v",
         "showlegend": true,
         "textposition": "auto",
         "type": "bar",
         "x": [
          "As",
          "NAs",
          "Entries",
          "Bs",
          "Cs",
          "Ds"
         ],
         "xaxis": "x9",
         "y": [
          40,
          15,
          150,
          35,
          30,
          25
         ],
         "yaxis": "y9"
        },
        {
         "alignmentgroup": "True",
         "hovertemplate": "Subject=Religious, Moral and Philosophical Studies<br>Year=2022<br>School=Ind<br>Grades=%{x}<br>Students=%{y}<extra></extra>",
         "legendgroup": "Religious, Moral and Philosophical Studies",
         "marker": {
          "color": "#00cc96",
          "opacity": 0.5,
          "pattern": {
           "shape": ""
          }
         },
         "name": "Religious, Moral and Philosophical Studies",
         "offsetgroup": "Religious, Moral and Philosophical Studies",
         "orientation": "v",
         "showlegend": false,
         "textposition": "auto",
         "type": "bar",
         "x": [
          "As",
          "NAs",
          "Entries",
          "Bs",
          "Cs",
          "Ds"
         ],
         "xaxis": "x10",
         "y": [
          50,
          null,
          100,
          35,
          10,
          5
         ],
         "yaxis": "y10"
        },
        {
         "alignmentgroup": "True",
         "hovertemplate": "Subject=Religious, Moral and Philosophical Studies<br>Year=2021<br>School=State<br>Grades=%{x}<br>Students=%{y}<extra></extra>",
         "legendgroup": "Religious, Moral and Philosophical Studies",
         "marker": {
          "color": "#00cc96",
          "opacity": 0.5,
          "pattern": {
           "shape": ""
          }
         },
         "name": "Religious, Moral and Philosophical Studies",
         "offsetgroup": "Religious, Moral and Philosophical Studies",
         "orientation": "v",
         "showlegend": false,
         "textposition": "auto",
         "type": "bar",
         "x": [
          "As",
          "NAs",
          "Entries",
          "Bs",
          "Cs",
          "Ds"
         ],
         "xaxis": "x7",
         "y": [
          75,
          null,
          145,
          35,
          25,
          5
         ],
         "yaxis": "y7"
        },
        {
         "alignmentgroup": "True",
         "hovertemplate": "Subject=Religious, Moral and Philosophical Studies<br>Year=2021<br>School=Ind<br>Grades=%{x}<br>Students=%{y}<extra></extra>",
         "legendgroup": "Religious, Moral and Philosophical Studies",
         "marker": {
          "color": "#00cc96",
          "opacity": 0.5,
          "pattern": {
           "shape": ""
          }
         },
         "name": "Religious, Moral and Philosophical Studies",
         "offsetgroup": "Religious, Moral and Philosophical Studies",
         "orientation": "v",
         "showlegend": false,
         "textposition": "auto",
         "type": "bar",
         "x": [
          "As",
          "NAs",
          "Entries",
          "Bs",
          "Cs",
          "Ds"
         ],
         "xaxis": "x8",
         "y": [
          80,
          0,
          95,
          10,
          5,
          0
         ],
         "yaxis": "y8"
        },
        {
         "alignmentgroup": "True",
         "hovertemplate": "Subject=Religious, Moral and Philosophical Studies<br>Year=2020<br>School=State<br>Grades=%{x}<br>Students=%{y}<extra></extra>",
         "legendgroup": "Religious, Moral and Philosophical Studies",
         "marker": {
          "color": "#00cc96",
          "opacity": 0.5,
          "pattern": {
           "shape": ""
          }
         },
         "name": "Religious, Moral and Philosophical Studies",
         "offsetgroup": "Religious, Moral and Philosophical Studies",
         "orientation": "v",
         "showlegend": false,
         "textposition": "auto",
         "type": "bar",
         "x": [
          "As",
          "NAs",
          "Entries",
          "Bs",
          "Cs",
          "Ds"
         ],
         "xaxis": "x5",
         "y": [
          40,
          0,
          85,
          25,
          15,
          5
         ],
         "yaxis": "y5"
        },
        {
         "alignmentgroup": "True",
         "hovertemplate": "Subject=Religious, Moral and Philosophical Studies<br>Year=2020<br>School=Ind<br>Grades=%{x}<br>Students=%{y}<extra></extra>",
         "legendgroup": "Religious, Moral and Philosophical Studies",
         "marker": {
          "color": "#00cc96",
          "opacity": 0.5,
          "pattern": {
           "shape": ""
          }
         },
         "name": "Religious, Moral and Philosophical Studies",
         "offsetgroup": "Religious, Moral and Philosophical Studies",
         "orientation": "v",
         "showlegend": false,
         "textposition": "auto",
         "type": "bar",
         "x": [
          "As",
          "NAs",
          "Entries",
          "Bs",
          "Cs",
          "Ds"
         ],
         "xaxis": "x6",
         "y": [
          60,
          0,
          95,
          25,
          10,
          0
         ],
         "yaxis": "y6"
        },
        {
         "alignmentgroup": "True",
         "hovertemplate": "Subject=Religious, Moral and Philosophical Studies<br>Year=2019<br>School=State<br>Grades=%{x}<br>Students=%{y}<extra></extra>",
         "legendgroup": "Religious, Moral and Philosophical Studies",
         "marker": {
          "color": "#00cc96",
          "opacity": 0.5,
          "pattern": {
           "shape": ""
          }
         },
         "name": "Religious, Moral and Philosophical Studies",
         "offsetgroup": "Religious, Moral and Philosophical Studies",
         "orientation": "v",
         "showlegend": false,
         "textposition": "auto",
         "type": "bar",
         "x": [
          "As",
          "NAs",
          "Entries",
          "Bs",
          "Cs",
          "Ds"
         ],
         "xaxis": "x3",
         "y": [
          15,
          25,
          100,
          30,
          15,
          15
         ],
         "yaxis": "y3"
        },
        {
         "alignmentgroup": "True",
         "hovertemplate": "Subject=Religious, Moral and Philosophical Studies<br>Year=2019<br>School=Ind<br>Grades=%{x}<br>Students=%{y}<extra></extra>",
         "legendgroup": "Religious, Moral and Philosophical Studies",
         "marker": {
          "color": "#00cc96",
          "opacity": 0.5,
          "pattern": {
           "shape": ""
          }
         },
         "name": "Religious, Moral and Philosophical Studies",
         "offsetgroup": "Religious, Moral and Philosophical Studies",
         "orientation": "v",
         "showlegend": false,
         "textposition": "auto",
         "type": "bar",
         "x": [
          "As",
          "NAs",
          "Entries",
          "Bs",
          "Cs",
          "Ds"
         ],
         "xaxis": "x4",
         "y": [
          40,
          0,
          75,
          15,
          20,
          0
         ],
         "yaxis": "y4"
        },
        {
         "alignmentgroup": "True",
         "hovertemplate": "Subject=Religious, Moral and Philosophical Studies<br>Year=2018<br>School=State<br>Grades=%{x}<br>Students=%{y}<extra></extra>",
         "legendgroup": "Religious, Moral and Philosophical Studies",
         "marker": {
          "color": "#00cc96",
          "opacity": 0.5,
          "pattern": {
           "shape": ""
          }
         },
         "name": "Religious, Moral and Philosophical Studies",
         "offsetgroup": "Religious, Moral and Philosophical Studies",
         "orientation": "v",
         "showlegend": false,
         "textposition": "auto",
         "type": "bar",
         "x": [
          "As",
          "NAs",
          "Entries",
          "Bs",
          "Cs",
          "Ds"
         ],
         "xaxis": "x",
         "y": [
          10,
          30,
          100,
          20,
          25,
          10
         ],
         "yaxis": "y"
        },
        {
         "alignmentgroup": "True",
         "hovertemplate": "Subject=Religious, Moral and Philosophical Studies<br>Year=2018<br>School=Ind<br>Grades=%{x}<br>Students=%{y}<extra></extra>",
         "legendgroup": "Religious, Moral and Philosophical Studies",
         "marker": {
          "color": "#00cc96",
          "opacity": 0.5,
          "pattern": {
           "shape": ""
          }
         },
         "name": "Religious, Moral and Philosophical Studies",
         "offsetgroup": "Religious, Moral and Philosophical Studies",
         "orientation": "v",
         "showlegend": false,
         "textposition": "auto",
         "type": "bar",
         "x": [
          "As",
          "NAs",
          "Entries",
          "Bs",
          "Cs",
          "Ds"
         ],
         "xaxis": "x2",
         "y": [
          25,
          5,
          60,
          15,
          10,
          5
         ],
         "yaxis": "y2"
        },
        {
         "alignmentgroup": "True",
         "hovertemplate": "Subject=Spanish<br>Year=2022<br>School=State<br>Grades=%{x}<br>Students=%{y}<extra></extra>",
         "legendgroup": "Spanish",
         "marker": {
          "color": "#ab63fa",
          "opacity": 0.5,
          "pattern": {
           "shape": ""
          }
         },
         "name": "Spanish",
         "offsetgroup": "Spanish",
         "orientation": "v",
         "showlegend": true,
         "textposition": "auto",
         "type": "bar",
         "x": [
          "As",
          "NAs",
          "Entries",
          "Bs",
          "Cs",
          "Ds"
         ],
         "xaxis": "x9",
         "y": [
          140,
          35,
          370,
          80,
          75,
          40
         ],
         "yaxis": "y9"
        },
        {
         "alignmentgroup": "True",
         "hovertemplate": "Subject=Spanish<br>Year=2022<br>School=Ind<br>Grades=%{x}<br>Students=%{y}<extra></extra>",
         "legendgroup": "Spanish",
         "marker": {
          "color": "#ab63fa",
          "opacity": 0.5,
          "pattern": {
           "shape": ""
          }
         },
         "name": "Spanish",
         "offsetgroup": "Spanish",
         "orientation": "v",
         "showlegend": false,
         "textposition": "auto",
         "type": "bar",
         "x": [
          "As",
          "NAs",
          "Entries",
          "Bs",
          "Cs",
          "Ds"
         ],
         "xaxis": "x10",
         "y": [
          55,
          null,
          90,
          15,
          10,
          5
         ],
         "yaxis": "y10"
        },
        {
         "alignmentgroup": "True",
         "hovertemplate": "Subject=Spanish<br>Year=2021<br>School=State<br>Grades=%{x}<br>Students=%{y}<extra></extra>",
         "legendgroup": "Spanish",
         "marker": {
          "color": "#ab63fa",
          "opacity": 0.5,
          "pattern": {
           "shape": ""
          }
         },
         "name": "Spanish",
         "offsetgroup": "Spanish",
         "orientation": "v",
         "showlegend": false,
         "textposition": "auto",
         "type": "bar",
         "x": [
          "As",
          "NAs",
          "Entries",
          "Bs",
          "Cs",
          "Ds"
         ],
         "xaxis": "x7",
         "y": [
          205,
          15,
          355,
          70,
          50,
          15
         ],
         "yaxis": "y7"
        },
        {
         "alignmentgroup": "True",
         "hovertemplate": "Subject=Spanish<br>Year=2021<br>School=Ind<br>Grades=%{x}<br>Students=%{y}<extra></extra>",
         "legendgroup": "Spanish",
         "marker": {
          "color": "#ab63fa",
          "opacity": 0.5,
          "pattern": {
           "shape": ""
          }
         },
         "name": "Spanish",
         "offsetgroup": "Spanish",
         "orientation": "v",
         "showlegend": false,
         "textposition": "auto",
         "type": "bar",
         "x": [
          "As",
          "NAs",
          "Entries",
          "Bs",
          "Cs",
          "Ds"
         ],
         "xaxis": "x8",
         "y": [
          65,
          null,
          85,
          15,
          5,
          0
         ],
         "yaxis": "y8"
        },
        {
         "alignmentgroup": "True",
         "hovertemplate": "Subject=Spanish<br>Year=2020<br>School=State<br>Grades=%{x}<br>Students=%{y}<extra></extra>",
         "legendgroup": "Spanish",
         "marker": {
          "color": "#ab63fa",
          "opacity": 0.5,
          "pattern": {
           "shape": ""
          }
         },
         "name": "Spanish",
         "offsetgroup": "Spanish",
         "orientation": "v",
         "showlegend": false,
         "textposition": "auto",
         "type": "bar",
         "x": [
          "As",
          "NAs",
          "Entries",
          "Bs",
          "Cs",
          "Ds"
         ],
         "xaxis": "x5",
         "y": [
          175,
          null,
          360,
          110,
          65,
          10
         ],
         "yaxis": "y5"
        },
        {
         "alignmentgroup": "True",
         "hovertemplate": "Subject=Spanish<br>Year=2020<br>School=Ind<br>Grades=%{x}<br>Students=%{y}<extra></extra>",
         "legendgroup": "Spanish",
         "marker": {
          "color": "#ab63fa",
          "opacity": 0.5,
          "pattern": {
           "shape": ""
          }
         },
         "name": "Spanish",
         "offsetgroup": "Spanish",
         "orientation": "v",
         "showlegend": false,
         "textposition": "auto",
         "type": "bar",
         "x": [
          "As",
          "NAs",
          "Entries",
          "Bs",
          "Cs",
          "Ds"
         ],
         "xaxis": "x6",
         "y": [
          65,
          0,
          80,
          10,
          5,
          0
         ],
         "yaxis": "y6"
        },
        {
         "alignmentgroup": "True",
         "hovertemplate": "Subject=Spanish<br>Year=2019<br>School=State<br>Grades=%{x}<br>Students=%{y}<extra></extra>",
         "legendgroup": "Spanish",
         "marker": {
          "color": "#ab63fa",
          "opacity": 0.5,
          "pattern": {
           "shape": ""
          }
         },
         "name": "Spanish",
         "offsetgroup": "Spanish",
         "orientation": "v",
         "showlegend": false,
         "textposition": "auto",
         "type": "bar",
         "x": [
          "As",
          "NAs",
          "Entries",
          "Bs",
          "Cs",
          "Ds"
         ],
         "xaxis": "x3",
         "y": [
          115,
          60,
          360,
          70,
          85,
          30
         ],
         "yaxis": "y3"
        },
        {
         "alignmentgroup": "True",
         "hovertemplate": "Subject=Spanish<br>Year=2019<br>School=Ind<br>Grades=%{x}<br>Students=%{y}<extra></extra>",
         "legendgroup": "Spanish",
         "marker": {
          "color": "#ab63fa",
          "opacity": 0.5,
          "pattern": {
           "shape": ""
          }
         },
         "name": "Spanish",
         "offsetgroup": "Spanish",
         "orientation": "v",
         "showlegend": false,
         "textposition": "auto",
         "type": "bar",
         "x": [
          "As",
          "NAs",
          "Entries",
          "Bs",
          "Cs",
          "Ds"
         ],
         "xaxis": "x4",
         "y": [
          50,
          5,
          95,
          25,
          10,
          5
         ],
         "yaxis": "y4"
        },
        {
         "alignmentgroup": "True",
         "hovertemplate": "Subject=Spanish<br>Year=2018<br>School=State<br>Grades=%{x}<br>Students=%{y}<extra></extra>",
         "legendgroup": "Spanish",
         "marker": {
          "color": "#ab63fa",
          "opacity": 0.5,
          "pattern": {
           "shape": ""
          }
         },
         "name": "Spanish",
         "offsetgroup": "Spanish",
         "orientation": "v",
         "showlegend": false,
         "textposition": "auto",
         "type": "bar",
         "x": [
          "As",
          "NAs",
          "Entries",
          "Bs",
          "Cs",
          "Ds"
         ],
         "xaxis": "x",
         "y": [
          110,
          70,
          360,
          75,
          70,
          35
         ],
         "yaxis": "y"
        },
        {
         "alignmentgroup": "True",
         "hovertemplate": "Subject=Spanish<br>Year=2018<br>School=Ind<br>Grades=%{x}<br>Students=%{y}<extra></extra>",
         "legendgroup": "Spanish",
         "marker": {
          "color": "#ab63fa",
          "opacity": 0.5,
          "pattern": {
           "shape": ""
          }
         },
         "name": "Spanish",
         "offsetgroup": "Spanish",
         "orientation": "v",
         "showlegend": false,
         "textposition": "auto",
         "type": "bar",
         "x": [
          "As",
          "NAs",
          "Entries",
          "Bs",
          "Cs",
          "Ds"
         ],
         "xaxis": "x2",
         "y": [
          45,
          5,
          95,
          20,
          20,
          5
         ],
         "yaxis": "y2"
        },
        {
         "alignmentgroup": "True",
         "hovertemplate": "Subject=Statistics<br>Year=2022<br>School=State<br>Grades=%{x}<br>Students=%{y}<extra></extra>",
         "legendgroup": "Statistics",
         "marker": {
          "color": "#FFA15A",
          "opacity": 0.5,
          "pattern": {
           "shape": ""
          }
         },
         "name": "Statistics",
         "offsetgroup": "Statistics",
         "orientation": "v",
         "showlegend": true,
         "textposition": "auto",
         "type": "bar",
         "x": [
          "As",
          "NAs",
          "Entries",
          "Bs",
          "Cs",
          "Ds"
         ],
         "xaxis": "x9",
         "y": [
          15,
          10,
          45,
          10,
          5,
          5
         ],
         "yaxis": "y9"
        },
        {
         "alignmentgroup": "True",
         "hovertemplate": "Subject=Statistics<br>Year=2022<br>School=Ind<br>Grades=%{x}<br>Students=%{y}<extra></extra>",
         "legendgroup": "Statistics",
         "marker": {
          "color": "#FFA15A",
          "opacity": 0.5,
          "pattern": {
           "shape": ""
          }
         },
         "name": "Statistics",
         "offsetgroup": "Statistics",
         "orientation": "v",
         "showlegend": false,
         "textposition": "auto",
         "type": "bar",
         "x": [
          "As",
          "NAs",
          "Entries",
          "Bs",
          "Cs",
          "Ds"
         ],
         "xaxis": "x10",
         "y": [
          45,
          5,
          95,
          20,
          15,
          10
         ],
         "yaxis": "y10"
        },
        {
         "alignmentgroup": "True",
         "hovertemplate": "Subject=Statistics<br>Year=2021<br>School=State<br>Grades=%{x}<br>Students=%{y}<extra></extra>",
         "legendgroup": "Statistics",
         "marker": {
          "color": "#FFA15A",
          "opacity": 0.5,
          "pattern": {
           "shape": ""
          }
         },
         "name": "Statistics",
         "offsetgroup": "Statistics",
         "orientation": "v",
         "showlegend": false,
         "textposition": "auto",
         "type": "bar",
         "x": [
          "As",
          "NAs",
          "Entries",
          "Bs",
          "Cs",
          "Ds"
         ],
         "xaxis": "x7",
         "y": [
          45,
          10,
          80,
          15,
          5,
          5
         ],
         "yaxis": "y7"
        },
        {
         "alignmentgroup": "True",
         "hovertemplate": "Subject=Statistics<br>Year=2021<br>School=Ind<br>Grades=%{x}<br>Students=%{y}<extra></extra>",
         "legendgroup": "Statistics",
         "marker": {
          "color": "#FFA15A",
          "opacity": 0.5,
          "pattern": {
           "shape": ""
          }
         },
         "name": "Statistics",
         "offsetgroup": "Statistics",
         "orientation": "v",
         "showlegend": false,
         "textposition": "auto",
         "type": "bar",
         "x": [
          "As",
          "NAs",
          "Entries",
          "Bs",
          "Cs",
          "Ds"
         ],
         "xaxis": "x8",
         "y": [
          95,
          null,
          125,
          15,
          10,
          5
         ],
         "yaxis": "y8"
        },
        {
         "alignmentgroup": "True",
         "hovertemplate": "Subject=Statistics<br>Year=2020<br>School=State<br>Grades=%{x}<br>Students=%{y}<extra></extra>",
         "legendgroup": "Statistics",
         "marker": {
          "color": "#FFA15A",
          "opacity": 0.5,
          "pattern": {
           "shape": ""
          }
         },
         "name": "Statistics",
         "offsetgroup": "Statistics",
         "orientation": "v",
         "showlegend": false,
         "textposition": "auto",
         "type": "bar",
         "x": [
          "As",
          "NAs",
          "Entries",
          "Bs",
          "Cs",
          "Ds"
         ],
         "xaxis": "x5",
         "y": [
          35,
          5,
          90,
          30,
          10,
          10
         ],
         "yaxis": "y5"
        },
        {
         "alignmentgroup": "True",
         "hovertemplate": "Subject=Statistics<br>Year=2020<br>School=Ind<br>Grades=%{x}<br>Students=%{y}<extra></extra>",
         "legendgroup": "Statistics",
         "marker": {
          "color": "#FFA15A",
          "opacity": 0.5,
          "pattern": {
           "shape": ""
          }
         },
         "name": "Statistics",
         "offsetgroup": "Statistics",
         "orientation": "v",
         "showlegend": false,
         "textposition": "auto",
         "type": "bar",
         "x": [
          "As",
          "NAs",
          "Entries",
          "Bs",
          "Cs",
          "Ds"
         ],
         "xaxis": "x6",
         "y": [
          60,
          null,
          90,
          15,
          15,
          0
         ],
         "yaxis": "y6"
        },
        {
         "alignmentgroup": "True",
         "hovertemplate": "Subject=Statistics<br>Year=2019<br>School=State<br>Grades=%{x}<br>Students=%{y}<extra></extra>",
         "legendgroup": "Statistics",
         "marker": {
          "color": "#FFA15A",
          "opacity": 0.5,
          "pattern": {
           "shape": ""
          }
         },
         "name": "Statistics",
         "offsetgroup": "Statistics",
         "orientation": "v",
         "showlegend": false,
         "textposition": "auto",
         "type": "bar",
         "x": [
          "As",
          "NAs",
          "Entries",
          "Bs",
          "Cs",
          "Ds"
         ],
         "xaxis": "x3",
         "y": [
          25,
          25,
          100,
          30,
          20,
          5
         ],
         "yaxis": "y3"
        },
        {
         "alignmentgroup": "True",
         "hovertemplate": "Subject=Statistics<br>Year=2019<br>School=Ind<br>Grades=%{x}<br>Students=%{y}<extra></extra>",
         "legendgroup": "Statistics",
         "marker": {
          "color": "#FFA15A",
          "opacity": 0.5,
          "pattern": {
           "shape": ""
          }
         },
         "name": "Statistics",
         "offsetgroup": "Statistics",
         "orientation": "v",
         "showlegend": false,
         "textposition": "auto",
         "type": "bar",
         "x": [
          "As",
          "NAs",
          "Entries",
          "Bs",
          "Cs",
          "Ds"
         ],
         "xaxis": "x4",
         "y": [
          45,
          10,
          110,
          30,
          15,
          5
         ],
         "yaxis": "y4"
        },
        {
         "alignmentgroup": "True",
         "hovertemplate": "Subject=Statistics<br>Year=2018<br>School=State<br>Grades=%{x}<br>Students=%{y}<extra></extra>",
         "legendgroup": "Statistics",
         "marker": {
          "color": "#FFA15A",
          "opacity": 0.5,
          "pattern": {
           "shape": ""
          }
         },
         "name": "Statistics",
         "offsetgroup": "Statistics",
         "orientation": "v",
         "showlegend": false,
         "textposition": "auto",
         "type": "bar",
         "x": [
          "As",
          "NAs",
          "Entries",
          "Bs",
          "Cs",
          "Ds"
         ],
         "xaxis": "x",
         "y": [
          20,
          25,
          90,
          20,
          20,
          5
         ],
         "yaxis": "y"
        },
        {
         "alignmentgroup": "True",
         "hovertemplate": "Subject=Statistics<br>Year=2018<br>School=Ind<br>Grades=%{x}<br>Students=%{y}<extra></extra>",
         "legendgroup": "Statistics",
         "marker": {
          "color": "#FFA15A",
          "opacity": 0.5,
          "pattern": {
           "shape": ""
          }
         },
         "name": "Statistics",
         "offsetgroup": "Statistics",
         "orientation": "v",
         "showlegend": false,
         "textposition": "auto",
         "type": "bar",
         "x": [
          "As",
          "NAs",
          "Entries",
          "Bs",
          "Cs",
          "Ds"
         ],
         "xaxis": "x2",
         "y": [
          50,
          null,
          95,
          15,
          20,
          5
         ],
         "yaxis": "y2"
        }
       ],
       "layout": {
        "annotations": [
         {
          "font": {},
          "showarrow": false,
          "text": "School=State",
          "x": 0.22749999999999998,
          "xanchor": "center",
          "xref": "paper",
          "y": 1,
          "yanchor": "bottom",
          "yref": "paper"
         },
         {
          "font": {},
          "showarrow": false,
          "text": "School=Ind",
          "x": 0.7525,
          "xanchor": "center",
          "xref": "paper",
          "y": 1,
          "yanchor": "bottom",
          "yref": "paper"
         },
         {
          "font": {},
          "showarrow": false,
          "text": "Year=2018",
          "textangle": 90,
          "x": 0.9799999999999999,
          "xanchor": "left",
          "xref": "paper",
          "y": 0.08800000000000001,
          "yanchor": "middle",
          "yref": "paper"
         },
         {
          "font": {},
          "showarrow": false,
          "text": "Year=2019",
          "textangle": 90,
          "x": 0.9799999999999999,
          "xanchor": "left",
          "xref": "paper",
          "y": 0.29400000000000004,
          "yanchor": "middle",
          "yref": "paper"
         },
         {
          "font": {},
          "showarrow": false,
          "text": "Year=2020",
          "textangle": 90,
          "x": 0.9799999999999999,
          "xanchor": "left",
          "xref": "paper",
          "y": 0.5,
          "yanchor": "middle",
          "yref": "paper"
         },
         {
          "font": {},
          "showarrow": false,
          "text": "Year=2021",
          "textangle": 90,
          "x": 0.9799999999999999,
          "xanchor": "left",
          "xref": "paper",
          "y": 0.706,
          "yanchor": "middle",
          "yref": "paper"
         },
         {
          "font": {},
          "showarrow": false,
          "text": "Year=2022",
          "textangle": 90,
          "x": 0.9799999999999999,
          "xanchor": "left",
          "xref": "paper",
          "y": 0.912,
          "yanchor": "middle",
          "yref": "paper"
         }
        ],
        "barmode": "overlay",
        "height": 1400,
        "legend": {
         "title": {
          "text": "Subject"
         },
         "tracegroupgap": 0
        },
        "template": {
         "data": {
          "bar": [
           {
            "error_x": {
             "color": "#2a3f5f"
            },
            "error_y": {
             "color": "#2a3f5f"
            },
            "marker": {
             "line": {
              "color": "#E5ECF6",
              "width": 0.5
             },
             "pattern": {
              "fillmode": "overlay",
              "size": 10,
              "solidity": 0.2
             }
            },
            "type": "bar"
           }
          ],
          "barpolar": [
           {
            "marker": {
             "line": {
              "color": "#E5ECF6",
              "width": 0.5
             },
             "pattern": {
              "fillmode": "overlay",
              "size": 10,
              "solidity": 0.2
             }
            },
            "type": "barpolar"
           }
          ],
          "carpet": [
           {
            "aaxis": {
             "endlinecolor": "#2a3f5f",
             "gridcolor": "white",
             "linecolor": "white",
             "minorgridcolor": "white",
             "startlinecolor": "#2a3f5f"
            },
            "baxis": {
             "endlinecolor": "#2a3f5f",
             "gridcolor": "white",
             "linecolor": "white",
             "minorgridcolor": "white",
             "startlinecolor": "#2a3f5f"
            },
            "type": "carpet"
           }
          ],
          "choropleth": [
           {
            "colorbar": {
             "outlinewidth": 0,
             "ticks": ""
            },
            "type": "choropleth"
           }
          ],
          "contour": [
           {
            "colorbar": {
             "outlinewidth": 0,
             "ticks": ""
            },
            "colorscale": [
             [
              0,
              "#0d0887"
             ],
             [
              0.1111111111111111,
              "#46039f"
             ],
             [
              0.2222222222222222,
              "#7201a8"
             ],
             [
              0.3333333333333333,
              "#9c179e"
             ],
             [
              0.4444444444444444,
              "#bd3786"
             ],
             [
              0.5555555555555556,
              "#d8576b"
             ],
             [
              0.6666666666666666,
              "#ed7953"
             ],
             [
              0.7777777777777778,
              "#fb9f3a"
             ],
             [
              0.8888888888888888,
              "#fdca26"
             ],
             [
              1,
              "#f0f921"
             ]
            ],
            "type": "contour"
           }
          ],
          "contourcarpet": [
           {
            "colorbar": {
             "outlinewidth": 0,
             "ticks": ""
            },
            "type": "contourcarpet"
           }
          ],
          "heatmap": [
           {
            "colorbar": {
             "outlinewidth": 0,
             "ticks": ""
            },
            "colorscale": [
             [
              0,
              "#0d0887"
             ],
             [
              0.1111111111111111,
              "#46039f"
             ],
             [
              0.2222222222222222,
              "#7201a8"
             ],
             [
              0.3333333333333333,
              "#9c179e"
             ],
             [
              0.4444444444444444,
              "#bd3786"
             ],
             [
              0.5555555555555556,
              "#d8576b"
             ],
             [
              0.6666666666666666,
              "#ed7953"
             ],
             [
              0.7777777777777778,
              "#fb9f3a"
             ],
             [
              0.8888888888888888,
              "#fdca26"
             ],
             [
              1,
              "#f0f921"
             ]
            ],
            "type": "heatmap"
           }
          ],
          "heatmapgl": [
           {
            "colorbar": {
             "outlinewidth": 0,
             "ticks": ""
            },
            "colorscale": [
             [
              0,
              "#0d0887"
             ],
             [
              0.1111111111111111,
              "#46039f"
             ],
             [
              0.2222222222222222,
              "#7201a8"
             ],
             [
              0.3333333333333333,
              "#9c179e"
             ],
             [
              0.4444444444444444,
              "#bd3786"
             ],
             [
              0.5555555555555556,
              "#d8576b"
             ],
             [
              0.6666666666666666,
              "#ed7953"
             ],
             [
              0.7777777777777778,
              "#fb9f3a"
             ],
             [
              0.8888888888888888,
              "#fdca26"
             ],
             [
              1,
              "#f0f921"
             ]
            ],
            "type": "heatmapgl"
           }
          ],
          "histogram": [
           {
            "marker": {
             "pattern": {
              "fillmode": "overlay",
              "size": 10,
              "solidity": 0.2
             }
            },
            "type": "histogram"
           }
          ],
          "histogram2d": [
           {
            "colorbar": {
             "outlinewidth": 0,
             "ticks": ""
            },
            "colorscale": [
             [
              0,
              "#0d0887"
             ],
             [
              0.1111111111111111,
              "#46039f"
             ],
             [
              0.2222222222222222,
              "#7201a8"
             ],
             [
              0.3333333333333333,
              "#9c179e"
             ],
             [
              0.4444444444444444,
              "#bd3786"
             ],
             [
              0.5555555555555556,
              "#d8576b"
             ],
             [
              0.6666666666666666,
              "#ed7953"
             ],
             [
              0.7777777777777778,
              "#fb9f3a"
             ],
             [
              0.8888888888888888,
              "#fdca26"
             ],
             [
              1,
              "#f0f921"
             ]
            ],
            "type": "histogram2d"
           }
          ],
          "histogram2dcontour": [
           {
            "colorbar": {
             "outlinewidth": 0,
             "ticks": ""
            },
            "colorscale": [
             [
              0,
              "#0d0887"
             ],
             [
              0.1111111111111111,
              "#46039f"
             ],
             [
              0.2222222222222222,
              "#7201a8"
             ],
             [
              0.3333333333333333,
              "#9c179e"
             ],
             [
              0.4444444444444444,
              "#bd3786"
             ],
             [
              0.5555555555555556,
              "#d8576b"
             ],
             [
              0.6666666666666666,
              "#ed7953"
             ],
             [
              0.7777777777777778,
              "#fb9f3a"
             ],
             [
              0.8888888888888888,
              "#fdca26"
             ],
             [
              1,
              "#f0f921"
             ]
            ],
            "type": "histogram2dcontour"
           }
          ],
          "mesh3d": [
           {
            "colorbar": {
             "outlinewidth": 0,
             "ticks": ""
            },
            "type": "mesh3d"
           }
          ],
          "parcoords": [
           {
            "line": {
             "colorbar": {
              "outlinewidth": 0,
              "ticks": ""
             }
            },
            "type": "parcoords"
           }
          ],
          "pie": [
           {
            "automargin": true,
            "type": "pie"
           }
          ],
          "scatter": [
           {
            "marker": {
             "colorbar": {
              "outlinewidth": 0,
              "ticks": ""
             }
            },
            "type": "scatter"
           }
          ],
          "scatter3d": [
           {
            "line": {
             "colorbar": {
              "outlinewidth": 0,
              "ticks": ""
             }
            },
            "marker": {
             "colorbar": {
              "outlinewidth": 0,
              "ticks": ""
             }
            },
            "type": "scatter3d"
           }
          ],
          "scattercarpet": [
           {
            "marker": {
             "colorbar": {
              "outlinewidth": 0,
              "ticks": ""
             }
            },
            "type": "scattercarpet"
           }
          ],
          "scattergeo": [
           {
            "marker": {
             "colorbar": {
              "outlinewidth": 0,
              "ticks": ""
             }
            },
            "type": "scattergeo"
           }
          ],
          "scattergl": [
           {
            "marker": {
             "colorbar": {
              "outlinewidth": 0,
              "ticks": ""
             }
            },
            "type": "scattergl"
           }
          ],
          "scattermapbox": [
           {
            "marker": {
             "colorbar": {
              "outlinewidth": 0,
              "ticks": ""
             }
            },
            "type": "scattermapbox"
           }
          ],
          "scatterpolar": [
           {
            "marker": {
             "colorbar": {
              "outlinewidth": 0,
              "ticks": ""
             }
            },
            "type": "scatterpolar"
           }
          ],
          "scatterpolargl": [
           {
            "marker": {
             "colorbar": {
              "outlinewidth": 0,
              "ticks": ""
             }
            },
            "type": "scatterpolargl"
           }
          ],
          "scatterternary": [
           {
            "marker": {
             "colorbar": {
              "outlinewidth": 0,
              "ticks": ""
             }
            },
            "type": "scatterternary"
           }
          ],
          "surface": [
           {
            "colorbar": {
             "outlinewidth": 0,
             "ticks": ""
            },
            "colorscale": [
             [
              0,
              "#0d0887"
             ],
             [
              0.1111111111111111,
              "#46039f"
             ],
             [
              0.2222222222222222,
              "#7201a8"
             ],
             [
              0.3333333333333333,
              "#9c179e"
             ],
             [
              0.4444444444444444,
              "#bd3786"
             ],
             [
              0.5555555555555556,
              "#d8576b"
             ],
             [
              0.6666666666666666,
              "#ed7953"
             ],
             [
              0.7777777777777778,
              "#fb9f3a"
             ],
             [
              0.8888888888888888,
              "#fdca26"
             ],
             [
              1,
              "#f0f921"
             ]
            ],
            "type": "surface"
           }
          ],
          "table": [
           {
            "cells": {
             "fill": {
              "color": "#EBF0F8"
             },
             "line": {
              "color": "white"
             }
            },
            "header": {
             "fill": {
              "color": "#C8D4E3"
             },
             "line": {
              "color": "white"
             }
            },
            "type": "table"
           }
          ]
         },
         "layout": {
          "annotationdefaults": {
           "arrowcolor": "#2a3f5f",
           "arrowhead": 0,
           "arrowwidth": 1
          },
          "autotypenumbers": "strict",
          "coloraxis": {
           "colorbar": {
            "outlinewidth": 0,
            "ticks": ""
           }
          },
          "colorscale": {
           "diverging": [
            [
             0,
             "#8e0152"
            ],
            [
             0.1,
             "#c51b7d"
            ],
            [
             0.2,
             "#de77ae"
            ],
            [
             0.3,
             "#f1b6da"
            ],
            [
             0.4,
             "#fde0ef"
            ],
            [
             0.5,
             "#f7f7f7"
            ],
            [
             0.6,
             "#e6f5d0"
            ],
            [
             0.7,
             "#b8e186"
            ],
            [
             0.8,
             "#7fbc41"
            ],
            [
             0.9,
             "#4d9221"
            ],
            [
             1,
             "#276419"
            ]
           ],
           "sequential": [
            [
             0,
             "#0d0887"
            ],
            [
             0.1111111111111111,
             "#46039f"
            ],
            [
             0.2222222222222222,
             "#7201a8"
            ],
            [
             0.3333333333333333,
             "#9c179e"
            ],
            [
             0.4444444444444444,
             "#bd3786"
            ],
            [
             0.5555555555555556,
             "#d8576b"
            ],
            [
             0.6666666666666666,
             "#ed7953"
            ],
            [
             0.7777777777777778,
             "#fb9f3a"
            ],
            [
             0.8888888888888888,
             "#fdca26"
            ],
            [
             1,
             "#f0f921"
            ]
           ],
           "sequentialminus": [
            [
             0,
             "#0d0887"
            ],
            [
             0.1111111111111111,
             "#46039f"
            ],
            [
             0.2222222222222222,
             "#7201a8"
            ],
            [
             0.3333333333333333,
             "#9c179e"
            ],
            [
             0.4444444444444444,
             "#bd3786"
            ],
            [
             0.5555555555555556,
             "#d8576b"
            ],
            [
             0.6666666666666666,
             "#ed7953"
            ],
            [
             0.7777777777777778,
             "#fb9f3a"
            ],
            [
             0.8888888888888888,
             "#fdca26"
            ],
            [
             1,
             "#f0f921"
            ]
           ]
          },
          "colorway": [
           "#636efa",
           "#EF553B",
           "#00cc96",
           "#ab63fa",
           "#FFA15A",
           "#19d3f3",
           "#FF6692",
           "#B6E880",
           "#FF97FF",
           "#FECB52"
          ],
          "font": {
           "color": "#2a3f5f"
          },
          "geo": {
           "bgcolor": "white",
           "lakecolor": "white",
           "landcolor": "#E5ECF6",
           "showlakes": true,
           "showland": true,
           "subunitcolor": "white"
          },
          "hoverlabel": {
           "align": "left"
          },
          "hovermode": "closest",
          "mapbox": {
           "style": "light"
          },
          "paper_bgcolor": "white",
          "plot_bgcolor": "#E5ECF6",
          "polar": {
           "angularaxis": {
            "gridcolor": "white",
            "linecolor": "white",
            "ticks": ""
           },
           "bgcolor": "#E5ECF6",
           "radialaxis": {
            "gridcolor": "white",
            "linecolor": "white",
            "ticks": ""
           }
          },
          "scene": {
           "xaxis": {
            "backgroundcolor": "#E5ECF6",
            "gridcolor": "white",
            "gridwidth": 2,
            "linecolor": "white",
            "showbackground": true,
            "ticks": "",
            "zerolinecolor": "white"
           },
           "yaxis": {
            "backgroundcolor": "#E5ECF6",
            "gridcolor": "white",
            "gridwidth": 2,
            "linecolor": "white",
            "showbackground": true,
            "ticks": "",
            "zerolinecolor": "white"
           },
           "zaxis": {
            "backgroundcolor": "#E5ECF6",
            "gridcolor": "white",
            "gridwidth": 2,
            "linecolor": "white",
            "showbackground": true,
            "ticks": "",
            "zerolinecolor": "white"
           }
          },
          "shapedefaults": {
           "line": {
            "color": "#2a3f5f"
           }
          },
          "ternary": {
           "aaxis": {
            "gridcolor": "white",
            "linecolor": "white",
            "ticks": ""
           },
           "baxis": {
            "gridcolor": "white",
            "linecolor": "white",
            "ticks": ""
           },
           "bgcolor": "#E5ECF6",
           "caxis": {
            "gridcolor": "white",
            "linecolor": "white",
            "ticks": ""
           }
          },
          "title": {
           "x": 0.05
          },
          "xaxis": {
           "automargin": true,
           "gridcolor": "white",
           "linecolor": "white",
           "ticks": "",
           "title": {
            "standoff": 15
           },
           "zerolinecolor": "white",
           "zerolinewidth": 2
          },
          "yaxis": {
           "automargin": true,
           "gridcolor": "white",
           "linecolor": "white",
           "ticks": "",
           "title": {
            "standoff": 15
           },
           "zerolinecolor": "white",
           "zerolinewidth": 2
          }
         }
        },
        "title": {
         "text": "Subject grades per year at Advanced Higher"
        },
        "width": 1000,
        "xaxis": {
         "anchor": "y",
         "categoryarray": [
          "As",
          "Bs",
          "Cs",
          "Ds",
          "NAs",
          "Entries"
         ],
         "categoryorder": "array",
         "domain": [
          0,
          0.45499999999999996
         ],
         "title": {
          "text": "Grades"
         }
        },
        "xaxis10": {
         "anchor": "y10",
         "domain": [
          0.5249999999999999,
          0.9799999999999999
         ],
         "matches": "x",
         "showticklabels": false
        },
        "xaxis2": {
         "anchor": "y2",
         "categoryarray": [
          "As",
          "Bs",
          "Cs",
          "Ds",
          "NAs",
          "Entries"
         ],
         "categoryorder": "array",
         "domain": [
          0.5249999999999999,
          0.9799999999999999
         ],
         "matches": "x",
         "title": {
          "text": "Grades"
         }
        },
        "xaxis3": {
         "anchor": "y3",
         "domain": [
          0,
          0.45499999999999996
         ],
         "matches": "x",
         "showticklabels": false
        },
        "xaxis4": {
         "anchor": "y4",
         "domain": [
          0.5249999999999999,
          0.9799999999999999
         ],
         "matches": "x",
         "showticklabels": false
        },
        "xaxis5": {
         "anchor": "y5",
         "domain": [
          0,
          0.45499999999999996
         ],
         "matches": "x",
         "showticklabels": false
        },
        "xaxis6": {
         "anchor": "y6",
         "domain": [
          0.5249999999999999,
          0.9799999999999999
         ],
         "matches": "x",
         "showticklabels": false
        },
        "xaxis7": {
         "anchor": "y7",
         "domain": [
          0,
          0.45499999999999996
         ],
         "matches": "x",
         "showticklabels": false
        },
        "xaxis8": {
         "anchor": "y8",
         "domain": [
          0.5249999999999999,
          0.9799999999999999
         ],
         "matches": "x",
         "showticklabels": false
        },
        "xaxis9": {
         "anchor": "y9",
         "domain": [
          0,
          0.45499999999999996
         ],
         "matches": "x",
         "showticklabels": false
        },
        "yaxis": {
         "anchor": "x",
         "domain": [
          0,
          0.17600000000000002
         ],
         "rangemode": "tozero",
         "showticklabels": true,
         "title": {
          "text": "Students"
         }
        },
        "yaxis10": {
         "anchor": "x10",
         "domain": [
          0.8240000000000001,
          1
         ],
         "rangemode": "tozero",
         "showticklabels": true
        },
        "yaxis2": {
         "anchor": "x2",
         "domain": [
          0,
          0.17600000000000002
         ],
         "rangemode": "tozero",
         "showticklabels": true
        },
        "yaxis3": {
         "anchor": "x3",
         "domain": [
          0.20600000000000002,
          0.382
         ],
         "rangemode": "tozero",
         "showticklabels": true,
         "title": {
          "text": "Students"
         }
        },
        "yaxis4": {
         "anchor": "x4",
         "domain": [
          0.20600000000000002,
          0.382
         ],
         "rangemode": "tozero",
         "showticklabels": true
        },
        "yaxis5": {
         "anchor": "x5",
         "domain": [
          0.41200000000000003,
          0.5880000000000001
         ],
         "rangemode": "tozero",
         "showticklabels": true,
         "title": {
          "text": "Students"
         }
        },
        "yaxis6": {
         "anchor": "x6",
         "domain": [
          0.41200000000000003,
          0.5880000000000001
         ],
         "rangemode": "tozero",
         "showticklabels": true
        },
        "yaxis7": {
         "anchor": "x7",
         "domain": [
          0.618,
          0.794
         ],
         "rangemode": "tozero",
         "showticklabels": true,
         "title": {
          "text": "Students"
         }
        },
        "yaxis8": {
         "anchor": "x8",
         "domain": [
          0.618,
          0.794
         ],
         "rangemode": "tozero",
         "showticklabels": true
        },
        "yaxis9": {
         "anchor": "x9",
         "domain": [
          0.8240000000000001,
          1
         ],
         "rangemode": "tozero",
         "showticklabels": true,
         "title": {
          "text": "Students"
         }
        }
       }
      },
      "text/html": [
       "<div>                            <div id=\"f32cc89d-5836-43ca-81fd-e367d0673dbc\" class=\"plotly-graph-div\" style=\"height:1400px; width:1000px;\"></div>            <script type=\"text/javascript\">                require([\"plotly\"], function(Plotly) {                    window.PLOTLYENV=window.PLOTLYENV || {};                                    if (document.getElementById(\"f32cc89d-5836-43ca-81fd-e367d0673dbc\")) {                    Plotly.newPlot(                        \"f32cc89d-5836-43ca-81fd-e367d0673dbc\",                        [{\"alignmentgroup\":\"True\",\"hovertemplate\":\"Subject=Accounting<br>Year=2022<br>School=State<br>Grades=%{x}<br>Students=%{y}<extra></extra>\",\"legendgroup\":\"Accounting\",\"marker\":{\"color\":\"#636efa\",\"opacity\":0.5,\"pattern\":{\"shape\":\"\"}},\"name\":\"Accounting\",\"offsetgroup\":\"Accounting\",\"orientation\":\"v\",\"showlegend\":true,\"textposition\":\"auto\",\"x\":[\"As\",\"NAs\",\"Entries\",\"Bs\",\"Cs\",\"Ds\"],\"xaxis\":\"x9\",\"y\":[15.0,5.0,45.0,15.0,10.0,0.0],\"yaxis\":\"y9\",\"type\":\"bar\"},{\"alignmentgroup\":\"True\",\"hovertemplate\":\"Subject=Accounting<br>Year=2022<br>School=Ind<br>Grades=%{x}<br>Students=%{y}<extra></extra>\",\"legendgroup\":\"Accounting\",\"marker\":{\"color\":\"#636efa\",\"opacity\":0.5,\"pattern\":{\"shape\":\"\"}},\"name\":\"Accounting\",\"offsetgroup\":\"Accounting\",\"orientation\":\"v\",\"showlegend\":false,\"textposition\":\"auto\",\"x\":[\"As\",\"NAs\",\"Entries\",\"Bs\",\"Cs\",\"Ds\"],\"xaxis\":\"x10\",\"y\":[10.0,0.0,15.0,5.0,0.0,0.0],\"yaxis\":\"y10\",\"type\":\"bar\"},{\"alignmentgroup\":\"True\",\"hovertemplate\":\"Subject=Accounting<br>Year=2021<br>School=State<br>Grades=%{x}<br>Students=%{y}<extra></extra>\",\"legendgroup\":\"Accounting\",\"marker\":{\"color\":\"#636efa\",\"opacity\":0.5,\"pattern\":{\"shape\":\"\"}},\"name\":\"Accounting\",\"offsetgroup\":\"Accounting\",\"orientation\":\"v\",\"showlegend\":false,\"textposition\":\"auto\",\"x\":[\"As\",\"NAs\",\"Entries\",\"Bs\",\"Cs\",\"Ds\"],\"xaxis\":\"x7\",\"y\":[25.0,5.0,50.0,5.0,10.0,5.0],\"yaxis\":\"y7\",\"type\":\"bar\"},{\"alignmentgroup\":\"True\",\"hovertemplate\":\"Subject=Accounting<br>Year=2021<br>School=Ind<br>Grades=%{x}<br>Students=%{y}<extra></extra>\",\"legendgroup\":\"Accounting\",\"marker\":{\"color\":\"#636efa\",\"opacity\":0.5,\"pattern\":{\"shape\":\"\"}},\"name\":\"Accounting\",\"offsetgroup\":\"Accounting\",\"orientation\":\"v\",\"showlegend\":false,\"textposition\":\"auto\",\"x\":[\"As\",\"NAs\",\"Entries\",\"Bs\",\"Cs\",\"Ds\"],\"xaxis\":\"x8\",\"y\":[20.0,0.0,25.0,5.0,0.0,0.0],\"yaxis\":\"y8\",\"type\":\"bar\"},{\"alignmentgroup\":\"True\",\"hovertemplate\":\"Subject=Accounting<br>Year=2020<br>School=State<br>Grades=%{x}<br>Students=%{y}<extra></extra>\",\"legendgroup\":\"Accounting\",\"marker\":{\"color\":\"#636efa\",\"opacity\":0.5,\"pattern\":{\"shape\":\"\"}},\"name\":\"Accounting\",\"offsetgroup\":\"Accounting\",\"orientation\":\"v\",\"showlegend\":false,\"textposition\":\"auto\",\"x\":[\"As\",\"NAs\",\"Entries\",\"Bs\",\"Cs\",\"Ds\"],\"xaxis\":\"x5\",\"y\":[30.0,null,45.0,5.0,5.0,0.0],\"yaxis\":\"y5\",\"type\":\"bar\"},{\"alignmentgroup\":\"True\",\"hovertemplate\":\"Subject=Accounting<br>Year=2020<br>School=Ind<br>Grades=%{x}<br>Students=%{y}<extra></extra>\",\"legendgroup\":\"Accounting\",\"marker\":{\"color\":\"#636efa\",\"opacity\":0.5,\"pattern\":{\"shape\":\"\"}},\"name\":\"Accounting\",\"offsetgroup\":\"Accounting\",\"orientation\":\"v\",\"showlegend\":false,\"textposition\":\"auto\",\"x\":[\"As\",\"NAs\",\"Entries\",\"Bs\",\"Cs\",\"Ds\"],\"xaxis\":\"x6\",\"y\":[15.0,0.0,20.0,0.0,5.0,0.0],\"yaxis\":\"y6\",\"type\":\"bar\"},{\"alignmentgroup\":\"True\",\"hovertemplate\":\"Subject=Accounting<br>Year=2019<br>School=State<br>Grades=%{x}<br>Students=%{y}<extra></extra>\",\"legendgroup\":\"Accounting\",\"marker\":{\"color\":\"#636efa\",\"opacity\":0.5,\"pattern\":{\"shape\":\"\"}},\"name\":\"Accounting\",\"offsetgroup\":\"Accounting\",\"orientation\":\"v\",\"showlegend\":false,\"textposition\":\"auto\",\"x\":[\"As\",\"NAs\",\"Entries\",\"Bs\",\"Cs\",\"Ds\"],\"xaxis\":\"x3\",\"y\":[15.0,null,45.0,10.0,10.0,5.0],\"yaxis\":\"y3\",\"type\":\"bar\"},{\"alignmentgroup\":\"True\",\"hovertemplate\":\"Subject=Accounting<br>Year=2019<br>School=Ind<br>Grades=%{x}<br>Students=%{y}<extra></extra>\",\"legendgroup\":\"Accounting\",\"marker\":{\"color\":\"#636efa\",\"opacity\":0.5,\"pattern\":{\"shape\":\"\"}},\"name\":\"Accounting\",\"offsetgroup\":\"Accounting\",\"orientation\":\"v\",\"showlegend\":false,\"textposition\":\"auto\",\"x\":[\"As\",\"NAs\",\"Entries\",\"Bs\",\"Cs\",\"Ds\"],\"xaxis\":\"x4\",\"y\":[10.0,0.0,20.0,5.0,5.0,0.0],\"yaxis\":\"y4\",\"type\":\"bar\"},{\"alignmentgroup\":\"True\",\"hovertemplate\":\"Subject=Accounting<br>Year=2018<br>School=State<br>Grades=%{x}<br>Students=%{y}<extra></extra>\",\"legendgroup\":\"Accounting\",\"marker\":{\"color\":\"#636efa\",\"opacity\":0.5,\"pattern\":{\"shape\":\"\"}},\"name\":\"Accounting\",\"offsetgroup\":\"Accounting\",\"orientation\":\"v\",\"showlegend\":false,\"textposition\":\"auto\",\"x\":[\"As\",\"NAs\",\"Entries\",\"Bs\",\"Cs\",\"Ds\"],\"xaxis\":\"x\",\"y\":[15.0,null,40.0,15.0,5.0,5.0],\"yaxis\":\"y\",\"type\":\"bar\"},{\"alignmentgroup\":\"True\",\"hovertemplate\":\"Subject=Accounting<br>Year=2018<br>School=Ind<br>Grades=%{x}<br>Students=%{y}<extra></extra>\",\"legendgroup\":\"Accounting\",\"marker\":{\"color\":\"#636efa\",\"opacity\":0.5,\"pattern\":{\"shape\":\"\"}},\"name\":\"Accounting\",\"offsetgroup\":\"Accounting\",\"orientation\":\"v\",\"showlegend\":false,\"textposition\":\"auto\",\"x\":[\"As\",\"NAs\",\"Entries\",\"Bs\",\"Cs\",\"Ds\"],\"xaxis\":\"x2\",\"y\":[15.0,0.0,15.0,0.0,0.0,0.0],\"yaxis\":\"y2\",\"type\":\"bar\"},{\"alignmentgroup\":\"True\",\"hovertemplate\":\"Subject=Art and Design (Design)<br>Year=2022<br>School=State<br>Grades=%{x}<br>Students=%{y}<extra></extra>\",\"legendgroup\":\"Art and Design (Design)\",\"marker\":{\"color\":\"#EF553B\",\"opacity\":0.5,\"pattern\":{\"shape\":\"\"}},\"name\":\"Art and Design (Design)\",\"offsetgroup\":\"Art and Design (Design)\",\"orientation\":\"v\",\"showlegend\":true,\"textposition\":\"auto\",\"x\":[\"As\",\"NAs\",\"Entries\",\"Bs\",\"Cs\",\"Ds\"],\"xaxis\":\"x9\",\"y\":[185.0,10.0,605.0,190.0,180.0,40.0],\"yaxis\":\"y9\",\"type\":\"bar\"},{\"alignmentgroup\":\"True\",\"hovertemplate\":\"Subject=Art and Design (Design)<br>Year=2022<br>School=Ind<br>Grades=%{x}<br>Students=%{y}<extra></extra>\",\"legendgroup\":\"Art and Design (Design)\",\"marker\":{\"color\":\"#EF553B\",\"opacity\":0.5,\"pattern\":{\"shape\":\"\"}},\"name\":\"Art and Design (Design)\",\"offsetgroup\":\"Art and Design (Design)\",\"orientation\":\"v\",\"showlegend\":false,\"textposition\":\"auto\",\"x\":[\"As\",\"NAs\",\"Entries\",\"Bs\",\"Cs\",\"Ds\"],\"xaxis\":\"x10\",\"y\":[40.0,0.0,60.0,10.0,10.0,0.0],\"yaxis\":\"y10\",\"type\":\"bar\"},{\"alignmentgroup\":\"True\",\"hovertemplate\":\"Subject=Art and Design (Design)<br>Year=2021<br>School=State<br>Grades=%{x}<br>Students=%{y}<extra></extra>\",\"legendgroup\":\"Art and Design (Design)\",\"marker\":{\"color\":\"#EF553B\",\"opacity\":0.5,\"pattern\":{\"shape\":\"\"}},\"name\":\"Art and Design (Design)\",\"offsetgroup\":\"Art and Design (Design)\",\"orientation\":\"v\",\"showlegend\":false,\"textposition\":\"auto\",\"x\":[\"As\",\"NAs\",\"Entries\",\"Bs\",\"Cs\",\"Ds\"],\"xaxis\":\"x7\",\"y\":[260.0,15.0,590.0,180.0,115.0,20.0],\"yaxis\":\"y7\",\"type\":\"bar\"},{\"alignmentgroup\":\"True\",\"hovertemplate\":\"Subject=Art and Design (Design)<br>Year=2021<br>School=Ind<br>Grades=%{x}<br>Students=%{y}<extra></extra>\",\"legendgroup\":\"Art and Design (Design)\",\"marker\":{\"color\":\"#EF553B\",\"opacity\":0.5,\"pattern\":{\"shape\":\"\"}},\"name\":\"Art and Design (Design)\",\"offsetgroup\":\"Art and Design (Design)\",\"orientation\":\"v\",\"showlegend\":false,\"textposition\":\"auto\",\"x\":[\"As\",\"NAs\",\"Entries\",\"Bs\",\"Cs\",\"Ds\"],\"xaxis\":\"x8\",\"y\":[35.0,0.0,45.0,10.0,0.0,0.0],\"yaxis\":\"y8\",\"type\":\"bar\"},{\"alignmentgroup\":\"True\",\"hovertemplate\":\"Subject=Art and Design (Design)<br>Year=2020<br>School=State<br>Grades=%{x}<br>Students=%{y}<extra></extra>\",\"legendgroup\":\"Art and Design (Design)\",\"marker\":{\"color\":\"#EF553B\",\"opacity\":0.5,\"pattern\":{\"shape\":\"\"}},\"name\":\"Art and Design (Design)\",\"offsetgroup\":\"Art and Design (Design)\",\"orientation\":\"v\",\"showlegend\":false,\"textposition\":\"auto\",\"x\":[\"As\",\"NAs\",\"Entries\",\"Bs\",\"Cs\",\"Ds\"],\"xaxis\":\"x5\",\"y\":[210.0,10.0,495.0,175.0,85.0,15.0],\"yaxis\":\"y5\",\"type\":\"bar\"},{\"alignmentgroup\":\"True\",\"hovertemplate\":\"Subject=Art and Design (Design)<br>Year=2020<br>School=Ind<br>Grades=%{x}<br>Students=%{y}<extra></extra>\",\"legendgroup\":\"Art and Design (Design)\",\"marker\":{\"color\":\"#EF553B\",\"opacity\":0.5,\"pattern\":{\"shape\":\"\"}},\"name\":\"Art and Design (Design)\",\"offsetgroup\":\"Art and Design (Design)\",\"orientation\":\"v\",\"showlegend\":false,\"textposition\":\"auto\",\"x\":[\"As\",\"NAs\",\"Entries\",\"Bs\",\"Cs\",\"Ds\"],\"xaxis\":\"x6\",\"y\":[35.0,0.0,45.0,5.0,5.0,0.0],\"yaxis\":\"y6\",\"type\":\"bar\"},{\"alignmentgroup\":\"True\",\"hovertemplate\":\"Subject=Art and Design (Design)<br>Year=2019<br>School=State<br>Grades=%{x}<br>Students=%{y}<extra></extra>\",\"legendgroup\":\"Art and Design (Design)\",\"marker\":{\"color\":\"#EF553B\",\"opacity\":0.5,\"pattern\":{\"shape\":\"\"}},\"name\":\"Art and Design (Design)\",\"offsetgroup\":\"Art and Design (Design)\",\"orientation\":\"v\",\"showlegend\":false,\"textposition\":\"auto\",\"x\":[\"As\",\"NAs\",\"Entries\",\"Bs\",\"Cs\",\"Ds\"],\"xaxis\":\"x3\",\"y\":[160.0,20.0,460.0,125.0,130.0,25.0],\"yaxis\":\"y3\",\"type\":\"bar\"},{\"alignmentgroup\":\"True\",\"hovertemplate\":\"Subject=Art and Design (Design)<br>Year=2019<br>School=Ind<br>Grades=%{x}<br>Students=%{y}<extra></extra>\",\"legendgroup\":\"Art and Design (Design)\",\"marker\":{\"color\":\"#EF553B\",\"opacity\":0.5,\"pattern\":{\"shape\":\"\"}},\"name\":\"Art and Design (Design)\",\"offsetgroup\":\"Art and Design (Design)\",\"orientation\":\"v\",\"showlegend\":false,\"textposition\":\"auto\",\"x\":[\"As\",\"NAs\",\"Entries\",\"Bs\",\"Cs\",\"Ds\"],\"xaxis\":\"x4\",\"y\":[25.0,0.0,45.0,15.0,5.0,0.0],\"yaxis\":\"y4\",\"type\":\"bar\"},{\"alignmentgroup\":\"True\",\"hovertemplate\":\"Subject=Art and Design (Design)<br>Year=2018<br>School=State<br>Grades=%{x}<br>Students=%{y}<extra></extra>\",\"legendgroup\":\"Art and Design (Design)\",\"marker\":{\"color\":\"#EF553B\",\"opacity\":0.5,\"pattern\":{\"shape\":\"\"}},\"name\":\"Art and Design (Design)\",\"offsetgroup\":\"Art and Design (Design)\",\"orientation\":\"v\",\"showlegend\":false,\"textposition\":\"auto\",\"x\":[\"As\",\"NAs\",\"Entries\",\"Bs\",\"Cs\",\"Ds\"],\"xaxis\":\"x\",\"y\":[130.0,15.0,490.0,130.0,180.0,35.0],\"yaxis\":\"y\",\"type\":\"bar\"},{\"alignmentgroup\":\"True\",\"hovertemplate\":\"Subject=Art and Design (Design)<br>Year=2018<br>School=Ind<br>Grades=%{x}<br>Students=%{y}<extra></extra>\",\"legendgroup\":\"Art and Design (Design)\",\"marker\":{\"color\":\"#EF553B\",\"opacity\":0.5,\"pattern\":{\"shape\":\"\"}},\"name\":\"Art and Design (Design)\",\"offsetgroup\":\"Art and Design (Design)\",\"orientation\":\"v\",\"showlegend\":false,\"textposition\":\"auto\",\"x\":[\"As\",\"NAs\",\"Entries\",\"Bs\",\"Cs\",\"Ds\"],\"xaxis\":\"x2\",\"y\":[25.0,0.0,50.0,15.0,10.0,0.0],\"yaxis\":\"y2\",\"type\":\"bar\"},{\"alignmentgroup\":\"True\",\"hovertemplate\":\"Subject=Art and Design (Expressive)<br>Year=2022<br>School=State<br>Grades=%{x}<br>Students=%{y}<extra></extra>\",\"legendgroup\":\"Art and Design (Expressive)\",\"marker\":{\"color\":\"#00cc96\",\"opacity\":0.5,\"pattern\":{\"shape\":\"\"}},\"name\":\"Art and Design (Expressive)\",\"offsetgroup\":\"Art and Design (Expressive)\",\"orientation\":\"v\",\"showlegend\":true,\"textposition\":\"auto\",\"x\":[\"As\",\"NAs\",\"Entries\",\"Bs\",\"Cs\",\"Ds\"],\"xaxis\":\"x9\",\"y\":[410.0,10.0,1185.0,370.0,335.0,60.0],\"yaxis\":\"y9\",\"type\":\"bar\"},{\"alignmentgroup\":\"True\",\"hovertemplate\":\"Subject=Art and Design (Expressive)<br>Year=2022<br>School=Ind<br>Grades=%{x}<br>Students=%{y}<extra></extra>\",\"legendgroup\":\"Art and Design (Expressive)\",\"marker\":{\"color\":\"#00cc96\",\"opacity\":0.5,\"pattern\":{\"shape\":\"\"}},\"name\":\"Art and Design (Expressive)\",\"offsetgroup\":\"Art and Design (Expressive)\",\"orientation\":\"v\",\"showlegend\":false,\"textposition\":\"auto\",\"x\":[\"As\",\"NAs\",\"Entries\",\"Bs\",\"Cs\",\"Ds\"],\"xaxis\":\"x10\",\"y\":[65.0,0.0,95.0,20.0,5.0,5.0],\"yaxis\":\"y10\",\"type\":\"bar\"},{\"alignmentgroup\":\"True\",\"hovertemplate\":\"Subject=Art and Design (Expressive)<br>Year=2021<br>School=State<br>Grades=%{x}<br>Students=%{y}<extra></extra>\",\"legendgroup\":\"Art and Design (Expressive)\",\"marker\":{\"color\":\"#00cc96\",\"opacity\":0.5,\"pattern\":{\"shape\":\"\"}},\"name\":\"Art and Design (Expressive)\",\"offsetgroup\":\"Art and Design (Expressive)\",\"orientation\":\"v\",\"showlegend\":false,\"textposition\":\"auto\",\"x\":[\"As\",\"NAs\",\"Entries\",\"Bs\",\"Cs\",\"Ds\"],\"xaxis\":\"x7\",\"y\":[485.0,20.0,1080.0,355.0,185.0,35.0],\"yaxis\":\"y7\",\"type\":\"bar\"},{\"alignmentgroup\":\"True\",\"hovertemplate\":\"Subject=Art and Design (Expressive)<br>Year=2021<br>School=Ind<br>Grades=%{x}<br>Students=%{y}<extra></extra>\",\"legendgroup\":\"Art and Design (Expressive)\",\"marker\":{\"color\":\"#00cc96\",\"opacity\":0.5,\"pattern\":{\"shape\":\"\"}},\"name\":\"Art and Design (Expressive)\",\"offsetgroup\":\"Art and Design (Expressive)\",\"orientation\":\"v\",\"showlegend\":false,\"textposition\":\"auto\",\"x\":[\"As\",\"NAs\",\"Entries\",\"Bs\",\"Cs\",\"Ds\"],\"xaxis\":\"x8\",\"y\":[65.0,0.0,85.0,15.0,5.0,0.0],\"yaxis\":\"y8\",\"type\":\"bar\"},{\"alignmentgroup\":\"True\",\"hovertemplate\":\"Subject=Art and Design (Expressive)<br>Year=2020<br>School=State<br>Grades=%{x}<br>Students=%{y}<extra></extra>\",\"legendgroup\":\"Art and Design (Expressive)\",\"marker\":{\"color\":\"#00cc96\",\"opacity\":0.5,\"pattern\":{\"shape\":\"\"}},\"name\":\"Art and Design (Expressive)\",\"offsetgroup\":\"Art and Design (Expressive)\",\"orientation\":\"v\",\"showlegend\":false,\"textposition\":\"auto\",\"x\":[\"As\",\"NAs\",\"Entries\",\"Bs\",\"Cs\",\"Ds\"],\"xaxis\":\"x5\",\"y\":[400.0,10.0,925.0,325.0,165.0,25.0],\"yaxis\":\"y5\",\"type\":\"bar\"},{\"alignmentgroup\":\"True\",\"hovertemplate\":\"Subject=Art and Design (Expressive)<br>Year=2020<br>School=Ind<br>Grades=%{x}<br>Students=%{y}<extra></extra>\",\"legendgroup\":\"Art and Design (Expressive)\",\"marker\":{\"color\":\"#00cc96\",\"opacity\":0.5,\"pattern\":{\"shape\":\"\"}},\"name\":\"Art and Design (Expressive)\",\"offsetgroup\":\"Art and Design (Expressive)\",\"orientation\":\"v\",\"showlegend\":false,\"textposition\":\"auto\",\"x\":[\"As\",\"NAs\",\"Entries\",\"Bs\",\"Cs\",\"Ds\"],\"xaxis\":\"x6\",\"y\":[75.0,0.0,95.0,15.0,5.0,0.0],\"yaxis\":\"y6\",\"type\":\"bar\"},{\"alignmentgroup\":\"True\",\"hovertemplate\":\"Subject=Art and Design (Expressive)<br>Year=2019<br>School=State<br>Grades=%{x}<br>Students=%{y}<extra></extra>\",\"legendgroup\":\"Art and Design (Expressive)\",\"marker\":{\"color\":\"#00cc96\",\"opacity\":0.5,\"pattern\":{\"shape\":\"\"}},\"name\":\"Art and Design (Expressive)\",\"offsetgroup\":\"Art and Design (Expressive)\",\"orientation\":\"v\",\"showlegend\":false,\"textposition\":\"auto\",\"x\":[\"As\",\"NAs\",\"Entries\",\"Bs\",\"Cs\",\"Ds\"],\"xaxis\":\"x3\",\"y\":[240.0,25.0,870.0,270.0,275.0,60.0],\"yaxis\":\"y3\",\"type\":\"bar\"},{\"alignmentgroup\":\"True\",\"hovertemplate\":\"Subject=Art and Design (Expressive)<br>Year=2019<br>School=Ind<br>Grades=%{x}<br>Students=%{y}<extra></extra>\",\"legendgroup\":\"Art and Design (Expressive)\",\"marker\":{\"color\":\"#00cc96\",\"opacity\":0.5,\"pattern\":{\"shape\":\"\"}},\"name\":\"Art and Design (Expressive)\",\"offsetgroup\":\"Art and Design (Expressive)\",\"orientation\":\"v\",\"showlegend\":false,\"textposition\":\"auto\",\"x\":[\"As\",\"NAs\",\"Entries\",\"Bs\",\"Cs\",\"Ds\"],\"xaxis\":\"x4\",\"y\":[40.0,0.0,65.0,20.0,5.0,0.0],\"yaxis\":\"y4\",\"type\":\"bar\"},{\"alignmentgroup\":\"True\",\"hovertemplate\":\"Subject=Art and Design (Expressive)<br>Year=2018<br>School=State<br>Grades=%{x}<br>Students=%{y}<extra></extra>\",\"legendgroup\":\"Art and Design (Expressive)\",\"marker\":{\"color\":\"#00cc96\",\"opacity\":0.5,\"pattern\":{\"shape\":\"\"}},\"name\":\"Art and Design (Expressive)\",\"offsetgroup\":\"Art and Design (Expressive)\",\"orientation\":\"v\",\"showlegend\":false,\"textposition\":\"auto\",\"x\":[\"As\",\"NAs\",\"Entries\",\"Bs\",\"Cs\",\"Ds\"],\"xaxis\":\"x\",\"y\":[210.0,30.0,850.0,265.0,285.0,60.0],\"yaxis\":\"y\",\"type\":\"bar\"},{\"alignmentgroup\":\"True\",\"hovertemplate\":\"Subject=Art and Design (Expressive)<br>Year=2018<br>School=Ind<br>Grades=%{x}<br>Students=%{y}<extra></extra>\",\"legendgroup\":\"Art and Design (Expressive)\",\"marker\":{\"color\":\"#00cc96\",\"opacity\":0.5,\"pattern\":{\"shape\":\"\"}},\"name\":\"Art and Design (Expressive)\",\"offsetgroup\":\"Art and Design (Expressive)\",\"orientation\":\"v\",\"showlegend\":false,\"textposition\":\"auto\",\"x\":[\"As\",\"NAs\",\"Entries\",\"Bs\",\"Cs\",\"Ds\"],\"xaxis\":\"x2\",\"y\":[45.0,null,70.0,10.0,10.0,0.0],\"yaxis\":\"y2\",\"type\":\"bar\"},{\"alignmentgroup\":\"True\",\"hovertemplate\":\"Subject=Biology<br>Year=2022<br>School=State<br>Grades=%{x}<br>Students=%{y}<extra></extra>\",\"legendgroup\":\"Biology\",\"marker\":{\"color\":\"#ab63fa\",\"opacity\":0.5,\"pattern\":{\"shape\":\"\"}},\"name\":\"Biology\",\"offsetgroup\":\"Biology\",\"orientation\":\"v\",\"showlegend\":true,\"textposition\":\"auto\",\"x\":[\"As\",\"NAs\",\"Entries\",\"Bs\",\"Cs\",\"Ds\"],\"xaxis\":\"x9\",\"y\":[570.0,250.0,2675.0,675.0,705.0,475.0],\"yaxis\":\"y9\",\"type\":\"bar\"},{\"alignmentgroup\":\"True\",\"hovertemplate\":\"Subject=Biology<br>Year=2022<br>School=Ind<br>Grades=%{x}<br>Students=%{y}<extra></extra>\",\"legendgroup\":\"Biology\",\"marker\":{\"color\":\"#ab63fa\",\"opacity\":0.5,\"pattern\":{\"shape\":\"\"}},\"name\":\"Biology\",\"offsetgroup\":\"Biology\",\"orientation\":\"v\",\"showlegend\":false,\"textposition\":\"auto\",\"x\":[\"As\",\"NAs\",\"Entries\",\"Bs\",\"Cs\",\"Ds\"],\"xaxis\":\"x10\",\"y\":[200.0,15.0,465.0,125.0,85.0,40.0],\"yaxis\":\"y10\",\"type\":\"bar\"},{\"alignmentgroup\":\"True\",\"hovertemplate\":\"Subject=Biology<br>Year=2021<br>School=State<br>Grades=%{x}<br>Students=%{y}<extra></extra>\",\"legendgroup\":\"Biology\",\"marker\":{\"color\":\"#ab63fa\",\"opacity\":0.5,\"pattern\":{\"shape\":\"\"}},\"name\":\"Biology\",\"offsetgroup\":\"Biology\",\"orientation\":\"v\",\"showlegend\":false,\"textposition\":\"auto\",\"x\":[\"As\",\"NAs\",\"Entries\",\"Bs\",\"Cs\",\"Ds\"],\"xaxis\":\"x7\",\"y\":[915.0,185.0,2460.0,600.0,500.0,260.0],\"yaxis\":\"y7\",\"type\":\"bar\"},{\"alignmentgroup\":\"True\",\"hovertemplate\":\"Subject=Biology<br>Year=2021<br>School=Ind<br>Grades=%{x}<br>Students=%{y}<extra></extra>\",\"legendgroup\":\"Biology\",\"marker\":{\"color\":\"#ab63fa\",\"opacity\":0.5,\"pattern\":{\"shape\":\"\"}},\"name\":\"Biology\",\"offsetgroup\":\"Biology\",\"orientation\":\"v\",\"showlegend\":false,\"textposition\":\"auto\",\"x\":[\"As\",\"NAs\",\"Entries\",\"Bs\",\"Cs\",\"Ds\"],\"xaxis\":\"x8\",\"y\":[320.0,5.0,485.0,95.0,50.0,15.0],\"yaxis\":\"y8\",\"type\":\"bar\"},{\"alignmentgroup\":\"True\",\"hovertemplate\":\"Subject=Biology<br>Year=2020<br>School=State<br>Grades=%{x}<br>Students=%{y}<extra></extra>\",\"legendgroup\":\"Biology\",\"marker\":{\"color\":\"#ab63fa\",\"opacity\":0.5,\"pattern\":{\"shape\":\"\"}},\"name\":\"Biology\",\"offsetgroup\":\"Biology\",\"orientation\":\"v\",\"showlegend\":false,\"textposition\":\"auto\",\"x\":[\"As\",\"NAs\",\"Entries\",\"Bs\",\"Cs\",\"Ds\"],\"xaxis\":\"x5\",\"y\":[650.0,80.0,2050.0,590.0,550.0,180.0],\"yaxis\":\"y5\",\"type\":\"bar\"},{\"alignmentgroup\":\"True\",\"hovertemplate\":\"Subject=Biology<br>Year=2020<br>School=Ind<br>Grades=%{x}<br>Students=%{y}<extra></extra>\",\"legendgroup\":\"Biology\",\"marker\":{\"color\":\"#ab63fa\",\"opacity\":0.5,\"pattern\":{\"shape\":\"\"}},\"name\":\"Biology\",\"offsetgroup\":\"Biology\",\"orientation\":\"v\",\"showlegend\":false,\"textposition\":\"auto\",\"x\":[\"As\",\"NAs\",\"Entries\",\"Bs\",\"Cs\",\"Ds\"],\"xaxis\":\"x6\",\"y\":[250.0,null,430.0,115.0,55.0,10.0],\"yaxis\":\"y6\",\"type\":\"bar\"},{\"alignmentgroup\":\"True\",\"hovertemplate\":\"Subject=Biology<br>Year=2019<br>School=State<br>Grades=%{x}<br>Students=%{y}<extra></extra>\",\"legendgroup\":\"Biology\",\"marker\":{\"color\":\"#ab63fa\",\"opacity\":0.5,\"pattern\":{\"shape\":\"\"}},\"name\":\"Biology\",\"offsetgroup\":\"Biology\",\"orientation\":\"v\",\"showlegend\":false,\"textposition\":\"auto\",\"x\":[\"As\",\"NAs\",\"Entries\",\"Bs\",\"Cs\",\"Ds\"],\"xaxis\":\"x3\",\"y\":[370.0,285.0,1880.0,465.0,505.0,255.0],\"yaxis\":\"y3\",\"type\":\"bar\"},{\"alignmentgroup\":\"True\",\"hovertemplate\":\"Subject=Biology<br>Year=2019<br>School=Ind<br>Grades=%{x}<br>Students=%{y}<extra></extra>\",\"legendgroup\":\"Biology\",\"marker\":{\"color\":\"#ab63fa\",\"opacity\":0.5,\"pattern\":{\"shape\":\"\"}},\"name\":\"Biology\",\"offsetgroup\":\"Biology\",\"orientation\":\"v\",\"showlegend\":false,\"textposition\":\"auto\",\"x\":[\"As\",\"NAs\",\"Entries\",\"Bs\",\"Cs\",\"Ds\"],\"xaxis\":\"x4\",\"y\":[195.0,20.0,400.0,95.0,65.0,30.0],\"yaxis\":\"y4\",\"type\":\"bar\"},{\"alignmentgroup\":\"True\",\"hovertemplate\":\"Subject=Biology<br>Year=2018<br>School=State<br>Grades=%{x}<br>Students=%{y}<extra></extra>\",\"legendgroup\":\"Biology\",\"marker\":{\"color\":\"#ab63fa\",\"opacity\":0.5,\"pattern\":{\"shape\":\"\"}},\"name\":\"Biology\",\"offsetgroup\":\"Biology\",\"orientation\":\"v\",\"showlegend\":false,\"textposition\":\"auto\",\"x\":[\"As\",\"NAs\",\"Entries\",\"Bs\",\"Cs\",\"Ds\"],\"xaxis\":\"x\",\"y\":[370.0,285.0,1885.0,460.0,515.0,250.0],\"yaxis\":\"y\",\"type\":\"bar\"},{\"alignmentgroup\":\"True\",\"hovertemplate\":\"Subject=Biology<br>Year=2018<br>School=Ind<br>Grades=%{x}<br>Students=%{y}<extra></extra>\",\"legendgroup\":\"Biology\",\"marker\":{\"color\":\"#ab63fa\",\"opacity\":0.5,\"pattern\":{\"shape\":\"\"}},\"name\":\"Biology\",\"offsetgroup\":\"Biology\",\"orientation\":\"v\",\"showlegend\":false,\"textposition\":\"auto\",\"x\":[\"As\",\"NAs\",\"Entries\",\"Bs\",\"Cs\",\"Ds\"],\"xaxis\":\"x2\",\"y\":[170.0,20.0,395.0,110.0,75.0,20.0],\"yaxis\":\"y2\",\"type\":\"bar\"},{\"alignmentgroup\":\"True\",\"hovertemplate\":\"Subject=Business Management<br>Year=2022<br>School=State<br>Grades=%{x}<br>Students=%{y}<extra></extra>\",\"legendgroup\":\"Business Management\",\"marker\":{\"color\":\"#FFA15A\",\"opacity\":0.5,\"pattern\":{\"shape\":\"\"}},\"name\":\"Business Management\",\"offsetgroup\":\"Business Management\",\"orientation\":\"v\",\"showlegend\":true,\"textposition\":\"auto\",\"x\":[\"As\",\"NAs\",\"Entries\",\"Bs\",\"Cs\",\"Ds\"],\"xaxis\":\"x9\",\"y\":[110.0,55.0,535.0,120.0,150.0,100.0],\"yaxis\":\"y9\",\"type\":\"bar\"},{\"alignmentgroup\":\"True\",\"hovertemplate\":\"Subject=Business Management<br>Year=2022<br>School=Ind<br>Grades=%{x}<br>Students=%{y}<extra></extra>\",\"legendgroup\":\"Business Management\",\"marker\":{\"color\":\"#FFA15A\",\"opacity\":0.5,\"pattern\":{\"shape\":\"\"}},\"name\":\"Business Management\",\"offsetgroup\":\"Business Management\",\"orientation\":\"v\",\"showlegend\":false,\"textposition\":\"auto\",\"x\":[\"As\",\"NAs\",\"Entries\",\"Bs\",\"Cs\",\"Ds\"],\"xaxis\":\"x10\",\"y\":[90.0,10.0,240.0,65.0,45.0,30.0],\"yaxis\":\"y10\",\"type\":\"bar\"},{\"alignmentgroup\":\"True\",\"hovertemplate\":\"Subject=Business Management<br>Year=2021<br>School=State<br>Grades=%{x}<br>Students=%{y}<extra></extra>\",\"legendgroup\":\"Business Management\",\"marker\":{\"color\":\"#FFA15A\",\"opacity\":0.5,\"pattern\":{\"shape\":\"\"}},\"name\":\"Business Management\",\"offsetgroup\":\"Business Management\",\"orientation\":\"v\",\"showlegend\":false,\"textposition\":\"auto\",\"x\":[\"As\",\"NAs\",\"Entries\",\"Bs\",\"Cs\",\"Ds\"],\"xaxis\":\"x7\",\"y\":[220.0,10.0,405.0,95.0,60.0,20.0],\"yaxis\":\"y7\",\"type\":\"bar\"},{\"alignmentgroup\":\"True\",\"hovertemplate\":\"Subject=Business Management<br>Year=2021<br>School=Ind<br>Grades=%{x}<br>Students=%{y}<extra></extra>\",\"legendgroup\":\"Business Management\",\"marker\":{\"color\":\"#FFA15A\",\"opacity\":0.5,\"pattern\":{\"shape\":\"\"}},\"name\":\"Business Management\",\"offsetgroup\":\"Business Management\",\"orientation\":\"v\",\"showlegend\":false,\"textposition\":\"auto\",\"x\":[\"As\",\"NAs\",\"Entries\",\"Bs\",\"Cs\",\"Ds\"],\"xaxis\":\"x8\",\"y\":[110.0,null,165.0,30.0,20.0,5.0],\"yaxis\":\"y8\",\"type\":\"bar\"},{\"alignmentgroup\":\"True\",\"hovertemplate\":\"Subject=Business Management<br>Year=2020<br>School=State<br>Grades=%{x}<br>Students=%{y}<extra></extra>\",\"legendgroup\":\"Business Management\",\"marker\":{\"color\":\"#FFA15A\",\"opacity\":0.5,\"pattern\":{\"shape\":\"\"}},\"name\":\"Business Management\",\"offsetgroup\":\"Business Management\",\"orientation\":\"v\",\"showlegend\":false,\"textposition\":\"auto\",\"x\":[\"As\",\"NAs\",\"Entries\",\"Bs\",\"Cs\",\"Ds\"],\"xaxis\":\"x5\",\"y\":[155.0,5.0,360.0,125.0,60.0,15.0],\"yaxis\":\"y5\",\"type\":\"bar\"},{\"alignmentgroup\":\"True\",\"hovertemplate\":\"Subject=Business Management<br>Year=2020<br>School=Ind<br>Grades=%{x}<br>Students=%{y}<extra></extra>\",\"legendgroup\":\"Business Management\",\"marker\":{\"color\":\"#FFA15A\",\"opacity\":0.5,\"pattern\":{\"shape\":\"\"}},\"name\":\"Business Management\",\"offsetgroup\":\"Business Management\",\"orientation\":\"v\",\"showlegend\":false,\"textposition\":\"auto\",\"x\":[\"As\",\"NAs\",\"Entries\",\"Bs\",\"Cs\",\"Ds\"],\"xaxis\":\"x6\",\"y\":[120.0,0.0,180.0,35.0,25.0,0.0],\"yaxis\":\"y6\",\"type\":\"bar\"},{\"alignmentgroup\":\"True\",\"hovertemplate\":\"Subject=Business Management<br>Year=2019<br>School=State<br>Grades=%{x}<br>Students=%{y}<extra></extra>\",\"legendgroup\":\"Business Management\",\"marker\":{\"color\":\"#FFA15A\",\"opacity\":0.5,\"pattern\":{\"shape\":\"\"}},\"name\":\"Business Management\",\"offsetgroup\":\"Business Management\",\"orientation\":\"v\",\"showlegend\":false,\"textposition\":\"auto\",\"x\":[\"As\",\"NAs\",\"Entries\",\"Bs\",\"Cs\",\"Ds\"],\"xaxis\":\"x3\",\"y\":[65.0,60.0,320.0,75.0,85.0,35.0],\"yaxis\":\"y3\",\"type\":\"bar\"},{\"alignmentgroup\":\"True\",\"hovertemplate\":\"Subject=Business Management<br>Year=2019<br>School=Ind<br>Grades=%{x}<br>Students=%{y}<extra></extra>\",\"legendgroup\":\"Business Management\",\"marker\":{\"color\":\"#FFA15A\",\"opacity\":0.5,\"pattern\":{\"shape\":\"\"}},\"name\":\"Business Management\",\"offsetgroup\":\"Business Management\",\"orientation\":\"v\",\"showlegend\":false,\"textposition\":\"auto\",\"x\":[\"As\",\"NAs\",\"Entries\",\"Bs\",\"Cs\",\"Ds\"],\"xaxis\":\"x4\",\"y\":[50.0,5.0,120.0,30.0,30.0,5.0],\"yaxis\":\"y4\",\"type\":\"bar\"},{\"alignmentgroup\":\"True\",\"hovertemplate\":\"Subject=Business Management<br>Year=2018<br>School=State<br>Grades=%{x}<br>Students=%{y}<extra></extra>\",\"legendgroup\":\"Business Management\",\"marker\":{\"color\":\"#FFA15A\",\"opacity\":0.5,\"pattern\":{\"shape\":\"\"}},\"name\":\"Business Management\",\"offsetgroup\":\"Business Management\",\"orientation\":\"v\",\"showlegend\":false,\"textposition\":\"auto\",\"x\":[\"As\",\"NAs\",\"Entries\",\"Bs\",\"Cs\",\"Ds\"],\"xaxis\":\"x\",\"y\":[70.0,45.0,325.0,95.0,80.0,35.0],\"yaxis\":\"y\",\"type\":\"bar\"},{\"alignmentgroup\":\"True\",\"hovertemplate\":\"Subject=Business Management<br>Year=2018<br>School=Ind<br>Grades=%{x}<br>Students=%{y}<extra></extra>\",\"legendgroup\":\"Business Management\",\"marker\":{\"color\":\"#FFA15A\",\"opacity\":0.5,\"pattern\":{\"shape\":\"\"}},\"name\":\"Business Management\",\"offsetgroup\":\"Business Management\",\"orientation\":\"v\",\"showlegend\":false,\"textposition\":\"auto\",\"x\":[\"As\",\"NAs\",\"Entries\",\"Bs\",\"Cs\",\"Ds\"],\"xaxis\":\"x2\",\"y\":[50.0,5.0,130.0,40.0,25.0,10.0],\"yaxis\":\"y2\",\"type\":\"bar\"},{\"alignmentgroup\":\"True\",\"hovertemplate\":\"Subject=Chemistry<br>Year=2022<br>School=State<br>Grades=%{x}<br>Students=%{y}<extra></extra>\",\"legendgroup\":\"Chemistry\",\"marker\":{\"color\":\"#19d3f3\",\"opacity\":0.5,\"pattern\":{\"shape\":\"\"}},\"name\":\"Chemistry\",\"offsetgroup\":\"Chemistry\",\"orientation\":\"v\",\"showlegend\":true,\"textposition\":\"auto\",\"x\":[\"As\",\"NAs\",\"Entries\",\"Bs\",\"Cs\",\"Ds\"],\"xaxis\":\"x9\",\"y\":[645.0,135.0,2260.0,660.0,500.0,320.0],\"yaxis\":\"y9\",\"type\":\"bar\"},{\"alignmentgroup\":\"True\",\"hovertemplate\":\"Subject=Chemistry<br>Year=2022<br>School=Ind<br>Grades=%{x}<br>Students=%{y}<extra></extra>\",\"legendgroup\":\"Chemistry\",\"marker\":{\"color\":\"#19d3f3\",\"opacity\":0.5,\"pattern\":{\"shape\":\"\"}},\"name\":\"Chemistry\",\"offsetgroup\":\"Chemistry\",\"orientation\":\"v\",\"showlegend\":false,\"textposition\":\"auto\",\"x\":[\"As\",\"NAs\",\"Entries\",\"Bs\",\"Cs\",\"Ds\"],\"xaxis\":\"x10\",\"y\":[240.0,10.0,445.0,115.0,55.0,25.0],\"yaxis\":\"y10\",\"type\":\"bar\"},{\"alignmentgroup\":\"True\",\"hovertemplate\":\"Subject=Chemistry<br>Year=2021<br>School=State<br>Grades=%{x}<br>Students=%{y}<extra></extra>\",\"legendgroup\":\"Chemistry\",\"marker\":{\"color\":\"#19d3f3\",\"opacity\":0.5,\"pattern\":{\"shape\":\"\"}},\"name\":\"Chemistry\",\"offsetgroup\":\"Chemistry\",\"orientation\":\"v\",\"showlegend\":false,\"textposition\":\"auto\",\"x\":[\"As\",\"NAs\",\"Entries\",\"Bs\",\"Cs\",\"Ds\"],\"xaxis\":\"x7\",\"y\":[890.0,155.0,2165.0,525.0,405.0,185.0],\"yaxis\":\"y7\",\"type\":\"bar\"},{\"alignmentgroup\":\"True\",\"hovertemplate\":\"Subject=Chemistry<br>Year=2021<br>School=Ind<br>Grades=%{x}<br>Students=%{y}<extra></extra>\",\"legendgroup\":\"Chemistry\",\"marker\":{\"color\":\"#19d3f3\",\"opacity\":0.5,\"pattern\":{\"shape\":\"\"}},\"name\":\"Chemistry\",\"offsetgroup\":\"Chemistry\",\"orientation\":\"v\",\"showlegend\":false,\"textposition\":\"auto\",\"x\":[\"As\",\"NAs\",\"Entries\",\"Bs\",\"Cs\",\"Ds\"],\"xaxis\":\"x8\",\"y\":[310.0,10.0,485.0,110.0,40.0,15.0],\"yaxis\":\"y8\",\"type\":\"bar\"},{\"alignmentgroup\":\"True\",\"hovertemplate\":\"Subject=Chemistry<br>Year=2020<br>School=State<br>Grades=%{x}<br>Students=%{y}<extra></extra>\",\"legendgroup\":\"Chemistry\",\"marker\":{\"color\":\"#19d3f3\",\"opacity\":0.5,\"pattern\":{\"shape\":\"\"}},\"name\":\"Chemistry\",\"offsetgroup\":\"Chemistry\",\"orientation\":\"v\",\"showlegend\":false,\"textposition\":\"auto\",\"x\":[\"As\",\"NAs\",\"Entries\",\"Bs\",\"Cs\",\"Ds\"],\"xaxis\":\"x5\",\"y\":[795.0,45.0,2065.0,610.0,490.0,125.0],\"yaxis\":\"y5\",\"type\":\"bar\"},{\"alignmentgroup\":\"True\",\"hovertemplate\":\"Subject=Chemistry<br>Year=2020<br>School=Ind<br>Grades=%{x}<br>Students=%{y}<extra></extra>\",\"legendgroup\":\"Chemistry\",\"marker\":{\"color\":\"#19d3f3\",\"opacity\":0.5,\"pattern\":{\"shape\":\"\"}},\"name\":\"Chemistry\",\"offsetgroup\":\"Chemistry\",\"orientation\":\"v\",\"showlegend\":false,\"textposition\":\"auto\",\"x\":[\"As\",\"NAs\",\"Entries\",\"Bs\",\"Cs\",\"Ds\"],\"xaxis\":\"x6\",\"y\":[290.0,null,450.0,95.0,55.0,5.0],\"yaxis\":\"y6\",\"type\":\"bar\"},{\"alignmentgroup\":\"True\",\"hovertemplate\":\"Subject=Chemistry<br>Year=2019<br>School=State<br>Grades=%{x}<br>Students=%{y}<extra></extra>\",\"legendgroup\":\"Chemistry\",\"marker\":{\"color\":\"#19d3f3\",\"opacity\":0.5,\"pattern\":{\"shape\":\"\"}},\"name\":\"Chemistry\",\"offsetgroup\":\"Chemistry\",\"orientation\":\"v\",\"showlegend\":false,\"textposition\":\"auto\",\"x\":[\"As\",\"NAs\",\"Entries\",\"Bs\",\"Cs\",\"Ds\"],\"xaxis\":\"x3\",\"y\":[590.0,235.0,1980.0,520.0,475.0,165.0],\"yaxis\":\"y3\",\"type\":\"bar\"},{\"alignmentgroup\":\"True\",\"hovertemplate\":\"Subject=Chemistry<br>Year=2019<br>School=Ind<br>Grades=%{x}<br>Students=%{y}<extra></extra>\",\"legendgroup\":\"Chemistry\",\"marker\":{\"color\":\"#19d3f3\",\"opacity\":0.5,\"pattern\":{\"shape\":\"\"}},\"name\":\"Chemistry\",\"offsetgroup\":\"Chemistry\",\"orientation\":\"v\",\"showlegend\":false,\"textposition\":\"auto\",\"x\":[\"As\",\"NAs\",\"Entries\",\"Bs\",\"Cs\",\"Ds\"],\"xaxis\":\"x4\",\"y\":[225.0,10.0,420.0,110.0,60.0,10.0],\"yaxis\":\"y4\",\"type\":\"bar\"},{\"alignmentgroup\":\"True\",\"hovertemplate\":\"Subject=Chemistry<br>Year=2018<br>School=State<br>Grades=%{x}<br>Students=%{y}<extra></extra>\",\"legendgroup\":\"Chemistry\",\"marker\":{\"color\":\"#19d3f3\",\"opacity\":0.5,\"pattern\":{\"shape\":\"\"}},\"name\":\"Chemistry\",\"offsetgroup\":\"Chemistry\",\"orientation\":\"v\",\"showlegend\":false,\"textposition\":\"auto\",\"x\":[\"As\",\"NAs\",\"Entries\",\"Bs\",\"Cs\",\"Ds\"],\"xaxis\":\"x\",\"y\":[585.0,230.0,2100.0,585.0,515.0,185.0],\"yaxis\":\"y\",\"type\":\"bar\"},{\"alignmentgroup\":\"True\",\"hovertemplate\":\"Subject=Chemistry<br>Year=2018<br>School=Ind<br>Grades=%{x}<br>Students=%{y}<extra></extra>\",\"legendgroup\":\"Chemistry\",\"marker\":{\"color\":\"#19d3f3\",\"opacity\":0.5,\"pattern\":{\"shape\":\"\"}},\"name\":\"Chemistry\",\"offsetgroup\":\"Chemistry\",\"orientation\":\"v\",\"showlegend\":false,\"textposition\":\"auto\",\"x\":[\"As\",\"NAs\",\"Entries\",\"Bs\",\"Cs\",\"Ds\"],\"xaxis\":\"x2\",\"y\":[220.0,10.0,440.0,120.0,70.0,20.0],\"yaxis\":\"y2\",\"type\":\"bar\"},{\"alignmentgroup\":\"True\",\"hovertemplate\":\"Subject=Chinese Languages<br>Year=2022<br>School=State<br>Grades=%{x}<br>Students=%{y}<extra></extra>\",\"legendgroup\":\"Chinese Languages\",\"marker\":{\"color\":\"#FF6692\",\"opacity\":0.5,\"pattern\":{\"shape\":\"\"}},\"name\":\"Chinese Languages\",\"offsetgroup\":\"Chinese Languages\",\"orientation\":\"v\",\"showlegend\":true,\"textposition\":\"auto\",\"x\":[\"As\",\"NAs\",\"Entries\",\"Bs\",\"Cs\",\"Ds\"],\"xaxis\":\"x9\",\"y\":[15.0,null,25.0,5.0,5.0,0.0],\"yaxis\":\"y9\",\"type\":\"bar\"},{\"alignmentgroup\":\"True\",\"hovertemplate\":\"Subject=Chinese Languages<br>Year=2022<br>School=Ind<br>Grades=%{x}<br>Students=%{y}<extra></extra>\",\"legendgroup\":\"Chinese Languages\",\"marker\":{\"color\":\"#FF6692\",\"opacity\":0.5,\"pattern\":{\"shape\":\"\"}},\"name\":\"Chinese Languages\",\"offsetgroup\":\"Chinese Languages\",\"orientation\":\"v\",\"showlegend\":false,\"textposition\":\"auto\",\"x\":[\"As\",\"NAs\",\"Entries\",\"Bs\",\"Cs\",\"Ds\"],\"xaxis\":\"x10\",\"y\":[30.0,0.0,35.0,0.0,5.0,0.0],\"yaxis\":\"y10\",\"type\":\"bar\"},{\"alignmentgroup\":\"True\",\"hovertemplate\":\"Subject=Chinese Languages<br>Year=2021<br>School=State<br>Grades=%{x}<br>Students=%{y}<extra></extra>\",\"legendgroup\":\"Chinese Languages\",\"marker\":{\"color\":\"#FF6692\",\"opacity\":0.5,\"pattern\":{\"shape\":\"\"}},\"name\":\"Chinese Languages\",\"offsetgroup\":\"Chinese Languages\",\"orientation\":\"v\",\"showlegend\":false,\"textposition\":\"auto\",\"x\":[\"As\",\"NAs\",\"Entries\",\"Bs\",\"Cs\",\"Ds\"],\"xaxis\":\"x7\",\"y\":[15.0,0.0,20.0,5.0,0.0,0.0],\"yaxis\":\"y7\",\"type\":\"bar\"},{\"alignmentgroup\":\"True\",\"hovertemplate\":\"Subject=Chinese Languages<br>Year=2021<br>School=Ind<br>Grades=%{x}<br>Students=%{y}<extra></extra>\",\"legendgroup\":\"Chinese Languages\",\"marker\":{\"color\":\"#FF6692\",\"opacity\":0.5,\"pattern\":{\"shape\":\"\"}},\"name\":\"Chinese Languages\",\"offsetgroup\":\"Chinese Languages\",\"orientation\":\"v\",\"showlegend\":false,\"textposition\":\"auto\",\"x\":[\"As\",\"NAs\",\"Entries\",\"Bs\",\"Cs\",\"Ds\"],\"xaxis\":\"x8\",\"y\":[30.0,0.0,35.0,5.0,0.0,0.0],\"yaxis\":\"y8\",\"type\":\"bar\"},{\"alignmentgroup\":\"True\",\"hovertemplate\":\"Subject=Chinese Languages<br>Year=2020<br>School=State<br>Grades=%{x}<br>Students=%{y}<extra></extra>\",\"legendgroup\":\"Chinese Languages\",\"marker\":{\"color\":\"#FF6692\",\"opacity\":0.5,\"pattern\":{\"shape\":\"\"}},\"name\":\"Chinese Languages\",\"offsetgroup\":\"Chinese Languages\",\"orientation\":\"v\",\"showlegend\":false,\"textposition\":\"auto\",\"x\":[\"As\",\"NAs\",\"Entries\",\"Bs\",\"Cs\",\"Ds\"],\"xaxis\":\"x5\",\"y\":[30.0,0.0,35.0,5.0,0.0,0.0],\"yaxis\":\"y5\",\"type\":\"bar\"},{\"alignmentgroup\":\"True\",\"hovertemplate\":\"Subject=Chinese Languages<br>Year=2020<br>School=Ind<br>Grades=%{x}<br>Students=%{y}<extra></extra>\",\"legendgroup\":\"Chinese Languages\",\"marker\":{\"color\":\"#FF6692\",\"opacity\":0.5,\"pattern\":{\"shape\":\"\"}},\"name\":\"Chinese Languages\",\"offsetgroup\":\"Chinese Languages\",\"orientation\":\"v\",\"showlegend\":false,\"textposition\":\"auto\",\"x\":[\"As\",\"NAs\",\"Entries\",\"Bs\",\"Cs\",\"Ds\"],\"xaxis\":\"x6\",\"y\":[20.0,0.0,20.0,0.0,0.0,0.0],\"yaxis\":\"y6\",\"type\":\"bar\"},{\"alignmentgroup\":\"True\",\"hovertemplate\":\"Subject=Chinese Languages<br>Year=2019<br>School=State<br>Grades=%{x}<br>Students=%{y}<extra></extra>\",\"legendgroup\":\"Chinese Languages\",\"marker\":{\"color\":\"#FF6692\",\"opacity\":0.5,\"pattern\":{\"shape\":\"\"}},\"name\":\"Chinese Languages\",\"offsetgroup\":\"Chinese Languages\",\"orientation\":\"v\",\"showlegend\":false,\"textposition\":\"auto\",\"x\":[\"As\",\"NAs\",\"Entries\",\"Bs\",\"Cs\",\"Ds\"],\"xaxis\":\"x3\",\"y\":[20.0,0.0,20.0,0.0,0.0,0.0],\"yaxis\":\"y3\",\"type\":\"bar\"},{\"alignmentgroup\":\"True\",\"hovertemplate\":\"Subject=Chinese Languages<br>Year=2019<br>School=Ind<br>Grades=%{x}<br>Students=%{y}<extra></extra>\",\"legendgroup\":\"Chinese Languages\",\"marker\":{\"color\":\"#FF6692\",\"opacity\":0.5,\"pattern\":{\"shape\":\"\"}},\"name\":\"Chinese Languages\",\"offsetgroup\":\"Chinese Languages\",\"orientation\":\"v\",\"showlegend\":false,\"textposition\":\"auto\",\"x\":[\"As\",\"NAs\",\"Entries\",\"Bs\",\"Cs\",\"Ds\"],\"xaxis\":\"x4\",\"y\":[25.0,0.0,30.0,5.0,0.0,0.0],\"yaxis\":\"y4\",\"type\":\"bar\"},{\"alignmentgroup\":\"True\",\"hovertemplate\":\"Subject=Chinese Languages<br>Year=2018<br>School=State<br>Grades=%{x}<br>Students=%{y}<extra></extra>\",\"legendgroup\":\"Chinese Languages\",\"marker\":{\"color\":\"#FF6692\",\"opacity\":0.5,\"pattern\":{\"shape\":\"\"}},\"name\":\"Chinese Languages\",\"offsetgroup\":\"Chinese Languages\",\"orientation\":\"v\",\"showlegend\":false,\"textposition\":\"auto\",\"x\":[\"As\",\"NAs\",\"Entries\",\"Bs\",\"Cs\",\"Ds\"],\"xaxis\":\"x\",\"y\":[15.0,0.0,20.0,5.0,0.0,0.0],\"yaxis\":\"y\",\"type\":\"bar\"},{\"alignmentgroup\":\"True\",\"hovertemplate\":\"Subject=Chinese Languages<br>Year=2018<br>School=Ind<br>Grades=%{x}<br>Students=%{y}<extra></extra>\",\"legendgroup\":\"Chinese Languages\",\"marker\":{\"color\":\"#FF6692\",\"opacity\":0.5,\"pattern\":{\"shape\":\"\"}},\"name\":\"Chinese Languages\",\"offsetgroup\":\"Chinese Languages\",\"orientation\":\"v\",\"showlegend\":false,\"textposition\":\"auto\",\"x\":[\"As\",\"NAs\",\"Entries\",\"Bs\",\"Cs\",\"Ds\"],\"xaxis\":\"x2\",\"y\":[25.0,0.0,25.0,0.0,0.0,0.0],\"yaxis\":\"y2\",\"type\":\"bar\"},{\"alignmentgroup\":\"True\",\"hovertemplate\":\"Subject=Classical Studies<br>Year=2022<br>School=State<br>Grades=%{x}<br>Students=%{y}<extra></extra>\",\"legendgroup\":\"Classical Studies\",\"marker\":{\"color\":\"#B6E880\",\"opacity\":0.5,\"pattern\":{\"shape\":\"\"}},\"name\":\"Classical Studies\",\"offsetgroup\":\"Classical Studies\",\"orientation\":\"v\",\"showlegend\":true,\"textposition\":\"auto\",\"x\":[\"As\",\"NAs\",\"Entries\",\"Bs\",\"Cs\",\"Ds\"],\"xaxis\":\"x9\",\"y\":[0.0,0.0,5.0,null,null,null],\"yaxis\":\"y9\",\"type\":\"bar\"},{\"alignmentgroup\":\"True\",\"hovertemplate\":\"Subject=Classical Studies<br>Year=2022<br>School=Ind<br>Grades=%{x}<br>Students=%{y}<extra></extra>\",\"legendgroup\":\"Classical Studies\",\"marker\":{\"color\":\"#B6E880\",\"opacity\":0.5,\"pattern\":{\"shape\":\"\"}},\"name\":\"Classical Studies\",\"offsetgroup\":\"Classical Studies\",\"orientation\":\"v\",\"showlegend\":false,\"textposition\":\"auto\",\"x\":[\"As\",\"NAs\",\"Entries\",\"Bs\",\"Cs\",\"Ds\"],\"xaxis\":\"x10\",\"y\":[15.0,0.0,40.0,15.0,5.0,5.0],\"yaxis\":\"y10\",\"type\":\"bar\"},{\"alignmentgroup\":\"True\",\"hovertemplate\":\"Subject=Classical Studies<br>Year=2021<br>School=State<br>Grades=%{x}<br>Students=%{y}<extra></extra>\",\"legendgroup\":\"Classical Studies\",\"marker\":{\"color\":\"#B6E880\",\"opacity\":0.5,\"pattern\":{\"shape\":\"\"}},\"name\":\"Classical Studies\",\"offsetgroup\":\"Classical Studies\",\"orientation\":\"v\",\"showlegend\":false,\"textposition\":\"auto\",\"x\":[\"As\",\"NAs\",\"Entries\",\"Bs\",\"Cs\",\"Ds\"],\"xaxis\":\"x7\",\"y\":[null,0.0,10.0,null,5.0,0.0],\"yaxis\":\"y7\",\"type\":\"bar\"},{\"alignmentgroup\":\"True\",\"hovertemplate\":\"Subject=Classical Studies<br>Year=2021<br>School=Ind<br>Grades=%{x}<br>Students=%{y}<extra></extra>\",\"legendgroup\":\"Classical Studies\",\"marker\":{\"color\":\"#B6E880\",\"opacity\":0.5,\"pattern\":{\"shape\":\"\"}},\"name\":\"Classical Studies\",\"offsetgroup\":\"Classical Studies\",\"orientation\":\"v\",\"showlegend\":false,\"textposition\":\"auto\",\"x\":[\"As\",\"NAs\",\"Entries\",\"Bs\",\"Cs\",\"Ds\"],\"xaxis\":\"x8\",\"y\":[20.0,0.0,30.0,5.0,5.0,0.0],\"yaxis\":\"y8\",\"type\":\"bar\"},{\"alignmentgroup\":\"True\",\"hovertemplate\":\"Subject=Classical Studies<br>Year=2020<br>School=State<br>Grades=%{x}<br>Students=%{y}<extra></extra>\",\"legendgroup\":\"Classical Studies\",\"marker\":{\"color\":\"#B6E880\",\"opacity\":0.5,\"pattern\":{\"shape\":\"\"}},\"name\":\"Classical Studies\",\"offsetgroup\":\"Classical Studies\",\"orientation\":\"v\",\"showlegend\":false,\"textposition\":\"auto\",\"x\":[\"As\",\"NAs\",\"Entries\",\"Bs\",\"Cs\",\"Ds\"],\"xaxis\":\"x5\",\"y\":[null,0.0,10.0,null,0.0,0.0],\"yaxis\":\"y5\",\"type\":\"bar\"},{\"alignmentgroup\":\"True\",\"hovertemplate\":\"Subject=Classical Studies<br>Year=2020<br>School=Ind<br>Grades=%{x}<br>Students=%{y}<extra></extra>\",\"legendgroup\":\"Classical Studies\",\"marker\":{\"color\":\"#B6E880\",\"opacity\":0.5,\"pattern\":{\"shape\":\"\"}},\"name\":\"Classical Studies\",\"offsetgroup\":\"Classical Studies\",\"orientation\":\"v\",\"showlegend\":false,\"textposition\":\"auto\",\"x\":[\"As\",\"NAs\",\"Entries\",\"Bs\",\"Cs\",\"Ds\"],\"xaxis\":\"x6\",\"y\":[15.0,0.0,20.0,5.0,0.0,0.0],\"yaxis\":\"y6\",\"type\":\"bar\"},{\"alignmentgroup\":\"True\",\"hovertemplate\":\"Subject=Classical Studies<br>Year=2019<br>School=State<br>Grades=%{x}<br>Students=%{y}<extra></extra>\",\"legendgroup\":\"Classical Studies\",\"marker\":{\"color\":\"#B6E880\",\"opacity\":0.5,\"pattern\":{\"shape\":\"\"}},\"name\":\"Classical Studies\",\"offsetgroup\":\"Classical Studies\",\"orientation\":\"v\",\"showlegend\":false,\"textposition\":\"auto\",\"x\":[\"As\",\"NAs\",\"Entries\",\"Bs\",\"Cs\",\"Ds\"],\"xaxis\":\"x3\",\"y\":[null,0.0,5.0,null,0.0,0.0],\"yaxis\":\"y3\",\"type\":\"bar\"},{\"alignmentgroup\":\"True\",\"hovertemplate\":\"Subject=Classical Studies<br>Year=2019<br>School=Ind<br>Grades=%{x}<br>Students=%{y}<extra></extra>\",\"legendgroup\":\"Classical Studies\",\"marker\":{\"color\":\"#B6E880\",\"opacity\":0.5,\"pattern\":{\"shape\":\"\"}},\"name\":\"Classical Studies\",\"offsetgroup\":\"Classical Studies\",\"orientation\":\"v\",\"showlegend\":false,\"textposition\":\"auto\",\"x\":[\"As\",\"NAs\",\"Entries\",\"Bs\",\"Cs\",\"Ds\"],\"xaxis\":\"x4\",\"y\":[15.0,0.0,30.0,10.0,5.0,0.0],\"yaxis\":\"y4\",\"type\":\"bar\"},{\"alignmentgroup\":\"True\",\"hovertemplate\":\"Subject=Classical Studies<br>Year=2018<br>School=State<br>Grades=%{x}<br>Students=%{y}<extra></extra>\",\"legendgroup\":\"Classical Studies\",\"marker\":{\"color\":\"#B6E880\",\"opacity\":0.5,\"pattern\":{\"shape\":\"\"}},\"name\":\"Classical Studies\",\"offsetgroup\":\"Classical Studies\",\"orientation\":\"v\",\"showlegend\":false,\"textposition\":\"auto\",\"x\":[\"As\",\"NAs\",\"Entries\",\"Bs\",\"Cs\",\"Ds\"],\"xaxis\":\"x\",\"y\":[0.0,null,15.0,10.0,0.0,0.0],\"yaxis\":\"y\",\"type\":\"bar\"},{\"alignmentgroup\":\"True\",\"hovertemplate\":\"Subject=Classical Studies<br>Year=2018<br>School=Ind<br>Grades=%{x}<br>Students=%{y}<extra></extra>\",\"legendgroup\":\"Classical Studies\",\"marker\":{\"color\":\"#B6E880\",\"opacity\":0.5,\"pattern\":{\"shape\":\"\"}},\"name\":\"Classical Studies\",\"offsetgroup\":\"Classical Studies\",\"orientation\":\"v\",\"showlegend\":false,\"textposition\":\"auto\",\"x\":[\"As\",\"NAs\",\"Entries\",\"Bs\",\"Cs\",\"Ds\"],\"xaxis\":\"x2\",\"y\":[20.0,0.0,35.0,5.0,5.0,5.0],\"yaxis\":\"y2\",\"type\":\"bar\"},{\"alignmentgroup\":\"True\",\"hovertemplate\":\"Subject=Computing Science<br>Year=2022<br>School=State<br>Grades=%{x}<br>Students=%{y}<extra></extra>\",\"legendgroup\":\"Computing Science\",\"marker\":{\"color\":\"#FF97FF\",\"opacity\":0.5,\"pattern\":{\"shape\":\"\"}},\"name\":\"Computing Science\",\"offsetgroup\":\"Computing Science\",\"orientation\":\"v\",\"showlegend\":true,\"textposition\":\"auto\",\"x\":[\"As\",\"NAs\",\"Entries\",\"Bs\",\"Cs\",\"Ds\"],\"xaxis\":\"x9\",\"y\":[180.0,55.0,560.0,120.0,110.0,95.0],\"yaxis\":\"y9\",\"type\":\"bar\"},{\"alignmentgroup\":\"True\",\"hovertemplate\":\"Subject=Computing Science<br>Year=2022<br>School=Ind<br>Grades=%{x}<br>Students=%{y}<extra></extra>\",\"legendgroup\":\"Computing Science\",\"marker\":{\"color\":\"#FF97FF\",\"opacity\":0.5,\"pattern\":{\"shape\":\"\"}},\"name\":\"Computing Science\",\"offsetgroup\":\"Computing Science\",\"orientation\":\"v\",\"showlegend\":false,\"textposition\":\"auto\",\"x\":[\"As\",\"NAs\",\"Entries\",\"Bs\",\"Cs\",\"Ds\"],\"xaxis\":\"x10\",\"y\":[70.0,null,125.0,30.0,15.0,10.0],\"yaxis\":\"y10\",\"type\":\"bar\"},{\"alignmentgroup\":\"True\",\"hovertemplate\":\"Subject=Computing Science<br>Year=2021<br>School=State<br>Grades=%{x}<br>Students=%{y}<extra></extra>\",\"legendgroup\":\"Computing Science\",\"marker\":{\"color\":\"#FF97FF\",\"opacity\":0.5,\"pattern\":{\"shape\":\"\"}},\"name\":\"Computing Science\",\"offsetgroup\":\"Computing Science\",\"orientation\":\"v\",\"showlegend\":false,\"textposition\":\"auto\",\"x\":[\"As\",\"NAs\",\"Entries\",\"Bs\",\"Cs\",\"Ds\"],\"xaxis\":\"x7\",\"y\":[185.0,30.0,445.0,105.0,95.0,30.0],\"yaxis\":\"y7\",\"type\":\"bar\"},{\"alignmentgroup\":\"True\",\"hovertemplate\":\"Subject=Computing Science<br>Year=2021<br>School=Ind<br>Grades=%{x}<br>Students=%{y}<extra></extra>\",\"legendgroup\":\"Computing Science\",\"marker\":{\"color\":\"#FF97FF\",\"opacity\":0.5,\"pattern\":{\"shape\":\"\"}},\"name\":\"Computing Science\",\"offsetgroup\":\"Computing Science\",\"orientation\":\"v\",\"showlegend\":false,\"textposition\":\"auto\",\"x\":[\"As\",\"NAs\",\"Entries\",\"Bs\",\"Cs\",\"Ds\"],\"xaxis\":\"x8\",\"y\":[80.0,null,120.0,15.0,20.0,5.0],\"yaxis\":\"y8\",\"type\":\"bar\"},{\"alignmentgroup\":\"True\",\"hovertemplate\":\"Subject=Computing Science<br>Year=2020<br>School=State<br>Grades=%{x}<br>Students=%{y}<extra></extra>\",\"legendgroup\":\"Computing Science\",\"marker\":{\"color\":\"#FF97FF\",\"opacity\":0.5,\"pattern\":{\"shape\":\"\"}},\"name\":\"Computing Science\",\"offsetgroup\":\"Computing Science\",\"orientation\":\"v\",\"showlegend\":false,\"textposition\":\"auto\",\"x\":[\"As\",\"NAs\",\"Entries\",\"Bs\",\"Cs\",\"Ds\"],\"xaxis\":\"x5\",\"y\":[155.0,15.0,375.0,120.0,75.0,15.0],\"yaxis\":\"y5\",\"type\":\"bar\"},{\"alignmentgroup\":\"True\",\"hovertemplate\":\"Subject=Computing Science<br>Year=2020<br>School=Ind<br>Grades=%{x}<br>Students=%{y}<extra></extra>\",\"legendgroup\":\"Computing Science\",\"marker\":{\"color\":\"#FF97FF\",\"opacity\":0.5,\"pattern\":{\"shape\":\"\"}},\"name\":\"Computing Science\",\"offsetgroup\":\"Computing Science\",\"orientation\":\"v\",\"showlegend\":false,\"textposition\":\"auto\",\"x\":[\"As\",\"NAs\",\"Entries\",\"Bs\",\"Cs\",\"Ds\"],\"xaxis\":\"x6\",\"y\":[65.0,0.0,115.0,35.0,10.0,5.0],\"yaxis\":\"y6\",\"type\":\"bar\"},{\"alignmentgroup\":\"True\",\"hovertemplate\":\"Subject=Computing Science<br>Year=2019<br>School=State<br>Grades=%{x}<br>Students=%{y}<extra></extra>\",\"legendgroup\":\"Computing Science\",\"marker\":{\"color\":\"#FF97FF\",\"opacity\":0.5,\"pattern\":{\"shape\":\"\"}},\"name\":\"Computing Science\",\"offsetgroup\":\"Computing Science\",\"orientation\":\"v\",\"showlegend\":false,\"textposition\":\"auto\",\"x\":[\"As\",\"NAs\",\"Entries\",\"Bs\",\"Cs\",\"Ds\"],\"xaxis\":\"x3\",\"y\":[90.0,140.0,505.0,105.0,115.0,55.0],\"yaxis\":\"y3\",\"type\":\"bar\"},{\"alignmentgroup\":\"True\",\"hovertemplate\":\"Subject=Computing Science<br>Year=2019<br>School=Ind<br>Grades=%{x}<br>Students=%{y}<extra></extra>\",\"legendgroup\":\"Computing Science\",\"marker\":{\"color\":\"#FF97FF\",\"opacity\":0.5,\"pattern\":{\"shape\":\"\"}},\"name\":\"Computing Science\",\"offsetgroup\":\"Computing Science\",\"orientation\":\"v\",\"showlegend\":false,\"textposition\":\"auto\",\"x\":[\"As\",\"NAs\",\"Entries\",\"Bs\",\"Cs\",\"Ds\"],\"xaxis\":\"x4\",\"y\":[55.0,10.0,110.0,25.0,10.0,5.0],\"yaxis\":\"y4\",\"type\":\"bar\"},{\"alignmentgroup\":\"True\",\"hovertemplate\":\"Subject=Computing Science<br>Year=2018<br>School=State<br>Grades=%{x}<br>Students=%{y}<extra></extra>\",\"legendgroup\":\"Computing Science\",\"marker\":{\"color\":\"#FF97FF\",\"opacity\":0.5,\"pattern\":{\"shape\":\"\"}},\"name\":\"Computing Science\",\"offsetgroup\":\"Computing Science\",\"orientation\":\"v\",\"showlegend\":false,\"textposition\":\"auto\",\"x\":[\"As\",\"NAs\",\"Entries\",\"Bs\",\"Cs\",\"Ds\"],\"xaxis\":\"x\",\"y\":[105.0,105.0,550.0,140.0,130.0,70.0],\"yaxis\":\"y\",\"type\":\"bar\"},{\"alignmentgroup\":\"True\",\"hovertemplate\":\"Subject=Computing Science<br>Year=2018<br>School=Ind<br>Grades=%{x}<br>Students=%{y}<extra></extra>\",\"legendgroup\":\"Computing Science\",\"marker\":{\"color\":\"#FF97FF\",\"opacity\":0.5,\"pattern\":{\"shape\":\"\"}},\"name\":\"Computing Science\",\"offsetgroup\":\"Computing Science\",\"orientation\":\"v\",\"showlegend\":false,\"textposition\":\"auto\",\"x\":[\"As\",\"NAs\",\"Entries\",\"Bs\",\"Cs\",\"Ds\"],\"xaxis\":\"x2\",\"y\":[35.0,5.0,85.0,25.0,20.0,0.0],\"yaxis\":\"y2\",\"type\":\"bar\"},{\"alignmentgroup\":\"True\",\"hovertemplate\":\"Subject=Design and Manufacture<br>Year=2022<br>School=State<br>Grades=%{x}<br>Students=%{y}<extra></extra>\",\"legendgroup\":\"Design and Manufacture\",\"marker\":{\"color\":\"#FECB52\",\"opacity\":0.5,\"pattern\":{\"shape\":\"\"}},\"name\":\"Design and Manufacture\",\"offsetgroup\":\"Design and Manufacture\",\"orientation\":\"v\",\"showlegend\":true,\"textposition\":\"auto\",\"x\":[\"As\",\"NAs\",\"Entries\",\"Bs\",\"Cs\",\"Ds\"],\"xaxis\":\"x9\",\"y\":[20.0,20.0,100.0,15.0,25.0,20.0],\"yaxis\":\"y9\",\"type\":\"bar\"},{\"alignmentgroup\":\"True\",\"hovertemplate\":\"Subject=Design and Manufacture<br>Year=2022<br>School=Ind<br>Grades=%{x}<br>Students=%{y}<extra></extra>\",\"legendgroup\":\"Design and Manufacture\",\"marker\":{\"color\":\"#FECB52\",\"opacity\":0.5,\"pattern\":{\"shape\":\"\"}},\"name\":\"Design and Manufacture\",\"offsetgroup\":\"Design and Manufacture\",\"orientation\":\"v\",\"showlegend\":false,\"textposition\":\"auto\",\"x\":[\"As\",\"NAs\",\"Entries\",\"Bs\",\"Cs\",\"Ds\"],\"xaxis\":\"x10\",\"y\":[null,null,15.0,null,0.0,10.0],\"yaxis\":\"y10\",\"type\":\"bar\"},{\"alignmentgroup\":\"True\",\"hovertemplate\":\"Subject=Design and Manufacture<br>Year=2021<br>School=State<br>Grades=%{x}<br>Students=%{y}<extra></extra>\",\"legendgroup\":\"Design and Manufacture\",\"marker\":{\"color\":\"#FECB52\",\"opacity\":0.5,\"pattern\":{\"shape\":\"\"}},\"name\":\"Design and Manufacture\",\"offsetgroup\":\"Design and Manufacture\",\"orientation\":\"v\",\"showlegend\":false,\"textposition\":\"auto\",\"x\":[\"As\",\"NAs\",\"Entries\",\"Bs\",\"Cs\",\"Ds\"],\"xaxis\":\"x7\",\"y\":[30.0,5.0,105.0,25.0,35.0,10.0],\"yaxis\":\"y7\",\"type\":\"bar\"},{\"alignmentgroup\":\"True\",\"hovertemplate\":\"Subject=Design and Manufacture<br>Year=2021<br>School=Ind<br>Grades=%{x}<br>Students=%{y}<extra></extra>\",\"legendgroup\":\"Design and Manufacture\",\"marker\":{\"color\":\"#FECB52\",\"opacity\":0.5,\"pattern\":{\"shape\":\"\"}},\"name\":\"Design and Manufacture\",\"offsetgroup\":\"Design and Manufacture\",\"orientation\":\"v\",\"showlegend\":false,\"textposition\":\"auto\",\"x\":[\"As\",\"NAs\",\"Entries\",\"Bs\",\"Cs\",\"Ds\"],\"xaxis\":\"x8\",\"y\":[null,0.0,null,null,null,null],\"yaxis\":\"y8\",\"type\":\"bar\"},{\"alignmentgroup\":\"True\",\"hovertemplate\":\"Subject=Design and Manufacture<br>Year=2020<br>School=State<br>Grades=%{x}<br>Students=%{y}<extra></extra>\",\"legendgroup\":\"Design and Manufacture\",\"marker\":{\"color\":\"#FECB52\",\"opacity\":0.5,\"pattern\":{\"shape\":\"\"}},\"name\":\"Design and Manufacture\",\"offsetgroup\":\"Design and Manufacture\",\"orientation\":\"v\",\"showlegend\":false,\"textposition\":\"auto\",\"x\":[\"As\",\"NAs\",\"Entries\",\"Bs\",\"Cs\",\"Ds\"],\"xaxis\":\"x5\",\"y\":[10.0,null,45.0,20.0,10.0,5.0],\"yaxis\":\"y5\",\"type\":\"bar\"},{\"alignmentgroup\":\"True\",\"hovertemplate\":\"Subject=Design and Manufacture<br>Year=2020<br>School=Ind<br>Grades=%{x}<br>Students=%{y}<extra></extra>\",\"legendgroup\":\"Design and Manufacture\",\"marker\":{\"color\":\"#FECB52\",\"opacity\":0.5,\"pattern\":{\"shape\":\"\"}},\"name\":\"Design and Manufacture\",\"offsetgroup\":\"Design and Manufacture\",\"orientation\":\"v\",\"showlegend\":false,\"textposition\":\"auto\",\"x\":[\"As\",\"NAs\",\"Entries\",\"Bs\",\"Cs\",\"Ds\"],\"xaxis\":\"x6\",\"y\":[null,0.0,null,null,null,null],\"yaxis\":\"y6\",\"type\":\"bar\"},{\"alignmentgroup\":\"True\",\"hovertemplate\":\"Subject=Design and Manufacture<br>Year=2019<br>School=State<br>Grades=%{x}<br>Students=%{y}<extra></extra>\",\"legendgroup\":\"Design and Manufacture\",\"marker\":{\"color\":\"#FECB52\",\"opacity\":0.5,\"pattern\":{\"shape\":\"\"}},\"name\":\"Design and Manufacture\",\"offsetgroup\":\"Design and Manufacture\",\"orientation\":\"v\",\"showlegend\":false,\"textposition\":\"auto\",\"x\":[\"As\",\"NAs\",\"Entries\",\"Bs\",\"Cs\",\"Ds\"],\"xaxis\":\"x3\",\"y\":[5.0,15.0,75.0,15.0,25.0,10.0],\"yaxis\":\"y3\",\"type\":\"bar\"},{\"alignmentgroup\":\"True\",\"hovertemplate\":\"Subject=Design and Manufacture<br>Year=2019<br>School=Ind<br>Grades=%{x}<br>Students=%{y}<extra></extra>\",\"legendgroup\":\"Design and Manufacture\",\"marker\":{\"color\":\"#FECB52\",\"opacity\":0.5,\"pattern\":{\"shape\":\"\"}},\"name\":\"Design and Manufacture\",\"offsetgroup\":\"Design and Manufacture\",\"orientation\":\"v\",\"showlegend\":false,\"textposition\":\"auto\",\"x\":[\"As\",\"NAs\",\"Entries\",\"Bs\",\"Cs\",\"Ds\"],\"xaxis\":\"x4\",\"y\":[null,0.0,5.0,null,null,null],\"yaxis\":\"y4\",\"type\":\"bar\"},{\"alignmentgroup\":\"True\",\"hovertemplate\":\"Subject=Design and Manufacture<br>Year=2018<br>School=State<br>Grades=%{x}<br>Students=%{y}<extra></extra>\",\"legendgroup\":\"Design and Manufacture\",\"marker\":{\"color\":\"#FECB52\",\"opacity\":0.5,\"pattern\":{\"shape\":\"\"}},\"name\":\"Design and Manufacture\",\"offsetgroup\":\"Design and Manufacture\",\"orientation\":\"v\",\"showlegend\":false,\"textposition\":\"auto\",\"x\":[\"As\",\"NAs\",\"Entries\",\"Bs\",\"Cs\",\"Ds\"],\"xaxis\":\"x\",\"y\":[5.0,20.0,70.0,15.0,15.0,15.0],\"yaxis\":\"y\",\"type\":\"bar\"},{\"alignmentgroup\":\"True\",\"hovertemplate\":\"Subject=Design and Manufacture<br>Year=2018<br>School=Ind<br>Grades=%{x}<br>Students=%{y}<extra></extra>\",\"legendgroup\":\"Design and Manufacture\",\"marker\":{\"color\":\"#FECB52\",\"opacity\":0.5,\"pattern\":{\"shape\":\"\"}},\"name\":\"Design and Manufacture\",\"offsetgroup\":\"Design and Manufacture\",\"orientation\":\"v\",\"showlegend\":false,\"textposition\":\"auto\",\"x\":[\"As\",\"NAs\",\"Entries\",\"Bs\",\"Cs\",\"Ds\"],\"xaxis\":\"x2\",\"y\":[0.0,5.0,25.0,10.0,5.0,5.0],\"yaxis\":\"y2\",\"type\":\"bar\"},{\"alignmentgroup\":\"True\",\"hovertemplate\":\"Subject=Drama<br>Year=2022<br>School=State<br>Grades=%{x}<br>Students=%{y}<extra></extra>\",\"legendgroup\":\"Drama\",\"marker\":{\"color\":\"#636efa\",\"opacity\":0.5,\"pattern\":{\"shape\":\"\"}},\"name\":\"Drama\",\"offsetgroup\":\"Drama\",\"orientation\":\"v\",\"showlegend\":true,\"textposition\":\"auto\",\"x\":[\"As\",\"NAs\",\"Entries\",\"Bs\",\"Cs\",\"Ds\"],\"xaxis\":\"x9\",\"y\":[105.0,20.0,540.0,175.0,160.0,80.0],\"yaxis\":\"y9\",\"type\":\"bar\"},{\"alignmentgroup\":\"True\",\"hovertemplate\":\"Subject=Drama<br>Year=2022<br>School=Ind<br>Grades=%{x}<br>Students=%{y}<extra></extra>\",\"legendgroup\":\"Drama\",\"marker\":{\"color\":\"#636efa\",\"opacity\":0.5,\"pattern\":{\"shape\":\"\"}},\"name\":\"Drama\",\"offsetgroup\":\"Drama\",\"orientation\":\"v\",\"showlegend\":false,\"textposition\":\"auto\",\"x\":[\"As\",\"NAs\",\"Entries\",\"Bs\",\"Cs\",\"Ds\"],\"xaxis\":\"x10\",\"y\":[35.0,0.0,80.0,25.0,15.0,5.0],\"yaxis\":\"y10\",\"type\":\"bar\"},{\"alignmentgroup\":\"True\",\"hovertemplate\":\"Subject=Drama<br>Year=2021<br>School=State<br>Grades=%{x}<br>Students=%{y}<extra></extra>\",\"legendgroup\":\"Drama\",\"marker\":{\"color\":\"#636efa\",\"opacity\":0.5,\"pattern\":{\"shape\":\"\"}},\"name\":\"Drama\",\"offsetgroup\":\"Drama\",\"orientation\":\"v\",\"showlegend\":false,\"textposition\":\"auto\",\"x\":[\"As\",\"NAs\",\"Entries\",\"Bs\",\"Cs\",\"Ds\"],\"xaxis\":\"x7\",\"y\":[215.0,20.0,485.0,135.0,80.0,30.0],\"yaxis\":\"y7\",\"type\":\"bar\"},{\"alignmentgroup\":\"True\",\"hovertemplate\":\"Subject=Drama<br>Year=2021<br>School=Ind<br>Grades=%{x}<br>Students=%{y}<extra></extra>\",\"legendgroup\":\"Drama\",\"marker\":{\"color\":\"#636efa\",\"opacity\":0.5,\"pattern\":{\"shape\":\"\"}},\"name\":\"Drama\",\"offsetgroup\":\"Drama\",\"orientation\":\"v\",\"showlegend\":false,\"textposition\":\"auto\",\"x\":[\"As\",\"NAs\",\"Entries\",\"Bs\",\"Cs\",\"Ds\"],\"xaxis\":\"x8\",\"y\":[65.0,null,85.0,15.0,5.0,0.0],\"yaxis\":\"y8\",\"type\":\"bar\"},{\"alignmentgroup\":\"True\",\"hovertemplate\":\"Subject=Drama<br>Year=2020<br>School=State<br>Grades=%{x}<br>Students=%{y}<extra></extra>\",\"legendgroup\":\"Drama\",\"marker\":{\"color\":\"#636efa\",\"opacity\":0.5,\"pattern\":{\"shape\":\"\"}},\"name\":\"Drama\",\"offsetgroup\":\"Drama\",\"orientation\":\"v\",\"showlegend\":false,\"textposition\":\"auto\",\"x\":[\"As\",\"NAs\",\"Entries\",\"Bs\",\"Cs\",\"Ds\"],\"xaxis\":\"x5\",\"y\":[210.0,null,465.0,160.0,85.0,10.0],\"yaxis\":\"y5\",\"type\":\"bar\"},{\"alignmentgroup\":\"True\",\"hovertemplate\":\"Subject=Drama<br>Year=2020<br>School=Ind<br>Grades=%{x}<br>Students=%{y}<extra></extra>\",\"legendgroup\":\"Drama\",\"marker\":{\"color\":\"#636efa\",\"opacity\":0.5,\"pattern\":{\"shape\":\"\"}},\"name\":\"Drama\",\"offsetgroup\":\"Drama\",\"orientation\":\"v\",\"showlegend\":false,\"textposition\":\"auto\",\"x\":[\"As\",\"NAs\",\"Entries\",\"Bs\",\"Cs\",\"Ds\"],\"xaxis\":\"x6\",\"y\":[60.0,0.0,75.0,10.0,5.0,0.0],\"yaxis\":\"y6\",\"type\":\"bar\"},{\"alignmentgroup\":\"True\",\"hovertemplate\":\"Subject=Drama<br>Year=2019<br>School=State<br>Grades=%{x}<br>Students=%{y}<extra></extra>\",\"legendgroup\":\"Drama\",\"marker\":{\"color\":\"#636efa\",\"opacity\":0.5,\"pattern\":{\"shape\":\"\"}},\"name\":\"Drama\",\"offsetgroup\":\"Drama\",\"orientation\":\"v\",\"showlegend\":false,\"textposition\":\"auto\",\"x\":[\"As\",\"NAs\",\"Entries\",\"Bs\",\"Cs\",\"Ds\"],\"xaxis\":\"x3\",\"y\":[95.0,55.0,495.0,145.0,150.0,50.0],\"yaxis\":\"y3\",\"type\":\"bar\"},{\"alignmentgroup\":\"True\",\"hovertemplate\":\"Subject=Drama<br>Year=2019<br>School=Ind<br>Grades=%{x}<br>Students=%{y}<extra></extra>\",\"legendgroup\":\"Drama\",\"marker\":{\"color\":\"#636efa\",\"opacity\":0.5,\"pattern\":{\"shape\":\"\"}},\"name\":\"Drama\",\"offsetgroup\":\"Drama\",\"orientation\":\"v\",\"showlegend\":false,\"textposition\":\"auto\",\"x\":[\"As\",\"NAs\",\"Entries\",\"Bs\",\"Cs\",\"Ds\"],\"xaxis\":\"x4\",\"y\":[30.0,null,75.0,30.0,10.0,0.0],\"yaxis\":\"y4\",\"type\":\"bar\"},{\"alignmentgroup\":\"True\",\"hovertemplate\":\"Subject=Drama<br>Year=2018<br>School=State<br>Grades=%{x}<br>Students=%{y}<extra></extra>\",\"legendgroup\":\"Drama\",\"marker\":{\"color\":\"#636efa\",\"opacity\":0.5,\"pattern\":{\"shape\":\"\"}},\"name\":\"Drama\",\"offsetgroup\":\"Drama\",\"orientation\":\"v\",\"showlegend\":false,\"textposition\":\"auto\",\"x\":[\"As\",\"NAs\",\"Entries\",\"Bs\",\"Cs\",\"Ds\"],\"xaxis\":\"x\",\"y\":[130.0,35.0,440.0,120.0,115.0,40.0],\"yaxis\":\"y\",\"type\":\"bar\"},{\"alignmentgroup\":\"True\",\"hovertemplate\":\"Subject=Drama<br>Year=2018<br>School=Ind<br>Grades=%{x}<br>Students=%{y}<extra></extra>\",\"legendgroup\":\"Drama\",\"marker\":{\"color\":\"#636efa\",\"opacity\":0.5,\"pattern\":{\"shape\":\"\"}},\"name\":\"Drama\",\"offsetgroup\":\"Drama\",\"orientation\":\"v\",\"showlegend\":false,\"textposition\":\"auto\",\"x\":[\"As\",\"NAs\",\"Entries\",\"Bs\",\"Cs\",\"Ds\"],\"xaxis\":\"x2\",\"y\":[30.0,null,70.0,15.0,15.0,5.0],\"yaxis\":\"y2\",\"type\":\"bar\"},{\"alignmentgroup\":\"True\",\"hovertemplate\":\"Subject=Economics<br>Year=2022<br>School=State<br>Grades=%{x}<br>Students=%{y}<extra></extra>\",\"legendgroup\":\"Economics\",\"marker\":{\"color\":\"#EF553B\",\"opacity\":0.5,\"pattern\":{\"shape\":\"\"}},\"name\":\"Economics\",\"offsetgroup\":\"Economics\",\"orientation\":\"v\",\"showlegend\":true,\"textposition\":\"auto\",\"x\":[\"As\",\"NAs\",\"Entries\",\"Bs\",\"Cs\",\"Ds\"],\"xaxis\":\"x9\",\"y\":[null,0.0,null,null,null,null],\"yaxis\":\"y9\",\"type\":\"bar\"},{\"alignmentgroup\":\"True\",\"hovertemplate\":\"Subject=Economics<br>Year=2022<br>School=Ind<br>Grades=%{x}<br>Students=%{y}<extra></extra>\",\"legendgroup\":\"Economics\",\"marker\":{\"color\":\"#EF553B\",\"opacity\":0.5,\"pattern\":{\"shape\":\"\"}},\"name\":\"Economics\",\"offsetgroup\":\"Economics\",\"orientation\":\"v\",\"showlegend\":false,\"textposition\":\"auto\",\"x\":[\"As\",\"NAs\",\"Entries\",\"Bs\",\"Cs\",\"Ds\"],\"xaxis\":\"x10\",\"y\":[70.0,null,125.0,30.0,15.0,5.0],\"yaxis\":\"y10\",\"type\":\"bar\"},{\"alignmentgroup\":\"True\",\"hovertemplate\":\"Subject=Economics<br>Year=2021<br>School=State<br>Grades=%{x}<br>Students=%{y}<extra></extra>\",\"legendgroup\":\"Economics\",\"marker\":{\"color\":\"#EF553B\",\"opacity\":0.5,\"pattern\":{\"shape\":\"\"}},\"name\":\"Economics\",\"offsetgroup\":\"Economics\",\"orientation\":\"v\",\"showlegend\":false,\"textposition\":\"auto\",\"x\":[\"As\",\"NAs\",\"Entries\",\"Bs\",\"Cs\",\"Ds\"],\"xaxis\":\"x7\",\"y\":[null,0.0,null,null,null,null],\"yaxis\":\"y7\",\"type\":\"bar\"},{\"alignmentgroup\":\"True\",\"hovertemplate\":\"Subject=Economics<br>Year=2021<br>School=Ind<br>Grades=%{x}<br>Students=%{y}<extra></extra>\",\"legendgroup\":\"Economics\",\"marker\":{\"color\":\"#EF553B\",\"opacity\":0.5,\"pattern\":{\"shape\":\"\"}},\"name\":\"Economics\",\"offsetgroup\":\"Economics\",\"orientation\":\"v\",\"showlegend\":false,\"textposition\":\"auto\",\"x\":[\"As\",\"NAs\",\"Entries\",\"Bs\",\"Cs\",\"Ds\"],\"xaxis\":\"x8\",\"y\":[65.0,0.0,75.0,10.0,0.0,0.0],\"yaxis\":\"y8\",\"type\":\"bar\"},{\"alignmentgroup\":\"True\",\"hovertemplate\":\"Subject=Economics<br>Year=2020<br>School=State<br>Grades=%{x}<br>Students=%{y}<extra></extra>\",\"legendgroup\":\"Economics\",\"marker\":{\"color\":\"#EF553B\",\"opacity\":0.5,\"pattern\":{\"shape\":\"\"}},\"name\":\"Economics\",\"offsetgroup\":\"Economics\",\"orientation\":\"v\",\"showlegend\":false,\"textposition\":\"auto\",\"x\":[\"As\",\"NAs\",\"Entries\",\"Bs\",\"Cs\",\"Ds\"],\"xaxis\":\"x5\",\"y\":[null,null,0.0,null,null,null],\"yaxis\":\"y5\",\"type\":\"bar\"},{\"alignmentgroup\":\"True\",\"hovertemplate\":\"Subject=Economics<br>Year=2020<br>School=Ind<br>Grades=%{x}<br>Students=%{y}<extra></extra>\",\"legendgroup\":\"Economics\",\"marker\":{\"color\":\"#EF553B\",\"opacity\":0.5,\"pattern\":{\"shape\":\"\"}},\"name\":\"Economics\",\"offsetgroup\":\"Economics\",\"orientation\":\"v\",\"showlegend\":false,\"textposition\":\"auto\",\"x\":[\"As\",\"NAs\",\"Entries\",\"Bs\",\"Cs\",\"Ds\"],\"xaxis\":\"x6\",\"y\":[70.0,0.0,105.0,20.0,10.0,5.0],\"yaxis\":\"y6\",\"type\":\"bar\"},{\"alignmentgroup\":\"True\",\"hovertemplate\":\"Subject=Economics<br>Year=2019<br>School=State<br>Grades=%{x}<br>Students=%{y}<extra></extra>\",\"legendgroup\":\"Economics\",\"marker\":{\"color\":\"#EF553B\",\"opacity\":0.5,\"pattern\":{\"shape\":\"\"}},\"name\":\"Economics\",\"offsetgroup\":\"Economics\",\"orientation\":\"v\",\"showlegend\":false,\"textposition\":\"auto\",\"x\":[\"As\",\"NAs\",\"Entries\",\"Bs\",\"Cs\",\"Ds\"],\"xaxis\":\"x3\",\"y\":[null,0.0,null,null,null,null],\"yaxis\":\"y3\",\"type\":\"bar\"},{\"alignmentgroup\":\"True\",\"hovertemplate\":\"Subject=Economics<br>Year=2019<br>School=Ind<br>Grades=%{x}<br>Students=%{y}<extra></extra>\",\"legendgroup\":\"Economics\",\"marker\":{\"color\":\"#EF553B\",\"opacity\":0.5,\"pattern\":{\"shape\":\"\"}},\"name\":\"Economics\",\"offsetgroup\":\"Economics\",\"orientation\":\"v\",\"showlegend\":false,\"textposition\":\"auto\",\"x\":[\"As\",\"NAs\",\"Entries\",\"Bs\",\"Cs\",\"Ds\"],\"xaxis\":\"x4\",\"y\":[55.0,null,105.0,25.0,15.0,5.0],\"yaxis\":\"y4\",\"type\":\"bar\"},{\"alignmentgroup\":\"True\",\"hovertemplate\":\"Subject=Economics<br>Year=2018<br>School=State<br>Grades=%{x}<br>Students=%{y}<extra></extra>\",\"legendgroup\":\"Economics\",\"marker\":{\"color\":\"#EF553B\",\"opacity\":0.5,\"pattern\":{\"shape\":\"\"}},\"name\":\"Economics\",\"offsetgroup\":\"Economics\",\"orientation\":\"v\",\"showlegend\":false,\"textposition\":\"auto\",\"x\":[\"As\",\"NAs\",\"Entries\",\"Bs\",\"Cs\",\"Ds\"],\"xaxis\":\"x\",\"y\":[null,null,10.0,null,null,5.0],\"yaxis\":\"y\",\"type\":\"bar\"},{\"alignmentgroup\":\"True\",\"hovertemplate\":\"Subject=Economics<br>Year=2018<br>School=Ind<br>Grades=%{x}<br>Students=%{y}<extra></extra>\",\"legendgroup\":\"Economics\",\"marker\":{\"color\":\"#EF553B\",\"opacity\":0.5,\"pattern\":{\"shape\":\"\"}},\"name\":\"Economics\",\"offsetgroup\":\"Economics\",\"orientation\":\"v\",\"showlegend\":false,\"textposition\":\"auto\",\"x\":[\"As\",\"NAs\",\"Entries\",\"Bs\",\"Cs\",\"Ds\"],\"xaxis\":\"x2\",\"y\":[40.0,null,85.0,20.0,25.0,0.0],\"yaxis\":\"y2\",\"type\":\"bar\"},{\"alignmentgroup\":\"True\",\"hovertemplate\":\"Subject=Engineering Science<br>Year=2022<br>School=State<br>Grades=%{x}<br>Students=%{y}<extra></extra>\",\"legendgroup\":\"Engineering Science\",\"marker\":{\"color\":\"#00cc96\",\"opacity\":0.5,\"pattern\":{\"shape\":\"\"}},\"name\":\"Engineering Science\",\"offsetgroup\":\"Engineering Science\",\"orientation\":\"v\",\"showlegend\":true,\"textposition\":\"auto\",\"x\":[\"As\",\"NAs\",\"Entries\",\"Bs\",\"Cs\",\"Ds\"],\"xaxis\":\"x9\",\"y\":[5.0,25.0,70.0,10.0,15.0,15.0],\"yaxis\":\"y9\",\"type\":\"bar\"},{\"alignmentgroup\":\"True\",\"hovertemplate\":\"Subject=Engineering Science<br>Year=2022<br>School=Ind<br>Grades=%{x}<br>Students=%{y}<extra></extra>\",\"legendgroup\":\"Engineering Science\",\"marker\":{\"color\":\"#00cc96\",\"opacity\":0.5,\"pattern\":{\"shape\":\"\"}},\"name\":\"Engineering Science\",\"offsetgroup\":\"Engineering Science\",\"orientation\":\"v\",\"showlegend\":false,\"textposition\":\"auto\",\"x\":[\"As\",\"NAs\",\"Entries\",\"Bs\",\"Cs\",\"Ds\"],\"xaxis\":\"x10\",\"y\":[5.0,null,20.0,5.0,5.0,5.0],\"yaxis\":\"y10\",\"type\":\"bar\"},{\"alignmentgroup\":\"True\",\"hovertemplate\":\"Subject=Engineering Science<br>Year=2021<br>School=State<br>Grades=%{x}<br>Students=%{y}<extra></extra>\",\"legendgroup\":\"Engineering Science\",\"marker\":{\"color\":\"#00cc96\",\"opacity\":0.5,\"pattern\":{\"shape\":\"\"}},\"name\":\"Engineering Science\",\"offsetgroup\":\"Engineering Science\",\"orientation\":\"v\",\"showlegend\":false,\"textposition\":\"auto\",\"x\":[\"As\",\"NAs\",\"Entries\",\"Bs\",\"Cs\",\"Ds\"],\"xaxis\":\"x7\",\"y\":[20.0,null,70.0,20.0,15.0,10.0],\"yaxis\":\"y7\",\"type\":\"bar\"},{\"alignmentgroup\":\"True\",\"hovertemplate\":\"Subject=Engineering Science<br>Year=2021<br>School=Ind<br>Grades=%{x}<br>Students=%{y}<extra></extra>\",\"legendgroup\":\"Engineering Science\",\"marker\":{\"color\":\"#00cc96\",\"opacity\":0.5,\"pattern\":{\"shape\":\"\"}},\"name\":\"Engineering Science\",\"offsetgroup\":\"Engineering Science\",\"orientation\":\"v\",\"showlegend\":false,\"textposition\":\"auto\",\"x\":[\"As\",\"NAs\",\"Entries\",\"Bs\",\"Cs\",\"Ds\"],\"xaxis\":\"x8\",\"y\":[10.0,0.0,20.0,5.0,5.0,0.0],\"yaxis\":\"y8\",\"type\":\"bar\"},{\"alignmentgroup\":\"True\",\"hovertemplate\":\"Subject=Engineering Science<br>Year=2020<br>School=State<br>Grades=%{x}<br>Students=%{y}<extra></extra>\",\"legendgroup\":\"Engineering Science\",\"marker\":{\"color\":\"#00cc96\",\"opacity\":0.5,\"pattern\":{\"shape\":\"\"}},\"name\":\"Engineering Science\",\"offsetgroup\":\"Engineering Science\",\"orientation\":\"v\",\"showlegend\":false,\"textposition\":\"auto\",\"x\":[\"As\",\"NAs\",\"Entries\",\"Bs\",\"Cs\",\"Ds\"],\"xaxis\":\"x5\",\"y\":[5.0,null,35.0,10.0,15.0,5.0],\"yaxis\":\"y5\",\"type\":\"bar\"},{\"alignmentgroup\":\"True\",\"hovertemplate\":\"Subject=Engineering Science<br>Year=2020<br>School=Ind<br>Grades=%{x}<br>Students=%{y}<extra></extra>\",\"legendgroup\":\"Engineering Science\",\"marker\":{\"color\":\"#00cc96\",\"opacity\":0.5,\"pattern\":{\"shape\":\"\"}},\"name\":\"Engineering Science\",\"offsetgroup\":\"Engineering Science\",\"orientation\":\"v\",\"showlegend\":false,\"textposition\":\"auto\",\"x\":[\"As\",\"NAs\",\"Entries\",\"Bs\",\"Cs\",\"Ds\"],\"xaxis\":\"x6\",\"y\":[null,0.0,10.0,null,5.0,0.0],\"yaxis\":\"y6\",\"type\":\"bar\"},{\"alignmentgroup\":\"True\",\"hovertemplate\":\"Subject=Engineering Science<br>Year=2019<br>School=State<br>Grades=%{x}<br>Students=%{y}<extra></extra>\",\"legendgroup\":\"Engineering Science\",\"marker\":{\"color\":\"#00cc96\",\"opacity\":0.5,\"pattern\":{\"shape\":\"\"}},\"name\":\"Engineering Science\",\"offsetgroup\":\"Engineering Science\",\"orientation\":\"v\",\"showlegend\":false,\"textposition\":\"auto\",\"x\":[\"As\",\"NAs\",\"Entries\",\"Bs\",\"Cs\",\"Ds\"],\"xaxis\":\"x3\",\"y\":[5.0,null,25.0,5.0,10.0,5.0],\"yaxis\":\"y3\",\"type\":\"bar\"},{\"alignmentgroup\":\"True\",\"hovertemplate\":\"Subject=Engineering Science<br>Year=2019<br>School=Ind<br>Grades=%{x}<br>Students=%{y}<extra></extra>\",\"legendgroup\":\"Engineering Science\",\"marker\":{\"color\":\"#00cc96\",\"opacity\":0.5,\"pattern\":{\"shape\":\"\"}},\"name\":\"Engineering Science\",\"offsetgroup\":\"Engineering Science\",\"orientation\":\"v\",\"showlegend\":false,\"textposition\":\"auto\",\"x\":[\"As\",\"NAs\",\"Entries\",\"Bs\",\"Cs\",\"Ds\"],\"xaxis\":\"x4\",\"y\":[null,0.0,10.0,null,5.0,0.0],\"yaxis\":\"y4\",\"type\":\"bar\"},{\"alignmentgroup\":\"True\",\"hovertemplate\":\"Subject=Engineering Science<br>Year=2018<br>School=State<br>Grades=%{x}<br>Students=%{y}<extra></extra>\",\"legendgroup\":\"Engineering Science\",\"marker\":{\"color\":\"#00cc96\",\"opacity\":0.5,\"pattern\":{\"shape\":\"\"}},\"name\":\"Engineering Science\",\"offsetgroup\":\"Engineering Science\",\"orientation\":\"v\",\"showlegend\":false,\"textposition\":\"auto\",\"x\":[\"As\",\"NAs\",\"Entries\",\"Bs\",\"Cs\",\"Ds\"],\"xaxis\":\"x\",\"y\":[5.0,10.0,50.0,10.0,15.0,10.0],\"yaxis\":\"y\",\"type\":\"bar\"},{\"alignmentgroup\":\"True\",\"hovertemplate\":\"Subject=Engineering Science<br>Year=2018<br>School=Ind<br>Grades=%{x}<br>Students=%{y}<extra></extra>\",\"legendgroup\":\"Engineering Science\",\"marker\":{\"color\":\"#00cc96\",\"opacity\":0.5,\"pattern\":{\"shape\":\"\"}},\"name\":\"Engineering Science\",\"offsetgroup\":\"Engineering Science\",\"orientation\":\"v\",\"showlegend\":false,\"textposition\":\"auto\",\"x\":[\"As\",\"NAs\",\"Entries\",\"Bs\",\"Cs\",\"Ds\"],\"xaxis\":\"x2\",\"y\":[null,null,10.0,null,5.0,0.0],\"yaxis\":\"y2\",\"type\":\"bar\"},{\"alignmentgroup\":\"True\",\"hovertemplate\":\"Subject=English<br>Year=2022<br>School=State<br>Grades=%{x}<br>Students=%{y}<extra></extra>\",\"legendgroup\":\"English\",\"marker\":{\"color\":\"#ab63fa\",\"opacity\":0.5,\"pattern\":{\"shape\":\"\"}},\"name\":\"English\",\"offsetgroup\":\"English\",\"orientation\":\"v\",\"showlegend\":true,\"textposition\":\"auto\",\"x\":[\"As\",\"NAs\",\"Entries\",\"Bs\",\"Cs\",\"Ds\"],\"xaxis\":\"x9\",\"y\":[590.0,75.0,2430.0,720.0,695.0,350.0],\"yaxis\":\"y9\",\"type\":\"bar\"},{\"alignmentgroup\":\"True\",\"hovertemplate\":\"Subject=English<br>Year=2022<br>School=Ind<br>Grades=%{x}<br>Students=%{y}<extra></extra>\",\"legendgroup\":\"English\",\"marker\":{\"color\":\"#ab63fa\",\"opacity\":0.5,\"pattern\":{\"shape\":\"\"}},\"name\":\"English\",\"offsetgroup\":\"English\",\"orientation\":\"v\",\"showlegend\":false,\"textposition\":\"auto\",\"x\":[\"As\",\"NAs\",\"Entries\",\"Bs\",\"Cs\",\"Ds\"],\"xaxis\":\"x10\",\"y\":[175.0,0.0,325.0,95.0,45.0,10.0],\"yaxis\":\"y10\",\"type\":\"bar\"},{\"alignmentgroup\":\"True\",\"hovertemplate\":\"Subject=English<br>Year=2021<br>School=State<br>Grades=%{x}<br>Students=%{y}<extra></extra>\",\"legendgroup\":\"English\",\"marker\":{\"color\":\"#ab63fa\",\"opacity\":0.5,\"pattern\":{\"shape\":\"\"}},\"name\":\"English\",\"offsetgroup\":\"English\",\"orientation\":\"v\",\"showlegend\":false,\"textposition\":\"auto\",\"x\":[\"As\",\"NAs\",\"Entries\",\"Bs\",\"Cs\",\"Ds\"],\"xaxis\":\"x7\",\"y\":[1065.0,80.0,2490.0,675.0,520.0,150.0],\"yaxis\":\"y7\",\"type\":\"bar\"},{\"alignmentgroup\":\"True\",\"hovertemplate\":\"Subject=English<br>Year=2021<br>School=Ind<br>Grades=%{x}<br>Students=%{y}<extra></extra>\",\"legendgroup\":\"English\",\"marker\":{\"color\":\"#ab63fa\",\"opacity\":0.5,\"pattern\":{\"shape\":\"\"}},\"name\":\"English\",\"offsetgroup\":\"English\",\"orientation\":\"v\",\"showlegend\":false,\"textposition\":\"auto\",\"x\":[\"As\",\"NAs\",\"Entries\",\"Bs\",\"Cs\",\"Ds\"],\"xaxis\":\"x8\",\"y\":[220.0,null,315.0,70.0,20.0,0.0],\"yaxis\":\"y8\",\"type\":\"bar\"},{\"alignmentgroup\":\"True\",\"hovertemplate\":\"Subject=English<br>Year=2020<br>School=State<br>Grades=%{x}<br>Students=%{y}<extra></extra>\",\"legendgroup\":\"English\",\"marker\":{\"color\":\"#ab63fa\",\"opacity\":0.5,\"pattern\":{\"shape\":\"\"}},\"name\":\"English\",\"offsetgroup\":\"English\",\"orientation\":\"v\",\"showlegend\":false,\"textposition\":\"auto\",\"x\":[\"As\",\"NAs\",\"Entries\",\"Bs\",\"Cs\",\"Ds\"],\"xaxis\":\"x5\",\"y\":[640.0,40.0,1920.0,620.0,500.0,120.0],\"yaxis\":\"y5\",\"type\":\"bar\"},{\"alignmentgroup\":\"True\",\"hovertemplate\":\"Subject=English<br>Year=2020<br>School=Ind<br>Grades=%{x}<br>Students=%{y}<extra></extra>\",\"legendgroup\":\"English\",\"marker\":{\"color\":\"#ab63fa\",\"opacity\":0.5,\"pattern\":{\"shape\":\"\"}},\"name\":\"English\",\"offsetgroup\":\"English\",\"orientation\":\"v\",\"showlegend\":false,\"textposition\":\"auto\",\"x\":[\"As\",\"NAs\",\"Entries\",\"Bs\",\"Cs\",\"Ds\"],\"xaxis\":\"x6\",\"y\":[185.0,null,305.0,85.0,30.0,5.0],\"yaxis\":\"y6\",\"type\":\"bar\"},{\"alignmentgroup\":\"True\",\"hovertemplate\":\"Subject=English<br>Year=2019<br>School=State<br>Grades=%{x}<br>Students=%{y}<extra></extra>\",\"legendgroup\":\"English\",\"marker\":{\"color\":\"#ab63fa\",\"opacity\":0.5,\"pattern\":{\"shape\":\"\"}},\"name\":\"English\",\"offsetgroup\":\"English\",\"orientation\":\"v\",\"showlegend\":false,\"textposition\":\"auto\",\"x\":[\"As\",\"NAs\",\"Entries\",\"Bs\",\"Cs\",\"Ds\"],\"xaxis\":\"x3\",\"y\":[350.0,225.0,2050.0,550.0,660.0,265.0],\"yaxis\":\"y3\",\"type\":\"bar\"},{\"alignmentgroup\":\"True\",\"hovertemplate\":\"Subject=English<br>Year=2019<br>School=Ind<br>Grades=%{x}<br>Students=%{y}<extra></extra>\",\"legendgroup\":\"English\",\"marker\":{\"color\":\"#ab63fa\",\"opacity\":0.5,\"pattern\":{\"shape\":\"\"}},\"name\":\"English\",\"offsetgroup\":\"English\",\"orientation\":\"v\",\"showlegend\":false,\"textposition\":\"auto\",\"x\":[\"As\",\"NAs\",\"Entries\",\"Bs\",\"Cs\",\"Ds\"],\"xaxis\":\"x4\",\"y\":[130.0,null,285.0,75.0,65.0,10.0],\"yaxis\":\"y4\",\"type\":\"bar\"},{\"alignmentgroup\":\"True\",\"hovertemplate\":\"Subject=English<br>Year=2018<br>School=State<br>Grades=%{x}<br>Students=%{y}<extra></extra>\",\"legendgroup\":\"English\",\"marker\":{\"color\":\"#ab63fa\",\"opacity\":0.5,\"pattern\":{\"shape\":\"\"}},\"name\":\"English\",\"offsetgroup\":\"English\",\"orientation\":\"v\",\"showlegend\":false,\"textposition\":\"auto\",\"x\":[\"As\",\"NAs\",\"Entries\",\"Bs\",\"Cs\",\"Ds\"],\"xaxis\":\"x\",\"y\":[500.0,210.0,2150.0,590.0,610.0,240.0],\"yaxis\":\"y\",\"type\":\"bar\"},{\"alignmentgroup\":\"True\",\"hovertemplate\":\"Subject=English<br>Year=2018<br>School=Ind<br>Grades=%{x}<br>Students=%{y}<extra></extra>\",\"legendgroup\":\"English\",\"marker\":{\"color\":\"#ab63fa\",\"opacity\":0.5,\"pattern\":{\"shape\":\"\"}},\"name\":\"English\",\"offsetgroup\":\"English\",\"orientation\":\"v\",\"showlegend\":false,\"textposition\":\"auto\",\"x\":[\"As\",\"NAs\",\"Entries\",\"Bs\",\"Cs\",\"Ds\"],\"xaxis\":\"x2\",\"y\":[135.0,5.0,320.0,110.0,60.0,10.0],\"yaxis\":\"y2\",\"type\":\"bar\"},{\"alignmentgroup\":\"True\",\"hovertemplate\":\"Subject=French<br>Year=2022<br>School=State<br>Grades=%{x}<br>Students=%{y}<extra></extra>\",\"legendgroup\":\"French\",\"marker\":{\"color\":\"#FFA15A\",\"opacity\":0.5,\"pattern\":{\"shape\":\"\"}},\"name\":\"French\",\"offsetgroup\":\"French\",\"orientation\":\"v\",\"showlegend\":true,\"textposition\":\"auto\",\"x\":[\"As\",\"NAs\",\"Entries\",\"Bs\",\"Cs\",\"Ds\"],\"xaxis\":\"x9\",\"y\":[155.0,30.0,400.0,80.0,85.0,50.0],\"yaxis\":\"y9\",\"type\":\"bar\"},{\"alignmentgroup\":\"True\",\"hovertemplate\":\"Subject=French<br>Year=2022<br>School=Ind<br>Grades=%{x}<br>Students=%{y}<extra></extra>\",\"legendgroup\":\"French\",\"marker\":{\"color\":\"#FFA15A\",\"opacity\":0.5,\"pattern\":{\"shape\":\"\"}},\"name\":\"French\",\"offsetgroup\":\"French\",\"orientation\":\"v\",\"showlegend\":false,\"textposition\":\"auto\",\"x\":[\"As\",\"NAs\",\"Entries\",\"Bs\",\"Cs\",\"Ds\"],\"xaxis\":\"x10\",\"y\":[60.0,null,90.0,15.0,10.0,5.0],\"yaxis\":\"y10\",\"type\":\"bar\"},{\"alignmentgroup\":\"True\",\"hovertemplate\":\"Subject=French<br>Year=2021<br>School=State<br>Grades=%{x}<br>Students=%{y}<extra></extra>\",\"legendgroup\":\"French\",\"marker\":{\"color\":\"#FFA15A\",\"opacity\":0.5,\"pattern\":{\"shape\":\"\"}},\"name\":\"French\",\"offsetgroup\":\"French\",\"orientation\":\"v\",\"showlegend\":false,\"textposition\":\"auto\",\"x\":[\"As\",\"NAs\",\"Entries\",\"Bs\",\"Cs\",\"Ds\"],\"xaxis\":\"x7\",\"y\":[260.0,10.0,475.0,115.0,70.0,20.0],\"yaxis\":\"y7\",\"type\":\"bar\"},{\"alignmentgroup\":\"True\",\"hovertemplate\":\"Subject=French<br>Year=2021<br>School=Ind<br>Grades=%{x}<br>Students=%{y}<extra></extra>\",\"legendgroup\":\"French\",\"marker\":{\"color\":\"#FFA15A\",\"opacity\":0.5,\"pattern\":{\"shape\":\"\"}},\"name\":\"French\",\"offsetgroup\":\"French\",\"orientation\":\"v\",\"showlegend\":false,\"textposition\":\"auto\",\"x\":[\"As\",\"NAs\",\"Entries\",\"Bs\",\"Cs\",\"Ds\"],\"xaxis\":\"x8\",\"y\":[80.0,0.0,95.0,10.0,5.0,0.0],\"yaxis\":\"y8\",\"type\":\"bar\"},{\"alignmentgroup\":\"True\",\"hovertemplate\":\"Subject=French<br>Year=2020<br>School=State<br>Grades=%{x}<br>Students=%{y}<extra></extra>\",\"legendgroup\":\"French\",\"marker\":{\"color\":\"#FFA15A\",\"opacity\":0.5,\"pattern\":{\"shape\":\"\"}},\"name\":\"French\",\"offsetgroup\":\"French\",\"orientation\":\"v\",\"showlegend\":false,\"textposition\":\"auto\",\"x\":[\"As\",\"NAs\",\"Entries\",\"Bs\",\"Cs\",\"Ds\"],\"xaxis\":\"x5\",\"y\":[240.0,null,430.0,115.0,55.0,20.0],\"yaxis\":\"y5\",\"type\":\"bar\"},{\"alignmentgroup\":\"True\",\"hovertemplate\":\"Subject=French<br>Year=2020<br>School=Ind<br>Grades=%{x}<br>Students=%{y}<extra></extra>\",\"legendgroup\":\"French\",\"marker\":{\"color\":\"#FFA15A\",\"opacity\":0.5,\"pattern\":{\"shape\":\"\"}},\"name\":\"French\",\"offsetgroup\":\"French\",\"orientation\":\"v\",\"showlegend\":false,\"textposition\":\"auto\",\"x\":[\"As\",\"NAs\",\"Entries\",\"Bs\",\"Cs\",\"Ds\"],\"xaxis\":\"x6\",\"y\":[85.0,0.0,120.0,30.0,5.0,0.0],\"yaxis\":\"y6\",\"type\":\"bar\"},{\"alignmentgroup\":\"True\",\"hovertemplate\":\"Subject=French<br>Year=2019<br>School=State<br>Grades=%{x}<br>Students=%{y}<extra></extra>\",\"legendgroup\":\"French\",\"marker\":{\"color\":\"#FFA15A\",\"opacity\":0.5,\"pattern\":{\"shape\":\"\"}},\"name\":\"French\",\"offsetgroup\":\"French\",\"orientation\":\"v\",\"showlegend\":false,\"textposition\":\"auto\",\"x\":[\"As\",\"NAs\",\"Entries\",\"Bs\",\"Cs\",\"Ds\"],\"xaxis\":\"x3\",\"y\":[150.0,95.0,460.0,85.0,100.0,30.0],\"yaxis\":\"y3\",\"type\":\"bar\"},{\"alignmentgroup\":\"True\",\"hovertemplate\":\"Subject=French<br>Year=2019<br>School=Ind<br>Grades=%{x}<br>Students=%{y}<extra></extra>\",\"legendgroup\":\"French\",\"marker\":{\"color\":\"#FFA15A\",\"opacity\":0.5,\"pattern\":{\"shape\":\"\"}},\"name\":\"French\",\"offsetgroup\":\"French\",\"orientation\":\"v\",\"showlegend\":false,\"textposition\":\"auto\",\"x\":[\"As\",\"NAs\",\"Entries\",\"Bs\",\"Cs\",\"Ds\"],\"xaxis\":\"x4\",\"y\":[70.0,5.0,115.0,25.0,10.0,5.0],\"yaxis\":\"y4\",\"type\":\"bar\"},{\"alignmentgroup\":\"True\",\"hovertemplate\":\"Subject=French<br>Year=2018<br>School=State<br>Grades=%{x}<br>Students=%{y}<extra></extra>\",\"legendgroup\":\"French\",\"marker\":{\"color\":\"#FFA15A\",\"opacity\":0.5,\"pattern\":{\"shape\":\"\"}},\"name\":\"French\",\"offsetgroup\":\"French\",\"orientation\":\"v\",\"showlegend\":false,\"textposition\":\"auto\",\"x\":[\"As\",\"NAs\",\"Entries\",\"Bs\",\"Cs\",\"Ds\"],\"xaxis\":\"x\",\"y\":[195.0,45.0,500.0,135.0,95.0,35.0],\"yaxis\":\"y\",\"type\":\"bar\"},{\"alignmentgroup\":\"True\",\"hovertemplate\":\"Subject=French<br>Year=2018<br>School=Ind<br>Grades=%{x}<br>Students=%{y}<extra></extra>\",\"legendgroup\":\"French\",\"marker\":{\"color\":\"#FFA15A\",\"opacity\":0.5,\"pattern\":{\"shape\":\"\"}},\"name\":\"French\",\"offsetgroup\":\"French\",\"orientation\":\"v\",\"showlegend\":false,\"textposition\":\"auto\",\"x\":[\"As\",\"NAs\",\"Entries\",\"Bs\",\"Cs\",\"Ds\"],\"xaxis\":\"x2\",\"y\":[70.0,null,125.0,30.0,15.0,5.0],\"yaxis\":\"y2\",\"type\":\"bar\"},{\"alignmentgroup\":\"True\",\"hovertemplate\":\"Subject=Gaelic (Learners)<br>Year=2022<br>School=State<br>Grades=%{x}<br>Students=%{y}<extra></extra>\",\"legendgroup\":\"Gaelic (Learners)\",\"marker\":{\"color\":\"#19d3f3\",\"opacity\":0.5,\"pattern\":{\"shape\":\"\"}},\"name\":\"Gaelic (Learners)\",\"offsetgroup\":\"Gaelic (Learners)\",\"orientation\":\"v\",\"showlegend\":true,\"textposition\":\"auto\",\"x\":[\"As\",\"NAs\",\"Entries\",\"Bs\",\"Cs\",\"Ds\"],\"xaxis\":\"x9\",\"y\":[null,0.0,5.0,null,null,0.0],\"yaxis\":\"y9\",\"type\":\"bar\"},{\"alignmentgroup\":\"True\",\"hovertemplate\":\"Subject=Gaelic (Learners)<br>Year=2021<br>School=State<br>Grades=%{x}<br>Students=%{y}<extra></extra>\",\"legendgroup\":\"Gaelic (Learners)\",\"marker\":{\"color\":\"#19d3f3\",\"opacity\":0.5,\"pattern\":{\"shape\":\"\"}},\"name\":\"Gaelic (Learners)\",\"offsetgroup\":\"Gaelic (Learners)\",\"orientation\":\"v\",\"showlegend\":false,\"textposition\":\"auto\",\"x\":[\"As\",\"NAs\",\"Entries\",\"Bs\",\"Cs\",\"Ds\"],\"xaxis\":\"x7\",\"y\":[5.0,0.0,10.0,5.0,0.0,0.0],\"yaxis\":\"y7\",\"type\":\"bar\"},{\"alignmentgroup\":\"True\",\"hovertemplate\":\"Subject=Gaelic (Learners)<br>Year=2020<br>School=State<br>Grades=%{x}<br>Students=%{y}<extra></extra>\",\"legendgroup\":\"Gaelic (Learners)\",\"marker\":{\"color\":\"#19d3f3\",\"opacity\":0.5,\"pattern\":{\"shape\":\"\"}},\"name\":\"Gaelic (Learners)\",\"offsetgroup\":\"Gaelic (Learners)\",\"orientation\":\"v\",\"showlegend\":false,\"textposition\":\"auto\",\"x\":[\"As\",\"NAs\",\"Entries\",\"Bs\",\"Cs\",\"Ds\"],\"xaxis\":\"x5\",\"y\":[5.0,0.0,10.0,5.0,0.0,0.0],\"yaxis\":\"y5\",\"type\":\"bar\"},{\"alignmentgroup\":\"True\",\"hovertemplate\":\"Subject=Gaelic (Learners)<br>Year=2019<br>School=State<br>Grades=%{x}<br>Students=%{y}<extra></extra>\",\"legendgroup\":\"Gaelic (Learners)\",\"marker\":{\"color\":\"#19d3f3\",\"opacity\":0.5,\"pattern\":{\"shape\":\"\"}},\"name\":\"Gaelic (Learners)\",\"offsetgroup\":\"Gaelic (Learners)\",\"orientation\":\"v\",\"showlegend\":false,\"textposition\":\"auto\",\"x\":[\"As\",\"NAs\",\"Entries\",\"Bs\",\"Cs\",\"Ds\"],\"xaxis\":\"x3\",\"y\":[5.0,null,15.0,5.0,5.0,0.0],\"yaxis\":\"y3\",\"type\":\"bar\"},{\"alignmentgroup\":\"True\",\"hovertemplate\":\"Subject=Gaelic (Learners)<br>Year=2018<br>School=State<br>Grades=%{x}<br>Students=%{y}<extra></extra>\",\"legendgroup\":\"Gaelic (Learners)\",\"marker\":{\"color\":\"#19d3f3\",\"opacity\":0.5,\"pattern\":{\"shape\":\"\"}},\"name\":\"Gaelic (Learners)\",\"offsetgroup\":\"Gaelic (Learners)\",\"orientation\":\"v\",\"showlegend\":false,\"textposition\":\"auto\",\"x\":[\"As\",\"NAs\",\"Entries\",\"Bs\",\"Cs\",\"Ds\"],\"xaxis\":\"x\",\"y\":[null,0.0,10.0,null,5.0,0.0],\"yaxis\":\"y\",\"type\":\"bar\"},{\"alignmentgroup\":\"True\",\"hovertemplate\":\"Subject=G\\u00e0idhlig<br>Year=2022<br>School=State<br>Grades=%{x}<br>Students=%{y}<extra></extra>\",\"legendgroup\":\"G\\u00e0idhlig\",\"marker\":{\"color\":\"#FF6692\",\"opacity\":0.5,\"pattern\":{\"shape\":\"\"}},\"name\":\"G\\u00e0idhlig\",\"offsetgroup\":\"G\\u00e0idhlig\",\"orientation\":\"v\",\"showlegend\":true,\"textposition\":\"auto\",\"x\":[\"As\",\"NAs\",\"Entries\",\"Bs\",\"Cs\",\"Ds\"],\"xaxis\":\"x9\",\"y\":[10.0,null,25.0,10.0,0.0,5.0],\"yaxis\":\"y9\",\"type\":\"bar\"},{\"alignmentgroup\":\"True\",\"hovertemplate\":\"Subject=G\\u00e0idhlig<br>Year=2021<br>School=State<br>Grades=%{x}<br>Students=%{y}<extra></extra>\",\"legendgroup\":\"G\\u00e0idhlig\",\"marker\":{\"color\":\"#FF6692\",\"opacity\":0.5,\"pattern\":{\"shape\":\"\"}},\"name\":\"G\\u00e0idhlig\",\"offsetgroup\":\"G\\u00e0idhlig\",\"orientation\":\"v\",\"showlegend\":false,\"textposition\":\"auto\",\"x\":[\"As\",\"NAs\",\"Entries\",\"Bs\",\"Cs\",\"Ds\"],\"xaxis\":\"x7\",\"y\":[20.0,0.0,30.0,5.0,5.0,0.0],\"yaxis\":\"y7\",\"type\":\"bar\"},{\"alignmentgroup\":\"True\",\"hovertemplate\":\"Subject=G\\u00e0idhlig<br>Year=2020<br>School=State<br>Grades=%{x}<br>Students=%{y}<extra></extra>\",\"legendgroup\":\"G\\u00e0idhlig\",\"marker\":{\"color\":\"#FF6692\",\"opacity\":0.5,\"pattern\":{\"shape\":\"\"}},\"name\":\"G\\u00e0idhlig\",\"offsetgroup\":\"G\\u00e0idhlig\",\"orientation\":\"v\",\"showlegend\":false,\"textposition\":\"auto\",\"x\":[\"As\",\"NAs\",\"Entries\",\"Bs\",\"Cs\",\"Ds\"],\"xaxis\":\"x5\",\"y\":[25.0,null,45.0,10.0,5.0,0.0],\"yaxis\":\"y5\",\"type\":\"bar\"},{\"alignmentgroup\":\"True\",\"hovertemplate\":\"Subject=G\\u00e0idhlig<br>Year=2019<br>School=State<br>Grades=%{x}<br>Students=%{y}<extra></extra>\",\"legendgroup\":\"G\\u00e0idhlig\",\"marker\":{\"color\":\"#FF6692\",\"opacity\":0.5,\"pattern\":{\"shape\":\"\"}},\"name\":\"G\\u00e0idhlig\",\"offsetgroup\":\"G\\u00e0idhlig\",\"orientation\":\"v\",\"showlegend\":false,\"textposition\":\"auto\",\"x\":[\"As\",\"NAs\",\"Entries\",\"Bs\",\"Cs\",\"Ds\"],\"xaxis\":\"x3\",\"y\":[15.0,0.0,30.0,5.0,5.0,5.0],\"yaxis\":\"y3\",\"type\":\"bar\"},{\"alignmentgroup\":\"True\",\"hovertemplate\":\"Subject=G\\u00e0idhlig<br>Year=2018<br>School=State<br>Grades=%{x}<br>Students=%{y}<extra></extra>\",\"legendgroup\":\"G\\u00e0idhlig\",\"marker\":{\"color\":\"#FF6692\",\"opacity\":0.5,\"pattern\":{\"shape\":\"\"}},\"name\":\"G\\u00e0idhlig\",\"offsetgroup\":\"G\\u00e0idhlig\",\"orientation\":\"v\",\"showlegend\":false,\"textposition\":\"auto\",\"x\":[\"As\",\"NAs\",\"Entries\",\"Bs\",\"Cs\",\"Ds\"],\"xaxis\":\"x\",\"y\":[20.0,null,30.0,0.0,5.0,5.0],\"yaxis\":\"y\",\"type\":\"bar\"},{\"alignmentgroup\":\"True\",\"hovertemplate\":\"Subject=Geography<br>Year=2022<br>School=State<br>Grades=%{x}<br>Students=%{y}<extra></extra>\",\"legendgroup\":\"Geography\",\"marker\":{\"color\":\"#B6E880\",\"opacity\":0.5,\"pattern\":{\"shape\":\"\"}},\"name\":\"Geography\",\"offsetgroup\":\"Geography\",\"orientation\":\"v\",\"showlegend\":true,\"textposition\":\"auto\",\"x\":[\"As\",\"NAs\",\"Entries\",\"Bs\",\"Cs\",\"Ds\"],\"xaxis\":\"x9\",\"y\":[150.0,25.0,785.0,275.0,240.0,95.0],\"yaxis\":\"y9\",\"type\":\"bar\"},{\"alignmentgroup\":\"True\",\"hovertemplate\":\"Subject=Geography<br>Year=2022<br>School=Ind<br>Grades=%{x}<br>Students=%{y}<extra></extra>\",\"legendgroup\":\"Geography\",\"marker\":{\"color\":\"#B6E880\",\"opacity\":0.5,\"pattern\":{\"shape\":\"\"}},\"name\":\"Geography\",\"offsetgroup\":\"Geography\",\"orientation\":\"v\",\"showlegend\":false,\"textposition\":\"auto\",\"x\":[\"As\",\"NAs\",\"Entries\",\"Bs\",\"Cs\",\"Ds\"],\"xaxis\":\"x10\",\"y\":[100.0,0.0,230.0,80.0,40.0,10.0],\"yaxis\":\"y10\",\"type\":\"bar\"},{\"alignmentgroup\":\"True\",\"hovertemplate\":\"Subject=Geography<br>Year=2021<br>School=State<br>Grades=%{x}<br>Students=%{y}<extra></extra>\",\"legendgroup\":\"Geography\",\"marker\":{\"color\":\"#B6E880\",\"opacity\":0.5,\"pattern\":{\"shape\":\"\"}},\"name\":\"Geography\",\"offsetgroup\":\"Geography\",\"orientation\":\"v\",\"showlegend\":false,\"textposition\":\"auto\",\"x\":[\"As\",\"NAs\",\"Entries\",\"Bs\",\"Cs\",\"Ds\"],\"xaxis\":\"x7\",\"y\":[265.0,20.0,620.0,170.0,140.0,30.0],\"yaxis\":\"y7\",\"type\":\"bar\"},{\"alignmentgroup\":\"True\",\"hovertemplate\":\"Subject=Geography<br>Year=2021<br>School=Ind<br>Grades=%{x}<br>Students=%{y}<extra></extra>\",\"legendgroup\":\"Geography\",\"marker\":{\"color\":\"#B6E880\",\"opacity\":0.5,\"pattern\":{\"shape\":\"\"}},\"name\":\"Geography\",\"offsetgroup\":\"Geography\",\"orientation\":\"v\",\"showlegend\":false,\"textposition\":\"auto\",\"x\":[\"As\",\"NAs\",\"Entries\",\"Bs\",\"Cs\",\"Ds\"],\"xaxis\":\"x8\",\"y\":[105.0,0.0,175.0,50.0,15.0,5.0],\"yaxis\":\"y8\",\"type\":\"bar\"},{\"alignmentgroup\":\"True\",\"hovertemplate\":\"Subject=Geography<br>Year=2020<br>School=State<br>Grades=%{x}<br>Students=%{y}<extra></extra>\",\"legendgroup\":\"Geography\",\"marker\":{\"color\":\"#B6E880\",\"opacity\":0.5,\"pattern\":{\"shape\":\"\"}},\"name\":\"Geography\",\"offsetgroup\":\"Geography\",\"orientation\":\"v\",\"showlegend\":false,\"textposition\":\"auto\",\"x\":[\"As\",\"NAs\",\"Entries\",\"Bs\",\"Cs\",\"Ds\"],\"xaxis\":\"x5\",\"y\":[200.0,10.0,555.0,195.0,125.0,25.0],\"yaxis\":\"y5\",\"type\":\"bar\"},{\"alignmentgroup\":\"True\",\"hovertemplate\":\"Subject=Geography<br>Year=2020<br>School=Ind<br>Grades=%{x}<br>Students=%{y}<extra></extra>\",\"legendgroup\":\"Geography\",\"marker\":{\"color\":\"#B6E880\",\"opacity\":0.5,\"pattern\":{\"shape\":\"\"}},\"name\":\"Geography\",\"offsetgroup\":\"Geography\",\"orientation\":\"v\",\"showlegend\":false,\"textposition\":\"auto\",\"x\":[\"As\",\"NAs\",\"Entries\",\"Bs\",\"Cs\",\"Ds\"],\"xaxis\":\"x6\",\"y\":[115.0,0.0,195.0,55.0,25.0,0.0],\"yaxis\":\"y6\",\"type\":\"bar\"},{\"alignmentgroup\":\"True\",\"hovertemplate\":\"Subject=Geography<br>Year=2019<br>School=State<br>Grades=%{x}<br>Students=%{y}<extra></extra>\",\"legendgroup\":\"Geography\",\"marker\":{\"color\":\"#B6E880\",\"opacity\":0.5,\"pattern\":{\"shape\":\"\"}},\"name\":\"Geography\",\"offsetgroup\":\"Geography\",\"orientation\":\"v\",\"showlegend\":false,\"textposition\":\"auto\",\"x\":[\"As\",\"NAs\",\"Entries\",\"Bs\",\"Cs\",\"Ds\"],\"xaxis\":\"x3\",\"y\":[125.0,45.0,565.0,175.0,165.0,55.0],\"yaxis\":\"y3\",\"type\":\"bar\"},{\"alignmentgroup\":\"True\",\"hovertemplate\":\"Subject=Geography<br>Year=2019<br>School=Ind<br>Grades=%{x}<br>Students=%{y}<extra></extra>\",\"legendgroup\":\"Geography\",\"marker\":{\"color\":\"#B6E880\",\"opacity\":0.5,\"pattern\":{\"shape\":\"\"}},\"name\":\"Geography\",\"offsetgroup\":\"Geography\",\"orientation\":\"v\",\"showlegend\":false,\"textposition\":\"auto\",\"x\":[\"As\",\"NAs\",\"Entries\",\"Bs\",\"Cs\",\"Ds\"],\"xaxis\":\"x4\",\"y\":[65.0,null,145.0,60.0,15.0,5.0],\"yaxis\":\"y4\",\"type\":\"bar\"},{\"alignmentgroup\":\"True\",\"hovertemplate\":\"Subject=Geography<br>Year=2018<br>School=State<br>Grades=%{x}<br>Students=%{y}<extra></extra>\",\"legendgroup\":\"Geography\",\"marker\":{\"color\":\"#B6E880\",\"opacity\":0.5,\"pattern\":{\"shape\":\"\"}},\"name\":\"Geography\",\"offsetgroup\":\"Geography\",\"orientation\":\"v\",\"showlegend\":false,\"textposition\":\"auto\",\"x\":[\"As\",\"NAs\",\"Entries\",\"Bs\",\"Cs\",\"Ds\"],\"xaxis\":\"x\",\"y\":[140.0,40.0,615.0,215.0,175.0,45.0],\"yaxis\":\"y\",\"type\":\"bar\"},{\"alignmentgroup\":\"True\",\"hovertemplate\":\"Subject=Geography<br>Year=2018<br>School=Ind<br>Grades=%{x}<br>Students=%{y}<extra></extra>\",\"legendgroup\":\"Geography\",\"marker\":{\"color\":\"#B6E880\",\"opacity\":0.5,\"pattern\":{\"shape\":\"\"}},\"name\":\"Geography\",\"offsetgroup\":\"Geography\",\"orientation\":\"v\",\"showlegend\":false,\"textposition\":\"auto\",\"x\":[\"As\",\"NAs\",\"Entries\",\"Bs\",\"Cs\",\"Ds\"],\"xaxis\":\"x2\",\"y\":[80.0,null,190.0,70.0,35.0,0.0],\"yaxis\":\"y2\",\"type\":\"bar\"},{\"alignmentgroup\":\"True\",\"hovertemplate\":\"Subject=German<br>Year=2022<br>School=State<br>Grades=%{x}<br>Students=%{y}<extra></extra>\",\"legendgroup\":\"German\",\"marker\":{\"color\":\"#FF97FF\",\"opacity\":0.5,\"pattern\":{\"shape\":\"\"}},\"name\":\"German\",\"offsetgroup\":\"German\",\"orientation\":\"v\",\"showlegend\":true,\"textposition\":\"auto\",\"x\":[\"As\",\"NAs\",\"Entries\",\"Bs\",\"Cs\",\"Ds\"],\"xaxis\":\"x9\",\"y\":[35.0,null,65.0,15.0,5.0,10.0],\"yaxis\":\"y9\",\"type\":\"bar\"},{\"alignmentgroup\":\"True\",\"hovertemplate\":\"Subject=German<br>Year=2022<br>School=Ind<br>Grades=%{x}<br>Students=%{y}<extra></extra>\",\"legendgroup\":\"German\",\"marker\":{\"color\":\"#FF97FF\",\"opacity\":0.5,\"pattern\":{\"shape\":\"\"}},\"name\":\"German\",\"offsetgroup\":\"German\",\"orientation\":\"v\",\"showlegend\":false,\"textposition\":\"auto\",\"x\":[\"As\",\"NAs\",\"Entries\",\"Bs\",\"Cs\",\"Ds\"],\"xaxis\":\"x10\",\"y\":[25.0,null,40.0,10.0,5.0,0.0],\"yaxis\":\"y10\",\"type\":\"bar\"},{\"alignmentgroup\":\"True\",\"hovertemplate\":\"Subject=German<br>Year=2021<br>School=State<br>Grades=%{x}<br>Students=%{y}<extra></extra>\",\"legendgroup\":\"German\",\"marker\":{\"color\":\"#FF97FF\",\"opacity\":0.5,\"pattern\":{\"shape\":\"\"}},\"name\":\"German\",\"offsetgroup\":\"German\",\"orientation\":\"v\",\"showlegend\":false,\"textposition\":\"auto\",\"x\":[\"As\",\"NAs\",\"Entries\",\"Bs\",\"Cs\",\"Ds\"],\"xaxis\":\"x7\",\"y\":[60.0,null,100.0,20.0,15.0,5.0],\"yaxis\":\"y7\",\"type\":\"bar\"},{\"alignmentgroup\":\"True\",\"hovertemplate\":\"Subject=German<br>Year=2021<br>School=Ind<br>Grades=%{x}<br>Students=%{y}<extra></extra>\",\"legendgroup\":\"German\",\"marker\":{\"color\":\"#FF97FF\",\"opacity\":0.5,\"pattern\":{\"shape\":\"\"}},\"name\":\"German\",\"offsetgroup\":\"German\",\"orientation\":\"v\",\"showlegend\":false,\"textposition\":\"auto\",\"x\":[\"As\",\"NAs\",\"Entries\",\"Bs\",\"Cs\",\"Ds\"],\"xaxis\":\"x8\",\"y\":[35.0,null,40.0,5.0,0.0,0.0],\"yaxis\":\"y8\",\"type\":\"bar\"},{\"alignmentgroup\":\"True\",\"hovertemplate\":\"Subject=German<br>Year=2020<br>School=State<br>Grades=%{x}<br>Students=%{y}<extra></extra>\",\"legendgroup\":\"German\",\"marker\":{\"color\":\"#FF97FF\",\"opacity\":0.5,\"pattern\":{\"shape\":\"\"}},\"name\":\"German\",\"offsetgroup\":\"German\",\"orientation\":\"v\",\"showlegend\":false,\"textposition\":\"auto\",\"x\":[\"As\",\"NAs\",\"Entries\",\"Bs\",\"Cs\",\"Ds\"],\"xaxis\":\"x5\",\"y\":[30.0,null,75.0,20.0,20.0,0.0],\"yaxis\":\"y5\",\"type\":\"bar\"},{\"alignmentgroup\":\"True\",\"hovertemplate\":\"Subject=German<br>Year=2020<br>School=Ind<br>Grades=%{x}<br>Students=%{y}<extra></extra>\",\"legendgroup\":\"German\",\"marker\":{\"color\":\"#FF97FF\",\"opacity\":0.5,\"pattern\":{\"shape\":\"\"}},\"name\":\"German\",\"offsetgroup\":\"German\",\"orientation\":\"v\",\"showlegend\":false,\"textposition\":\"auto\",\"x\":[\"As\",\"NAs\",\"Entries\",\"Bs\",\"Cs\",\"Ds\"],\"xaxis\":\"x6\",\"y\":[25.0,0.0,30.0,5.0,0.0,0.0],\"yaxis\":\"y6\",\"type\":\"bar\"},{\"alignmentgroup\":\"True\",\"hovertemplate\":\"Subject=German<br>Year=2019<br>School=State<br>Grades=%{x}<br>Students=%{y}<extra></extra>\",\"legendgroup\":\"German\",\"marker\":{\"color\":\"#FF97FF\",\"opacity\":0.5,\"pattern\":{\"shape\":\"\"}},\"name\":\"German\",\"offsetgroup\":\"German\",\"orientation\":\"v\",\"showlegend\":false,\"textposition\":\"auto\",\"x\":[\"As\",\"NAs\",\"Entries\",\"Bs\",\"Cs\",\"Ds\"],\"xaxis\":\"x3\",\"y\":[45.0,null,80.0,20.0,10.0,0.0],\"yaxis\":\"y3\",\"type\":\"bar\"},{\"alignmentgroup\":\"True\",\"hovertemplate\":\"Subject=German<br>Year=2019<br>School=Ind<br>Grades=%{x}<br>Students=%{y}<extra></extra>\",\"legendgroup\":\"German\",\"marker\":{\"color\":\"#FF97FF\",\"opacity\":0.5,\"pattern\":{\"shape\":\"\"}},\"name\":\"German\",\"offsetgroup\":\"German\",\"orientation\":\"v\",\"showlegend\":false,\"textposition\":\"auto\",\"x\":[\"As\",\"NAs\",\"Entries\",\"Bs\",\"Cs\",\"Ds\"],\"xaxis\":\"x4\",\"y\":[35.0,null,50.0,10.0,5.0,0.0],\"yaxis\":\"y4\",\"type\":\"bar\"},{\"alignmentgroup\":\"True\",\"hovertemplate\":\"Subject=German<br>Year=2018<br>School=State<br>Grades=%{x}<br>Students=%{y}<extra></extra>\",\"legendgroup\":\"German\",\"marker\":{\"color\":\"#FF97FF\",\"opacity\":0.5,\"pattern\":{\"shape\":\"\"}},\"name\":\"German\",\"offsetgroup\":\"German\",\"orientation\":\"v\",\"showlegend\":false,\"textposition\":\"auto\",\"x\":[\"As\",\"NAs\",\"Entries\",\"Bs\",\"Cs\",\"Ds\"],\"xaxis\":\"x\",\"y\":[50.0,5.0,90.0,15.0,15.0,5.0],\"yaxis\":\"y\",\"type\":\"bar\"},{\"alignmentgroup\":\"True\",\"hovertemplate\":\"Subject=German<br>Year=2018<br>School=Ind<br>Grades=%{x}<br>Students=%{y}<extra></extra>\",\"legendgroup\":\"German\",\"marker\":{\"color\":\"#FF97FF\",\"opacity\":0.5,\"pattern\":{\"shape\":\"\"}},\"name\":\"German\",\"offsetgroup\":\"German\",\"orientation\":\"v\",\"showlegend\":false,\"textposition\":\"auto\",\"x\":[\"As\",\"NAs\",\"Entries\",\"Bs\",\"Cs\",\"Ds\"],\"xaxis\":\"x2\",\"y\":[30.0,0.0,35.0,5.0,0.0,0.0],\"yaxis\":\"y2\",\"type\":\"bar\"},{\"alignmentgroup\":\"True\",\"hovertemplate\":\"Subject=Graphic Communication<br>Year=2022<br>School=State<br>Grades=%{x}<br>Students=%{y}<extra></extra>\",\"legendgroup\":\"Graphic Communication\",\"marker\":{\"color\":\"#FECB52\",\"opacity\":0.5,\"pattern\":{\"shape\":\"\"}},\"name\":\"Graphic Communication\",\"offsetgroup\":\"Graphic Communication\",\"orientation\":\"v\",\"showlegend\":true,\"textposition\":\"auto\",\"x\":[\"As\",\"NAs\",\"Entries\",\"Bs\",\"Cs\",\"Ds\"],\"xaxis\":\"x9\",\"y\":[60.0,90.0,445.0,90.0,115.0,90.0],\"yaxis\":\"y9\",\"type\":\"bar\"},{\"alignmentgroup\":\"True\",\"hovertemplate\":\"Subject=Graphic Communication<br>Year=2022<br>School=Ind<br>Grades=%{x}<br>Students=%{y}<extra></extra>\",\"legendgroup\":\"Graphic Communication\",\"marker\":{\"color\":\"#FECB52\",\"opacity\":0.5,\"pattern\":{\"shape\":\"\"}},\"name\":\"Graphic Communication\",\"offsetgroup\":\"Graphic Communication\",\"orientation\":\"v\",\"showlegend\":false,\"textposition\":\"auto\",\"x\":[\"As\",\"NAs\",\"Entries\",\"Bs\",\"Cs\",\"Ds\"],\"xaxis\":\"x10\",\"y\":[10.0,null,20.0,5.0,0.0,5.0],\"yaxis\":\"y10\",\"type\":\"bar\"},{\"alignmentgroup\":\"True\",\"hovertemplate\":\"Subject=Graphic Communication<br>Year=2021<br>School=State<br>Grades=%{x}<br>Students=%{y}<extra></extra>\",\"legendgroup\":\"Graphic Communication\",\"marker\":{\"color\":\"#FECB52\",\"opacity\":0.5,\"pattern\":{\"shape\":\"\"}},\"name\":\"Graphic Communication\",\"offsetgroup\":\"Graphic Communication\",\"orientation\":\"v\",\"showlegend\":false,\"textposition\":\"auto\",\"x\":[\"As\",\"NAs\",\"Entries\",\"Bs\",\"Cs\",\"Ds\"],\"xaxis\":\"x7\",\"y\":[140.0,25.0,450.0,115.0,125.0,45.0],\"yaxis\":\"y7\",\"type\":\"bar\"},{\"alignmentgroup\":\"True\",\"hovertemplate\":\"Subject=Graphic Communication<br>Year=2021<br>School=Ind<br>Grades=%{x}<br>Students=%{y}<extra></extra>\",\"legendgroup\":\"Graphic Communication\",\"marker\":{\"color\":\"#FECB52\",\"opacity\":0.5,\"pattern\":{\"shape\":\"\"}},\"name\":\"Graphic Communication\",\"offsetgroup\":\"Graphic Communication\",\"orientation\":\"v\",\"showlegend\":false,\"textposition\":\"auto\",\"x\":[\"As\",\"NAs\",\"Entries\",\"Bs\",\"Cs\",\"Ds\"],\"xaxis\":\"x8\",\"y\":[5.0,0.0,10.0,5.0,0.0,0.0],\"yaxis\":\"y8\",\"type\":\"bar\"},{\"alignmentgroup\":\"True\",\"hovertemplate\":\"Subject=Graphic Communication<br>Year=2020<br>School=State<br>Grades=%{x}<br>Students=%{y}<extra></extra>\",\"legendgroup\":\"Graphic Communication\",\"marker\":{\"color\":\"#FECB52\",\"opacity\":0.5,\"pattern\":{\"shape\":\"\"}},\"name\":\"Graphic Communication\",\"offsetgroup\":\"Graphic Communication\",\"orientation\":\"v\",\"showlegend\":false,\"textposition\":\"auto\",\"x\":[\"As\",\"NAs\",\"Entries\",\"Bs\",\"Cs\",\"Ds\"],\"xaxis\":\"x5\",\"y\":[90.0,10.0,365.0,135.0,110.0,20.0],\"yaxis\":\"y5\",\"type\":\"bar\"},{\"alignmentgroup\":\"True\",\"hovertemplate\":\"Subject=Graphic Communication<br>Year=2020<br>School=Ind<br>Grades=%{x}<br>Students=%{y}<extra></extra>\",\"legendgroup\":\"Graphic Communication\",\"marker\":{\"color\":\"#FECB52\",\"opacity\":0.5,\"pattern\":{\"shape\":\"\"}},\"name\":\"Graphic Communication\",\"offsetgroup\":\"Graphic Communication\",\"orientation\":\"v\",\"showlegend\":false,\"textposition\":\"auto\",\"x\":[\"As\",\"NAs\",\"Entries\",\"Bs\",\"Cs\",\"Ds\"],\"xaxis\":\"x6\",\"y\":[null,0.0,10.0,null,0.0,0.0],\"yaxis\":\"y6\",\"type\":\"bar\"},{\"alignmentgroup\":\"True\",\"hovertemplate\":\"Subject=Graphic Communication<br>Year=2019<br>School=State<br>Grades=%{x}<br>Students=%{y}<extra></extra>\",\"legendgroup\":\"Graphic Communication\",\"marker\":{\"color\":\"#FECB52\",\"opacity\":0.5,\"pattern\":{\"shape\":\"\"}},\"name\":\"Graphic Communication\",\"offsetgroup\":\"Graphic Communication\",\"orientation\":\"v\",\"showlegend\":false,\"textposition\":\"auto\",\"x\":[\"As\",\"NAs\",\"Entries\",\"Bs\",\"Cs\",\"Ds\"],\"xaxis\":\"x3\",\"y\":[50.0,130.0,495.0,125.0,135.0,55.0],\"yaxis\":\"y3\",\"type\":\"bar\"},{\"alignmentgroup\":\"True\",\"hovertemplate\":\"Subject=Graphic Communication<br>Year=2019<br>School=Ind<br>Grades=%{x}<br>Students=%{y}<extra></extra>\",\"legendgroup\":\"Graphic Communication\",\"marker\":{\"color\":\"#FECB52\",\"opacity\":0.5,\"pattern\":{\"shape\":\"\"}},\"name\":\"Graphic Communication\",\"offsetgroup\":\"Graphic Communication\",\"orientation\":\"v\",\"showlegend\":false,\"textposition\":\"auto\",\"x\":[\"As\",\"NAs\",\"Entries\",\"Bs\",\"Cs\",\"Ds\"],\"xaxis\":\"x4\",\"y\":[null,null,10.0,null,0.0,5.0],\"yaxis\":\"y4\",\"type\":\"bar\"},{\"alignmentgroup\":\"True\",\"hovertemplate\":\"Subject=Graphic Communication<br>Year=2018<br>School=State<br>Grades=%{x}<br>Students=%{y}<extra></extra>\",\"legendgroup\":\"Graphic Communication\",\"marker\":{\"color\":\"#FECB52\",\"opacity\":0.5,\"pattern\":{\"shape\":\"\"}},\"name\":\"Graphic Communication\",\"offsetgroup\":\"Graphic Communication\",\"orientation\":\"v\",\"showlegend\":false,\"textposition\":\"auto\",\"x\":[\"As\",\"NAs\",\"Entries\",\"Bs\",\"Cs\",\"Ds\"],\"xaxis\":\"x\",\"y\":[50.0,115.0,505.0,120.0,160.0,60.0],\"yaxis\":\"y\",\"type\":\"bar\"},{\"alignmentgroup\":\"True\",\"hovertemplate\":\"Subject=Graphic Communication<br>Year=2018<br>School=Ind<br>Grades=%{x}<br>Students=%{y}<extra></extra>\",\"legendgroup\":\"Graphic Communication\",\"marker\":{\"color\":\"#FECB52\",\"opacity\":0.5,\"pattern\":{\"shape\":\"\"}},\"name\":\"Graphic Communication\",\"offsetgroup\":\"Graphic Communication\",\"orientation\":\"v\",\"showlegend\":false,\"textposition\":\"auto\",\"x\":[\"As\",\"NAs\",\"Entries\",\"Bs\",\"Cs\",\"Ds\"],\"xaxis\":\"x2\",\"y\":[10.0,null,20.0,10.0,0.0,0.0],\"yaxis\":\"y2\",\"type\":\"bar\"},{\"alignmentgroup\":\"True\",\"hovertemplate\":\"Subject=Health and Food Technology<br>Year=2022<br>School=State<br>Grades=%{x}<br>Students=%{y}<extra></extra>\",\"legendgroup\":\"Health and Food Technology\",\"marker\":{\"color\":\"#636efa\",\"opacity\":0.5,\"pattern\":{\"shape\":\"\"}},\"name\":\"Health and Food Technology\",\"offsetgroup\":\"Health and Food Technology\",\"orientation\":\"v\",\"showlegend\":true,\"textposition\":\"auto\",\"x\":[\"As\",\"NAs\",\"Entries\",\"Bs\",\"Cs\",\"Ds\"],\"xaxis\":\"x9\",\"y\":[15.0,null,60.0,15.0,20.0,10.0],\"yaxis\":\"y9\",\"type\":\"bar\"},{\"alignmentgroup\":\"True\",\"hovertemplate\":\"Subject=Health and Food Technology<br>Year=2022<br>School=Ind<br>Grades=%{x}<br>Students=%{y}<extra></extra>\",\"legendgroup\":\"Health and Food Technology\",\"marker\":{\"color\":\"#636efa\",\"opacity\":0.5,\"pattern\":{\"shape\":\"\"}},\"name\":\"Health and Food Technology\",\"offsetgroup\":\"Health and Food Technology\",\"orientation\":\"v\",\"showlegend\":false,\"textposition\":\"auto\",\"x\":[\"As\",\"NAs\",\"Entries\",\"Bs\",\"Cs\",\"Ds\"],\"xaxis\":\"x10\",\"y\":[null,0.0,5.0,null,null,0.0],\"yaxis\":\"y10\",\"type\":\"bar\"},{\"alignmentgroup\":\"True\",\"hovertemplate\":\"Subject=Health and Food Technology<br>Year=2021<br>School=State<br>Grades=%{x}<br>Students=%{y}<extra></extra>\",\"legendgroup\":\"Health and Food Technology\",\"marker\":{\"color\":\"#636efa\",\"opacity\":0.5,\"pattern\":{\"shape\":\"\"}},\"name\":\"Health and Food Technology\",\"offsetgroup\":\"Health and Food Technology\",\"orientation\":\"v\",\"showlegend\":false,\"textposition\":\"auto\",\"x\":[\"As\",\"NAs\",\"Entries\",\"Bs\",\"Cs\",\"Ds\"],\"xaxis\":\"x7\",\"y\":[15.0,null,35.0,10.0,10.0,0.0],\"yaxis\":\"y7\",\"type\":\"bar\"},{\"alignmentgroup\":\"True\",\"hovertemplate\":\"Subject=Health and Food Technology<br>Year=2021<br>School=Ind<br>Grades=%{x}<br>Students=%{y}<extra></extra>\",\"legendgroup\":\"Health and Food Technology\",\"marker\":{\"color\":\"#636efa\",\"opacity\":0.5,\"pattern\":{\"shape\":\"\"}},\"name\":\"Health and Food Technology\",\"offsetgroup\":\"Health and Food Technology\",\"orientation\":\"v\",\"showlegend\":false,\"textposition\":\"auto\",\"x\":[\"As\",\"NAs\",\"Entries\",\"Bs\",\"Cs\",\"Ds\"],\"xaxis\":\"x8\",\"y\":[null,0.0,null,null,null,null],\"yaxis\":\"y8\",\"type\":\"bar\"},{\"alignmentgroup\":\"True\",\"hovertemplate\":\"Subject=Health and Food Technology<br>Year=2020<br>School=State<br>Grades=%{x}<br>Students=%{y}<extra></extra>\",\"legendgroup\":\"Health and Food Technology\",\"marker\":{\"color\":\"#636efa\",\"opacity\":0.5,\"pattern\":{\"shape\":\"\"}},\"name\":\"Health and Food Technology\",\"offsetgroup\":\"Health and Food Technology\",\"orientation\":\"v\",\"showlegend\":false,\"textposition\":\"auto\",\"x\":[\"As\",\"NAs\",\"Entries\",\"Bs\",\"Cs\",\"Ds\"],\"xaxis\":\"x5\",\"y\":[10.0,0.0,20.0,5.0,5.0,0.0],\"yaxis\":\"y5\",\"type\":\"bar\"},{\"alignmentgroup\":\"True\",\"hovertemplate\":\"Subject=Health and Food Technology<br>Year=2020<br>School=Ind<br>Grades=%{x}<br>Students=%{y}<extra></extra>\",\"legendgroup\":\"Health and Food Technology\",\"marker\":{\"color\":\"#636efa\",\"opacity\":0.5,\"pattern\":{\"shape\":\"\"}},\"name\":\"Health and Food Technology\",\"offsetgroup\":\"Health and Food Technology\",\"orientation\":\"v\",\"showlegend\":false,\"textposition\":\"auto\",\"x\":[\"As\",\"NAs\",\"Entries\",\"Bs\",\"Cs\",\"Ds\"],\"xaxis\":\"x6\",\"y\":[null,0.0,5.0,null,0.0,0.0],\"yaxis\":\"y6\",\"type\":\"bar\"},{\"alignmentgroup\":\"True\",\"hovertemplate\":\"Subject=Health and Food Technology<br>Year=2019<br>School=State<br>Grades=%{x}<br>Students=%{y}<extra></extra>\",\"legendgroup\":\"Health and Food Technology\",\"marker\":{\"color\":\"#636efa\",\"opacity\":0.5,\"pattern\":{\"shape\":\"\"}},\"name\":\"Health and Food Technology\",\"offsetgroup\":\"Health and Food Technology\",\"orientation\":\"v\",\"showlegend\":false,\"textposition\":\"auto\",\"x\":[\"As\",\"NAs\",\"Entries\",\"Bs\",\"Cs\",\"Ds\"],\"xaxis\":\"x3\",\"y\":[null,null,15.0,null,null,0.0],\"yaxis\":\"y3\",\"type\":\"bar\"},{\"alignmentgroup\":\"True\",\"hovertemplate\":\"Subject=Health and Food Technology<br>Year=2019<br>School=Ind<br>Grades=%{x}<br>Students=%{y}<extra></extra>\",\"legendgroup\":\"Health and Food Technology\",\"marker\":{\"color\":\"#636efa\",\"opacity\":0.5,\"pattern\":{\"shape\":\"\"}},\"name\":\"Health and Food Technology\",\"offsetgroup\":\"Health and Food Technology\",\"orientation\":\"v\",\"showlegend\":false,\"textposition\":\"auto\",\"x\":[\"As\",\"NAs\",\"Entries\",\"Bs\",\"Cs\",\"Ds\"],\"xaxis\":\"x4\",\"y\":[0.0,0.0,5.0,null,null,null],\"yaxis\":\"y4\",\"type\":\"bar\"},{\"alignmentgroup\":\"True\",\"hovertemplate\":\"Subject=Health and Food Technology<br>Year=2018<br>School=State<br>Grades=%{x}<br>Students=%{y}<extra></extra>\",\"legendgroup\":\"Health and Food Technology\",\"marker\":{\"color\":\"#636efa\",\"opacity\":0.5,\"pattern\":{\"shape\":\"\"}},\"name\":\"Health and Food Technology\",\"offsetgroup\":\"Health and Food Technology\",\"orientation\":\"v\",\"showlegend\":false,\"textposition\":\"auto\",\"x\":[\"As\",\"NAs\",\"Entries\",\"Bs\",\"Cs\",\"Ds\"],\"xaxis\":\"x\",\"y\":[null,5.0,40.0,null,15.0,5.0],\"yaxis\":\"y\",\"type\":\"bar\"},{\"alignmentgroup\":\"True\",\"hovertemplate\":\"Subject=Health and Food Technology<br>Year=2018<br>School=Ind<br>Grades=%{x}<br>Students=%{y}<extra></extra>\",\"legendgroup\":\"Health and Food Technology\",\"marker\":{\"color\":\"#636efa\",\"opacity\":0.5,\"pattern\":{\"shape\":\"\"}},\"name\":\"Health and Food Technology\",\"offsetgroup\":\"Health and Food Technology\",\"orientation\":\"v\",\"showlegend\":false,\"textposition\":\"auto\",\"x\":[\"As\",\"NAs\",\"Entries\",\"Bs\",\"Cs\",\"Ds\"],\"xaxis\":\"x2\",\"y\":[0.0,0.0,null,0.0,null,null],\"yaxis\":\"y2\",\"type\":\"bar\"},{\"alignmentgroup\":\"True\",\"hovertemplate\":\"Subject=History<br>Year=2022<br>School=State<br>Grades=%{x}<br>Students=%{y}<extra></extra>\",\"legendgroup\":\"History\",\"marker\":{\"color\":\"#EF553B\",\"opacity\":0.5,\"pattern\":{\"shape\":\"\"}},\"name\":\"History\",\"offsetgroup\":\"History\",\"orientation\":\"v\",\"showlegend\":true,\"textposition\":\"auto\",\"x\":[\"As\",\"NAs\",\"Entries\",\"Bs\",\"Cs\",\"Ds\"],\"xaxis\":\"x9\",\"y\":[280.0,75.0,1175.0,360.0,285.0,175.0],\"yaxis\":\"y9\",\"type\":\"bar\"},{\"alignmentgroup\":\"True\",\"hovertemplate\":\"Subject=History<br>Year=2022<br>School=Ind<br>Grades=%{x}<br>Students=%{y}<extra></extra>\",\"legendgroup\":\"History\",\"marker\":{\"color\":\"#EF553B\",\"opacity\":0.5,\"pattern\":{\"shape\":\"\"}},\"name\":\"History\",\"offsetgroup\":\"History\",\"orientation\":\"v\",\"showlegend\":false,\"textposition\":\"auto\",\"x\":[\"As\",\"NAs\",\"Entries\",\"Bs\",\"Cs\",\"Ds\"],\"xaxis\":\"x10\",\"y\":[185.0,10.0,285.0,55.0,30.0,5.0],\"yaxis\":\"y10\",\"type\":\"bar\"},{\"alignmentgroup\":\"True\",\"hovertemplate\":\"Subject=History<br>Year=2021<br>School=State<br>Grades=%{x}<br>Students=%{y}<extra></extra>\",\"legendgroup\":\"History\",\"marker\":{\"color\":\"#EF553B\",\"opacity\":0.5,\"pattern\":{\"shape\":\"\"}},\"name\":\"History\",\"offsetgroup\":\"History\",\"orientation\":\"v\",\"showlegend\":false,\"textposition\":\"auto\",\"x\":[\"As\",\"NAs\",\"Entries\",\"Bs\",\"Cs\",\"Ds\"],\"xaxis\":\"x7\",\"y\":[505.0,30.0,1210.0,360.0,250.0,65.0],\"yaxis\":\"y7\",\"type\":\"bar\"},{\"alignmentgroup\":\"True\",\"hovertemplate\":\"Subject=History<br>Year=2021<br>School=Ind<br>Grades=%{x}<br>Students=%{y}<extra></extra>\",\"legendgroup\":\"History\",\"marker\":{\"color\":\"#EF553B\",\"opacity\":0.5,\"pattern\":{\"shape\":\"\"}},\"name\":\"History\",\"offsetgroup\":\"History\",\"orientation\":\"v\",\"showlegend\":false,\"textposition\":\"auto\",\"x\":[\"As\",\"NAs\",\"Entries\",\"Bs\",\"Cs\",\"Ds\"],\"xaxis\":\"x8\",\"y\":[165.0,null,225.0,45.0,10.0,5.0],\"yaxis\":\"y8\",\"type\":\"bar\"},{\"alignmentgroup\":\"True\",\"hovertemplate\":\"Subject=History<br>Year=2020<br>School=State<br>Grades=%{x}<br>Students=%{y}<extra></extra>\",\"legendgroup\":\"History\",\"marker\":{\"color\":\"#EF553B\",\"opacity\":0.5,\"pattern\":{\"shape\":\"\"}},\"name\":\"History\",\"offsetgroup\":\"History\",\"orientation\":\"v\",\"showlegend\":false,\"textposition\":\"auto\",\"x\":[\"As\",\"NAs\",\"Entries\",\"Bs\",\"Cs\",\"Ds\"],\"xaxis\":\"x5\",\"y\":[325.0,20.0,965.0,355.0,215.0,50.0],\"yaxis\":\"y5\",\"type\":\"bar\"},{\"alignmentgroup\":\"True\",\"hovertemplate\":\"Subject=History<br>Year=2020<br>School=Ind<br>Grades=%{x}<br>Students=%{y}<extra></extra>\",\"legendgroup\":\"History\",\"marker\":{\"color\":\"#EF553B\",\"opacity\":0.5,\"pattern\":{\"shape\":\"\"}},\"name\":\"History\",\"offsetgroup\":\"History\",\"orientation\":\"v\",\"showlegend\":false,\"textposition\":\"auto\",\"x\":[\"As\",\"NAs\",\"Entries\",\"Bs\",\"Cs\",\"Ds\"],\"xaxis\":\"x6\",\"y\":[155.0,null,240.0,70.0,15.0,0.0],\"yaxis\":\"y6\",\"type\":\"bar\"},{\"alignmentgroup\":\"True\",\"hovertemplate\":\"Subject=History<br>Year=2019<br>School=State<br>Grades=%{x}<br>Students=%{y}<extra></extra>\",\"legendgroup\":\"History\",\"marker\":{\"color\":\"#EF553B\",\"opacity\":0.5,\"pattern\":{\"shape\":\"\"}},\"name\":\"History\",\"offsetgroup\":\"History\",\"orientation\":\"v\",\"showlegend\":false,\"textposition\":\"auto\",\"x\":[\"As\",\"NAs\",\"Entries\",\"Bs\",\"Cs\",\"Ds\"],\"xaxis\":\"x3\",\"y\":[195.0,140.0,995.0,280.0,275.0,105.0],\"yaxis\":\"y3\",\"type\":\"bar\"},{\"alignmentgroup\":\"True\",\"hovertemplate\":\"Subject=History<br>Year=2019<br>School=Ind<br>Grades=%{x}<br>Students=%{y}<extra></extra>\",\"legendgroup\":\"History\",\"marker\":{\"color\":\"#EF553B\",\"opacity\":0.5,\"pattern\":{\"shape\":\"\"}},\"name\":\"History\",\"offsetgroup\":\"History\",\"orientation\":\"v\",\"showlegend\":false,\"textposition\":\"auto\",\"x\":[\"As\",\"NAs\",\"Entries\",\"Bs\",\"Cs\",\"Ds\"],\"xaxis\":\"x4\",\"y\":[155.0,5.0,260.0,65.0,25.0,5.0],\"yaxis\":\"y4\",\"type\":\"bar\"},{\"alignmentgroup\":\"True\",\"hovertemplate\":\"Subject=History<br>Year=2018<br>School=State<br>Grades=%{x}<br>Students=%{y}<extra></extra>\",\"legendgroup\":\"History\",\"marker\":{\"color\":\"#EF553B\",\"opacity\":0.5,\"pattern\":{\"shape\":\"\"}},\"name\":\"History\",\"offsetgroup\":\"History\",\"orientation\":\"v\",\"showlegend\":false,\"textposition\":\"auto\",\"x\":[\"As\",\"NAs\",\"Entries\",\"Bs\",\"Cs\",\"Ds\"],\"xaxis\":\"x\",\"y\":[255.0,160.0,1215.0,360.0,330.0,110.0],\"yaxis\":\"y\",\"type\":\"bar\"},{\"alignmentgroup\":\"True\",\"hovertemplate\":\"Subject=History<br>Year=2018<br>School=Ind<br>Grades=%{x}<br>Students=%{y}<extra></extra>\",\"legendgroup\":\"History\",\"marker\":{\"color\":\"#EF553B\",\"opacity\":0.5,\"pattern\":{\"shape\":\"\"}},\"name\":\"History\",\"offsetgroup\":\"History\",\"orientation\":\"v\",\"showlegend\":false,\"textposition\":\"auto\",\"x\":[\"As\",\"NAs\",\"Entries\",\"Bs\",\"Cs\",\"Ds\"],\"xaxis\":\"x2\",\"y\":[195.0,null,295.0,60.0,30.0,5.0],\"yaxis\":\"y2\",\"type\":\"bar\"},{\"alignmentgroup\":\"True\",\"hovertemplate\":\"Subject=Italian<br>Year=2022<br>School=State<br>Grades=%{x}<br>Students=%{y}<extra></extra>\",\"legendgroup\":\"Italian\",\"marker\":{\"color\":\"#00cc96\",\"opacity\":0.5,\"pattern\":{\"shape\":\"\"}},\"name\":\"Italian\",\"offsetgroup\":\"Italian\",\"orientation\":\"v\",\"showlegend\":true,\"textposition\":\"auto\",\"x\":[\"As\",\"NAs\",\"Entries\",\"Bs\",\"Cs\",\"Ds\"],\"xaxis\":\"x9\",\"y\":[15.0,null,15.0,0.0,0.0,0.0],\"yaxis\":\"y9\",\"type\":\"bar\"},{\"alignmentgroup\":\"True\",\"hovertemplate\":\"Subject=Italian<br>Year=2022<br>School=Ind<br>Grades=%{x}<br>Students=%{y}<extra></extra>\",\"legendgroup\":\"Italian\",\"marker\":{\"color\":\"#00cc96\",\"opacity\":0.5,\"pattern\":{\"shape\":\"\"}},\"name\":\"Italian\",\"offsetgroup\":\"Italian\",\"orientation\":\"v\",\"showlegend\":false,\"textposition\":\"auto\",\"x\":[\"As\",\"NAs\",\"Entries\",\"Bs\",\"Cs\",\"Ds\"],\"xaxis\":\"x10\",\"y\":[10.0,0.0,10.0,0.0,0.0,0.0],\"yaxis\":\"y10\",\"type\":\"bar\"},{\"alignmentgroup\":\"True\",\"hovertemplate\":\"Subject=Italian<br>Year=2021<br>School=State<br>Grades=%{x}<br>Students=%{y}<extra></extra>\",\"legendgroup\":\"Italian\",\"marker\":{\"color\":\"#00cc96\",\"opacity\":0.5,\"pattern\":{\"shape\":\"\"}},\"name\":\"Italian\",\"offsetgroup\":\"Italian\",\"orientation\":\"v\",\"showlegend\":false,\"textposition\":\"auto\",\"x\":[\"As\",\"NAs\",\"Entries\",\"Bs\",\"Cs\",\"Ds\"],\"xaxis\":\"x7\",\"y\":[20.0,0.0,20.0,0.0,0.0,0.0],\"yaxis\":\"y7\",\"type\":\"bar\"},{\"alignmentgroup\":\"True\",\"hovertemplate\":\"Subject=Italian<br>Year=2021<br>School=Ind<br>Grades=%{x}<br>Students=%{y}<extra></extra>\",\"legendgroup\":\"Italian\",\"marker\":{\"color\":\"#00cc96\",\"opacity\":0.5,\"pattern\":{\"shape\":\"\"}},\"name\":\"Italian\",\"offsetgroup\":\"Italian\",\"orientation\":\"v\",\"showlegend\":false,\"textposition\":\"auto\",\"x\":[\"As\",\"NAs\",\"Entries\",\"Bs\",\"Cs\",\"Ds\"],\"xaxis\":\"x8\",\"y\":[10.0,0.0,15.0,0.0,5.0,0.0],\"yaxis\":\"y8\",\"type\":\"bar\"},{\"alignmentgroup\":\"True\",\"hovertemplate\":\"Subject=Italian<br>Year=2020<br>School=State<br>Grades=%{x}<br>Students=%{y}<extra></extra>\",\"legendgroup\":\"Italian\",\"marker\":{\"color\":\"#00cc96\",\"opacity\":0.5,\"pattern\":{\"shape\":\"\"}},\"name\":\"Italian\",\"offsetgroup\":\"Italian\",\"orientation\":\"v\",\"showlegend\":false,\"textposition\":\"auto\",\"x\":[\"As\",\"NAs\",\"Entries\",\"Bs\",\"Cs\",\"Ds\"],\"xaxis\":\"x5\",\"y\":[10.0,0.0,15.0,5.0,0.0,0.0],\"yaxis\":\"y5\",\"type\":\"bar\"},{\"alignmentgroup\":\"True\",\"hovertemplate\":\"Subject=Italian<br>Year=2020<br>School=Ind<br>Grades=%{x}<br>Students=%{y}<extra></extra>\",\"legendgroup\":\"Italian\",\"marker\":{\"color\":\"#00cc96\",\"opacity\":0.5,\"pattern\":{\"shape\":\"\"}},\"name\":\"Italian\",\"offsetgroup\":\"Italian\",\"orientation\":\"v\",\"showlegend\":false,\"textposition\":\"auto\",\"x\":[\"As\",\"NAs\",\"Entries\",\"Bs\",\"Cs\",\"Ds\"],\"xaxis\":\"x6\",\"y\":[10.0,0.0,10.0,0.0,0.0,0.0],\"yaxis\":\"y6\",\"type\":\"bar\"},{\"alignmentgroup\":\"True\",\"hovertemplate\":\"Subject=Italian<br>Year=2019<br>School=State<br>Grades=%{x}<br>Students=%{y}<extra></extra>\",\"legendgroup\":\"Italian\",\"marker\":{\"color\":\"#00cc96\",\"opacity\":0.5,\"pattern\":{\"shape\":\"\"}},\"name\":\"Italian\",\"offsetgroup\":\"Italian\",\"orientation\":\"v\",\"showlegend\":false,\"textposition\":\"auto\",\"x\":[\"As\",\"NAs\",\"Entries\",\"Bs\",\"Cs\",\"Ds\"],\"xaxis\":\"x3\",\"y\":[10.0,null,20.0,5.0,0.0,0.0],\"yaxis\":\"y3\",\"type\":\"bar\"},{\"alignmentgroup\":\"True\",\"hovertemplate\":\"Subject=Italian<br>Year=2019<br>School=Ind<br>Grades=%{x}<br>Students=%{y}<extra></extra>\",\"legendgroup\":\"Italian\",\"marker\":{\"color\":\"#00cc96\",\"opacity\":0.5,\"pattern\":{\"shape\":\"\"}},\"name\":\"Italian\",\"offsetgroup\":\"Italian\",\"orientation\":\"v\",\"showlegend\":false,\"textposition\":\"auto\",\"x\":[\"As\",\"NAs\",\"Entries\",\"Bs\",\"Cs\",\"Ds\"],\"xaxis\":\"x4\",\"y\":[5.0,0.0,10.0,5.0,0.0,0.0],\"yaxis\":\"y4\",\"type\":\"bar\"},{\"alignmentgroup\":\"True\",\"hovertemplate\":\"Subject=Italian<br>Year=2018<br>School=State<br>Grades=%{x}<br>Students=%{y}<extra></extra>\",\"legendgroup\":\"Italian\",\"marker\":{\"color\":\"#00cc96\",\"opacity\":0.5,\"pattern\":{\"shape\":\"\"}},\"name\":\"Italian\",\"offsetgroup\":\"Italian\",\"orientation\":\"v\",\"showlegend\":false,\"textposition\":\"auto\",\"x\":[\"As\",\"NAs\",\"Entries\",\"Bs\",\"Cs\",\"Ds\"],\"xaxis\":\"x\",\"y\":[20.0,null,25.0,5.0,0.0,0.0],\"yaxis\":\"y\",\"type\":\"bar\"},{\"alignmentgroup\":\"True\",\"hovertemplate\":\"Subject=Italian<br>Year=2018<br>School=Ind<br>Grades=%{x}<br>Students=%{y}<extra></extra>\",\"legendgroup\":\"Italian\",\"marker\":{\"color\":\"#00cc96\",\"opacity\":0.5,\"pattern\":{\"shape\":\"\"}},\"name\":\"Italian\",\"offsetgroup\":\"Italian\",\"orientation\":\"v\",\"showlegend\":false,\"textposition\":\"auto\",\"x\":[\"As\",\"NAs\",\"Entries\",\"Bs\",\"Cs\",\"Ds\"],\"xaxis\":\"x2\",\"y\":[10.0,0.0,10.0,0.0,0.0,0.0],\"yaxis\":\"y2\",\"type\":\"bar\"},{\"alignmentgroup\":\"True\",\"hovertemplate\":\"Subject=Latin<br>Year=2022<br>School=State<br>Grades=%{x}<br>Students=%{y}<extra></extra>\",\"legendgroup\":\"Latin\",\"marker\":{\"color\":\"#ab63fa\",\"opacity\":0.5,\"pattern\":{\"shape\":\"\"}},\"name\":\"Latin\",\"offsetgroup\":\"Latin\",\"orientation\":\"v\",\"showlegend\":true,\"textposition\":\"auto\",\"x\":[\"As\",\"NAs\",\"Entries\",\"Bs\",\"Cs\",\"Ds\"],\"xaxis\":\"x9\",\"y\":[null,0.0,null,null,null,null],\"yaxis\":\"y9\",\"type\":\"bar\"},{\"alignmentgroup\":\"True\",\"hovertemplate\":\"Subject=Latin<br>Year=2022<br>School=Ind<br>Grades=%{x}<br>Students=%{y}<extra></extra>\",\"legendgroup\":\"Latin\",\"marker\":{\"color\":\"#ab63fa\",\"opacity\":0.5,\"pattern\":{\"shape\":\"\"}},\"name\":\"Latin\",\"offsetgroup\":\"Latin\",\"orientation\":\"v\",\"showlegend\":false,\"textposition\":\"auto\",\"x\":[\"As\",\"NAs\",\"Entries\",\"Bs\",\"Cs\",\"Ds\"],\"xaxis\":\"x10\",\"y\":[15.0,null,30.0,10.0,5.0,0.0],\"yaxis\":\"y10\",\"type\":\"bar\"},{\"alignmentgroup\":\"True\",\"hovertemplate\":\"Subject=Latin<br>Year=2021<br>School=State<br>Grades=%{x}<br>Students=%{y}<extra></extra>\",\"legendgroup\":\"Latin\",\"marker\":{\"color\":\"#ab63fa\",\"opacity\":0.5,\"pattern\":{\"shape\":\"\"}},\"name\":\"Latin\",\"offsetgroup\":\"Latin\",\"orientation\":\"v\",\"showlegend\":false,\"textposition\":\"auto\",\"x\":[\"As\",\"NAs\",\"Entries\",\"Bs\",\"Cs\",\"Ds\"],\"xaxis\":\"x7\",\"y\":[null,0.0,null,null,null,null],\"yaxis\":\"y7\",\"type\":\"bar\"},{\"alignmentgroup\":\"True\",\"hovertemplate\":\"Subject=Latin<br>Year=2021<br>School=Ind<br>Grades=%{x}<br>Students=%{y}<extra></extra>\",\"legendgroup\":\"Latin\",\"marker\":{\"color\":\"#ab63fa\",\"opacity\":0.5,\"pattern\":{\"shape\":\"\"}},\"name\":\"Latin\",\"offsetgroup\":\"Latin\",\"orientation\":\"v\",\"showlegend\":false,\"textposition\":\"auto\",\"x\":[\"As\",\"NAs\",\"Entries\",\"Bs\",\"Cs\",\"Ds\"],\"xaxis\":\"x8\",\"y\":[25.0,0.0,35.0,5.0,5.0,0.0],\"yaxis\":\"y8\",\"type\":\"bar\"},{\"alignmentgroup\":\"True\",\"hovertemplate\":\"Subject=Latin<br>Year=2020<br>School=State<br>Grades=%{x}<br>Students=%{y}<extra></extra>\",\"legendgroup\":\"Latin\",\"marker\":{\"color\":\"#ab63fa\",\"opacity\":0.5,\"pattern\":{\"shape\":\"\"}},\"name\":\"Latin\",\"offsetgroup\":\"Latin\",\"orientation\":\"v\",\"showlegend\":false,\"textposition\":\"auto\",\"x\":[\"As\",\"NAs\",\"Entries\",\"Bs\",\"Cs\",\"Ds\"],\"xaxis\":\"x5\",\"y\":[null,null,0.0,null,null,null],\"yaxis\":\"y5\",\"type\":\"bar\"},{\"alignmentgroup\":\"True\",\"hovertemplate\":\"Subject=Latin<br>Year=2020<br>School=Ind<br>Grades=%{x}<br>Students=%{y}<extra></extra>\",\"legendgroup\":\"Latin\",\"marker\":{\"color\":\"#ab63fa\",\"opacity\":0.5,\"pattern\":{\"shape\":\"\"}},\"name\":\"Latin\",\"offsetgroup\":\"Latin\",\"orientation\":\"v\",\"showlegend\":false,\"textposition\":\"auto\",\"x\":[\"As\",\"NAs\",\"Entries\",\"Bs\",\"Cs\",\"Ds\"],\"xaxis\":\"x6\",\"y\":[25.0,0.0,35.0,5.0,5.0,0.0],\"yaxis\":\"y6\",\"type\":\"bar\"},{\"alignmentgroup\":\"True\",\"hovertemplate\":\"Subject=Latin<br>Year=2019<br>School=State<br>Grades=%{x}<br>Students=%{y}<extra></extra>\",\"legendgroup\":\"Latin\",\"marker\":{\"color\":\"#ab63fa\",\"opacity\":0.5,\"pattern\":{\"shape\":\"\"}},\"name\":\"Latin\",\"offsetgroup\":\"Latin\",\"orientation\":\"v\",\"showlegend\":false,\"textposition\":\"auto\",\"x\":[\"As\",\"NAs\",\"Entries\",\"Bs\",\"Cs\",\"Ds\"],\"xaxis\":\"x3\",\"y\":[null,10.0,10.0,null,null,null],\"yaxis\":\"y3\",\"type\":\"bar\"},{\"alignmentgroup\":\"True\",\"hovertemplate\":\"Subject=Latin<br>Year=2019<br>School=Ind<br>Grades=%{x}<br>Students=%{y}<extra></extra>\",\"legendgroup\":\"Latin\",\"marker\":{\"color\":\"#ab63fa\",\"opacity\":0.5,\"pattern\":{\"shape\":\"\"}},\"name\":\"Latin\",\"offsetgroup\":\"Latin\",\"orientation\":\"v\",\"showlegend\":false,\"textposition\":\"auto\",\"x\":[\"As\",\"NAs\",\"Entries\",\"Bs\",\"Cs\",\"Ds\"],\"xaxis\":\"x4\",\"y\":[20.0,null,50.0,10.0,10.0,5.0],\"yaxis\":\"y4\",\"type\":\"bar\"},{\"alignmentgroup\":\"True\",\"hovertemplate\":\"Subject=Latin<br>Year=2018<br>School=State<br>Grades=%{x}<br>Students=%{y}<extra></extra>\",\"legendgroup\":\"Latin\",\"marker\":{\"color\":\"#ab63fa\",\"opacity\":0.5,\"pattern\":{\"shape\":\"\"}},\"name\":\"Latin\",\"offsetgroup\":\"Latin\",\"orientation\":\"v\",\"showlegend\":false,\"textposition\":\"auto\",\"x\":[\"As\",\"NAs\",\"Entries\",\"Bs\",\"Cs\",\"Ds\"],\"xaxis\":\"x\",\"y\":[null,null,10.0,null,null,null],\"yaxis\":\"y\",\"type\":\"bar\"},{\"alignmentgroup\":\"True\",\"hovertemplate\":\"Subject=Latin<br>Year=2018<br>School=Ind<br>Grades=%{x}<br>Students=%{y}<extra></extra>\",\"legendgroup\":\"Latin\",\"marker\":{\"color\":\"#ab63fa\",\"opacity\":0.5,\"pattern\":{\"shape\":\"\"}},\"name\":\"Latin\",\"offsetgroup\":\"Latin\",\"orientation\":\"v\",\"showlegend\":false,\"textposition\":\"auto\",\"x\":[\"As\",\"NAs\",\"Entries\",\"Bs\",\"Cs\",\"Ds\"],\"xaxis\":\"x2\",\"y\":[15.0,0.0,35.0,15.0,5.0,0.0],\"yaxis\":\"y2\",\"type\":\"bar\"},{\"alignmentgroup\":\"True\",\"hovertemplate\":\"Subject=Mathematics<br>Year=2022<br>School=State<br>Grades=%{x}<br>Students=%{y}<extra></extra>\",\"legendgroup\":\"Mathematics\",\"marker\":{\"color\":\"#FFA15A\",\"opacity\":0.5,\"pattern\":{\"shape\":\"\"}},\"name\":\"Mathematics\",\"offsetgroup\":\"Mathematics\",\"orientation\":\"v\",\"showlegend\":true,\"textposition\":\"auto\",\"x\":[\"As\",\"NAs\",\"Entries\",\"Bs\",\"Cs\",\"Ds\"],\"xaxis\":\"x9\",\"y\":[1125.0,420.0,3265.0,715.0,595.0,410.0],\"yaxis\":\"y9\",\"type\":\"bar\"},{\"alignmentgroup\":\"True\",\"hovertemplate\":\"Subject=Mathematics<br>Year=2022<br>School=Ind<br>Grades=%{x}<br>Students=%{y}<extra></extra>\",\"legendgroup\":\"Mathematics\",\"marker\":{\"color\":\"#FFA15A\",\"opacity\":0.5,\"pattern\":{\"shape\":\"\"}},\"name\":\"Mathematics\",\"offsetgroup\":\"Mathematics\",\"orientation\":\"v\",\"showlegend\":false,\"textposition\":\"auto\",\"x\":[\"As\",\"NAs\",\"Entries\",\"Bs\",\"Cs\",\"Ds\"],\"xaxis\":\"x10\",\"y\":[375.0,20.0,620.0,125.0,70.0,30.0],\"yaxis\":\"y10\",\"type\":\"bar\"},{\"alignmentgroup\":\"True\",\"hovertemplate\":\"Subject=Mathematics<br>Year=2021<br>School=State<br>Grades=%{x}<br>Students=%{y}<extra></extra>\",\"legendgroup\":\"Mathematics\",\"marker\":{\"color\":\"#FFA15A\",\"opacity\":0.5,\"pattern\":{\"shape\":\"\"}},\"name\":\"Mathematics\",\"offsetgroup\":\"Mathematics\",\"orientation\":\"v\",\"showlegend\":false,\"textposition\":\"auto\",\"x\":[\"As\",\"NAs\",\"Entries\",\"Bs\",\"Cs\",\"Ds\"],\"xaxis\":\"x7\",\"y\":[1710.0,265.0,3140.0,545.0,425.0,200.0],\"yaxis\":\"y7\",\"type\":\"bar\"},{\"alignmentgroup\":\"True\",\"hovertemplate\":\"Subject=Mathematics<br>Year=2021<br>School=Ind<br>Grades=%{x}<br>Students=%{y}<extra></extra>\",\"legendgroup\":\"Mathematics\",\"marker\":{\"color\":\"#FFA15A\",\"opacity\":0.5,\"pattern\":{\"shape\":\"\"}},\"name\":\"Mathematics\",\"offsetgroup\":\"Mathematics\",\"orientation\":\"v\",\"showlegend\":false,\"textposition\":\"auto\",\"x\":[\"As\",\"NAs\",\"Entries\",\"Bs\",\"Cs\",\"Ds\"],\"xaxis\":\"x8\",\"y\":[455.0,15.0,605.0,80.0,40.0,15.0],\"yaxis\":\"y8\",\"type\":\"bar\"},{\"alignmentgroup\":\"True\",\"hovertemplate\":\"Subject=Mathematics<br>Year=2020<br>School=State<br>Grades=%{x}<br>Students=%{y}<extra></extra>\",\"legendgroup\":\"Mathematics\",\"marker\":{\"color\":\"#FFA15A\",\"opacity\":0.5,\"pattern\":{\"shape\":\"\"}},\"name\":\"Mathematics\",\"offsetgroup\":\"Mathematics\",\"orientation\":\"v\",\"showlegend\":false,\"textposition\":\"auto\",\"x\":[\"As\",\"NAs\",\"Entries\",\"Bs\",\"Cs\",\"Ds\"],\"xaxis\":\"x5\",\"y\":[1280.0,165.0,2955.0,680.0,630.0,200.0],\"yaxis\":\"y5\",\"type\":\"bar\"},{\"alignmentgroup\":\"True\",\"hovertemplate\":\"Subject=Mathematics<br>Year=2020<br>School=Ind<br>Grades=%{x}<br>Students=%{y}<extra></extra>\",\"legendgroup\":\"Mathematics\",\"marker\":{\"color\":\"#FFA15A\",\"opacity\":0.5,\"pattern\":{\"shape\":\"\"}},\"name\":\"Mathematics\",\"offsetgroup\":\"Mathematics\",\"orientation\":\"v\",\"showlegend\":false,\"textposition\":\"auto\",\"x\":[\"As\",\"NAs\",\"Entries\",\"Bs\",\"Cs\",\"Ds\"],\"xaxis\":\"x6\",\"y\":[445.0,10.0,645.0,110.0,60.0,20.0],\"yaxis\":\"y6\",\"type\":\"bar\"},{\"alignmentgroup\":\"True\",\"hovertemplate\":\"Subject=Mathematics<br>Year=2019<br>School=State<br>Grades=%{x}<br>Students=%{y}<extra></extra>\",\"legendgroup\":\"Mathematics\",\"marker\":{\"color\":\"#FFA15A\",\"opacity\":0.5,\"pattern\":{\"shape\":\"\"}},\"name\":\"Mathematics\",\"offsetgroup\":\"Mathematics\",\"orientation\":\"v\",\"showlegend\":false,\"textposition\":\"auto\",\"x\":[\"As\",\"NAs\",\"Entries\",\"Bs\",\"Cs\",\"Ds\"],\"xaxis\":\"x3\",\"y\":[1020.0,605.0,3070.0,650.0,565.0,230.0],\"yaxis\":\"y3\",\"type\":\"bar\"},{\"alignmentgroup\":\"True\",\"hovertemplate\":\"Subject=Mathematics<br>Year=2019<br>School=Ind<br>Grades=%{x}<br>Students=%{y}<extra></extra>\",\"legendgroup\":\"Mathematics\",\"marker\":{\"color\":\"#FFA15A\",\"opacity\":0.5,\"pattern\":{\"shape\":\"\"}},\"name\":\"Mathematics\",\"offsetgroup\":\"Mathematics\",\"orientation\":\"v\",\"showlegend\":false,\"textposition\":\"auto\",\"x\":[\"As\",\"NAs\",\"Entries\",\"Bs\",\"Cs\",\"Ds\"],\"xaxis\":\"x4\",\"y\":[345.0,30.0,595.0,110.0,75.0,35.0],\"yaxis\":\"y4\",\"type\":\"bar\"},{\"alignmentgroup\":\"True\",\"hovertemplate\":\"Subject=Mathematics<br>Year=2018<br>School=State<br>Grades=%{x}<br>Students=%{y}<extra></extra>\",\"legendgroup\":\"Mathematics\",\"marker\":{\"color\":\"#FFA15A\",\"opacity\":0.5,\"pattern\":{\"shape\":\"\"}},\"name\":\"Mathematics\",\"offsetgroup\":\"Mathematics\",\"orientation\":\"v\",\"showlegend\":false,\"textposition\":\"auto\",\"x\":[\"As\",\"NAs\",\"Entries\",\"Bs\",\"Cs\",\"Ds\"],\"xaxis\":\"x\",\"y\":[1000.0,635.0,3060.0,680.0,510.0,235.0],\"yaxis\":\"y\",\"type\":\"bar\"},{\"alignmentgroup\":\"True\",\"hovertemplate\":\"Subject=Mathematics<br>Year=2018<br>School=Ind<br>Grades=%{x}<br>Students=%{y}<extra></extra>\",\"legendgroup\":\"Mathematics\",\"marker\":{\"color\":\"#FFA15A\",\"opacity\":0.5,\"pattern\":{\"shape\":\"\"}},\"name\":\"Mathematics\",\"offsetgroup\":\"Mathematics\",\"orientation\":\"v\",\"showlegend\":false,\"textposition\":\"auto\",\"x\":[\"As\",\"NAs\",\"Entries\",\"Bs\",\"Cs\",\"Ds\"],\"xaxis\":\"x2\",\"y\":[365.0,35.0,580.0,100.0,60.0,20.0],\"yaxis\":\"y2\",\"type\":\"bar\"},{\"alignmentgroup\":\"True\",\"hovertemplate\":\"Subject=Mathematics of Mechanics<br>Year=2022<br>School=State<br>Grades=%{x}<br>Students=%{y}<extra></extra>\",\"legendgroup\":\"Mathematics of Mechanics\",\"marker\":{\"color\":\"#19d3f3\",\"opacity\":0.5,\"pattern\":{\"shape\":\"\"}},\"name\":\"Mathematics of Mechanics\",\"offsetgroup\":\"Mathematics of Mechanics\",\"orientation\":\"v\",\"showlegend\":true,\"textposition\":\"auto\",\"x\":[\"As\",\"NAs\",\"Entries\",\"Bs\",\"Cs\",\"Ds\"],\"xaxis\":\"x9\",\"y\":[75.0,25.0,175.0,30.0,25.0,15.0],\"yaxis\":\"y9\",\"type\":\"bar\"},{\"alignmentgroup\":\"True\",\"hovertemplate\":\"Subject=Mathematics of Mechanics<br>Year=2022<br>School=Ind<br>Grades=%{x}<br>Students=%{y}<extra></extra>\",\"legendgroup\":\"Mathematics of Mechanics\",\"marker\":{\"color\":\"#19d3f3\",\"opacity\":0.5,\"pattern\":{\"shape\":\"\"}},\"name\":\"Mathematics of Mechanics\",\"offsetgroup\":\"Mathematics of Mechanics\",\"orientation\":\"v\",\"showlegend\":false,\"textposition\":\"auto\",\"x\":[\"As\",\"NAs\",\"Entries\",\"Bs\",\"Cs\",\"Ds\"],\"xaxis\":\"x10\",\"y\":[65.0,5.0,100.0,5.0,15.0,10.0],\"yaxis\":\"y10\",\"type\":\"bar\"},{\"alignmentgroup\":\"True\",\"hovertemplate\":\"Subject=Mathematics of Mechanics<br>Year=2021<br>School=State<br>Grades=%{x}<br>Students=%{y}<extra></extra>\",\"legendgroup\":\"Mathematics of Mechanics\",\"marker\":{\"color\":\"#19d3f3\",\"opacity\":0.5,\"pattern\":{\"shape\":\"\"}},\"name\":\"Mathematics of Mechanics\",\"offsetgroup\":\"Mathematics of Mechanics\",\"orientation\":\"v\",\"showlegend\":false,\"textposition\":\"auto\",\"x\":[\"As\",\"NAs\",\"Entries\",\"Bs\",\"Cs\",\"Ds\"],\"xaxis\":\"x7\",\"y\":[95.0,25.0,200.0,30.0,35.0,15.0],\"yaxis\":\"y7\",\"type\":\"bar\"},{\"alignmentgroup\":\"True\",\"hovertemplate\":\"Subject=Mathematics of Mechanics<br>Year=2021<br>School=Ind<br>Grades=%{x}<br>Students=%{y}<extra></extra>\",\"legendgroup\":\"Mathematics of Mechanics\",\"marker\":{\"color\":\"#19d3f3\",\"opacity\":0.5,\"pattern\":{\"shape\":\"\"}},\"name\":\"Mathematics of Mechanics\",\"offsetgroup\":\"Mathematics of Mechanics\",\"orientation\":\"v\",\"showlegend\":false,\"textposition\":\"auto\",\"x\":[\"As\",\"NAs\",\"Entries\",\"Bs\",\"Cs\",\"Ds\"],\"xaxis\":\"x8\",\"y\":[85.0,null,110.0,10.0,10.0,5.0],\"yaxis\":\"y8\",\"type\":\"bar\"},{\"alignmentgroup\":\"True\",\"hovertemplate\":\"Subject=Mathematics of Mechanics<br>Year=2020<br>School=State<br>Grades=%{x}<br>Students=%{y}<extra></extra>\",\"legendgroup\":\"Mathematics of Mechanics\",\"marker\":{\"color\":\"#19d3f3\",\"opacity\":0.5,\"pattern\":{\"shape\":\"\"}},\"name\":\"Mathematics of Mechanics\",\"offsetgroup\":\"Mathematics of Mechanics\",\"orientation\":\"v\",\"showlegend\":false,\"textposition\":\"auto\",\"x\":[\"As\",\"NAs\",\"Entries\",\"Bs\",\"Cs\",\"Ds\"],\"xaxis\":\"x5\",\"y\":[110.0,10.0,180.0,25.0,30.0,5.0],\"yaxis\":\"y5\",\"type\":\"bar\"},{\"alignmentgroup\":\"True\",\"hovertemplate\":\"Subject=Mathematics of Mechanics<br>Year=2020<br>School=Ind<br>Grades=%{x}<br>Students=%{y}<extra></extra>\",\"legendgroup\":\"Mathematics of Mechanics\",\"marker\":{\"color\":\"#19d3f3\",\"opacity\":0.5,\"pattern\":{\"shape\":\"\"}},\"name\":\"Mathematics of Mechanics\",\"offsetgroup\":\"Mathematics of Mechanics\",\"orientation\":\"v\",\"showlegend\":false,\"textposition\":\"auto\",\"x\":[\"As\",\"NAs\",\"Entries\",\"Bs\",\"Cs\",\"Ds\"],\"xaxis\":\"x6\",\"y\":[100.0,null,135.0,10.0,15.0,5.0],\"yaxis\":\"y6\",\"type\":\"bar\"},{\"alignmentgroup\":\"True\",\"hovertemplate\":\"Subject=Mathematics of Mechanics<br>Year=2019<br>School=State<br>Grades=%{x}<br>Students=%{y}<extra></extra>\",\"legendgroup\":\"Mathematics of Mechanics\",\"marker\":{\"color\":\"#19d3f3\",\"opacity\":0.5,\"pattern\":{\"shape\":\"\"}},\"name\":\"Mathematics of Mechanics\",\"offsetgroup\":\"Mathematics of Mechanics\",\"orientation\":\"v\",\"showlegend\":false,\"textposition\":\"auto\",\"x\":[\"As\",\"NAs\",\"Entries\",\"Bs\",\"Cs\",\"Ds\"],\"xaxis\":\"x3\",\"y\":[70.0,35.0,195.0,30.0,45.0,15.0],\"yaxis\":\"y3\",\"type\":\"bar\"},{\"alignmentgroup\":\"True\",\"hovertemplate\":\"Subject=Mathematics of Mechanics<br>Year=2019<br>School=Ind<br>Grades=%{x}<br>Students=%{y}<extra></extra>\",\"legendgroup\":\"Mathematics of Mechanics\",\"marker\":{\"color\":\"#19d3f3\",\"opacity\":0.5,\"pattern\":{\"shape\":\"\"}},\"name\":\"Mathematics of Mechanics\",\"offsetgroup\":\"Mathematics of Mechanics\",\"orientation\":\"v\",\"showlegend\":false,\"textposition\":\"auto\",\"x\":[\"As\",\"NAs\",\"Entries\",\"Bs\",\"Cs\",\"Ds\"],\"xaxis\":\"x4\",\"y\":[50.0,10.0,95.0,15.0,15.0,5.0],\"yaxis\":\"y4\",\"type\":\"bar\"},{\"alignmentgroup\":\"True\",\"hovertemplate\":\"Subject=Mathematics of Mechanics<br>Year=2018<br>School=State<br>Grades=%{x}<br>Students=%{y}<extra></extra>\",\"legendgroup\":\"Mathematics of Mechanics\",\"marker\":{\"color\":\"#19d3f3\",\"opacity\":0.5,\"pattern\":{\"shape\":\"\"}},\"name\":\"Mathematics of Mechanics\",\"offsetgroup\":\"Mathematics of Mechanics\",\"orientation\":\"v\",\"showlegend\":false,\"textposition\":\"auto\",\"x\":[\"As\",\"NAs\",\"Entries\",\"Bs\",\"Cs\",\"Ds\"],\"xaxis\":\"x\",\"y\":[90.0,40.0,190.0,25.0,30.0,10.0],\"yaxis\":\"y\",\"type\":\"bar\"},{\"alignmentgroup\":\"True\",\"hovertemplate\":\"Subject=Mathematics of Mechanics<br>Year=2018<br>School=Ind<br>Grades=%{x}<br>Students=%{y}<extra></extra>\",\"legendgroup\":\"Mathematics of Mechanics\",\"marker\":{\"color\":\"#19d3f3\",\"opacity\":0.5,\"pattern\":{\"shape\":\"\"}},\"name\":\"Mathematics of Mechanics\",\"offsetgroup\":\"Mathematics of Mechanics\",\"orientation\":\"v\",\"showlegend\":false,\"textposition\":\"auto\",\"x\":[\"As\",\"NAs\",\"Entries\",\"Bs\",\"Cs\",\"Ds\"],\"xaxis\":\"x2\",\"y\":[65.0,10.0,115.0,15.0,20.0,5.0],\"yaxis\":\"y2\",\"type\":\"bar\"},{\"alignmentgroup\":\"True\",\"hovertemplate\":\"Subject=Modern Studies<br>Year=2022<br>School=State<br>Grades=%{x}<br>Students=%{y}<extra></extra>\",\"legendgroup\":\"Modern Studies\",\"marker\":{\"color\":\"#FF6692\",\"opacity\":0.5,\"pattern\":{\"shape\":\"\"}},\"name\":\"Modern Studies\",\"offsetgroup\":\"Modern Studies\",\"orientation\":\"v\",\"showlegend\":true,\"textposition\":\"auto\",\"x\":[\"As\",\"NAs\",\"Entries\",\"Bs\",\"Cs\",\"Ds\"],\"xaxis\":\"x9\",\"y\":[250.0,120.0,960.0,250.0,210.0,135.0],\"yaxis\":\"y9\",\"type\":\"bar\"},{\"alignmentgroup\":\"True\",\"hovertemplate\":\"Subject=Modern Studies<br>Year=2022<br>School=Ind<br>Grades=%{x}<br>Students=%{y}<extra></extra>\",\"legendgroup\":\"Modern Studies\",\"marker\":{\"color\":\"#FF6692\",\"opacity\":0.5,\"pattern\":{\"shape\":\"\"}},\"name\":\"Modern Studies\",\"offsetgroup\":\"Modern Studies\",\"orientation\":\"v\",\"showlegend\":false,\"textposition\":\"auto\",\"x\":[\"As\",\"NAs\",\"Entries\",\"Bs\",\"Cs\",\"Ds\"],\"xaxis\":\"x10\",\"y\":[110.0,null,200.0,55.0,25.0,5.0],\"yaxis\":\"y10\",\"type\":\"bar\"},{\"alignmentgroup\":\"True\",\"hovertemplate\":\"Subject=Modern Studies<br>Year=2021<br>School=State<br>Grades=%{x}<br>Students=%{y}<extra></extra>\",\"legendgroup\":\"Modern Studies\",\"marker\":{\"color\":\"#FF6692\",\"opacity\":0.5,\"pattern\":{\"shape\":\"\"}},\"name\":\"Modern Studies\",\"offsetgroup\":\"Modern Studies\",\"orientation\":\"v\",\"showlegend\":false,\"textposition\":\"auto\",\"x\":[\"As\",\"NAs\",\"Entries\",\"Bs\",\"Cs\",\"Ds\"],\"xaxis\":\"x7\",\"y\":[340.0,25.0,855.0,250.0,190.0,50.0],\"yaxis\":\"y7\",\"type\":\"bar\"},{\"alignmentgroup\":\"True\",\"hovertemplate\":\"Subject=Modern Studies<br>Year=2021<br>School=Ind<br>Grades=%{x}<br>Students=%{y}<extra></extra>\",\"legendgroup\":\"Modern Studies\",\"marker\":{\"color\":\"#FF6692\",\"opacity\":0.5,\"pattern\":{\"shape\":\"\"}},\"name\":\"Modern Studies\",\"offsetgroup\":\"Modern Studies\",\"orientation\":\"v\",\"showlegend\":false,\"textposition\":\"auto\",\"x\":[\"As\",\"NAs\",\"Entries\",\"Bs\",\"Cs\",\"Ds\"],\"xaxis\":\"x8\",\"y\":[135.0,null,205.0,55.0,10.0,5.0],\"yaxis\":\"y8\",\"type\":\"bar\"},{\"alignmentgroup\":\"True\",\"hovertemplate\":\"Subject=Modern Studies<br>Year=2020<br>School=State<br>Grades=%{x}<br>Students=%{y}<extra></extra>\",\"legendgroup\":\"Modern Studies\",\"marker\":{\"color\":\"#FF6692\",\"opacity\":0.5,\"pattern\":{\"shape\":\"\"}},\"name\":\"Modern Studies\",\"offsetgroup\":\"Modern Studies\",\"orientation\":\"v\",\"showlegend\":false,\"textposition\":\"auto\",\"x\":[\"As\",\"NAs\",\"Entries\",\"Bs\",\"Cs\",\"Ds\"],\"xaxis\":\"x5\",\"y\":[240.0,20.0,680.0,210.0,165.0,45.0],\"yaxis\":\"y5\",\"type\":\"bar\"},{\"alignmentgroup\":\"True\",\"hovertemplate\":\"Subject=Modern Studies<br>Year=2020<br>School=Ind<br>Grades=%{x}<br>Students=%{y}<extra></extra>\",\"legendgroup\":\"Modern Studies\",\"marker\":{\"color\":\"#FF6692\",\"opacity\":0.5,\"pattern\":{\"shape\":\"\"}},\"name\":\"Modern Studies\",\"offsetgroup\":\"Modern Studies\",\"orientation\":\"v\",\"showlegend\":false,\"textposition\":\"auto\",\"x\":[\"As\",\"NAs\",\"Entries\",\"Bs\",\"Cs\",\"Ds\"],\"xaxis\":\"x6\",\"y\":[120.0,null,195.0,55.0,15.0,5.0],\"yaxis\":\"y6\",\"type\":\"bar\"},{\"alignmentgroup\":\"True\",\"hovertemplate\":\"Subject=Modern Studies<br>Year=2019<br>School=State<br>Grades=%{x}<br>Students=%{y}<extra></extra>\",\"legendgroup\":\"Modern Studies\",\"marker\":{\"color\":\"#FF6692\",\"opacity\":0.5,\"pattern\":{\"shape\":\"\"}},\"name\":\"Modern Studies\",\"offsetgroup\":\"Modern Studies\",\"orientation\":\"v\",\"showlegend\":false,\"textposition\":\"auto\",\"x\":[\"As\",\"NAs\",\"Entries\",\"Bs\",\"Cs\",\"Ds\"],\"xaxis\":\"x3\",\"y\":[135.0,130.0,630.0,155.0,160.0,55.0],\"yaxis\":\"y3\",\"type\":\"bar\"},{\"alignmentgroup\":\"True\",\"hovertemplate\":\"Subject=Modern Studies<br>Year=2019<br>School=Ind<br>Grades=%{x}<br>Students=%{y}<extra></extra>\",\"legendgroup\":\"Modern Studies\",\"marker\":{\"color\":\"#FF6692\",\"opacity\":0.5,\"pattern\":{\"shape\":\"\"}},\"name\":\"Modern Studies\",\"offsetgroup\":\"Modern Studies\",\"orientation\":\"v\",\"showlegend\":false,\"textposition\":\"auto\",\"x\":[\"As\",\"NAs\",\"Entries\",\"Bs\",\"Cs\",\"Ds\"],\"xaxis\":\"x4\",\"y\":[95.0,10.0,160.0,35.0,20.0,0.0],\"yaxis\":\"y4\",\"type\":\"bar\"},{\"alignmentgroup\":\"True\",\"hovertemplate\":\"Subject=Modern Studies<br>Year=2018<br>School=State<br>Grades=%{x}<br>Students=%{y}<extra></extra>\",\"legendgroup\":\"Modern Studies\",\"marker\":{\"color\":\"#FF6692\",\"opacity\":0.5,\"pattern\":{\"shape\":\"\"}},\"name\":\"Modern Studies\",\"offsetgroup\":\"Modern Studies\",\"orientation\":\"v\",\"showlegend\":false,\"textposition\":\"auto\",\"x\":[\"As\",\"NAs\",\"Entries\",\"Bs\",\"Cs\",\"Ds\"],\"xaxis\":\"x\",\"y\":[125.0,95.0,655.0,185.0,175.0,75.0],\"yaxis\":\"y\",\"type\":\"bar\"},{\"alignmentgroup\":\"True\",\"hovertemplate\":\"Subject=Modern Studies<br>Year=2018<br>School=Ind<br>Grades=%{x}<br>Students=%{y}<extra></extra>\",\"legendgroup\":\"Modern Studies\",\"marker\":{\"color\":\"#FF6692\",\"opacity\":0.5,\"pattern\":{\"shape\":\"\"}},\"name\":\"Modern Studies\",\"offsetgroup\":\"Modern Studies\",\"orientation\":\"v\",\"showlegend\":false,\"textposition\":\"auto\",\"x\":[\"As\",\"NAs\",\"Entries\",\"Bs\",\"Cs\",\"Ds\"],\"xaxis\":\"x2\",\"y\":[80.0,10.0,175.0,50.0,35.0,0.0],\"yaxis\":\"y2\",\"type\":\"bar\"},{\"alignmentgroup\":\"True\",\"hovertemplate\":\"Subject=Music<br>Year=2022<br>School=State<br>Grades=%{x}<br>Students=%{y}<extra></extra>\",\"legendgroup\":\"Music\",\"marker\":{\"color\":\"#B6E880\",\"opacity\":0.5,\"pattern\":{\"shape\":\"\"}},\"name\":\"Music\",\"offsetgroup\":\"Music\",\"orientation\":\"v\",\"showlegend\":true,\"textposition\":\"auto\",\"x\":[\"As\",\"NAs\",\"Entries\",\"Bs\",\"Cs\",\"Ds\"],\"xaxis\":\"x9\",\"y\":[870.0,40.0,1630.0,430.0,210.0,80.0],\"yaxis\":\"y9\",\"type\":\"bar\"},{\"alignmentgroup\":\"True\",\"hovertemplate\":\"Subject=Music<br>Year=2022<br>School=Ind<br>Grades=%{x}<br>Students=%{y}<extra></extra>\",\"legendgroup\":\"Music\",\"marker\":{\"color\":\"#B6E880\",\"opacity\":0.5,\"pattern\":{\"shape\":\"\"}},\"name\":\"Music\",\"offsetgroup\":\"Music\",\"orientation\":\"v\",\"showlegend\":false,\"textposition\":\"auto\",\"x\":[\"As\",\"NAs\",\"Entries\",\"Bs\",\"Cs\",\"Ds\"],\"xaxis\":\"x10\",\"y\":[100.0,0.0,125.0,15.0,10.0,0.0],\"yaxis\":\"y10\",\"type\":\"bar\"},{\"alignmentgroup\":\"True\",\"hovertemplate\":\"Subject=Music<br>Year=2021<br>School=State<br>Grades=%{x}<br>Students=%{y}<extra></extra>\",\"legendgroup\":\"Music\",\"marker\":{\"color\":\"#B6E880\",\"opacity\":0.5,\"pattern\":{\"shape\":\"\"}},\"name\":\"Music\",\"offsetgroup\":\"Music\",\"orientation\":\"v\",\"showlegend\":false,\"textposition\":\"auto\",\"x\":[\"As\",\"NAs\",\"Entries\",\"Bs\",\"Cs\",\"Ds\"],\"xaxis\":\"x7\",\"y\":[1185.0,15.0,1740.0,345.0,170.0,25.0],\"yaxis\":\"y7\",\"type\":\"bar\"},{\"alignmentgroup\":\"True\",\"hovertemplate\":\"Subject=Music<br>Year=2021<br>School=Ind<br>Grades=%{x}<br>Students=%{y}<extra></extra>\",\"legendgroup\":\"Music\",\"marker\":{\"color\":\"#B6E880\",\"opacity\":0.5,\"pattern\":{\"shape\":\"\"}},\"name\":\"Music\",\"offsetgroup\":\"Music\",\"orientation\":\"v\",\"showlegend\":false,\"textposition\":\"auto\",\"x\":[\"As\",\"NAs\",\"Entries\",\"Bs\",\"Cs\",\"Ds\"],\"xaxis\":\"x8\",\"y\":[115.0,0.0,125.0,5.0,5.0,0.0],\"yaxis\":\"y8\",\"type\":\"bar\"},{\"alignmentgroup\":\"True\",\"hovertemplate\":\"Subject=Music<br>Year=2020<br>School=State<br>Grades=%{x}<br>Students=%{y}<extra></extra>\",\"legendgroup\":\"Music\",\"marker\":{\"color\":\"#B6E880\",\"opacity\":0.5,\"pattern\":{\"shape\":\"\"}},\"name\":\"Music\",\"offsetgroup\":\"Music\",\"orientation\":\"v\",\"showlegend\":false,\"textposition\":\"auto\",\"x\":[\"As\",\"NAs\",\"Entries\",\"Bs\",\"Cs\",\"Ds\"],\"xaxis\":\"x5\",\"y\":[985.0,10.0,1525.0,345.0,165.0,20.0],\"yaxis\":\"y5\",\"type\":\"bar\"},{\"alignmentgroup\":\"True\",\"hovertemplate\":\"Subject=Music<br>Year=2020<br>School=Ind<br>Grades=%{x}<br>Students=%{y}<extra></extra>\",\"legendgroup\":\"Music\",\"marker\":{\"color\":\"#B6E880\",\"opacity\":0.5,\"pattern\":{\"shape\":\"\"}},\"name\":\"Music\",\"offsetgroup\":\"Music\",\"orientation\":\"v\",\"showlegend\":false,\"textposition\":\"auto\",\"x\":[\"As\",\"NAs\",\"Entries\",\"Bs\",\"Cs\",\"Ds\"],\"xaxis\":\"x6\",\"y\":[120.0,0.0,120.0,0.0,0.0,0.0],\"yaxis\":\"y6\",\"type\":\"bar\"},{\"alignmentgroup\":\"True\",\"hovertemplate\":\"Subject=Music<br>Year=2019<br>School=State<br>Grades=%{x}<br>Students=%{y}<extra></extra>\",\"legendgroup\":\"Music\",\"marker\":{\"color\":\"#B6E880\",\"opacity\":0.5,\"pattern\":{\"shape\":\"\"}},\"name\":\"Music\",\"offsetgroup\":\"Music\",\"orientation\":\"v\",\"showlegend\":false,\"textposition\":\"auto\",\"x\":[\"As\",\"NAs\",\"Entries\",\"Bs\",\"Cs\",\"Ds\"],\"xaxis\":\"x3\",\"y\":[805.0,70.0,1570.0,400.0,230.0,60.0],\"yaxis\":\"y3\",\"type\":\"bar\"},{\"alignmentgroup\":\"True\",\"hovertemplate\":\"Subject=Music<br>Year=2019<br>School=Ind<br>Grades=%{x}<br>Students=%{y}<extra></extra>\",\"legendgroup\":\"Music\",\"marker\":{\"color\":\"#B6E880\",\"opacity\":0.5,\"pattern\":{\"shape\":\"\"}},\"name\":\"Music\",\"offsetgroup\":\"Music\",\"orientation\":\"v\",\"showlegend\":false,\"textposition\":\"auto\",\"x\":[\"As\",\"NAs\",\"Entries\",\"Bs\",\"Cs\",\"Ds\"],\"xaxis\":\"x4\",\"y\":[115.0,null,130.0,5.0,5.0,5.0],\"yaxis\":\"y4\",\"type\":\"bar\"},{\"alignmentgroup\":\"True\",\"hovertemplate\":\"Subject=Music<br>Year=2018<br>School=State<br>Grades=%{x}<br>Students=%{y}<extra></extra>\",\"legendgroup\":\"Music\",\"marker\":{\"color\":\"#B6E880\",\"opacity\":0.5,\"pattern\":{\"shape\":\"\"}},\"name\":\"Music\",\"offsetgroup\":\"Music\",\"orientation\":\"v\",\"showlegend\":false,\"textposition\":\"auto\",\"x\":[\"As\",\"NAs\",\"Entries\",\"Bs\",\"Cs\",\"Ds\"],\"xaxis\":\"x\",\"y\":[920.0,60.0,1570.0,355.0,190.0,45.0],\"yaxis\":\"y\",\"type\":\"bar\"},{\"alignmentgroup\":\"True\",\"hovertemplate\":\"Subject=Music<br>Year=2018<br>School=Ind<br>Grades=%{x}<br>Students=%{y}<extra></extra>\",\"legendgroup\":\"Music\",\"marker\":{\"color\":\"#B6E880\",\"opacity\":0.5,\"pattern\":{\"shape\":\"\"}},\"name\":\"Music\",\"offsetgroup\":\"Music\",\"orientation\":\"v\",\"showlegend\":false,\"textposition\":\"auto\",\"x\":[\"As\",\"NAs\",\"Entries\",\"Bs\",\"Cs\",\"Ds\"],\"xaxis\":\"x2\",\"y\":[120.0,null,140.0,15.0,5.0,0.0],\"yaxis\":\"y2\",\"type\":\"bar\"},{\"alignmentgroup\":\"True\",\"hovertemplate\":\"Subject=Music Technology<br>Year=2022<br>School=State<br>Grades=%{x}<br>Students=%{y}<extra></extra>\",\"legendgroup\":\"Music Technology\",\"marker\":{\"color\":\"#FF97FF\",\"opacity\":0.5,\"pattern\":{\"shape\":\"\"}},\"name\":\"Music Technology\",\"offsetgroup\":\"Music Technology\",\"orientation\":\"v\",\"showlegend\":true,\"textposition\":\"auto\",\"x\":[\"As\",\"NAs\",\"Entries\",\"Bs\",\"Cs\",\"Ds\"],\"xaxis\":\"x9\",\"y\":[10.0,5.0,55.0,15.0,15.0,10.0],\"yaxis\":\"y9\",\"type\":\"bar\"},{\"alignmentgroup\":\"True\",\"hovertemplate\":\"Subject=Music Technology<br>Year=2022<br>School=Ind<br>Grades=%{x}<br>Students=%{y}<extra></extra>\",\"legendgroup\":\"Music Technology\",\"marker\":{\"color\":\"#FF97FF\",\"opacity\":0.5,\"pattern\":{\"shape\":\"\"}},\"name\":\"Music Technology\",\"offsetgroup\":\"Music Technology\",\"orientation\":\"v\",\"showlegend\":false,\"textposition\":\"auto\",\"x\":[\"As\",\"NAs\",\"Entries\",\"Bs\",\"Cs\",\"Ds\"],\"xaxis\":\"x10\",\"y\":[0.0,0.0,null,null,null,null],\"yaxis\":\"y10\",\"type\":\"bar\"},{\"alignmentgroup\":\"True\",\"hovertemplate\":\"Subject=Music Technology<br>Year=2021<br>School=State<br>Grades=%{x}<br>Students=%{y}<extra></extra>\",\"legendgroup\":\"Music Technology\",\"marker\":{\"color\":\"#FF97FF\",\"opacity\":0.5,\"pattern\":{\"shape\":\"\"}},\"name\":\"Music Technology\",\"offsetgroup\":\"Music Technology\",\"orientation\":\"v\",\"showlegend\":false,\"textposition\":\"auto\",\"x\":[\"As\",\"NAs\",\"Entries\",\"Bs\",\"Cs\",\"Ds\"],\"xaxis\":\"x7\",\"y\":[20.0,10.0,50.0,10.0,10.0,5.0],\"yaxis\":\"y7\",\"type\":\"bar\"},{\"alignmentgroup\":\"True\",\"hovertemplate\":\"Subject=Music Technology<br>Year=2021<br>School=Ind<br>Grades=%{x}<br>Students=%{y}<extra></extra>\",\"legendgroup\":\"Music Technology\",\"marker\":{\"color\":\"#FF97FF\",\"opacity\":0.5,\"pattern\":{\"shape\":\"\"}},\"name\":\"Music Technology\",\"offsetgroup\":\"Music Technology\",\"orientation\":\"v\",\"showlegend\":false,\"textposition\":\"auto\",\"x\":[\"As\",\"NAs\",\"Entries\",\"Bs\",\"Cs\",\"Ds\"],\"xaxis\":\"x8\",\"y\":[null,0.0,null,null,null,null],\"yaxis\":\"y8\",\"type\":\"bar\"},{\"alignmentgroup\":\"True\",\"hovertemplate\":\"Subject=Music Technology<br>Year=2020<br>School=State<br>Grades=%{x}<br>Students=%{y}<extra></extra>\",\"legendgroup\":\"Music Technology\",\"marker\":{\"color\":\"#FF97FF\",\"opacity\":0.5,\"pattern\":{\"shape\":\"\"}},\"name\":\"Music Technology\",\"offsetgroup\":\"Music Technology\",\"orientation\":\"v\",\"showlegend\":false,\"textposition\":\"auto\",\"x\":[\"As\",\"NAs\",\"Entries\",\"Bs\",\"Cs\",\"Ds\"],\"xaxis\":\"x5\",\"y\":[20.0,0.0,30.0,5.0,5.0,0.0],\"yaxis\":\"y5\",\"type\":\"bar\"},{\"alignmentgroup\":\"True\",\"hovertemplate\":\"Subject=Music Technology<br>Year=2020<br>School=Ind<br>Grades=%{x}<br>Students=%{y}<extra></extra>\",\"legendgroup\":\"Music Technology\",\"marker\":{\"color\":\"#FF97FF\",\"opacity\":0.5,\"pattern\":{\"shape\":\"\"}},\"name\":\"Music Technology\",\"offsetgroup\":\"Music Technology\",\"orientation\":\"v\",\"showlegend\":false,\"textposition\":\"auto\",\"x\":[\"As\",\"NAs\",\"Entries\",\"Bs\",\"Cs\",\"Ds\"],\"xaxis\":\"x6\",\"y\":[null,0.0,null,null,null,null],\"yaxis\":\"y6\",\"type\":\"bar\"},{\"alignmentgroup\":\"True\",\"hovertemplate\":\"Subject=Music Technology<br>Year=2019<br>School=State<br>Grades=%{x}<br>Students=%{y}<extra></extra>\",\"legendgroup\":\"Music Technology\",\"marker\":{\"color\":\"#FF97FF\",\"opacity\":0.5,\"pattern\":{\"shape\":\"\"}},\"name\":\"Music Technology\",\"offsetgroup\":\"Music Technology\",\"orientation\":\"v\",\"showlegend\":false,\"textposition\":\"auto\",\"x\":[\"As\",\"NAs\",\"Entries\",\"Bs\",\"Cs\",\"Ds\"],\"xaxis\":\"x3\",\"y\":[null,null,null,null,null,null],\"yaxis\":\"y3\",\"type\":\"bar\"},{\"alignmentgroup\":\"True\",\"hovertemplate\":\"Subject=Music Technology<br>Year=2019<br>School=Ind<br>Grades=%{x}<br>Students=%{y}<extra></extra>\",\"legendgroup\":\"Music Technology\",\"marker\":{\"color\":\"#FF97FF\",\"opacity\":0.5,\"pattern\":{\"shape\":\"\"}},\"name\":\"Music Technology\",\"offsetgroup\":\"Music Technology\",\"orientation\":\"v\",\"showlegend\":false,\"textposition\":\"auto\",\"x\":[\"As\",\"NAs\",\"Entries\",\"Bs\",\"Cs\",\"Ds\"],\"xaxis\":\"x4\",\"y\":[null,null,null,null,null,null],\"yaxis\":\"y4\",\"type\":\"bar\"},{\"alignmentgroup\":\"True\",\"hovertemplate\":\"Subject=Music Technology<br>Year=2018<br>School=State<br>Grades=%{x}<br>Students=%{y}<extra></extra>\",\"legendgroup\":\"Music Technology\",\"marker\":{\"color\":\"#FF97FF\",\"opacity\":0.5,\"pattern\":{\"shape\":\"\"}},\"name\":\"Music Technology\",\"offsetgroup\":\"Music Technology\",\"orientation\":\"v\",\"showlegend\":false,\"textposition\":\"auto\",\"x\":[\"As\",\"NAs\",\"Entries\",\"Bs\",\"Cs\",\"Ds\"],\"xaxis\":\"x\",\"y\":[null,null,null,null,null,null],\"yaxis\":\"y\",\"type\":\"bar\"},{\"alignmentgroup\":\"True\",\"hovertemplate\":\"Subject=Music Technology<br>Year=2018<br>School=Ind<br>Grades=%{x}<br>Students=%{y}<extra></extra>\",\"legendgroup\":\"Music Technology\",\"marker\":{\"color\":\"#FF97FF\",\"opacity\":0.5,\"pattern\":{\"shape\":\"\"}},\"name\":\"Music Technology\",\"offsetgroup\":\"Music Technology\",\"orientation\":\"v\",\"showlegend\":false,\"textposition\":\"auto\",\"x\":[\"As\",\"NAs\",\"Entries\",\"Bs\",\"Cs\",\"Ds\"],\"xaxis\":\"x2\",\"y\":[null,null,null,null,null,null],\"yaxis\":\"y2\",\"type\":\"bar\"},{\"alignmentgroup\":\"True\",\"hovertemplate\":\"Subject=Music: Portfolio<br>Year=2022<br>School=State<br>Grades=%{x}<br>Students=%{y}<extra></extra>\",\"legendgroup\":\"Music: Portfolio\",\"marker\":{\"color\":\"#FECB52\",\"opacity\":0.5,\"pattern\":{\"shape\":\"\"}},\"name\":\"Music: Portfolio\",\"offsetgroup\":\"Music: Portfolio\",\"orientation\":\"v\",\"showlegend\":true,\"textposition\":\"auto\",\"x\":[\"As\",\"NAs\",\"Entries\",\"Bs\",\"Cs\",\"Ds\"],\"xaxis\":\"x9\",\"y\":[null,0.0,10.0,null,null,0.0],\"yaxis\":\"y9\",\"type\":\"bar\"},{\"alignmentgroup\":\"True\",\"hovertemplate\":\"Subject=Music: Portfolio<br>Year=2022<br>School=Ind<br>Grades=%{x}<br>Students=%{y}<extra></extra>\",\"legendgroup\":\"Music: Portfolio\",\"marker\":{\"color\":\"#FECB52\",\"opacity\":0.5,\"pattern\":{\"shape\":\"\"}},\"name\":\"Music: Portfolio\",\"offsetgroup\":\"Music: Portfolio\",\"orientation\":\"v\",\"showlegend\":false,\"textposition\":\"auto\",\"x\":[\"As\",\"NAs\",\"Entries\",\"Bs\",\"Cs\",\"Ds\"],\"xaxis\":\"x10\",\"y\":[null,0.0,null,null,null,null],\"yaxis\":\"y10\",\"type\":\"bar\"},{\"alignmentgroup\":\"True\",\"hovertemplate\":\"Subject=Music: Portfolio<br>Year=2021<br>School=State<br>Grades=%{x}<br>Students=%{y}<extra></extra>\",\"legendgroup\":\"Music: Portfolio\",\"marker\":{\"color\":\"#FECB52\",\"opacity\":0.5,\"pattern\":{\"shape\":\"\"}},\"name\":\"Music: Portfolio\",\"offsetgroup\":\"Music: Portfolio\",\"orientation\":\"v\",\"showlegend\":false,\"textposition\":\"auto\",\"x\":[\"As\",\"NAs\",\"Entries\",\"Bs\",\"Cs\",\"Ds\"],\"xaxis\":\"x7\",\"y\":[10.0,0.0,15.0,5.0,0.0,0.0],\"yaxis\":\"y7\",\"type\":\"bar\"},{\"alignmentgroup\":\"True\",\"hovertemplate\":\"Subject=Music: Portfolio<br>Year=2021<br>School=Ind<br>Grades=%{x}<br>Students=%{y}<extra></extra>\",\"legendgroup\":\"Music: Portfolio\",\"marker\":{\"color\":\"#FECB52\",\"opacity\":0.5,\"pattern\":{\"shape\":\"\"}},\"name\":\"Music: Portfolio\",\"offsetgroup\":\"Music: Portfolio\",\"orientation\":\"v\",\"showlegend\":false,\"textposition\":\"auto\",\"x\":[\"As\",\"NAs\",\"Entries\",\"Bs\",\"Cs\",\"Ds\"],\"xaxis\":\"x8\",\"y\":[null,0.0,null,null,null,null],\"yaxis\":\"y8\",\"type\":\"bar\"},{\"alignmentgroup\":\"True\",\"hovertemplate\":\"Subject=Music: Portfolio<br>Year=2020<br>School=State<br>Grades=%{x}<br>Students=%{y}<extra></extra>\",\"legendgroup\":\"Music: Portfolio\",\"marker\":{\"color\":\"#FECB52\",\"opacity\":0.5,\"pattern\":{\"shape\":\"\"}},\"name\":\"Music: Portfolio\",\"offsetgroup\":\"Music: Portfolio\",\"orientation\":\"v\",\"showlegend\":false,\"textposition\":\"auto\",\"x\":[\"As\",\"NAs\",\"Entries\",\"Bs\",\"Cs\",\"Ds\"],\"xaxis\":\"x5\",\"y\":[15.0,0.0,20.0,5.0,0.0,0.0],\"yaxis\":\"y5\",\"type\":\"bar\"},{\"alignmentgroup\":\"True\",\"hovertemplate\":\"Subject=Music: Portfolio<br>Year=2020<br>School=Ind<br>Grades=%{x}<br>Students=%{y}<extra></extra>\",\"legendgroup\":\"Music: Portfolio\",\"marker\":{\"color\":\"#FECB52\",\"opacity\":0.5,\"pattern\":{\"shape\":\"\"}},\"name\":\"Music: Portfolio\",\"offsetgroup\":\"Music: Portfolio\",\"orientation\":\"v\",\"showlegend\":false,\"textposition\":\"auto\",\"x\":[\"As\",\"NAs\",\"Entries\",\"Bs\",\"Cs\",\"Ds\"],\"xaxis\":\"x6\",\"y\":[null,0.0,null,null,null,null],\"yaxis\":\"y6\",\"type\":\"bar\"},{\"alignmentgroup\":\"True\",\"hovertemplate\":\"Subject=Music: Portfolio<br>Year=2019<br>School=State<br>Grades=%{x}<br>Students=%{y}<extra></extra>\",\"legendgroup\":\"Music: Portfolio\",\"marker\":{\"color\":\"#FECB52\",\"opacity\":0.5,\"pattern\":{\"shape\":\"\"}},\"name\":\"Music: Portfolio\",\"offsetgroup\":\"Music: Portfolio\",\"orientation\":\"v\",\"showlegend\":false,\"textposition\":\"auto\",\"x\":[\"As\",\"NAs\",\"Entries\",\"Bs\",\"Cs\",\"Ds\"],\"xaxis\":\"x3\",\"y\":[null,null,5.0,null,null,null],\"yaxis\":\"y3\",\"type\":\"bar\"},{\"alignmentgroup\":\"True\",\"hovertemplate\":\"Subject=Music: Portfolio<br>Year=2019<br>School=Ind<br>Grades=%{x}<br>Students=%{y}<extra></extra>\",\"legendgroup\":\"Music: Portfolio\",\"marker\":{\"color\":\"#FECB52\",\"opacity\":0.5,\"pattern\":{\"shape\":\"\"}},\"name\":\"Music: Portfolio\",\"offsetgroup\":\"Music: Portfolio\",\"orientation\":\"v\",\"showlegend\":false,\"textposition\":\"auto\",\"x\":[\"As\",\"NAs\",\"Entries\",\"Bs\",\"Cs\",\"Ds\"],\"xaxis\":\"x4\",\"y\":[null,0.0,null,null,null,null],\"yaxis\":\"y4\",\"type\":\"bar\"},{\"alignmentgroup\":\"True\",\"hovertemplate\":\"Subject=Music: Portfolio<br>Year=2018<br>School=State<br>Grades=%{x}<br>Students=%{y}<extra></extra>\",\"legendgroup\":\"Music: Portfolio\",\"marker\":{\"color\":\"#FECB52\",\"opacity\":0.5,\"pattern\":{\"shape\":\"\"}},\"name\":\"Music: Portfolio\",\"offsetgroup\":\"Music: Portfolio\",\"orientation\":\"v\",\"showlegend\":false,\"textposition\":\"auto\",\"x\":[\"As\",\"NAs\",\"Entries\",\"Bs\",\"Cs\",\"Ds\"],\"xaxis\":\"x\",\"y\":[5.0,null,10.0,0.0,0.0,5.0],\"yaxis\":\"y\",\"type\":\"bar\"},{\"alignmentgroup\":\"True\",\"hovertemplate\":\"Subject=Music: Portfolio<br>Year=2018<br>School=Ind<br>Grades=%{x}<br>Students=%{y}<extra></extra>\",\"legendgroup\":\"Music: Portfolio\",\"marker\":{\"color\":\"#FECB52\",\"opacity\":0.5,\"pattern\":{\"shape\":\"\"}},\"name\":\"Music: Portfolio\",\"offsetgroup\":\"Music: Portfolio\",\"orientation\":\"v\",\"showlegend\":false,\"textposition\":\"auto\",\"x\":[\"As\",\"NAs\",\"Entries\",\"Bs\",\"Cs\",\"Ds\"],\"xaxis\":\"x2\",\"y\":[null,0.0,null,null,null,null],\"yaxis\":\"y2\",\"type\":\"bar\"},{\"alignmentgroup\":\"True\",\"hovertemplate\":\"Subject=Physical Education<br>Year=2022<br>School=State<br>Grades=%{x}<br>Students=%{y}<extra></extra>\",\"legendgroup\":\"Physical Education\",\"marker\":{\"color\":\"#636efa\",\"opacity\":0.5,\"pattern\":{\"shape\":\"\"}},\"name\":\"Physical Education\",\"offsetgroup\":\"Physical Education\",\"orientation\":\"v\",\"showlegend\":true,\"textposition\":\"auto\",\"x\":[\"As\",\"NAs\",\"Entries\",\"Bs\",\"Cs\",\"Ds\"],\"xaxis\":\"x9\",\"y\":[225.0,50.0,925.0,245.0,240.0,170.0],\"yaxis\":\"y9\",\"type\":\"bar\"},{\"alignmentgroup\":\"True\",\"hovertemplate\":\"Subject=Physical Education<br>Year=2022<br>School=Ind<br>Grades=%{x}<br>Students=%{y}<extra></extra>\",\"legendgroup\":\"Physical Education\",\"marker\":{\"color\":\"#636efa\",\"opacity\":0.5,\"pattern\":{\"shape\":\"\"}},\"name\":\"Physical Education\",\"offsetgroup\":\"Physical Education\",\"orientation\":\"v\",\"showlegend\":false,\"textposition\":\"auto\",\"x\":[\"As\",\"NAs\",\"Entries\",\"Bs\",\"Cs\",\"Ds\"],\"xaxis\":\"x10\",\"y\":[55.0,0.0,125.0,35.0,20.0,15.0],\"yaxis\":\"y10\",\"type\":\"bar\"},{\"alignmentgroup\":\"True\",\"hovertemplate\":\"Subject=Physical Education<br>Year=2021<br>School=State<br>Grades=%{x}<br>Students=%{y}<extra></extra>\",\"legendgroup\":\"Physical Education\",\"marker\":{\"color\":\"#636efa\",\"opacity\":0.5,\"pattern\":{\"shape\":\"\"}},\"name\":\"Physical Education\",\"offsetgroup\":\"Physical Education\",\"orientation\":\"v\",\"showlegend\":false,\"textposition\":\"auto\",\"x\":[\"As\",\"NAs\",\"Entries\",\"Bs\",\"Cs\",\"Ds\"],\"xaxis\":\"x7\",\"y\":[325.0,15.0,715.0,210.0,130.0,35.0],\"yaxis\":\"y7\",\"type\":\"bar\"},{\"alignmentgroup\":\"True\",\"hovertemplate\":\"Subject=Physical Education<br>Year=2021<br>School=Ind<br>Grades=%{x}<br>Students=%{y}<extra></extra>\",\"legendgroup\":\"Physical Education\",\"marker\":{\"color\":\"#636efa\",\"opacity\":0.5,\"pattern\":{\"shape\":\"\"}},\"name\":\"Physical Education\",\"offsetgroup\":\"Physical Education\",\"orientation\":\"v\",\"showlegend\":false,\"textposition\":\"auto\",\"x\":[\"As\",\"NAs\",\"Entries\",\"Bs\",\"Cs\",\"Ds\"],\"xaxis\":\"x8\",\"y\":[80.0,0.0,95.0,10.0,5.0,0.0],\"yaxis\":\"y8\",\"type\":\"bar\"},{\"alignmentgroup\":\"True\",\"hovertemplate\":\"Subject=Physical Education<br>Year=2020<br>School=State<br>Grades=%{x}<br>Students=%{y}<extra></extra>\",\"legendgroup\":\"Physical Education\",\"marker\":{\"color\":\"#636efa\",\"opacity\":0.5,\"pattern\":{\"shape\":\"\"}},\"name\":\"Physical Education\",\"offsetgroup\":\"Physical Education\",\"orientation\":\"v\",\"showlegend\":false,\"textposition\":\"auto\",\"x\":[\"As\",\"NAs\",\"Entries\",\"Bs\",\"Cs\",\"Ds\"],\"xaxis\":\"x5\",\"y\":[195.0,5.0,450.0,140.0,90.0,20.0],\"yaxis\":\"y5\",\"type\":\"bar\"},{\"alignmentgroup\":\"True\",\"hovertemplate\":\"Subject=Physical Education<br>Year=2020<br>School=Ind<br>Grades=%{x}<br>Students=%{y}<extra></extra>\",\"legendgroup\":\"Physical Education\",\"marker\":{\"color\":\"#636efa\",\"opacity\":0.5,\"pattern\":{\"shape\":\"\"}},\"name\":\"Physical Education\",\"offsetgroup\":\"Physical Education\",\"orientation\":\"v\",\"showlegend\":false,\"textposition\":\"auto\",\"x\":[\"As\",\"NAs\",\"Entries\",\"Bs\",\"Cs\",\"Ds\"],\"xaxis\":\"x6\",\"y\":[50.0,0.0,65.0,10.0,5.0,0.0],\"yaxis\":\"y6\",\"type\":\"bar\"},{\"alignmentgroup\":\"True\",\"hovertemplate\":\"Subject=Physical Education<br>Year=2019<br>School=State<br>Grades=%{x}<br>Students=%{y}<extra></extra>\",\"legendgroup\":\"Physical Education\",\"marker\":{\"color\":\"#636efa\",\"opacity\":0.5,\"pattern\":{\"shape\":\"\"}},\"name\":\"Physical Education\",\"offsetgroup\":\"Physical Education\",\"orientation\":\"v\",\"showlegend\":false,\"textposition\":\"auto\",\"x\":[\"As\",\"NAs\",\"Entries\",\"Bs\",\"Cs\",\"Ds\"],\"xaxis\":\"x3\",\"y\":[95.0,55.0,450.0,115.0,125.0,60.0],\"yaxis\":\"y3\",\"type\":\"bar\"},{\"alignmentgroup\":\"True\",\"hovertemplate\":\"Subject=Physical Education<br>Year=2019<br>School=Ind<br>Grades=%{x}<br>Students=%{y}<extra></extra>\",\"legendgroup\":\"Physical Education\",\"marker\":{\"color\":\"#636efa\",\"opacity\":0.5,\"pattern\":{\"shape\":\"\"}},\"name\":\"Physical Education\",\"offsetgroup\":\"Physical Education\",\"orientation\":\"v\",\"showlegend\":false,\"textposition\":\"auto\",\"x\":[\"As\",\"NAs\",\"Entries\",\"Bs\",\"Cs\",\"Ds\"],\"xaxis\":\"x4\",\"y\":[20.0,0.0,50.0,20.0,5.0,5.0],\"yaxis\":\"y4\",\"type\":\"bar\"},{\"alignmentgroup\":\"True\",\"hovertemplate\":\"Subject=Physical Education<br>Year=2018<br>School=State<br>Grades=%{x}<br>Students=%{y}<extra></extra>\",\"legendgroup\":\"Physical Education\",\"marker\":{\"color\":\"#636efa\",\"opacity\":0.5,\"pattern\":{\"shape\":\"\"}},\"name\":\"Physical Education\",\"offsetgroup\":\"Physical Education\",\"orientation\":\"v\",\"showlegend\":false,\"textposition\":\"auto\",\"x\":[\"As\",\"NAs\",\"Entries\",\"Bs\",\"Cs\",\"Ds\"],\"xaxis\":\"x\",\"y\":[70.0,55.0,380.0,110.0,95.0,50.0],\"yaxis\":\"y\",\"type\":\"bar\"},{\"alignmentgroup\":\"True\",\"hovertemplate\":\"Subject=Physical Education<br>Year=2018<br>School=Ind<br>Grades=%{x}<br>Students=%{y}<extra></extra>\",\"legendgroup\":\"Physical Education\",\"marker\":{\"color\":\"#636efa\",\"opacity\":0.5,\"pattern\":{\"shape\":\"\"}},\"name\":\"Physical Education\",\"offsetgroup\":\"Physical Education\",\"orientation\":\"v\",\"showlegend\":false,\"textposition\":\"auto\",\"x\":[\"As\",\"NAs\",\"Entries\",\"Bs\",\"Cs\",\"Ds\"],\"xaxis\":\"x2\",\"y\":[20.0,null,50.0,15.0,10.0,0.0],\"yaxis\":\"y2\",\"type\":\"bar\"},{\"alignmentgroup\":\"True\",\"hovertemplate\":\"Subject=Physics<br>Year=2022<br>School=State<br>Grades=%{x}<br>Students=%{y}<extra></extra>\",\"legendgroup\":\"Physics\",\"marker\":{\"color\":\"#EF553B\",\"opacity\":0.5,\"pattern\":{\"shape\":\"\"}},\"name\":\"Physics\",\"offsetgroup\":\"Physics\",\"orientation\":\"v\",\"showlegend\":true,\"textposition\":\"auto\",\"x\":[\"As\",\"NAs\",\"Entries\",\"Bs\",\"Cs\",\"Ds\"],\"xaxis\":\"x9\",\"y\":[600.0,140.0,1815.0,450.0,385.0,235.0],\"yaxis\":\"y9\",\"type\":\"bar\"},{\"alignmentgroup\":\"True\",\"hovertemplate\":\"Subject=Physics<br>Year=2022<br>School=Ind<br>Grades=%{x}<br>Students=%{y}<extra></extra>\",\"legendgroup\":\"Physics\",\"marker\":{\"color\":\"#EF553B\",\"opacity\":0.5,\"pattern\":{\"shape\":\"\"}},\"name\":\"Physics\",\"offsetgroup\":\"Physics\",\"orientation\":\"v\",\"showlegend\":false,\"textposition\":\"auto\",\"x\":[\"As\",\"NAs\",\"Entries\",\"Bs\",\"Cs\",\"Ds\"],\"xaxis\":\"x10\",\"y\":[160.0,5.0,290.0,75.0,30.0,20.0],\"yaxis\":\"y10\",\"type\":\"bar\"},{\"alignmentgroup\":\"True\",\"hovertemplate\":\"Subject=Physics<br>Year=2021<br>School=State<br>Grades=%{x}<br>Students=%{y}<extra></extra>\",\"legendgroup\":\"Physics\",\"marker\":{\"color\":\"#EF553B\",\"opacity\":0.5,\"pattern\":{\"shape\":\"\"}},\"name\":\"Physics\",\"offsetgroup\":\"Physics\",\"orientation\":\"v\",\"showlegend\":false,\"textposition\":\"auto\",\"x\":[\"As\",\"NAs\",\"Entries\",\"Bs\",\"Cs\",\"Ds\"],\"xaxis\":\"x7\",\"y\":[770.0,95.0,1615.0,375.0,250.0,130.0],\"yaxis\":\"y7\",\"type\":\"bar\"},{\"alignmentgroup\":\"True\",\"hovertemplate\":\"Subject=Physics<br>Year=2021<br>School=Ind<br>Grades=%{x}<br>Students=%{y}<extra></extra>\",\"legendgroup\":\"Physics\",\"marker\":{\"color\":\"#EF553B\",\"opacity\":0.5,\"pattern\":{\"shape\":\"\"}},\"name\":\"Physics\",\"offsetgroup\":\"Physics\",\"orientation\":\"v\",\"showlegend\":false,\"textposition\":\"auto\",\"x\":[\"As\",\"NAs\",\"Entries\",\"Bs\",\"Cs\",\"Ds\"],\"xaxis\":\"x8\",\"y\":[215.0,null,295.0,55.0,20.0,0.0],\"yaxis\":\"y8\",\"type\":\"bar\"},{\"alignmentgroup\":\"True\",\"hovertemplate\":\"Subject=Physics<br>Year=2020<br>School=State<br>Grades=%{x}<br>Students=%{y}<extra></extra>\",\"legendgroup\":\"Physics\",\"marker\":{\"color\":\"#EF553B\",\"opacity\":0.5,\"pattern\":{\"shape\":\"\"}},\"name\":\"Physics\",\"offsetgroup\":\"Physics\",\"orientation\":\"v\",\"showlegend\":false,\"textposition\":\"auto\",\"x\":[\"As\",\"NAs\",\"Entries\",\"Bs\",\"Cs\",\"Ds\"],\"xaxis\":\"x5\",\"y\":[660.0,40.0,1405.0,350.0,280.0,75.0],\"yaxis\":\"y5\",\"type\":\"bar\"},{\"alignmentgroup\":\"True\",\"hovertemplate\":\"Subject=Physics<br>Year=2020<br>School=Ind<br>Grades=%{x}<br>Students=%{y}<extra></extra>\",\"legendgroup\":\"Physics\",\"marker\":{\"color\":\"#EF553B\",\"opacity\":0.5,\"pattern\":{\"shape\":\"\"}},\"name\":\"Physics\",\"offsetgroup\":\"Physics\",\"orientation\":\"v\",\"showlegend\":false,\"textposition\":\"auto\",\"x\":[\"As\",\"NAs\",\"Entries\",\"Bs\",\"Cs\",\"Ds\"],\"xaxis\":\"x6\",\"y\":[190.0,null,280.0,60.0,25.0,5.0],\"yaxis\":\"y6\",\"type\":\"bar\"},{\"alignmentgroup\":\"True\",\"hovertemplate\":\"Subject=Physics<br>Year=2019<br>School=State<br>Grades=%{x}<br>Students=%{y}<extra></extra>\",\"legendgroup\":\"Physics\",\"marker\":{\"color\":\"#EF553B\",\"opacity\":0.5,\"pattern\":{\"shape\":\"\"}},\"name\":\"Physics\",\"offsetgroup\":\"Physics\",\"orientation\":\"v\",\"showlegend\":false,\"textposition\":\"auto\",\"x\":[\"As\",\"NAs\",\"Entries\",\"Bs\",\"Cs\",\"Ds\"],\"xaxis\":\"x3\",\"y\":[390.0,190.0,1405.0,385.0,300.0,140.0],\"yaxis\":\"y3\",\"type\":\"bar\"},{\"alignmentgroup\":\"True\",\"hovertemplate\":\"Subject=Physics<br>Year=2019<br>School=Ind<br>Grades=%{x}<br>Students=%{y}<extra></extra>\",\"legendgroup\":\"Physics\",\"marker\":{\"color\":\"#EF553B\",\"opacity\":0.5,\"pattern\":{\"shape\":\"\"}},\"name\":\"Physics\",\"offsetgroup\":\"Physics\",\"orientation\":\"v\",\"showlegend\":false,\"textposition\":\"auto\",\"x\":[\"As\",\"NAs\",\"Entries\",\"Bs\",\"Cs\",\"Ds\"],\"xaxis\":\"x4\",\"y\":[110.0,10.0,215.0,55.0,30.0,10.0],\"yaxis\":\"y4\",\"type\":\"bar\"},{\"alignmentgroup\":\"True\",\"hovertemplate\":\"Subject=Physics<br>Year=2018<br>School=State<br>Grades=%{x}<br>Students=%{y}<extra></extra>\",\"legendgroup\":\"Physics\",\"marker\":{\"color\":\"#EF553B\",\"opacity\":0.5,\"pattern\":{\"shape\":\"\"}},\"name\":\"Physics\",\"offsetgroup\":\"Physics\",\"orientation\":\"v\",\"showlegend\":false,\"textposition\":\"auto\",\"x\":[\"As\",\"NAs\",\"Entries\",\"Bs\",\"Cs\",\"Ds\"],\"xaxis\":\"x\",\"y\":[430.0,220.0,1610.0,430.0,380.0,150.0],\"yaxis\":\"y\",\"type\":\"bar\"},{\"alignmentgroup\":\"True\",\"hovertemplate\":\"Subject=Physics<br>Year=2018<br>School=Ind<br>Grades=%{x}<br>Students=%{y}<extra></extra>\",\"legendgroup\":\"Physics\",\"marker\":{\"color\":\"#EF553B\",\"opacity\":0.5,\"pattern\":{\"shape\":\"\"}},\"name\":\"Physics\",\"offsetgroup\":\"Physics\",\"orientation\":\"v\",\"showlegend\":false,\"textposition\":\"auto\",\"x\":[\"As\",\"NAs\",\"Entries\",\"Bs\",\"Cs\",\"Ds\"],\"xaxis\":\"x2\",\"y\":[140.0,5.0,265.0,75.0,35.0,5.0],\"yaxis\":\"y2\",\"type\":\"bar\"},{\"alignmentgroup\":\"True\",\"hovertemplate\":\"Subject=Religious, Moral and Philosophical Studies<br>Year=2022<br>School=State<br>Grades=%{x}<br>Students=%{y}<extra></extra>\",\"legendgroup\":\"Religious, Moral and Philosophical Studies\",\"marker\":{\"color\":\"#00cc96\",\"opacity\":0.5,\"pattern\":{\"shape\":\"\"}},\"name\":\"Religious, Moral and Philosophical Studies\",\"offsetgroup\":\"Religious, Moral and Philosophical Studies\",\"orientation\":\"v\",\"showlegend\":true,\"textposition\":\"auto\",\"x\":[\"As\",\"NAs\",\"Entries\",\"Bs\",\"Cs\",\"Ds\"],\"xaxis\":\"x9\",\"y\":[40.0,15.0,150.0,35.0,30.0,25.0],\"yaxis\":\"y9\",\"type\":\"bar\"},{\"alignmentgroup\":\"True\",\"hovertemplate\":\"Subject=Religious, Moral and Philosophical Studies<br>Year=2022<br>School=Ind<br>Grades=%{x}<br>Students=%{y}<extra></extra>\",\"legendgroup\":\"Religious, Moral and Philosophical Studies\",\"marker\":{\"color\":\"#00cc96\",\"opacity\":0.5,\"pattern\":{\"shape\":\"\"}},\"name\":\"Religious, Moral and Philosophical Studies\",\"offsetgroup\":\"Religious, Moral and Philosophical Studies\",\"orientation\":\"v\",\"showlegend\":false,\"textposition\":\"auto\",\"x\":[\"As\",\"NAs\",\"Entries\",\"Bs\",\"Cs\",\"Ds\"],\"xaxis\":\"x10\",\"y\":[50.0,null,100.0,35.0,10.0,5.0],\"yaxis\":\"y10\",\"type\":\"bar\"},{\"alignmentgroup\":\"True\",\"hovertemplate\":\"Subject=Religious, Moral and Philosophical Studies<br>Year=2021<br>School=State<br>Grades=%{x}<br>Students=%{y}<extra></extra>\",\"legendgroup\":\"Religious, Moral and Philosophical Studies\",\"marker\":{\"color\":\"#00cc96\",\"opacity\":0.5,\"pattern\":{\"shape\":\"\"}},\"name\":\"Religious, Moral and Philosophical Studies\",\"offsetgroup\":\"Religious, Moral and Philosophical Studies\",\"orientation\":\"v\",\"showlegend\":false,\"textposition\":\"auto\",\"x\":[\"As\",\"NAs\",\"Entries\",\"Bs\",\"Cs\",\"Ds\"],\"xaxis\":\"x7\",\"y\":[75.0,null,145.0,35.0,25.0,5.0],\"yaxis\":\"y7\",\"type\":\"bar\"},{\"alignmentgroup\":\"True\",\"hovertemplate\":\"Subject=Religious, Moral and Philosophical Studies<br>Year=2021<br>School=Ind<br>Grades=%{x}<br>Students=%{y}<extra></extra>\",\"legendgroup\":\"Religious, Moral and Philosophical Studies\",\"marker\":{\"color\":\"#00cc96\",\"opacity\":0.5,\"pattern\":{\"shape\":\"\"}},\"name\":\"Religious, Moral and Philosophical Studies\",\"offsetgroup\":\"Religious, Moral and Philosophical Studies\",\"orientation\":\"v\",\"showlegend\":false,\"textposition\":\"auto\",\"x\":[\"As\",\"NAs\",\"Entries\",\"Bs\",\"Cs\",\"Ds\"],\"xaxis\":\"x8\",\"y\":[80.0,0.0,95.0,10.0,5.0,0.0],\"yaxis\":\"y8\",\"type\":\"bar\"},{\"alignmentgroup\":\"True\",\"hovertemplate\":\"Subject=Religious, Moral and Philosophical Studies<br>Year=2020<br>School=State<br>Grades=%{x}<br>Students=%{y}<extra></extra>\",\"legendgroup\":\"Religious, Moral and Philosophical Studies\",\"marker\":{\"color\":\"#00cc96\",\"opacity\":0.5,\"pattern\":{\"shape\":\"\"}},\"name\":\"Religious, Moral and Philosophical Studies\",\"offsetgroup\":\"Religious, Moral and Philosophical Studies\",\"orientation\":\"v\",\"showlegend\":false,\"textposition\":\"auto\",\"x\":[\"As\",\"NAs\",\"Entries\",\"Bs\",\"Cs\",\"Ds\"],\"xaxis\":\"x5\",\"y\":[40.0,0.0,85.0,25.0,15.0,5.0],\"yaxis\":\"y5\",\"type\":\"bar\"},{\"alignmentgroup\":\"True\",\"hovertemplate\":\"Subject=Religious, Moral and Philosophical Studies<br>Year=2020<br>School=Ind<br>Grades=%{x}<br>Students=%{y}<extra></extra>\",\"legendgroup\":\"Religious, Moral and Philosophical Studies\",\"marker\":{\"color\":\"#00cc96\",\"opacity\":0.5,\"pattern\":{\"shape\":\"\"}},\"name\":\"Religious, Moral and Philosophical Studies\",\"offsetgroup\":\"Religious, Moral and Philosophical Studies\",\"orientation\":\"v\",\"showlegend\":false,\"textposition\":\"auto\",\"x\":[\"As\",\"NAs\",\"Entries\",\"Bs\",\"Cs\",\"Ds\"],\"xaxis\":\"x6\",\"y\":[60.0,0.0,95.0,25.0,10.0,0.0],\"yaxis\":\"y6\",\"type\":\"bar\"},{\"alignmentgroup\":\"True\",\"hovertemplate\":\"Subject=Religious, Moral and Philosophical Studies<br>Year=2019<br>School=State<br>Grades=%{x}<br>Students=%{y}<extra></extra>\",\"legendgroup\":\"Religious, Moral and Philosophical Studies\",\"marker\":{\"color\":\"#00cc96\",\"opacity\":0.5,\"pattern\":{\"shape\":\"\"}},\"name\":\"Religious, Moral and Philosophical Studies\",\"offsetgroup\":\"Religious, Moral and Philosophical Studies\",\"orientation\":\"v\",\"showlegend\":false,\"textposition\":\"auto\",\"x\":[\"As\",\"NAs\",\"Entries\",\"Bs\",\"Cs\",\"Ds\"],\"xaxis\":\"x3\",\"y\":[15.0,25.0,100.0,30.0,15.0,15.0],\"yaxis\":\"y3\",\"type\":\"bar\"},{\"alignmentgroup\":\"True\",\"hovertemplate\":\"Subject=Religious, Moral and Philosophical Studies<br>Year=2019<br>School=Ind<br>Grades=%{x}<br>Students=%{y}<extra></extra>\",\"legendgroup\":\"Religious, Moral and Philosophical Studies\",\"marker\":{\"color\":\"#00cc96\",\"opacity\":0.5,\"pattern\":{\"shape\":\"\"}},\"name\":\"Religious, Moral and Philosophical Studies\",\"offsetgroup\":\"Religious, Moral and Philosophical Studies\",\"orientation\":\"v\",\"showlegend\":false,\"textposition\":\"auto\",\"x\":[\"As\",\"NAs\",\"Entries\",\"Bs\",\"Cs\",\"Ds\"],\"xaxis\":\"x4\",\"y\":[40.0,0.0,75.0,15.0,20.0,0.0],\"yaxis\":\"y4\",\"type\":\"bar\"},{\"alignmentgroup\":\"True\",\"hovertemplate\":\"Subject=Religious, Moral and Philosophical Studies<br>Year=2018<br>School=State<br>Grades=%{x}<br>Students=%{y}<extra></extra>\",\"legendgroup\":\"Religious, Moral and Philosophical Studies\",\"marker\":{\"color\":\"#00cc96\",\"opacity\":0.5,\"pattern\":{\"shape\":\"\"}},\"name\":\"Religious, Moral and Philosophical Studies\",\"offsetgroup\":\"Religious, Moral and Philosophical Studies\",\"orientation\":\"v\",\"showlegend\":false,\"textposition\":\"auto\",\"x\":[\"As\",\"NAs\",\"Entries\",\"Bs\",\"Cs\",\"Ds\"],\"xaxis\":\"x\",\"y\":[10.0,30.0,100.0,20.0,25.0,10.0],\"yaxis\":\"y\",\"type\":\"bar\"},{\"alignmentgroup\":\"True\",\"hovertemplate\":\"Subject=Religious, Moral and Philosophical Studies<br>Year=2018<br>School=Ind<br>Grades=%{x}<br>Students=%{y}<extra></extra>\",\"legendgroup\":\"Religious, Moral and Philosophical Studies\",\"marker\":{\"color\":\"#00cc96\",\"opacity\":0.5,\"pattern\":{\"shape\":\"\"}},\"name\":\"Religious, Moral and Philosophical Studies\",\"offsetgroup\":\"Religious, Moral and Philosophical Studies\",\"orientation\":\"v\",\"showlegend\":false,\"textposition\":\"auto\",\"x\":[\"As\",\"NAs\",\"Entries\",\"Bs\",\"Cs\",\"Ds\"],\"xaxis\":\"x2\",\"y\":[25.0,5.0,60.0,15.0,10.0,5.0],\"yaxis\":\"y2\",\"type\":\"bar\"},{\"alignmentgroup\":\"True\",\"hovertemplate\":\"Subject=Spanish<br>Year=2022<br>School=State<br>Grades=%{x}<br>Students=%{y}<extra></extra>\",\"legendgroup\":\"Spanish\",\"marker\":{\"color\":\"#ab63fa\",\"opacity\":0.5,\"pattern\":{\"shape\":\"\"}},\"name\":\"Spanish\",\"offsetgroup\":\"Spanish\",\"orientation\":\"v\",\"showlegend\":true,\"textposition\":\"auto\",\"x\":[\"As\",\"NAs\",\"Entries\",\"Bs\",\"Cs\",\"Ds\"],\"xaxis\":\"x9\",\"y\":[140.0,35.0,370.0,80.0,75.0,40.0],\"yaxis\":\"y9\",\"type\":\"bar\"},{\"alignmentgroup\":\"True\",\"hovertemplate\":\"Subject=Spanish<br>Year=2022<br>School=Ind<br>Grades=%{x}<br>Students=%{y}<extra></extra>\",\"legendgroup\":\"Spanish\",\"marker\":{\"color\":\"#ab63fa\",\"opacity\":0.5,\"pattern\":{\"shape\":\"\"}},\"name\":\"Spanish\",\"offsetgroup\":\"Spanish\",\"orientation\":\"v\",\"showlegend\":false,\"textposition\":\"auto\",\"x\":[\"As\",\"NAs\",\"Entries\",\"Bs\",\"Cs\",\"Ds\"],\"xaxis\":\"x10\",\"y\":[55.0,null,90.0,15.0,10.0,5.0],\"yaxis\":\"y10\",\"type\":\"bar\"},{\"alignmentgroup\":\"True\",\"hovertemplate\":\"Subject=Spanish<br>Year=2021<br>School=State<br>Grades=%{x}<br>Students=%{y}<extra></extra>\",\"legendgroup\":\"Spanish\",\"marker\":{\"color\":\"#ab63fa\",\"opacity\":0.5,\"pattern\":{\"shape\":\"\"}},\"name\":\"Spanish\",\"offsetgroup\":\"Spanish\",\"orientation\":\"v\",\"showlegend\":false,\"textposition\":\"auto\",\"x\":[\"As\",\"NAs\",\"Entries\",\"Bs\",\"Cs\",\"Ds\"],\"xaxis\":\"x7\",\"y\":[205.0,15.0,355.0,70.0,50.0,15.0],\"yaxis\":\"y7\",\"type\":\"bar\"},{\"alignmentgroup\":\"True\",\"hovertemplate\":\"Subject=Spanish<br>Year=2021<br>School=Ind<br>Grades=%{x}<br>Students=%{y}<extra></extra>\",\"legendgroup\":\"Spanish\",\"marker\":{\"color\":\"#ab63fa\",\"opacity\":0.5,\"pattern\":{\"shape\":\"\"}},\"name\":\"Spanish\",\"offsetgroup\":\"Spanish\",\"orientation\":\"v\",\"showlegend\":false,\"textposition\":\"auto\",\"x\":[\"As\",\"NAs\",\"Entries\",\"Bs\",\"Cs\",\"Ds\"],\"xaxis\":\"x8\",\"y\":[65.0,null,85.0,15.0,5.0,0.0],\"yaxis\":\"y8\",\"type\":\"bar\"},{\"alignmentgroup\":\"True\",\"hovertemplate\":\"Subject=Spanish<br>Year=2020<br>School=State<br>Grades=%{x}<br>Students=%{y}<extra></extra>\",\"legendgroup\":\"Spanish\",\"marker\":{\"color\":\"#ab63fa\",\"opacity\":0.5,\"pattern\":{\"shape\":\"\"}},\"name\":\"Spanish\",\"offsetgroup\":\"Spanish\",\"orientation\":\"v\",\"showlegend\":false,\"textposition\":\"auto\",\"x\":[\"As\",\"NAs\",\"Entries\",\"Bs\",\"Cs\",\"Ds\"],\"xaxis\":\"x5\",\"y\":[175.0,null,360.0,110.0,65.0,10.0],\"yaxis\":\"y5\",\"type\":\"bar\"},{\"alignmentgroup\":\"True\",\"hovertemplate\":\"Subject=Spanish<br>Year=2020<br>School=Ind<br>Grades=%{x}<br>Students=%{y}<extra></extra>\",\"legendgroup\":\"Spanish\",\"marker\":{\"color\":\"#ab63fa\",\"opacity\":0.5,\"pattern\":{\"shape\":\"\"}},\"name\":\"Spanish\",\"offsetgroup\":\"Spanish\",\"orientation\":\"v\",\"showlegend\":false,\"textposition\":\"auto\",\"x\":[\"As\",\"NAs\",\"Entries\",\"Bs\",\"Cs\",\"Ds\"],\"xaxis\":\"x6\",\"y\":[65.0,0.0,80.0,10.0,5.0,0.0],\"yaxis\":\"y6\",\"type\":\"bar\"},{\"alignmentgroup\":\"True\",\"hovertemplate\":\"Subject=Spanish<br>Year=2019<br>School=State<br>Grades=%{x}<br>Students=%{y}<extra></extra>\",\"legendgroup\":\"Spanish\",\"marker\":{\"color\":\"#ab63fa\",\"opacity\":0.5,\"pattern\":{\"shape\":\"\"}},\"name\":\"Spanish\",\"offsetgroup\":\"Spanish\",\"orientation\":\"v\",\"showlegend\":false,\"textposition\":\"auto\",\"x\":[\"As\",\"NAs\",\"Entries\",\"Bs\",\"Cs\",\"Ds\"],\"xaxis\":\"x3\",\"y\":[115.0,60.0,360.0,70.0,85.0,30.0],\"yaxis\":\"y3\",\"type\":\"bar\"},{\"alignmentgroup\":\"True\",\"hovertemplate\":\"Subject=Spanish<br>Year=2019<br>School=Ind<br>Grades=%{x}<br>Students=%{y}<extra></extra>\",\"legendgroup\":\"Spanish\",\"marker\":{\"color\":\"#ab63fa\",\"opacity\":0.5,\"pattern\":{\"shape\":\"\"}},\"name\":\"Spanish\",\"offsetgroup\":\"Spanish\",\"orientation\":\"v\",\"showlegend\":false,\"textposition\":\"auto\",\"x\":[\"As\",\"NAs\",\"Entries\",\"Bs\",\"Cs\",\"Ds\"],\"xaxis\":\"x4\",\"y\":[50.0,5.0,95.0,25.0,10.0,5.0],\"yaxis\":\"y4\",\"type\":\"bar\"},{\"alignmentgroup\":\"True\",\"hovertemplate\":\"Subject=Spanish<br>Year=2018<br>School=State<br>Grades=%{x}<br>Students=%{y}<extra></extra>\",\"legendgroup\":\"Spanish\",\"marker\":{\"color\":\"#ab63fa\",\"opacity\":0.5,\"pattern\":{\"shape\":\"\"}},\"name\":\"Spanish\",\"offsetgroup\":\"Spanish\",\"orientation\":\"v\",\"showlegend\":false,\"textposition\":\"auto\",\"x\":[\"As\",\"NAs\",\"Entries\",\"Bs\",\"Cs\",\"Ds\"],\"xaxis\":\"x\",\"y\":[110.0,70.0,360.0,75.0,70.0,35.0],\"yaxis\":\"y\",\"type\":\"bar\"},{\"alignmentgroup\":\"True\",\"hovertemplate\":\"Subject=Spanish<br>Year=2018<br>School=Ind<br>Grades=%{x}<br>Students=%{y}<extra></extra>\",\"legendgroup\":\"Spanish\",\"marker\":{\"color\":\"#ab63fa\",\"opacity\":0.5,\"pattern\":{\"shape\":\"\"}},\"name\":\"Spanish\",\"offsetgroup\":\"Spanish\",\"orientation\":\"v\",\"showlegend\":false,\"textposition\":\"auto\",\"x\":[\"As\",\"NAs\",\"Entries\",\"Bs\",\"Cs\",\"Ds\"],\"xaxis\":\"x2\",\"y\":[45.0,5.0,95.0,20.0,20.0,5.0],\"yaxis\":\"y2\",\"type\":\"bar\"},{\"alignmentgroup\":\"True\",\"hovertemplate\":\"Subject=Statistics<br>Year=2022<br>School=State<br>Grades=%{x}<br>Students=%{y}<extra></extra>\",\"legendgroup\":\"Statistics\",\"marker\":{\"color\":\"#FFA15A\",\"opacity\":0.5,\"pattern\":{\"shape\":\"\"}},\"name\":\"Statistics\",\"offsetgroup\":\"Statistics\",\"orientation\":\"v\",\"showlegend\":true,\"textposition\":\"auto\",\"x\":[\"As\",\"NAs\",\"Entries\",\"Bs\",\"Cs\",\"Ds\"],\"xaxis\":\"x9\",\"y\":[15.0,10.0,45.0,10.0,5.0,5.0],\"yaxis\":\"y9\",\"type\":\"bar\"},{\"alignmentgroup\":\"True\",\"hovertemplate\":\"Subject=Statistics<br>Year=2022<br>School=Ind<br>Grades=%{x}<br>Students=%{y}<extra></extra>\",\"legendgroup\":\"Statistics\",\"marker\":{\"color\":\"#FFA15A\",\"opacity\":0.5,\"pattern\":{\"shape\":\"\"}},\"name\":\"Statistics\",\"offsetgroup\":\"Statistics\",\"orientation\":\"v\",\"showlegend\":false,\"textposition\":\"auto\",\"x\":[\"As\",\"NAs\",\"Entries\",\"Bs\",\"Cs\",\"Ds\"],\"xaxis\":\"x10\",\"y\":[45.0,5.0,95.0,20.0,15.0,10.0],\"yaxis\":\"y10\",\"type\":\"bar\"},{\"alignmentgroup\":\"True\",\"hovertemplate\":\"Subject=Statistics<br>Year=2021<br>School=State<br>Grades=%{x}<br>Students=%{y}<extra></extra>\",\"legendgroup\":\"Statistics\",\"marker\":{\"color\":\"#FFA15A\",\"opacity\":0.5,\"pattern\":{\"shape\":\"\"}},\"name\":\"Statistics\",\"offsetgroup\":\"Statistics\",\"orientation\":\"v\",\"showlegend\":false,\"textposition\":\"auto\",\"x\":[\"As\",\"NAs\",\"Entries\",\"Bs\",\"Cs\",\"Ds\"],\"xaxis\":\"x7\",\"y\":[45.0,10.0,80.0,15.0,5.0,5.0],\"yaxis\":\"y7\",\"type\":\"bar\"},{\"alignmentgroup\":\"True\",\"hovertemplate\":\"Subject=Statistics<br>Year=2021<br>School=Ind<br>Grades=%{x}<br>Students=%{y}<extra></extra>\",\"legendgroup\":\"Statistics\",\"marker\":{\"color\":\"#FFA15A\",\"opacity\":0.5,\"pattern\":{\"shape\":\"\"}},\"name\":\"Statistics\",\"offsetgroup\":\"Statistics\",\"orientation\":\"v\",\"showlegend\":false,\"textposition\":\"auto\",\"x\":[\"As\",\"NAs\",\"Entries\",\"Bs\",\"Cs\",\"Ds\"],\"xaxis\":\"x8\",\"y\":[95.0,null,125.0,15.0,10.0,5.0],\"yaxis\":\"y8\",\"type\":\"bar\"},{\"alignmentgroup\":\"True\",\"hovertemplate\":\"Subject=Statistics<br>Year=2020<br>School=State<br>Grades=%{x}<br>Students=%{y}<extra></extra>\",\"legendgroup\":\"Statistics\",\"marker\":{\"color\":\"#FFA15A\",\"opacity\":0.5,\"pattern\":{\"shape\":\"\"}},\"name\":\"Statistics\",\"offsetgroup\":\"Statistics\",\"orientation\":\"v\",\"showlegend\":false,\"textposition\":\"auto\",\"x\":[\"As\",\"NAs\",\"Entries\",\"Bs\",\"Cs\",\"Ds\"],\"xaxis\":\"x5\",\"y\":[35.0,5.0,90.0,30.0,10.0,10.0],\"yaxis\":\"y5\",\"type\":\"bar\"},{\"alignmentgroup\":\"True\",\"hovertemplate\":\"Subject=Statistics<br>Year=2020<br>School=Ind<br>Grades=%{x}<br>Students=%{y}<extra></extra>\",\"legendgroup\":\"Statistics\",\"marker\":{\"color\":\"#FFA15A\",\"opacity\":0.5,\"pattern\":{\"shape\":\"\"}},\"name\":\"Statistics\",\"offsetgroup\":\"Statistics\",\"orientation\":\"v\",\"showlegend\":false,\"textposition\":\"auto\",\"x\":[\"As\",\"NAs\",\"Entries\",\"Bs\",\"Cs\",\"Ds\"],\"xaxis\":\"x6\",\"y\":[60.0,null,90.0,15.0,15.0,0.0],\"yaxis\":\"y6\",\"type\":\"bar\"},{\"alignmentgroup\":\"True\",\"hovertemplate\":\"Subject=Statistics<br>Year=2019<br>School=State<br>Grades=%{x}<br>Students=%{y}<extra></extra>\",\"legendgroup\":\"Statistics\",\"marker\":{\"color\":\"#FFA15A\",\"opacity\":0.5,\"pattern\":{\"shape\":\"\"}},\"name\":\"Statistics\",\"offsetgroup\":\"Statistics\",\"orientation\":\"v\",\"showlegend\":false,\"textposition\":\"auto\",\"x\":[\"As\",\"NAs\",\"Entries\",\"Bs\",\"Cs\",\"Ds\"],\"xaxis\":\"x3\",\"y\":[25.0,25.0,100.0,30.0,20.0,5.0],\"yaxis\":\"y3\",\"type\":\"bar\"},{\"alignmentgroup\":\"True\",\"hovertemplate\":\"Subject=Statistics<br>Year=2019<br>School=Ind<br>Grades=%{x}<br>Students=%{y}<extra></extra>\",\"legendgroup\":\"Statistics\",\"marker\":{\"color\":\"#FFA15A\",\"opacity\":0.5,\"pattern\":{\"shape\":\"\"}},\"name\":\"Statistics\",\"offsetgroup\":\"Statistics\",\"orientation\":\"v\",\"showlegend\":false,\"textposition\":\"auto\",\"x\":[\"As\",\"NAs\",\"Entries\",\"Bs\",\"Cs\",\"Ds\"],\"xaxis\":\"x4\",\"y\":[45.0,10.0,110.0,30.0,15.0,5.0],\"yaxis\":\"y4\",\"type\":\"bar\"},{\"alignmentgroup\":\"True\",\"hovertemplate\":\"Subject=Statistics<br>Year=2018<br>School=State<br>Grades=%{x}<br>Students=%{y}<extra></extra>\",\"legendgroup\":\"Statistics\",\"marker\":{\"color\":\"#FFA15A\",\"opacity\":0.5,\"pattern\":{\"shape\":\"\"}},\"name\":\"Statistics\",\"offsetgroup\":\"Statistics\",\"orientation\":\"v\",\"showlegend\":false,\"textposition\":\"auto\",\"x\":[\"As\",\"NAs\",\"Entries\",\"Bs\",\"Cs\",\"Ds\"],\"xaxis\":\"x\",\"y\":[20.0,25.0,90.0,20.0,20.0,5.0],\"yaxis\":\"y\",\"type\":\"bar\"},{\"alignmentgroup\":\"True\",\"hovertemplate\":\"Subject=Statistics<br>Year=2018<br>School=Ind<br>Grades=%{x}<br>Students=%{y}<extra></extra>\",\"legendgroup\":\"Statistics\",\"marker\":{\"color\":\"#FFA15A\",\"opacity\":0.5,\"pattern\":{\"shape\":\"\"}},\"name\":\"Statistics\",\"offsetgroup\":\"Statistics\",\"orientation\":\"v\",\"showlegend\":false,\"textposition\":\"auto\",\"x\":[\"As\",\"NAs\",\"Entries\",\"Bs\",\"Cs\",\"Ds\"],\"xaxis\":\"x2\",\"y\":[50.0,null,95.0,15.0,20.0,5.0],\"yaxis\":\"y2\",\"type\":\"bar\"}],                        {\"template\":{\"data\":{\"bar\":[{\"error_x\":{\"color\":\"#2a3f5f\"},\"error_y\":{\"color\":\"#2a3f5f\"},\"marker\":{\"line\":{\"color\":\"#E5ECF6\",\"width\":0.5},\"pattern\":{\"fillmode\":\"overlay\",\"size\":10,\"solidity\":0.2}},\"type\":\"bar\"}],\"barpolar\":[{\"marker\":{\"line\":{\"color\":\"#E5ECF6\",\"width\":0.5},\"pattern\":{\"fillmode\":\"overlay\",\"size\":10,\"solidity\":0.2}},\"type\":\"barpolar\"}],\"carpet\":[{\"aaxis\":{\"endlinecolor\":\"#2a3f5f\",\"gridcolor\":\"white\",\"linecolor\":\"white\",\"minorgridcolor\":\"white\",\"startlinecolor\":\"#2a3f5f\"},\"baxis\":{\"endlinecolor\":\"#2a3f5f\",\"gridcolor\":\"white\",\"linecolor\":\"white\",\"minorgridcolor\":\"white\",\"startlinecolor\":\"#2a3f5f\"},\"type\":\"carpet\"}],\"choropleth\":[{\"colorbar\":{\"outlinewidth\":0,\"ticks\":\"\"},\"type\":\"choropleth\"}],\"contour\":[{\"colorbar\":{\"outlinewidth\":0,\"ticks\":\"\"},\"colorscale\":[[0.0,\"#0d0887\"],[0.1111111111111111,\"#46039f\"],[0.2222222222222222,\"#7201a8\"],[0.3333333333333333,\"#9c179e\"],[0.4444444444444444,\"#bd3786\"],[0.5555555555555556,\"#d8576b\"],[0.6666666666666666,\"#ed7953\"],[0.7777777777777778,\"#fb9f3a\"],[0.8888888888888888,\"#fdca26\"],[1.0,\"#f0f921\"]],\"type\":\"contour\"}],\"contourcarpet\":[{\"colorbar\":{\"outlinewidth\":0,\"ticks\":\"\"},\"type\":\"contourcarpet\"}],\"heatmap\":[{\"colorbar\":{\"outlinewidth\":0,\"ticks\":\"\"},\"colorscale\":[[0.0,\"#0d0887\"],[0.1111111111111111,\"#46039f\"],[0.2222222222222222,\"#7201a8\"],[0.3333333333333333,\"#9c179e\"],[0.4444444444444444,\"#bd3786\"],[0.5555555555555556,\"#d8576b\"],[0.6666666666666666,\"#ed7953\"],[0.7777777777777778,\"#fb9f3a\"],[0.8888888888888888,\"#fdca26\"],[1.0,\"#f0f921\"]],\"type\":\"heatmap\"}],\"heatmapgl\":[{\"colorbar\":{\"outlinewidth\":0,\"ticks\":\"\"},\"colorscale\":[[0.0,\"#0d0887\"],[0.1111111111111111,\"#46039f\"],[0.2222222222222222,\"#7201a8\"],[0.3333333333333333,\"#9c179e\"],[0.4444444444444444,\"#bd3786\"],[0.5555555555555556,\"#d8576b\"],[0.6666666666666666,\"#ed7953\"],[0.7777777777777778,\"#fb9f3a\"],[0.8888888888888888,\"#fdca26\"],[1.0,\"#f0f921\"]],\"type\":\"heatmapgl\"}],\"histogram\":[{\"marker\":{\"pattern\":{\"fillmode\":\"overlay\",\"size\":10,\"solidity\":0.2}},\"type\":\"histogram\"}],\"histogram2d\":[{\"colorbar\":{\"outlinewidth\":0,\"ticks\":\"\"},\"colorscale\":[[0.0,\"#0d0887\"],[0.1111111111111111,\"#46039f\"],[0.2222222222222222,\"#7201a8\"],[0.3333333333333333,\"#9c179e\"],[0.4444444444444444,\"#bd3786\"],[0.5555555555555556,\"#d8576b\"],[0.6666666666666666,\"#ed7953\"],[0.7777777777777778,\"#fb9f3a\"],[0.8888888888888888,\"#fdca26\"],[1.0,\"#f0f921\"]],\"type\":\"histogram2d\"}],\"histogram2dcontour\":[{\"colorbar\":{\"outlinewidth\":0,\"ticks\":\"\"},\"colorscale\":[[0.0,\"#0d0887\"],[0.1111111111111111,\"#46039f\"],[0.2222222222222222,\"#7201a8\"],[0.3333333333333333,\"#9c179e\"],[0.4444444444444444,\"#bd3786\"],[0.5555555555555556,\"#d8576b\"],[0.6666666666666666,\"#ed7953\"],[0.7777777777777778,\"#fb9f3a\"],[0.8888888888888888,\"#fdca26\"],[1.0,\"#f0f921\"]],\"type\":\"histogram2dcontour\"}],\"mesh3d\":[{\"colorbar\":{\"outlinewidth\":0,\"ticks\":\"\"},\"type\":\"mesh3d\"}],\"parcoords\":[{\"line\":{\"colorbar\":{\"outlinewidth\":0,\"ticks\":\"\"}},\"type\":\"parcoords\"}],\"pie\":[{\"automargin\":true,\"type\":\"pie\"}],\"scatter\":[{\"marker\":{\"colorbar\":{\"outlinewidth\":0,\"ticks\":\"\"}},\"type\":\"scatter\"}],\"scatter3d\":[{\"line\":{\"colorbar\":{\"outlinewidth\":0,\"ticks\":\"\"}},\"marker\":{\"colorbar\":{\"outlinewidth\":0,\"ticks\":\"\"}},\"type\":\"scatter3d\"}],\"scattercarpet\":[{\"marker\":{\"colorbar\":{\"outlinewidth\":0,\"ticks\":\"\"}},\"type\":\"scattercarpet\"}],\"scattergeo\":[{\"marker\":{\"colorbar\":{\"outlinewidth\":0,\"ticks\":\"\"}},\"type\":\"scattergeo\"}],\"scattergl\":[{\"marker\":{\"colorbar\":{\"outlinewidth\":0,\"ticks\":\"\"}},\"type\":\"scattergl\"}],\"scattermapbox\":[{\"marker\":{\"colorbar\":{\"outlinewidth\":0,\"ticks\":\"\"}},\"type\":\"scattermapbox\"}],\"scatterpolar\":[{\"marker\":{\"colorbar\":{\"outlinewidth\":0,\"ticks\":\"\"}},\"type\":\"scatterpolar\"}],\"scatterpolargl\":[{\"marker\":{\"colorbar\":{\"outlinewidth\":0,\"ticks\":\"\"}},\"type\":\"scatterpolargl\"}],\"scatterternary\":[{\"marker\":{\"colorbar\":{\"outlinewidth\":0,\"ticks\":\"\"}},\"type\":\"scatterternary\"}],\"surface\":[{\"colorbar\":{\"outlinewidth\":0,\"ticks\":\"\"},\"colorscale\":[[0.0,\"#0d0887\"],[0.1111111111111111,\"#46039f\"],[0.2222222222222222,\"#7201a8\"],[0.3333333333333333,\"#9c179e\"],[0.4444444444444444,\"#bd3786\"],[0.5555555555555556,\"#d8576b\"],[0.6666666666666666,\"#ed7953\"],[0.7777777777777778,\"#fb9f3a\"],[0.8888888888888888,\"#fdca26\"],[1.0,\"#f0f921\"]],\"type\":\"surface\"}],\"table\":[{\"cells\":{\"fill\":{\"color\":\"#EBF0F8\"},\"line\":{\"color\":\"white\"}},\"header\":{\"fill\":{\"color\":\"#C8D4E3\"},\"line\":{\"color\":\"white\"}},\"type\":\"table\"}]},\"layout\":{\"annotationdefaults\":{\"arrowcolor\":\"#2a3f5f\",\"arrowhead\":0,\"arrowwidth\":1},\"autotypenumbers\":\"strict\",\"coloraxis\":{\"colorbar\":{\"outlinewidth\":0,\"ticks\":\"\"}},\"colorscale\":{\"diverging\":[[0,\"#8e0152\"],[0.1,\"#c51b7d\"],[0.2,\"#de77ae\"],[0.3,\"#f1b6da\"],[0.4,\"#fde0ef\"],[0.5,\"#f7f7f7\"],[0.6,\"#e6f5d0\"],[0.7,\"#b8e186\"],[0.8,\"#7fbc41\"],[0.9,\"#4d9221\"],[1,\"#276419\"]],\"sequential\":[[0.0,\"#0d0887\"],[0.1111111111111111,\"#46039f\"],[0.2222222222222222,\"#7201a8\"],[0.3333333333333333,\"#9c179e\"],[0.4444444444444444,\"#bd3786\"],[0.5555555555555556,\"#d8576b\"],[0.6666666666666666,\"#ed7953\"],[0.7777777777777778,\"#fb9f3a\"],[0.8888888888888888,\"#fdca26\"],[1.0,\"#f0f921\"]],\"sequentialminus\":[[0.0,\"#0d0887\"],[0.1111111111111111,\"#46039f\"],[0.2222222222222222,\"#7201a8\"],[0.3333333333333333,\"#9c179e\"],[0.4444444444444444,\"#bd3786\"],[0.5555555555555556,\"#d8576b\"],[0.6666666666666666,\"#ed7953\"],[0.7777777777777778,\"#fb9f3a\"],[0.8888888888888888,\"#fdca26\"],[1.0,\"#f0f921\"]]},\"colorway\":[\"#636efa\",\"#EF553B\",\"#00cc96\",\"#ab63fa\",\"#FFA15A\",\"#19d3f3\",\"#FF6692\",\"#B6E880\",\"#FF97FF\",\"#FECB52\"],\"font\":{\"color\":\"#2a3f5f\"},\"geo\":{\"bgcolor\":\"white\",\"lakecolor\":\"white\",\"landcolor\":\"#E5ECF6\",\"showlakes\":true,\"showland\":true,\"subunitcolor\":\"white\"},\"hoverlabel\":{\"align\":\"left\"},\"hovermode\":\"closest\",\"mapbox\":{\"style\":\"light\"},\"paper_bgcolor\":\"white\",\"plot_bgcolor\":\"#E5ECF6\",\"polar\":{\"angularaxis\":{\"gridcolor\":\"white\",\"linecolor\":\"white\",\"ticks\":\"\"},\"bgcolor\":\"#E5ECF6\",\"radialaxis\":{\"gridcolor\":\"white\",\"linecolor\":\"white\",\"ticks\":\"\"}},\"scene\":{\"xaxis\":{\"backgroundcolor\":\"#E5ECF6\",\"gridcolor\":\"white\",\"gridwidth\":2,\"linecolor\":\"white\",\"showbackground\":true,\"ticks\":\"\",\"zerolinecolor\":\"white\"},\"yaxis\":{\"backgroundcolor\":\"#E5ECF6\",\"gridcolor\":\"white\",\"gridwidth\":2,\"linecolor\":\"white\",\"showbackground\":true,\"ticks\":\"\",\"zerolinecolor\":\"white\"},\"zaxis\":{\"backgroundcolor\":\"#E5ECF6\",\"gridcolor\":\"white\",\"gridwidth\":2,\"linecolor\":\"white\",\"showbackground\":true,\"ticks\":\"\",\"zerolinecolor\":\"white\"}},\"shapedefaults\":{\"line\":{\"color\":\"#2a3f5f\"}},\"ternary\":{\"aaxis\":{\"gridcolor\":\"white\",\"linecolor\":\"white\",\"ticks\":\"\"},\"baxis\":{\"gridcolor\":\"white\",\"linecolor\":\"white\",\"ticks\":\"\"},\"bgcolor\":\"#E5ECF6\",\"caxis\":{\"gridcolor\":\"white\",\"linecolor\":\"white\",\"ticks\":\"\"}},\"title\":{\"x\":0.05},\"xaxis\":{\"automargin\":true,\"gridcolor\":\"white\",\"linecolor\":\"white\",\"ticks\":\"\",\"title\":{\"standoff\":15},\"zerolinecolor\":\"white\",\"zerolinewidth\":2},\"yaxis\":{\"automargin\":true,\"gridcolor\":\"white\",\"linecolor\":\"white\",\"ticks\":\"\",\"title\":{\"standoff\":15},\"zerolinecolor\":\"white\",\"zerolinewidth\":2}}},\"xaxis\":{\"anchor\":\"y\",\"domain\":[0.0,0.45499999999999996],\"title\":{\"text\":\"Grades\"},\"categoryorder\":\"array\",\"categoryarray\":[\"As\",\"Bs\",\"Cs\",\"Ds\",\"NAs\",\"Entries\"]},\"yaxis\":{\"anchor\":\"x\",\"domain\":[0.0,0.17600000000000002],\"title\":{\"text\":\"Students\"},\"rangemode\":\"tozero\",\"showticklabels\":true},\"xaxis2\":{\"anchor\":\"y2\",\"domain\":[0.5249999999999999,0.9799999999999999],\"matches\":\"x\",\"title\":{\"text\":\"Grades\"},\"categoryorder\":\"array\",\"categoryarray\":[\"As\",\"Bs\",\"Cs\",\"Ds\",\"NAs\",\"Entries\"]},\"yaxis2\":{\"anchor\":\"x2\",\"domain\":[0.0,0.17600000000000002],\"showticklabels\":true,\"rangemode\":\"tozero\"},\"xaxis3\":{\"anchor\":\"y3\",\"domain\":[0.0,0.45499999999999996],\"matches\":\"x\",\"showticklabels\":false},\"yaxis3\":{\"anchor\":\"x3\",\"domain\":[0.20600000000000002,0.382],\"title\":{\"text\":\"Students\"},\"rangemode\":\"tozero\",\"showticklabels\":true},\"xaxis4\":{\"anchor\":\"y4\",\"domain\":[0.5249999999999999,0.9799999999999999],\"matches\":\"x\",\"showticklabels\":false},\"yaxis4\":{\"anchor\":\"x4\",\"domain\":[0.20600000000000002,0.382],\"showticklabels\":true,\"rangemode\":\"tozero\"},\"xaxis5\":{\"anchor\":\"y5\",\"domain\":[0.0,0.45499999999999996],\"matches\":\"x\",\"showticklabels\":false},\"yaxis5\":{\"anchor\":\"x5\",\"domain\":[0.41200000000000003,0.5880000000000001],\"title\":{\"text\":\"Students\"},\"rangemode\":\"tozero\",\"showticklabels\":true},\"xaxis6\":{\"anchor\":\"y6\",\"domain\":[0.5249999999999999,0.9799999999999999],\"matches\":\"x\",\"showticklabels\":false},\"yaxis6\":{\"anchor\":\"x6\",\"domain\":[0.41200000000000003,0.5880000000000001],\"showticklabels\":true,\"rangemode\":\"tozero\"},\"xaxis7\":{\"anchor\":\"y7\",\"domain\":[0.0,0.45499999999999996],\"matches\":\"x\",\"showticklabels\":false},\"yaxis7\":{\"anchor\":\"x7\",\"domain\":[0.618,0.794],\"title\":{\"text\":\"Students\"},\"rangemode\":\"tozero\",\"showticklabels\":true},\"xaxis8\":{\"anchor\":\"y8\",\"domain\":[0.5249999999999999,0.9799999999999999],\"matches\":\"x\",\"showticklabels\":false},\"yaxis8\":{\"anchor\":\"x8\",\"domain\":[0.618,0.794],\"showticklabels\":true,\"rangemode\":\"tozero\"},\"xaxis9\":{\"anchor\":\"y9\",\"domain\":[0.0,0.45499999999999996],\"matches\":\"x\",\"showticklabels\":false},\"yaxis9\":{\"anchor\":\"x9\",\"domain\":[0.8240000000000001,1.0],\"title\":{\"text\":\"Students\"},\"rangemode\":\"tozero\",\"showticklabels\":true},\"xaxis10\":{\"anchor\":\"y10\",\"domain\":[0.5249999999999999,0.9799999999999999],\"matches\":\"x\",\"showticklabels\":false},\"yaxis10\":{\"anchor\":\"x10\",\"domain\":[0.8240000000000001,1.0],\"showticklabels\":true,\"rangemode\":\"tozero\"},\"annotations\":[{\"font\":{},\"showarrow\":false,\"text\":\"School=State\",\"x\":0.22749999999999998,\"xanchor\":\"center\",\"xref\":\"paper\",\"y\":1.0,\"yanchor\":\"bottom\",\"yref\":\"paper\"},{\"font\":{},\"showarrow\":false,\"text\":\"School=Ind\",\"x\":0.7525,\"xanchor\":\"center\",\"xref\":\"paper\",\"y\":1.0,\"yanchor\":\"bottom\",\"yref\":\"paper\"},{\"font\":{},\"showarrow\":false,\"text\":\"Year=2018\",\"textangle\":90,\"x\":0.9799999999999999,\"xanchor\":\"left\",\"xref\":\"paper\",\"y\":0.08800000000000001,\"yanchor\":\"middle\",\"yref\":\"paper\"},{\"font\":{},\"showarrow\":false,\"text\":\"Year=2019\",\"textangle\":90,\"x\":0.9799999999999999,\"xanchor\":\"left\",\"xref\":\"paper\",\"y\":0.29400000000000004,\"yanchor\":\"middle\",\"yref\":\"paper\"},{\"font\":{},\"showarrow\":false,\"text\":\"Year=2020\",\"textangle\":90,\"x\":0.9799999999999999,\"xanchor\":\"left\",\"xref\":\"paper\",\"y\":0.5,\"yanchor\":\"middle\",\"yref\":\"paper\"},{\"font\":{},\"showarrow\":false,\"text\":\"Year=2021\",\"textangle\":90,\"x\":0.9799999999999999,\"xanchor\":\"left\",\"xref\":\"paper\",\"y\":0.706,\"yanchor\":\"middle\",\"yref\":\"paper\"},{\"font\":{},\"showarrow\":false,\"text\":\"Year=2022\",\"textangle\":90,\"x\":0.9799999999999999,\"xanchor\":\"left\",\"xref\":\"paper\",\"y\":0.912,\"yanchor\":\"middle\",\"yref\":\"paper\"}],\"legend\":{\"title\":{\"text\":\"Subject\"},\"tracegroupgap\":0},\"title\":{\"text\":\"Subject grades per year at Advanced Higher\"},\"barmode\":\"overlay\",\"height\":1400,\"width\":1000},                        {\"responsive\": true}                    ).then(function(){\n",
       "                            \n",
       "var gd = document.getElementById('f32cc89d-5836-43ca-81fd-e367d0673dbc');\n",
       "var x = new MutationObserver(function (mutations, observer) {{\n",
       "        var display = window.getComputedStyle(gd).display;\n",
       "        if (!display || display === 'none') {{\n",
       "            console.log([gd, 'removed!']);\n",
       "            Plotly.purge(gd);\n",
       "            observer.disconnect();\n",
       "        }}\n",
       "}});\n",
       "\n",
       "// Listen for the removal of the full notebook cells\n",
       "var notebookContainer = gd.closest('#notebook-container');\n",
       "if (notebookContainer) {{\n",
       "    x.observe(notebookContainer, {childList: true});\n",
       "}}\n",
       "\n",
       "// Listen for the clearing of the current output cell\n",
       "var outputEl = gd.closest('.output');\n",
       "if (outputEl) {{\n",
       "    x.observe(outputEl, {childList: true});\n",
       "}}\n",
       "\n",
       "                        })                };                });            </script>        </div>"
      ]
     },
     "metadata": {},
     "output_type": "display_data"
    }
   ],
   "source": [
    "# Plot graph\n",
    "\n",
    "fig = px.bar(dfc, x = \"Grades\", y = \"Count\", \n",
    "                color = \"Subject\",\n",
    "                barmode = 'overlay',\n",
    "                facet_row = 'Year',\n",
    "                facet_col = 'School',\n",
    "                facet_col_spacing = 0.07,\n",
    "                width = 1000,\n",
    "                height = 1400,\n",
    "                labels={\"Count\": \"Students\"},\n",
    "                category_orders = {'Grades' : ['As', 'Bs', 'Cs', 'Ds', 'NAs', 'Entries']},\n",
    "                title = 'Subject grades per year at ' + level_label\n",
    "                )\n",
    "\n",
    "fig.update_yaxes(matches=None, rangemode = \"tozero\", showticklabels=True)\n",
    "\n",
    "fig.write_html('./graphs/subject_bars_' + level + '.html')\n",
    "\n",
    "fig.show()"
   ]
  },
  {
   "cell_type": "code",
   "execution_count": 51,
   "id": "fa3a002f",
   "metadata": {},
   "outputs": [
    {
     "data": {
      "text/plain": [
       "'https://plotly.com/~mrcrookes/59/'"
      ]
     },
     "execution_count": 51,
     "metadata": {},
     "output_type": "execute_result"
    }
   ],
   "source": [
    "# Upload to Chart Studio\n",
    "py.plot(fig, filename = 'Subject_bars' + level, auto_open=True)\n",
    "\n",
    "# Output html embed code\n",
    "#tls.get_embed('https://plotly.com/~mrcrookes/14/') #change to your url"
   ]
  },
  {
   "cell_type": "code",
   "execution_count": null,
   "id": "2771564f",
   "metadata": {},
   "outputs": [],
   "source": []
  }
 ],
 "metadata": {
  "kernelspec": {
   "display_name": "Python 3 (ipykernel)",
   "language": "python",
   "name": "python3"
  },
  "language_info": {
   "codemirror_mode": {
    "name": "ipython",
    "version": 3
   },
   "file_extension": ".py",
   "mimetype": "text/x-python",
   "name": "python",
   "nbconvert_exporter": "python",
   "pygments_lexer": "ipython3",
   "version": "3.10.4"
  }
 },
 "nbformat": 4,
 "nbformat_minor": 5
}
