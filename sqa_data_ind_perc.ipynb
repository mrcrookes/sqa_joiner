{
 "cells": [
  {
   "cell_type": "code",
   "execution_count": 35,
   "id": "351e9e34",
   "metadata": {},
   "outputs": [],
   "source": [
    "# Import key librarys\n",
    "\n",
    "import pandas as pd\n",
    "import numpy as np\n",
    "\n",
    "import plotly.express as px\n",
    "\n",
    "import chart_studio\n",
    "import chart_studio.plotly as py\n",
    "import chart_studio.tools as tls"
   ]
  },
  {
   "cell_type": "code",
   "execution_count": 36,
   "id": "76e97a41",
   "metadata": {},
   "outputs": [],
   "source": [
    "# Setup Chart Studio\n",
    "username = 'mrcrookes' # your username\n",
    "api_key = 'ZgEVmRwdEN7u8cqkga9A' # your api key - go to profile > settings > regenerate key\n",
    "chart_studio.tools.set_credentials_file(username=username, api_key=api_key)"
   ]
  },
  {
   "cell_type": "code",
   "execution_count": 37,
   "id": "ef265087",
   "metadata": {},
   "outputs": [],
   "source": [
    "# Define level\n",
    "level = 'National_5'\n",
    "level_label = level.replace('_', ' ')\n",
    "\n",
    "# Import data\n",
    "ind_df = pd.read_excel(\"attainment-statistics-(august)-2022-provisional-centre-independent.ods\", \n",
    "                       engine = \"odf\", sheet_name = level, skiprows = 2)\n",
    "\n",
    "state_df = pd.read_excel(\"attainment-statistics-(august)-2022-provisional-centre-education-authority.ods\", \n",
    "                        engine = \"odf\", sheet_name = level, skiprows = 2)"
   ]
  },
  {
   "cell_type": "code",
   "execution_count": 38,
   "id": "4777f37a",
   "metadata": {},
   "outputs": [],
   "source": [
    "def tidy_up_1(df):\n",
    "    \n",
    "    # Remove spaces and replace with '_'\n",
    "    df.columns = df.columns.str.replace(' ','_')\n",
    "\n",
    "    #df.drop(df[df.Grade_A_Count_2022 == '[z]'].index, inplace=True)\n",
    "    df = df.replace('[z]', np.nan)\n",
    "    df = df.replace('[c]', np.nan)\n",
    "    df = df.replace('[low]', np.nan)\n",
    "\n",
    "    # Remove last row\n",
    "    df = df.drop(df.index[-1])\n",
    "\n",
    "    # Remove columns with Percentage in the heading\n",
    "    df = df[df.columns.drop(list(df.filter(regex='Percentage')))]\n",
    "    \n",
    "    return df\n",
    "    \n",
    "ind_df = tidy_up_1(ind_df)\n",
    "state_df = tidy_up_1(state_df)"
   ]
  },
  {
   "cell_type": "code",
   "execution_count": 39,
   "id": "53988880",
   "metadata": {},
   "outputs": [],
   "source": [
    "def tidy_up_2(df):\n",
    "\n",
    "    # Create a list of years\n",
    "    years = ['2022', '2021', '2020', '2019', '2018']\n",
    "\n",
    "    # Sort out column titles\n",
    "    for year in years:\n",
    "        df = df.rename({'Grade_A_Count_' + year: 'As_' + year}, axis=1)\n",
    "        df = df.rename({'Grades_A-B_Count_' + year: 'A-Bs_' + year}, axis=1)\n",
    "        df = df.rename({'Grades_A-C_Count_' + year: 'A-Cs_' + year}, axis=1)\n",
    "        df = df.rename({'Grades_A-D_Count_' + year: 'A-Ds_' + year}, axis=1)\n",
    "        df = df.rename({'No_Award_Count_' + year: 'NAs_' + year}, axis=1)\n",
    "\n",
    "    # Calculate number of Bs, Cs and Ds\n",
    "    for year in years:\n",
    "        df['Bs_' + year] = df['A-Bs_' + year] - df['As_' + year]\n",
    "        df['Cs_' + year] = df['A-Cs_' + year] - df['A-Bs_' + year]\n",
    "        df['Ds_' + year] = df['A-Ds_' + year] - df['A-Cs_' + year]\n",
    "\n",
    "    # Remove original columns\n",
    "    for year in years:\n",
    "        df.drop('A-Bs_' + year, axis=1, inplace=True)\n",
    "        df.drop('A-Cs_' + year, axis=1, inplace=True)\n",
    "        df.drop('A-Ds_' + year, axis=1, inplace=True)\n",
    "        \n",
    "    return df\n",
    "        \n",
    "ind_df = tidy_up_2(ind_df)\n",
    "state_df = tidy_up_2(state_df)"
   ]
  },
  {
   "cell_type": "code",
   "execution_count": 40,
   "id": "25adda0c",
   "metadata": {},
   "outputs": [
    {
     "data": {
      "text/html": [
       "<div>\n",
       "<style scoped>\n",
       "    .dataframe tbody tr th:only-of-type {\n",
       "        vertical-align: middle;\n",
       "    }\n",
       "\n",
       "    .dataframe tbody tr th {\n",
       "        vertical-align: top;\n",
       "    }\n",
       "\n",
       "    .dataframe thead th {\n",
       "        text-align: right;\n",
       "    }\n",
       "</style>\n",
       "<table border=\"1\" class=\"dataframe\">\n",
       "  <thead>\n",
       "    <tr style=\"text-align: right;\">\n",
       "      <th></th>\n",
       "      <th>Subject</th>\n",
       "      <th>As_2022</th>\n",
       "      <th>NAs_2022</th>\n",
       "      <th>Entries_2022</th>\n",
       "      <th>As_2021</th>\n",
       "      <th>NAs_2021</th>\n",
       "      <th>Entries_2021</th>\n",
       "      <th>As_2020</th>\n",
       "      <th>NAs_2020</th>\n",
       "      <th>Entries_2020</th>\n",
       "      <th>...</th>\n",
       "      <th>Ds_2021</th>\n",
       "      <th>Bs_2020</th>\n",
       "      <th>Cs_2020</th>\n",
       "      <th>Ds_2020</th>\n",
       "      <th>Bs_2019</th>\n",
       "      <th>Cs_2019</th>\n",
       "      <th>Ds_2019</th>\n",
       "      <th>Bs_2018</th>\n",
       "      <th>Cs_2018</th>\n",
       "      <th>Ds_2018</th>\n",
       "    </tr>\n",
       "  </thead>\n",
       "  <tbody>\n",
       "    <tr>\n",
       "      <th>0</th>\n",
       "      <td>Accounting</td>\n",
       "      <td>15.0</td>\n",
       "      <td>NaN</td>\n",
       "      <td>20.0</td>\n",
       "      <td>25.0</td>\n",
       "      <td>0.0</td>\n",
       "      <td>35</td>\n",
       "      <td>30.0</td>\n",
       "      <td>0.0</td>\n",
       "      <td>35.0</td>\n",
       "      <td>...</td>\n",
       "      <td>0.0</td>\n",
       "      <td>5.0</td>\n",
       "      <td>0.0</td>\n",
       "      <td>0.0</td>\n",
       "      <td>5.0</td>\n",
       "      <td>5.0</td>\n",
       "      <td>5.0</td>\n",
       "      <td>5.0</td>\n",
       "      <td>5.0</td>\n",
       "      <td>0.0</td>\n",
       "    </tr>\n",
       "    <tr>\n",
       "      <th>1</th>\n",
       "      <td>Administration and IT</td>\n",
       "      <td>10.0</td>\n",
       "      <td>NaN</td>\n",
       "      <td>30.0</td>\n",
       "      <td>20.0</td>\n",
       "      <td>0.0</td>\n",
       "      <td>35</td>\n",
       "      <td>10.0</td>\n",
       "      <td>0.0</td>\n",
       "      <td>25.0</td>\n",
       "      <td>...</td>\n",
       "      <td>0.0</td>\n",
       "      <td>10.0</td>\n",
       "      <td>5.0</td>\n",
       "      <td>0.0</td>\n",
       "      <td>10.0</td>\n",
       "      <td>5.0</td>\n",
       "      <td>5.0</td>\n",
       "      <td>10.0</td>\n",
       "      <td>5.0</td>\n",
       "      <td>5.0</td>\n",
       "    </tr>\n",
       "    <tr>\n",
       "      <th>2</th>\n",
       "      <td>Applications of Mathematics</td>\n",
       "      <td>75.0</td>\n",
       "      <td>5.0</td>\n",
       "      <td>145.0</td>\n",
       "      <td>75.0</td>\n",
       "      <td>15.0</td>\n",
       "      <td>155</td>\n",
       "      <td>75.0</td>\n",
       "      <td>5.0</td>\n",
       "      <td>135.0</td>\n",
       "      <td>...</td>\n",
       "      <td>5.0</td>\n",
       "      <td>20.0</td>\n",
       "      <td>25.0</td>\n",
       "      <td>10.0</td>\n",
       "      <td>20.0</td>\n",
       "      <td>5.0</td>\n",
       "      <td>10.0</td>\n",
       "      <td>5.0</td>\n",
       "      <td>15.0</td>\n",
       "      <td>5.0</td>\n",
       "    </tr>\n",
       "    <tr>\n",
       "      <th>3</th>\n",
       "      <td>Art and Design</td>\n",
       "      <td>405.0</td>\n",
       "      <td>NaN</td>\n",
       "      <td>535.0</td>\n",
       "      <td>370.0</td>\n",
       "      <td>NaN</td>\n",
       "      <td>460</td>\n",
       "      <td>395.0</td>\n",
       "      <td>NaN</td>\n",
       "      <td>520.0</td>\n",
       "      <td>...</td>\n",
       "      <td>0.0</td>\n",
       "      <td>95.0</td>\n",
       "      <td>25.0</td>\n",
       "      <td>5.0</td>\n",
       "      <td>85.0</td>\n",
       "      <td>30.0</td>\n",
       "      <td>10.0</td>\n",
       "      <td>105.0</td>\n",
       "      <td>35.0</td>\n",
       "      <td>10.0</td>\n",
       "    </tr>\n",
       "    <tr>\n",
       "      <th>4</th>\n",
       "      <td>Biology</td>\n",
       "      <td>1110.0</td>\n",
       "      <td>35.0</td>\n",
       "      <td>1630.0</td>\n",
       "      <td>1100.0</td>\n",
       "      <td>40.0</td>\n",
       "      <td>1555</td>\n",
       "      <td>1030.0</td>\n",
       "      <td>10.0</td>\n",
       "      <td>1560.0</td>\n",
       "      <td>...</td>\n",
       "      <td>55.0</td>\n",
       "      <td>295.0</td>\n",
       "      <td>190.0</td>\n",
       "      <td>35.0</td>\n",
       "      <td>265.0</td>\n",
       "      <td>150.0</td>\n",
       "      <td>80.0</td>\n",
       "      <td>280.0</td>\n",
       "      <td>145.0</td>\n",
       "      <td>70.0</td>\n",
       "    </tr>\n",
       "  </tbody>\n",
       "</table>\n",
       "<p>5 rows × 31 columns</p>\n",
       "</div>"
      ],
      "text/plain": [
       "                       Subject  As_2022  NAs_2022  Entries_2022  As_2021  \\\n",
       "0                   Accounting     15.0       NaN          20.0     25.0   \n",
       "1        Administration and IT     10.0       NaN          30.0     20.0   \n",
       "2  Applications of Mathematics     75.0       5.0         145.0     75.0   \n",
       "3               Art and Design    405.0       NaN         535.0    370.0   \n",
       "4                      Biology   1110.0      35.0        1630.0   1100.0   \n",
       "\n",
       "   NAs_2021  Entries_2021  As_2020  NAs_2020  Entries_2020  ...  Ds_2021  \\\n",
       "0       0.0            35     30.0       0.0          35.0  ...      0.0   \n",
       "1       0.0            35     10.0       0.0          25.0  ...      0.0   \n",
       "2      15.0           155     75.0       5.0         135.0  ...      5.0   \n",
       "3       NaN           460    395.0       NaN         520.0  ...      0.0   \n",
       "4      40.0          1555   1030.0      10.0        1560.0  ...     55.0   \n",
       "\n",
       "   Bs_2020  Cs_2020  Ds_2020  Bs_2019  Cs_2019  Ds_2019  Bs_2018  Cs_2018  \\\n",
       "0      5.0      0.0      0.0      5.0      5.0      5.0      5.0      5.0   \n",
       "1     10.0      5.0      0.0     10.0      5.0      5.0     10.0      5.0   \n",
       "2     20.0     25.0     10.0     20.0      5.0     10.0      5.0     15.0   \n",
       "3     95.0     25.0      5.0     85.0     30.0     10.0    105.0     35.0   \n",
       "4    295.0    190.0     35.0    265.0    150.0     80.0    280.0    145.0   \n",
       "\n",
       "   Ds_2018  \n",
       "0      0.0  \n",
       "1      5.0  \n",
       "2      5.0  \n",
       "3     10.0  \n",
       "4     70.0  \n",
       "\n",
       "[5 rows x 31 columns]"
      ]
     },
     "execution_count": 40,
     "metadata": {},
     "output_type": "execute_result"
    }
   ],
   "source": [
    "ind_df.head()"
   ]
  },
  {
   "cell_type": "code",
   "execution_count": 41,
   "id": "112fdc8b",
   "metadata": {},
   "outputs": [
    {
     "data": {
      "text/html": [
       "<div>\n",
       "<style scoped>\n",
       "    .dataframe tbody tr th:only-of-type {\n",
       "        vertical-align: middle;\n",
       "    }\n",
       "\n",
       "    .dataframe tbody tr th {\n",
       "        vertical-align: top;\n",
       "    }\n",
       "\n",
       "    .dataframe thead th {\n",
       "        text-align: right;\n",
       "    }\n",
       "</style>\n",
       "<table border=\"1\" class=\"dataframe\">\n",
       "  <thead>\n",
       "    <tr style=\"text-align: right;\">\n",
       "      <th></th>\n",
       "      <th>Subject</th>\n",
       "      <th>Count</th>\n",
       "      <th>Grades</th>\n",
       "      <th>Year</th>\n",
       "    </tr>\n",
       "  </thead>\n",
       "  <tbody>\n",
       "    <tr>\n",
       "      <th>0</th>\n",
       "      <td>Accounting</td>\n",
       "      <td>425.0</td>\n",
       "      <td>As</td>\n",
       "      <td>2022</td>\n",
       "    </tr>\n",
       "    <tr>\n",
       "      <th>1</th>\n",
       "      <td>Administration and IT</td>\n",
       "      <td>1665.0</td>\n",
       "      <td>As</td>\n",
       "      <td>2022</td>\n",
       "    </tr>\n",
       "    <tr>\n",
       "      <th>2</th>\n",
       "      <td>Applications of Mathematics</td>\n",
       "      <td>3350.0</td>\n",
       "      <td>As</td>\n",
       "      <td>2022</td>\n",
       "    </tr>\n",
       "    <tr>\n",
       "      <th>3</th>\n",
       "      <td>Art and Design</td>\n",
       "      <td>4075.0</td>\n",
       "      <td>As</td>\n",
       "      <td>2022</td>\n",
       "    </tr>\n",
       "    <tr>\n",
       "      <th>4</th>\n",
       "      <td>Biology</td>\n",
       "      <td>6220.0</td>\n",
       "      <td>As</td>\n",
       "      <td>2022</td>\n",
       "    </tr>\n",
       "  </tbody>\n",
       "</table>\n",
       "</div>"
      ],
      "text/plain": [
       "                       Subject   Count Grades  Year\n",
       "0                   Accounting   425.0     As  2022\n",
       "1        Administration and IT  1665.0     As  2022\n",
       "2  Applications of Mathematics  3350.0     As  2022\n",
       "3               Art and Design  4075.0     As  2022\n",
       "4                      Biology  6220.0     As  2022"
      ]
     },
     "execution_count": 41,
     "metadata": {},
     "output_type": "execute_result"
    }
   ],
   "source": [
    "# Convert into long format\n",
    "\n",
    "def tolong(df):\n",
    "    ldf = pd.melt(df, id_vars = ['Subject'], var_name = 'abc', value_name ='Count')\n",
    "    ldf['Grades'] = ldf['abc'].apply(lambda x: (x.rsplit('_', 1))[0])\n",
    "    ldf['Year'] = ldf.pop('abc').apply(lambda x: (x.split('_'))[-1])\n",
    "    \n",
    "    return ldf\n",
    "    \n",
    "ind_ldf = tolong(ind_df)\n",
    "state_ldf = tolong(state_df)\n",
    "\n",
    "state_ldf.head()"
   ]
  },
  {
   "cell_type": "code",
   "execution_count": 42,
   "id": "14e4e4ae",
   "metadata": {},
   "outputs": [
    {
     "data": {
      "text/html": [
       "<div>\n",
       "<style scoped>\n",
       "    .dataframe tbody tr th:only-of-type {\n",
       "        vertical-align: middle;\n",
       "    }\n",
       "\n",
       "    .dataframe tbody tr th {\n",
       "        vertical-align: top;\n",
       "    }\n",
       "\n",
       "    .dataframe thead th {\n",
       "        text-align: right;\n",
       "    }\n",
       "</style>\n",
       "<table border=\"1\" class=\"dataframe\">\n",
       "  <thead>\n",
       "    <tr style=\"text-align: right;\">\n",
       "      <th></th>\n",
       "      <th>Subject</th>\n",
       "      <th>Year</th>\n",
       "      <th>Grades</th>\n",
       "      <th>Count_x</th>\n",
       "      <th>Count_y</th>\n",
       "      <th>perc</th>\n",
       "    </tr>\n",
       "  </thead>\n",
       "  <tbody>\n",
       "    <tr>\n",
       "      <th>0</th>\n",
       "      <td>Accounting</td>\n",
       "      <td>2022</td>\n",
       "      <td>As</td>\n",
       "      <td>425.0</td>\n",
       "      <td>15.0</td>\n",
       "      <td>0.034</td>\n",
       "    </tr>\n",
       "    <tr>\n",
       "      <th>1</th>\n",
       "      <td>Administration and IT</td>\n",
       "      <td>2022</td>\n",
       "      <td>As</td>\n",
       "      <td>1665.0</td>\n",
       "      <td>10.0</td>\n",
       "      <td>0.006</td>\n",
       "    </tr>\n",
       "    <tr>\n",
       "      <th>2</th>\n",
       "      <td>Applications of Mathematics</td>\n",
       "      <td>2022</td>\n",
       "      <td>As</td>\n",
       "      <td>3350.0</td>\n",
       "      <td>75.0</td>\n",
       "      <td>0.022</td>\n",
       "    </tr>\n",
       "    <tr>\n",
       "      <th>3</th>\n",
       "      <td>Art and Design</td>\n",
       "      <td>2022</td>\n",
       "      <td>As</td>\n",
       "      <td>4075.0</td>\n",
       "      <td>405.0</td>\n",
       "      <td>0.090</td>\n",
       "    </tr>\n",
       "    <tr>\n",
       "      <th>4</th>\n",
       "      <td>Biology</td>\n",
       "      <td>2022</td>\n",
       "      <td>As</td>\n",
       "      <td>6220.0</td>\n",
       "      <td>1110.0</td>\n",
       "      <td>0.151</td>\n",
       "    </tr>\n",
       "    <tr>\n",
       "      <th>5</th>\n",
       "      <td>Business Management</td>\n",
       "      <td>2022</td>\n",
       "      <td>As</td>\n",
       "      <td>3165.0</td>\n",
       "      <td>485.0</td>\n",
       "      <td>0.133</td>\n",
       "    </tr>\n",
       "    <tr>\n",
       "      <th>6</th>\n",
       "      <td>Chemistry</td>\n",
       "      <td>2022</td>\n",
       "      <td>As</td>\n",
       "      <td>5545.0</td>\n",
       "      <td>1075.0</td>\n",
       "      <td>0.162</td>\n",
       "    </tr>\n",
       "    <tr>\n",
       "      <th>7</th>\n",
       "      <td>Chinese Languages</td>\n",
       "      <td>2022</td>\n",
       "      <td>As</td>\n",
       "      <td>95.0</td>\n",
       "      <td>95.0</td>\n",
       "      <td>0.500</td>\n",
       "    </tr>\n",
       "    <tr>\n",
       "      <th>8</th>\n",
       "      <td>Classical Studies</td>\n",
       "      <td>2022</td>\n",
       "      <td>As</td>\n",
       "      <td>50.0</td>\n",
       "      <td>45.0</td>\n",
       "      <td>0.474</td>\n",
       "    </tr>\n",
       "    <tr>\n",
       "      <th>9</th>\n",
       "      <td>Computing Science</td>\n",
       "      <td>2022</td>\n",
       "      <td>As</td>\n",
       "      <td>2195.0</td>\n",
       "      <td>430.0</td>\n",
       "      <td>0.164</td>\n",
       "    </tr>\n",
       "  </tbody>\n",
       "</table>\n",
       "</div>"
      ],
      "text/plain": [
       "                       Subject  Year Grades  Count_x  Count_y   perc\n",
       "0                   Accounting  2022     As    425.0     15.0  0.034\n",
       "1        Administration and IT  2022     As   1665.0     10.0  0.006\n",
       "2  Applications of Mathematics  2022     As   3350.0     75.0  0.022\n",
       "3               Art and Design  2022     As   4075.0    405.0  0.090\n",
       "4                      Biology  2022     As   6220.0   1110.0  0.151\n",
       "5          Business Management  2022     As   3165.0    485.0  0.133\n",
       "6                    Chemistry  2022     As   5545.0   1075.0  0.162\n",
       "7            Chinese Languages  2022     As     95.0     95.0  0.500\n",
       "8            Classical Studies  2022     As     50.0     45.0  0.474\n",
       "9            Computing Science  2022     As   2195.0    430.0  0.164"
      ]
     },
     "execution_count": 42,
     "metadata": {},
     "output_type": "execute_result"
    }
   ],
   "source": [
    "# Merge together two df\n",
    "dfc = pd.merge(state_ldf, ind_ldf, on = ['Subject', 'Grades', 'Year'])\n",
    "\n",
    "# Rename columns\n",
    "cols = ['Subject', 'Year', 'Grades', 'Count_x', 'Count_y']\n",
    "dfc = dfc[cols]\n",
    "\n",
    "# Calculate percentage of Grades from independent schools\n",
    "dfc['perc'] = round(dfc['Count_y'] / (dfc['Count_x'] + dfc['Count_y']), 3)\n",
    "\n",
    "# Tidy up data\n",
    "#dfc['perc'].values[dfc['perc'] > 1] = 1\n",
    "dfc = dfc[dfc.Grades == 'As']\n",
    "dfc = dfc[dfc.perc != 0]\n",
    "dfc.dropna(inplace=True)\n",
    "\n",
    "dfc.head(10)"
   ]
  },
  {
   "cell_type": "code",
   "execution_count": 43,
   "id": "47eea23a",
   "metadata": {},
   "outputs": [
    {
     "name": "stdout",
     "output_type": "stream",
     "text": [
      "<class 'pandas.core.frame.DataFrame'>\n",
      "Int64Index: 192 entries, 0 to 596\n",
      "Data columns (total 6 columns):\n",
      " #   Column   Non-Null Count  Dtype  \n",
      "---  ------   --------------  -----  \n",
      " 0   Subject  192 non-null    object \n",
      " 1   Year     192 non-null    object \n",
      " 2   Grades   192 non-null    object \n",
      " 3   Count_x  192 non-null    float64\n",
      " 4   Count_y  192 non-null    float64\n",
      " 5   perc     192 non-null    float64\n",
      "dtypes: float64(3), object(3)\n",
      "memory usage: 10.5+ KB\n"
     ]
    }
   ],
   "source": [
    "dfc.info()"
   ]
  },
  {
   "cell_type": "code",
   "execution_count": 44,
   "id": "3f475c23",
   "metadata": {},
   "outputs": [
    {
     "data": {
      "application/vnd.plotly.v1+json": {
       "config": {
        "plotlyServerURL": "https://plotly.com"
       },
       "data": [
        {
         "hovertemplate": "Year=2018<br>Subject=%{x}<br>Percentage=%{y}<extra></extra>",
         "legendgroup": "2018",
         "line": {
          "color": "#636efa",
          "dash": "solid"
         },
         "marker": {
          "symbol": "circle"
         },
         "mode": "lines",
         "name": "2018",
         "orientation": "v",
         "showlegend": true,
         "type": "scatter",
         "x": [
          "Accounting",
          "Administration and IT",
          "Applications of Mathematics",
          "Art and Design",
          "Biology",
          "Business Management",
          "Chemistry",
          "Chinese Languages",
          "Classical Studies",
          "Computing Science",
          "Design and Manufacture",
          "Drama",
          "Economics",
          "Engineering Science",
          "English",
          "French",
          "Geography",
          "German",
          "Graphic Communication",
          "Health and Food Technology",
          "History",
          "Italian",
          "Latin",
          "Mathematics",
          "Media",
          "Modern Studies",
          "Music",
          "Music Technology",
          "Philosophy",
          "Physical Education",
          "Physics",
          "Practical Cookery",
          "Practical Electronics",
          "Practical Woodworking",
          "Psychology",
          "Religious, Moral and Philosophical Studies",
          "Spanish"
         ],
         "xaxis": "x",
         "y": [
          0.073,
          0.007,
          0.059,
          0.091,
          0.159,
          0.145,
          0.179,
          0.435,
          0.429,
          0.155,
          0.177,
          0.135,
          0.925,
          0.129,
          0.119,
          0.191,
          0.227,
          0.277,
          0.049,
          0.043,
          0.153,
          0.214,
          0.819,
          0.129,
          0.041,
          0.104,
          0.064,
          0.013,
          0.474,
          0.031,
          0.197,
          0.106,
          0.083,
          0.003,
          0.056,
          0.215,
          0.171
         ],
         "yaxis": "y"
        },
        {
         "hovertemplate": "Year=2019<br>Subject=%{x}<br>Percentage=%{y}<extra></extra>",
         "legendgroup": "2019",
         "line": {
          "color": "#EF553B",
          "dash": "solid"
         },
         "marker": {
          "symbol": "circle"
         },
         "mode": "lines",
         "name": "2019",
         "orientation": "v",
         "showlegend": true,
         "type": "scatter",
         "x": [
          "Accounting",
          "Administration and IT",
          "Applications of Mathematics",
          "Art and Design",
          "Biology",
          "Business Management",
          "Chemistry",
          "Chinese Languages",
          "Classical Studies",
          "Computing Science",
          "Design and Manufacture",
          "Drama",
          "Economics",
          "Engineering Science",
          "English",
          "French",
          "Geography",
          "German",
          "Graphic Communication",
          "Health and Food Technology",
          "History",
          "Italian",
          "Latin",
          "Mathematics",
          "Media",
          "Modern Studies",
          "Music",
          "Music Technology",
          "Philosophy",
          "Physical Education",
          "Physics",
          "Practical Cookery",
          "Practical Electronics",
          "Practical Woodworking",
          "Psychology",
          "Religious, Moral and Philosophical Studies",
          "Spanish",
          "Urdu"
         ],
         "xaxis": "x",
         "y": [
          0.061,
          0.014,
          0.086,
          0.105,
          0.162,
          0.141,
          0.181,
          0.586,
          0.273,
          0.176,
          0.16,
          0.119,
          0.943,
          0.139,
          0.114,
          0.181,
          0.208,
          0.245,
          0.051,
          0.032,
          0.12,
          0.28,
          0.859,
          0.127,
          0.034,
          0.097,
          0.058,
          0.029,
          0.467,
          0.032,
          0.185,
          0.056,
          0.188,
          0.005,
          0.061,
          0.241,
          0.17,
          0.1
         ],
         "yaxis": "y"
        },
        {
         "hovertemplate": "Year=2020<br>Subject=%{x}<br>Percentage=%{y}<extra></extra>",
         "legendgroup": "2020",
         "line": {
          "color": "#00cc96",
          "dash": "solid"
         },
         "marker": {
          "symbol": "circle"
         },
         "mode": "lines",
         "name": "2020",
         "orientation": "v",
         "showlegend": true,
         "type": "scatter",
         "x": [
          "Accounting",
          "Administration and IT",
          "Applications of Mathematics",
          "Art and Design",
          "Biology",
          "Business Management",
          "Chemistry",
          "Chinese Languages",
          "Classical Studies",
          "Computing Science",
          "Design and Manufacture",
          "Drama",
          "Economics",
          "Engineering Science",
          "English",
          "English for Speakers of Other Languages",
          "Environmental Science",
          "French",
          "Geography",
          "German",
          "Graphic Communication",
          "Health and Food Technology",
          "History",
          "Italian",
          "Latin",
          "Mathematics",
          "Media",
          "Modern Studies",
          "Music",
          "Music Technology",
          "Philosophy",
          "Physical Education",
          "Physics",
          "Practical Cookery",
          "Practical Woodworking",
          "Psychology",
          "Religious, Moral and Philosophical Studies",
          "Spanish",
          "Urdu"
         ],
         "xaxis": "x",
         "y": [
          0.06,
          0.005,
          0.026,
          0.087,
          0.135,
          0.147,
          0.145,
          0.513,
          0.357,
          0.126,
          0.11,
          0.122,
          0.932,
          0.124,
          0.107,
          0.032,
          0.154,
          0.168,
          0.158,
          0.232,
          0.04,
          0.042,
          0.109,
          0.188,
          0.841,
          0.112,
          0.013,
          0.067,
          0.057,
          0.028,
          0.28,
          0.031,
          0.152,
          0.029,
          0.008,
          0.025,
          0.195,
          0.17,
          0.154
         ],
         "yaxis": "y"
        },
        {
         "hovertemplate": "Year=2021<br>Subject=%{x}<br>Percentage=%{y}<extra></extra>",
         "legendgroup": "2021",
         "line": {
          "color": "#ab63fa",
          "dash": "solid"
         },
         "marker": {
          "symbol": "circle"
         },
         "mode": "lines",
         "name": "2021",
         "orientation": "v",
         "showlegend": true,
         "type": "scatter",
         "x": [
          "Accounting",
          "Administration and IT",
          "Applications of Mathematics",
          "Art and Design",
          "Biology",
          "Business Management",
          "Chemistry",
          "Chinese Languages",
          "Classical Studies",
          "Computing Science",
          "Design and Manufacture",
          "Drama",
          "Economics",
          "Engineering Science",
          "English",
          "English for Speakers of Other Languages",
          "Environmental Science",
          "French",
          "Geography",
          "German",
          "Graphic Communication",
          "Health and Food Technology",
          "History",
          "Italian",
          "Latin",
          "Mathematics",
          "Media",
          "Modern Studies",
          "Music",
          "Music Technology",
          "Philosophy",
          "Physical Education",
          "Physics",
          "Practical Cookery",
          "Practical Electronics",
          "Practical Woodworking",
          "Psychology",
          "Religious, Moral and Philosophical Studies",
          "Spanish",
          "Urdu"
         ],
         "xaxis": "x",
         "y": [
          0.05,
          0.008,
          0.033,
          0.078,
          0.142,
          0.149,
          0.161,
          0.444,
          0.375,
          0.136,
          0.109,
          0.135,
          0.979,
          0.119,
          0.099,
          0.033,
          0.087,
          0.177,
          0.115,
          0.303,
          0.033,
          0.026,
          0.109,
          0.154,
          0.838,
          0.119,
          0.033,
          0.072,
          0.059,
          0.049,
          0.286,
          0.028,
          0.16,
          0.035,
          0.029,
          0.003,
          0.042,
          0.197,
          0.186,
          0.2
         ],
         "yaxis": "y"
        },
        {
         "hovertemplate": "Year=2022<br>Subject=%{x}<br>Percentage=%{y}<extra></extra>",
         "legendgroup": "2022",
         "line": {
          "color": "#FFA15A",
          "dash": "solid"
         },
         "marker": {
          "symbol": "circle"
         },
         "mode": "lines",
         "name": "2022",
         "orientation": "v",
         "showlegend": true,
         "type": "scatter",
         "x": [
          "Accounting",
          "Administration and IT",
          "Applications of Mathematics",
          "Art and Design",
          "Biology",
          "Business Management",
          "Chemistry",
          "Chinese Languages",
          "Classical Studies",
          "Computing Science",
          "Design and Manufacture",
          "Drama",
          "Economics",
          "Engineering Science",
          "English",
          "Environmental Science",
          "French",
          "Geography",
          "German",
          "Graphic Communication",
          "Health and Food Technology",
          "History",
          "Italian",
          "Latin",
          "Mathematics",
          "Media",
          "Modern Studies",
          "Music",
          "Music Technology",
          "Philosophy",
          "Physical Education",
          "Physics",
          "Practical Cookery",
          "Practical Electronics",
          "Practical Woodworking",
          "Psychology",
          "Religious, Moral and Philosophical Studies",
          "Spanish"
         ],
         "xaxis": "x",
         "y": [
          0.034,
          0.006,
          0.022,
          0.09,
          0.151,
          0.133,
          0.162,
          0.5,
          0.474,
          0.164,
          0.138,
          0.117,
          0.898,
          0.131,
          0.102,
          0.25,
          0.174,
          0.161,
          0.308,
          0.05,
          0.046,
          0.115,
          0.129,
          0.833,
          0.129,
          0.021,
          0.088,
          0.062,
          0.042,
          0.421,
          0.033,
          0.186,
          0.036,
          0.043,
          0.008,
          0.026,
          0.223,
          0.184
         ],
         "yaxis": "y"
        }
       ],
       "layout": {
        "height": 800,
        "legend": {
         "title": {
          "text": "Year"
         },
         "tracegroupgap": 0
        },
        "template": {
         "data": {
          "bar": [
           {
            "error_x": {
             "color": "#2a3f5f"
            },
            "error_y": {
             "color": "#2a3f5f"
            },
            "marker": {
             "line": {
              "color": "#E5ECF6",
              "width": 0.5
             },
             "pattern": {
              "fillmode": "overlay",
              "size": 10,
              "solidity": 0.2
             }
            },
            "type": "bar"
           }
          ],
          "barpolar": [
           {
            "marker": {
             "line": {
              "color": "#E5ECF6",
              "width": 0.5
             },
             "pattern": {
              "fillmode": "overlay",
              "size": 10,
              "solidity": 0.2
             }
            },
            "type": "barpolar"
           }
          ],
          "carpet": [
           {
            "aaxis": {
             "endlinecolor": "#2a3f5f",
             "gridcolor": "white",
             "linecolor": "white",
             "minorgridcolor": "white",
             "startlinecolor": "#2a3f5f"
            },
            "baxis": {
             "endlinecolor": "#2a3f5f",
             "gridcolor": "white",
             "linecolor": "white",
             "minorgridcolor": "white",
             "startlinecolor": "#2a3f5f"
            },
            "type": "carpet"
           }
          ],
          "choropleth": [
           {
            "colorbar": {
             "outlinewidth": 0,
             "ticks": ""
            },
            "type": "choropleth"
           }
          ],
          "contour": [
           {
            "colorbar": {
             "outlinewidth": 0,
             "ticks": ""
            },
            "colorscale": [
             [
              0,
              "#0d0887"
             ],
             [
              0.1111111111111111,
              "#46039f"
             ],
             [
              0.2222222222222222,
              "#7201a8"
             ],
             [
              0.3333333333333333,
              "#9c179e"
             ],
             [
              0.4444444444444444,
              "#bd3786"
             ],
             [
              0.5555555555555556,
              "#d8576b"
             ],
             [
              0.6666666666666666,
              "#ed7953"
             ],
             [
              0.7777777777777778,
              "#fb9f3a"
             ],
             [
              0.8888888888888888,
              "#fdca26"
             ],
             [
              1,
              "#f0f921"
             ]
            ],
            "type": "contour"
           }
          ],
          "contourcarpet": [
           {
            "colorbar": {
             "outlinewidth": 0,
             "ticks": ""
            },
            "type": "contourcarpet"
           }
          ],
          "heatmap": [
           {
            "colorbar": {
             "outlinewidth": 0,
             "ticks": ""
            },
            "colorscale": [
             [
              0,
              "#0d0887"
             ],
             [
              0.1111111111111111,
              "#46039f"
             ],
             [
              0.2222222222222222,
              "#7201a8"
             ],
             [
              0.3333333333333333,
              "#9c179e"
             ],
             [
              0.4444444444444444,
              "#bd3786"
             ],
             [
              0.5555555555555556,
              "#d8576b"
             ],
             [
              0.6666666666666666,
              "#ed7953"
             ],
             [
              0.7777777777777778,
              "#fb9f3a"
             ],
             [
              0.8888888888888888,
              "#fdca26"
             ],
             [
              1,
              "#f0f921"
             ]
            ],
            "type": "heatmap"
           }
          ],
          "heatmapgl": [
           {
            "colorbar": {
             "outlinewidth": 0,
             "ticks": ""
            },
            "colorscale": [
             [
              0,
              "#0d0887"
             ],
             [
              0.1111111111111111,
              "#46039f"
             ],
             [
              0.2222222222222222,
              "#7201a8"
             ],
             [
              0.3333333333333333,
              "#9c179e"
             ],
             [
              0.4444444444444444,
              "#bd3786"
             ],
             [
              0.5555555555555556,
              "#d8576b"
             ],
             [
              0.6666666666666666,
              "#ed7953"
             ],
             [
              0.7777777777777778,
              "#fb9f3a"
             ],
             [
              0.8888888888888888,
              "#fdca26"
             ],
             [
              1,
              "#f0f921"
             ]
            ],
            "type": "heatmapgl"
           }
          ],
          "histogram": [
           {
            "marker": {
             "pattern": {
              "fillmode": "overlay",
              "size": 10,
              "solidity": 0.2
             }
            },
            "type": "histogram"
           }
          ],
          "histogram2d": [
           {
            "colorbar": {
             "outlinewidth": 0,
             "ticks": ""
            },
            "colorscale": [
             [
              0,
              "#0d0887"
             ],
             [
              0.1111111111111111,
              "#46039f"
             ],
             [
              0.2222222222222222,
              "#7201a8"
             ],
             [
              0.3333333333333333,
              "#9c179e"
             ],
             [
              0.4444444444444444,
              "#bd3786"
             ],
             [
              0.5555555555555556,
              "#d8576b"
             ],
             [
              0.6666666666666666,
              "#ed7953"
             ],
             [
              0.7777777777777778,
              "#fb9f3a"
             ],
             [
              0.8888888888888888,
              "#fdca26"
             ],
             [
              1,
              "#f0f921"
             ]
            ],
            "type": "histogram2d"
           }
          ],
          "histogram2dcontour": [
           {
            "colorbar": {
             "outlinewidth": 0,
             "ticks": ""
            },
            "colorscale": [
             [
              0,
              "#0d0887"
             ],
             [
              0.1111111111111111,
              "#46039f"
             ],
             [
              0.2222222222222222,
              "#7201a8"
             ],
             [
              0.3333333333333333,
              "#9c179e"
             ],
             [
              0.4444444444444444,
              "#bd3786"
             ],
             [
              0.5555555555555556,
              "#d8576b"
             ],
             [
              0.6666666666666666,
              "#ed7953"
             ],
             [
              0.7777777777777778,
              "#fb9f3a"
             ],
             [
              0.8888888888888888,
              "#fdca26"
             ],
             [
              1,
              "#f0f921"
             ]
            ],
            "type": "histogram2dcontour"
           }
          ],
          "mesh3d": [
           {
            "colorbar": {
             "outlinewidth": 0,
             "ticks": ""
            },
            "type": "mesh3d"
           }
          ],
          "parcoords": [
           {
            "line": {
             "colorbar": {
              "outlinewidth": 0,
              "ticks": ""
             }
            },
            "type": "parcoords"
           }
          ],
          "pie": [
           {
            "automargin": true,
            "type": "pie"
           }
          ],
          "scatter": [
           {
            "marker": {
             "colorbar": {
              "outlinewidth": 0,
              "ticks": ""
             }
            },
            "type": "scatter"
           }
          ],
          "scatter3d": [
           {
            "line": {
             "colorbar": {
              "outlinewidth": 0,
              "ticks": ""
             }
            },
            "marker": {
             "colorbar": {
              "outlinewidth": 0,
              "ticks": ""
             }
            },
            "type": "scatter3d"
           }
          ],
          "scattercarpet": [
           {
            "marker": {
             "colorbar": {
              "outlinewidth": 0,
              "ticks": ""
             }
            },
            "type": "scattercarpet"
           }
          ],
          "scattergeo": [
           {
            "marker": {
             "colorbar": {
              "outlinewidth": 0,
              "ticks": ""
             }
            },
            "type": "scattergeo"
           }
          ],
          "scattergl": [
           {
            "marker": {
             "colorbar": {
              "outlinewidth": 0,
              "ticks": ""
             }
            },
            "type": "scattergl"
           }
          ],
          "scattermapbox": [
           {
            "marker": {
             "colorbar": {
              "outlinewidth": 0,
              "ticks": ""
             }
            },
            "type": "scattermapbox"
           }
          ],
          "scatterpolar": [
           {
            "marker": {
             "colorbar": {
              "outlinewidth": 0,
              "ticks": ""
             }
            },
            "type": "scatterpolar"
           }
          ],
          "scatterpolargl": [
           {
            "marker": {
             "colorbar": {
              "outlinewidth": 0,
              "ticks": ""
             }
            },
            "type": "scatterpolargl"
           }
          ],
          "scatterternary": [
           {
            "marker": {
             "colorbar": {
              "outlinewidth": 0,
              "ticks": ""
             }
            },
            "type": "scatterternary"
           }
          ],
          "surface": [
           {
            "colorbar": {
             "outlinewidth": 0,
             "ticks": ""
            },
            "colorscale": [
             [
              0,
              "#0d0887"
             ],
             [
              0.1111111111111111,
              "#46039f"
             ],
             [
              0.2222222222222222,
              "#7201a8"
             ],
             [
              0.3333333333333333,
              "#9c179e"
             ],
             [
              0.4444444444444444,
              "#bd3786"
             ],
             [
              0.5555555555555556,
              "#d8576b"
             ],
             [
              0.6666666666666666,
              "#ed7953"
             ],
             [
              0.7777777777777778,
              "#fb9f3a"
             ],
             [
              0.8888888888888888,
              "#fdca26"
             ],
             [
              1,
              "#f0f921"
             ]
            ],
            "type": "surface"
           }
          ],
          "table": [
           {
            "cells": {
             "fill": {
              "color": "#EBF0F8"
             },
             "line": {
              "color": "white"
             }
            },
            "header": {
             "fill": {
              "color": "#C8D4E3"
             },
             "line": {
              "color": "white"
             }
            },
            "type": "table"
           }
          ]
         },
         "layout": {
          "annotationdefaults": {
           "arrowcolor": "#2a3f5f",
           "arrowhead": 0,
           "arrowwidth": 1
          },
          "autotypenumbers": "strict",
          "coloraxis": {
           "colorbar": {
            "outlinewidth": 0,
            "ticks": ""
           }
          },
          "colorscale": {
           "diverging": [
            [
             0,
             "#8e0152"
            ],
            [
             0.1,
             "#c51b7d"
            ],
            [
             0.2,
             "#de77ae"
            ],
            [
             0.3,
             "#f1b6da"
            ],
            [
             0.4,
             "#fde0ef"
            ],
            [
             0.5,
             "#f7f7f7"
            ],
            [
             0.6,
             "#e6f5d0"
            ],
            [
             0.7,
             "#b8e186"
            ],
            [
             0.8,
             "#7fbc41"
            ],
            [
             0.9,
             "#4d9221"
            ],
            [
             1,
             "#276419"
            ]
           ],
           "sequential": [
            [
             0,
             "#0d0887"
            ],
            [
             0.1111111111111111,
             "#46039f"
            ],
            [
             0.2222222222222222,
             "#7201a8"
            ],
            [
             0.3333333333333333,
             "#9c179e"
            ],
            [
             0.4444444444444444,
             "#bd3786"
            ],
            [
             0.5555555555555556,
             "#d8576b"
            ],
            [
             0.6666666666666666,
             "#ed7953"
            ],
            [
             0.7777777777777778,
             "#fb9f3a"
            ],
            [
             0.8888888888888888,
             "#fdca26"
            ],
            [
             1,
             "#f0f921"
            ]
           ],
           "sequentialminus": [
            [
             0,
             "#0d0887"
            ],
            [
             0.1111111111111111,
             "#46039f"
            ],
            [
             0.2222222222222222,
             "#7201a8"
            ],
            [
             0.3333333333333333,
             "#9c179e"
            ],
            [
             0.4444444444444444,
             "#bd3786"
            ],
            [
             0.5555555555555556,
             "#d8576b"
            ],
            [
             0.6666666666666666,
             "#ed7953"
            ],
            [
             0.7777777777777778,
             "#fb9f3a"
            ],
            [
             0.8888888888888888,
             "#fdca26"
            ],
            [
             1,
             "#f0f921"
            ]
           ]
          },
          "colorway": [
           "#636efa",
           "#EF553B",
           "#00cc96",
           "#ab63fa",
           "#FFA15A",
           "#19d3f3",
           "#FF6692",
           "#B6E880",
           "#FF97FF",
           "#FECB52"
          ],
          "font": {
           "color": "#2a3f5f"
          },
          "geo": {
           "bgcolor": "white",
           "lakecolor": "white",
           "landcolor": "#E5ECF6",
           "showlakes": true,
           "showland": true,
           "subunitcolor": "white"
          },
          "hoverlabel": {
           "align": "left"
          },
          "hovermode": "closest",
          "mapbox": {
           "style": "light"
          },
          "paper_bgcolor": "white",
          "plot_bgcolor": "#E5ECF6",
          "polar": {
           "angularaxis": {
            "gridcolor": "white",
            "linecolor": "white",
            "ticks": ""
           },
           "bgcolor": "#E5ECF6",
           "radialaxis": {
            "gridcolor": "white",
            "linecolor": "white",
            "ticks": ""
           }
          },
          "scene": {
           "xaxis": {
            "backgroundcolor": "#E5ECF6",
            "gridcolor": "white",
            "gridwidth": 2,
            "linecolor": "white",
            "showbackground": true,
            "ticks": "",
            "zerolinecolor": "white"
           },
           "yaxis": {
            "backgroundcolor": "#E5ECF6",
            "gridcolor": "white",
            "gridwidth": 2,
            "linecolor": "white",
            "showbackground": true,
            "ticks": "",
            "zerolinecolor": "white"
           },
           "zaxis": {
            "backgroundcolor": "#E5ECF6",
            "gridcolor": "white",
            "gridwidth": 2,
            "linecolor": "white",
            "showbackground": true,
            "ticks": "",
            "zerolinecolor": "white"
           }
          },
          "shapedefaults": {
           "line": {
            "color": "#2a3f5f"
           }
          },
          "ternary": {
           "aaxis": {
            "gridcolor": "white",
            "linecolor": "white",
            "ticks": ""
           },
           "baxis": {
            "gridcolor": "white",
            "linecolor": "white",
            "ticks": ""
           },
           "bgcolor": "#E5ECF6",
           "caxis": {
            "gridcolor": "white",
            "linecolor": "white",
            "ticks": ""
           }
          },
          "title": {
           "x": 0.05
          },
          "xaxis": {
           "automargin": true,
           "gridcolor": "white",
           "linecolor": "white",
           "ticks": "",
           "title": {
            "standoff": 15
           },
           "zerolinecolor": "white",
           "zerolinewidth": 2
          },
          "yaxis": {
           "automargin": true,
           "gridcolor": "white",
           "linecolor": "white",
           "ticks": "",
           "title": {
            "standoff": 15
           },
           "zerolinecolor": "white",
           "zerolinewidth": 2
          }
         }
        },
        "title": {
         "text": "Percentage of As from independent Schools per subject at National 5"
        },
        "width": 900,
        "xaxis": {
         "anchor": "y",
         "categoryarray": [
          "Accounting",
          "Administration and IT",
          "Applications of Mathematics",
          "Art and Design",
          "Biology",
          "Business Management",
          "Chemistry",
          "Chinese Languages",
          "Classical Studies",
          "Computing Science",
          "Design and Manufacture",
          "Drama",
          "Economics",
          "Engineering Science",
          "English",
          "English for Speakers of Other Languages",
          "Environmental Science",
          "French",
          "Geography",
          "German",
          "Graphic Communication",
          "Health and Food Technology",
          "History",
          "Italian",
          "Latin",
          "Mathematics",
          "Media",
          "Modern Studies",
          "Music",
          "Music Technology",
          "Philosophy",
          "Physical Education",
          "Physics",
          "Practical Cookery",
          "Practical Electronics",
          "Practical Woodworking",
          "Psychology",
          "Religious, Moral and Philosophical Studies",
          "Spanish",
          "Urdu"
         ],
         "categoryorder": "array",
         "domain": [
          0,
          1
         ],
         "title": {
          "text": "Subject"
         }
        },
        "yaxis": {
         "anchor": "x",
         "domain": [
          0,
          1
         ],
         "rangemode": "tozero",
         "title": {
          "text": "Percentage"
         }
        }
       }
      },
      "text/html": [
       "<div>                            <div id=\"d959ee77-d1c6-4296-970e-76484009c01f\" class=\"plotly-graph-div\" style=\"height:800px; width:900px;\"></div>            <script type=\"text/javascript\">                require([\"plotly\"], function(Plotly) {                    window.PLOTLYENV=window.PLOTLYENV || {};                                    if (document.getElementById(\"d959ee77-d1c6-4296-970e-76484009c01f\")) {                    Plotly.newPlot(                        \"d959ee77-d1c6-4296-970e-76484009c01f\",                        [{\"hovertemplate\":\"Year=2018<br>Subject=%{x}<br>Percentage=%{y}<extra></extra>\",\"legendgroup\":\"2018\",\"line\":{\"color\":\"#636efa\",\"dash\":\"solid\"},\"marker\":{\"symbol\":\"circle\"},\"mode\":\"lines\",\"name\":\"2018\",\"orientation\":\"v\",\"showlegend\":true,\"x\":[\"Accounting\",\"Administration and IT\",\"Applications of Mathematics\",\"Art and Design\",\"Biology\",\"Business Management\",\"Chemistry\",\"Chinese Languages\",\"Classical Studies\",\"Computing Science\",\"Design and Manufacture\",\"Drama\",\"Economics\",\"Engineering Science\",\"English\",\"French\",\"Geography\",\"German\",\"Graphic Communication\",\"Health and Food Technology\",\"History\",\"Italian\",\"Latin\",\"Mathematics\",\"Media\",\"Modern Studies\",\"Music\",\"Music Technology\",\"Philosophy\",\"Physical Education\",\"Physics\",\"Practical Cookery\",\"Practical Electronics\",\"Practical Woodworking\",\"Psychology\",\"Religious, Moral and Philosophical Studies\",\"Spanish\"],\"xaxis\":\"x\",\"y\":[0.073,0.007,0.059,0.091,0.159,0.145,0.179,0.435,0.429,0.155,0.177,0.135,0.925,0.129,0.119,0.191,0.227,0.277,0.049,0.043,0.153,0.214,0.819,0.129,0.041,0.104,0.064,0.013,0.474,0.031,0.197,0.106,0.083,0.003,0.056,0.215,0.171],\"yaxis\":\"y\",\"type\":\"scatter\"},{\"hovertemplate\":\"Year=2019<br>Subject=%{x}<br>Percentage=%{y}<extra></extra>\",\"legendgroup\":\"2019\",\"line\":{\"color\":\"#EF553B\",\"dash\":\"solid\"},\"marker\":{\"symbol\":\"circle\"},\"mode\":\"lines\",\"name\":\"2019\",\"orientation\":\"v\",\"showlegend\":true,\"x\":[\"Accounting\",\"Administration and IT\",\"Applications of Mathematics\",\"Art and Design\",\"Biology\",\"Business Management\",\"Chemistry\",\"Chinese Languages\",\"Classical Studies\",\"Computing Science\",\"Design and Manufacture\",\"Drama\",\"Economics\",\"Engineering Science\",\"English\",\"French\",\"Geography\",\"German\",\"Graphic Communication\",\"Health and Food Technology\",\"History\",\"Italian\",\"Latin\",\"Mathematics\",\"Media\",\"Modern Studies\",\"Music\",\"Music Technology\",\"Philosophy\",\"Physical Education\",\"Physics\",\"Practical Cookery\",\"Practical Electronics\",\"Practical Woodworking\",\"Psychology\",\"Religious, Moral and Philosophical Studies\",\"Spanish\",\"Urdu\"],\"xaxis\":\"x\",\"y\":[0.061,0.014,0.086,0.105,0.162,0.141,0.181,0.586,0.273,0.176,0.16,0.119,0.943,0.139,0.114,0.181,0.208,0.245,0.051,0.032,0.12,0.28,0.859,0.127,0.034,0.097,0.058,0.029,0.467,0.032,0.185,0.056,0.188,0.005,0.061,0.241,0.17,0.1],\"yaxis\":\"y\",\"type\":\"scatter\"},{\"hovertemplate\":\"Year=2020<br>Subject=%{x}<br>Percentage=%{y}<extra></extra>\",\"legendgroup\":\"2020\",\"line\":{\"color\":\"#00cc96\",\"dash\":\"solid\"},\"marker\":{\"symbol\":\"circle\"},\"mode\":\"lines\",\"name\":\"2020\",\"orientation\":\"v\",\"showlegend\":true,\"x\":[\"Accounting\",\"Administration and IT\",\"Applications of Mathematics\",\"Art and Design\",\"Biology\",\"Business Management\",\"Chemistry\",\"Chinese Languages\",\"Classical Studies\",\"Computing Science\",\"Design and Manufacture\",\"Drama\",\"Economics\",\"Engineering Science\",\"English\",\"English for Speakers of Other Languages\",\"Environmental Science\",\"French\",\"Geography\",\"German\",\"Graphic Communication\",\"Health and Food Technology\",\"History\",\"Italian\",\"Latin\",\"Mathematics\",\"Media\",\"Modern Studies\",\"Music\",\"Music Technology\",\"Philosophy\",\"Physical Education\",\"Physics\",\"Practical Cookery\",\"Practical Woodworking\",\"Psychology\",\"Religious, Moral and Philosophical Studies\",\"Spanish\",\"Urdu\"],\"xaxis\":\"x\",\"y\":[0.06,0.005,0.026,0.087,0.135,0.147,0.145,0.513,0.357,0.126,0.11,0.122,0.932,0.124,0.107,0.032,0.154,0.168,0.158,0.232,0.04,0.042,0.109,0.188,0.841,0.112,0.013,0.067,0.057,0.028,0.28,0.031,0.152,0.029,0.008,0.025,0.195,0.17,0.154],\"yaxis\":\"y\",\"type\":\"scatter\"},{\"hovertemplate\":\"Year=2021<br>Subject=%{x}<br>Percentage=%{y}<extra></extra>\",\"legendgroup\":\"2021\",\"line\":{\"color\":\"#ab63fa\",\"dash\":\"solid\"},\"marker\":{\"symbol\":\"circle\"},\"mode\":\"lines\",\"name\":\"2021\",\"orientation\":\"v\",\"showlegend\":true,\"x\":[\"Accounting\",\"Administration and IT\",\"Applications of Mathematics\",\"Art and Design\",\"Biology\",\"Business Management\",\"Chemistry\",\"Chinese Languages\",\"Classical Studies\",\"Computing Science\",\"Design and Manufacture\",\"Drama\",\"Economics\",\"Engineering Science\",\"English\",\"English for Speakers of Other Languages\",\"Environmental Science\",\"French\",\"Geography\",\"German\",\"Graphic Communication\",\"Health and Food Technology\",\"History\",\"Italian\",\"Latin\",\"Mathematics\",\"Media\",\"Modern Studies\",\"Music\",\"Music Technology\",\"Philosophy\",\"Physical Education\",\"Physics\",\"Practical Cookery\",\"Practical Electronics\",\"Practical Woodworking\",\"Psychology\",\"Religious, Moral and Philosophical Studies\",\"Spanish\",\"Urdu\"],\"xaxis\":\"x\",\"y\":[0.05,0.008,0.033,0.078,0.142,0.149,0.161,0.444,0.375,0.136,0.109,0.135,0.979,0.119,0.099,0.033,0.087,0.177,0.115,0.303,0.033,0.026,0.109,0.154,0.838,0.119,0.033,0.072,0.059,0.049,0.286,0.028,0.16,0.035,0.029,0.003,0.042,0.197,0.186,0.2],\"yaxis\":\"y\",\"type\":\"scatter\"},{\"hovertemplate\":\"Year=2022<br>Subject=%{x}<br>Percentage=%{y}<extra></extra>\",\"legendgroup\":\"2022\",\"line\":{\"color\":\"#FFA15A\",\"dash\":\"solid\"},\"marker\":{\"symbol\":\"circle\"},\"mode\":\"lines\",\"name\":\"2022\",\"orientation\":\"v\",\"showlegend\":true,\"x\":[\"Accounting\",\"Administration and IT\",\"Applications of Mathematics\",\"Art and Design\",\"Biology\",\"Business Management\",\"Chemistry\",\"Chinese Languages\",\"Classical Studies\",\"Computing Science\",\"Design and Manufacture\",\"Drama\",\"Economics\",\"Engineering Science\",\"English\",\"Environmental Science\",\"French\",\"Geography\",\"German\",\"Graphic Communication\",\"Health and Food Technology\",\"History\",\"Italian\",\"Latin\",\"Mathematics\",\"Media\",\"Modern Studies\",\"Music\",\"Music Technology\",\"Philosophy\",\"Physical Education\",\"Physics\",\"Practical Cookery\",\"Practical Electronics\",\"Practical Woodworking\",\"Psychology\",\"Religious, Moral and Philosophical Studies\",\"Spanish\"],\"xaxis\":\"x\",\"y\":[0.034,0.006,0.022,0.09,0.151,0.133,0.162,0.5,0.474,0.164,0.138,0.117,0.898,0.131,0.102,0.25,0.174,0.161,0.308,0.05,0.046,0.115,0.129,0.833,0.129,0.021,0.088,0.062,0.042,0.421,0.033,0.186,0.036,0.043,0.008,0.026,0.223,0.184],\"yaxis\":\"y\",\"type\":\"scatter\"}],                        {\"template\":{\"data\":{\"bar\":[{\"error_x\":{\"color\":\"#2a3f5f\"},\"error_y\":{\"color\":\"#2a3f5f\"},\"marker\":{\"line\":{\"color\":\"#E5ECF6\",\"width\":0.5},\"pattern\":{\"fillmode\":\"overlay\",\"size\":10,\"solidity\":0.2}},\"type\":\"bar\"}],\"barpolar\":[{\"marker\":{\"line\":{\"color\":\"#E5ECF6\",\"width\":0.5},\"pattern\":{\"fillmode\":\"overlay\",\"size\":10,\"solidity\":0.2}},\"type\":\"barpolar\"}],\"carpet\":[{\"aaxis\":{\"endlinecolor\":\"#2a3f5f\",\"gridcolor\":\"white\",\"linecolor\":\"white\",\"minorgridcolor\":\"white\",\"startlinecolor\":\"#2a3f5f\"},\"baxis\":{\"endlinecolor\":\"#2a3f5f\",\"gridcolor\":\"white\",\"linecolor\":\"white\",\"minorgridcolor\":\"white\",\"startlinecolor\":\"#2a3f5f\"},\"type\":\"carpet\"}],\"choropleth\":[{\"colorbar\":{\"outlinewidth\":0,\"ticks\":\"\"},\"type\":\"choropleth\"}],\"contour\":[{\"colorbar\":{\"outlinewidth\":0,\"ticks\":\"\"},\"colorscale\":[[0.0,\"#0d0887\"],[0.1111111111111111,\"#46039f\"],[0.2222222222222222,\"#7201a8\"],[0.3333333333333333,\"#9c179e\"],[0.4444444444444444,\"#bd3786\"],[0.5555555555555556,\"#d8576b\"],[0.6666666666666666,\"#ed7953\"],[0.7777777777777778,\"#fb9f3a\"],[0.8888888888888888,\"#fdca26\"],[1.0,\"#f0f921\"]],\"type\":\"contour\"}],\"contourcarpet\":[{\"colorbar\":{\"outlinewidth\":0,\"ticks\":\"\"},\"type\":\"contourcarpet\"}],\"heatmap\":[{\"colorbar\":{\"outlinewidth\":0,\"ticks\":\"\"},\"colorscale\":[[0.0,\"#0d0887\"],[0.1111111111111111,\"#46039f\"],[0.2222222222222222,\"#7201a8\"],[0.3333333333333333,\"#9c179e\"],[0.4444444444444444,\"#bd3786\"],[0.5555555555555556,\"#d8576b\"],[0.6666666666666666,\"#ed7953\"],[0.7777777777777778,\"#fb9f3a\"],[0.8888888888888888,\"#fdca26\"],[1.0,\"#f0f921\"]],\"type\":\"heatmap\"}],\"heatmapgl\":[{\"colorbar\":{\"outlinewidth\":0,\"ticks\":\"\"},\"colorscale\":[[0.0,\"#0d0887\"],[0.1111111111111111,\"#46039f\"],[0.2222222222222222,\"#7201a8\"],[0.3333333333333333,\"#9c179e\"],[0.4444444444444444,\"#bd3786\"],[0.5555555555555556,\"#d8576b\"],[0.6666666666666666,\"#ed7953\"],[0.7777777777777778,\"#fb9f3a\"],[0.8888888888888888,\"#fdca26\"],[1.0,\"#f0f921\"]],\"type\":\"heatmapgl\"}],\"histogram\":[{\"marker\":{\"pattern\":{\"fillmode\":\"overlay\",\"size\":10,\"solidity\":0.2}},\"type\":\"histogram\"}],\"histogram2d\":[{\"colorbar\":{\"outlinewidth\":0,\"ticks\":\"\"},\"colorscale\":[[0.0,\"#0d0887\"],[0.1111111111111111,\"#46039f\"],[0.2222222222222222,\"#7201a8\"],[0.3333333333333333,\"#9c179e\"],[0.4444444444444444,\"#bd3786\"],[0.5555555555555556,\"#d8576b\"],[0.6666666666666666,\"#ed7953\"],[0.7777777777777778,\"#fb9f3a\"],[0.8888888888888888,\"#fdca26\"],[1.0,\"#f0f921\"]],\"type\":\"histogram2d\"}],\"histogram2dcontour\":[{\"colorbar\":{\"outlinewidth\":0,\"ticks\":\"\"},\"colorscale\":[[0.0,\"#0d0887\"],[0.1111111111111111,\"#46039f\"],[0.2222222222222222,\"#7201a8\"],[0.3333333333333333,\"#9c179e\"],[0.4444444444444444,\"#bd3786\"],[0.5555555555555556,\"#d8576b\"],[0.6666666666666666,\"#ed7953\"],[0.7777777777777778,\"#fb9f3a\"],[0.8888888888888888,\"#fdca26\"],[1.0,\"#f0f921\"]],\"type\":\"histogram2dcontour\"}],\"mesh3d\":[{\"colorbar\":{\"outlinewidth\":0,\"ticks\":\"\"},\"type\":\"mesh3d\"}],\"parcoords\":[{\"line\":{\"colorbar\":{\"outlinewidth\":0,\"ticks\":\"\"}},\"type\":\"parcoords\"}],\"pie\":[{\"automargin\":true,\"type\":\"pie\"}],\"scatter\":[{\"marker\":{\"colorbar\":{\"outlinewidth\":0,\"ticks\":\"\"}},\"type\":\"scatter\"}],\"scatter3d\":[{\"line\":{\"colorbar\":{\"outlinewidth\":0,\"ticks\":\"\"}},\"marker\":{\"colorbar\":{\"outlinewidth\":0,\"ticks\":\"\"}},\"type\":\"scatter3d\"}],\"scattercarpet\":[{\"marker\":{\"colorbar\":{\"outlinewidth\":0,\"ticks\":\"\"}},\"type\":\"scattercarpet\"}],\"scattergeo\":[{\"marker\":{\"colorbar\":{\"outlinewidth\":0,\"ticks\":\"\"}},\"type\":\"scattergeo\"}],\"scattergl\":[{\"marker\":{\"colorbar\":{\"outlinewidth\":0,\"ticks\":\"\"}},\"type\":\"scattergl\"}],\"scattermapbox\":[{\"marker\":{\"colorbar\":{\"outlinewidth\":0,\"ticks\":\"\"}},\"type\":\"scattermapbox\"}],\"scatterpolar\":[{\"marker\":{\"colorbar\":{\"outlinewidth\":0,\"ticks\":\"\"}},\"type\":\"scatterpolar\"}],\"scatterpolargl\":[{\"marker\":{\"colorbar\":{\"outlinewidth\":0,\"ticks\":\"\"}},\"type\":\"scatterpolargl\"}],\"scatterternary\":[{\"marker\":{\"colorbar\":{\"outlinewidth\":0,\"ticks\":\"\"}},\"type\":\"scatterternary\"}],\"surface\":[{\"colorbar\":{\"outlinewidth\":0,\"ticks\":\"\"},\"colorscale\":[[0.0,\"#0d0887\"],[0.1111111111111111,\"#46039f\"],[0.2222222222222222,\"#7201a8\"],[0.3333333333333333,\"#9c179e\"],[0.4444444444444444,\"#bd3786\"],[0.5555555555555556,\"#d8576b\"],[0.6666666666666666,\"#ed7953\"],[0.7777777777777778,\"#fb9f3a\"],[0.8888888888888888,\"#fdca26\"],[1.0,\"#f0f921\"]],\"type\":\"surface\"}],\"table\":[{\"cells\":{\"fill\":{\"color\":\"#EBF0F8\"},\"line\":{\"color\":\"white\"}},\"header\":{\"fill\":{\"color\":\"#C8D4E3\"},\"line\":{\"color\":\"white\"}},\"type\":\"table\"}]},\"layout\":{\"annotationdefaults\":{\"arrowcolor\":\"#2a3f5f\",\"arrowhead\":0,\"arrowwidth\":1},\"autotypenumbers\":\"strict\",\"coloraxis\":{\"colorbar\":{\"outlinewidth\":0,\"ticks\":\"\"}},\"colorscale\":{\"diverging\":[[0,\"#8e0152\"],[0.1,\"#c51b7d\"],[0.2,\"#de77ae\"],[0.3,\"#f1b6da\"],[0.4,\"#fde0ef\"],[0.5,\"#f7f7f7\"],[0.6,\"#e6f5d0\"],[0.7,\"#b8e186\"],[0.8,\"#7fbc41\"],[0.9,\"#4d9221\"],[1,\"#276419\"]],\"sequential\":[[0.0,\"#0d0887\"],[0.1111111111111111,\"#46039f\"],[0.2222222222222222,\"#7201a8\"],[0.3333333333333333,\"#9c179e\"],[0.4444444444444444,\"#bd3786\"],[0.5555555555555556,\"#d8576b\"],[0.6666666666666666,\"#ed7953\"],[0.7777777777777778,\"#fb9f3a\"],[0.8888888888888888,\"#fdca26\"],[1.0,\"#f0f921\"]],\"sequentialminus\":[[0.0,\"#0d0887\"],[0.1111111111111111,\"#46039f\"],[0.2222222222222222,\"#7201a8\"],[0.3333333333333333,\"#9c179e\"],[0.4444444444444444,\"#bd3786\"],[0.5555555555555556,\"#d8576b\"],[0.6666666666666666,\"#ed7953\"],[0.7777777777777778,\"#fb9f3a\"],[0.8888888888888888,\"#fdca26\"],[1.0,\"#f0f921\"]]},\"colorway\":[\"#636efa\",\"#EF553B\",\"#00cc96\",\"#ab63fa\",\"#FFA15A\",\"#19d3f3\",\"#FF6692\",\"#B6E880\",\"#FF97FF\",\"#FECB52\"],\"font\":{\"color\":\"#2a3f5f\"},\"geo\":{\"bgcolor\":\"white\",\"lakecolor\":\"white\",\"landcolor\":\"#E5ECF6\",\"showlakes\":true,\"showland\":true,\"subunitcolor\":\"white\"},\"hoverlabel\":{\"align\":\"left\"},\"hovermode\":\"closest\",\"mapbox\":{\"style\":\"light\"},\"paper_bgcolor\":\"white\",\"plot_bgcolor\":\"#E5ECF6\",\"polar\":{\"angularaxis\":{\"gridcolor\":\"white\",\"linecolor\":\"white\",\"ticks\":\"\"},\"bgcolor\":\"#E5ECF6\",\"radialaxis\":{\"gridcolor\":\"white\",\"linecolor\":\"white\",\"ticks\":\"\"}},\"scene\":{\"xaxis\":{\"backgroundcolor\":\"#E5ECF6\",\"gridcolor\":\"white\",\"gridwidth\":2,\"linecolor\":\"white\",\"showbackground\":true,\"ticks\":\"\",\"zerolinecolor\":\"white\"},\"yaxis\":{\"backgroundcolor\":\"#E5ECF6\",\"gridcolor\":\"white\",\"gridwidth\":2,\"linecolor\":\"white\",\"showbackground\":true,\"ticks\":\"\",\"zerolinecolor\":\"white\"},\"zaxis\":{\"backgroundcolor\":\"#E5ECF6\",\"gridcolor\":\"white\",\"gridwidth\":2,\"linecolor\":\"white\",\"showbackground\":true,\"ticks\":\"\",\"zerolinecolor\":\"white\"}},\"shapedefaults\":{\"line\":{\"color\":\"#2a3f5f\"}},\"ternary\":{\"aaxis\":{\"gridcolor\":\"white\",\"linecolor\":\"white\",\"ticks\":\"\"},\"baxis\":{\"gridcolor\":\"white\",\"linecolor\":\"white\",\"ticks\":\"\"},\"bgcolor\":\"#E5ECF6\",\"caxis\":{\"gridcolor\":\"white\",\"linecolor\":\"white\",\"ticks\":\"\"}},\"title\":{\"x\":0.05},\"xaxis\":{\"automargin\":true,\"gridcolor\":\"white\",\"linecolor\":\"white\",\"ticks\":\"\",\"title\":{\"standoff\":15},\"zerolinecolor\":\"white\",\"zerolinewidth\":2},\"yaxis\":{\"automargin\":true,\"gridcolor\":\"white\",\"linecolor\":\"white\",\"ticks\":\"\",\"title\":{\"standoff\":15},\"zerolinecolor\":\"white\",\"zerolinewidth\":2}}},\"xaxis\":{\"anchor\":\"y\",\"domain\":[0.0,1.0],\"title\":{\"text\":\"Subject\"},\"categoryorder\":\"array\",\"categoryarray\":[\"Accounting\",\"Administration and IT\",\"Applications of Mathematics\",\"Art and Design\",\"Biology\",\"Business Management\",\"Chemistry\",\"Chinese Languages\",\"Classical Studies\",\"Computing Science\",\"Design and Manufacture\",\"Drama\",\"Economics\",\"Engineering Science\",\"English\",\"English for Speakers of Other Languages\",\"Environmental Science\",\"French\",\"Geography\",\"German\",\"Graphic Communication\",\"Health and Food Technology\",\"History\",\"Italian\",\"Latin\",\"Mathematics\",\"Media\",\"Modern Studies\",\"Music\",\"Music Technology\",\"Philosophy\",\"Physical Education\",\"Physics\",\"Practical Cookery\",\"Practical Electronics\",\"Practical Woodworking\",\"Psychology\",\"Religious, Moral and Philosophical Studies\",\"Spanish\",\"Urdu\"]},\"yaxis\":{\"anchor\":\"x\",\"domain\":[0.0,1.0],\"title\":{\"text\":\"Percentage\"},\"rangemode\":\"tozero\"},\"legend\":{\"title\":{\"text\":\"Year\"},\"tracegroupgap\":0},\"title\":{\"text\":\"Percentage of As from independent Schools per subject at National 5\"},\"height\":800,\"width\":900},                        {\"responsive\": true}                    ).then(function(){\n",
       "                            \n",
       "var gd = document.getElementById('d959ee77-d1c6-4296-970e-76484009c01f');\n",
       "var x = new MutationObserver(function (mutations, observer) {{\n",
       "        var display = window.getComputedStyle(gd).display;\n",
       "        if (!display || display === 'none') {{\n",
       "            console.log([gd, 'removed!']);\n",
       "            Plotly.purge(gd);\n",
       "            observer.disconnect();\n",
       "        }}\n",
       "}});\n",
       "\n",
       "// Listen for the removal of the full notebook cells\n",
       "var notebookContainer = gd.closest('#notebook-container');\n",
       "if (notebookContainer) {{\n",
       "    x.observe(notebookContainer, {childList: true});\n",
       "}}\n",
       "\n",
       "// Listen for the clearing of the current output cell\n",
       "var outputEl = gd.closest('.output');\n",
       "if (outputEl) {{\n",
       "    x.observe(outputEl, {childList: true});\n",
       "}}\n",
       "\n",
       "                        })                };                });            </script>        </div>"
      ]
     },
     "metadata": {},
     "output_type": "display_data"
    }
   ],
   "source": [
    "# Plot graph\n",
    "\n",
    "# Create a list of subjects in alphabetical order\n",
    "subjects = sorted(dfc['Subject'].unique())\n",
    "years = sorted(dfc['Year'].unique())\n",
    "\n",
    "fig = px.line(dfc, x = \"Subject\", y = \"perc\", \n",
    "                color = \"Year\",\n",
    "                #barmode = 'overlay',\n",
    "                width = 900,\n",
    "                height = 800,\n",
    "                category_orders = {'Subject' : subjects, 'Year' : years},\n",
    "                labels = {\"perc\": \"Percentage\"},\n",
    "                title = 'Percentage of As from independent Schools per subject at ' + level_label\n",
    "                )\n",
    "\n",
    "fig.update_yaxes(rangemode = \"tozero\")\n",
    "\n",
    "fig.write_html('./graphs/ind_perc_' + level + '.html')\n",
    "\n",
    "fig.show()"
   ]
  },
  {
   "cell_type": "code",
   "execution_count": 45,
   "id": "fa3a002f",
   "metadata": {},
   "outputs": [
    {
     "data": {
      "text/plain": [
       "'https://plotly.com/~mrcrookes/53/'"
      ]
     },
     "execution_count": 45,
     "metadata": {},
     "output_type": "execute_result"
    }
   ],
   "source": [
    "# Upload to Chart Studio\n",
    "py.plot(fig, filename = 'Ind_As_percentage_line_' + level, auto_open=True)\n",
    "\n",
    "# Output html embed code\n",
    "#tls.get_embed('https://plotly.com/~mrcrookes/14/') #change to your url"
   ]
  },
  {
   "cell_type": "code",
   "execution_count": null,
   "id": "2771564f",
   "metadata": {},
   "outputs": [],
   "source": []
  }
 ],
 "metadata": {
  "kernelspec": {
   "display_name": "Python 3 (ipykernel)",
   "language": "python",
   "name": "python3"
  },
  "language_info": {
   "codemirror_mode": {
    "name": "ipython",
    "version": 3
   },
   "file_extension": ".py",
   "mimetype": "text/x-python",
   "name": "python",
   "nbconvert_exporter": "python",
   "pygments_lexer": "ipython3",
   "version": "3.10.4"
  }
 },
 "nbformat": 4,
 "nbformat_minor": 5
}
