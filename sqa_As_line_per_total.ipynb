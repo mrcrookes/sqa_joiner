{
 "cells": [
  {
   "cell_type": "code",
   "execution_count": 18,
   "id": "52f1ea60",
   "metadata": {},
   "outputs": [],
   "source": [
    "# Import key librarys\n",
    "\n",
    "import pandas as pd\n",
    "import numpy as np\n",
    "\n",
    "import plotly.express as px\n",
    "\n",
    "import chart_studio\n",
    "import chart_studio.plotly as py\n",
    "import chart_studio.tools as tls"
   ]
  },
  {
   "cell_type": "code",
   "execution_count": 19,
   "id": "56c78e25",
   "metadata": {},
   "outputs": [],
   "source": [
    "# Define level\n",
    "level = 'Advanced_Higher'\n",
    "level_label = level.replace('_', ' ')\n",
    "\n",
    "# Import data\n",
    "df = pd.read_excel(\"./more_data/attainment-statistics-(august)-2022-provisional-main.xlsx\", \n",
    "                        sheet_name = level, skiprows = 2)\n",
    "\n",
    "df17 = pd.read_excel(\"./more_data/ASR2017_\" + level + \".xls\", \n",
    "                        sheet_name = \"Table 4\", skiprows = 7)\n",
    "\n",
    "df16 = pd.read_excel(\"./more_data/ASR2016_\" + level + \".xls\", \n",
    "                        sheet_name = \"Table 4\", skiprows = 7)"
   ]
  },
  {
   "cell_type": "code",
   "execution_count": 20,
   "id": "7279253c",
   "metadata": {},
   "outputs": [],
   "source": [
    "years = ['2021', '2020', '2019', '2018', '2017', '2016']\n",
    "totals_students = {}\n",
    "\n",
    "for year in years:\n",
    "    \n",
    "    dfs = pd.read_excel('./even_more_data/ASR' + year + '_' + level + '.xls', \n",
    "                        sheet_name = \"Tables 6a, 6b & 6c\", skiprows = 6, nrows = 17, \n",
    "                           usecols=[0,1, 3, 5])\n",
    "    \n",
    "    totals_students[year] = dfs.loc[dfs['NUMBER OF COURSES ENTERED'] == 'Total learners'].values[0][1]"
   ]
  },
  {
   "cell_type": "code",
   "execution_count": 21,
   "id": "70b1816b",
   "metadata": {},
   "outputs": [],
   "source": [
    "def tidy_up_1(df):\n",
    "    \n",
    "    # Remove spaces and replace with '_'\n",
    "    df.columns = df.columns.str.replace(' ','_')\n",
    "\n",
    "    #df.drop(df[df.Grade_A_Count_2022 == '[z]'].index, inplace=True)\n",
    "    df = df.replace('[z]', np.nan)\n",
    "    df = df.replace('[c]', np.nan)\n",
    "    df = df.replace('[low]', np.nan)\n",
    "\n",
    "    # Remove last row\n",
    "    df = df.drop(df.index[-1])\n",
    "\n",
    "    # Remove columns with Percentage in the heading\n",
    "    df = df[df.columns.drop(list(df.filter(regex='Percentage')))]\n",
    "    \n",
    "    return df\n",
    "    \n",
    "df = tidy_up_1(df)"
   ]
  },
  {
   "cell_type": "code",
   "execution_count": 22,
   "id": "d3573da1",
   "metadata": {},
   "outputs": [],
   "source": [
    "def tidy_up_1a(df, year):\n",
    "    \n",
    "    # Sort out column titles\n",
    "    df = df.rename({'TITLE': 'Subject'}, axis=1)\n",
    "    df = df.rename({'ENTRIES': 'Entries_' + year}, axis=1)\n",
    "    \n",
    "    df = df.rename({'A': 'As_' + year}, axis=1)\n",
    "    df = df.rename({'B': 'Bs_' + year}, axis=1)\n",
    "    df = df.rename({'C': 'Cs_' + year}, axis=1)\n",
    "    df = df.rename({'D': 'Ds_' + year}, axis=1)\n",
    "    \n",
    "    #df = df.rename({'NAs' + year: 'NAs_' + year}, axis=1)\n",
    "\n",
    "    # Remove last row\n",
    "    df = df.drop(df.index[-1])\n",
    " \n",
    "    return df\n",
    "    \n",
    "df16 = tidy_up_1a(df17, '2016')\n",
    "df17 = tidy_up_1a(df17, '2017')"
   ]
  },
  {
   "cell_type": "code",
   "execution_count": 23,
   "id": "4bc26297",
   "metadata": {},
   "outputs": [],
   "source": [
    "def count(df, year):\n",
    "\n",
    "    # Calculate number of Bs, Cs and Ds\n",
    "    df['As_' + year] = round(df['Entries_' + year] * df['As_' + year] / 100)\n",
    "    df['Bs_' + year] = round(df['Entries_' + year] * df['Bs_' + year] / 100)\n",
    "    df['Cs_' + year] = round(df['Entries_' + year] * df['Cs_' + year] / 100)\n",
    "    df['Ds_' + year] = round(df['Entries_' + year] * df['Ds_' + year] / 100)\n",
    "    \n",
    "    # Calculate number of NAs\n",
    "    df['NAs_' + year] = round(df['Entries_' + year] \n",
    "                              - df['As_' + year]\n",
    "                              - df['Bs_' + year]\n",
    "                              - df['Cs_' + year]\n",
    "                              - df['Ds_' + year])\n",
    "        \n",
    "    return df\n",
    "\n",
    "df16 = count(df16, '2016')\n",
    "df17 = count(df17, '2017')"
   ]
  },
  {
   "cell_type": "code",
   "execution_count": 24,
   "id": "d9e99668",
   "metadata": {},
   "outputs": [
    {
     "data": {
      "text/html": [
       "<div>\n",
       "<style scoped>\n",
       "    .dataframe tbody tr th:only-of-type {\n",
       "        vertical-align: middle;\n",
       "    }\n",
       "\n",
       "    .dataframe tbody tr th {\n",
       "        vertical-align: top;\n",
       "    }\n",
       "\n",
       "    .dataframe thead th {\n",
       "        text-align: right;\n",
       "    }\n",
       "</style>\n",
       "<table border=\"1\" class=\"dataframe\">\n",
       "  <thead>\n",
       "    <tr style=\"text-align: right;\">\n",
       "      <th></th>\n",
       "      <th>Subject</th>\n",
       "      <th>Entries_2016</th>\n",
       "      <th>As_2016</th>\n",
       "      <th>Bs_2016</th>\n",
       "      <th>Cs_2016</th>\n",
       "      <th>Ds_2016</th>\n",
       "      <th>NAs_2016</th>\n",
       "    </tr>\n",
       "  </thead>\n",
       "  <tbody>\n",
       "    <tr>\n",
       "      <th>30</th>\n",
       "      <td>Physical Education</td>\n",
       "      <td>350.0</td>\n",
       "      <td>100.0</td>\n",
       "      <td>87.0</td>\n",
       "      <td>93.0</td>\n",
       "      <td>24.0</td>\n",
       "      <td>46.0</td>\n",
       "    </tr>\n",
       "    <tr>\n",
       "      <th>31</th>\n",
       "      <td>Physics</td>\n",
       "      <td>1860.0</td>\n",
       "      <td>564.0</td>\n",
       "      <td>487.0</td>\n",
       "      <td>414.0</td>\n",
       "      <td>148.0</td>\n",
       "      <td>247.0</td>\n",
       "    </tr>\n",
       "    <tr>\n",
       "      <th>32</th>\n",
       "      <td>Religious, Moral and Philosophical Studies</td>\n",
       "      <td>172.0</td>\n",
       "      <td>61.0</td>\n",
       "      <td>30.0</td>\n",
       "      <td>35.0</td>\n",
       "      <td>15.0</td>\n",
       "      <td>31.0</td>\n",
       "    </tr>\n",
       "    <tr>\n",
       "      <th>33</th>\n",
       "      <td>Spanish</td>\n",
       "      <td>433.0</td>\n",
       "      <td>149.0</td>\n",
       "      <td>109.0</td>\n",
       "      <td>71.0</td>\n",
       "      <td>37.0</td>\n",
       "      <td>67.0</td>\n",
       "    </tr>\n",
       "    <tr>\n",
       "      <th>34</th>\n",
       "      <td>Statistics</td>\n",
       "      <td>189.0</td>\n",
       "      <td>71.0</td>\n",
       "      <td>42.0</td>\n",
       "      <td>33.0</td>\n",
       "      <td>12.0</td>\n",
       "      <td>31.0</td>\n",
       "    </tr>\n",
       "  </tbody>\n",
       "</table>\n",
       "</div>"
      ],
      "text/plain": [
       "                                       Subject  Entries_2016  As_2016  \\\n",
       "30                          Physical Education         350.0    100.0   \n",
       "31                                     Physics        1860.0    564.0   \n",
       "32  Religious, Moral and Philosophical Studies         172.0     61.0   \n",
       "33                                     Spanish         433.0    149.0   \n",
       "34                                  Statistics         189.0     71.0   \n",
       "\n",
       "    Bs_2016  Cs_2016  Ds_2016  NAs_2016  \n",
       "30     87.0     93.0     24.0      46.0  \n",
       "31    487.0    414.0    148.0     247.0  \n",
       "32     30.0     35.0     15.0      31.0  \n",
       "33    109.0     71.0     37.0      67.0  \n",
       "34     42.0     33.0     12.0      31.0  "
      ]
     },
     "execution_count": 24,
     "metadata": {},
     "output_type": "execute_result"
    }
   ],
   "source": [
    "df16.tail()"
   ]
  },
  {
   "cell_type": "code",
   "execution_count": 25,
   "id": "bf27f17c",
   "metadata": {},
   "outputs": [],
   "source": [
    "def tidy_up_2(df):\n",
    "\n",
    "    # Create a list of years\n",
    "    years = ['2022', '2021', '2020', '2019', '2018']\n",
    "\n",
    "    # Sort out column titles\n",
    "    for year in years:\n",
    "        df = df.rename({'Grade_A_Count_' + year: 'As_' + year}, axis=1)\n",
    "        df = df.rename({'Grades_A-B_Count_' + year: 'A-Bs_' + year}, axis=1)\n",
    "        df = df.rename({'Grades_A-C_Count_' + year: 'A-Cs_' + year}, axis=1)\n",
    "        df = df.rename({'Grades_A-D_Count_' + year: 'A-Ds_' + year}, axis=1)\n",
    "        df = df.rename({'No_Award_Count_' + year: 'NAs_' + year}, axis=1)\n",
    "\n",
    "    # Calculate number of Bs, Cs and Ds\n",
    "    for year in years:\n",
    "        df['Bs_' + year] = df['A-Bs_' + year] - df['As_' + year]\n",
    "        df['Cs_' + year] = df['A-Cs_' + year] - df['A-Bs_' + year]\n",
    "        df['Ds_' + year] = df['A-Ds_' + year] - df['A-Cs_' + year]\n",
    "\n",
    "    # Remove original columns\n",
    "    for year in years:\n",
    "        df.drop('A-Bs_' + year, axis=1, inplace=True)\n",
    "        df.drop('A-Cs_' + year, axis=1, inplace=True)\n",
    "        df.drop('A-Ds_' + year, axis=1, inplace=True)\n",
    "        \n",
    "    return df\n",
    "        \n",
    "df = tidy_up_2(df)"
   ]
  },
  {
   "cell_type": "code",
   "execution_count": 26,
   "id": "6e1414f0",
   "metadata": {},
   "outputs": [],
   "source": [
    "# Sort out subjects names in 2016 and 2017 datasets\n",
    "\n",
    "def tidy_up_2a(df):\n",
    "\n",
    "    # Update names\n",
    "    di = {'Hospitality: Practical Cake Craft': 'Practical Cake Craft',\n",
    "          'Hospitality: Practical Cookery': 'Practical Cookery',\n",
    "          'Cantonese': 'Chinese Languages', 'Gàidhlig': 'Gaidhlig'}\n",
    "    \n",
    "    df = df.replace({\"Subject\": di})\n",
    "    \n",
    "    # Remove duplicate names\n",
    "    values = ['Cruinn-eolas (Geography)', 'Nuadh-Eolas (Modern Studies)', 'Eachdraidh (History)', \n",
    "        'Matamataig (Mathematics)', 'Matamataig Fad-bheatha (Lifeskills Mathematics)',\n",
    "            'Mandarin (Simplified)', 'Mandarin (Traditional)']\n",
    "\n",
    "    df = df.loc[~df['Subject'].isin(values)]\n",
    "    \n",
    "    return df\n",
    "\n",
    "df16 = tidy_up_2a(df16)\n",
    "df17 = tidy_up_2a(df17)"
   ]
  },
  {
   "cell_type": "code",
   "execution_count": 27,
   "id": "7bd52fec",
   "metadata": {},
   "outputs": [
    {
     "data": {
      "text/html": [
       "<div>\n",
       "<style scoped>\n",
       "    .dataframe tbody tr th:only-of-type {\n",
       "        vertical-align: middle;\n",
       "    }\n",
       "\n",
       "    .dataframe tbody tr th {\n",
       "        vertical-align: top;\n",
       "    }\n",
       "\n",
       "    .dataframe thead th {\n",
       "        text-align: right;\n",
       "    }\n",
       "</style>\n",
       "<table border=\"1\" class=\"dataframe\">\n",
       "  <thead>\n",
       "    <tr style=\"text-align: right;\">\n",
       "      <th></th>\n",
       "      <th>Subject</th>\n",
       "      <th>As_2022</th>\n",
       "      <th>NAs_2022</th>\n",
       "      <th>Entries_2022</th>\n",
       "      <th>As_2021</th>\n",
       "      <th>NAs_2021</th>\n",
       "      <th>Entries_2021</th>\n",
       "      <th>As_2020</th>\n",
       "      <th>NAs_2020</th>\n",
       "      <th>Entries_2020</th>\n",
       "      <th>...</th>\n",
       "      <th>Ds_2021</th>\n",
       "      <th>Bs_2020</th>\n",
       "      <th>Cs_2020</th>\n",
       "      <th>Ds_2020</th>\n",
       "      <th>Bs_2019</th>\n",
       "      <th>Cs_2019</th>\n",
       "      <th>Ds_2019</th>\n",
       "      <th>Bs_2018</th>\n",
       "      <th>Cs_2018</th>\n",
       "      <th>Ds_2018</th>\n",
       "    </tr>\n",
       "  </thead>\n",
       "  <tbody>\n",
       "    <tr>\n",
       "      <th>0</th>\n",
       "      <td>Accounting</td>\n",
       "      <td>25</td>\n",
       "      <td>5.0</td>\n",
       "      <td>65</td>\n",
       "      <td>45</td>\n",
       "      <td>5.0</td>\n",
       "      <td>75</td>\n",
       "      <td>40</td>\n",
       "      <td>NaN</td>\n",
       "      <td>60</td>\n",
       "      <td>...</td>\n",
       "      <td>5</td>\n",
       "      <td>10</td>\n",
       "      <td>10</td>\n",
       "      <td>0</td>\n",
       "      <td>15.0</td>\n",
       "      <td>15.0</td>\n",
       "      <td>5.0</td>\n",
       "      <td>15.0</td>\n",
       "      <td>10.0</td>\n",
       "      <td>0.0</td>\n",
       "    </tr>\n",
       "    <tr>\n",
       "      <th>1</th>\n",
       "      <td>Art and Design (Design)</td>\n",
       "      <td>220</td>\n",
       "      <td>10.0</td>\n",
       "      <td>665</td>\n",
       "      <td>295</td>\n",
       "      <td>15.0</td>\n",
       "      <td>635</td>\n",
       "      <td>240</td>\n",
       "      <td>10.0</td>\n",
       "      <td>540</td>\n",
       "      <td>...</td>\n",
       "      <td>15</td>\n",
       "      <td>190</td>\n",
       "      <td>85</td>\n",
       "      <td>15</td>\n",
       "      <td>140.0</td>\n",
       "      <td>140.0</td>\n",
       "      <td>25.0</td>\n",
       "      <td>150.0</td>\n",
       "      <td>190.0</td>\n",
       "      <td>35.0</td>\n",
       "    </tr>\n",
       "    <tr>\n",
       "      <th>2</th>\n",
       "      <td>Art and Design (Expressive)</td>\n",
       "      <td>475</td>\n",
       "      <td>10.0</td>\n",
       "      <td>1280</td>\n",
       "      <td>550</td>\n",
       "      <td>20.0</td>\n",
       "      <td>1165</td>\n",
       "      <td>475</td>\n",
       "      <td>10.0</td>\n",
       "      <td>1015</td>\n",
       "      <td>...</td>\n",
       "      <td>35</td>\n",
       "      <td>340</td>\n",
       "      <td>170</td>\n",
       "      <td>20</td>\n",
       "      <td>290.0</td>\n",
       "      <td>280.0</td>\n",
       "      <td>60.0</td>\n",
       "      <td>275.0</td>\n",
       "      <td>300.0</td>\n",
       "      <td>60.0</td>\n",
       "    </tr>\n",
       "    <tr>\n",
       "      <th>3</th>\n",
       "      <td>Biology</td>\n",
       "      <td>775</td>\n",
       "      <td>265.0</td>\n",
       "      <td>3165</td>\n",
       "      <td>1240</td>\n",
       "      <td>195.0</td>\n",
       "      <td>2960</td>\n",
       "      <td>910</td>\n",
       "      <td>85.0</td>\n",
       "      <td>2510</td>\n",
       "      <td>...</td>\n",
       "      <td>280</td>\n",
       "      <td>720</td>\n",
       "      <td>610</td>\n",
       "      <td>190</td>\n",
       "      <td>570.0</td>\n",
       "      <td>575.0</td>\n",
       "      <td>285.0</td>\n",
       "      <td>585.0</td>\n",
       "      <td>595.0</td>\n",
       "      <td>280.0</td>\n",
       "    </tr>\n",
       "    <tr>\n",
       "      <th>4</th>\n",
       "      <td>Business Management</td>\n",
       "      <td>205</td>\n",
       "      <td>65.0</td>\n",
       "      <td>790</td>\n",
       "      <td>340</td>\n",
       "      <td>10.0</td>\n",
       "      <td>590</td>\n",
       "      <td>285</td>\n",
       "      <td>5.0</td>\n",
       "      <td>560</td>\n",
       "      <td>...</td>\n",
       "      <td>20</td>\n",
       "      <td>165</td>\n",
       "      <td>85</td>\n",
       "      <td>20</td>\n",
       "      <td>115.0</td>\n",
       "      <td>115.0</td>\n",
       "      <td>40.0</td>\n",
       "      <td>135.0</td>\n",
       "      <td>115.0</td>\n",
       "      <td>45.0</td>\n",
       "    </tr>\n",
       "  </tbody>\n",
       "</table>\n",
       "<p>5 rows × 31 columns</p>\n",
       "</div>"
      ],
      "text/plain": [
       "                       Subject  As_2022  NAs_2022  Entries_2022  As_2021  \\\n",
       "0                   Accounting       25       5.0            65       45   \n",
       "1      Art and Design (Design)      220      10.0           665      295   \n",
       "2  Art and Design (Expressive)      475      10.0          1280      550   \n",
       "3                      Biology      775     265.0          3165     1240   \n",
       "4          Business Management      205      65.0           790      340   \n",
       "\n",
       "   NAs_2021  Entries_2021  As_2020  NAs_2020  Entries_2020  ...  Ds_2021  \\\n",
       "0       5.0            75       40       NaN            60  ...        5   \n",
       "1      15.0           635      240      10.0           540  ...       15   \n",
       "2      20.0          1165      475      10.0          1015  ...       35   \n",
       "3     195.0          2960      910      85.0          2510  ...      280   \n",
       "4      10.0           590      285       5.0           560  ...       20   \n",
       "\n",
       "   Bs_2020  Cs_2020  Ds_2020  Bs_2019  Cs_2019  Ds_2019  Bs_2018  Cs_2018  \\\n",
       "0       10       10        0     15.0     15.0      5.0     15.0     10.0   \n",
       "1      190       85       15    140.0    140.0     25.0    150.0    190.0   \n",
       "2      340      170       20    290.0    280.0     60.0    275.0    300.0   \n",
       "3      720      610      190    570.0    575.0    285.0    585.0    595.0   \n",
       "4      165       85       20    115.0    115.0     40.0    135.0    115.0   \n",
       "\n",
       "   Ds_2018  \n",
       "0      0.0  \n",
       "1     35.0  \n",
       "2     60.0  \n",
       "3    280.0  \n",
       "4     45.0  \n",
       "\n",
       "[5 rows x 31 columns]"
      ]
     },
     "execution_count": 27,
     "metadata": {},
     "output_type": "execute_result"
    }
   ],
   "source": [
    "df.head()"
   ]
  },
  {
   "cell_type": "code",
   "execution_count": 28,
   "id": "27a9ead9",
   "metadata": {},
   "outputs": [],
   "source": [
    "# Concat together three dfs (on Subject as index)\n",
    "\n",
    "dfc = pd.concat([df.set_index('Subject'), df17.set_index('Subject'), df16.set_index('Subject')], \n",
    "                  axis=1).reset_index()"
   ]
  },
  {
   "cell_type": "code",
   "execution_count": 29,
   "id": "b850461a",
   "metadata": {},
   "outputs": [
    {
     "data": {
      "text/html": [
       "<div>\n",
       "<style scoped>\n",
       "    .dataframe tbody tr th:only-of-type {\n",
       "        vertical-align: middle;\n",
       "    }\n",
       "\n",
       "    .dataframe tbody tr th {\n",
       "        vertical-align: top;\n",
       "    }\n",
       "\n",
       "    .dataframe thead th {\n",
       "        text-align: right;\n",
       "    }\n",
       "</style>\n",
       "<table border=\"1\" class=\"dataframe\">\n",
       "  <thead>\n",
       "    <tr style=\"text-align: right;\">\n",
       "      <th></th>\n",
       "      <th>Subject</th>\n",
       "      <th>As_2022</th>\n",
       "      <th>NAs_2022</th>\n",
       "      <th>Entries_2022</th>\n",
       "      <th>As_2021</th>\n",
       "      <th>NAs_2021</th>\n",
       "      <th>Entries_2021</th>\n",
       "      <th>As_2020</th>\n",
       "      <th>NAs_2020</th>\n",
       "      <th>Entries_2020</th>\n",
       "      <th>...</th>\n",
       "      <th>Bs_2016</th>\n",
       "      <th>Cs_2016</th>\n",
       "      <th>Ds_2016</th>\n",
       "      <th>NAs_2016</th>\n",
       "      <th>perAs_2021</th>\n",
       "      <th>perAs_2020</th>\n",
       "      <th>perAs_2019</th>\n",
       "      <th>perAs_2018</th>\n",
       "      <th>perAs_2017</th>\n",
       "      <th>perAs_2016</th>\n",
       "    </tr>\n",
       "  </thead>\n",
       "  <tbody>\n",
       "    <tr>\n",
       "      <th>31</th>\n",
       "      <td>Physics</td>\n",
       "      <td>770.0</td>\n",
       "      <td>150.0</td>\n",
       "      <td>2130.0</td>\n",
       "      <td>1005.0</td>\n",
       "      <td>100.0</td>\n",
       "      <td>1945.0</td>\n",
       "      <td>865.0</td>\n",
       "      <td>40.0</td>\n",
       "      <td>1710.0</td>\n",
       "      <td>...</td>\n",
       "      <td>487.0</td>\n",
       "      <td>414.0</td>\n",
       "      <td>148.0</td>\n",
       "      <td>247.0</td>\n",
       "      <td>0.0641</td>\n",
       "      <td>0.0623</td>\n",
       "      <td>0.0373</td>\n",
       "      <td>0.0402</td>\n",
       "      <td>0.0392</td>\n",
       "      <td>0.0396</td>\n",
       "    </tr>\n",
       "    <tr>\n",
       "      <th>32</th>\n",
       "      <td>Religious, Moral and Philosophical Studies</td>\n",
       "      <td>85.0</td>\n",
       "      <td>20.0</td>\n",
       "      <td>250.0</td>\n",
       "      <td>155.0</td>\n",
       "      <td>NaN</td>\n",
       "      <td>235.0</td>\n",
       "      <td>95.0</td>\n",
       "      <td>0.0</td>\n",
       "      <td>180.0</td>\n",
       "      <td>...</td>\n",
       "      <td>30.0</td>\n",
       "      <td>35.0</td>\n",
       "      <td>15.0</td>\n",
       "      <td>31.0</td>\n",
       "      <td>0.0099</td>\n",
       "      <td>0.0068</td>\n",
       "      <td>0.0040</td>\n",
       "      <td>0.0024</td>\n",
       "      <td>0.0042</td>\n",
       "      <td>0.0043</td>\n",
       "    </tr>\n",
       "    <tr>\n",
       "      <th>33</th>\n",
       "      <td>Spanish</td>\n",
       "      <td>200.0</td>\n",
       "      <td>35.0</td>\n",
       "      <td>470.0</td>\n",
       "      <td>280.0</td>\n",
       "      <td>15.0</td>\n",
       "      <td>465.0</td>\n",
       "      <td>250.0</td>\n",
       "      <td>NaN</td>\n",
       "      <td>465.0</td>\n",
       "      <td>...</td>\n",
       "      <td>109.0</td>\n",
       "      <td>71.0</td>\n",
       "      <td>37.0</td>\n",
       "      <td>67.0</td>\n",
       "      <td>0.0179</td>\n",
       "      <td>0.0180</td>\n",
       "      <td>0.0126</td>\n",
       "      <td>0.0107</td>\n",
       "      <td>0.0104</td>\n",
       "      <td>0.0105</td>\n",
       "    </tr>\n",
       "    <tr>\n",
       "      <th>34</th>\n",
       "      <td>Statistics</td>\n",
       "      <td>55.0</td>\n",
       "      <td>15.0</td>\n",
       "      <td>140.0</td>\n",
       "      <td>140.0</td>\n",
       "      <td>10.0</td>\n",
       "      <td>205.0</td>\n",
       "      <td>100.0</td>\n",
       "      <td>5.0</td>\n",
       "      <td>185.0</td>\n",
       "      <td>...</td>\n",
       "      <td>42.0</td>\n",
       "      <td>33.0</td>\n",
       "      <td>12.0</td>\n",
       "      <td>31.0</td>\n",
       "      <td>0.0089</td>\n",
       "      <td>0.0072</td>\n",
       "      <td>0.0050</td>\n",
       "      <td>0.0048</td>\n",
       "      <td>0.0049</td>\n",
       "      <td>0.0050</td>\n",
       "    </tr>\n",
       "    <tr>\n",
       "      <th>35</th>\n",
       "      <td>NaN</td>\n",
       "      <td>NaN</td>\n",
       "      <td>NaN</td>\n",
       "      <td>NaN</td>\n",
       "      <td>NaN</td>\n",
       "      <td>NaN</td>\n",
       "      <td>NaN</td>\n",
       "      <td>NaN</td>\n",
       "      <td>NaN</td>\n",
       "      <td>NaN</td>\n",
       "      <td>...</td>\n",
       "      <td>NaN</td>\n",
       "      <td>NaN</td>\n",
       "      <td>NaN</td>\n",
       "      <td>NaN</td>\n",
       "      <td>NaN</td>\n",
       "      <td>NaN</td>\n",
       "      <td>NaN</td>\n",
       "      <td>NaN</td>\n",
       "      <td>NaN</td>\n",
       "      <td>NaN</td>\n",
       "    </tr>\n",
       "  </tbody>\n",
       "</table>\n",
       "<p>5 rows × 49 columns</p>\n",
       "</div>"
      ],
      "text/plain": [
       "                                       Subject  As_2022  NAs_2022  \\\n",
       "31                                     Physics    770.0     150.0   \n",
       "32  Religious, Moral and Philosophical Studies     85.0      20.0   \n",
       "33                                     Spanish    200.0      35.0   \n",
       "34                                  Statistics     55.0      15.0   \n",
       "35                                         NaN      NaN       NaN   \n",
       "\n",
       "    Entries_2022  As_2021  NAs_2021  Entries_2021  As_2020  NAs_2020  \\\n",
       "31        2130.0   1005.0     100.0        1945.0    865.0      40.0   \n",
       "32         250.0    155.0       NaN         235.0     95.0       0.0   \n",
       "33         470.0    280.0      15.0         465.0    250.0       NaN   \n",
       "34         140.0    140.0      10.0         205.0    100.0       5.0   \n",
       "35           NaN      NaN       NaN           NaN      NaN       NaN   \n",
       "\n",
       "    Entries_2020  ...  Bs_2016  Cs_2016  Ds_2016  NAs_2016  perAs_2021  \\\n",
       "31        1710.0  ...    487.0    414.0    148.0     247.0      0.0641   \n",
       "32         180.0  ...     30.0     35.0     15.0      31.0      0.0099   \n",
       "33         465.0  ...    109.0     71.0     37.0      67.0      0.0179   \n",
       "34         185.0  ...     42.0     33.0     12.0      31.0      0.0089   \n",
       "35           NaN  ...      NaN      NaN      NaN       NaN         NaN   \n",
       "\n",
       "    perAs_2020  perAs_2019  perAs_2018  perAs_2017  perAs_2016  \n",
       "31      0.0623      0.0373      0.0402      0.0392      0.0396  \n",
       "32      0.0068      0.0040      0.0024      0.0042      0.0043  \n",
       "33      0.0180      0.0126      0.0107      0.0104      0.0105  \n",
       "34      0.0072      0.0050      0.0048      0.0049      0.0050  \n",
       "35         NaN         NaN         NaN         NaN         NaN  \n",
       "\n",
       "[5 rows x 49 columns]"
      ]
     },
     "execution_count": 29,
     "metadata": {},
     "output_type": "execute_result"
    }
   ],
   "source": [
    "def as_per(df):\n",
    "\n",
    "    # Create a list of years\n",
    "    years = ['2021', '2020', '2019', '2018', '2017', '2016']\n",
    "\n",
    "    # Calculate perc of As\n",
    "    for year in years:\n",
    "        \n",
    "        df['perAs_' + year] = round(df['As_' + year] / totals_students[year], 4)\n",
    "        \n",
    "    return df\n",
    "\n",
    "dfc = as_per(dfc)\n",
    "        \n",
    "dfc.tail()"
   ]
  },
  {
   "cell_type": "code",
   "execution_count": 30,
   "id": "a6d32248",
   "metadata": {
    "scrolled": true
   },
   "outputs": [
    {
     "data": {
      "text/html": [
       "<div>\n",
       "<style scoped>\n",
       "    .dataframe tbody tr th:only-of-type {\n",
       "        vertical-align: middle;\n",
       "    }\n",
       "\n",
       "    .dataframe tbody tr th {\n",
       "        vertical-align: top;\n",
       "    }\n",
       "\n",
       "    .dataframe thead th {\n",
       "        text-align: right;\n",
       "    }\n",
       "</style>\n",
       "<table border=\"1\" class=\"dataframe\">\n",
       "  <thead>\n",
       "    <tr style=\"text-align: right;\">\n",
       "      <th></th>\n",
       "      <th>Subject</th>\n",
       "      <th>Count</th>\n",
       "      <th>Grades</th>\n",
       "      <th>Year</th>\n",
       "    </tr>\n",
       "  </thead>\n",
       "  <tbody>\n",
       "    <tr>\n",
       "      <th>1723</th>\n",
       "      <td>Physics</td>\n",
       "      <td>0.0396</td>\n",
       "      <td>perAs</td>\n",
       "      <td>2016</td>\n",
       "    </tr>\n",
       "    <tr>\n",
       "      <th>1724</th>\n",
       "      <td>Religious, Moral and Philosophical Studies</td>\n",
       "      <td>0.0043</td>\n",
       "      <td>perAs</td>\n",
       "      <td>2016</td>\n",
       "    </tr>\n",
       "    <tr>\n",
       "      <th>1725</th>\n",
       "      <td>Spanish</td>\n",
       "      <td>0.0105</td>\n",
       "      <td>perAs</td>\n",
       "      <td>2016</td>\n",
       "    </tr>\n",
       "    <tr>\n",
       "      <th>1726</th>\n",
       "      <td>Statistics</td>\n",
       "      <td>0.0050</td>\n",
       "      <td>perAs</td>\n",
       "      <td>2016</td>\n",
       "    </tr>\n",
       "    <tr>\n",
       "      <th>1727</th>\n",
       "      <td>NaN</td>\n",
       "      <td>NaN</td>\n",
       "      <td>perAs</td>\n",
       "      <td>2016</td>\n",
       "    </tr>\n",
       "  </tbody>\n",
       "</table>\n",
       "</div>"
      ],
      "text/plain": [
       "                                         Subject   Count Grades  Year\n",
       "1723                                     Physics  0.0396  perAs  2016\n",
       "1724  Religious, Moral and Philosophical Studies  0.0043  perAs  2016\n",
       "1725                                     Spanish  0.0105  perAs  2016\n",
       "1726                                  Statistics  0.0050  perAs  2016\n",
       "1727                                         NaN     NaN  perAs  2016"
      ]
     },
     "execution_count": 30,
     "metadata": {},
     "output_type": "execute_result"
    }
   ],
   "source": [
    "# Convert into long format\n",
    "\n",
    "def tolong(df):\n",
    "    ldf = pd.melt(df, id_vars = ['Subject'], var_name = 'abc', value_name ='Count')\n",
    "    ldf['Grades'] = ldf['abc'].apply(lambda x: (x.rsplit('_', 1))[0])\n",
    "    ldf['Year'] = ldf.pop('abc').apply(lambda x: (x.split('_'))[-1])\n",
    "    \n",
    "    return ldf\n",
    "    \n",
    "ldf = tolong(dfc)\n",
    "\n",
    "ldf.tail()"
   ]
  },
  {
   "cell_type": "code",
   "execution_count": 31,
   "id": "ed8850fa",
   "metadata": {},
   "outputs": [
    {
     "data": {
      "text/html": [
       "<div>\n",
       "<style scoped>\n",
       "    .dataframe tbody tr th:only-of-type {\n",
       "        vertical-align: middle;\n",
       "    }\n",
       "\n",
       "    .dataframe tbody tr th {\n",
       "        vertical-align: top;\n",
       "    }\n",
       "\n",
       "    .dataframe thead th {\n",
       "        text-align: right;\n",
       "    }\n",
       "</style>\n",
       "<table border=\"1\" class=\"dataframe\">\n",
       "  <thead>\n",
       "    <tr style=\"text-align: right;\">\n",
       "      <th></th>\n",
       "      <th>Subject</th>\n",
       "      <th>Count</th>\n",
       "      <th>Grades</th>\n",
       "      <th>Year</th>\n",
       "    </tr>\n",
       "  </thead>\n",
       "  <tbody>\n",
       "    <tr>\n",
       "      <th>1722</th>\n",
       "      <td>Physical Education</td>\n",
       "      <td>0.0070</td>\n",
       "      <td>perAs</td>\n",
       "      <td>2016</td>\n",
       "    </tr>\n",
       "    <tr>\n",
       "      <th>1723</th>\n",
       "      <td>Physics</td>\n",
       "      <td>0.0396</td>\n",
       "      <td>perAs</td>\n",
       "      <td>2016</td>\n",
       "    </tr>\n",
       "    <tr>\n",
       "      <th>1724</th>\n",
       "      <td>Religious, Moral and Philosophical Studies</td>\n",
       "      <td>0.0043</td>\n",
       "      <td>perAs</td>\n",
       "      <td>2016</td>\n",
       "    </tr>\n",
       "    <tr>\n",
       "      <th>1725</th>\n",
       "      <td>Spanish</td>\n",
       "      <td>0.0105</td>\n",
       "      <td>perAs</td>\n",
       "      <td>2016</td>\n",
       "    </tr>\n",
       "    <tr>\n",
       "      <th>1726</th>\n",
       "      <td>Statistics</td>\n",
       "      <td>0.0050</td>\n",
       "      <td>perAs</td>\n",
       "      <td>2016</td>\n",
       "    </tr>\n",
       "  </tbody>\n",
       "</table>\n",
       "</div>"
      ],
      "text/plain": [
       "                                         Subject   Count Grades  Year\n",
       "1722                          Physical Education  0.0070  perAs  2016\n",
       "1723                                     Physics  0.0396  perAs  2016\n",
       "1724  Religious, Moral and Philosophical Studies  0.0043  perAs  2016\n",
       "1725                                     Spanish  0.0105  perAs  2016\n",
       "1726                                  Statistics  0.0050  perAs  2016"
      ]
     },
     "execution_count": 31,
     "metadata": {},
     "output_type": "execute_result"
    }
   ],
   "source": [
    "ldf = ldf[(ldf.Grades == 'perAs')]\n",
    "ldf.dropna(inplace=True)\n",
    "\n",
    "ldf.tail()"
   ]
  },
  {
   "cell_type": "code",
   "execution_count": 32,
   "id": "11281c5d",
   "metadata": {},
   "outputs": [
    {
     "name": "stdout",
     "output_type": "stream",
     "text": [
      "<class 'pandas.core.frame.DataFrame'>\n",
      "Int64Index: 203 entries, 1512 to 1726\n",
      "Data columns (total 4 columns):\n",
      " #   Column   Non-Null Count  Dtype  \n",
      "---  ------   --------------  -----  \n",
      " 0   Subject  203 non-null    object \n",
      " 1   Count    203 non-null    float64\n",
      " 2   Grades   203 non-null    object \n",
      " 3   Year     203 non-null    object \n",
      "dtypes: float64(1), object(3)\n",
      "memory usage: 7.9+ KB\n"
     ]
    }
   ],
   "source": [
    "ldf.info()"
   ]
  },
  {
   "cell_type": "code",
   "execution_count": 33,
   "id": "e8e38656",
   "metadata": {},
   "outputs": [
    {
     "data": {
      "application/vnd.plotly.v1+json": {
       "config": {
        "plotlyServerURL": "https://plotly.com"
       },
       "data": [
        {
         "hovertemplate": "Subject=Accounting<br>Category=perAs<br>Year=%{x}<br>Count=%{y}<extra></extra>",
         "legendgroup": "Accounting",
         "line": {
          "color": "#636efa",
          "dash": "solid"
         },
         "marker": {
          "symbol": "circle"
         },
         "mode": "markers+lines",
         "name": "Accounting",
         "orientation": "v",
         "showlegend": true,
         "type": "scatter",
         "x": [
          "2021",
          "2020",
          "2019",
          "2018",
          "2017",
          "2016"
         ],
         "xaxis": "x",
         "y": [
          0.0029,
          0.0029,
          0.0018,
          0.0021,
          0.001,
          0.0011
         ],
         "yaxis": "y"
        },
        {
         "hovertemplate": "Subject=Art and Design (Design)<br>Category=perAs<br>Year=%{x}<br>Count=%{y}<extra></extra>",
         "legendgroup": "Art and Design (Design)",
         "line": {
          "color": "#EF553B",
          "dash": "solid"
         },
         "marker": {
          "symbol": "circle"
         },
         "mode": "markers+lines",
         "name": "Art and Design (Design)",
         "orientation": "v",
         "showlegend": true,
         "type": "scatter",
         "x": [
          "2021",
          "2020",
          "2019",
          "2018",
          "2017",
          "2016"
         ],
         "xaxis": "x",
         "y": [
          0.0188,
          0.0173,
          0.0133,
          0.0104,
          0.0136,
          0.0137
         ],
         "yaxis": "y"
        },
        {
         "hovertemplate": "Subject=Art and Design (Expressive)<br>Category=perAs<br>Year=%{x}<br>Count=%{y}<extra></extra>",
         "legendgroup": "Art and Design (Expressive)",
         "line": {
          "color": "#00cc96",
          "dash": "solid"
         },
         "marker": {
          "symbol": "circle"
         },
         "mode": "markers+lines",
         "name": "Art and Design (Expressive)",
         "orientation": "v",
         "showlegend": true,
         "type": "scatter",
         "x": [
          "2021",
          "2020",
          "2019",
          "2018",
          "2017",
          "2016"
         ],
         "xaxis": "x",
         "y": [
          0.0351,
          0.0342,
          0.0201,
          0.0177,
          0.0214,
          0.0215
         ],
         "yaxis": "y"
        },
        {
         "hovertemplate": "Subject=Biology<br>Category=perAs<br>Year=%{x}<br>Count=%{y}<extra></extra>",
         "legendgroup": "Biology",
         "line": {
          "color": "#ab63fa",
          "dash": "solid"
         },
         "marker": {
          "symbol": "circle"
         },
         "mode": "markers+lines",
         "name": "Biology",
         "orientation": "v",
         "showlegend": true,
         "type": "scatter",
         "x": [
          "2021",
          "2020",
          "2019",
          "2018",
          "2017",
          "2016"
         ],
         "xaxis": "x",
         "y": [
          0.0791,
          0.0655,
          0.0409,
          0.0377,
          0.0291,
          0.0294
         ],
         "yaxis": "y"
        },
        {
         "hovertemplate": "Subject=Business Management<br>Category=perAs<br>Year=%{x}<br>Count=%{y}<extra></extra>",
         "legendgroup": "Business Management",
         "line": {
          "color": "#FFA15A",
          "dash": "solid"
         },
         "marker": {
          "symbol": "circle"
         },
         "mode": "markers+lines",
         "name": "Business Management",
         "orientation": "v",
         "showlegend": true,
         "type": "scatter",
         "x": [
          "2021",
          "2020",
          "2019",
          "2018",
          "2017",
          "2016"
         ],
         "xaxis": "x",
         "y": [
          0.0217,
          0.0205,
          0.0083,
          0.0087,
          0.0094,
          0.0095
         ],
         "yaxis": "y"
        },
        {
         "hovertemplate": "Subject=Chemistry<br>Category=perAs<br>Year=%{x}<br>Count=%{y}<extra></extra>",
         "legendgroup": "Chemistry",
         "line": {
          "color": "#19d3f3",
          "dash": "solid"
         },
         "marker": {
          "symbol": "circle"
         },
         "mode": "markers+lines",
         "name": "Chemistry",
         "orientation": "v",
         "showlegend": true,
         "type": "scatter",
         "x": [
          "2021",
          "2020",
          "2019",
          "2018",
          "2017",
          "2016"
         ],
         "xaxis": "x",
         "y": [
          0.0771,
          0.0788,
          0.0596,
          0.0564,
          0.0538,
          0.0543
         ],
         "yaxis": "y"
        },
        {
         "hovertemplate": "Subject=Chinese Languages<br>Category=perAs<br>Year=%{x}<br>Count=%{y}<extra></extra>",
         "legendgroup": "Chinese Languages",
         "line": {
          "color": "#FF6692",
          "dash": "solid"
         },
         "marker": {
          "symbol": "circle"
         },
         "mode": "markers+lines",
         "name": "Chinese Languages",
         "orientation": "v",
         "showlegend": true,
         "type": "scatter",
         "x": [
          "2021",
          "2020",
          "2019",
          "2018",
          "2017",
          "2016"
         ],
         "xaxis": "x",
         "y": [
          0.0032,
          0.004,
          0.0036,
          0.0028,
          0.0018,
          0.0018
         ],
         "yaxis": "y"
        },
        {
         "hovertemplate": "Subject=Classical Studies<br>Category=perAs<br>Year=%{x}<br>Count=%{y}<extra></extra>",
         "legendgroup": "Classical Studies",
         "line": {
          "color": "#B6E880",
          "dash": "solid"
         },
         "marker": {
          "symbol": "circle"
         },
         "mode": "markers+lines",
         "name": "Classical Studies",
         "orientation": "v",
         "showlegend": true,
         "type": "scatter",
         "x": [
          "2021",
          "2020",
          "2019",
          "2018",
          "2017",
          "2016"
         ],
         "xaxis": "x",
         "y": [
          0.0016,
          0.0011,
          0.0011,
          0.0014,
          0.001,
          0.001
         ],
         "yaxis": "y"
        },
        {
         "hovertemplate": "Subject=Computing Science<br>Category=perAs<br>Year=%{x}<br>Count=%{y}<extra></extra>",
         "legendgroup": "Computing Science",
         "line": {
          "color": "#FF97FF",
          "dash": "solid"
         },
         "marker": {
          "symbol": "circle"
         },
         "mode": "markers+lines",
         "name": "Computing Science",
         "orientation": "v",
         "showlegend": true,
         "type": "scatter",
         "x": [
          "2021",
          "2020",
          "2019",
          "2018",
          "2017",
          "2016"
         ],
         "xaxis": "x",
         "y": [
          0.0169,
          0.0158,
          0.0108,
          0.0097,
          0.0093,
          0.0094
         ],
         "yaxis": "y"
        },
        {
         "hovertemplate": "Subject=Design and Manufacture<br>Category=perAs<br>Year=%{x}<br>Count=%{y}<extra></extra>",
         "legendgroup": "Design and Manufacture",
         "line": {
          "color": "#FECB52",
          "dash": "solid"
         },
         "marker": {
          "symbol": "circle"
         },
         "mode": "markers+lines",
         "name": "Design and Manufacture",
         "orientation": "v",
         "showlegend": true,
         "type": "scatter",
         "x": [
          "2021",
          "2020",
          "2019",
          "2018",
          "2017",
          "2016"
         ],
         "xaxis": "x",
         "y": [
          0.0022,
          0.0011,
          0.0004,
          0.0003,
          0.0006,
          0.0006
         ],
         "yaxis": "y"
        },
        {
         "hovertemplate": "Subject=Drama<br>Category=perAs<br>Year=%{x}<br>Count=%{y}<extra></extra>",
         "legendgroup": "Drama",
         "line": {
          "color": "#636efa",
          "dash": "solid"
         },
         "marker": {
          "symbol": "circle"
         },
         "mode": "markers+lines",
         "name": "Drama",
         "orientation": "v",
         "showlegend": true,
         "type": "scatter",
         "x": [
          "2021",
          "2020",
          "2019",
          "2018",
          "2017",
          "2016"
         ],
         "xaxis": "x",
         "y": [
          0.0179,
          0.0194,
          0.009,
          0.0111,
          0.0134,
          0.0135
         ],
         "yaxis": "y"
        },
        {
         "hovertemplate": "Subject=Economics<br>Category=perAs<br>Year=%{x}<br>Count=%{y}<extra></extra>",
         "legendgroup": "Economics",
         "line": {
          "color": "#EF553B",
          "dash": "solid"
         },
         "marker": {
          "symbol": "circle"
         },
         "mode": "markers+lines",
         "name": "Economics",
         "orientation": "v",
         "showlegend": true,
         "type": "scatter",
         "x": [
          "2021",
          "2020",
          "2019",
          "2018",
          "2017",
          "2016"
         ],
         "xaxis": "x",
         "y": [
          0.0041,
          0.005,
          0.0043,
          0.0028,
          0.0029,
          0.0029
         ],
         "yaxis": "y"
        },
        {
         "hovertemplate": "Subject=Engineering Science<br>Category=perAs<br>Year=%{x}<br>Count=%{y}<extra></extra>",
         "legendgroup": "Engineering Science",
         "line": {
          "color": "#00cc96",
          "dash": "solid"
         },
         "marker": {
          "symbol": "circle"
         },
         "mode": "markers+lines",
         "name": "Engineering Science",
         "orientation": "v",
         "showlegend": true,
         "type": "scatter",
         "x": [
          "2021",
          "2020",
          "2019",
          "2018",
          "2017",
          "2016"
         ],
         "xaxis": "x",
         "y": [
          0.0019,
          0.0007,
          0.0007,
          0.0007,
          0.0006,
          0.0006
         ],
         "yaxis": "y"
        },
        {
         "hovertemplate": "Subject=English<br>Category=perAs<br>Year=%{x}<br>Count=%{y}<extra></extra>",
         "legendgroup": "English",
         "line": {
          "color": "#ab63fa",
          "dash": "solid"
         },
         "marker": {
          "symbol": "circle"
         },
         "mode": "markers+lines",
         "name": "English",
         "orientation": "v",
         "showlegend": true,
         "type": "scatter",
         "x": [
          "2021",
          "2020",
          "2019",
          "2018",
          "2017",
          "2016"
         ],
         "xaxis": "x",
         "y": [
          0.0829,
          0.0601,
          0.0348,
          0.0447,
          0.0394,
          0.0398
         ],
         "yaxis": "y"
        },
        {
         "hovertemplate": "Subject=French<br>Category=perAs<br>Year=%{x}<br>Count=%{y}<extra></extra>",
         "legendgroup": "French",
         "line": {
          "color": "#FFA15A",
          "dash": "solid"
         },
         "marker": {
          "symbol": "circle"
         },
         "mode": "markers+lines",
         "name": "French",
         "orientation": "v",
         "showlegend": true,
         "type": "scatter",
         "x": [
          "2021",
          "2020",
          "2019",
          "2018",
          "2017",
          "2016"
         ],
         "xaxis": "x",
         "y": [
          0.0226,
          0.0245,
          0.0172,
          0.019,
          0.0177,
          0.0178
         ],
         "yaxis": "y"
        },
        {
         "hovertemplate": "Subject=Gaelic (Learners)<br>Category=perAs<br>Year=%{x}<br>Count=%{y}<extra></extra>",
         "legendgroup": "Gaelic (Learners)",
         "line": {
          "color": "#19d3f3",
          "dash": "solid"
         },
         "marker": {
          "symbol": "circle"
         },
         "mode": "markers+lines",
         "name": "Gaelic (Learners)",
         "orientation": "v",
         "showlegend": true,
         "type": "scatter",
         "x": [
          "2021",
          "2020",
          "2019",
          "2018",
          "2017",
          "2016"
         ],
         "xaxis": "x",
         "y": [
          0.0003,
          0.0004,
          0.0004,
          0.0003,
          0.0002,
          0.0002
         ],
         "yaxis": "y"
        },
        {
         "hovertemplate": "Subject=Gaidhlig<br>Category=perAs<br>Year=%{x}<br>Count=%{y}<extra></extra>",
         "legendgroup": "Gaidhlig",
         "line": {
          "color": "#FF6692",
          "dash": "solid"
         },
         "marker": {
          "symbol": "circle"
         },
         "mode": "markers+lines",
         "name": "Gaidhlig",
         "orientation": "v",
         "showlegend": true,
         "type": "scatter",
         "x": [
          "2021",
          "2020",
          "2019",
          "2018",
          "2017",
          "2016"
         ],
         "xaxis": "x",
         "y": [
          0.0013,
          0.0018,
          0.0011,
          0.0014,
          0.001,
          0.001
         ],
         "yaxis": "y"
        },
        {
         "hovertemplate": "Subject=Geography<br>Category=perAs<br>Year=%{x}<br>Count=%{y}<extra></extra>",
         "legendgroup": "Geography",
         "line": {
          "color": "#B6E880",
          "dash": "solid"
         },
         "marker": {
          "symbol": "circle"
         },
         "mode": "markers+lines",
         "name": "Geography",
         "orientation": "v",
         "showlegend": true,
         "type": "scatter",
         "x": [
          "2021",
          "2020",
          "2019",
          "2018",
          "2017",
          "2016"
         ],
         "xaxis": "x",
         "y": [
          0.0236,
          0.023,
          0.0133,
          0.0152,
          0.0127,
          0.0128
         ],
         "yaxis": "y"
        },
        {
         "hovertemplate": "Subject=German<br>Category=perAs<br>Year=%{x}<br>Count=%{y}<extra></extra>",
         "legendgroup": "German",
         "line": {
          "color": "#FF97FF",
          "dash": "solid"
         },
         "marker": {
          "symbol": "circle"
         },
         "mode": "markers+lines",
         "name": "German",
         "orientation": "v",
         "showlegend": true,
         "type": "scatter",
         "x": [
          "2021",
          "2020",
          "2019",
          "2018",
          "2017",
          "2016"
         ],
         "xaxis": "x",
         "y": [
          0.0061,
          0.0036,
          0.0054,
          0.0055,
          0.006,
          0.006
         ],
         "yaxis": "y"
        },
        {
         "hovertemplate": "Subject=Graphic Communication<br>Category=perAs<br>Year=%{x}<br>Count=%{y}<extra></extra>",
         "legendgroup": "Graphic Communication",
         "line": {
          "color": "#FECB52",
          "dash": "solid"
         },
         "marker": {
          "symbol": "circle"
         },
         "mode": "markers+lines",
         "name": "Graphic Communication",
         "orientation": "v",
         "showlegend": true,
         "type": "scatter",
         "x": [
          "2021",
          "2020",
          "2019",
          "2018",
          "2017",
          "2016"
         ],
         "xaxis": "x",
         "y": [
          0.0092,
          0.0068,
          0.0036,
          0.0038,
          0.0031,
          0.0032
         ],
         "yaxis": "y"
        },
        {
         "hovertemplate": "Subject=Health and Food Technology<br>Category=perAs<br>Year=%{x}<br>Count=%{y}<extra></extra>",
         "legendgroup": "Health and Food Technology",
         "line": {
          "color": "#636efa",
          "dash": "solid"
         },
         "marker": {
          "symbol": "circle"
         },
         "mode": "markers+lines",
         "name": "Health and Food Technology",
         "orientation": "v",
         "showlegend": true,
         "type": "scatter",
         "x": [
          "2021",
          "2020",
          "2017",
          "2016"
         ],
         "xaxis": "x",
         "y": [
          0.001,
          0.0011,
          0.0007,
          0.0007
         ],
         "yaxis": "y"
        },
        {
         "hovertemplate": "Subject=History<br>Category=perAs<br>Year=%{x}<br>Count=%{y}<extra></extra>",
         "legendgroup": "History",
         "line": {
          "color": "#EF553B",
          "dash": "solid"
         },
         "marker": {
          "symbol": "circle"
         },
         "mode": "markers+lines",
         "name": "History",
         "orientation": "v",
         "showlegend": true,
         "type": "scatter",
         "x": [
          "2021",
          "2020",
          "2019",
          "2018",
          "2017",
          "2016"
         ],
         "xaxis": "x",
         "y": [
          0.0434,
          0.0356,
          0.0259,
          0.0319,
          0.0317,
          0.0319
         ],
         "yaxis": "y"
        },
        {
         "hovertemplate": "Subject=Italian<br>Category=perAs<br>Year=%{x}<br>Count=%{y}<extra></extra>",
         "legendgroup": "Italian",
         "line": {
          "color": "#00cc96",
          "dash": "solid"
         },
         "marker": {
          "symbol": "circle"
         },
         "mode": "markers+lines",
         "name": "Italian",
         "orientation": "v",
         "showlegend": true,
         "type": "scatter",
         "x": [
          "2021",
          "2020",
          "2019",
          "2018",
          "2017",
          "2016"
         ],
         "xaxis": "x",
         "y": [
          0.0019,
          0.0014,
          0.0011,
          0.0021,
          0.001,
          0.0011
         ],
         "yaxis": "y"
        },
        {
         "hovertemplate": "Subject=Latin<br>Category=perAs<br>Year=%{x}<br>Count=%{y}<extra></extra>",
         "legendgroup": "Latin",
         "line": {
          "color": "#ab63fa",
          "dash": "solid"
         },
         "marker": {
          "symbol": "circle"
         },
         "mode": "markers+lines",
         "name": "Latin",
         "orientation": "v",
         "showlegend": true,
         "type": "scatter",
         "x": [
          "2021",
          "2020",
          "2019",
          "2018",
          "2017",
          "2016"
         ],
         "xaxis": "x",
         "y": [
          0.0016,
          0.0018,
          0.0014,
          0.0014,
          0.0019,
          0.002
         ],
         "yaxis": "y"
        },
        {
         "hovertemplate": "Subject=Mathematics<br>Category=perAs<br>Year=%{x}<br>Count=%{y}<extra></extra>",
         "legendgroup": "Mathematics",
         "line": {
          "color": "#FFA15A",
          "dash": "solid"
         },
         "marker": {
          "symbol": "circle"
         },
         "mode": "markers+lines",
         "name": "Mathematics",
         "orientation": "v",
         "showlegend": true,
         "type": "scatter",
         "x": [
          "2021",
          "2020",
          "2019",
          "2018",
          "2017",
          "2016"
         ],
         "xaxis": "x",
         "y": [
          0.1396,
          0.1252,
          0.0991,
          0.0956,
          0.0928,
          0.0936
         ],
         "yaxis": "y"
        },
        {
         "hovertemplate": "Subject=Mathematics of Mechanics<br>Category=perAs<br>Year=%{x}<br>Count=%{y}<extra></extra>",
         "legendgroup": "Mathematics of Mechanics",
         "line": {
          "color": "#19d3f3",
          "dash": "solid"
         },
         "marker": {
          "symbol": "circle"
         },
         "mode": "markers+lines",
         "name": "Mathematics of Mechanics",
         "orientation": "v",
         "showlegend": true,
         "type": "scatter",
         "x": [
          "2021",
          "2020",
          "2019",
          "2018",
          "2017",
          "2016"
         ],
         "xaxis": "x",
         "y": [
          0.0115,
          0.0151,
          0.0086,
          0.0104,
          0.0102,
          0.0103
         ],
         "yaxis": "y"
        },
        {
         "hovertemplate": "Subject=Modern Studies<br>Category=perAs<br>Year=%{x}<br>Count=%{y}<extra></extra>",
         "legendgroup": "Modern Studies",
         "line": {
          "color": "#FF6692",
          "dash": "solid"
         },
         "marker": {
          "symbol": "circle"
         },
         "mode": "markers+lines",
         "name": "Modern Studies",
         "orientation": "v",
         "showlegend": true,
         "type": "scatter",
         "x": [
          "2021",
          "2020",
          "2019",
          "2018",
          "2017",
          "2016"
         ],
         "xaxis": "x",
         "y": [
          0.0312,
          0.0263,
          0.0165,
          0.0145,
          0.0168,
          0.017
         ],
         "yaxis": "y"
        },
        {
         "hovertemplate": "Subject=Music<br>Category=perAs<br>Year=%{x}<br>Count=%{y}<extra></extra>",
         "legendgroup": "Music",
         "line": {
          "color": "#B6E880",
          "dash": "solid"
         },
         "marker": {
          "symbol": "circle"
         },
         "mode": "markers+lines",
         "name": "Music",
         "orientation": "v",
         "showlegend": true,
         "type": "scatter",
         "x": [
          "2021",
          "2020",
          "2019",
          "2018",
          "2017",
          "2016"
         ],
         "xaxis": "x",
         "y": [
          0.0829,
          0.0792,
          0.0661,
          0.072,
          0.0777,
          0.0784
         ],
         "yaxis": "y"
        },
        {
         "hovertemplate": "Subject=Music Technology<br>Category=perAs<br>Year=%{x}<br>Count=%{y}<extra></extra>",
         "legendgroup": "Music Technology",
         "line": {
          "color": "#FF97FF",
          "dash": "solid"
         },
         "marker": {
          "symbol": "circle"
         },
         "mode": "markers+lines",
         "name": "Music Technology",
         "orientation": "v",
         "showlegend": true,
         "type": "scatter",
         "x": [
          "2021",
          "2020"
         ],
         "xaxis": "x",
         "y": [
          0.0013,
          0.0014
         ],
         "yaxis": "y"
        },
        {
         "hovertemplate": "Subject=Music: Portfolio<br>Category=perAs<br>Year=%{x}<br>Count=%{y}<extra></extra>",
         "legendgroup": "Music: Portfolio",
         "line": {
          "color": "#FECB52",
          "dash": "solid"
         },
         "marker": {
          "symbol": "circle"
         },
         "mode": "markers+lines",
         "name": "Music: Portfolio",
         "orientation": "v",
         "showlegend": true,
         "type": "scatter",
         "x": [
          "2021",
          "2020",
          "2018",
          "2017",
          "2016"
         ],
         "xaxis": "x",
         "y": [
          0.0006,
          0.0014,
          0.0003,
          0.0003,
          0.0003
         ],
         "yaxis": "y"
        },
        {
         "hovertemplate": "Subject=Physical Education<br>Category=perAs<br>Year=%{x}<br>Count=%{y}<extra></extra>",
         "legendgroup": "Physical Education",
         "line": {
          "color": "#636efa",
          "dash": "solid"
         },
         "marker": {
          "symbol": "circle"
         },
         "mode": "markers+lines",
         "name": "Physical Education",
         "orientation": "v",
         "showlegend": true,
         "type": "scatter",
         "x": [
          "2021",
          "2020",
          "2019",
          "2018",
          "2017",
          "2016"
         ],
         "xaxis": "x",
         "y": [
          0.0258,
          0.0176,
          0.0083,
          0.0062,
          0.007,
          0.007
         ],
         "yaxis": "y"
        },
        {
         "hovertemplate": "Subject=Physics<br>Category=perAs<br>Year=%{x}<br>Count=%{y}<extra></extra>",
         "legendgroup": "Physics",
         "line": {
          "color": "#EF553B",
          "dash": "solid"
         },
         "marker": {
          "symbol": "circle"
         },
         "mode": "markers+lines",
         "name": "Physics",
         "orientation": "v",
         "showlegend": true,
         "type": "scatter",
         "x": [
          "2021",
          "2020",
          "2019",
          "2018",
          "2017",
          "2016"
         ],
         "xaxis": "x",
         "y": [
          0.0641,
          0.0623,
          0.0373,
          0.0402,
          0.0392,
          0.0396
         ],
         "yaxis": "y"
        },
        {
         "hovertemplate": "Subject=Religious, Moral and Philosophical Studies<br>Category=perAs<br>Year=%{x}<br>Count=%{y}<extra></extra>",
         "legendgroup": "Religious, Moral and Philosophical Studies",
         "line": {
          "color": "#00cc96",
          "dash": "solid"
         },
         "marker": {
          "symbol": "circle"
         },
         "mode": "markers+lines",
         "name": "Religious, Moral and Philosophical Studies",
         "orientation": "v",
         "showlegend": true,
         "type": "scatter",
         "x": [
          "2021",
          "2020",
          "2019",
          "2018",
          "2017",
          "2016"
         ],
         "xaxis": "x",
         "y": [
          0.0099,
          0.0068,
          0.004,
          0.0024,
          0.0042,
          0.0043
         ],
         "yaxis": "y"
        },
        {
         "hovertemplate": "Subject=Spanish<br>Category=perAs<br>Year=%{x}<br>Count=%{y}<extra></extra>",
         "legendgroup": "Spanish",
         "line": {
          "color": "#ab63fa",
          "dash": "solid"
         },
         "marker": {
          "symbol": "circle"
         },
         "mode": "markers+lines",
         "name": "Spanish",
         "orientation": "v",
         "showlegend": true,
         "type": "scatter",
         "x": [
          "2021",
          "2020",
          "2019",
          "2018",
          "2017",
          "2016"
         ],
         "xaxis": "x",
         "y": [
          0.0179,
          0.018,
          0.0126,
          0.0107,
          0.0104,
          0.0105
         ],
         "yaxis": "y"
        },
        {
         "hovertemplate": "Subject=Statistics<br>Category=perAs<br>Year=%{x}<br>Count=%{y}<extra></extra>",
         "legendgroup": "Statistics",
         "line": {
          "color": "#FFA15A",
          "dash": "solid"
         },
         "marker": {
          "symbol": "circle"
         },
         "mode": "markers+lines",
         "name": "Statistics",
         "orientation": "v",
         "showlegend": true,
         "type": "scatter",
         "x": [
          "2021",
          "2020",
          "2019",
          "2018",
          "2017",
          "2016"
         ],
         "xaxis": "x",
         "y": [
          0.0089,
          0.0072,
          0.005,
          0.0048,
          0.0049,
          0.005
         ],
         "yaxis": "y"
        }
       ],
       "layout": {
        "annotations": [
         {
          "font": {},
          "showarrow": false,
          "text": "Category=perAs",
          "textangle": 90,
          "x": 0.98,
          "xanchor": "left",
          "xref": "paper",
          "y": 0.5,
          "yanchor": "middle",
          "yref": "paper"
         }
        ],
        "height": 800,
        "legend": {
         "title": {
          "text": "Subject"
         },
         "tracegroupgap": 0
        },
        "template": {
         "data": {
          "bar": [
           {
            "error_x": {
             "color": "#2a3f5f"
            },
            "error_y": {
             "color": "#2a3f5f"
            },
            "marker": {
             "line": {
              "color": "#E5ECF6",
              "width": 0.5
             },
             "pattern": {
              "fillmode": "overlay",
              "size": 10,
              "solidity": 0.2
             }
            },
            "type": "bar"
           }
          ],
          "barpolar": [
           {
            "marker": {
             "line": {
              "color": "#E5ECF6",
              "width": 0.5
             },
             "pattern": {
              "fillmode": "overlay",
              "size": 10,
              "solidity": 0.2
             }
            },
            "type": "barpolar"
           }
          ],
          "carpet": [
           {
            "aaxis": {
             "endlinecolor": "#2a3f5f",
             "gridcolor": "white",
             "linecolor": "white",
             "minorgridcolor": "white",
             "startlinecolor": "#2a3f5f"
            },
            "baxis": {
             "endlinecolor": "#2a3f5f",
             "gridcolor": "white",
             "linecolor": "white",
             "minorgridcolor": "white",
             "startlinecolor": "#2a3f5f"
            },
            "type": "carpet"
           }
          ],
          "choropleth": [
           {
            "colorbar": {
             "outlinewidth": 0,
             "ticks": ""
            },
            "type": "choropleth"
           }
          ],
          "contour": [
           {
            "colorbar": {
             "outlinewidth": 0,
             "ticks": ""
            },
            "colorscale": [
             [
              0,
              "#0d0887"
             ],
             [
              0.1111111111111111,
              "#46039f"
             ],
             [
              0.2222222222222222,
              "#7201a8"
             ],
             [
              0.3333333333333333,
              "#9c179e"
             ],
             [
              0.4444444444444444,
              "#bd3786"
             ],
             [
              0.5555555555555556,
              "#d8576b"
             ],
             [
              0.6666666666666666,
              "#ed7953"
             ],
             [
              0.7777777777777778,
              "#fb9f3a"
             ],
             [
              0.8888888888888888,
              "#fdca26"
             ],
             [
              1,
              "#f0f921"
             ]
            ],
            "type": "contour"
           }
          ],
          "contourcarpet": [
           {
            "colorbar": {
             "outlinewidth": 0,
             "ticks": ""
            },
            "type": "contourcarpet"
           }
          ],
          "heatmap": [
           {
            "colorbar": {
             "outlinewidth": 0,
             "ticks": ""
            },
            "colorscale": [
             [
              0,
              "#0d0887"
             ],
             [
              0.1111111111111111,
              "#46039f"
             ],
             [
              0.2222222222222222,
              "#7201a8"
             ],
             [
              0.3333333333333333,
              "#9c179e"
             ],
             [
              0.4444444444444444,
              "#bd3786"
             ],
             [
              0.5555555555555556,
              "#d8576b"
             ],
             [
              0.6666666666666666,
              "#ed7953"
             ],
             [
              0.7777777777777778,
              "#fb9f3a"
             ],
             [
              0.8888888888888888,
              "#fdca26"
             ],
             [
              1,
              "#f0f921"
             ]
            ],
            "type": "heatmap"
           }
          ],
          "heatmapgl": [
           {
            "colorbar": {
             "outlinewidth": 0,
             "ticks": ""
            },
            "colorscale": [
             [
              0,
              "#0d0887"
             ],
             [
              0.1111111111111111,
              "#46039f"
             ],
             [
              0.2222222222222222,
              "#7201a8"
             ],
             [
              0.3333333333333333,
              "#9c179e"
             ],
             [
              0.4444444444444444,
              "#bd3786"
             ],
             [
              0.5555555555555556,
              "#d8576b"
             ],
             [
              0.6666666666666666,
              "#ed7953"
             ],
             [
              0.7777777777777778,
              "#fb9f3a"
             ],
             [
              0.8888888888888888,
              "#fdca26"
             ],
             [
              1,
              "#f0f921"
             ]
            ],
            "type": "heatmapgl"
           }
          ],
          "histogram": [
           {
            "marker": {
             "pattern": {
              "fillmode": "overlay",
              "size": 10,
              "solidity": 0.2
             }
            },
            "type": "histogram"
           }
          ],
          "histogram2d": [
           {
            "colorbar": {
             "outlinewidth": 0,
             "ticks": ""
            },
            "colorscale": [
             [
              0,
              "#0d0887"
             ],
             [
              0.1111111111111111,
              "#46039f"
             ],
             [
              0.2222222222222222,
              "#7201a8"
             ],
             [
              0.3333333333333333,
              "#9c179e"
             ],
             [
              0.4444444444444444,
              "#bd3786"
             ],
             [
              0.5555555555555556,
              "#d8576b"
             ],
             [
              0.6666666666666666,
              "#ed7953"
             ],
             [
              0.7777777777777778,
              "#fb9f3a"
             ],
             [
              0.8888888888888888,
              "#fdca26"
             ],
             [
              1,
              "#f0f921"
             ]
            ],
            "type": "histogram2d"
           }
          ],
          "histogram2dcontour": [
           {
            "colorbar": {
             "outlinewidth": 0,
             "ticks": ""
            },
            "colorscale": [
             [
              0,
              "#0d0887"
             ],
             [
              0.1111111111111111,
              "#46039f"
             ],
             [
              0.2222222222222222,
              "#7201a8"
             ],
             [
              0.3333333333333333,
              "#9c179e"
             ],
             [
              0.4444444444444444,
              "#bd3786"
             ],
             [
              0.5555555555555556,
              "#d8576b"
             ],
             [
              0.6666666666666666,
              "#ed7953"
             ],
             [
              0.7777777777777778,
              "#fb9f3a"
             ],
             [
              0.8888888888888888,
              "#fdca26"
             ],
             [
              1,
              "#f0f921"
             ]
            ],
            "type": "histogram2dcontour"
           }
          ],
          "mesh3d": [
           {
            "colorbar": {
             "outlinewidth": 0,
             "ticks": ""
            },
            "type": "mesh3d"
           }
          ],
          "parcoords": [
           {
            "line": {
             "colorbar": {
              "outlinewidth": 0,
              "ticks": ""
             }
            },
            "type": "parcoords"
           }
          ],
          "pie": [
           {
            "automargin": true,
            "type": "pie"
           }
          ],
          "scatter": [
           {
            "fillpattern": {
             "fillmode": "overlay",
             "size": 10,
             "solidity": 0.2
            },
            "type": "scatter"
           }
          ],
          "scatter3d": [
           {
            "line": {
             "colorbar": {
              "outlinewidth": 0,
              "ticks": ""
             }
            },
            "marker": {
             "colorbar": {
              "outlinewidth": 0,
              "ticks": ""
             }
            },
            "type": "scatter3d"
           }
          ],
          "scattercarpet": [
           {
            "marker": {
             "colorbar": {
              "outlinewidth": 0,
              "ticks": ""
             }
            },
            "type": "scattercarpet"
           }
          ],
          "scattergeo": [
           {
            "marker": {
             "colorbar": {
              "outlinewidth": 0,
              "ticks": ""
             }
            },
            "type": "scattergeo"
           }
          ],
          "scattergl": [
           {
            "marker": {
             "colorbar": {
              "outlinewidth": 0,
              "ticks": ""
             }
            },
            "type": "scattergl"
           }
          ],
          "scattermapbox": [
           {
            "marker": {
             "colorbar": {
              "outlinewidth": 0,
              "ticks": ""
             }
            },
            "type": "scattermapbox"
           }
          ],
          "scatterpolar": [
           {
            "marker": {
             "colorbar": {
              "outlinewidth": 0,
              "ticks": ""
             }
            },
            "type": "scatterpolar"
           }
          ],
          "scatterpolargl": [
           {
            "marker": {
             "colorbar": {
              "outlinewidth": 0,
              "ticks": ""
             }
            },
            "type": "scatterpolargl"
           }
          ],
          "scatterternary": [
           {
            "marker": {
             "colorbar": {
              "outlinewidth": 0,
              "ticks": ""
             }
            },
            "type": "scatterternary"
           }
          ],
          "surface": [
           {
            "colorbar": {
             "outlinewidth": 0,
             "ticks": ""
            },
            "colorscale": [
             [
              0,
              "#0d0887"
             ],
             [
              0.1111111111111111,
              "#46039f"
             ],
             [
              0.2222222222222222,
              "#7201a8"
             ],
             [
              0.3333333333333333,
              "#9c179e"
             ],
             [
              0.4444444444444444,
              "#bd3786"
             ],
             [
              0.5555555555555556,
              "#d8576b"
             ],
             [
              0.6666666666666666,
              "#ed7953"
             ],
             [
              0.7777777777777778,
              "#fb9f3a"
             ],
             [
              0.8888888888888888,
              "#fdca26"
             ],
             [
              1,
              "#f0f921"
             ]
            ],
            "type": "surface"
           }
          ],
          "table": [
           {
            "cells": {
             "fill": {
              "color": "#EBF0F8"
             },
             "line": {
              "color": "white"
             }
            },
            "header": {
             "fill": {
              "color": "#C8D4E3"
             },
             "line": {
              "color": "white"
             }
            },
            "type": "table"
           }
          ]
         },
         "layout": {
          "annotationdefaults": {
           "arrowcolor": "#2a3f5f",
           "arrowhead": 0,
           "arrowwidth": 1
          },
          "autotypenumbers": "strict",
          "coloraxis": {
           "colorbar": {
            "outlinewidth": 0,
            "ticks": ""
           }
          },
          "colorscale": {
           "diverging": [
            [
             0,
             "#8e0152"
            ],
            [
             0.1,
             "#c51b7d"
            ],
            [
             0.2,
             "#de77ae"
            ],
            [
             0.3,
             "#f1b6da"
            ],
            [
             0.4,
             "#fde0ef"
            ],
            [
             0.5,
             "#f7f7f7"
            ],
            [
             0.6,
             "#e6f5d0"
            ],
            [
             0.7,
             "#b8e186"
            ],
            [
             0.8,
             "#7fbc41"
            ],
            [
             0.9,
             "#4d9221"
            ],
            [
             1,
             "#276419"
            ]
           ],
           "sequential": [
            [
             0,
             "#0d0887"
            ],
            [
             0.1111111111111111,
             "#46039f"
            ],
            [
             0.2222222222222222,
             "#7201a8"
            ],
            [
             0.3333333333333333,
             "#9c179e"
            ],
            [
             0.4444444444444444,
             "#bd3786"
            ],
            [
             0.5555555555555556,
             "#d8576b"
            ],
            [
             0.6666666666666666,
             "#ed7953"
            ],
            [
             0.7777777777777778,
             "#fb9f3a"
            ],
            [
             0.8888888888888888,
             "#fdca26"
            ],
            [
             1,
             "#f0f921"
            ]
           ],
           "sequentialminus": [
            [
             0,
             "#0d0887"
            ],
            [
             0.1111111111111111,
             "#46039f"
            ],
            [
             0.2222222222222222,
             "#7201a8"
            ],
            [
             0.3333333333333333,
             "#9c179e"
            ],
            [
             0.4444444444444444,
             "#bd3786"
            ],
            [
             0.5555555555555556,
             "#d8576b"
            ],
            [
             0.6666666666666666,
             "#ed7953"
            ],
            [
             0.7777777777777778,
             "#fb9f3a"
            ],
            [
             0.8888888888888888,
             "#fdca26"
            ],
            [
             1,
             "#f0f921"
            ]
           ]
          },
          "colorway": [
           "#636efa",
           "#EF553B",
           "#00cc96",
           "#ab63fa",
           "#FFA15A",
           "#19d3f3",
           "#FF6692",
           "#B6E880",
           "#FF97FF",
           "#FECB52"
          ],
          "font": {
           "color": "#2a3f5f"
          },
          "geo": {
           "bgcolor": "white",
           "lakecolor": "white",
           "landcolor": "#E5ECF6",
           "showlakes": true,
           "showland": true,
           "subunitcolor": "white"
          },
          "hoverlabel": {
           "align": "left"
          },
          "hovermode": "closest",
          "mapbox": {
           "style": "light"
          },
          "paper_bgcolor": "white",
          "plot_bgcolor": "#E5ECF6",
          "polar": {
           "angularaxis": {
            "gridcolor": "white",
            "linecolor": "white",
            "ticks": ""
           },
           "bgcolor": "#E5ECF6",
           "radialaxis": {
            "gridcolor": "white",
            "linecolor": "white",
            "ticks": ""
           }
          },
          "scene": {
           "xaxis": {
            "backgroundcolor": "#E5ECF6",
            "gridcolor": "white",
            "gridwidth": 2,
            "linecolor": "white",
            "showbackground": true,
            "ticks": "",
            "zerolinecolor": "white"
           },
           "yaxis": {
            "backgroundcolor": "#E5ECF6",
            "gridcolor": "white",
            "gridwidth": 2,
            "linecolor": "white",
            "showbackground": true,
            "ticks": "",
            "zerolinecolor": "white"
           },
           "zaxis": {
            "backgroundcolor": "#E5ECF6",
            "gridcolor": "white",
            "gridwidth": 2,
            "linecolor": "white",
            "showbackground": true,
            "ticks": "",
            "zerolinecolor": "white"
           }
          },
          "shapedefaults": {
           "line": {
            "color": "#2a3f5f"
           }
          },
          "ternary": {
           "aaxis": {
            "gridcolor": "white",
            "linecolor": "white",
            "ticks": ""
           },
           "baxis": {
            "gridcolor": "white",
            "linecolor": "white",
            "ticks": ""
           },
           "bgcolor": "#E5ECF6",
           "caxis": {
            "gridcolor": "white",
            "linecolor": "white",
            "ticks": ""
           }
          },
          "title": {
           "x": 0.05
          },
          "xaxis": {
           "automargin": true,
           "gridcolor": "white",
           "linecolor": "white",
           "ticks": "",
           "title": {
            "standoff": 15
           },
           "zerolinecolor": "white",
           "zerolinewidth": 2
          },
          "yaxis": {
           "automargin": true,
           "gridcolor": "white",
           "linecolor": "white",
           "ticks": "",
           "title": {
            "standoff": 15
           },
           "zerolinecolor": "white",
           "zerolinewidth": 2
          }
         }
        },
        "title": {
         "text": "Total As per total students subject from 2016 - 2021 at Advanced Higher"
        },
        "width": 800,
        "xaxis": {
         "anchor": "y",
         "categoryarray": [
          "2016",
          "2017",
          "2018",
          "2019",
          "2020",
          "2021"
         ],
         "categoryorder": "array",
         "domain": [
          0,
          0.98
         ],
         "title": {
          "text": "Year"
         }
        },
        "yaxis": {
         "anchor": "x",
         "domain": [
          0,
          1
         ],
         "rangemode": "tozero",
         "title": {
          "text": "Count"
         }
        }
       }
      },
      "text/html": [
       "<div>                            <div id=\"fc4afca1-73b9-46d6-b29b-c489b9a8fa9b\" class=\"plotly-graph-div\" style=\"height:800px; width:800px;\"></div>            <script type=\"text/javascript\">                require([\"plotly\"], function(Plotly) {                    window.PLOTLYENV=window.PLOTLYENV || {};                                    if (document.getElementById(\"fc4afca1-73b9-46d6-b29b-c489b9a8fa9b\")) {                    Plotly.newPlot(                        \"fc4afca1-73b9-46d6-b29b-c489b9a8fa9b\",                        [{\"hovertemplate\":\"Subject=Accounting<br>Category=perAs<br>Year=%{x}<br>Count=%{y}<extra></extra>\",\"legendgroup\":\"Accounting\",\"line\":{\"color\":\"#636efa\",\"dash\":\"solid\"},\"marker\":{\"symbol\":\"circle\"},\"mode\":\"markers+lines\",\"name\":\"Accounting\",\"orientation\":\"v\",\"showlegend\":true,\"x\":[\"2021\",\"2020\",\"2019\",\"2018\",\"2017\",\"2016\"],\"xaxis\":\"x\",\"y\":[0.0029,0.0029,0.0018,0.0021,0.001,0.0011],\"yaxis\":\"y\",\"type\":\"scatter\"},{\"hovertemplate\":\"Subject=Art and Design (Design)<br>Category=perAs<br>Year=%{x}<br>Count=%{y}<extra></extra>\",\"legendgroup\":\"Art and Design (Design)\",\"line\":{\"color\":\"#EF553B\",\"dash\":\"solid\"},\"marker\":{\"symbol\":\"circle\"},\"mode\":\"markers+lines\",\"name\":\"Art and Design (Design)\",\"orientation\":\"v\",\"showlegend\":true,\"x\":[\"2021\",\"2020\",\"2019\",\"2018\",\"2017\",\"2016\"],\"xaxis\":\"x\",\"y\":[0.0188,0.0173,0.0133,0.0104,0.0136,0.0137],\"yaxis\":\"y\",\"type\":\"scatter\"},{\"hovertemplate\":\"Subject=Art and Design (Expressive)<br>Category=perAs<br>Year=%{x}<br>Count=%{y}<extra></extra>\",\"legendgroup\":\"Art and Design (Expressive)\",\"line\":{\"color\":\"#00cc96\",\"dash\":\"solid\"},\"marker\":{\"symbol\":\"circle\"},\"mode\":\"markers+lines\",\"name\":\"Art and Design (Expressive)\",\"orientation\":\"v\",\"showlegend\":true,\"x\":[\"2021\",\"2020\",\"2019\",\"2018\",\"2017\",\"2016\"],\"xaxis\":\"x\",\"y\":[0.0351,0.0342,0.0201,0.0177,0.0214,0.0215],\"yaxis\":\"y\",\"type\":\"scatter\"},{\"hovertemplate\":\"Subject=Biology<br>Category=perAs<br>Year=%{x}<br>Count=%{y}<extra></extra>\",\"legendgroup\":\"Biology\",\"line\":{\"color\":\"#ab63fa\",\"dash\":\"solid\"},\"marker\":{\"symbol\":\"circle\"},\"mode\":\"markers+lines\",\"name\":\"Biology\",\"orientation\":\"v\",\"showlegend\":true,\"x\":[\"2021\",\"2020\",\"2019\",\"2018\",\"2017\",\"2016\"],\"xaxis\":\"x\",\"y\":[0.0791,0.0655,0.0409,0.0377,0.0291,0.0294],\"yaxis\":\"y\",\"type\":\"scatter\"},{\"hovertemplate\":\"Subject=Business Management<br>Category=perAs<br>Year=%{x}<br>Count=%{y}<extra></extra>\",\"legendgroup\":\"Business Management\",\"line\":{\"color\":\"#FFA15A\",\"dash\":\"solid\"},\"marker\":{\"symbol\":\"circle\"},\"mode\":\"markers+lines\",\"name\":\"Business Management\",\"orientation\":\"v\",\"showlegend\":true,\"x\":[\"2021\",\"2020\",\"2019\",\"2018\",\"2017\",\"2016\"],\"xaxis\":\"x\",\"y\":[0.0217,0.0205,0.0083,0.0087,0.0094,0.0095],\"yaxis\":\"y\",\"type\":\"scatter\"},{\"hovertemplate\":\"Subject=Chemistry<br>Category=perAs<br>Year=%{x}<br>Count=%{y}<extra></extra>\",\"legendgroup\":\"Chemistry\",\"line\":{\"color\":\"#19d3f3\",\"dash\":\"solid\"},\"marker\":{\"symbol\":\"circle\"},\"mode\":\"markers+lines\",\"name\":\"Chemistry\",\"orientation\":\"v\",\"showlegend\":true,\"x\":[\"2021\",\"2020\",\"2019\",\"2018\",\"2017\",\"2016\"],\"xaxis\":\"x\",\"y\":[0.0771,0.0788,0.0596,0.0564,0.0538,0.0543],\"yaxis\":\"y\",\"type\":\"scatter\"},{\"hovertemplate\":\"Subject=Chinese Languages<br>Category=perAs<br>Year=%{x}<br>Count=%{y}<extra></extra>\",\"legendgroup\":\"Chinese Languages\",\"line\":{\"color\":\"#FF6692\",\"dash\":\"solid\"},\"marker\":{\"symbol\":\"circle\"},\"mode\":\"markers+lines\",\"name\":\"Chinese Languages\",\"orientation\":\"v\",\"showlegend\":true,\"x\":[\"2021\",\"2020\",\"2019\",\"2018\",\"2017\",\"2016\"],\"xaxis\":\"x\",\"y\":[0.0032,0.004,0.0036,0.0028,0.0018,0.0018],\"yaxis\":\"y\",\"type\":\"scatter\"},{\"hovertemplate\":\"Subject=Classical Studies<br>Category=perAs<br>Year=%{x}<br>Count=%{y}<extra></extra>\",\"legendgroup\":\"Classical Studies\",\"line\":{\"color\":\"#B6E880\",\"dash\":\"solid\"},\"marker\":{\"symbol\":\"circle\"},\"mode\":\"markers+lines\",\"name\":\"Classical Studies\",\"orientation\":\"v\",\"showlegend\":true,\"x\":[\"2021\",\"2020\",\"2019\",\"2018\",\"2017\",\"2016\"],\"xaxis\":\"x\",\"y\":[0.0016,0.0011,0.0011,0.0014,0.001,0.001],\"yaxis\":\"y\",\"type\":\"scatter\"},{\"hovertemplate\":\"Subject=Computing Science<br>Category=perAs<br>Year=%{x}<br>Count=%{y}<extra></extra>\",\"legendgroup\":\"Computing Science\",\"line\":{\"color\":\"#FF97FF\",\"dash\":\"solid\"},\"marker\":{\"symbol\":\"circle\"},\"mode\":\"markers+lines\",\"name\":\"Computing Science\",\"orientation\":\"v\",\"showlegend\":true,\"x\":[\"2021\",\"2020\",\"2019\",\"2018\",\"2017\",\"2016\"],\"xaxis\":\"x\",\"y\":[0.0169,0.0158,0.0108,0.0097,0.0093,0.0094],\"yaxis\":\"y\",\"type\":\"scatter\"},{\"hovertemplate\":\"Subject=Design and Manufacture<br>Category=perAs<br>Year=%{x}<br>Count=%{y}<extra></extra>\",\"legendgroup\":\"Design and Manufacture\",\"line\":{\"color\":\"#FECB52\",\"dash\":\"solid\"},\"marker\":{\"symbol\":\"circle\"},\"mode\":\"markers+lines\",\"name\":\"Design and Manufacture\",\"orientation\":\"v\",\"showlegend\":true,\"x\":[\"2021\",\"2020\",\"2019\",\"2018\",\"2017\",\"2016\"],\"xaxis\":\"x\",\"y\":[0.0022,0.0011,0.0004,0.0003,0.0006,0.0006],\"yaxis\":\"y\",\"type\":\"scatter\"},{\"hovertemplate\":\"Subject=Drama<br>Category=perAs<br>Year=%{x}<br>Count=%{y}<extra></extra>\",\"legendgroup\":\"Drama\",\"line\":{\"color\":\"#636efa\",\"dash\":\"solid\"},\"marker\":{\"symbol\":\"circle\"},\"mode\":\"markers+lines\",\"name\":\"Drama\",\"orientation\":\"v\",\"showlegend\":true,\"x\":[\"2021\",\"2020\",\"2019\",\"2018\",\"2017\",\"2016\"],\"xaxis\":\"x\",\"y\":[0.0179,0.0194,0.009,0.0111,0.0134,0.0135],\"yaxis\":\"y\",\"type\":\"scatter\"},{\"hovertemplate\":\"Subject=Economics<br>Category=perAs<br>Year=%{x}<br>Count=%{y}<extra></extra>\",\"legendgroup\":\"Economics\",\"line\":{\"color\":\"#EF553B\",\"dash\":\"solid\"},\"marker\":{\"symbol\":\"circle\"},\"mode\":\"markers+lines\",\"name\":\"Economics\",\"orientation\":\"v\",\"showlegend\":true,\"x\":[\"2021\",\"2020\",\"2019\",\"2018\",\"2017\",\"2016\"],\"xaxis\":\"x\",\"y\":[0.0041,0.005,0.0043,0.0028,0.0029,0.0029],\"yaxis\":\"y\",\"type\":\"scatter\"},{\"hovertemplate\":\"Subject=Engineering Science<br>Category=perAs<br>Year=%{x}<br>Count=%{y}<extra></extra>\",\"legendgroup\":\"Engineering Science\",\"line\":{\"color\":\"#00cc96\",\"dash\":\"solid\"},\"marker\":{\"symbol\":\"circle\"},\"mode\":\"markers+lines\",\"name\":\"Engineering Science\",\"orientation\":\"v\",\"showlegend\":true,\"x\":[\"2021\",\"2020\",\"2019\",\"2018\",\"2017\",\"2016\"],\"xaxis\":\"x\",\"y\":[0.0019,0.0007,0.0007,0.0007,0.0006,0.0006],\"yaxis\":\"y\",\"type\":\"scatter\"},{\"hovertemplate\":\"Subject=English<br>Category=perAs<br>Year=%{x}<br>Count=%{y}<extra></extra>\",\"legendgroup\":\"English\",\"line\":{\"color\":\"#ab63fa\",\"dash\":\"solid\"},\"marker\":{\"symbol\":\"circle\"},\"mode\":\"markers+lines\",\"name\":\"English\",\"orientation\":\"v\",\"showlegend\":true,\"x\":[\"2021\",\"2020\",\"2019\",\"2018\",\"2017\",\"2016\"],\"xaxis\":\"x\",\"y\":[0.0829,0.0601,0.0348,0.0447,0.0394,0.0398],\"yaxis\":\"y\",\"type\":\"scatter\"},{\"hovertemplate\":\"Subject=French<br>Category=perAs<br>Year=%{x}<br>Count=%{y}<extra></extra>\",\"legendgroup\":\"French\",\"line\":{\"color\":\"#FFA15A\",\"dash\":\"solid\"},\"marker\":{\"symbol\":\"circle\"},\"mode\":\"markers+lines\",\"name\":\"French\",\"orientation\":\"v\",\"showlegend\":true,\"x\":[\"2021\",\"2020\",\"2019\",\"2018\",\"2017\",\"2016\"],\"xaxis\":\"x\",\"y\":[0.0226,0.0245,0.0172,0.019,0.0177,0.0178],\"yaxis\":\"y\",\"type\":\"scatter\"},{\"hovertemplate\":\"Subject=Gaelic (Learners)<br>Category=perAs<br>Year=%{x}<br>Count=%{y}<extra></extra>\",\"legendgroup\":\"Gaelic (Learners)\",\"line\":{\"color\":\"#19d3f3\",\"dash\":\"solid\"},\"marker\":{\"symbol\":\"circle\"},\"mode\":\"markers+lines\",\"name\":\"Gaelic (Learners)\",\"orientation\":\"v\",\"showlegend\":true,\"x\":[\"2021\",\"2020\",\"2019\",\"2018\",\"2017\",\"2016\"],\"xaxis\":\"x\",\"y\":[0.0003,0.0004,0.0004,0.0003,0.0002,0.0002],\"yaxis\":\"y\",\"type\":\"scatter\"},{\"hovertemplate\":\"Subject=Gaidhlig<br>Category=perAs<br>Year=%{x}<br>Count=%{y}<extra></extra>\",\"legendgroup\":\"Gaidhlig\",\"line\":{\"color\":\"#FF6692\",\"dash\":\"solid\"},\"marker\":{\"symbol\":\"circle\"},\"mode\":\"markers+lines\",\"name\":\"Gaidhlig\",\"orientation\":\"v\",\"showlegend\":true,\"x\":[\"2021\",\"2020\",\"2019\",\"2018\",\"2017\",\"2016\"],\"xaxis\":\"x\",\"y\":[0.0013,0.0018,0.0011,0.0014,0.001,0.001],\"yaxis\":\"y\",\"type\":\"scatter\"},{\"hovertemplate\":\"Subject=Geography<br>Category=perAs<br>Year=%{x}<br>Count=%{y}<extra></extra>\",\"legendgroup\":\"Geography\",\"line\":{\"color\":\"#B6E880\",\"dash\":\"solid\"},\"marker\":{\"symbol\":\"circle\"},\"mode\":\"markers+lines\",\"name\":\"Geography\",\"orientation\":\"v\",\"showlegend\":true,\"x\":[\"2021\",\"2020\",\"2019\",\"2018\",\"2017\",\"2016\"],\"xaxis\":\"x\",\"y\":[0.0236,0.023,0.0133,0.0152,0.0127,0.0128],\"yaxis\":\"y\",\"type\":\"scatter\"},{\"hovertemplate\":\"Subject=German<br>Category=perAs<br>Year=%{x}<br>Count=%{y}<extra></extra>\",\"legendgroup\":\"German\",\"line\":{\"color\":\"#FF97FF\",\"dash\":\"solid\"},\"marker\":{\"symbol\":\"circle\"},\"mode\":\"markers+lines\",\"name\":\"German\",\"orientation\":\"v\",\"showlegend\":true,\"x\":[\"2021\",\"2020\",\"2019\",\"2018\",\"2017\",\"2016\"],\"xaxis\":\"x\",\"y\":[0.0061,0.0036,0.0054,0.0055,0.006,0.006],\"yaxis\":\"y\",\"type\":\"scatter\"},{\"hovertemplate\":\"Subject=Graphic Communication<br>Category=perAs<br>Year=%{x}<br>Count=%{y}<extra></extra>\",\"legendgroup\":\"Graphic Communication\",\"line\":{\"color\":\"#FECB52\",\"dash\":\"solid\"},\"marker\":{\"symbol\":\"circle\"},\"mode\":\"markers+lines\",\"name\":\"Graphic Communication\",\"orientation\":\"v\",\"showlegend\":true,\"x\":[\"2021\",\"2020\",\"2019\",\"2018\",\"2017\",\"2016\"],\"xaxis\":\"x\",\"y\":[0.0092,0.0068,0.0036,0.0038,0.0031,0.0032],\"yaxis\":\"y\",\"type\":\"scatter\"},{\"hovertemplate\":\"Subject=Health and Food Technology<br>Category=perAs<br>Year=%{x}<br>Count=%{y}<extra></extra>\",\"legendgroup\":\"Health and Food Technology\",\"line\":{\"color\":\"#636efa\",\"dash\":\"solid\"},\"marker\":{\"symbol\":\"circle\"},\"mode\":\"markers+lines\",\"name\":\"Health and Food Technology\",\"orientation\":\"v\",\"showlegend\":true,\"x\":[\"2021\",\"2020\",\"2017\",\"2016\"],\"xaxis\":\"x\",\"y\":[0.001,0.0011,0.0007,0.0007],\"yaxis\":\"y\",\"type\":\"scatter\"},{\"hovertemplate\":\"Subject=History<br>Category=perAs<br>Year=%{x}<br>Count=%{y}<extra></extra>\",\"legendgroup\":\"History\",\"line\":{\"color\":\"#EF553B\",\"dash\":\"solid\"},\"marker\":{\"symbol\":\"circle\"},\"mode\":\"markers+lines\",\"name\":\"History\",\"orientation\":\"v\",\"showlegend\":true,\"x\":[\"2021\",\"2020\",\"2019\",\"2018\",\"2017\",\"2016\"],\"xaxis\":\"x\",\"y\":[0.0434,0.0356,0.0259,0.0319,0.0317,0.0319],\"yaxis\":\"y\",\"type\":\"scatter\"},{\"hovertemplate\":\"Subject=Italian<br>Category=perAs<br>Year=%{x}<br>Count=%{y}<extra></extra>\",\"legendgroup\":\"Italian\",\"line\":{\"color\":\"#00cc96\",\"dash\":\"solid\"},\"marker\":{\"symbol\":\"circle\"},\"mode\":\"markers+lines\",\"name\":\"Italian\",\"orientation\":\"v\",\"showlegend\":true,\"x\":[\"2021\",\"2020\",\"2019\",\"2018\",\"2017\",\"2016\"],\"xaxis\":\"x\",\"y\":[0.0019,0.0014,0.0011,0.0021,0.001,0.0011],\"yaxis\":\"y\",\"type\":\"scatter\"},{\"hovertemplate\":\"Subject=Latin<br>Category=perAs<br>Year=%{x}<br>Count=%{y}<extra></extra>\",\"legendgroup\":\"Latin\",\"line\":{\"color\":\"#ab63fa\",\"dash\":\"solid\"},\"marker\":{\"symbol\":\"circle\"},\"mode\":\"markers+lines\",\"name\":\"Latin\",\"orientation\":\"v\",\"showlegend\":true,\"x\":[\"2021\",\"2020\",\"2019\",\"2018\",\"2017\",\"2016\"],\"xaxis\":\"x\",\"y\":[0.0016,0.0018,0.0014,0.0014,0.0019,0.002],\"yaxis\":\"y\",\"type\":\"scatter\"},{\"hovertemplate\":\"Subject=Mathematics<br>Category=perAs<br>Year=%{x}<br>Count=%{y}<extra></extra>\",\"legendgroup\":\"Mathematics\",\"line\":{\"color\":\"#FFA15A\",\"dash\":\"solid\"},\"marker\":{\"symbol\":\"circle\"},\"mode\":\"markers+lines\",\"name\":\"Mathematics\",\"orientation\":\"v\",\"showlegend\":true,\"x\":[\"2021\",\"2020\",\"2019\",\"2018\",\"2017\",\"2016\"],\"xaxis\":\"x\",\"y\":[0.1396,0.1252,0.0991,0.0956,0.0928,0.0936],\"yaxis\":\"y\",\"type\":\"scatter\"},{\"hovertemplate\":\"Subject=Mathematics of Mechanics<br>Category=perAs<br>Year=%{x}<br>Count=%{y}<extra></extra>\",\"legendgroup\":\"Mathematics of Mechanics\",\"line\":{\"color\":\"#19d3f3\",\"dash\":\"solid\"},\"marker\":{\"symbol\":\"circle\"},\"mode\":\"markers+lines\",\"name\":\"Mathematics of Mechanics\",\"orientation\":\"v\",\"showlegend\":true,\"x\":[\"2021\",\"2020\",\"2019\",\"2018\",\"2017\",\"2016\"],\"xaxis\":\"x\",\"y\":[0.0115,0.0151,0.0086,0.0104,0.0102,0.0103],\"yaxis\":\"y\",\"type\":\"scatter\"},{\"hovertemplate\":\"Subject=Modern Studies<br>Category=perAs<br>Year=%{x}<br>Count=%{y}<extra></extra>\",\"legendgroup\":\"Modern Studies\",\"line\":{\"color\":\"#FF6692\",\"dash\":\"solid\"},\"marker\":{\"symbol\":\"circle\"},\"mode\":\"markers+lines\",\"name\":\"Modern Studies\",\"orientation\":\"v\",\"showlegend\":true,\"x\":[\"2021\",\"2020\",\"2019\",\"2018\",\"2017\",\"2016\"],\"xaxis\":\"x\",\"y\":[0.0312,0.0263,0.0165,0.0145,0.0168,0.017],\"yaxis\":\"y\",\"type\":\"scatter\"},{\"hovertemplate\":\"Subject=Music<br>Category=perAs<br>Year=%{x}<br>Count=%{y}<extra></extra>\",\"legendgroup\":\"Music\",\"line\":{\"color\":\"#B6E880\",\"dash\":\"solid\"},\"marker\":{\"symbol\":\"circle\"},\"mode\":\"markers+lines\",\"name\":\"Music\",\"orientation\":\"v\",\"showlegend\":true,\"x\":[\"2021\",\"2020\",\"2019\",\"2018\",\"2017\",\"2016\"],\"xaxis\":\"x\",\"y\":[0.0829,0.0792,0.0661,0.072,0.0777,0.0784],\"yaxis\":\"y\",\"type\":\"scatter\"},{\"hovertemplate\":\"Subject=Music Technology<br>Category=perAs<br>Year=%{x}<br>Count=%{y}<extra></extra>\",\"legendgroup\":\"Music Technology\",\"line\":{\"color\":\"#FF97FF\",\"dash\":\"solid\"},\"marker\":{\"symbol\":\"circle\"},\"mode\":\"markers+lines\",\"name\":\"Music Technology\",\"orientation\":\"v\",\"showlegend\":true,\"x\":[\"2021\",\"2020\"],\"xaxis\":\"x\",\"y\":[0.0013,0.0014],\"yaxis\":\"y\",\"type\":\"scatter\"},{\"hovertemplate\":\"Subject=Music: Portfolio<br>Category=perAs<br>Year=%{x}<br>Count=%{y}<extra></extra>\",\"legendgroup\":\"Music: Portfolio\",\"line\":{\"color\":\"#FECB52\",\"dash\":\"solid\"},\"marker\":{\"symbol\":\"circle\"},\"mode\":\"markers+lines\",\"name\":\"Music: Portfolio\",\"orientation\":\"v\",\"showlegend\":true,\"x\":[\"2021\",\"2020\",\"2018\",\"2017\",\"2016\"],\"xaxis\":\"x\",\"y\":[0.0006,0.0014,0.0003,0.0003,0.0003],\"yaxis\":\"y\",\"type\":\"scatter\"},{\"hovertemplate\":\"Subject=Physical Education<br>Category=perAs<br>Year=%{x}<br>Count=%{y}<extra></extra>\",\"legendgroup\":\"Physical Education\",\"line\":{\"color\":\"#636efa\",\"dash\":\"solid\"},\"marker\":{\"symbol\":\"circle\"},\"mode\":\"markers+lines\",\"name\":\"Physical Education\",\"orientation\":\"v\",\"showlegend\":true,\"x\":[\"2021\",\"2020\",\"2019\",\"2018\",\"2017\",\"2016\"],\"xaxis\":\"x\",\"y\":[0.0258,0.0176,0.0083,0.0062,0.007,0.007],\"yaxis\":\"y\",\"type\":\"scatter\"},{\"hovertemplate\":\"Subject=Physics<br>Category=perAs<br>Year=%{x}<br>Count=%{y}<extra></extra>\",\"legendgroup\":\"Physics\",\"line\":{\"color\":\"#EF553B\",\"dash\":\"solid\"},\"marker\":{\"symbol\":\"circle\"},\"mode\":\"markers+lines\",\"name\":\"Physics\",\"orientation\":\"v\",\"showlegend\":true,\"x\":[\"2021\",\"2020\",\"2019\",\"2018\",\"2017\",\"2016\"],\"xaxis\":\"x\",\"y\":[0.0641,0.0623,0.0373,0.0402,0.0392,0.0396],\"yaxis\":\"y\",\"type\":\"scatter\"},{\"hovertemplate\":\"Subject=Religious, Moral and Philosophical Studies<br>Category=perAs<br>Year=%{x}<br>Count=%{y}<extra></extra>\",\"legendgroup\":\"Religious, Moral and Philosophical Studies\",\"line\":{\"color\":\"#00cc96\",\"dash\":\"solid\"},\"marker\":{\"symbol\":\"circle\"},\"mode\":\"markers+lines\",\"name\":\"Religious, Moral and Philosophical Studies\",\"orientation\":\"v\",\"showlegend\":true,\"x\":[\"2021\",\"2020\",\"2019\",\"2018\",\"2017\",\"2016\"],\"xaxis\":\"x\",\"y\":[0.0099,0.0068,0.004,0.0024,0.0042,0.0043],\"yaxis\":\"y\",\"type\":\"scatter\"},{\"hovertemplate\":\"Subject=Spanish<br>Category=perAs<br>Year=%{x}<br>Count=%{y}<extra></extra>\",\"legendgroup\":\"Spanish\",\"line\":{\"color\":\"#ab63fa\",\"dash\":\"solid\"},\"marker\":{\"symbol\":\"circle\"},\"mode\":\"markers+lines\",\"name\":\"Spanish\",\"orientation\":\"v\",\"showlegend\":true,\"x\":[\"2021\",\"2020\",\"2019\",\"2018\",\"2017\",\"2016\"],\"xaxis\":\"x\",\"y\":[0.0179,0.018,0.0126,0.0107,0.0104,0.0105],\"yaxis\":\"y\",\"type\":\"scatter\"},{\"hovertemplate\":\"Subject=Statistics<br>Category=perAs<br>Year=%{x}<br>Count=%{y}<extra></extra>\",\"legendgroup\":\"Statistics\",\"line\":{\"color\":\"#FFA15A\",\"dash\":\"solid\"},\"marker\":{\"symbol\":\"circle\"},\"mode\":\"markers+lines\",\"name\":\"Statistics\",\"orientation\":\"v\",\"showlegend\":true,\"x\":[\"2021\",\"2020\",\"2019\",\"2018\",\"2017\",\"2016\"],\"xaxis\":\"x\",\"y\":[0.0089,0.0072,0.005,0.0048,0.0049,0.005],\"yaxis\":\"y\",\"type\":\"scatter\"}],                        {\"template\":{\"data\":{\"histogram2dcontour\":[{\"type\":\"histogram2dcontour\",\"colorbar\":{\"outlinewidth\":0,\"ticks\":\"\"},\"colorscale\":[[0.0,\"#0d0887\"],[0.1111111111111111,\"#46039f\"],[0.2222222222222222,\"#7201a8\"],[0.3333333333333333,\"#9c179e\"],[0.4444444444444444,\"#bd3786\"],[0.5555555555555556,\"#d8576b\"],[0.6666666666666666,\"#ed7953\"],[0.7777777777777778,\"#fb9f3a\"],[0.8888888888888888,\"#fdca26\"],[1.0,\"#f0f921\"]]}],\"choropleth\":[{\"type\":\"choropleth\",\"colorbar\":{\"outlinewidth\":0,\"ticks\":\"\"}}],\"histogram2d\":[{\"type\":\"histogram2d\",\"colorbar\":{\"outlinewidth\":0,\"ticks\":\"\"},\"colorscale\":[[0.0,\"#0d0887\"],[0.1111111111111111,\"#46039f\"],[0.2222222222222222,\"#7201a8\"],[0.3333333333333333,\"#9c179e\"],[0.4444444444444444,\"#bd3786\"],[0.5555555555555556,\"#d8576b\"],[0.6666666666666666,\"#ed7953\"],[0.7777777777777778,\"#fb9f3a\"],[0.8888888888888888,\"#fdca26\"],[1.0,\"#f0f921\"]]}],\"heatmap\":[{\"type\":\"heatmap\",\"colorbar\":{\"outlinewidth\":0,\"ticks\":\"\"},\"colorscale\":[[0.0,\"#0d0887\"],[0.1111111111111111,\"#46039f\"],[0.2222222222222222,\"#7201a8\"],[0.3333333333333333,\"#9c179e\"],[0.4444444444444444,\"#bd3786\"],[0.5555555555555556,\"#d8576b\"],[0.6666666666666666,\"#ed7953\"],[0.7777777777777778,\"#fb9f3a\"],[0.8888888888888888,\"#fdca26\"],[1.0,\"#f0f921\"]]}],\"heatmapgl\":[{\"type\":\"heatmapgl\",\"colorbar\":{\"outlinewidth\":0,\"ticks\":\"\"},\"colorscale\":[[0.0,\"#0d0887\"],[0.1111111111111111,\"#46039f\"],[0.2222222222222222,\"#7201a8\"],[0.3333333333333333,\"#9c179e\"],[0.4444444444444444,\"#bd3786\"],[0.5555555555555556,\"#d8576b\"],[0.6666666666666666,\"#ed7953\"],[0.7777777777777778,\"#fb9f3a\"],[0.8888888888888888,\"#fdca26\"],[1.0,\"#f0f921\"]]}],\"contourcarpet\":[{\"type\":\"contourcarpet\",\"colorbar\":{\"outlinewidth\":0,\"ticks\":\"\"}}],\"contour\":[{\"type\":\"contour\",\"colorbar\":{\"outlinewidth\":0,\"ticks\":\"\"},\"colorscale\":[[0.0,\"#0d0887\"],[0.1111111111111111,\"#46039f\"],[0.2222222222222222,\"#7201a8\"],[0.3333333333333333,\"#9c179e\"],[0.4444444444444444,\"#bd3786\"],[0.5555555555555556,\"#d8576b\"],[0.6666666666666666,\"#ed7953\"],[0.7777777777777778,\"#fb9f3a\"],[0.8888888888888888,\"#fdca26\"],[1.0,\"#f0f921\"]]}],\"surface\":[{\"type\":\"surface\",\"colorbar\":{\"outlinewidth\":0,\"ticks\":\"\"},\"colorscale\":[[0.0,\"#0d0887\"],[0.1111111111111111,\"#46039f\"],[0.2222222222222222,\"#7201a8\"],[0.3333333333333333,\"#9c179e\"],[0.4444444444444444,\"#bd3786\"],[0.5555555555555556,\"#d8576b\"],[0.6666666666666666,\"#ed7953\"],[0.7777777777777778,\"#fb9f3a\"],[0.8888888888888888,\"#fdca26\"],[1.0,\"#f0f921\"]]}],\"mesh3d\":[{\"type\":\"mesh3d\",\"colorbar\":{\"outlinewidth\":0,\"ticks\":\"\"}}],\"scatter\":[{\"fillpattern\":{\"fillmode\":\"overlay\",\"size\":10,\"solidity\":0.2},\"type\":\"scatter\"}],\"parcoords\":[{\"type\":\"parcoords\",\"line\":{\"colorbar\":{\"outlinewidth\":0,\"ticks\":\"\"}}}],\"scatterpolargl\":[{\"type\":\"scatterpolargl\",\"marker\":{\"colorbar\":{\"outlinewidth\":0,\"ticks\":\"\"}}}],\"bar\":[{\"error_x\":{\"color\":\"#2a3f5f\"},\"error_y\":{\"color\":\"#2a3f5f\"},\"marker\":{\"line\":{\"color\":\"#E5ECF6\",\"width\":0.5},\"pattern\":{\"fillmode\":\"overlay\",\"size\":10,\"solidity\":0.2}},\"type\":\"bar\"}],\"scattergeo\":[{\"type\":\"scattergeo\",\"marker\":{\"colorbar\":{\"outlinewidth\":0,\"ticks\":\"\"}}}],\"scatterpolar\":[{\"type\":\"scatterpolar\",\"marker\":{\"colorbar\":{\"outlinewidth\":0,\"ticks\":\"\"}}}],\"histogram\":[{\"marker\":{\"pattern\":{\"fillmode\":\"overlay\",\"size\":10,\"solidity\":0.2}},\"type\":\"histogram\"}],\"scattergl\":[{\"type\":\"scattergl\",\"marker\":{\"colorbar\":{\"outlinewidth\":0,\"ticks\":\"\"}}}],\"scatter3d\":[{\"type\":\"scatter3d\",\"line\":{\"colorbar\":{\"outlinewidth\":0,\"ticks\":\"\"}},\"marker\":{\"colorbar\":{\"outlinewidth\":0,\"ticks\":\"\"}}}],\"scattermapbox\":[{\"type\":\"scattermapbox\",\"marker\":{\"colorbar\":{\"outlinewidth\":0,\"ticks\":\"\"}}}],\"scatterternary\":[{\"type\":\"scatterternary\",\"marker\":{\"colorbar\":{\"outlinewidth\":0,\"ticks\":\"\"}}}],\"scattercarpet\":[{\"type\":\"scattercarpet\",\"marker\":{\"colorbar\":{\"outlinewidth\":0,\"ticks\":\"\"}}}],\"carpet\":[{\"aaxis\":{\"endlinecolor\":\"#2a3f5f\",\"gridcolor\":\"white\",\"linecolor\":\"white\",\"minorgridcolor\":\"white\",\"startlinecolor\":\"#2a3f5f\"},\"baxis\":{\"endlinecolor\":\"#2a3f5f\",\"gridcolor\":\"white\",\"linecolor\":\"white\",\"minorgridcolor\":\"white\",\"startlinecolor\":\"#2a3f5f\"},\"type\":\"carpet\"}],\"table\":[{\"cells\":{\"fill\":{\"color\":\"#EBF0F8\"},\"line\":{\"color\":\"white\"}},\"header\":{\"fill\":{\"color\":\"#C8D4E3\"},\"line\":{\"color\":\"white\"}},\"type\":\"table\"}],\"barpolar\":[{\"marker\":{\"line\":{\"color\":\"#E5ECF6\",\"width\":0.5},\"pattern\":{\"fillmode\":\"overlay\",\"size\":10,\"solidity\":0.2}},\"type\":\"barpolar\"}],\"pie\":[{\"automargin\":true,\"type\":\"pie\"}]},\"layout\":{\"autotypenumbers\":\"strict\",\"colorway\":[\"#636efa\",\"#EF553B\",\"#00cc96\",\"#ab63fa\",\"#FFA15A\",\"#19d3f3\",\"#FF6692\",\"#B6E880\",\"#FF97FF\",\"#FECB52\"],\"font\":{\"color\":\"#2a3f5f\"},\"hovermode\":\"closest\",\"hoverlabel\":{\"align\":\"left\"},\"paper_bgcolor\":\"white\",\"plot_bgcolor\":\"#E5ECF6\",\"polar\":{\"bgcolor\":\"#E5ECF6\",\"angularaxis\":{\"gridcolor\":\"white\",\"linecolor\":\"white\",\"ticks\":\"\"},\"radialaxis\":{\"gridcolor\":\"white\",\"linecolor\":\"white\",\"ticks\":\"\"}},\"ternary\":{\"bgcolor\":\"#E5ECF6\",\"aaxis\":{\"gridcolor\":\"white\",\"linecolor\":\"white\",\"ticks\":\"\"},\"baxis\":{\"gridcolor\":\"white\",\"linecolor\":\"white\",\"ticks\":\"\"},\"caxis\":{\"gridcolor\":\"white\",\"linecolor\":\"white\",\"ticks\":\"\"}},\"coloraxis\":{\"colorbar\":{\"outlinewidth\":0,\"ticks\":\"\"}},\"colorscale\":{\"sequential\":[[0.0,\"#0d0887\"],[0.1111111111111111,\"#46039f\"],[0.2222222222222222,\"#7201a8\"],[0.3333333333333333,\"#9c179e\"],[0.4444444444444444,\"#bd3786\"],[0.5555555555555556,\"#d8576b\"],[0.6666666666666666,\"#ed7953\"],[0.7777777777777778,\"#fb9f3a\"],[0.8888888888888888,\"#fdca26\"],[1.0,\"#f0f921\"]],\"sequentialminus\":[[0.0,\"#0d0887\"],[0.1111111111111111,\"#46039f\"],[0.2222222222222222,\"#7201a8\"],[0.3333333333333333,\"#9c179e\"],[0.4444444444444444,\"#bd3786\"],[0.5555555555555556,\"#d8576b\"],[0.6666666666666666,\"#ed7953\"],[0.7777777777777778,\"#fb9f3a\"],[0.8888888888888888,\"#fdca26\"],[1.0,\"#f0f921\"]],\"diverging\":[[0,\"#8e0152\"],[0.1,\"#c51b7d\"],[0.2,\"#de77ae\"],[0.3,\"#f1b6da\"],[0.4,\"#fde0ef\"],[0.5,\"#f7f7f7\"],[0.6,\"#e6f5d0\"],[0.7,\"#b8e186\"],[0.8,\"#7fbc41\"],[0.9,\"#4d9221\"],[1,\"#276419\"]]},\"xaxis\":{\"gridcolor\":\"white\",\"linecolor\":\"white\",\"ticks\":\"\",\"title\":{\"standoff\":15},\"zerolinecolor\":\"white\",\"automargin\":true,\"zerolinewidth\":2},\"yaxis\":{\"gridcolor\":\"white\",\"linecolor\":\"white\",\"ticks\":\"\",\"title\":{\"standoff\":15},\"zerolinecolor\":\"white\",\"automargin\":true,\"zerolinewidth\":2},\"scene\":{\"xaxis\":{\"backgroundcolor\":\"#E5ECF6\",\"gridcolor\":\"white\",\"linecolor\":\"white\",\"showbackground\":true,\"ticks\":\"\",\"zerolinecolor\":\"white\",\"gridwidth\":2},\"yaxis\":{\"backgroundcolor\":\"#E5ECF6\",\"gridcolor\":\"white\",\"linecolor\":\"white\",\"showbackground\":true,\"ticks\":\"\",\"zerolinecolor\":\"white\",\"gridwidth\":2},\"zaxis\":{\"backgroundcolor\":\"#E5ECF6\",\"gridcolor\":\"white\",\"linecolor\":\"white\",\"showbackground\":true,\"ticks\":\"\",\"zerolinecolor\":\"white\",\"gridwidth\":2}},\"shapedefaults\":{\"line\":{\"color\":\"#2a3f5f\"}},\"annotationdefaults\":{\"arrowcolor\":\"#2a3f5f\",\"arrowhead\":0,\"arrowwidth\":1},\"geo\":{\"bgcolor\":\"white\",\"landcolor\":\"#E5ECF6\",\"subunitcolor\":\"white\",\"showland\":true,\"showlakes\":true,\"lakecolor\":\"white\"},\"title\":{\"x\":0.05},\"mapbox\":{\"style\":\"light\"}}},\"xaxis\":{\"anchor\":\"y\",\"domain\":[0.0,0.98],\"title\":{\"text\":\"Year\"},\"categoryorder\":\"array\",\"categoryarray\":[\"2016\",\"2017\",\"2018\",\"2019\",\"2020\",\"2021\"]},\"yaxis\":{\"anchor\":\"x\",\"domain\":[0.0,1.0],\"title\":{\"text\":\"Count\"},\"rangemode\":\"tozero\"},\"annotations\":[{\"font\":{},\"showarrow\":false,\"text\":\"Category=perAs\",\"textangle\":90,\"x\":0.98,\"xanchor\":\"left\",\"xref\":\"paper\",\"y\":0.5,\"yanchor\":\"middle\",\"yref\":\"paper\"}],\"legend\":{\"title\":{\"text\":\"Subject\"},\"tracegroupgap\":0},\"title\":{\"text\":\"Total As per total students subject from 2016 - 2021 at Advanced Higher\"},\"height\":800,\"width\":800},                        {\"responsive\": true}                    ).then(function(){\n",
       "                            \n",
       "var gd = document.getElementById('fc4afca1-73b9-46d6-b29b-c489b9a8fa9b');\n",
       "var x = new MutationObserver(function (mutations, observer) {{\n",
       "        var display = window.getComputedStyle(gd).display;\n",
       "        if (!display || display === 'none') {{\n",
       "            console.log([gd, 'removed!']);\n",
       "            Plotly.purge(gd);\n",
       "            observer.disconnect();\n",
       "        }}\n",
       "}});\n",
       "\n",
       "// Listen for the removal of the full notebook cells\n",
       "var notebookContainer = gd.closest('#notebook-container');\n",
       "if (notebookContainer) {{\n",
       "    x.observe(notebookContainer, {childList: true});\n",
       "}}\n",
       "\n",
       "// Listen for the clearing of the current output cell\n",
       "var outputEl = gd.closest('.output');\n",
       "if (outputEl) {{\n",
       "    x.observe(outputEl, {childList: true});\n",
       "}}\n",
       "\n",
       "                        })                };                });            </script>        </div>"
      ]
     },
     "metadata": {},
     "output_type": "display_data"
    }
   ],
   "source": [
    "# Plot graph\n",
    "\n",
    "# Create a list of subjects in alphabetical order\n",
    "subjects = sorted(ldf['Subject'].unique())\n",
    "years = sorted(ldf['Year'].unique())\n",
    "\n",
    "fig = px.line(ldf, x = \"Year\", y = \"Count\", \n",
    "                color = \"Subject\",\n",
    "                facet_row = 'Grades',\n",
    "                width = 800,\n",
    "                height = 800,\n",
    "                category_orders = {'Subject' : subjects, 'Year' : years},\n",
    "                labels = {\"Grades\": \"Category\"},\n",
    "                title = 'Total As per total students subject from 2016 - 2021 at ' + level_label\n",
    "                )\n",
    "\n",
    "fig.update_traces(mode = \"markers+lines\")\n",
    "\n",
    "fig.update_yaxes(matches=None, rangemode = \"tozero\")\n",
    "\n",
    "fig.update_traces(mode = \"markers+lines\")\n",
    "\n",
    "filename = 'As_per_cohort_' + level + '.html'\n",
    "\n",
    "fig.write_html('./graphs/' + filename)\n",
    "\n",
    "fig.show()"
   ]
  },
  {
   "cell_type": "code",
   "execution_count": 34,
   "id": "e566af13",
   "metadata": {},
   "outputs": [
    {
     "data": {
      "text/plain": [
       "'https://plotly.com/~mrcrookes/97/'"
      ]
     },
     "execution_count": 34,
     "metadata": {},
     "output_type": "execute_result"
    }
   ],
   "source": [
    "# Setup Chart Studio\n",
    "username = '###' # your username\n",
    "api_key = '###' # your api key - go to profile > settings > regenerate key\n",
    "chart_studio.tools.set_credentials_file(username=username, api_key=api_key)\n",
    "\n",
    "# Upload to Chart Studio\n",
    "#py.plot(fig, filename = filename, auto_open=True)"
   ]
  },
  {
   "cell_type": "code",
   "execution_count": null,
   "id": "929d613b",
   "metadata": {},
   "outputs": [],
   "source": []
  }
 ],
 "metadata": {
  "kernelspec": {
   "display_name": "Python 3 (ipykernel)",
   "language": "python",
   "name": "python3"
  },
  "language_info": {
   "codemirror_mode": {
    "name": "ipython",
    "version": 3
   },
   "file_extension": ".py",
   "mimetype": "text/x-python",
   "name": "python",
   "nbconvert_exporter": "python",
   "pygments_lexer": "ipython3",
   "version": "3.10.4"
  }
 },
 "nbformat": 4,
 "nbformat_minor": 5
}
