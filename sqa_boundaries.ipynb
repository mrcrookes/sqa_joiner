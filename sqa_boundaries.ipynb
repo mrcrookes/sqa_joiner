{
 "cells": [
  {
   "cell_type": "code",
   "execution_count": 1,
   "id": "bd55fdf7",
   "metadata": {},
   "outputs": [],
   "source": [
    "# Import key librarys\n",
    "\n",
    "import pandas as pd\n",
    "import numpy as np\n",
    "\n",
    "import plotly.express as px\n",
    "\n",
    "import chart_studio\n",
    "import chart_studio.plotly as py\n",
    "import chart_studio.tools as tls"
   ]
  },
  {
   "cell_type": "code",
   "execution_count": 2,
   "id": "9f68e015",
   "metadata": {},
   "outputs": [],
   "source": [
    "# Define level\n",
    "level = 'Advanced_Higher'\n",
    "level_label = level.replace('_', ' ')\n",
    "\n",
    "# Import data\n",
    "df = pd.read_excel(\"grade-boundaries-2022.xlsx\", \n",
    "                       sheet_name = level, skiprows = 2)\n",
    "\n",
    "df16 = pd.read_excel(\"Grade_Boundaries_2016.xls\", \n",
    "                       sheet_name = level, skiprows = 3)\n",
    "\n",
    "df17 = pd.read_excel(\"Grade_Boundaries_2017.xls\", \n",
    "                       sheet_name = level, skiprows = 3)"
   ]
  },
  {
   "cell_type": "code",
   "execution_count": 3,
   "id": "6c629c95",
   "metadata": {},
   "outputs": [],
   "source": [
    "def tidy_up_1(df):\n",
    "    \n",
    "    # Remove spaces and replace with '_'\n",
    "    df.columns = df.columns.str.replace(' ','_')\n",
    "    \n",
    "    # Replace [z] values with NaN\n",
    "    df = df.replace('[z]', np.nan)\n",
    "\n",
    "    # Remove rows from 2021 - 2020\n",
    "    df = df[df.columns.drop(list(df.filter(regex='2021')))]\n",
    "    df = df[df.columns.drop(list(df.filter(regex='2020')))]\n",
    "    \n",
    "    return df\n",
    "    \n",
    "df = tidy_up_1(df)\n",
    "df16 = tidy_up_1(df16)\n",
    "df17 = tidy_up_1(df17)"
   ]
  },
  {
   "cell_type": "code",
   "execution_count": 4,
   "id": "3517f5d4",
   "metadata": {},
   "outputs": [],
   "source": [
    "def tidy_up_2(df):\n",
    "\n",
    "    # Create a list of years\n",
    "    years = ['2022', '2019', '2018']\n",
    "\n",
    "    # Sort out column titles\n",
    "    for year in years:\n",
    "        df = df.rename({'Maximum_Mark_' + year: 'max_' + year}, axis=1)\n",
    "        df = df.rename({'Upper_A_Boundary_' + year: 'upA_' + year}, axis=1)\n",
    "        df = df.rename({'A_Boundary_' + year: 'A_' + year}, axis=1)\n",
    "        df = df.rename({'B_Boundary_' + year: 'B_' + year}, axis=1)\n",
    "        df = df.rename({'C_Boundary_' + year: 'C_' + year}, axis=1)\n",
    "        df = df.rename({'D_Boundary_' + year: 'D_' + year}, axis=1)\n",
    "\n",
    "    return df\n",
    "        \n",
    "df = tidy_up_2(df)"
   ]
  },
  {
   "cell_type": "code",
   "execution_count": 5,
   "id": "6065c951",
   "metadata": {},
   "outputs": [],
   "source": [
    "def tidy_up_2(df, year):\n",
    "\n",
    "    # Sort out column titles\n",
    "    df = df.rename({'Max_Mark': 'max_' + year}, axis=1)\n",
    "    df = df.rename({'Upper_A': 'upA_' + year}, axis=1)\n",
    "    df = df.rename({'A_Mark': 'A_' + year}, axis=1)\n",
    "    df = df.rename({'B_Mark': 'B_' + year}, axis=1)\n",
    "    df = df.rename({'C_Mark': 'C_' + year}, axis=1)\n",
    "    df = df.rename({'D_Mark': 'D_' + year}, axis=1)\n",
    "\n",
    "    return df\n",
    "        \n",
    "df16 = tidy_up_2(df16, '2016')\n",
    "df17 = tidy_up_2(df17, '2017')"
   ]
  },
  {
   "cell_type": "code",
   "execution_count": 6,
   "id": "35abc9dd",
   "metadata": {},
   "outputs": [],
   "source": [
    "# Sort out subjects names in 2016 and 2017 datasets\n",
    "\n",
    "def tidy_up_2a(df):\n",
    "\n",
    "    # Update names\n",
    "    di = {'Hospitality: Practical Cake Craft': 'Practical Cake Craft',\n",
    "          'Hospitality: Practical Cookery': 'Practical Cookery',\n",
    "          'Cantonese': 'Chinese Languages'}\n",
    "    \n",
    "    df = df.replace({\"Subject\": di})\n",
    "    \n",
    "    # Remove duplicate names\n",
    "    values = ['Cruinn-eolas (Geography)', 'Nuadh-Eolas (Modern Studies)', 'Eachdraidh (History)', \n",
    "        'Matamataig (Mathematics)', 'Matamataig Fad-bheatha (Lifeskills Mathematics)',\n",
    "            'Mandarin (Simplified)', 'Mandarin (Traditional)']\n",
    "\n",
    "    df = df.loc[~df['Subject'].isin(values)]\n",
    "    \n",
    "    return df\n",
    "\n",
    "df16 = tidy_up_2a(df16)\n",
    "df17 = tidy_up_2a(df17)"
   ]
  },
  {
   "cell_type": "code",
   "execution_count": 7,
   "id": "b424ad6e",
   "metadata": {},
   "outputs": [],
   "source": [
    "# Concat together three dfs (on Subject as index)\n",
    "\n",
    "dfc = pd.concat([df.set_index('Subject'), df17.set_index('Subject'), df16.set_index('Subject')], \n",
    "                  axis=1).reset_index()"
   ]
  },
  {
   "cell_type": "code",
   "execution_count": 378,
   "id": "cecab7e3",
   "metadata": {},
   "outputs": [],
   "source": [
    "def per(df):\n",
    "    \n",
    "    # Create a list of years\n",
    "    years = ['2022', '2019', '2018', '2017', '2016']\n",
    "    \n",
    "    # Calculate number of Bs, Cs and Ds\n",
    "    for year in years:\n",
    "        df['upA_' + year] = df['upA_' + year] / df['max_' + year]\n",
    "        df['A_' + year] = df['A_' + year] / df['max_' + year]\n",
    "        df['B_' + year] = df['B_' + year] / df['max_' + year]\n",
    "        df['C_' + year] = df['C_' + year] / df['max_' + year]\n",
    "        df['D_' + year] = df['D_' + year] / df['max_' + year]\n",
    "        \n",
    "    return df\n",
    "\n",
    "dfc = per(dfc)"
   ]
  },
  {
   "cell_type": "code",
   "execution_count": 379,
   "id": "adc91c2b",
   "metadata": {},
   "outputs": [],
   "source": [
    "def tidy_up_3(df):\n",
    "    \n",
    "    # Remove rows with max\n",
    "    df = df[df.columns.drop(list(df.filter(regex='max')))]\n",
    "    \n",
    "    # Round to 2 decimal places (note this rounds 0.425 to 0.42 due to issue of rounding floats)\n",
    "    df = df.round(2)\n",
    "    \n",
    "    return df\n",
    "    \n",
    "dfc = tidy_up_3(dfc)"
   ]
  },
  {
   "cell_type": "code",
   "execution_count": 380,
   "id": "b3bf4c64",
   "metadata": {
    "scrolled": true
   },
   "outputs": [
    {
     "data": {
      "text/html": [
       "<div>\n",
       "<style scoped>\n",
       "    .dataframe tbody tr th:only-of-type {\n",
       "        vertical-align: middle;\n",
       "    }\n",
       "\n",
       "    .dataframe tbody tr th {\n",
       "        vertical-align: top;\n",
       "    }\n",
       "\n",
       "    .dataframe thead th {\n",
       "        text-align: right;\n",
       "    }\n",
       "</style>\n",
       "<table border=\"1\" class=\"dataframe\">\n",
       "  <thead>\n",
       "    <tr style=\"text-align: right;\">\n",
       "      <th></th>\n",
       "      <th>Subject</th>\n",
       "      <th>upA_2022</th>\n",
       "      <th>A_2022</th>\n",
       "      <th>B_2022</th>\n",
       "      <th>C_2022</th>\n",
       "      <th>D_2022</th>\n",
       "      <th>upA_2019</th>\n",
       "      <th>A_2019</th>\n",
       "      <th>B_2019</th>\n",
       "      <th>C_2019</th>\n",
       "      <th>...</th>\n",
       "      <th>upA_2017</th>\n",
       "      <th>A_2017</th>\n",
       "      <th>B_2017</th>\n",
       "      <th>C_2017</th>\n",
       "      <th>D_2017</th>\n",
       "      <th>upA_2016</th>\n",
       "      <th>A_2016</th>\n",
       "      <th>B_2016</th>\n",
       "      <th>C_2016</th>\n",
       "      <th>D_2016</th>\n",
       "    </tr>\n",
       "  </thead>\n",
       "  <tbody>\n",
       "    <tr>\n",
       "      <th>30</th>\n",
       "      <td>Physical Education</td>\n",
       "      <td>0.85</td>\n",
       "      <td>0.70</td>\n",
       "      <td>0.59</td>\n",
       "      <td>0.48</td>\n",
       "      <td>0.37</td>\n",
       "      <td>0.85</td>\n",
       "      <td>0.70</td>\n",
       "      <td>0.60</td>\n",
       "      <td>0.50</td>\n",
       "      <td>...</td>\n",
       "      <td>0.90</td>\n",
       "      <td>0.75</td>\n",
       "      <td>0.65</td>\n",
       "      <td>0.55</td>\n",
       "      <td>0.50</td>\n",
       "      <td>0.85</td>\n",
       "      <td>0.70</td>\n",
       "      <td>0.60</td>\n",
       "      <td>0.50</td>\n",
       "      <td>0.45</td>\n",
       "    </tr>\n",
       "    <tr>\n",
       "      <th>31</th>\n",
       "      <td>Physics</td>\n",
       "      <td>0.85</td>\n",
       "      <td>0.66</td>\n",
       "      <td>0.53</td>\n",
       "      <td>0.40</td>\n",
       "      <td>0.26</td>\n",
       "      <td>0.85</td>\n",
       "      <td>0.69</td>\n",
       "      <td>0.59</td>\n",
       "      <td>0.49</td>\n",
       "      <td>...</td>\n",
       "      <td>0.82</td>\n",
       "      <td>0.65</td>\n",
       "      <td>0.54</td>\n",
       "      <td>0.44</td>\n",
       "      <td>0.38</td>\n",
       "      <td>0.80</td>\n",
       "      <td>0.65</td>\n",
       "      <td>0.55</td>\n",
       "      <td>0.47</td>\n",
       "      <td>0.42</td>\n",
       "    </tr>\n",
       "    <tr>\n",
       "      <th>32</th>\n",
       "      <td>Religious, Moral and Philosophical Studies</td>\n",
       "      <td>0.83</td>\n",
       "      <td>0.67</td>\n",
       "      <td>0.56</td>\n",
       "      <td>0.46</td>\n",
       "      <td>0.36</td>\n",
       "      <td>0.91</td>\n",
       "      <td>0.76</td>\n",
       "      <td>0.65</td>\n",
       "      <td>0.54</td>\n",
       "      <td>...</td>\n",
       "      <td>0.85</td>\n",
       "      <td>0.70</td>\n",
       "      <td>0.59</td>\n",
       "      <td>0.49</td>\n",
       "      <td>0.44</td>\n",
       "      <td>0.85</td>\n",
       "      <td>0.70</td>\n",
       "      <td>0.60</td>\n",
       "      <td>0.50</td>\n",
       "      <td>0.45</td>\n",
       "    </tr>\n",
       "    <tr>\n",
       "      <th>33</th>\n",
       "      <td>Spanish</td>\n",
       "      <td>0.82</td>\n",
       "      <td>0.67</td>\n",
       "      <td>0.57</td>\n",
       "      <td>0.47</td>\n",
       "      <td>0.37</td>\n",
       "      <td>0.82</td>\n",
       "      <td>0.68</td>\n",
       "      <td>0.58</td>\n",
       "      <td>0.48</td>\n",
       "      <td>...</td>\n",
       "      <td>0.82</td>\n",
       "      <td>0.67</td>\n",
       "      <td>0.57</td>\n",
       "      <td>0.48</td>\n",
       "      <td>0.42</td>\n",
       "      <td>0.82</td>\n",
       "      <td>0.67</td>\n",
       "      <td>0.57</td>\n",
       "      <td>0.48</td>\n",
       "      <td>0.43</td>\n",
       "    </tr>\n",
       "    <tr>\n",
       "      <th>34</th>\n",
       "      <td>Statistics</td>\n",
       "      <td>0.81</td>\n",
       "      <td>0.66</td>\n",
       "      <td>0.57</td>\n",
       "      <td>0.48</td>\n",
       "      <td>0.39</td>\n",
       "      <td>0.79</td>\n",
       "      <td>0.64</td>\n",
       "      <td>0.54</td>\n",
       "      <td>0.45</td>\n",
       "      <td>...</td>\n",
       "      <td>0.84</td>\n",
       "      <td>0.69</td>\n",
       "      <td>0.59</td>\n",
       "      <td>0.49</td>\n",
       "      <td>0.44</td>\n",
       "      <td>0.85</td>\n",
       "      <td>0.70</td>\n",
       "      <td>0.60</td>\n",
       "      <td>0.50</td>\n",
       "      <td>0.45</td>\n",
       "    </tr>\n",
       "  </tbody>\n",
       "</table>\n",
       "<p>5 rows × 26 columns</p>\n",
       "</div>"
      ],
      "text/plain": [
       "                                       Subject  upA_2022  A_2022  B_2022  \\\n",
       "30                          Physical Education      0.85    0.70    0.59   \n",
       "31                                     Physics      0.85    0.66    0.53   \n",
       "32  Religious, Moral and Philosophical Studies      0.83    0.67    0.56   \n",
       "33                                     Spanish      0.82    0.67    0.57   \n",
       "34                                  Statistics      0.81    0.66    0.57   \n",
       "\n",
       "    C_2022  D_2022  upA_2019  A_2019  B_2019  C_2019  ...  upA_2017  A_2017  \\\n",
       "30    0.48    0.37      0.85    0.70    0.60    0.50  ...      0.90    0.75   \n",
       "31    0.40    0.26      0.85    0.69    0.59    0.49  ...      0.82    0.65   \n",
       "32    0.46    0.36      0.91    0.76    0.65    0.54  ...      0.85    0.70   \n",
       "33    0.47    0.37      0.82    0.68    0.58    0.48  ...      0.82    0.67   \n",
       "34    0.48    0.39      0.79    0.64    0.54    0.45  ...      0.84    0.69   \n",
       "\n",
       "    B_2017  C_2017  D_2017  upA_2016  A_2016  B_2016  C_2016  D_2016  \n",
       "30    0.65    0.55    0.50      0.85    0.70    0.60    0.50    0.45  \n",
       "31    0.54    0.44    0.38      0.80    0.65    0.55    0.47    0.42  \n",
       "32    0.59    0.49    0.44      0.85    0.70    0.60    0.50    0.45  \n",
       "33    0.57    0.48    0.42      0.82    0.67    0.57    0.48    0.43  \n",
       "34    0.59    0.49    0.44      0.85    0.70    0.60    0.50    0.45  \n",
       "\n",
       "[5 rows x 26 columns]"
      ]
     },
     "execution_count": 380,
     "metadata": {},
     "output_type": "execute_result"
    }
   ],
   "source": [
    "dfc.tail()"
   ]
  },
  {
   "cell_type": "code",
   "execution_count": 381,
   "id": "71f71966",
   "metadata": {},
   "outputs": [
    {
     "data": {
      "text/html": [
       "<div>\n",
       "<style scoped>\n",
       "    .dataframe tbody tr th:only-of-type {\n",
       "        vertical-align: middle;\n",
       "    }\n",
       "\n",
       "    .dataframe tbody tr th {\n",
       "        vertical-align: top;\n",
       "    }\n",
       "\n",
       "    .dataframe thead th {\n",
       "        text-align: right;\n",
       "    }\n",
       "</style>\n",
       "<table border=\"1\" class=\"dataframe\">\n",
       "  <thead>\n",
       "    <tr style=\"text-align: right;\">\n",
       "      <th></th>\n",
       "      <th>Subject</th>\n",
       "      <th>Count</th>\n",
       "      <th>Grades</th>\n",
       "      <th>Year</th>\n",
       "    </tr>\n",
       "  </thead>\n",
       "  <tbody>\n",
       "    <tr>\n",
       "      <th>0</th>\n",
       "      <td>Accounting</td>\n",
       "      <td>0.85</td>\n",
       "      <td>upA</td>\n",
       "      <td>2022</td>\n",
       "    </tr>\n",
       "    <tr>\n",
       "      <th>1</th>\n",
       "      <td>Art and Design (Design)</td>\n",
       "      <td>0.85</td>\n",
       "      <td>upA</td>\n",
       "      <td>2022</td>\n",
       "    </tr>\n",
       "    <tr>\n",
       "      <th>2</th>\n",
       "      <td>Art and Design (Expressive)</td>\n",
       "      <td>0.85</td>\n",
       "      <td>upA</td>\n",
       "      <td>2022</td>\n",
       "    </tr>\n",
       "    <tr>\n",
       "      <th>3</th>\n",
       "      <td>Biology</td>\n",
       "      <td>0.75</td>\n",
       "      <td>upA</td>\n",
       "      <td>2022</td>\n",
       "    </tr>\n",
       "    <tr>\n",
       "      <th>4</th>\n",
       "      <td>Business Management</td>\n",
       "      <td>0.78</td>\n",
       "      <td>upA</td>\n",
       "      <td>2022</td>\n",
       "    </tr>\n",
       "  </tbody>\n",
       "</table>\n",
       "</div>"
      ],
      "text/plain": [
       "                       Subject  Count Grades  Year\n",
       "0                   Accounting   0.85    upA  2022\n",
       "1      Art and Design (Design)   0.85    upA  2022\n",
       "2  Art and Design (Expressive)   0.85    upA  2022\n",
       "3                      Biology   0.75    upA  2022\n",
       "4          Business Management   0.78    upA  2022"
      ]
     },
     "execution_count": 381,
     "metadata": {},
     "output_type": "execute_result"
    }
   ],
   "source": [
    "# Convert into long format\n",
    "\n",
    "def tolong(df):\n",
    "    ldf = pd.melt(df, id_vars = ['Subject'], var_name = 'abc', value_name ='Count')\n",
    "    ldf['Grades'] = ldf['abc'].apply(lambda x: (x.rsplit('_', 1))[0])\n",
    "    ldf['Year'] = ldf.pop('abc').apply(lambda x: (x.split('_'))[-1])\n",
    "    \n",
    "    return ldf\n",
    "    \n",
    "ldf = tolong(dfc)\n",
    "\n",
    "ldf.head()"
   ]
  },
  {
   "cell_type": "code",
   "execution_count": 382,
   "id": "3f45a83e",
   "metadata": {},
   "outputs": [],
   "source": [
    "# Check\n",
    "#ldf.query('Subject == [\"Physics\"]')"
   ]
  },
  {
   "cell_type": "code",
   "execution_count": 383,
   "id": "5f3b38e0",
   "metadata": {},
   "outputs": [
    {
     "data": {
      "application/vnd.plotly.v1+json": {
       "config": {
        "plotlyServerURL": "https://plotly.com"
       },
       "data": [
        {
         "hovertemplate": "Subject=Accounting<br>Grades=upA<br>Year=%{x}<br>Percentage=%{y}<extra></extra>",
         "legendgroup": "Accounting",
         "line": {
          "color": "#636efa",
          "dash": "solid"
         },
         "marker": {
          "symbol": "circle"
         },
         "mode": "markers+lines",
         "name": "Accounting",
         "orientation": "v",
         "showlegend": true,
         "type": "scatter",
         "x": [
          "2022",
          "2019",
          "2018",
          "2017",
          "2016"
         ],
         "xaxis": "x5",
         "y": [
          0.85,
          0.85,
          0.85,
          0.85,
          0.85
         ],
         "yaxis": "y5"
        },
        {
         "hovertemplate": "Subject=Accounting<br>Grades=A<br>Year=%{x}<br>Percentage=%{y}<extra></extra>",
         "legendgroup": "Accounting",
         "line": {
          "color": "#636efa",
          "dash": "solid"
         },
         "marker": {
          "symbol": "circle"
         },
         "mode": "markers+lines",
         "name": "Accounting",
         "orientation": "v",
         "showlegend": false,
         "type": "scatter",
         "x": [
          "2022",
          "2019",
          "2018",
          "2017",
          "2016"
         ],
         "xaxis": "x4",
         "y": [
          0.7,
          0.7,
          0.7,
          0.7,
          0.7
         ],
         "yaxis": "y4"
        },
        {
         "hovertemplate": "Subject=Accounting<br>Grades=B<br>Year=%{x}<br>Percentage=%{y}<extra></extra>",
         "legendgroup": "Accounting",
         "line": {
          "color": "#636efa",
          "dash": "solid"
         },
         "marker": {
          "symbol": "circle"
         },
         "mode": "markers+lines",
         "name": "Accounting",
         "orientation": "v",
         "showlegend": false,
         "type": "scatter",
         "x": [
          "2022",
          "2019",
          "2018",
          "2017",
          "2016"
         ],
         "xaxis": "x3",
         "y": [
          0.6,
          0.6,
          0.6,
          0.6,
          0.6
         ],
         "yaxis": "y3"
        },
        {
         "hovertemplate": "Subject=Accounting<br>Grades=C<br>Year=%{x}<br>Percentage=%{y}<extra></extra>",
         "legendgroup": "Accounting",
         "line": {
          "color": "#636efa",
          "dash": "solid"
         },
         "marker": {
          "symbol": "circle"
         },
         "mode": "markers+lines",
         "name": "Accounting",
         "orientation": "v",
         "showlegend": false,
         "type": "scatter",
         "x": [
          "2022",
          "2019",
          "2018",
          "2017",
          "2016"
         ],
         "xaxis": "x2",
         "y": [
          0.5,
          0.5,
          0.5,
          0.5,
          0.5
         ],
         "yaxis": "y2"
        },
        {
         "hovertemplate": "Subject=Accounting<br>Grades=D<br>Year=%{x}<br>Percentage=%{y}<extra></extra>",
         "legendgroup": "Accounting",
         "line": {
          "color": "#636efa",
          "dash": "solid"
         },
         "marker": {
          "symbol": "circle"
         },
         "mode": "markers+lines",
         "name": "Accounting",
         "orientation": "v",
         "showlegend": false,
         "type": "scatter",
         "x": [
          "2022",
          "2019",
          "2018",
          "2017",
          "2016"
         ],
         "xaxis": "x",
         "y": [
          0.4,
          0.45,
          0.45,
          0.45,
          0.45
         ],
         "yaxis": "y"
        },
        {
         "hovertemplate": "Subject=Art and Design (Design)<br>Grades=upA<br>Year=%{x}<br>Percentage=%{y}<extra></extra>",
         "legendgroup": "Art and Design (Design)",
         "line": {
          "color": "#EF553B",
          "dash": "solid"
         },
         "marker": {
          "symbol": "circle"
         },
         "mode": "markers+lines",
         "name": "Art and Design (Design)",
         "orientation": "v",
         "showlegend": true,
         "type": "scatter",
         "x": [
          "2022",
          "2019",
          "2018",
          "2017",
          "2016"
         ],
         "xaxis": "x5",
         "y": [
          0.85,
          0.85,
          0.85,
          0.85,
          0.85
         ],
         "yaxis": "y5"
        },
        {
         "hovertemplate": "Subject=Art and Design (Design)<br>Grades=A<br>Year=%{x}<br>Percentage=%{y}<extra></extra>",
         "legendgroup": "Art and Design (Design)",
         "line": {
          "color": "#EF553B",
          "dash": "solid"
         },
         "marker": {
          "symbol": "circle"
         },
         "mode": "markers+lines",
         "name": "Art and Design (Design)",
         "orientation": "v",
         "showlegend": false,
         "type": "scatter",
         "x": [
          "2022",
          "2019",
          "2018",
          "2017",
          "2016"
         ],
         "xaxis": "x4",
         "y": [
          0.7,
          0.7,
          0.7,
          0.7,
          0.7
         ],
         "yaxis": "y4"
        },
        {
         "hovertemplate": "Subject=Art and Design (Design)<br>Grades=B<br>Year=%{x}<br>Percentage=%{y}<extra></extra>",
         "legendgroup": "Art and Design (Design)",
         "line": {
          "color": "#EF553B",
          "dash": "solid"
         },
         "marker": {
          "symbol": "circle"
         },
         "mode": "markers+lines",
         "name": "Art and Design (Design)",
         "orientation": "v",
         "showlegend": false,
         "type": "scatter",
         "x": [
          "2022",
          "2019",
          "2018",
          "2017",
          "2016"
         ],
         "xaxis": "x3",
         "y": [
          0.6,
          0.6,
          0.6,
          0.6,
          0.6
         ],
         "yaxis": "y3"
        },
        {
         "hovertemplate": "Subject=Art and Design (Design)<br>Grades=C<br>Year=%{x}<br>Percentage=%{y}<extra></extra>",
         "legendgroup": "Art and Design (Design)",
         "line": {
          "color": "#EF553B",
          "dash": "solid"
         },
         "marker": {
          "symbol": "circle"
         },
         "mode": "markers+lines",
         "name": "Art and Design (Design)",
         "orientation": "v",
         "showlegend": false,
         "type": "scatter",
         "x": [
          "2022",
          "2019",
          "2018",
          "2017",
          "2016"
         ],
         "xaxis": "x2",
         "y": [
          0.5,
          0.5,
          0.5,
          0.5,
          0.5
         ],
         "yaxis": "y2"
        },
        {
         "hovertemplate": "Subject=Art and Design (Design)<br>Grades=D<br>Year=%{x}<br>Percentage=%{y}<extra></extra>",
         "legendgroup": "Art and Design (Design)",
         "line": {
          "color": "#EF553B",
          "dash": "solid"
         },
         "marker": {
          "symbol": "circle"
         },
         "mode": "markers+lines",
         "name": "Art and Design (Design)",
         "orientation": "v",
         "showlegend": false,
         "type": "scatter",
         "x": [
          "2022",
          "2019",
          "2018",
          "2017",
          "2016"
         ],
         "xaxis": "x",
         "y": [
          0.4,
          0.45,
          0.45,
          0.45,
          0.45
         ],
         "yaxis": "y"
        },
        {
         "hovertemplate": "Subject=Art and Design (Expressive)<br>Grades=upA<br>Year=%{x}<br>Percentage=%{y}<extra></extra>",
         "legendgroup": "Art and Design (Expressive)",
         "line": {
          "color": "#00cc96",
          "dash": "solid"
         },
         "marker": {
          "symbol": "circle"
         },
         "mode": "markers+lines",
         "name": "Art and Design (Expressive)",
         "orientation": "v",
         "showlegend": true,
         "type": "scatter",
         "x": [
          "2022",
          "2019",
          "2018",
          "2017",
          "2016"
         ],
         "xaxis": "x5",
         "y": [
          0.85,
          0.85,
          0.85,
          0.85,
          0.85
         ],
         "yaxis": "y5"
        },
        {
         "hovertemplate": "Subject=Art and Design (Expressive)<br>Grades=A<br>Year=%{x}<br>Percentage=%{y}<extra></extra>",
         "legendgroup": "Art and Design (Expressive)",
         "line": {
          "color": "#00cc96",
          "dash": "solid"
         },
         "marker": {
          "symbol": "circle"
         },
         "mode": "markers+lines",
         "name": "Art and Design (Expressive)",
         "orientation": "v",
         "showlegend": false,
         "type": "scatter",
         "x": [
          "2022",
          "2019",
          "2018",
          "2017",
          "2016"
         ],
         "xaxis": "x4",
         "y": [
          0.7,
          0.7,
          0.7,
          0.7,
          0.7
         ],
         "yaxis": "y4"
        },
        {
         "hovertemplate": "Subject=Art and Design (Expressive)<br>Grades=B<br>Year=%{x}<br>Percentage=%{y}<extra></extra>",
         "legendgroup": "Art and Design (Expressive)",
         "line": {
          "color": "#00cc96",
          "dash": "solid"
         },
         "marker": {
          "symbol": "circle"
         },
         "mode": "markers+lines",
         "name": "Art and Design (Expressive)",
         "orientation": "v",
         "showlegend": false,
         "type": "scatter",
         "x": [
          "2022",
          "2019",
          "2018",
          "2017",
          "2016"
         ],
         "xaxis": "x3",
         "y": [
          0.59,
          0.6,
          0.6,
          0.6,
          0.6
         ],
         "yaxis": "y3"
        },
        {
         "hovertemplate": "Subject=Art and Design (Expressive)<br>Grades=C<br>Year=%{x}<br>Percentage=%{y}<extra></extra>",
         "legendgroup": "Art and Design (Expressive)",
         "line": {
          "color": "#00cc96",
          "dash": "solid"
         },
         "marker": {
          "symbol": "circle"
         },
         "mode": "markers+lines",
         "name": "Art and Design (Expressive)",
         "orientation": "v",
         "showlegend": false,
         "type": "scatter",
         "x": [
          "2022",
          "2019",
          "2018",
          "2017",
          "2016"
         ],
         "xaxis": "x2",
         "y": [
          0.48,
          0.5,
          0.5,
          0.5,
          0.5
         ],
         "yaxis": "y2"
        },
        {
         "hovertemplate": "Subject=Art and Design (Expressive)<br>Grades=D<br>Year=%{x}<br>Percentage=%{y}<extra></extra>",
         "legendgroup": "Art and Design (Expressive)",
         "line": {
          "color": "#00cc96",
          "dash": "solid"
         },
         "marker": {
          "symbol": "circle"
         },
         "mode": "markers+lines",
         "name": "Art and Design (Expressive)",
         "orientation": "v",
         "showlegend": false,
         "type": "scatter",
         "x": [
          "2022",
          "2019",
          "2018",
          "2017",
          "2016"
         ],
         "xaxis": "x",
         "y": [
          0.37,
          0.45,
          0.45,
          0.45,
          0.45
         ],
         "yaxis": "y"
        },
        {
         "hovertemplate": "Subject=Biology<br>Grades=upA<br>Year=%{x}<br>Percentage=%{y}<extra></extra>",
         "legendgroup": "Biology",
         "line": {
          "color": "#ab63fa",
          "dash": "solid"
         },
         "marker": {
          "symbol": "circle"
         },
         "mode": "markers+lines",
         "name": "Biology",
         "orientation": "v",
         "showlegend": true,
         "type": "scatter",
         "x": [
          "2022",
          "2019",
          "2018",
          "2017",
          "2016"
         ],
         "xaxis": "x5",
         "y": [
          0.75,
          0.78,
          0.78,
          0.76,
          0.77
         ],
         "yaxis": "y5"
        },
        {
         "hovertemplate": "Subject=Biology<br>Grades=A<br>Year=%{x}<br>Percentage=%{y}<extra></extra>",
         "legendgroup": "Biology",
         "line": {
          "color": "#ab63fa",
          "dash": "solid"
         },
         "marker": {
          "symbol": "circle"
         },
         "mode": "markers+lines",
         "name": "Biology",
         "orientation": "v",
         "showlegend": false,
         "type": "scatter",
         "x": [
          "2022",
          "2019",
          "2018",
          "2017",
          "2016"
         ],
         "xaxis": "x4",
         "y": [
          0.6,
          0.62,
          0.63,
          0.6,
          0.66
         ],
         "yaxis": "y4"
        },
        {
         "hovertemplate": "Subject=Biology<br>Grades=B<br>Year=%{x}<br>Percentage=%{y}<extra></extra>",
         "legendgroup": "Biology",
         "line": {
          "color": "#ab63fa",
          "dash": "solid"
         },
         "marker": {
          "symbol": "circle"
         },
         "mode": "markers+lines",
         "name": "Biology",
         "orientation": "v",
         "showlegend": false,
         "type": "scatter",
         "x": [
          "2022",
          "2019",
          "2018",
          "2017",
          "2016"
         ],
         "xaxis": "x3",
         "y": [
          0.48,
          0.53,
          0.54,
          0.51,
          0.57
         ],
         "yaxis": "y3"
        },
        {
         "hovertemplate": "Subject=Biology<br>Grades=C<br>Year=%{x}<br>Percentage=%{y}<extra></extra>",
         "legendgroup": "Biology",
         "line": {
          "color": "#ab63fa",
          "dash": "solid"
         },
         "marker": {
          "symbol": "circle"
         },
         "mode": "markers+lines",
         "name": "Biology",
         "orientation": "v",
         "showlegend": false,
         "type": "scatter",
         "x": [
          "2022",
          "2019",
          "2018",
          "2017",
          "2016"
         ],
         "xaxis": "x2",
         "y": [
          0.37,
          0.44,
          0.45,
          0.42,
          0.48
         ],
         "yaxis": "y2"
        },
        {
         "hovertemplate": "Subject=Biology<br>Grades=D<br>Year=%{x}<br>Percentage=%{y}<extra></extra>",
         "legendgroup": "Biology",
         "line": {
          "color": "#ab63fa",
          "dash": "solid"
         },
         "marker": {
          "symbol": "circle"
         },
         "mode": "markers+lines",
         "name": "Biology",
         "orientation": "v",
         "showlegend": false,
         "type": "scatter",
         "x": [
          "2022",
          "2019",
          "2018",
          "2017",
          "2016"
         ],
         "xaxis": "x",
         "y": [
          0.25,
          0.39,
          0.4,
          0.37,
          0.42
         ],
         "yaxis": "y"
        },
        {
         "hovertemplate": "Subject=Business Management<br>Grades=upA<br>Year=%{x}<br>Percentage=%{y}<extra></extra>",
         "legendgroup": "Business Management",
         "line": {
          "color": "#FFA15A",
          "dash": "solid"
         },
         "marker": {
          "symbol": "circle"
         },
         "mode": "markers+lines",
         "name": "Business Management",
         "orientation": "v",
         "showlegend": true,
         "type": "scatter",
         "x": [
          "2022",
          "2019",
          "2018",
          "2017",
          "2016"
         ],
         "xaxis": "x5",
         "y": [
          0.78,
          0.83,
          0.84,
          0.88,
          0.85
         ],
         "yaxis": "y5"
        },
        {
         "hovertemplate": "Subject=Business Management<br>Grades=A<br>Year=%{x}<br>Percentage=%{y}<extra></extra>",
         "legendgroup": "Business Management",
         "line": {
          "color": "#FFA15A",
          "dash": "solid"
         },
         "marker": {
          "symbol": "circle"
         },
         "mode": "markers+lines",
         "name": "Business Management",
         "orientation": "v",
         "showlegend": false,
         "type": "scatter",
         "x": [
          "2022",
          "2019",
          "2018",
          "2017",
          "2016"
         ],
         "xaxis": "x4",
         "y": [
          0.63,
          0.68,
          0.69,
          0.72,
          0.7
         ],
         "yaxis": "y4"
        },
        {
         "hovertemplate": "Subject=Business Management<br>Grades=B<br>Year=%{x}<br>Percentage=%{y}<extra></extra>",
         "legendgroup": "Business Management",
         "line": {
          "color": "#FFA15A",
          "dash": "solid"
         },
         "marker": {
          "symbol": "circle"
         },
         "mode": "markers+lines",
         "name": "Business Management",
         "orientation": "v",
         "showlegend": false,
         "type": "scatter",
         "x": [
          "2022",
          "2019",
          "2018",
          "2017",
          "2016"
         ],
         "xaxis": "x3",
         "y": [
          0.52,
          0.57,
          0.59,
          0.62,
          0.6
         ],
         "yaxis": "y3"
        },
        {
         "hovertemplate": "Subject=Business Management<br>Grades=C<br>Year=%{x}<br>Percentage=%{y}<extra></extra>",
         "legendgroup": "Business Management",
         "line": {
          "color": "#FFA15A",
          "dash": "solid"
         },
         "marker": {
          "symbol": "circle"
         },
         "mode": "markers+lines",
         "name": "Business Management",
         "orientation": "v",
         "showlegend": false,
         "type": "scatter",
         "x": [
          "2022",
          "2019",
          "2018",
          "2017",
          "2016"
         ],
         "xaxis": "x2",
         "y": [
          0.4,
          0.47,
          0.5,
          0.52,
          0.5
         ],
         "yaxis": "y2"
        },
        {
         "hovertemplate": "Subject=Business Management<br>Grades=D<br>Year=%{x}<br>Percentage=%{y}<extra></extra>",
         "legendgroup": "Business Management",
         "line": {
          "color": "#FFA15A",
          "dash": "solid"
         },
         "marker": {
          "symbol": "circle"
         },
         "mode": "markers+lines",
         "name": "Business Management",
         "orientation": "v",
         "showlegend": false,
         "type": "scatter",
         "x": [
          "2022",
          "2019",
          "2018",
          "2017",
          "2016"
         ],
         "xaxis": "x",
         "y": [
          0.28,
          0.41,
          0.45,
          0.48,
          0.45
         ],
         "yaxis": "y"
        },
        {
         "hovertemplate": "Subject=Chemistry<br>Grades=upA<br>Year=%{x}<br>Percentage=%{y}<extra></extra>",
         "legendgroup": "Chemistry",
         "line": {
          "color": "#19d3f3",
          "dash": "solid"
         },
         "marker": {
          "symbol": "circle"
         },
         "mode": "markers+lines",
         "name": "Chemistry",
         "orientation": "v",
         "showlegend": true,
         "type": "scatter",
         "x": [
          "2022",
          "2019",
          "2018",
          "2017",
          "2016"
         ],
         "xaxis": "x5",
         "y": [
          0.81,
          0.84,
          0.84,
          0.84,
          0.85
         ],
         "yaxis": "y5"
        },
        {
         "hovertemplate": "Subject=Chemistry<br>Grades=A<br>Year=%{x}<br>Percentage=%{y}<extra></extra>",
         "legendgroup": "Chemistry",
         "line": {
          "color": "#19d3f3",
          "dash": "solid"
         },
         "marker": {
          "symbol": "circle"
         },
         "mode": "markers+lines",
         "name": "Chemistry",
         "orientation": "v",
         "showlegend": false,
         "type": "scatter",
         "x": [
          "2022",
          "2019",
          "2018",
          "2017",
          "2016"
         ],
         "xaxis": "x4",
         "y": [
          0.64,
          0.69,
          0.68,
          0.68,
          0.7
         ],
         "yaxis": "y4"
        },
        {
         "hovertemplate": "Subject=Chemistry<br>Grades=B<br>Year=%{x}<br>Percentage=%{y}<extra></extra>",
         "legendgroup": "Chemistry",
         "line": {
          "color": "#19d3f3",
          "dash": "solid"
         },
         "marker": {
          "symbol": "circle"
         },
         "mode": "markers+lines",
         "name": "Chemistry",
         "orientation": "v",
         "showlegend": false,
         "type": "scatter",
         "x": [
          "2022",
          "2019",
          "2018",
          "2017",
          "2016"
         ],
         "xaxis": "x3",
         "y": [
          0.52,
          0.59,
          0.56,
          0.58,
          0.6
         ],
         "yaxis": "y3"
        },
        {
         "hovertemplate": "Subject=Chemistry<br>Grades=C<br>Year=%{x}<br>Percentage=%{y}<extra></extra>",
         "legendgroup": "Chemistry",
         "line": {
          "color": "#19d3f3",
          "dash": "solid"
         },
         "marker": {
          "symbol": "circle"
         },
         "mode": "markers+lines",
         "name": "Chemistry",
         "orientation": "v",
         "showlegend": false,
         "type": "scatter",
         "x": [
          "2022",
          "2019",
          "2018",
          "2017",
          "2016"
         ],
         "xaxis": "x2",
         "y": [
          0.4,
          0.49,
          0.45,
          0.48,
          0.5
         ],
         "yaxis": "y2"
        },
        {
         "hovertemplate": "Subject=Chemistry<br>Grades=D<br>Year=%{x}<br>Percentage=%{y}<extra></extra>",
         "legendgroup": "Chemistry",
         "line": {
          "color": "#19d3f3",
          "dash": "solid"
         },
         "marker": {
          "symbol": "circle"
         },
         "mode": "markers+lines",
         "name": "Chemistry",
         "orientation": "v",
         "showlegend": false,
         "type": "scatter",
         "x": [
          "2022",
          "2019",
          "2018",
          "2017",
          "2016"
         ],
         "xaxis": "x",
         "y": [
          0.28,
          0.44,
          0.4,
          0.43,
          0.45
         ],
         "yaxis": "y"
        },
        {
         "hovertemplate": "Subject=Chinese Languages<br>Grades=upA<br>Year=%{x}<br>Percentage=%{y}<extra></extra>",
         "legendgroup": "Chinese Languages",
         "line": {
          "color": "#FF6692",
          "dash": "solid"
         },
         "marker": {
          "symbol": "circle"
         },
         "mode": "markers+lines",
         "name": "Chinese Languages",
         "orientation": "v",
         "showlegend": true,
         "type": "scatter",
         "x": [
          "2022",
          "2019",
          "2018",
          "2017",
          "2016"
         ],
         "xaxis": "x5",
         "y": [
          0.83,
          0.85,
          0.85,
          0.85,
          0.85
         ],
         "yaxis": "y5"
        },
        {
         "hovertemplate": "Subject=Chinese Languages<br>Grades=A<br>Year=%{x}<br>Percentage=%{y}<extra></extra>",
         "legendgroup": "Chinese Languages",
         "line": {
          "color": "#FF6692",
          "dash": "solid"
         },
         "marker": {
          "symbol": "circle"
         },
         "mode": "markers+lines",
         "name": "Chinese Languages",
         "orientation": "v",
         "showlegend": false,
         "type": "scatter",
         "x": [
          "2022",
          "2019",
          "2018",
          "2017",
          "2016"
         ],
         "xaxis": "x4",
         "y": [
          0.68,
          0.7,
          0.7,
          0.7,
          0.7
         ],
         "yaxis": "y4"
        },
        {
         "hovertemplate": "Subject=Chinese Languages<br>Grades=B<br>Year=%{x}<br>Percentage=%{y}<extra></extra>",
         "legendgroup": "Chinese Languages",
         "line": {
          "color": "#FF6692",
          "dash": "solid"
         },
         "marker": {
          "symbol": "circle"
         },
         "mode": "markers+lines",
         "name": "Chinese Languages",
         "orientation": "v",
         "showlegend": false,
         "type": "scatter",
         "x": [
          "2022",
          "2019",
          "2018",
          "2017",
          "2016"
         ],
         "xaxis": "x3",
         "y": [
          0.58,
          0.6,
          0.6,
          0.6,
          0.6
         ],
         "yaxis": "y3"
        },
        {
         "hovertemplate": "Subject=Chinese Languages<br>Grades=C<br>Year=%{x}<br>Percentage=%{y}<extra></extra>",
         "legendgroup": "Chinese Languages",
         "line": {
          "color": "#FF6692",
          "dash": "solid"
         },
         "marker": {
          "symbol": "circle"
         },
         "mode": "markers+lines",
         "name": "Chinese Languages",
         "orientation": "v",
         "showlegend": false,
         "type": "scatter",
         "x": [
          "2022",
          "2019",
          "2018",
          "2017",
          "2016"
         ],
         "xaxis": "x2",
         "y": [
          0.48,
          0.5,
          0.5,
          0.5,
          0.5
         ],
         "yaxis": "y2"
        },
        {
         "hovertemplate": "Subject=Chinese Languages<br>Grades=D<br>Year=%{x}<br>Percentage=%{y}<extra></extra>",
         "legendgroup": "Chinese Languages",
         "line": {
          "color": "#FF6692",
          "dash": "solid"
         },
         "marker": {
          "symbol": "circle"
         },
         "mode": "markers+lines",
         "name": "Chinese Languages",
         "orientation": "v",
         "showlegend": false,
         "type": "scatter",
         "x": [
          "2022",
          "2019",
          "2018",
          "2017",
          "2016"
         ],
         "xaxis": "x",
         "y": [
          0.38,
          0.45,
          0.45,
          0.45,
          0.45
         ],
         "yaxis": "y"
        },
        {
         "hovertemplate": "Subject=Classical Studies<br>Grades=upA<br>Year=%{x}<br>Percentage=%{y}<extra></extra>",
         "legendgroup": "Classical Studies",
         "line": {
          "color": "#B6E880",
          "dash": "solid"
         },
         "marker": {
          "symbol": "circle"
         },
         "mode": "markers+lines",
         "name": "Classical Studies",
         "orientation": "v",
         "showlegend": true,
         "type": "scatter",
         "x": [
          "2022",
          "2019",
          "2018",
          "2017",
          "2016"
         ],
         "xaxis": "x5",
         "y": [
          0.85,
          0.85,
          0.85,
          0.85,
          0.85
         ],
         "yaxis": "y5"
        },
        {
         "hovertemplate": "Subject=Classical Studies<br>Grades=A<br>Year=%{x}<br>Percentage=%{y}<extra></extra>",
         "legendgroup": "Classical Studies",
         "line": {
          "color": "#B6E880",
          "dash": "solid"
         },
         "marker": {
          "symbol": "circle"
         },
         "mode": "markers+lines",
         "name": "Classical Studies",
         "orientation": "v",
         "showlegend": false,
         "type": "scatter",
         "x": [
          "2022",
          "2019",
          "2018",
          "2017",
          "2016"
         ],
         "xaxis": "x4",
         "y": [
          0.7,
          0.7,
          0.7,
          0.7,
          0.7
         ],
         "yaxis": "y4"
        },
        {
         "hovertemplate": "Subject=Classical Studies<br>Grades=B<br>Year=%{x}<br>Percentage=%{y}<extra></extra>",
         "legendgroup": "Classical Studies",
         "line": {
          "color": "#B6E880",
          "dash": "solid"
         },
         "marker": {
          "symbol": "circle"
         },
         "mode": "markers+lines",
         "name": "Classical Studies",
         "orientation": "v",
         "showlegend": false,
         "type": "scatter",
         "x": [
          "2022",
          "2019",
          "2018",
          "2017",
          "2016"
         ],
         "xaxis": "x3",
         "y": [
          0.58,
          0.6,
          0.6,
          0.6,
          0.6
         ],
         "yaxis": "y3"
        },
        {
         "hovertemplate": "Subject=Classical Studies<br>Grades=C<br>Year=%{x}<br>Percentage=%{y}<extra></extra>",
         "legendgroup": "Classical Studies",
         "line": {
          "color": "#B6E880",
          "dash": "solid"
         },
         "marker": {
          "symbol": "circle"
         },
         "mode": "markers+lines",
         "name": "Classical Studies",
         "orientation": "v",
         "showlegend": false,
         "type": "scatter",
         "x": [
          "2022",
          "2019",
          "2018",
          "2017",
          "2016"
         ],
         "xaxis": "x2",
         "y": [
          0.47,
          0.5,
          0.5,
          0.5,
          0.5
         ],
         "yaxis": "y2"
        },
        {
         "hovertemplate": "Subject=Classical Studies<br>Grades=D<br>Year=%{x}<br>Percentage=%{y}<extra></extra>",
         "legendgroup": "Classical Studies",
         "line": {
          "color": "#B6E880",
          "dash": "solid"
         },
         "marker": {
          "symbol": "circle"
         },
         "mode": "markers+lines",
         "name": "Classical Studies",
         "orientation": "v",
         "showlegend": false,
         "type": "scatter",
         "x": [
          "2022",
          "2019",
          "2018",
          "2017",
          "2016"
         ],
         "xaxis": "x",
         "y": [
          0.35,
          0.45,
          0.45,
          0.45,
          0.45
         ],
         "yaxis": "y"
        },
        {
         "hovertemplate": "Subject=Computing Science<br>Grades=upA<br>Year=%{x}<br>Percentage=%{y}<extra></extra>",
         "legendgroup": "Computing Science",
         "line": {
          "color": "#FF97FF",
          "dash": "solid"
         },
         "marker": {
          "symbol": "circle"
         },
         "mode": "markers+lines",
         "name": "Computing Science",
         "orientation": "v",
         "showlegend": true,
         "type": "scatter",
         "x": [
          "2022",
          "2019",
          "2018",
          "2017",
          "2016"
         ],
         "xaxis": "x5",
         "y": [
          0.85,
          0.82,
          0.9,
          0.91,
          0.85
         ],
         "yaxis": "y5"
        },
        {
         "hovertemplate": "Subject=Computing Science<br>Grades=A<br>Year=%{x}<br>Percentage=%{y}<extra></extra>",
         "legendgroup": "Computing Science",
         "line": {
          "color": "#FF97FF",
          "dash": "solid"
         },
         "marker": {
          "symbol": "circle"
         },
         "mode": "markers+lines",
         "name": "Computing Science",
         "orientation": "v",
         "showlegend": false,
         "type": "scatter",
         "x": [
          "2022",
          "2019",
          "2018",
          "2017",
          "2016"
         ],
         "xaxis": "x4",
         "y": [
          0.7,
          0.67,
          0.75,
          0.77,
          0.7
         ],
         "yaxis": "y4"
        },
        {
         "hovertemplate": "Subject=Computing Science<br>Grades=B<br>Year=%{x}<br>Percentage=%{y}<extra></extra>",
         "legendgroup": "Computing Science",
         "line": {
          "color": "#FF97FF",
          "dash": "solid"
         },
         "marker": {
          "symbol": "circle"
         },
         "mode": "markers+lines",
         "name": "Computing Science",
         "orientation": "v",
         "showlegend": false,
         "type": "scatter",
         "x": [
          "2022",
          "2019",
          "2018",
          "2017",
          "2016"
         ],
         "xaxis": "x3",
         "y": [
          0.59,
          0.56,
          0.65,
          0.66,
          0.6
         ],
         "yaxis": "y3"
        },
        {
         "hovertemplate": "Subject=Computing Science<br>Grades=C<br>Year=%{x}<br>Percentage=%{y}<extra></extra>",
         "legendgroup": "Computing Science",
         "line": {
          "color": "#FF97FF",
          "dash": "solid"
         },
         "marker": {
          "symbol": "circle"
         },
         "mode": "markers+lines",
         "name": "Computing Science",
         "orientation": "v",
         "showlegend": false,
         "type": "scatter",
         "x": [
          "2022",
          "2019",
          "2018",
          "2017",
          "2016"
         ],
         "xaxis": "x2",
         "y": [
          0.48,
          0.45,
          0.55,
          0.56,
          0.5
         ],
         "yaxis": "y2"
        },
        {
         "hovertemplate": "Subject=Computing Science<br>Grades=D<br>Year=%{x}<br>Percentage=%{y}<extra></extra>",
         "legendgroup": "Computing Science",
         "line": {
          "color": "#FF97FF",
          "dash": "solid"
         },
         "marker": {
          "symbol": "circle"
         },
         "mode": "markers+lines",
         "name": "Computing Science",
         "orientation": "v",
         "showlegend": false,
         "type": "scatter",
         "x": [
          "2022",
          "2019",
          "2018",
          "2017",
          "2016"
         ],
         "xaxis": "x",
         "y": [
          0.37,
          0.4,
          0.49,
          0.51,
          0.45
         ],
         "yaxis": "y"
        },
        {
         "hovertemplate": "Subject=Design and Manufacture<br>Grades=upA<br>Year=%{x}<br>Percentage=%{y}<extra></extra>",
         "legendgroup": "Design and Manufacture",
         "line": {
          "color": "#FECB52",
          "dash": "solid"
         },
         "marker": {
          "symbol": "circle"
         },
         "mode": "markers+lines",
         "name": "Design and Manufacture",
         "orientation": "v",
         "showlegend": true,
         "type": "scatter",
         "x": [
          "2022",
          "2019",
          "2018",
          "2017",
          "2016"
         ],
         "xaxis": "x5",
         "y": [
          0.79,
          0.86,
          0.88,
          0.92,
          0.88
         ],
         "yaxis": "y5"
        },
        {
         "hovertemplate": "Subject=Design and Manufacture<br>Grades=A<br>Year=%{x}<br>Percentage=%{y}<extra></extra>",
         "legendgroup": "Design and Manufacture",
         "line": {
          "color": "#FECB52",
          "dash": "solid"
         },
         "marker": {
          "symbol": "circle"
         },
         "mode": "markers+lines",
         "name": "Design and Manufacture",
         "orientation": "v",
         "showlegend": false,
         "type": "scatter",
         "x": [
          "2022",
          "2019",
          "2018",
          "2017",
          "2016"
         ],
         "xaxis": "x4",
         "y": [
          0.64,
          0.71,
          0.72,
          0.77,
          0.74
         ],
         "yaxis": "y4"
        },
        {
         "hovertemplate": "Subject=Design and Manufacture<br>Grades=B<br>Year=%{x}<br>Percentage=%{y}<extra></extra>",
         "legendgroup": "Design and Manufacture",
         "line": {
          "color": "#FECB52",
          "dash": "solid"
         },
         "marker": {
          "symbol": "circle"
         },
         "mode": "markers+lines",
         "name": "Design and Manufacture",
         "orientation": "v",
         "showlegend": false,
         "type": "scatter",
         "x": [
          "2022",
          "2019",
          "2018",
          "2017",
          "2016"
         ],
         "xaxis": "x3",
         "y": [
          0.52,
          0.61,
          0.62,
          0.67,
          0.64
         ],
         "yaxis": "y3"
        },
        {
         "hovertemplate": "Subject=Design and Manufacture<br>Grades=C<br>Year=%{x}<br>Percentage=%{y}<extra></extra>",
         "legendgroup": "Design and Manufacture",
         "line": {
          "color": "#FECB52",
          "dash": "solid"
         },
         "marker": {
          "symbol": "circle"
         },
         "mode": "markers+lines",
         "name": "Design and Manufacture",
         "orientation": "v",
         "showlegend": false,
         "type": "scatter",
         "x": [
          "2022",
          "2019",
          "2018",
          "2017",
          "2016"
         ],
         "xaxis": "x2",
         "y": [
          0.4,
          0.51,
          0.52,
          0.57,
          0.54
         ],
         "yaxis": "y2"
        },
        {
         "hovertemplate": "Subject=Design and Manufacture<br>Grades=D<br>Year=%{x}<br>Percentage=%{y}<extra></extra>",
         "legendgroup": "Design and Manufacture",
         "line": {
          "color": "#FECB52",
          "dash": "solid"
         },
         "marker": {
          "symbol": "circle"
         },
         "mode": "markers+lines",
         "name": "Design and Manufacture",
         "orientation": "v",
         "showlegend": false,
         "type": "scatter",
         "x": [
          "2022",
          "2019",
          "2018",
          "2017",
          "2016"
         ],
         "xaxis": "x",
         "y": [
          0.28,
          0.46,
          0.48,
          0.52,
          0.48
         ],
         "yaxis": "y"
        },
        {
         "hovertemplate": "Subject=Drama<br>Grades=upA<br>Year=%{x}<br>Percentage=%{y}<extra></extra>",
         "legendgroup": "Drama",
         "line": {
          "color": "#636efa",
          "dash": "solid"
         },
         "marker": {
          "symbol": "circle"
         },
         "mode": "markers+lines",
         "name": "Drama",
         "orientation": "v",
         "showlegend": true,
         "type": "scatter",
         "x": [
          "2022",
          "2019",
          "2018",
          "2017",
          "2016"
         ],
         "xaxis": "x5",
         "y": [
          0.84,
          0.85,
          0.85,
          0.85,
          0.85
         ],
         "yaxis": "y5"
        },
        {
         "hovertemplate": "Subject=Drama<br>Grades=A<br>Year=%{x}<br>Percentage=%{y}<extra></extra>",
         "legendgroup": "Drama",
         "line": {
          "color": "#636efa",
          "dash": "solid"
         },
         "marker": {
          "symbol": "circle"
         },
         "mode": "markers+lines",
         "name": "Drama",
         "orientation": "v",
         "showlegend": false,
         "type": "scatter",
         "x": [
          "2022",
          "2019",
          "2018",
          "2017",
          "2016"
         ],
         "xaxis": "x4",
         "y": [
          0.69,
          0.7,
          0.7,
          0.7,
          0.7
         ],
         "yaxis": "y4"
        },
        {
         "hovertemplate": "Subject=Drama<br>Grades=B<br>Year=%{x}<br>Percentage=%{y}<extra></extra>",
         "legendgroup": "Drama",
         "line": {
          "color": "#636efa",
          "dash": "solid"
         },
         "marker": {
          "symbol": "circle"
         },
         "mode": "markers+lines",
         "name": "Drama",
         "orientation": "v",
         "showlegend": false,
         "type": "scatter",
         "x": [
          "2022",
          "2019",
          "2018",
          "2017",
          "2016"
         ],
         "xaxis": "x3",
         "y": [
          0.57,
          0.6,
          0.6,
          0.6,
          0.6
         ],
         "yaxis": "y3"
        },
        {
         "hovertemplate": "Subject=Drama<br>Grades=C<br>Year=%{x}<br>Percentage=%{y}<extra></extra>",
         "legendgroup": "Drama",
         "line": {
          "color": "#636efa",
          "dash": "solid"
         },
         "marker": {
          "symbol": "circle"
         },
         "mode": "markers+lines",
         "name": "Drama",
         "orientation": "v",
         "showlegend": false,
         "type": "scatter",
         "x": [
          "2022",
          "2019",
          "2018",
          "2017",
          "2016"
         ],
         "xaxis": "x2",
         "y": [
          0.46,
          0.5,
          0.5,
          0.5,
          0.5
         ],
         "yaxis": "y2"
        },
        {
         "hovertemplate": "Subject=Drama<br>Grades=D<br>Year=%{x}<br>Percentage=%{y}<extra></extra>",
         "legendgroup": "Drama",
         "line": {
          "color": "#636efa",
          "dash": "solid"
         },
         "marker": {
          "symbol": "circle"
         },
         "mode": "markers+lines",
         "name": "Drama",
         "orientation": "v",
         "showlegend": false,
         "type": "scatter",
         "x": [
          "2022",
          "2019",
          "2018",
          "2017",
          "2016"
         ],
         "xaxis": "x",
         "y": [
          0.34,
          0.45,
          0.45,
          0.45,
          0.45
         ],
         "yaxis": "y"
        },
        {
         "hovertemplate": "Subject=Economics<br>Grades=upA<br>Year=%{x}<br>Percentage=%{y}<extra></extra>",
         "legendgroup": "Economics",
         "line": {
          "color": "#EF553B",
          "dash": "solid"
         },
         "marker": {
          "symbol": "circle"
         },
         "mode": "markers+lines",
         "name": "Economics",
         "orientation": "v",
         "showlegend": true,
         "type": "scatter",
         "x": [
          "2022",
          "2019",
          "2018",
          "2017",
          "2016"
         ],
         "xaxis": "x5",
         "y": [
          0.81,
          0.85,
          0.85,
          0.85,
          0.85
         ],
         "yaxis": "y5"
        },
        {
         "hovertemplate": "Subject=Economics<br>Grades=A<br>Year=%{x}<br>Percentage=%{y}<extra></extra>",
         "legendgroup": "Economics",
         "line": {
          "color": "#EF553B",
          "dash": "solid"
         },
         "marker": {
          "symbol": "circle"
         },
         "mode": "markers+lines",
         "name": "Economics",
         "orientation": "v",
         "showlegend": false,
         "type": "scatter",
         "x": [
          "2022",
          "2019",
          "2018",
          "2017",
          "2016"
         ],
         "xaxis": "x4",
         "y": [
          0.66,
          0.7,
          0.7,
          0.7,
          0.7
         ],
         "yaxis": "y4"
        },
        {
         "hovertemplate": "Subject=Economics<br>Grades=B<br>Year=%{x}<br>Percentage=%{y}<extra></extra>",
         "legendgroup": "Economics",
         "line": {
          "color": "#EF553B",
          "dash": "solid"
         },
         "marker": {
          "symbol": "circle"
         },
         "mode": "markers+lines",
         "name": "Economics",
         "orientation": "v",
         "showlegend": false,
         "type": "scatter",
         "x": [
          "2022",
          "2019",
          "2018",
          "2017",
          "2016"
         ],
         "xaxis": "x3",
         "y": [
          0.56,
          0.6,
          0.6,
          0.6,
          0.6
         ],
         "yaxis": "y3"
        },
        {
         "hovertemplate": "Subject=Economics<br>Grades=C<br>Year=%{x}<br>Percentage=%{y}<extra></extra>",
         "legendgroup": "Economics",
         "line": {
          "color": "#EF553B",
          "dash": "solid"
         },
         "marker": {
          "symbol": "circle"
         },
         "mode": "markers+lines",
         "name": "Economics",
         "orientation": "v",
         "showlegend": false,
         "type": "scatter",
         "x": [
          "2022",
          "2019",
          "2018",
          "2017",
          "2016"
         ],
         "xaxis": "x2",
         "y": [
          0.46,
          0.5,
          0.5,
          0.5,
          0.5
         ],
         "yaxis": "y2"
        },
        {
         "hovertemplate": "Subject=Economics<br>Grades=D<br>Year=%{x}<br>Percentage=%{y}<extra></extra>",
         "legendgroup": "Economics",
         "line": {
          "color": "#EF553B",
          "dash": "solid"
         },
         "marker": {
          "symbol": "circle"
         },
         "mode": "markers+lines",
         "name": "Economics",
         "orientation": "v",
         "showlegend": false,
         "type": "scatter",
         "x": [
          "2022",
          "2019",
          "2018",
          "2017",
          "2016"
         ],
         "xaxis": "x",
         "y": [
          0.36,
          0.45,
          0.45,
          0.45,
          0.45
         ],
         "yaxis": "y"
        },
        {
         "hovertemplate": "Subject=Engineering Science<br>Grades=upA<br>Year=%{x}<br>Percentage=%{y}<extra></extra>",
         "legendgroup": "Engineering Science",
         "line": {
          "color": "#00cc96",
          "dash": "solid"
         },
         "marker": {
          "symbol": "circle"
         },
         "mode": "markers+lines",
         "name": "Engineering Science",
         "orientation": "v",
         "showlegend": true,
         "type": "scatter",
         "x": [
          "2022",
          "2019",
          "2018",
          "2017",
          "2016"
         ],
         "xaxis": "x5",
         "y": [
          0.72,
          0.83,
          0.85,
          0.87,
          0.85
         ],
         "yaxis": "y5"
        },
        {
         "hovertemplate": "Subject=Engineering Science<br>Grades=A<br>Year=%{x}<br>Percentage=%{y}<extra></extra>",
         "legendgroup": "Engineering Science",
         "line": {
          "color": "#00cc96",
          "dash": "solid"
         },
         "marker": {
          "symbol": "circle"
         },
         "mode": "markers+lines",
         "name": "Engineering Science",
         "orientation": "v",
         "showlegend": false,
         "type": "scatter",
         "x": [
          "2022",
          "2019",
          "2018",
          "2017",
          "2016"
         ],
         "xaxis": "x4",
         "y": [
          0.55,
          0.69,
          0.7,
          0.73,
          0.7
         ],
         "yaxis": "y4"
        },
        {
         "hovertemplate": "Subject=Engineering Science<br>Grades=B<br>Year=%{x}<br>Percentage=%{y}<extra></extra>",
         "legendgroup": "Engineering Science",
         "line": {
          "color": "#00cc96",
          "dash": "solid"
         },
         "marker": {
          "symbol": "circle"
         },
         "mode": "markers+lines",
         "name": "Engineering Science",
         "orientation": "v",
         "showlegend": false,
         "type": "scatter",
         "x": [
          "2022",
          "2019",
          "2018",
          "2017",
          "2016"
         ],
         "xaxis": "x3",
         "y": [
          0.44,
          0.59,
          0.6,
          0.63,
          0.6
         ],
         "yaxis": "y3"
        },
        {
         "hovertemplate": "Subject=Engineering Science<br>Grades=C<br>Year=%{x}<br>Percentage=%{y}<extra></extra>",
         "legendgroup": "Engineering Science",
         "line": {
          "color": "#00cc96",
          "dash": "solid"
         },
         "marker": {
          "symbol": "circle"
         },
         "mode": "markers+lines",
         "name": "Engineering Science",
         "orientation": "v",
         "showlegend": false,
         "type": "scatter",
         "x": [
          "2022",
          "2019",
          "2018",
          "2017",
          "2016"
         ],
         "xaxis": "x2",
         "y": [
          0.33,
          0.49,
          0.5,
          0.53,
          0.5
         ],
         "yaxis": "y2"
        },
        {
         "hovertemplate": "Subject=Engineering Science<br>Grades=D<br>Year=%{x}<br>Percentage=%{y}<extra></extra>",
         "legendgroup": "Engineering Science",
         "line": {
          "color": "#00cc96",
          "dash": "solid"
         },
         "marker": {
          "symbol": "circle"
         },
         "mode": "markers+lines",
         "name": "Engineering Science",
         "orientation": "v",
         "showlegend": false,
         "type": "scatter",
         "x": [
          "2022",
          "2019",
          "2018",
          "2017",
          "2016"
         ],
         "xaxis": "x",
         "y": [
          0.23,
          0.43,
          0.45,
          0.47,
          0.45
         ],
         "yaxis": "y"
        },
        {
         "hovertemplate": "Subject=English<br>Grades=upA<br>Year=%{x}<br>Percentage=%{y}<extra></extra>",
         "legendgroup": "English",
         "line": {
          "color": "#ab63fa",
          "dash": "solid"
         },
         "marker": {
          "symbol": "circle"
         },
         "mode": "markers+lines",
         "name": "English",
         "orientation": "v",
         "showlegend": true,
         "type": "scatter",
         "x": [
          "2022",
          "2019",
          "2018",
          "2017",
          "2016"
         ],
         "xaxis": "x5",
         "y": [
          0.78,
          0.78,
          0.79,
          0.78,
          0.79
         ],
         "yaxis": "y5"
        },
        {
         "hovertemplate": "Subject=English<br>Grades=A<br>Year=%{x}<br>Percentage=%{y}<extra></extra>",
         "legendgroup": "English",
         "line": {
          "color": "#ab63fa",
          "dash": "solid"
         },
         "marker": {
          "symbol": "circle"
         },
         "mode": "markers+lines",
         "name": "English",
         "orientation": "v",
         "showlegend": false,
         "type": "scatter",
         "x": [
          "2022",
          "2019",
          "2018",
          "2017",
          "2016"
         ],
         "xaxis": "x4",
         "y": [
          0.65,
          0.65,
          0.66,
          0.65,
          0.66
         ],
         "yaxis": "y4"
        },
        {
         "hovertemplate": "Subject=English<br>Grades=B<br>Year=%{x}<br>Percentage=%{y}<extra></extra>",
         "legendgroup": "English",
         "line": {
          "color": "#ab63fa",
          "dash": "solid"
         },
         "marker": {
          "symbol": "circle"
         },
         "mode": "markers+lines",
         "name": "English",
         "orientation": "v",
         "showlegend": false,
         "type": "scatter",
         "x": [
          "2022",
          "2019",
          "2018",
          "2017",
          "2016"
         ],
         "xaxis": "x3",
         "y": [
          0.55,
          0.56,
          0.57,
          0.56,
          0.57
         ],
         "yaxis": "y3"
        },
        {
         "hovertemplate": "Subject=English<br>Grades=C<br>Year=%{x}<br>Percentage=%{y}<extra></extra>",
         "legendgroup": "English",
         "line": {
          "color": "#ab63fa",
          "dash": "solid"
         },
         "marker": {
          "symbol": "circle"
         },
         "mode": "markers+lines",
         "name": "English",
         "orientation": "v",
         "showlegend": false,
         "type": "scatter",
         "x": [
          "2022",
          "2019",
          "2018",
          "2017",
          "2016"
         ],
         "xaxis": "x2",
         "y": [
          0.46,
          0.47,
          0.48,
          0.47,
          0.48
         ],
         "yaxis": "y2"
        },
        {
         "hovertemplate": "Subject=English<br>Grades=D<br>Year=%{x}<br>Percentage=%{y}<extra></extra>",
         "legendgroup": "English",
         "line": {
          "color": "#ab63fa",
          "dash": "solid"
         },
         "marker": {
          "symbol": "circle"
         },
         "mode": "markers+lines",
         "name": "English",
         "orientation": "v",
         "showlegend": false,
         "type": "scatter",
         "x": [
          "2022",
          "2019",
          "2018",
          "2017",
          "2016"
         ],
         "xaxis": "x",
         "y": [
          0.36,
          0.42,
          0.43,
          0.42,
          0.43
         ],
         "yaxis": "y"
        },
        {
         "hovertemplate": "Subject=French<br>Grades=upA<br>Year=%{x}<br>Percentage=%{y}<extra></extra>",
         "legendgroup": "French",
         "line": {
          "color": "#FFA15A",
          "dash": "solid"
         },
         "marker": {
          "symbol": "circle"
         },
         "mode": "markers+lines",
         "name": "French",
         "orientation": "v",
         "showlegend": true,
         "type": "scatter",
         "x": [
          "2022",
          "2019",
          "2018",
          "2017",
          "2016"
         ],
         "xaxis": "x5",
         "y": [
          0.83,
          0.84,
          0.87,
          0.84,
          0.85
         ],
         "yaxis": "y5"
        },
        {
         "hovertemplate": "Subject=French<br>Grades=A<br>Year=%{x}<br>Percentage=%{y}<extra></extra>",
         "legendgroup": "French",
         "line": {
          "color": "#FFA15A",
          "dash": "solid"
         },
         "marker": {
          "symbol": "circle"
         },
         "mode": "markers+lines",
         "name": "French",
         "orientation": "v",
         "showlegend": false,
         "type": "scatter",
         "x": [
          "2022",
          "2019",
          "2018",
          "2017",
          "2016"
         ],
         "xaxis": "x4",
         "y": [
          0.68,
          0.69,
          0.72,
          0.69,
          0.7
         ],
         "yaxis": "y4"
        },
        {
         "hovertemplate": "Subject=French<br>Grades=B<br>Year=%{x}<br>Percentage=%{y}<extra></extra>",
         "legendgroup": "French",
         "line": {
          "color": "#FFA15A",
          "dash": "solid"
         },
         "marker": {
          "symbol": "circle"
         },
         "mode": "markers+lines",
         "name": "French",
         "orientation": "v",
         "showlegend": false,
         "type": "scatter",
         "x": [
          "2022",
          "2019",
          "2018",
          "2017",
          "2016"
         ],
         "xaxis": "x3",
         "y": [
          0.58,
          0.59,
          0.62,
          0.59,
          0.6
         ],
         "yaxis": "y3"
        },
        {
         "hovertemplate": "Subject=French<br>Grades=C<br>Year=%{x}<br>Percentage=%{y}<extra></extra>",
         "legendgroup": "French",
         "line": {
          "color": "#FFA15A",
          "dash": "solid"
         },
         "marker": {
          "symbol": "circle"
         },
         "mode": "markers+lines",
         "name": "French",
         "orientation": "v",
         "showlegend": false,
         "type": "scatter",
         "x": [
          "2022",
          "2019",
          "2018",
          "2017",
          "2016"
         ],
         "xaxis": "x2",
         "y": [
          0.48,
          0.49,
          0.52,
          0.49,
          0.5
         ],
         "yaxis": "y2"
        },
        {
         "hovertemplate": "Subject=French<br>Grades=D<br>Year=%{x}<br>Percentage=%{y}<extra></extra>",
         "legendgroup": "French",
         "line": {
          "color": "#FFA15A",
          "dash": "solid"
         },
         "marker": {
          "symbol": "circle"
         },
         "mode": "markers+lines",
         "name": "French",
         "orientation": "v",
         "showlegend": false,
         "type": "scatter",
         "x": [
          "2022",
          "2019",
          "2018",
          "2017",
          "2016"
         ],
         "xaxis": "x",
         "y": [
          0.38,
          0.44,
          0.47,
          0.44,
          0.45
         ],
         "yaxis": "y"
        },
        {
         "hovertemplate": "Subject=Gaelic (Learners)<br>Grades=upA<br>Year=%{x}<br>Percentage=%{y}<extra></extra>",
         "legendgroup": "Gaelic (Learners)",
         "line": {
          "color": "#19d3f3",
          "dash": "solid"
         },
         "marker": {
          "symbol": "circle"
         },
         "mode": "markers+lines",
         "name": "Gaelic (Learners)",
         "orientation": "v",
         "showlegend": true,
         "type": "scatter",
         "x": [
          "2022",
          "2019",
          "2018",
          "2017",
          "2016"
         ],
         "xaxis": "x5",
         "y": [
          0.85,
          0.85,
          0.85,
          0.85,
          0.85
         ],
         "yaxis": "y5"
        },
        {
         "hovertemplate": "Subject=Gaelic (Learners)<br>Grades=A<br>Year=%{x}<br>Percentage=%{y}<extra></extra>",
         "legendgroup": "Gaelic (Learners)",
         "line": {
          "color": "#19d3f3",
          "dash": "solid"
         },
         "marker": {
          "symbol": "circle"
         },
         "mode": "markers+lines",
         "name": "Gaelic (Learners)",
         "orientation": "v",
         "showlegend": false,
         "type": "scatter",
         "x": [
          "2022",
          "2019",
          "2018",
          "2017",
          "2016"
         ],
         "xaxis": "x4",
         "y": [
          0.7,
          0.7,
          0.7,
          0.7,
          0.7
         ],
         "yaxis": "y4"
        },
        {
         "hovertemplate": "Subject=Gaelic (Learners)<br>Grades=B<br>Year=%{x}<br>Percentage=%{y}<extra></extra>",
         "legendgroup": "Gaelic (Learners)",
         "line": {
          "color": "#19d3f3",
          "dash": "solid"
         },
         "marker": {
          "symbol": "circle"
         },
         "mode": "markers+lines",
         "name": "Gaelic (Learners)",
         "orientation": "v",
         "showlegend": false,
         "type": "scatter",
         "x": [
          "2022",
          "2019",
          "2018",
          "2017",
          "2016"
         ],
         "xaxis": "x3",
         "y": [
          0.6,
          0.6,
          0.6,
          0.6,
          0.6
         ],
         "yaxis": "y3"
        },
        {
         "hovertemplate": "Subject=Gaelic (Learners)<br>Grades=C<br>Year=%{x}<br>Percentage=%{y}<extra></extra>",
         "legendgroup": "Gaelic (Learners)",
         "line": {
          "color": "#19d3f3",
          "dash": "solid"
         },
         "marker": {
          "symbol": "circle"
         },
         "mode": "markers+lines",
         "name": "Gaelic (Learners)",
         "orientation": "v",
         "showlegend": false,
         "type": "scatter",
         "x": [
          "2022",
          "2019",
          "2018",
          "2017",
          "2016"
         ],
         "xaxis": "x2",
         "y": [
          0.5,
          0.5,
          0.5,
          0.5,
          0.5
         ],
         "yaxis": "y2"
        },
        {
         "hovertemplate": "Subject=Gaelic (Learners)<br>Grades=D<br>Year=%{x}<br>Percentage=%{y}<extra></extra>",
         "legendgroup": "Gaelic (Learners)",
         "line": {
          "color": "#19d3f3",
          "dash": "solid"
         },
         "marker": {
          "symbol": "circle"
         },
         "mode": "markers+lines",
         "name": "Gaelic (Learners)",
         "orientation": "v",
         "showlegend": false,
         "type": "scatter",
         "x": [
          "2022",
          "2019",
          "2018",
          "2017",
          "2016"
         ],
         "xaxis": "x",
         "y": [
          0.4,
          0.45,
          0.45,
          0.45,
          0.45
         ],
         "yaxis": "y"
        },
        {
         "hovertemplate": "Subject=Geography<br>Grades=upA<br>Year=%{x}<br>Percentage=%{y}<extra></extra>",
         "legendgroup": "Geography",
         "line": {
          "color": "#FF6692",
          "dash": "solid"
         },
         "marker": {
          "symbol": "circle"
         },
         "mode": "markers+lines",
         "name": "Geography",
         "orientation": "v",
         "showlegend": true,
         "type": "scatter",
         "x": [
          "2022",
          "2019",
          "2018",
          "2017",
          "2016"
         ],
         "xaxis": "x5",
         "y": [
          0.82,
          0.85,
          0.85,
          0.82,
          0.77
         ],
         "yaxis": "y5"
        },
        {
         "hovertemplate": "Subject=Geography<br>Grades=A<br>Year=%{x}<br>Percentage=%{y}<extra></extra>",
         "legendgroup": "Geography",
         "line": {
          "color": "#FF6692",
          "dash": "solid"
         },
         "marker": {
          "symbol": "circle"
         },
         "mode": "markers+lines",
         "name": "Geography",
         "orientation": "v",
         "showlegend": false,
         "type": "scatter",
         "x": [
          "2022",
          "2019",
          "2018",
          "2017",
          "2016"
         ],
         "xaxis": "x4",
         "y": [
          0.65,
          0.7,
          0.7,
          0.67,
          0.62
         ],
         "yaxis": "y4"
        },
        {
         "hovertemplate": "Subject=Geography<br>Grades=B<br>Year=%{x}<br>Percentage=%{y}<extra></extra>",
         "legendgroup": "Geography",
         "line": {
          "color": "#FF6692",
          "dash": "solid"
         },
         "marker": {
          "symbol": "circle"
         },
         "mode": "markers+lines",
         "name": "Geography",
         "orientation": "v",
         "showlegend": false,
         "type": "scatter",
         "x": [
          "2022",
          "2019",
          "2018",
          "2017",
          "2016"
         ],
         "xaxis": "x3",
         "y": [
          0.53,
          0.59,
          0.59,
          0.56,
          0.51
         ],
         "yaxis": "y3"
        },
        {
         "hovertemplate": "Subject=Geography<br>Grades=C<br>Year=%{x}<br>Percentage=%{y}<extra></extra>",
         "legendgroup": "Geography",
         "line": {
          "color": "#FF6692",
          "dash": "solid"
         },
         "marker": {
          "symbol": "circle"
         },
         "mode": "markers+lines",
         "name": "Geography",
         "orientation": "v",
         "showlegend": false,
         "type": "scatter",
         "x": [
          "2022",
          "2019",
          "2018",
          "2017",
          "2016"
         ],
         "xaxis": "x2",
         "y": [
          0.41,
          0.48,
          0.49,
          0.45,
          0.4
         ],
         "yaxis": "y2"
        },
        {
         "hovertemplate": "Subject=Geography<br>Grades=D<br>Year=%{x}<br>Percentage=%{y}<extra></extra>",
         "legendgroup": "Geography",
         "line": {
          "color": "#FF6692",
          "dash": "solid"
         },
         "marker": {
          "symbol": "circle"
         },
         "mode": "markers+lines",
         "name": "Geography",
         "orientation": "v",
         "showlegend": false,
         "type": "scatter",
         "x": [
          "2022",
          "2019",
          "2018",
          "2017",
          "2016"
         ],
         "xaxis": "x",
         "y": [
          0.29,
          0.43,
          0.43,
          0.4,
          0.35
         ],
         "yaxis": "y"
        },
        {
         "hovertemplate": "Subject=German<br>Grades=upA<br>Year=%{x}<br>Percentage=%{y}<extra></extra>",
         "legendgroup": "German",
         "line": {
          "color": "#B6E880",
          "dash": "solid"
         },
         "marker": {
          "symbol": "circle"
         },
         "mode": "markers+lines",
         "name": "German",
         "orientation": "v",
         "showlegend": true,
         "type": "scatter",
         "x": [
          "2022",
          "2019",
          "2018",
          "2017",
          "2016"
         ],
         "xaxis": "x5",
         "y": [
          0.83,
          0.85,
          0.85,
          0.85,
          0.85
         ],
         "yaxis": "y5"
        },
        {
         "hovertemplate": "Subject=German<br>Grades=A<br>Year=%{x}<br>Percentage=%{y}<extra></extra>",
         "legendgroup": "German",
         "line": {
          "color": "#B6E880",
          "dash": "solid"
         },
         "marker": {
          "symbol": "circle"
         },
         "mode": "markers+lines",
         "name": "German",
         "orientation": "v",
         "showlegend": false,
         "type": "scatter",
         "x": [
          "2022",
          "2019",
          "2018",
          "2017",
          "2016"
         ],
         "xaxis": "x4",
         "y": [
          0.68,
          0.7,
          0.7,
          0.7,
          0.7
         ],
         "yaxis": "y4"
        },
        {
         "hovertemplate": "Subject=German<br>Grades=B<br>Year=%{x}<br>Percentage=%{y}<extra></extra>",
         "legendgroup": "German",
         "line": {
          "color": "#B6E880",
          "dash": "solid"
         },
         "marker": {
          "symbol": "circle"
         },
         "mode": "markers+lines",
         "name": "German",
         "orientation": "v",
         "showlegend": false,
         "type": "scatter",
         "x": [
          "2022",
          "2019",
          "2018",
          "2017",
          "2016"
         ],
         "xaxis": "x3",
         "y": [
          0.58,
          0.6,
          0.6,
          0.6,
          0.6
         ],
         "yaxis": "y3"
        },
        {
         "hovertemplate": "Subject=German<br>Grades=C<br>Year=%{x}<br>Percentage=%{y}<extra></extra>",
         "legendgroup": "German",
         "line": {
          "color": "#B6E880",
          "dash": "solid"
         },
         "marker": {
          "symbol": "circle"
         },
         "mode": "markers+lines",
         "name": "German",
         "orientation": "v",
         "showlegend": false,
         "type": "scatter",
         "x": [
          "2022",
          "2019",
          "2018",
          "2017",
          "2016"
         ],
         "xaxis": "x2",
         "y": [
          0.48,
          0.5,
          0.5,
          0.5,
          0.5
         ],
         "yaxis": "y2"
        },
        {
         "hovertemplate": "Subject=German<br>Grades=D<br>Year=%{x}<br>Percentage=%{y}<extra></extra>",
         "legendgroup": "German",
         "line": {
          "color": "#B6E880",
          "dash": "solid"
         },
         "marker": {
          "symbol": "circle"
         },
         "mode": "markers+lines",
         "name": "German",
         "orientation": "v",
         "showlegend": false,
         "type": "scatter",
         "x": [
          "2022",
          "2019",
          "2018",
          "2017",
          "2016"
         ],
         "xaxis": "x",
         "y": [
          0.38,
          0.45,
          0.45,
          0.45,
          0.45
         ],
         "yaxis": "y"
        },
        {
         "hovertemplate": "Subject=Graphic Communication<br>Grades=upA<br>Year=%{x}<br>Percentage=%{y}<extra></extra>",
         "legendgroup": "Graphic Communication",
         "line": {
          "color": "#FF97FF",
          "dash": "solid"
         },
         "marker": {
          "symbol": "circle"
         },
         "mode": "markers+lines",
         "name": "Graphic Communication",
         "orientation": "v",
         "showlegend": true,
         "type": "scatter",
         "x": [
          "2022",
          "2019",
          "2018",
          "2017",
          "2016"
         ],
         "xaxis": "x5",
         "y": [
          0.75,
          0.9,
          0.93,
          0.92,
          0.9
         ],
         "yaxis": "y5"
        },
        {
         "hovertemplate": "Subject=Graphic Communication<br>Grades=A<br>Year=%{x}<br>Percentage=%{y}<extra></extra>",
         "legendgroup": "Graphic Communication",
         "line": {
          "color": "#FF97FF",
          "dash": "solid"
         },
         "marker": {
          "symbol": "circle"
         },
         "mode": "markers+lines",
         "name": "Graphic Communication",
         "orientation": "v",
         "showlegend": false,
         "type": "scatter",
         "x": [
          "2022",
          "2019",
          "2018",
          "2017",
          "2016"
         ],
         "xaxis": "x4",
         "y": [
          0.6,
          0.74,
          0.78,
          0.76,
          0.75
         ],
         "yaxis": "y4"
        },
        {
         "hovertemplate": "Subject=Graphic Communication<br>Grades=B<br>Year=%{x}<br>Percentage=%{y}<extra></extra>",
         "legendgroup": "Graphic Communication",
         "line": {
          "color": "#FF97FF",
          "dash": "solid"
         },
         "marker": {
          "symbol": "circle"
         },
         "mode": "markers+lines",
         "name": "Graphic Communication",
         "orientation": "v",
         "showlegend": false,
         "type": "scatter",
         "x": [
          "2022",
          "2019",
          "2018",
          "2017",
          "2016"
         ],
         "xaxis": "x3",
         "y": [
          0.5,
          0.64,
          0.68,
          0.66,
          0.65
         ],
         "yaxis": "y3"
        },
        {
         "hovertemplate": "Subject=Graphic Communication<br>Grades=C<br>Year=%{x}<br>Percentage=%{y}<extra></extra>",
         "legendgroup": "Graphic Communication",
         "line": {
          "color": "#FF97FF",
          "dash": "solid"
         },
         "marker": {
          "symbol": "circle"
         },
         "mode": "markers+lines",
         "name": "Graphic Communication",
         "orientation": "v",
         "showlegend": false,
         "type": "scatter",
         "x": [
          "2022",
          "2019",
          "2018",
          "2017",
          "2016"
         ],
         "xaxis": "x2",
         "y": [
          0.4,
          0.55,
          0.58,
          0.56,
          0.55
         ],
         "yaxis": "y2"
        },
        {
         "hovertemplate": "Subject=Graphic Communication<br>Grades=D<br>Year=%{x}<br>Percentage=%{y}<extra></extra>",
         "legendgroup": "Graphic Communication",
         "line": {
          "color": "#FF97FF",
          "dash": "solid"
         },
         "marker": {
          "symbol": "circle"
         },
         "mode": "markers+lines",
         "name": "Graphic Communication",
         "orientation": "v",
         "showlegend": false,
         "type": "scatter",
         "x": [
          "2022",
          "2019",
          "2018",
          "2017",
          "2016"
         ],
         "xaxis": "x",
         "y": [
          0.3,
          0.5,
          0.53,
          0.52,
          0.5
         ],
         "yaxis": "y"
        },
        {
         "hovertemplate": "Subject=Gàidhlig<br>Grades=upA<br>Year=%{x}<br>Percentage=%{y}<extra></extra>",
         "legendgroup": "Gàidhlig",
         "line": {
          "color": "#FECB52",
          "dash": "solid"
         },
         "marker": {
          "symbol": "circle"
         },
         "mode": "markers+lines",
         "name": "Gàidhlig",
         "orientation": "v",
         "showlegend": true,
         "type": "scatter",
         "x": [
          "2022",
          "2019",
          "2018",
          "2017",
          "2016"
         ],
         "xaxis": "x5",
         "y": [
          0.85,
          0.85,
          0.85,
          0.85,
          0.85
         ],
         "yaxis": "y5"
        },
        {
         "hovertemplate": "Subject=Gàidhlig<br>Grades=A<br>Year=%{x}<br>Percentage=%{y}<extra></extra>",
         "legendgroup": "Gàidhlig",
         "line": {
          "color": "#FECB52",
          "dash": "solid"
         },
         "marker": {
          "symbol": "circle"
         },
         "mode": "markers+lines",
         "name": "Gàidhlig",
         "orientation": "v",
         "showlegend": false,
         "type": "scatter",
         "x": [
          "2022",
          "2019",
          "2018",
          "2017",
          "2016"
         ],
         "xaxis": "x4",
         "y": [
          0.7,
          0.7,
          0.7,
          0.7,
          0.7
         ],
         "yaxis": "y4"
        },
        {
         "hovertemplate": "Subject=Gàidhlig<br>Grades=B<br>Year=%{x}<br>Percentage=%{y}<extra></extra>",
         "legendgroup": "Gàidhlig",
         "line": {
          "color": "#FECB52",
          "dash": "solid"
         },
         "marker": {
          "symbol": "circle"
         },
         "mode": "markers+lines",
         "name": "Gàidhlig",
         "orientation": "v",
         "showlegend": false,
         "type": "scatter",
         "x": [
          "2022",
          "2019",
          "2018",
          "2017",
          "2016"
         ],
         "xaxis": "x3",
         "y": [
          0.59,
          0.6,
          0.6,
          0.6,
          0.6
         ],
         "yaxis": "y3"
        },
        {
         "hovertemplate": "Subject=Gàidhlig<br>Grades=C<br>Year=%{x}<br>Percentage=%{y}<extra></extra>",
         "legendgroup": "Gàidhlig",
         "line": {
          "color": "#FECB52",
          "dash": "solid"
         },
         "marker": {
          "symbol": "circle"
         },
         "mode": "markers+lines",
         "name": "Gàidhlig",
         "orientation": "v",
         "showlegend": false,
         "type": "scatter",
         "x": [
          "2022",
          "2019",
          "2018",
          "2017",
          "2016"
         ],
         "xaxis": "x2",
         "y": [
          0.5,
          0.5,
          0.5,
          0.5,
          0.5
         ],
         "yaxis": "y2"
        },
        {
         "hovertemplate": "Subject=Gàidhlig<br>Grades=D<br>Year=%{x}<br>Percentage=%{y}<extra></extra>",
         "legendgroup": "Gàidhlig",
         "line": {
          "color": "#FECB52",
          "dash": "solid"
         },
         "marker": {
          "symbol": "circle"
         },
         "mode": "markers+lines",
         "name": "Gàidhlig",
         "orientation": "v",
         "showlegend": false,
         "type": "scatter",
         "x": [
          "2022",
          "2019",
          "2018",
          "2017",
          "2016"
         ],
         "xaxis": "x",
         "y": [
          0.39,
          0.45,
          0.45,
          0.45,
          0.45
         ],
         "yaxis": "y"
        },
        {
         "hovertemplate": "Subject=Health and Food Technology<br>Grades=upA<br>Year=%{x}<br>Percentage=%{y}<extra></extra>",
         "legendgroup": "Health and Food Technology",
         "line": {
          "color": "#636efa",
          "dash": "solid"
         },
         "marker": {
          "symbol": "circle"
         },
         "mode": "markers+lines",
         "name": "Health and Food Technology",
         "orientation": "v",
         "showlegend": true,
         "type": "scatter",
         "x": [
          "2022",
          "2019",
          "2018",
          "2017",
          "2016"
         ],
         "xaxis": "x5",
         "y": [
          0.82,
          0.85,
          0.85,
          0.85,
          0.82
         ],
         "yaxis": "y5"
        },
        {
         "hovertemplate": "Subject=Health and Food Technology<br>Grades=A<br>Year=%{x}<br>Percentage=%{y}<extra></extra>",
         "legendgroup": "Health and Food Technology",
         "line": {
          "color": "#636efa",
          "dash": "solid"
         },
         "marker": {
          "symbol": "circle"
         },
         "mode": "markers+lines",
         "name": "Health and Food Technology",
         "orientation": "v",
         "showlegend": false,
         "type": "scatter",
         "x": [
          "2022",
          "2019",
          "2018",
          "2017",
          "2016"
         ],
         "xaxis": "x4",
         "y": [
          0.7,
          0.7,
          0.7,
          0.7,
          0.67
         ],
         "yaxis": "y4"
        },
        {
         "hovertemplate": "Subject=Health and Food Technology<br>Grades=B<br>Year=%{x}<br>Percentage=%{y}<extra></extra>",
         "legendgroup": "Health and Food Technology",
         "line": {
          "color": "#636efa",
          "dash": "solid"
         },
         "marker": {
          "symbol": "circle"
         },
         "mode": "markers+lines",
         "name": "Health and Food Technology",
         "orientation": "v",
         "showlegend": false,
         "type": "scatter",
         "x": [
          "2022",
          "2019",
          "2018",
          "2017",
          "2016"
         ],
         "xaxis": "x3",
         "y": [
          0.57,
          0.6,
          0.6,
          0.6,
          0.57
         ],
         "yaxis": "y3"
        },
        {
         "hovertemplate": "Subject=Health and Food Technology<br>Grades=C<br>Year=%{x}<br>Percentage=%{y}<extra></extra>",
         "legendgroup": "Health and Food Technology",
         "line": {
          "color": "#636efa",
          "dash": "solid"
         },
         "marker": {
          "symbol": "circle"
         },
         "mode": "markers+lines",
         "name": "Health and Food Technology",
         "orientation": "v",
         "showlegend": false,
         "type": "scatter",
         "x": [
          "2022",
          "2019",
          "2018",
          "2017",
          "2016"
         ],
         "xaxis": "x2",
         "y": [
          0.45,
          0.5,
          0.5,
          0.5,
          0.47
         ],
         "yaxis": "y2"
        },
        {
         "hovertemplate": "Subject=Health and Food Technology<br>Grades=D<br>Year=%{x}<br>Percentage=%{y}<extra></extra>",
         "legendgroup": "Health and Food Technology",
         "line": {
          "color": "#636efa",
          "dash": "solid"
         },
         "marker": {
          "symbol": "circle"
         },
         "mode": "markers+lines",
         "name": "Health and Food Technology",
         "orientation": "v",
         "showlegend": false,
         "type": "scatter",
         "x": [
          "2022",
          "2019",
          "2018",
          "2017",
          "2016"
         ],
         "xaxis": "x",
         "y": [
          0.32,
          0.45,
          0.45,
          0.45,
          0.42
         ],
         "yaxis": "y"
        },
        {
         "hovertemplate": "Subject=History<br>Grades=upA<br>Year=%{x}<br>Percentage=%{y}<extra></extra>",
         "legendgroup": "History",
         "line": {
          "color": "#EF553B",
          "dash": "solid"
         },
         "marker": {
          "symbol": "circle"
         },
         "mode": "markers+lines",
         "name": "History",
         "orientation": "v",
         "showlegend": true,
         "type": "scatter",
         "x": [
          "2022",
          "2019",
          "2018",
          "2017",
          "2016"
         ],
         "xaxis": "x5",
         "y": [
          0.82,
          0.85,
          0.85,
          0.85,
          0.85
         ],
         "yaxis": "y5"
        },
        {
         "hovertemplate": "Subject=History<br>Grades=A<br>Year=%{x}<br>Percentage=%{y}<extra></extra>",
         "legendgroup": "History",
         "line": {
          "color": "#EF553B",
          "dash": "solid"
         },
         "marker": {
          "symbol": "circle"
         },
         "mode": "markers+lines",
         "name": "History",
         "orientation": "v",
         "showlegend": false,
         "type": "scatter",
         "x": [
          "2022",
          "2019",
          "2018",
          "2017",
          "2016"
         ],
         "xaxis": "x4",
         "y": [
          0.67,
          0.7,
          0.7,
          0.7,
          0.7
         ],
         "yaxis": "y4"
        },
        {
         "hovertemplate": "Subject=History<br>Grades=B<br>Year=%{x}<br>Percentage=%{y}<extra></extra>",
         "legendgroup": "History",
         "line": {
          "color": "#EF553B",
          "dash": "solid"
         },
         "marker": {
          "symbol": "circle"
         },
         "mode": "markers+lines",
         "name": "History",
         "orientation": "v",
         "showlegend": false,
         "type": "scatter",
         "x": [
          "2022",
          "2019",
          "2018",
          "2017",
          "2016"
         ],
         "xaxis": "x3",
         "y": [
          0.56,
          0.6,
          0.6,
          0.6,
          0.6
         ],
         "yaxis": "y3"
        },
        {
         "hovertemplate": "Subject=History<br>Grades=C<br>Year=%{x}<br>Percentage=%{y}<extra></extra>",
         "legendgroup": "History",
         "line": {
          "color": "#EF553B",
          "dash": "solid"
         },
         "marker": {
          "symbol": "circle"
         },
         "mode": "markers+lines",
         "name": "History",
         "orientation": "v",
         "showlegend": false,
         "type": "scatter",
         "x": [
          "2022",
          "2019",
          "2018",
          "2017",
          "2016"
         ],
         "xaxis": "x2",
         "y": [
          0.46,
          0.5,
          0.5,
          0.5,
          0.5
         ],
         "yaxis": "y2"
        },
        {
         "hovertemplate": "Subject=History<br>Grades=D<br>Year=%{x}<br>Percentage=%{y}<extra></extra>",
         "legendgroup": "History",
         "line": {
          "color": "#EF553B",
          "dash": "solid"
         },
         "marker": {
          "symbol": "circle"
         },
         "mode": "markers+lines",
         "name": "History",
         "orientation": "v",
         "showlegend": false,
         "type": "scatter",
         "x": [
          "2022",
          "2019",
          "2018",
          "2017",
          "2016"
         ],
         "xaxis": "x",
         "y": [
          0.35,
          0.45,
          0.45,
          0.45,
          0.45
         ],
         "yaxis": "y"
        },
        {
         "hovertemplate": "Subject=Italian<br>Grades=upA<br>Year=%{x}<br>Percentage=%{y}<extra></extra>",
         "legendgroup": "Italian",
         "line": {
          "color": "#00cc96",
          "dash": "solid"
         },
         "marker": {
          "symbol": "circle"
         },
         "mode": "markers+lines",
         "name": "Italian",
         "orientation": "v",
         "showlegend": true,
         "type": "scatter",
         "x": [
          "2022",
          "2019",
          "2018",
          "2017",
          "2016"
         ],
         "xaxis": "x5",
         "y": [
          0.83,
          0.85,
          0.85,
          0.85,
          0.85
         ],
         "yaxis": "y5"
        },
        {
         "hovertemplate": "Subject=Italian<br>Grades=A<br>Year=%{x}<br>Percentage=%{y}<extra></extra>",
         "legendgroup": "Italian",
         "line": {
          "color": "#00cc96",
          "dash": "solid"
         },
         "marker": {
          "symbol": "circle"
         },
         "mode": "markers+lines",
         "name": "Italian",
         "orientation": "v",
         "showlegend": false,
         "type": "scatter",
         "x": [
          "2022",
          "2019",
          "2018",
          "2017",
          "2016"
         ],
         "xaxis": "x4",
         "y": [
          0.68,
          0.7,
          0.7,
          0.7,
          0.7
         ],
         "yaxis": "y4"
        },
        {
         "hovertemplate": "Subject=Italian<br>Grades=B<br>Year=%{x}<br>Percentage=%{y}<extra></extra>",
         "legendgroup": "Italian",
         "line": {
          "color": "#00cc96",
          "dash": "solid"
         },
         "marker": {
          "symbol": "circle"
         },
         "mode": "markers+lines",
         "name": "Italian",
         "orientation": "v",
         "showlegend": false,
         "type": "scatter",
         "x": [
          "2022",
          "2019",
          "2018",
          "2017",
          "2016"
         ],
         "xaxis": "x3",
         "y": [
          0.58,
          0.6,
          0.6,
          0.6,
          0.6
         ],
         "yaxis": "y3"
        },
        {
         "hovertemplate": "Subject=Italian<br>Grades=C<br>Year=%{x}<br>Percentage=%{y}<extra></extra>",
         "legendgroup": "Italian",
         "line": {
          "color": "#00cc96",
          "dash": "solid"
         },
         "marker": {
          "symbol": "circle"
         },
         "mode": "markers+lines",
         "name": "Italian",
         "orientation": "v",
         "showlegend": false,
         "type": "scatter",
         "x": [
          "2022",
          "2019",
          "2018",
          "2017",
          "2016"
         ],
         "xaxis": "x2",
         "y": [
          0.48,
          0.5,
          0.5,
          0.5,
          0.5
         ],
         "yaxis": "y2"
        },
        {
         "hovertemplate": "Subject=Italian<br>Grades=D<br>Year=%{x}<br>Percentage=%{y}<extra></extra>",
         "legendgroup": "Italian",
         "line": {
          "color": "#00cc96",
          "dash": "solid"
         },
         "marker": {
          "symbol": "circle"
         },
         "mode": "markers+lines",
         "name": "Italian",
         "orientation": "v",
         "showlegend": false,
         "type": "scatter",
         "x": [
          "2022",
          "2019",
          "2018",
          "2017",
          "2016"
         ],
         "xaxis": "x",
         "y": [
          0.38,
          0.45,
          0.45,
          0.45,
          0.45
         ],
         "yaxis": "y"
        },
        {
         "hovertemplate": "Subject=Latin<br>Grades=upA<br>Year=%{x}<br>Percentage=%{y}<extra></extra>",
         "legendgroup": "Latin",
         "line": {
          "color": "#ab63fa",
          "dash": "solid"
         },
         "marker": {
          "symbol": "circle"
         },
         "mode": "markers+lines",
         "name": "Latin",
         "orientation": "v",
         "showlegend": true,
         "type": "scatter",
         "x": [
          "2022",
          "2019",
          "2018",
          "2017",
          "2016"
         ],
         "xaxis": "x5",
         "y": [
          0.84,
          0.85,
          0.85,
          0.85,
          0.85
         ],
         "yaxis": "y5"
        },
        {
         "hovertemplate": "Subject=Latin<br>Grades=A<br>Year=%{x}<br>Percentage=%{y}<extra></extra>",
         "legendgroup": "Latin",
         "line": {
          "color": "#ab63fa",
          "dash": "solid"
         },
         "marker": {
          "symbol": "circle"
         },
         "mode": "markers+lines",
         "name": "Latin",
         "orientation": "v",
         "showlegend": false,
         "type": "scatter",
         "x": [
          "2022",
          "2019",
          "2018",
          "2017",
          "2016"
         ],
         "xaxis": "x4",
         "y": [
          0.69,
          0.7,
          0.7,
          0.7,
          0.7
         ],
         "yaxis": "y4"
        },
        {
         "hovertemplate": "Subject=Latin<br>Grades=B<br>Year=%{x}<br>Percentage=%{y}<extra></extra>",
         "legendgroup": "Latin",
         "line": {
          "color": "#ab63fa",
          "dash": "solid"
         },
         "marker": {
          "symbol": "circle"
         },
         "mode": "markers+lines",
         "name": "Latin",
         "orientation": "v",
         "showlegend": false,
         "type": "scatter",
         "x": [
          "2022",
          "2019",
          "2018",
          "2017",
          "2016"
         ],
         "xaxis": "x3",
         "y": [
          0.59,
          0.6,
          0.6,
          0.6,
          0.6
         ],
         "yaxis": "y3"
        },
        {
         "hovertemplate": "Subject=Latin<br>Grades=C<br>Year=%{x}<br>Percentage=%{y}<extra></extra>",
         "legendgroup": "Latin",
         "line": {
          "color": "#ab63fa",
          "dash": "solid"
         },
         "marker": {
          "symbol": "circle"
         },
         "mode": "markers+lines",
         "name": "Latin",
         "orientation": "v",
         "showlegend": false,
         "type": "scatter",
         "x": [
          "2022",
          "2019",
          "2018",
          "2017",
          "2016"
         ],
         "xaxis": "x2",
         "y": [
          0.49,
          0.5,
          0.5,
          0.5,
          0.5
         ],
         "yaxis": "y2"
        },
        {
         "hovertemplate": "Subject=Latin<br>Grades=D<br>Year=%{x}<br>Percentage=%{y}<extra></extra>",
         "legendgroup": "Latin",
         "line": {
          "color": "#ab63fa",
          "dash": "solid"
         },
         "marker": {
          "symbol": "circle"
         },
         "mode": "markers+lines",
         "name": "Latin",
         "orientation": "v",
         "showlegend": false,
         "type": "scatter",
         "x": [
          "2022",
          "2019",
          "2018",
          "2017",
          "2016"
         ],
         "xaxis": "x",
         "y": [
          0.39,
          0.45,
          0.45,
          0.45,
          0.45
         ],
         "yaxis": "y"
        },
        {
         "hovertemplate": "Subject=Mathematics<br>Grades=upA<br>Year=%{x}<br>Percentage=%{y}<extra></extra>",
         "legendgroup": "Mathematics",
         "line": {
          "color": "#FFA15A",
          "dash": "solid"
         },
         "marker": {
          "symbol": "circle"
         },
         "mode": "markers+lines",
         "name": "Mathematics",
         "orientation": "v",
         "showlegend": true,
         "type": "scatter",
         "x": [
          "2022",
          "2019",
          "2018",
          "2017",
          "2016"
         ],
         "xaxis": "x5",
         "y": [
          0.84,
          0.82,
          0.89,
          0.87,
          0.89
         ],
         "yaxis": "y5"
        },
        {
         "hovertemplate": "Subject=Mathematics<br>Grades=A<br>Year=%{x}<br>Percentage=%{y}<extra></extra>",
         "legendgroup": "Mathematics",
         "line": {
          "color": "#FFA15A",
          "dash": "solid"
         },
         "marker": {
          "symbol": "circle"
         },
         "mode": "markers+lines",
         "name": "Mathematics",
         "orientation": "v",
         "showlegend": false,
         "type": "scatter",
         "x": [
          "2022",
          "2019",
          "2018",
          "2017",
          "2016"
         ],
         "xaxis": "x4",
         "y": [
          0.68,
          0.64,
          0.75,
          0.71,
          0.73
         ],
         "yaxis": "y4"
        },
        {
         "hovertemplate": "Subject=Mathematics<br>Grades=B<br>Year=%{x}<br>Percentage=%{y}<extra></extra>",
         "legendgroup": "Mathematics",
         "line": {
          "color": "#FFA15A",
          "dash": "solid"
         },
         "marker": {
          "symbol": "circle"
         },
         "mode": "markers+lines",
         "name": "Mathematics",
         "orientation": "v",
         "showlegend": false,
         "type": "scatter",
         "x": [
          "2022",
          "2019",
          "2018",
          "2017",
          "2016"
         ],
         "xaxis": "x3",
         "y": [
          0.56,
          0.53,
          0.64,
          0.6,
          0.63
         ],
         "yaxis": "y3"
        },
        {
         "hovertemplate": "Subject=Mathematics<br>Grades=C<br>Year=%{x}<br>Percentage=%{y}<extra></extra>",
         "legendgroup": "Mathematics",
         "line": {
          "color": "#FFA15A",
          "dash": "solid"
         },
         "marker": {
          "symbol": "circle"
         },
         "mode": "markers+lines",
         "name": "Mathematics",
         "orientation": "v",
         "showlegend": false,
         "type": "scatter",
         "x": [
          "2022",
          "2019",
          "2018",
          "2017",
          "2016"
         ],
         "xaxis": "x2",
         "y": [
          0.44,
          0.42,
          0.54,
          0.49,
          0.53
         ],
         "yaxis": "y2"
        },
        {
         "hovertemplate": "Subject=Mathematics<br>Grades=D<br>Year=%{x}<br>Percentage=%{y}<extra></extra>",
         "legendgroup": "Mathematics",
         "line": {
          "color": "#FFA15A",
          "dash": "solid"
         },
         "marker": {
          "symbol": "circle"
         },
         "mode": "markers+lines",
         "name": "Mathematics",
         "orientation": "v",
         "showlegend": false,
         "type": "scatter",
         "x": [
          "2022",
          "2019",
          "2018",
          "2017",
          "2016"
         ],
         "xaxis": "x",
         "y": [
          0.32,
          0.36,
          0.49,
          0.43,
          0.48
         ],
         "yaxis": "y"
        },
        {
         "hovertemplate": "Subject=Mathematics of Mechanics<br>Grades=upA<br>Year=%{x}<br>Percentage=%{y}<extra></extra>",
         "legendgroup": "Mathematics of Mechanics",
         "line": {
          "color": "#19d3f3",
          "dash": "solid"
         },
         "marker": {
          "symbol": "circle"
         },
         "mode": "markers+lines",
         "name": "Mathematics of Mechanics",
         "orientation": "v",
         "showlegend": true,
         "type": "scatter",
         "x": [
          "2022",
          "2019",
          "2018",
          "2017",
          "2016"
         ],
         "xaxis": "x5",
         "y": [
          0.84,
          0.81,
          0.84,
          0.88,
          0.83
         ],
         "yaxis": "y5"
        },
        {
         "hovertemplate": "Subject=Mathematics of Mechanics<br>Grades=A<br>Year=%{x}<br>Percentage=%{y}<extra></extra>",
         "legendgroup": "Mathematics of Mechanics",
         "line": {
          "color": "#19d3f3",
          "dash": "solid"
         },
         "marker": {
          "symbol": "circle"
         },
         "mode": "markers+lines",
         "name": "Mathematics of Mechanics",
         "orientation": "v",
         "showlegend": false,
         "type": "scatter",
         "x": [
          "2022",
          "2019",
          "2018",
          "2017",
          "2016"
         ],
         "xaxis": "x4",
         "y": [
          0.7,
          0.65,
          0.69,
          0.7,
          0.68
         ],
         "yaxis": "y4"
        },
        {
         "hovertemplate": "Subject=Mathematics of Mechanics<br>Grades=B<br>Year=%{x}<br>Percentage=%{y}<extra></extra>",
         "legendgroup": "Mathematics of Mechanics",
         "line": {
          "color": "#19d3f3",
          "dash": "solid"
         },
         "marker": {
          "symbol": "circle"
         },
         "mode": "markers+lines",
         "name": "Mathematics of Mechanics",
         "orientation": "v",
         "showlegend": false,
         "type": "scatter",
         "x": [
          "2022",
          "2019",
          "2018",
          "2017",
          "2016"
         ],
         "xaxis": "x3",
         "y": [
          0.6,
          0.54,
          0.59,
          0.6,
          0.58
         ],
         "yaxis": "y3"
        },
        {
         "hovertemplate": "Subject=Mathematics of Mechanics<br>Grades=C<br>Year=%{x}<br>Percentage=%{y}<extra></extra>",
         "legendgroup": "Mathematics of Mechanics",
         "line": {
          "color": "#19d3f3",
          "dash": "solid"
         },
         "marker": {
          "symbol": "circle"
         },
         "mode": "markers+lines",
         "name": "Mathematics of Mechanics",
         "orientation": "v",
         "showlegend": false,
         "type": "scatter",
         "x": [
          "2022",
          "2019",
          "2018",
          "2017",
          "2016"
         ],
         "xaxis": "x2",
         "y": [
          0.5,
          0.43,
          0.5,
          0.5,
          0.48
         ],
         "yaxis": "y2"
        },
        {
         "hovertemplate": "Subject=Mathematics of Mechanics<br>Grades=D<br>Year=%{x}<br>Percentage=%{y}<extra></extra>",
         "legendgroup": "Mathematics of Mechanics",
         "line": {
          "color": "#19d3f3",
          "dash": "solid"
         },
         "marker": {
          "symbol": "circle"
         },
         "mode": "markers+lines",
         "name": "Mathematics of Mechanics",
         "orientation": "v",
         "showlegend": false,
         "type": "scatter",
         "x": [
          "2022",
          "2019",
          "2018",
          "2017",
          "2016"
         ],
         "xaxis": "x",
         "y": [
          0.4,
          0.37,
          0.45,
          0.45,
          0.43
         ],
         "yaxis": "y"
        },
        {
         "hovertemplate": "Subject=Modern Studies<br>Grades=upA<br>Year=%{x}<br>Percentage=%{y}<extra></extra>",
         "legendgroup": "Modern Studies",
         "line": {
          "color": "#FF6692",
          "dash": "solid"
         },
         "marker": {
          "symbol": "circle"
         },
         "mode": "markers+lines",
         "name": "Modern Studies",
         "orientation": "v",
         "showlegend": true,
         "type": "scatter",
         "x": [
          "2022",
          "2019",
          "2018",
          "2017",
          "2016"
         ],
         "xaxis": "x5",
         "y": [
          0.84,
          0.85,
          0.85,
          0.85,
          0.85
         ],
         "yaxis": "y5"
        },
        {
         "hovertemplate": "Subject=Modern Studies<br>Grades=A<br>Year=%{x}<br>Percentage=%{y}<extra></extra>",
         "legendgroup": "Modern Studies",
         "line": {
          "color": "#FF6692",
          "dash": "solid"
         },
         "marker": {
          "symbol": "circle"
         },
         "mode": "markers+lines",
         "name": "Modern Studies",
         "orientation": "v",
         "showlegend": false,
         "type": "scatter",
         "x": [
          "2022",
          "2019",
          "2018",
          "2017",
          "2016"
         ],
         "xaxis": "x4",
         "y": [
          0.69,
          0.7,
          0.7,
          0.7,
          0.71
         ],
         "yaxis": "y4"
        },
        {
         "hovertemplate": "Subject=Modern Studies<br>Grades=B<br>Year=%{x}<br>Percentage=%{y}<extra></extra>",
         "legendgroup": "Modern Studies",
         "line": {
          "color": "#FF6692",
          "dash": "solid"
         },
         "marker": {
          "symbol": "circle"
         },
         "mode": "markers+lines",
         "name": "Modern Studies",
         "orientation": "v",
         "showlegend": false,
         "type": "scatter",
         "x": [
          "2022",
          "2019",
          "2018",
          "2017",
          "2016"
         ],
         "xaxis": "x3",
         "y": [
          0.59,
          0.6,
          0.6,
          0.6,
          0.61
         ],
         "yaxis": "y3"
        },
        {
         "hovertemplate": "Subject=Modern Studies<br>Grades=C<br>Year=%{x}<br>Percentage=%{y}<extra></extra>",
         "legendgroup": "Modern Studies",
         "line": {
          "color": "#FF6692",
          "dash": "solid"
         },
         "marker": {
          "symbol": "circle"
         },
         "mode": "markers+lines",
         "name": "Modern Studies",
         "orientation": "v",
         "showlegend": false,
         "type": "scatter",
         "x": [
          "2022",
          "2019",
          "2018",
          "2017",
          "2016"
         ],
         "xaxis": "x2",
         "y": [
          0.49,
          0.5,
          0.5,
          0.5,
          0.5
         ],
         "yaxis": "y2"
        },
        {
         "hovertemplate": "Subject=Modern Studies<br>Grades=D<br>Year=%{x}<br>Percentage=%{y}<extra></extra>",
         "legendgroup": "Modern Studies",
         "line": {
          "color": "#FF6692",
          "dash": "solid"
         },
         "marker": {
          "symbol": "circle"
         },
         "mode": "markers+lines",
         "name": "Modern Studies",
         "orientation": "v",
         "showlegend": false,
         "type": "scatter",
         "x": [
          "2022",
          "2019",
          "2018",
          "2017",
          "2016"
         ],
         "xaxis": "x",
         "y": [
          0.39,
          0.45,
          0.45,
          0.45,
          0.44
         ],
         "yaxis": "y"
        },
        {
         "hovertemplate": "Subject=Music<br>Grades=upA<br>Year=%{x}<br>Percentage=%{y}<extra></extra>",
         "legendgroup": "Music",
         "line": {
          "color": "#B6E880",
          "dash": "solid"
         },
         "marker": {
          "symbol": "circle"
         },
         "mode": "markers+lines",
         "name": "Music",
         "orientation": "v",
         "showlegend": true,
         "type": "scatter",
         "x": [
          "2022",
          "2019",
          "2018",
          "2017",
          "2016"
         ],
         "xaxis": "x5",
         "y": [
          0.83,
          0.85,
          0.85,
          0.85,
          0.85
         ],
         "yaxis": "y5"
        },
        {
         "hovertemplate": "Subject=Music<br>Grades=A<br>Year=%{x}<br>Percentage=%{y}<extra></extra>",
         "legendgroup": "Music",
         "line": {
          "color": "#B6E880",
          "dash": "solid"
         },
         "marker": {
          "symbol": "circle"
         },
         "mode": "markers+lines",
         "name": "Music",
         "orientation": "v",
         "showlegend": false,
         "type": "scatter",
         "x": [
          "2022",
          "2019",
          "2018",
          "2017",
          "2016"
         ],
         "xaxis": "x4",
         "y": [
          0.68,
          0.7,
          0.7,
          0.7,
          0.7
         ],
         "yaxis": "y4"
        },
        {
         "hovertemplate": "Subject=Music<br>Grades=B<br>Year=%{x}<br>Percentage=%{y}<extra></extra>",
         "legendgroup": "Music",
         "line": {
          "color": "#B6E880",
          "dash": "solid"
         },
         "marker": {
          "symbol": "circle"
         },
         "mode": "markers+lines",
         "name": "Music",
         "orientation": "v",
         "showlegend": false,
         "type": "scatter",
         "x": [
          "2022",
          "2019",
          "2018",
          "2017",
          "2016"
         ],
         "xaxis": "x3",
         "y": [
          0.58,
          0.6,
          0.6,
          0.6,
          0.6
         ],
         "yaxis": "y3"
        },
        {
         "hovertemplate": "Subject=Music<br>Grades=C<br>Year=%{x}<br>Percentage=%{y}<extra></extra>",
         "legendgroup": "Music",
         "line": {
          "color": "#B6E880",
          "dash": "solid"
         },
         "marker": {
          "symbol": "circle"
         },
         "mode": "markers+lines",
         "name": "Music",
         "orientation": "v",
         "showlegend": false,
         "type": "scatter",
         "x": [
          "2022",
          "2019",
          "2018",
          "2017",
          "2016"
         ],
         "xaxis": "x2",
         "y": [
          0.48,
          0.5,
          0.5,
          0.5,
          0.5
         ],
         "yaxis": "y2"
        },
        {
         "hovertemplate": "Subject=Music<br>Grades=D<br>Year=%{x}<br>Percentage=%{y}<extra></extra>",
         "legendgroup": "Music",
         "line": {
          "color": "#B6E880",
          "dash": "solid"
         },
         "marker": {
          "symbol": "circle"
         },
         "mode": "markers+lines",
         "name": "Music",
         "orientation": "v",
         "showlegend": false,
         "type": "scatter",
         "x": [
          "2022",
          "2019",
          "2018",
          "2017",
          "2016"
         ],
         "xaxis": "x",
         "y": [
          0.38,
          0.45,
          0.45,
          0.45,
          0.45
         ],
         "yaxis": "y"
        },
        {
         "hovertemplate": "Subject=Music Technology<br>Grades=upA<br>Year=%{x}<br>Percentage=%{y}<extra></extra>",
         "legendgroup": "Music Technology",
         "line": {
          "color": "#FF97FF",
          "dash": "solid"
         },
         "marker": {
          "symbol": "circle"
         },
         "mode": "markers+lines",
         "name": "Music Technology",
         "orientation": "v",
         "showlegend": true,
         "type": "scatter",
         "x": [
          "2022",
          "2019",
          "2018",
          "2017",
          "2016"
         ],
         "xaxis": "x5",
         "y": [
          0.81,
          null,
          null,
          null,
          null
         ],
         "yaxis": "y5"
        },
        {
         "hovertemplate": "Subject=Music Technology<br>Grades=A<br>Year=%{x}<br>Percentage=%{y}<extra></extra>",
         "legendgroup": "Music Technology",
         "line": {
          "color": "#FF97FF",
          "dash": "solid"
         },
         "marker": {
          "symbol": "circle"
         },
         "mode": "markers+lines",
         "name": "Music Technology",
         "orientation": "v",
         "showlegend": false,
         "type": "scatter",
         "x": [
          "2022",
          "2019",
          "2018",
          "2017",
          "2016"
         ],
         "xaxis": "x4",
         "y": [
          0.66,
          null,
          null,
          null,
          null
         ],
         "yaxis": "y4"
        },
        {
         "hovertemplate": "Subject=Music Technology<br>Grades=B<br>Year=%{x}<br>Percentage=%{y}<extra></extra>",
         "legendgroup": "Music Technology",
         "line": {
          "color": "#FF97FF",
          "dash": "solid"
         },
         "marker": {
          "symbol": "circle"
         },
         "mode": "markers+lines",
         "name": "Music Technology",
         "orientation": "v",
         "showlegend": false,
         "type": "scatter",
         "x": [
          "2022",
          "2019",
          "2018",
          "2017",
          "2016"
         ],
         "xaxis": "x3",
         "y": [
          0.56,
          null,
          null,
          null,
          null
         ],
         "yaxis": "y3"
        },
        {
         "hovertemplate": "Subject=Music Technology<br>Grades=C<br>Year=%{x}<br>Percentage=%{y}<extra></extra>",
         "legendgroup": "Music Technology",
         "line": {
          "color": "#FF97FF",
          "dash": "solid"
         },
         "marker": {
          "symbol": "circle"
         },
         "mode": "markers+lines",
         "name": "Music Technology",
         "orientation": "v",
         "showlegend": false,
         "type": "scatter",
         "x": [
          "2022",
          "2019",
          "2018",
          "2017",
          "2016"
         ],
         "xaxis": "x2",
         "y": [
          0.46,
          null,
          null,
          null,
          null
         ],
         "yaxis": "y2"
        },
        {
         "hovertemplate": "Subject=Music Technology<br>Grades=D<br>Year=%{x}<br>Percentage=%{y}<extra></extra>",
         "legendgroup": "Music Technology",
         "line": {
          "color": "#FF97FF",
          "dash": "solid"
         },
         "marker": {
          "symbol": "circle"
         },
         "mode": "markers+lines",
         "name": "Music Technology",
         "orientation": "v",
         "showlegend": false,
         "type": "scatter",
         "x": [
          "2022",
          "2019",
          "2018",
          "2017",
          "2016"
         ],
         "xaxis": "x",
         "y": [
          0.36,
          null,
          null,
          null,
          null
         ],
         "yaxis": "y"
        },
        {
         "hovertemplate": "Subject=Music: Portfolio<br>Grades=upA<br>Year=%{x}<br>Percentage=%{y}<extra></extra>",
         "legendgroup": "Music: Portfolio",
         "line": {
          "color": "#FECB52",
          "dash": "solid"
         },
         "marker": {
          "symbol": "circle"
         },
         "mode": "markers+lines",
         "name": "Music: Portfolio",
         "orientation": "v",
         "showlegend": true,
         "type": "scatter",
         "x": [
          "2022",
          "2019",
          "2018",
          "2017",
          "2016"
         ],
         "xaxis": "x5",
         "y": [
          0.83,
          0.85,
          0.85,
          0.85,
          0.85
         ],
         "yaxis": "y5"
        },
        {
         "hovertemplate": "Subject=Music: Portfolio<br>Grades=A<br>Year=%{x}<br>Percentage=%{y}<extra></extra>",
         "legendgroup": "Music: Portfolio",
         "line": {
          "color": "#FECB52",
          "dash": "solid"
         },
         "marker": {
          "symbol": "circle"
         },
         "mode": "markers+lines",
         "name": "Music: Portfolio",
         "orientation": "v",
         "showlegend": false,
         "type": "scatter",
         "x": [
          "2022",
          "2019",
          "2018",
          "2017",
          "2016"
         ],
         "xaxis": "x4",
         "y": [
          0.68,
          0.7,
          0.7,
          0.7,
          0.7
         ],
         "yaxis": "y4"
        },
        {
         "hovertemplate": "Subject=Music: Portfolio<br>Grades=B<br>Year=%{x}<br>Percentage=%{y}<extra></extra>",
         "legendgroup": "Music: Portfolio",
         "line": {
          "color": "#FECB52",
          "dash": "solid"
         },
         "marker": {
          "symbol": "circle"
         },
         "mode": "markers+lines",
         "name": "Music: Portfolio",
         "orientation": "v",
         "showlegend": false,
         "type": "scatter",
         "x": [
          "2022",
          "2019",
          "2018",
          "2017",
          "2016"
         ],
         "xaxis": "x3",
         "y": [
          0.58,
          0.6,
          0.6,
          0.6,
          0.6
         ],
         "yaxis": "y3"
        },
        {
         "hovertemplate": "Subject=Music: Portfolio<br>Grades=C<br>Year=%{x}<br>Percentage=%{y}<extra></extra>",
         "legendgroup": "Music: Portfolio",
         "line": {
          "color": "#FECB52",
          "dash": "solid"
         },
         "marker": {
          "symbol": "circle"
         },
         "mode": "markers+lines",
         "name": "Music: Portfolio",
         "orientation": "v",
         "showlegend": false,
         "type": "scatter",
         "x": [
          "2022",
          "2019",
          "2018",
          "2017",
          "2016"
         ],
         "xaxis": "x2",
         "y": [
          0.48,
          0.5,
          0.5,
          0.5,
          0.5
         ],
         "yaxis": "y2"
        },
        {
         "hovertemplate": "Subject=Music: Portfolio<br>Grades=D<br>Year=%{x}<br>Percentage=%{y}<extra></extra>",
         "legendgroup": "Music: Portfolio",
         "line": {
          "color": "#FECB52",
          "dash": "solid"
         },
         "marker": {
          "symbol": "circle"
         },
         "mode": "markers+lines",
         "name": "Music: Portfolio",
         "orientation": "v",
         "showlegend": false,
         "type": "scatter",
         "x": [
          "2022",
          "2019",
          "2018",
          "2017",
          "2016"
         ],
         "xaxis": "x",
         "y": [
          0.38,
          0.45,
          0.45,
          0.45,
          0.45
         ],
         "yaxis": "y"
        },
        {
         "hovertemplate": "Subject=Physical Education<br>Grades=upA<br>Year=%{x}<br>Percentage=%{y}<extra></extra>",
         "legendgroup": "Physical Education",
         "line": {
          "color": "#636efa",
          "dash": "solid"
         },
         "marker": {
          "symbol": "circle"
         },
         "mode": "markers+lines",
         "name": "Physical Education",
         "orientation": "v",
         "showlegend": true,
         "type": "scatter",
         "x": [
          "2022",
          "2019",
          "2018",
          "2017",
          "2016"
         ],
         "xaxis": "x5",
         "y": [
          0.85,
          0.85,
          0.85,
          0.9,
          0.85
         ],
         "yaxis": "y5"
        },
        {
         "hovertemplate": "Subject=Physical Education<br>Grades=A<br>Year=%{x}<br>Percentage=%{y}<extra></extra>",
         "legendgroup": "Physical Education",
         "line": {
          "color": "#636efa",
          "dash": "solid"
         },
         "marker": {
          "symbol": "circle"
         },
         "mode": "markers+lines",
         "name": "Physical Education",
         "orientation": "v",
         "showlegend": false,
         "type": "scatter",
         "x": [
          "2022",
          "2019",
          "2018",
          "2017",
          "2016"
         ],
         "xaxis": "x4",
         "y": [
          0.7,
          0.7,
          0.7,
          0.75,
          0.7
         ],
         "yaxis": "y4"
        },
        {
         "hovertemplate": "Subject=Physical Education<br>Grades=B<br>Year=%{x}<br>Percentage=%{y}<extra></extra>",
         "legendgroup": "Physical Education",
         "line": {
          "color": "#636efa",
          "dash": "solid"
         },
         "marker": {
          "symbol": "circle"
         },
         "mode": "markers+lines",
         "name": "Physical Education",
         "orientation": "v",
         "showlegend": false,
         "type": "scatter",
         "x": [
          "2022",
          "2019",
          "2018",
          "2017",
          "2016"
         ],
         "xaxis": "x3",
         "y": [
          0.59,
          0.6,
          0.6,
          0.65,
          0.6
         ],
         "yaxis": "y3"
        },
        {
         "hovertemplate": "Subject=Physical Education<br>Grades=C<br>Year=%{x}<br>Percentage=%{y}<extra></extra>",
         "legendgroup": "Physical Education",
         "line": {
          "color": "#636efa",
          "dash": "solid"
         },
         "marker": {
          "symbol": "circle"
         },
         "mode": "markers+lines",
         "name": "Physical Education",
         "orientation": "v",
         "showlegend": false,
         "type": "scatter",
         "x": [
          "2022",
          "2019",
          "2018",
          "2017",
          "2016"
         ],
         "xaxis": "x2",
         "y": [
          0.48,
          0.5,
          0.5,
          0.55,
          0.5
         ],
         "yaxis": "y2"
        },
        {
         "hovertemplate": "Subject=Physical Education<br>Grades=D<br>Year=%{x}<br>Percentage=%{y}<extra></extra>",
         "legendgroup": "Physical Education",
         "line": {
          "color": "#636efa",
          "dash": "solid"
         },
         "marker": {
          "symbol": "circle"
         },
         "mode": "markers+lines",
         "name": "Physical Education",
         "orientation": "v",
         "showlegend": false,
         "type": "scatter",
         "x": [
          "2022",
          "2019",
          "2018",
          "2017",
          "2016"
         ],
         "xaxis": "x",
         "y": [
          0.37,
          0.45,
          0.45,
          0.5,
          0.45
         ],
         "yaxis": "y"
        },
        {
         "hovertemplate": "Subject=Physics<br>Grades=upA<br>Year=%{x}<br>Percentage=%{y}<extra></extra>",
         "legendgroup": "Physics",
         "line": {
          "color": "#EF553B",
          "dash": "solid"
         },
         "marker": {
          "symbol": "circle"
         },
         "mode": "markers+lines",
         "name": "Physics",
         "orientation": "v",
         "showlegend": true,
         "type": "scatter",
         "x": [
          "2022",
          "2019",
          "2018",
          "2017",
          "2016"
         ],
         "xaxis": "x5",
         "y": [
          0.85,
          0.85,
          0.84,
          0.82,
          0.8
         ],
         "yaxis": "y5"
        },
        {
         "hovertemplate": "Subject=Physics<br>Grades=A<br>Year=%{x}<br>Percentage=%{y}<extra></extra>",
         "legendgroup": "Physics",
         "line": {
          "color": "#EF553B",
          "dash": "solid"
         },
         "marker": {
          "symbol": "circle"
         },
         "mode": "markers+lines",
         "name": "Physics",
         "orientation": "v",
         "showlegend": false,
         "type": "scatter",
         "x": [
          "2022",
          "2019",
          "2018",
          "2017",
          "2016"
         ],
         "xaxis": "x4",
         "y": [
          0.66,
          0.69,
          0.67,
          0.65,
          0.65
         ],
         "yaxis": "y4"
        },
        {
         "hovertemplate": "Subject=Physics<br>Grades=B<br>Year=%{x}<br>Percentage=%{y}<extra></extra>",
         "legendgroup": "Physics",
         "line": {
          "color": "#EF553B",
          "dash": "solid"
         },
         "marker": {
          "symbol": "circle"
         },
         "mode": "markers+lines",
         "name": "Physics",
         "orientation": "v",
         "showlegend": false,
         "type": "scatter",
         "x": [
          "2022",
          "2019",
          "2018",
          "2017",
          "2016"
         ],
         "xaxis": "x3",
         "y": [
          0.53,
          0.59,
          0.56,
          0.54,
          0.55
         ],
         "yaxis": "y3"
        },
        {
         "hovertemplate": "Subject=Physics<br>Grades=C<br>Year=%{x}<br>Percentage=%{y}<extra></extra>",
         "legendgroup": "Physics",
         "line": {
          "color": "#EF553B",
          "dash": "solid"
         },
         "marker": {
          "symbol": "circle"
         },
         "mode": "markers+lines",
         "name": "Physics",
         "orientation": "v",
         "showlegend": false,
         "type": "scatter",
         "x": [
          "2022",
          "2019",
          "2018",
          "2017",
          "2016"
         ],
         "xaxis": "x2",
         "y": [
          0.4,
          0.49,
          0.46,
          0.44,
          0.47
         ],
         "yaxis": "y2"
        },
        {
         "hovertemplate": "Subject=Physics<br>Grades=D<br>Year=%{x}<br>Percentage=%{y}<extra></extra>",
         "legendgroup": "Physics",
         "line": {
          "color": "#EF553B",
          "dash": "solid"
         },
         "marker": {
          "symbol": "circle"
         },
         "mode": "markers+lines",
         "name": "Physics",
         "orientation": "v",
         "showlegend": false,
         "type": "scatter",
         "x": [
          "2022",
          "2019",
          "2018",
          "2017",
          "2016"
         ],
         "xaxis": "x",
         "y": [
          0.26,
          0.44,
          0.41,
          0.38,
          0.42
         ],
         "yaxis": "y"
        },
        {
         "hovertemplate": "Subject=Religious, Moral and Philosophical Studies<br>Grades=upA<br>Year=%{x}<br>Percentage=%{y}<extra></extra>",
         "legendgroup": "Religious, Moral and Philosophical Studies",
         "line": {
          "color": "#00cc96",
          "dash": "solid"
         },
         "marker": {
          "symbol": "circle"
         },
         "mode": "markers+lines",
         "name": "Religious, Moral and Philosophical Studies",
         "orientation": "v",
         "showlegend": true,
         "type": "scatter",
         "x": [
          "2022",
          "2019",
          "2018",
          "2017",
          "2016"
         ],
         "xaxis": "x5",
         "y": [
          0.83,
          0.91,
          0.85,
          0.85,
          0.85
         ],
         "yaxis": "y5"
        },
        {
         "hovertemplate": "Subject=Religious, Moral and Philosophical Studies<br>Grades=A<br>Year=%{x}<br>Percentage=%{y}<extra></extra>",
         "legendgroup": "Religious, Moral and Philosophical Studies",
         "line": {
          "color": "#00cc96",
          "dash": "solid"
         },
         "marker": {
          "symbol": "circle"
         },
         "mode": "markers+lines",
         "name": "Religious, Moral and Philosophical Studies",
         "orientation": "v",
         "showlegend": false,
         "type": "scatter",
         "x": [
          "2022",
          "2019",
          "2018",
          "2017",
          "2016"
         ],
         "xaxis": "x4",
         "y": [
          0.67,
          0.76,
          0.7,
          0.7,
          0.7
         ],
         "yaxis": "y4"
        },
        {
         "hovertemplate": "Subject=Religious, Moral and Philosophical Studies<br>Grades=B<br>Year=%{x}<br>Percentage=%{y}<extra></extra>",
         "legendgroup": "Religious, Moral and Philosophical Studies",
         "line": {
          "color": "#00cc96",
          "dash": "solid"
         },
         "marker": {
          "symbol": "circle"
         },
         "mode": "markers+lines",
         "name": "Religious, Moral and Philosophical Studies",
         "orientation": "v",
         "showlegend": false,
         "type": "scatter",
         "x": [
          "2022",
          "2019",
          "2018",
          "2017",
          "2016"
         ],
         "xaxis": "x3",
         "y": [
          0.56,
          0.65,
          0.6,
          0.59,
          0.6
         ],
         "yaxis": "y3"
        },
        {
         "hovertemplate": "Subject=Religious, Moral and Philosophical Studies<br>Grades=C<br>Year=%{x}<br>Percentage=%{y}<extra></extra>",
         "legendgroup": "Religious, Moral and Philosophical Studies",
         "line": {
          "color": "#00cc96",
          "dash": "solid"
         },
         "marker": {
          "symbol": "circle"
         },
         "mode": "markers+lines",
         "name": "Religious, Moral and Philosophical Studies",
         "orientation": "v",
         "showlegend": false,
         "type": "scatter",
         "x": [
          "2022",
          "2019",
          "2018",
          "2017",
          "2016"
         ],
         "xaxis": "x2",
         "y": [
          0.46,
          0.54,
          0.5,
          0.49,
          0.5
         ],
         "yaxis": "y2"
        },
        {
         "hovertemplate": "Subject=Religious, Moral and Philosophical Studies<br>Grades=D<br>Year=%{x}<br>Percentage=%{y}<extra></extra>",
         "legendgroup": "Religious, Moral and Philosophical Studies",
         "line": {
          "color": "#00cc96",
          "dash": "solid"
         },
         "marker": {
          "symbol": "circle"
         },
         "mode": "markers+lines",
         "name": "Religious, Moral and Philosophical Studies",
         "orientation": "v",
         "showlegend": false,
         "type": "scatter",
         "x": [
          "2022",
          "2019",
          "2018",
          "2017",
          "2016"
         ],
         "xaxis": "x",
         "y": [
          0.36,
          0.48,
          0.45,
          0.44,
          0.45
         ],
         "yaxis": "y"
        },
        {
         "hovertemplate": "Subject=Spanish<br>Grades=upA<br>Year=%{x}<br>Percentage=%{y}<extra></extra>",
         "legendgroup": "Spanish",
         "line": {
          "color": "#ab63fa",
          "dash": "solid"
         },
         "marker": {
          "symbol": "circle"
         },
         "mode": "markers+lines",
         "name": "Spanish",
         "orientation": "v",
         "showlegend": true,
         "type": "scatter",
         "x": [
          "2022",
          "2019",
          "2018",
          "2017",
          "2016"
         ],
         "xaxis": "x5",
         "y": [
          0.82,
          0.82,
          0.82,
          0.82,
          0.82
         ],
         "yaxis": "y5"
        },
        {
         "hovertemplate": "Subject=Spanish<br>Grades=A<br>Year=%{x}<br>Percentage=%{y}<extra></extra>",
         "legendgroup": "Spanish",
         "line": {
          "color": "#ab63fa",
          "dash": "solid"
         },
         "marker": {
          "symbol": "circle"
         },
         "mode": "markers+lines",
         "name": "Spanish",
         "orientation": "v",
         "showlegend": false,
         "type": "scatter",
         "x": [
          "2022",
          "2019",
          "2018",
          "2017",
          "2016"
         ],
         "xaxis": "x4",
         "y": [
          0.67,
          0.68,
          0.67,
          0.67,
          0.67
         ],
         "yaxis": "y4"
        },
        {
         "hovertemplate": "Subject=Spanish<br>Grades=B<br>Year=%{x}<br>Percentage=%{y}<extra></extra>",
         "legendgroup": "Spanish",
         "line": {
          "color": "#ab63fa",
          "dash": "solid"
         },
         "marker": {
          "symbol": "circle"
         },
         "mode": "markers+lines",
         "name": "Spanish",
         "orientation": "v",
         "showlegend": false,
         "type": "scatter",
         "x": [
          "2022",
          "2019",
          "2018",
          "2017",
          "2016"
         ],
         "xaxis": "x3",
         "y": [
          0.57,
          0.58,
          0.57,
          0.57,
          0.57
         ],
         "yaxis": "y3"
        },
        {
         "hovertemplate": "Subject=Spanish<br>Grades=C<br>Year=%{x}<br>Percentage=%{y}<extra></extra>",
         "legendgroup": "Spanish",
         "line": {
          "color": "#ab63fa",
          "dash": "solid"
         },
         "marker": {
          "symbol": "circle"
         },
         "mode": "markers+lines",
         "name": "Spanish",
         "orientation": "v",
         "showlegend": false,
         "type": "scatter",
         "x": [
          "2022",
          "2019",
          "2018",
          "2017",
          "2016"
         ],
         "xaxis": "x2",
         "y": [
          0.47,
          0.48,
          0.48,
          0.48,
          0.48
         ],
         "yaxis": "y2"
        },
        {
         "hovertemplate": "Subject=Spanish<br>Grades=D<br>Year=%{x}<br>Percentage=%{y}<extra></extra>",
         "legendgroup": "Spanish",
         "line": {
          "color": "#ab63fa",
          "dash": "solid"
         },
         "marker": {
          "symbol": "circle"
         },
         "mode": "markers+lines",
         "name": "Spanish",
         "orientation": "v",
         "showlegend": false,
         "type": "scatter",
         "x": [
          "2022",
          "2019",
          "2018",
          "2017",
          "2016"
         ],
         "xaxis": "x",
         "y": [
          0.37,
          0.44,
          0.43,
          0.42,
          0.43
         ],
         "yaxis": "y"
        },
        {
         "hovertemplate": "Subject=Statistics<br>Grades=upA<br>Year=%{x}<br>Percentage=%{y}<extra></extra>",
         "legendgroup": "Statistics",
         "line": {
          "color": "#FFA15A",
          "dash": "solid"
         },
         "marker": {
          "symbol": "circle"
         },
         "mode": "markers+lines",
         "name": "Statistics",
         "orientation": "v",
         "showlegend": true,
         "type": "scatter",
         "x": [
          "2022",
          "2019",
          "2018",
          "2017",
          "2016"
         ],
         "xaxis": "x5",
         "y": [
          0.81,
          0.79,
          0.8,
          0.84,
          0.85
         ],
         "yaxis": "y5"
        },
        {
         "hovertemplate": "Subject=Statistics<br>Grades=A<br>Year=%{x}<br>Percentage=%{y}<extra></extra>",
         "legendgroup": "Statistics",
         "line": {
          "color": "#FFA15A",
          "dash": "solid"
         },
         "marker": {
          "symbol": "circle"
         },
         "mode": "markers+lines",
         "name": "Statistics",
         "orientation": "v",
         "showlegend": false,
         "type": "scatter",
         "x": [
          "2022",
          "2019",
          "2018",
          "2017",
          "2016"
         ],
         "xaxis": "x4",
         "y": [
          0.66,
          0.64,
          0.65,
          0.69,
          0.7
         ],
         "yaxis": "y4"
        },
        {
         "hovertemplate": "Subject=Statistics<br>Grades=B<br>Year=%{x}<br>Percentage=%{y}<extra></extra>",
         "legendgroup": "Statistics",
         "line": {
          "color": "#FFA15A",
          "dash": "solid"
         },
         "marker": {
          "symbol": "circle"
         },
         "mode": "markers+lines",
         "name": "Statistics",
         "orientation": "v",
         "showlegend": false,
         "type": "scatter",
         "x": [
          "2022",
          "2019",
          "2018",
          "2017",
          "2016"
         ],
         "xaxis": "x3",
         "y": [
          0.57,
          0.54,
          0.56,
          0.59,
          0.6
         ],
         "yaxis": "y3"
        },
        {
         "hovertemplate": "Subject=Statistics<br>Grades=C<br>Year=%{x}<br>Percentage=%{y}<extra></extra>",
         "legendgroup": "Statistics",
         "line": {
          "color": "#FFA15A",
          "dash": "solid"
         },
         "marker": {
          "symbol": "circle"
         },
         "mode": "markers+lines",
         "name": "Statistics",
         "orientation": "v",
         "showlegend": false,
         "type": "scatter",
         "x": [
          "2022",
          "2019",
          "2018",
          "2017",
          "2016"
         ],
         "xaxis": "x2",
         "y": [
          0.48,
          0.45,
          0.47,
          0.49,
          0.5
         ],
         "yaxis": "y2"
        },
        {
         "hovertemplate": "Subject=Statistics<br>Grades=D<br>Year=%{x}<br>Percentage=%{y}<extra></extra>",
         "legendgroup": "Statistics",
         "line": {
          "color": "#FFA15A",
          "dash": "solid"
         },
         "marker": {
          "symbol": "circle"
         },
         "mode": "markers+lines",
         "name": "Statistics",
         "orientation": "v",
         "showlegend": false,
         "type": "scatter",
         "x": [
          "2022",
          "2019",
          "2018",
          "2017",
          "2016"
         ],
         "xaxis": "x",
         "y": [
          0.39,
          0.4,
          0.42,
          0.44,
          0.45
         ],
         "yaxis": "y"
        }
       ],
       "layout": {
        "annotations": [
         {
          "font": {},
          "showarrow": false,
          "text": "Grades=D",
          "textangle": 90,
          "x": 0.98,
          "xanchor": "left",
          "xref": "paper",
          "y": 0.08800000000000001,
          "yanchor": "middle",
          "yref": "paper"
         },
         {
          "font": {},
          "showarrow": false,
          "text": "Grades=C",
          "textangle": 90,
          "x": 0.98,
          "xanchor": "left",
          "xref": "paper",
          "y": 0.29400000000000004,
          "yanchor": "middle",
          "yref": "paper"
         },
         {
          "font": {},
          "showarrow": false,
          "text": "Grades=B",
          "textangle": 90,
          "x": 0.98,
          "xanchor": "left",
          "xref": "paper",
          "y": 0.5,
          "yanchor": "middle",
          "yref": "paper"
         },
         {
          "font": {},
          "showarrow": false,
          "text": "Grades=A",
          "textangle": 90,
          "x": 0.98,
          "xanchor": "left",
          "xref": "paper",
          "y": 0.706,
          "yanchor": "middle",
          "yref": "paper"
         },
         {
          "font": {},
          "showarrow": false,
          "text": "Grades=upA",
          "textangle": 90,
          "x": 0.98,
          "xanchor": "left",
          "xref": "paper",
          "y": 0.912,
          "yanchor": "middle",
          "yref": "paper"
         }
        ],
        "height": 1150,
        "legend": {
         "title": {
          "text": "Subject"
         },
         "tracegroupgap": 0
        },
        "template": {
         "data": {
          "bar": [
           {
            "error_x": {
             "color": "#2a3f5f"
            },
            "error_y": {
             "color": "#2a3f5f"
            },
            "marker": {
             "line": {
              "color": "#E5ECF6",
              "width": 0.5
             },
             "pattern": {
              "fillmode": "overlay",
              "size": 10,
              "solidity": 0.2
             }
            },
            "type": "bar"
           }
          ],
          "barpolar": [
           {
            "marker": {
             "line": {
              "color": "#E5ECF6",
              "width": 0.5
             },
             "pattern": {
              "fillmode": "overlay",
              "size": 10,
              "solidity": 0.2
             }
            },
            "type": "barpolar"
           }
          ],
          "carpet": [
           {
            "aaxis": {
             "endlinecolor": "#2a3f5f",
             "gridcolor": "white",
             "linecolor": "white",
             "minorgridcolor": "white",
             "startlinecolor": "#2a3f5f"
            },
            "baxis": {
             "endlinecolor": "#2a3f5f",
             "gridcolor": "white",
             "linecolor": "white",
             "minorgridcolor": "white",
             "startlinecolor": "#2a3f5f"
            },
            "type": "carpet"
           }
          ],
          "choropleth": [
           {
            "colorbar": {
             "outlinewidth": 0,
             "ticks": ""
            },
            "type": "choropleth"
           }
          ],
          "contour": [
           {
            "colorbar": {
             "outlinewidth": 0,
             "ticks": ""
            },
            "colorscale": [
             [
              0,
              "#0d0887"
             ],
             [
              0.1111111111111111,
              "#46039f"
             ],
             [
              0.2222222222222222,
              "#7201a8"
             ],
             [
              0.3333333333333333,
              "#9c179e"
             ],
             [
              0.4444444444444444,
              "#bd3786"
             ],
             [
              0.5555555555555556,
              "#d8576b"
             ],
             [
              0.6666666666666666,
              "#ed7953"
             ],
             [
              0.7777777777777778,
              "#fb9f3a"
             ],
             [
              0.8888888888888888,
              "#fdca26"
             ],
             [
              1,
              "#f0f921"
             ]
            ],
            "type": "contour"
           }
          ],
          "contourcarpet": [
           {
            "colorbar": {
             "outlinewidth": 0,
             "ticks": ""
            },
            "type": "contourcarpet"
           }
          ],
          "heatmap": [
           {
            "colorbar": {
             "outlinewidth": 0,
             "ticks": ""
            },
            "colorscale": [
             [
              0,
              "#0d0887"
             ],
             [
              0.1111111111111111,
              "#46039f"
             ],
             [
              0.2222222222222222,
              "#7201a8"
             ],
             [
              0.3333333333333333,
              "#9c179e"
             ],
             [
              0.4444444444444444,
              "#bd3786"
             ],
             [
              0.5555555555555556,
              "#d8576b"
             ],
             [
              0.6666666666666666,
              "#ed7953"
             ],
             [
              0.7777777777777778,
              "#fb9f3a"
             ],
             [
              0.8888888888888888,
              "#fdca26"
             ],
             [
              1,
              "#f0f921"
             ]
            ],
            "type": "heatmap"
           }
          ],
          "heatmapgl": [
           {
            "colorbar": {
             "outlinewidth": 0,
             "ticks": ""
            },
            "colorscale": [
             [
              0,
              "#0d0887"
             ],
             [
              0.1111111111111111,
              "#46039f"
             ],
             [
              0.2222222222222222,
              "#7201a8"
             ],
             [
              0.3333333333333333,
              "#9c179e"
             ],
             [
              0.4444444444444444,
              "#bd3786"
             ],
             [
              0.5555555555555556,
              "#d8576b"
             ],
             [
              0.6666666666666666,
              "#ed7953"
             ],
             [
              0.7777777777777778,
              "#fb9f3a"
             ],
             [
              0.8888888888888888,
              "#fdca26"
             ],
             [
              1,
              "#f0f921"
             ]
            ],
            "type": "heatmapgl"
           }
          ],
          "histogram": [
           {
            "marker": {
             "pattern": {
              "fillmode": "overlay",
              "size": 10,
              "solidity": 0.2
             }
            },
            "type": "histogram"
           }
          ],
          "histogram2d": [
           {
            "colorbar": {
             "outlinewidth": 0,
             "ticks": ""
            },
            "colorscale": [
             [
              0,
              "#0d0887"
             ],
             [
              0.1111111111111111,
              "#46039f"
             ],
             [
              0.2222222222222222,
              "#7201a8"
             ],
             [
              0.3333333333333333,
              "#9c179e"
             ],
             [
              0.4444444444444444,
              "#bd3786"
             ],
             [
              0.5555555555555556,
              "#d8576b"
             ],
             [
              0.6666666666666666,
              "#ed7953"
             ],
             [
              0.7777777777777778,
              "#fb9f3a"
             ],
             [
              0.8888888888888888,
              "#fdca26"
             ],
             [
              1,
              "#f0f921"
             ]
            ],
            "type": "histogram2d"
           }
          ],
          "histogram2dcontour": [
           {
            "colorbar": {
             "outlinewidth": 0,
             "ticks": ""
            },
            "colorscale": [
             [
              0,
              "#0d0887"
             ],
             [
              0.1111111111111111,
              "#46039f"
             ],
             [
              0.2222222222222222,
              "#7201a8"
             ],
             [
              0.3333333333333333,
              "#9c179e"
             ],
             [
              0.4444444444444444,
              "#bd3786"
             ],
             [
              0.5555555555555556,
              "#d8576b"
             ],
             [
              0.6666666666666666,
              "#ed7953"
             ],
             [
              0.7777777777777778,
              "#fb9f3a"
             ],
             [
              0.8888888888888888,
              "#fdca26"
             ],
             [
              1,
              "#f0f921"
             ]
            ],
            "type": "histogram2dcontour"
           }
          ],
          "mesh3d": [
           {
            "colorbar": {
             "outlinewidth": 0,
             "ticks": ""
            },
            "type": "mesh3d"
           }
          ],
          "parcoords": [
           {
            "line": {
             "colorbar": {
              "outlinewidth": 0,
              "ticks": ""
             }
            },
            "type": "parcoords"
           }
          ],
          "pie": [
           {
            "automargin": true,
            "type": "pie"
           }
          ],
          "scatter": [
           {
            "marker": {
             "colorbar": {
              "outlinewidth": 0,
              "ticks": ""
             }
            },
            "type": "scatter"
           }
          ],
          "scatter3d": [
           {
            "line": {
             "colorbar": {
              "outlinewidth": 0,
              "ticks": ""
             }
            },
            "marker": {
             "colorbar": {
              "outlinewidth": 0,
              "ticks": ""
             }
            },
            "type": "scatter3d"
           }
          ],
          "scattercarpet": [
           {
            "marker": {
             "colorbar": {
              "outlinewidth": 0,
              "ticks": ""
             }
            },
            "type": "scattercarpet"
           }
          ],
          "scattergeo": [
           {
            "marker": {
             "colorbar": {
              "outlinewidth": 0,
              "ticks": ""
             }
            },
            "type": "scattergeo"
           }
          ],
          "scattergl": [
           {
            "marker": {
             "colorbar": {
              "outlinewidth": 0,
              "ticks": ""
             }
            },
            "type": "scattergl"
           }
          ],
          "scattermapbox": [
           {
            "marker": {
             "colorbar": {
              "outlinewidth": 0,
              "ticks": ""
             }
            },
            "type": "scattermapbox"
           }
          ],
          "scatterpolar": [
           {
            "marker": {
             "colorbar": {
              "outlinewidth": 0,
              "ticks": ""
             }
            },
            "type": "scatterpolar"
           }
          ],
          "scatterpolargl": [
           {
            "marker": {
             "colorbar": {
              "outlinewidth": 0,
              "ticks": ""
             }
            },
            "type": "scatterpolargl"
           }
          ],
          "scatterternary": [
           {
            "marker": {
             "colorbar": {
              "outlinewidth": 0,
              "ticks": ""
             }
            },
            "type": "scatterternary"
           }
          ],
          "surface": [
           {
            "colorbar": {
             "outlinewidth": 0,
             "ticks": ""
            },
            "colorscale": [
             [
              0,
              "#0d0887"
             ],
             [
              0.1111111111111111,
              "#46039f"
             ],
             [
              0.2222222222222222,
              "#7201a8"
             ],
             [
              0.3333333333333333,
              "#9c179e"
             ],
             [
              0.4444444444444444,
              "#bd3786"
             ],
             [
              0.5555555555555556,
              "#d8576b"
             ],
             [
              0.6666666666666666,
              "#ed7953"
             ],
             [
              0.7777777777777778,
              "#fb9f3a"
             ],
             [
              0.8888888888888888,
              "#fdca26"
             ],
             [
              1,
              "#f0f921"
             ]
            ],
            "type": "surface"
           }
          ],
          "table": [
           {
            "cells": {
             "fill": {
              "color": "#EBF0F8"
             },
             "line": {
              "color": "white"
             }
            },
            "header": {
             "fill": {
              "color": "#C8D4E3"
             },
             "line": {
              "color": "white"
             }
            },
            "type": "table"
           }
          ]
         },
         "layout": {
          "annotationdefaults": {
           "arrowcolor": "#2a3f5f",
           "arrowhead": 0,
           "arrowwidth": 1
          },
          "autotypenumbers": "strict",
          "coloraxis": {
           "colorbar": {
            "outlinewidth": 0,
            "ticks": ""
           }
          },
          "colorscale": {
           "diverging": [
            [
             0,
             "#8e0152"
            ],
            [
             0.1,
             "#c51b7d"
            ],
            [
             0.2,
             "#de77ae"
            ],
            [
             0.3,
             "#f1b6da"
            ],
            [
             0.4,
             "#fde0ef"
            ],
            [
             0.5,
             "#f7f7f7"
            ],
            [
             0.6,
             "#e6f5d0"
            ],
            [
             0.7,
             "#b8e186"
            ],
            [
             0.8,
             "#7fbc41"
            ],
            [
             0.9,
             "#4d9221"
            ],
            [
             1,
             "#276419"
            ]
           ],
           "sequential": [
            [
             0,
             "#0d0887"
            ],
            [
             0.1111111111111111,
             "#46039f"
            ],
            [
             0.2222222222222222,
             "#7201a8"
            ],
            [
             0.3333333333333333,
             "#9c179e"
            ],
            [
             0.4444444444444444,
             "#bd3786"
            ],
            [
             0.5555555555555556,
             "#d8576b"
            ],
            [
             0.6666666666666666,
             "#ed7953"
            ],
            [
             0.7777777777777778,
             "#fb9f3a"
            ],
            [
             0.8888888888888888,
             "#fdca26"
            ],
            [
             1,
             "#f0f921"
            ]
           ],
           "sequentialminus": [
            [
             0,
             "#0d0887"
            ],
            [
             0.1111111111111111,
             "#46039f"
            ],
            [
             0.2222222222222222,
             "#7201a8"
            ],
            [
             0.3333333333333333,
             "#9c179e"
            ],
            [
             0.4444444444444444,
             "#bd3786"
            ],
            [
             0.5555555555555556,
             "#d8576b"
            ],
            [
             0.6666666666666666,
             "#ed7953"
            ],
            [
             0.7777777777777778,
             "#fb9f3a"
            ],
            [
             0.8888888888888888,
             "#fdca26"
            ],
            [
             1,
             "#f0f921"
            ]
           ]
          },
          "colorway": [
           "#636efa",
           "#EF553B",
           "#00cc96",
           "#ab63fa",
           "#FFA15A",
           "#19d3f3",
           "#FF6692",
           "#B6E880",
           "#FF97FF",
           "#FECB52"
          ],
          "font": {
           "color": "#2a3f5f"
          },
          "geo": {
           "bgcolor": "white",
           "lakecolor": "white",
           "landcolor": "#E5ECF6",
           "showlakes": true,
           "showland": true,
           "subunitcolor": "white"
          },
          "hoverlabel": {
           "align": "left"
          },
          "hovermode": "closest",
          "mapbox": {
           "style": "light"
          },
          "paper_bgcolor": "white",
          "plot_bgcolor": "#E5ECF6",
          "polar": {
           "angularaxis": {
            "gridcolor": "white",
            "linecolor": "white",
            "ticks": ""
           },
           "bgcolor": "#E5ECF6",
           "radialaxis": {
            "gridcolor": "white",
            "linecolor": "white",
            "ticks": ""
           }
          },
          "scene": {
           "xaxis": {
            "backgroundcolor": "#E5ECF6",
            "gridcolor": "white",
            "gridwidth": 2,
            "linecolor": "white",
            "showbackground": true,
            "ticks": "",
            "zerolinecolor": "white"
           },
           "yaxis": {
            "backgroundcolor": "#E5ECF6",
            "gridcolor": "white",
            "gridwidth": 2,
            "linecolor": "white",
            "showbackground": true,
            "ticks": "",
            "zerolinecolor": "white"
           },
           "zaxis": {
            "backgroundcolor": "#E5ECF6",
            "gridcolor": "white",
            "gridwidth": 2,
            "linecolor": "white",
            "showbackground": true,
            "ticks": "",
            "zerolinecolor": "white"
           }
          },
          "shapedefaults": {
           "line": {
            "color": "#2a3f5f"
           }
          },
          "ternary": {
           "aaxis": {
            "gridcolor": "white",
            "linecolor": "white",
            "ticks": ""
           },
           "baxis": {
            "gridcolor": "white",
            "linecolor": "white",
            "ticks": ""
           },
           "bgcolor": "#E5ECF6",
           "caxis": {
            "gridcolor": "white",
            "linecolor": "white",
            "ticks": ""
           }
          },
          "title": {
           "x": 0.05
          },
          "xaxis": {
           "automargin": true,
           "gridcolor": "white",
           "linecolor": "white",
           "ticks": "",
           "title": {
            "standoff": 15
           },
           "zerolinecolor": "white",
           "zerolinewidth": 2
          },
          "yaxis": {
           "automargin": true,
           "gridcolor": "white",
           "linecolor": "white",
           "ticks": "",
           "title": {
            "standoff": 15
           },
           "zerolinecolor": "white",
           "zerolinewidth": 2
          }
         }
        },
        "title": {
         "text": "Grade boundaries per subject from 2016 - 2022 at Advanced Higher"
        },
        "width": 800,
        "xaxis": {
         "anchor": "y",
         "categoryarray": [
          "2016",
          "2017",
          "2018",
          "2019",
          "2022"
         ],
         "categoryorder": "array",
         "domain": [
          0,
          0.98
         ],
         "title": {
          "text": "Year"
         }
        },
        "xaxis2": {
         "anchor": "y2",
         "domain": [
          0,
          0.98
         ],
         "matches": "x",
         "showticklabels": false
        },
        "xaxis3": {
         "anchor": "y3",
         "domain": [
          0,
          0.98
         ],
         "matches": "x",
         "showticklabels": false
        },
        "xaxis4": {
         "anchor": "y4",
         "domain": [
          0,
          0.98
         ],
         "matches": "x",
         "showticklabels": false
        },
        "xaxis5": {
         "anchor": "y5",
         "domain": [
          0,
          0.98
         ],
         "matches": "x",
         "showticklabels": false
        },
        "yaxis": {
         "anchor": "x",
         "domain": [
          0,
          0.17600000000000002
         ],
         "title": {
          "text": "Percentage"
         }
        },
        "yaxis2": {
         "anchor": "x2",
         "domain": [
          0.20600000000000002,
          0.382
         ],
         "matches": "y",
         "title": {
          "text": "Percentage"
         }
        },
        "yaxis3": {
         "anchor": "x3",
         "domain": [
          0.41200000000000003,
          0.5880000000000001
         ],
         "matches": "y",
         "title": {
          "text": "Percentage"
         }
        },
        "yaxis4": {
         "anchor": "x4",
         "domain": [
          0.618,
          0.794
         ],
         "matches": "y",
         "title": {
          "text": "Percentage"
         }
        },
        "yaxis5": {
         "anchor": "x5",
         "domain": [
          0.8240000000000001,
          1
         ],
         "matches": "y",
         "title": {
          "text": "Percentage"
         }
        }
       }
      },
      "text/html": [
       "<div>                            <div id=\"59742672-f575-48e6-acb9-ba942c09867f\" class=\"plotly-graph-div\" style=\"height:1150px; width:800px;\"></div>            <script type=\"text/javascript\">                require([\"plotly\"], function(Plotly) {                    window.PLOTLYENV=window.PLOTLYENV || {};                                    if (document.getElementById(\"59742672-f575-48e6-acb9-ba942c09867f\")) {                    Plotly.newPlot(                        \"59742672-f575-48e6-acb9-ba942c09867f\",                        [{\"hovertemplate\":\"Subject=Accounting<br>Grades=upA<br>Year=%{x}<br>Percentage=%{y}<extra></extra>\",\"legendgroup\":\"Accounting\",\"line\":{\"color\":\"#636efa\",\"dash\":\"solid\"},\"marker\":{\"symbol\":\"circle\"},\"mode\":\"markers+lines\",\"name\":\"Accounting\",\"orientation\":\"v\",\"showlegend\":true,\"x\":[\"2022\",\"2019\",\"2018\",\"2017\",\"2016\"],\"xaxis\":\"x5\",\"y\":[0.85,0.85,0.85,0.85,0.85],\"yaxis\":\"y5\",\"type\":\"scatter\"},{\"hovertemplate\":\"Subject=Accounting<br>Grades=A<br>Year=%{x}<br>Percentage=%{y}<extra></extra>\",\"legendgroup\":\"Accounting\",\"line\":{\"color\":\"#636efa\",\"dash\":\"solid\"},\"marker\":{\"symbol\":\"circle\"},\"mode\":\"markers+lines\",\"name\":\"Accounting\",\"orientation\":\"v\",\"showlegend\":false,\"x\":[\"2022\",\"2019\",\"2018\",\"2017\",\"2016\"],\"xaxis\":\"x4\",\"y\":[0.7,0.7,0.7,0.7,0.7],\"yaxis\":\"y4\",\"type\":\"scatter\"},{\"hovertemplate\":\"Subject=Accounting<br>Grades=B<br>Year=%{x}<br>Percentage=%{y}<extra></extra>\",\"legendgroup\":\"Accounting\",\"line\":{\"color\":\"#636efa\",\"dash\":\"solid\"},\"marker\":{\"symbol\":\"circle\"},\"mode\":\"markers+lines\",\"name\":\"Accounting\",\"orientation\":\"v\",\"showlegend\":false,\"x\":[\"2022\",\"2019\",\"2018\",\"2017\",\"2016\"],\"xaxis\":\"x3\",\"y\":[0.6,0.6,0.6,0.6,0.6],\"yaxis\":\"y3\",\"type\":\"scatter\"},{\"hovertemplate\":\"Subject=Accounting<br>Grades=C<br>Year=%{x}<br>Percentage=%{y}<extra></extra>\",\"legendgroup\":\"Accounting\",\"line\":{\"color\":\"#636efa\",\"dash\":\"solid\"},\"marker\":{\"symbol\":\"circle\"},\"mode\":\"markers+lines\",\"name\":\"Accounting\",\"orientation\":\"v\",\"showlegend\":false,\"x\":[\"2022\",\"2019\",\"2018\",\"2017\",\"2016\"],\"xaxis\":\"x2\",\"y\":[0.5,0.5,0.5,0.5,0.5],\"yaxis\":\"y2\",\"type\":\"scatter\"},{\"hovertemplate\":\"Subject=Accounting<br>Grades=D<br>Year=%{x}<br>Percentage=%{y}<extra></extra>\",\"legendgroup\":\"Accounting\",\"line\":{\"color\":\"#636efa\",\"dash\":\"solid\"},\"marker\":{\"symbol\":\"circle\"},\"mode\":\"markers+lines\",\"name\":\"Accounting\",\"orientation\":\"v\",\"showlegend\":false,\"x\":[\"2022\",\"2019\",\"2018\",\"2017\",\"2016\"],\"xaxis\":\"x\",\"y\":[0.4,0.45,0.45,0.45,0.45],\"yaxis\":\"y\",\"type\":\"scatter\"},{\"hovertemplate\":\"Subject=Art and Design (Design)<br>Grades=upA<br>Year=%{x}<br>Percentage=%{y}<extra></extra>\",\"legendgroup\":\"Art and Design (Design)\",\"line\":{\"color\":\"#EF553B\",\"dash\":\"solid\"},\"marker\":{\"symbol\":\"circle\"},\"mode\":\"markers+lines\",\"name\":\"Art and Design (Design)\",\"orientation\":\"v\",\"showlegend\":true,\"x\":[\"2022\",\"2019\",\"2018\",\"2017\",\"2016\"],\"xaxis\":\"x5\",\"y\":[0.85,0.85,0.85,0.85,0.85],\"yaxis\":\"y5\",\"type\":\"scatter\"},{\"hovertemplate\":\"Subject=Art and Design (Design)<br>Grades=A<br>Year=%{x}<br>Percentage=%{y}<extra></extra>\",\"legendgroup\":\"Art and Design (Design)\",\"line\":{\"color\":\"#EF553B\",\"dash\":\"solid\"},\"marker\":{\"symbol\":\"circle\"},\"mode\":\"markers+lines\",\"name\":\"Art and Design (Design)\",\"orientation\":\"v\",\"showlegend\":false,\"x\":[\"2022\",\"2019\",\"2018\",\"2017\",\"2016\"],\"xaxis\":\"x4\",\"y\":[0.7,0.7,0.7,0.7,0.7],\"yaxis\":\"y4\",\"type\":\"scatter\"},{\"hovertemplate\":\"Subject=Art and Design (Design)<br>Grades=B<br>Year=%{x}<br>Percentage=%{y}<extra></extra>\",\"legendgroup\":\"Art and Design (Design)\",\"line\":{\"color\":\"#EF553B\",\"dash\":\"solid\"},\"marker\":{\"symbol\":\"circle\"},\"mode\":\"markers+lines\",\"name\":\"Art and Design (Design)\",\"orientation\":\"v\",\"showlegend\":false,\"x\":[\"2022\",\"2019\",\"2018\",\"2017\",\"2016\"],\"xaxis\":\"x3\",\"y\":[0.6,0.6,0.6,0.6,0.6],\"yaxis\":\"y3\",\"type\":\"scatter\"},{\"hovertemplate\":\"Subject=Art and Design (Design)<br>Grades=C<br>Year=%{x}<br>Percentage=%{y}<extra></extra>\",\"legendgroup\":\"Art and Design (Design)\",\"line\":{\"color\":\"#EF553B\",\"dash\":\"solid\"},\"marker\":{\"symbol\":\"circle\"},\"mode\":\"markers+lines\",\"name\":\"Art and Design (Design)\",\"orientation\":\"v\",\"showlegend\":false,\"x\":[\"2022\",\"2019\",\"2018\",\"2017\",\"2016\"],\"xaxis\":\"x2\",\"y\":[0.5,0.5,0.5,0.5,0.5],\"yaxis\":\"y2\",\"type\":\"scatter\"},{\"hovertemplate\":\"Subject=Art and Design (Design)<br>Grades=D<br>Year=%{x}<br>Percentage=%{y}<extra></extra>\",\"legendgroup\":\"Art and Design (Design)\",\"line\":{\"color\":\"#EF553B\",\"dash\":\"solid\"},\"marker\":{\"symbol\":\"circle\"},\"mode\":\"markers+lines\",\"name\":\"Art and Design (Design)\",\"orientation\":\"v\",\"showlegend\":false,\"x\":[\"2022\",\"2019\",\"2018\",\"2017\",\"2016\"],\"xaxis\":\"x\",\"y\":[0.4,0.45,0.45,0.45,0.45],\"yaxis\":\"y\",\"type\":\"scatter\"},{\"hovertemplate\":\"Subject=Art and Design (Expressive)<br>Grades=upA<br>Year=%{x}<br>Percentage=%{y}<extra></extra>\",\"legendgroup\":\"Art and Design (Expressive)\",\"line\":{\"color\":\"#00cc96\",\"dash\":\"solid\"},\"marker\":{\"symbol\":\"circle\"},\"mode\":\"markers+lines\",\"name\":\"Art and Design (Expressive)\",\"orientation\":\"v\",\"showlegend\":true,\"x\":[\"2022\",\"2019\",\"2018\",\"2017\",\"2016\"],\"xaxis\":\"x5\",\"y\":[0.85,0.85,0.85,0.85,0.85],\"yaxis\":\"y5\",\"type\":\"scatter\"},{\"hovertemplate\":\"Subject=Art and Design (Expressive)<br>Grades=A<br>Year=%{x}<br>Percentage=%{y}<extra></extra>\",\"legendgroup\":\"Art and Design (Expressive)\",\"line\":{\"color\":\"#00cc96\",\"dash\":\"solid\"},\"marker\":{\"symbol\":\"circle\"},\"mode\":\"markers+lines\",\"name\":\"Art and Design (Expressive)\",\"orientation\":\"v\",\"showlegend\":false,\"x\":[\"2022\",\"2019\",\"2018\",\"2017\",\"2016\"],\"xaxis\":\"x4\",\"y\":[0.7,0.7,0.7,0.7,0.7],\"yaxis\":\"y4\",\"type\":\"scatter\"},{\"hovertemplate\":\"Subject=Art and Design (Expressive)<br>Grades=B<br>Year=%{x}<br>Percentage=%{y}<extra></extra>\",\"legendgroup\":\"Art and Design (Expressive)\",\"line\":{\"color\":\"#00cc96\",\"dash\":\"solid\"},\"marker\":{\"symbol\":\"circle\"},\"mode\":\"markers+lines\",\"name\":\"Art and Design (Expressive)\",\"orientation\":\"v\",\"showlegend\":false,\"x\":[\"2022\",\"2019\",\"2018\",\"2017\",\"2016\"],\"xaxis\":\"x3\",\"y\":[0.59,0.6,0.6,0.6,0.6],\"yaxis\":\"y3\",\"type\":\"scatter\"},{\"hovertemplate\":\"Subject=Art and Design (Expressive)<br>Grades=C<br>Year=%{x}<br>Percentage=%{y}<extra></extra>\",\"legendgroup\":\"Art and Design (Expressive)\",\"line\":{\"color\":\"#00cc96\",\"dash\":\"solid\"},\"marker\":{\"symbol\":\"circle\"},\"mode\":\"markers+lines\",\"name\":\"Art and Design (Expressive)\",\"orientation\":\"v\",\"showlegend\":false,\"x\":[\"2022\",\"2019\",\"2018\",\"2017\",\"2016\"],\"xaxis\":\"x2\",\"y\":[0.48,0.5,0.5,0.5,0.5],\"yaxis\":\"y2\",\"type\":\"scatter\"},{\"hovertemplate\":\"Subject=Art and Design (Expressive)<br>Grades=D<br>Year=%{x}<br>Percentage=%{y}<extra></extra>\",\"legendgroup\":\"Art and Design (Expressive)\",\"line\":{\"color\":\"#00cc96\",\"dash\":\"solid\"},\"marker\":{\"symbol\":\"circle\"},\"mode\":\"markers+lines\",\"name\":\"Art and Design (Expressive)\",\"orientation\":\"v\",\"showlegend\":false,\"x\":[\"2022\",\"2019\",\"2018\",\"2017\",\"2016\"],\"xaxis\":\"x\",\"y\":[0.37,0.45,0.45,0.45,0.45],\"yaxis\":\"y\",\"type\":\"scatter\"},{\"hovertemplate\":\"Subject=Biology<br>Grades=upA<br>Year=%{x}<br>Percentage=%{y}<extra></extra>\",\"legendgroup\":\"Biology\",\"line\":{\"color\":\"#ab63fa\",\"dash\":\"solid\"},\"marker\":{\"symbol\":\"circle\"},\"mode\":\"markers+lines\",\"name\":\"Biology\",\"orientation\":\"v\",\"showlegend\":true,\"x\":[\"2022\",\"2019\",\"2018\",\"2017\",\"2016\"],\"xaxis\":\"x5\",\"y\":[0.75,0.78,0.78,0.76,0.77],\"yaxis\":\"y5\",\"type\":\"scatter\"},{\"hovertemplate\":\"Subject=Biology<br>Grades=A<br>Year=%{x}<br>Percentage=%{y}<extra></extra>\",\"legendgroup\":\"Biology\",\"line\":{\"color\":\"#ab63fa\",\"dash\":\"solid\"},\"marker\":{\"symbol\":\"circle\"},\"mode\":\"markers+lines\",\"name\":\"Biology\",\"orientation\":\"v\",\"showlegend\":false,\"x\":[\"2022\",\"2019\",\"2018\",\"2017\",\"2016\"],\"xaxis\":\"x4\",\"y\":[0.6,0.62,0.63,0.6,0.66],\"yaxis\":\"y4\",\"type\":\"scatter\"},{\"hovertemplate\":\"Subject=Biology<br>Grades=B<br>Year=%{x}<br>Percentage=%{y}<extra></extra>\",\"legendgroup\":\"Biology\",\"line\":{\"color\":\"#ab63fa\",\"dash\":\"solid\"},\"marker\":{\"symbol\":\"circle\"},\"mode\":\"markers+lines\",\"name\":\"Biology\",\"orientation\":\"v\",\"showlegend\":false,\"x\":[\"2022\",\"2019\",\"2018\",\"2017\",\"2016\"],\"xaxis\":\"x3\",\"y\":[0.48,0.53,0.54,0.51,0.57],\"yaxis\":\"y3\",\"type\":\"scatter\"},{\"hovertemplate\":\"Subject=Biology<br>Grades=C<br>Year=%{x}<br>Percentage=%{y}<extra></extra>\",\"legendgroup\":\"Biology\",\"line\":{\"color\":\"#ab63fa\",\"dash\":\"solid\"},\"marker\":{\"symbol\":\"circle\"},\"mode\":\"markers+lines\",\"name\":\"Biology\",\"orientation\":\"v\",\"showlegend\":false,\"x\":[\"2022\",\"2019\",\"2018\",\"2017\",\"2016\"],\"xaxis\":\"x2\",\"y\":[0.37,0.44,0.45,0.42,0.48],\"yaxis\":\"y2\",\"type\":\"scatter\"},{\"hovertemplate\":\"Subject=Biology<br>Grades=D<br>Year=%{x}<br>Percentage=%{y}<extra></extra>\",\"legendgroup\":\"Biology\",\"line\":{\"color\":\"#ab63fa\",\"dash\":\"solid\"},\"marker\":{\"symbol\":\"circle\"},\"mode\":\"markers+lines\",\"name\":\"Biology\",\"orientation\":\"v\",\"showlegend\":false,\"x\":[\"2022\",\"2019\",\"2018\",\"2017\",\"2016\"],\"xaxis\":\"x\",\"y\":[0.25,0.39,0.4,0.37,0.42],\"yaxis\":\"y\",\"type\":\"scatter\"},{\"hovertemplate\":\"Subject=Business Management<br>Grades=upA<br>Year=%{x}<br>Percentage=%{y}<extra></extra>\",\"legendgroup\":\"Business Management\",\"line\":{\"color\":\"#FFA15A\",\"dash\":\"solid\"},\"marker\":{\"symbol\":\"circle\"},\"mode\":\"markers+lines\",\"name\":\"Business Management\",\"orientation\":\"v\",\"showlegend\":true,\"x\":[\"2022\",\"2019\",\"2018\",\"2017\",\"2016\"],\"xaxis\":\"x5\",\"y\":[0.78,0.83,0.84,0.88,0.85],\"yaxis\":\"y5\",\"type\":\"scatter\"},{\"hovertemplate\":\"Subject=Business Management<br>Grades=A<br>Year=%{x}<br>Percentage=%{y}<extra></extra>\",\"legendgroup\":\"Business Management\",\"line\":{\"color\":\"#FFA15A\",\"dash\":\"solid\"},\"marker\":{\"symbol\":\"circle\"},\"mode\":\"markers+lines\",\"name\":\"Business Management\",\"orientation\":\"v\",\"showlegend\":false,\"x\":[\"2022\",\"2019\",\"2018\",\"2017\",\"2016\"],\"xaxis\":\"x4\",\"y\":[0.63,0.68,0.69,0.72,0.7],\"yaxis\":\"y4\",\"type\":\"scatter\"},{\"hovertemplate\":\"Subject=Business Management<br>Grades=B<br>Year=%{x}<br>Percentage=%{y}<extra></extra>\",\"legendgroup\":\"Business Management\",\"line\":{\"color\":\"#FFA15A\",\"dash\":\"solid\"},\"marker\":{\"symbol\":\"circle\"},\"mode\":\"markers+lines\",\"name\":\"Business Management\",\"orientation\":\"v\",\"showlegend\":false,\"x\":[\"2022\",\"2019\",\"2018\",\"2017\",\"2016\"],\"xaxis\":\"x3\",\"y\":[0.52,0.57,0.59,0.62,0.6],\"yaxis\":\"y3\",\"type\":\"scatter\"},{\"hovertemplate\":\"Subject=Business Management<br>Grades=C<br>Year=%{x}<br>Percentage=%{y}<extra></extra>\",\"legendgroup\":\"Business Management\",\"line\":{\"color\":\"#FFA15A\",\"dash\":\"solid\"},\"marker\":{\"symbol\":\"circle\"},\"mode\":\"markers+lines\",\"name\":\"Business Management\",\"orientation\":\"v\",\"showlegend\":false,\"x\":[\"2022\",\"2019\",\"2018\",\"2017\",\"2016\"],\"xaxis\":\"x2\",\"y\":[0.4,0.47,0.5,0.52,0.5],\"yaxis\":\"y2\",\"type\":\"scatter\"},{\"hovertemplate\":\"Subject=Business Management<br>Grades=D<br>Year=%{x}<br>Percentage=%{y}<extra></extra>\",\"legendgroup\":\"Business Management\",\"line\":{\"color\":\"#FFA15A\",\"dash\":\"solid\"},\"marker\":{\"symbol\":\"circle\"},\"mode\":\"markers+lines\",\"name\":\"Business Management\",\"orientation\":\"v\",\"showlegend\":false,\"x\":[\"2022\",\"2019\",\"2018\",\"2017\",\"2016\"],\"xaxis\":\"x\",\"y\":[0.28,0.41,0.45,0.48,0.45],\"yaxis\":\"y\",\"type\":\"scatter\"},{\"hovertemplate\":\"Subject=Chemistry<br>Grades=upA<br>Year=%{x}<br>Percentage=%{y}<extra></extra>\",\"legendgroup\":\"Chemistry\",\"line\":{\"color\":\"#19d3f3\",\"dash\":\"solid\"},\"marker\":{\"symbol\":\"circle\"},\"mode\":\"markers+lines\",\"name\":\"Chemistry\",\"orientation\":\"v\",\"showlegend\":true,\"x\":[\"2022\",\"2019\",\"2018\",\"2017\",\"2016\"],\"xaxis\":\"x5\",\"y\":[0.81,0.84,0.84,0.84,0.85],\"yaxis\":\"y5\",\"type\":\"scatter\"},{\"hovertemplate\":\"Subject=Chemistry<br>Grades=A<br>Year=%{x}<br>Percentage=%{y}<extra></extra>\",\"legendgroup\":\"Chemistry\",\"line\":{\"color\":\"#19d3f3\",\"dash\":\"solid\"},\"marker\":{\"symbol\":\"circle\"},\"mode\":\"markers+lines\",\"name\":\"Chemistry\",\"orientation\":\"v\",\"showlegend\":false,\"x\":[\"2022\",\"2019\",\"2018\",\"2017\",\"2016\"],\"xaxis\":\"x4\",\"y\":[0.64,0.69,0.68,0.68,0.7],\"yaxis\":\"y4\",\"type\":\"scatter\"},{\"hovertemplate\":\"Subject=Chemistry<br>Grades=B<br>Year=%{x}<br>Percentage=%{y}<extra></extra>\",\"legendgroup\":\"Chemistry\",\"line\":{\"color\":\"#19d3f3\",\"dash\":\"solid\"},\"marker\":{\"symbol\":\"circle\"},\"mode\":\"markers+lines\",\"name\":\"Chemistry\",\"orientation\":\"v\",\"showlegend\":false,\"x\":[\"2022\",\"2019\",\"2018\",\"2017\",\"2016\"],\"xaxis\":\"x3\",\"y\":[0.52,0.59,0.56,0.58,0.6],\"yaxis\":\"y3\",\"type\":\"scatter\"},{\"hovertemplate\":\"Subject=Chemistry<br>Grades=C<br>Year=%{x}<br>Percentage=%{y}<extra></extra>\",\"legendgroup\":\"Chemistry\",\"line\":{\"color\":\"#19d3f3\",\"dash\":\"solid\"},\"marker\":{\"symbol\":\"circle\"},\"mode\":\"markers+lines\",\"name\":\"Chemistry\",\"orientation\":\"v\",\"showlegend\":false,\"x\":[\"2022\",\"2019\",\"2018\",\"2017\",\"2016\"],\"xaxis\":\"x2\",\"y\":[0.4,0.49,0.45,0.48,0.5],\"yaxis\":\"y2\",\"type\":\"scatter\"},{\"hovertemplate\":\"Subject=Chemistry<br>Grades=D<br>Year=%{x}<br>Percentage=%{y}<extra></extra>\",\"legendgroup\":\"Chemistry\",\"line\":{\"color\":\"#19d3f3\",\"dash\":\"solid\"},\"marker\":{\"symbol\":\"circle\"},\"mode\":\"markers+lines\",\"name\":\"Chemistry\",\"orientation\":\"v\",\"showlegend\":false,\"x\":[\"2022\",\"2019\",\"2018\",\"2017\",\"2016\"],\"xaxis\":\"x\",\"y\":[0.28,0.44,0.4,0.43,0.45],\"yaxis\":\"y\",\"type\":\"scatter\"},{\"hovertemplate\":\"Subject=Chinese Languages<br>Grades=upA<br>Year=%{x}<br>Percentage=%{y}<extra></extra>\",\"legendgroup\":\"Chinese Languages\",\"line\":{\"color\":\"#FF6692\",\"dash\":\"solid\"},\"marker\":{\"symbol\":\"circle\"},\"mode\":\"markers+lines\",\"name\":\"Chinese Languages\",\"orientation\":\"v\",\"showlegend\":true,\"x\":[\"2022\",\"2019\",\"2018\",\"2017\",\"2016\"],\"xaxis\":\"x5\",\"y\":[0.83,0.85,0.85,0.85,0.85],\"yaxis\":\"y5\",\"type\":\"scatter\"},{\"hovertemplate\":\"Subject=Chinese Languages<br>Grades=A<br>Year=%{x}<br>Percentage=%{y}<extra></extra>\",\"legendgroup\":\"Chinese Languages\",\"line\":{\"color\":\"#FF6692\",\"dash\":\"solid\"},\"marker\":{\"symbol\":\"circle\"},\"mode\":\"markers+lines\",\"name\":\"Chinese Languages\",\"orientation\":\"v\",\"showlegend\":false,\"x\":[\"2022\",\"2019\",\"2018\",\"2017\",\"2016\"],\"xaxis\":\"x4\",\"y\":[0.68,0.7,0.7,0.7,0.7],\"yaxis\":\"y4\",\"type\":\"scatter\"},{\"hovertemplate\":\"Subject=Chinese Languages<br>Grades=B<br>Year=%{x}<br>Percentage=%{y}<extra></extra>\",\"legendgroup\":\"Chinese Languages\",\"line\":{\"color\":\"#FF6692\",\"dash\":\"solid\"},\"marker\":{\"symbol\":\"circle\"},\"mode\":\"markers+lines\",\"name\":\"Chinese Languages\",\"orientation\":\"v\",\"showlegend\":false,\"x\":[\"2022\",\"2019\",\"2018\",\"2017\",\"2016\"],\"xaxis\":\"x3\",\"y\":[0.58,0.6,0.6,0.6,0.6],\"yaxis\":\"y3\",\"type\":\"scatter\"},{\"hovertemplate\":\"Subject=Chinese Languages<br>Grades=C<br>Year=%{x}<br>Percentage=%{y}<extra></extra>\",\"legendgroup\":\"Chinese Languages\",\"line\":{\"color\":\"#FF6692\",\"dash\":\"solid\"},\"marker\":{\"symbol\":\"circle\"},\"mode\":\"markers+lines\",\"name\":\"Chinese Languages\",\"orientation\":\"v\",\"showlegend\":false,\"x\":[\"2022\",\"2019\",\"2018\",\"2017\",\"2016\"],\"xaxis\":\"x2\",\"y\":[0.48,0.5,0.5,0.5,0.5],\"yaxis\":\"y2\",\"type\":\"scatter\"},{\"hovertemplate\":\"Subject=Chinese Languages<br>Grades=D<br>Year=%{x}<br>Percentage=%{y}<extra></extra>\",\"legendgroup\":\"Chinese Languages\",\"line\":{\"color\":\"#FF6692\",\"dash\":\"solid\"},\"marker\":{\"symbol\":\"circle\"},\"mode\":\"markers+lines\",\"name\":\"Chinese Languages\",\"orientation\":\"v\",\"showlegend\":false,\"x\":[\"2022\",\"2019\",\"2018\",\"2017\",\"2016\"],\"xaxis\":\"x\",\"y\":[0.38,0.45,0.45,0.45,0.45],\"yaxis\":\"y\",\"type\":\"scatter\"},{\"hovertemplate\":\"Subject=Classical Studies<br>Grades=upA<br>Year=%{x}<br>Percentage=%{y}<extra></extra>\",\"legendgroup\":\"Classical Studies\",\"line\":{\"color\":\"#B6E880\",\"dash\":\"solid\"},\"marker\":{\"symbol\":\"circle\"},\"mode\":\"markers+lines\",\"name\":\"Classical Studies\",\"orientation\":\"v\",\"showlegend\":true,\"x\":[\"2022\",\"2019\",\"2018\",\"2017\",\"2016\"],\"xaxis\":\"x5\",\"y\":[0.85,0.85,0.85,0.85,0.85],\"yaxis\":\"y5\",\"type\":\"scatter\"},{\"hovertemplate\":\"Subject=Classical Studies<br>Grades=A<br>Year=%{x}<br>Percentage=%{y}<extra></extra>\",\"legendgroup\":\"Classical Studies\",\"line\":{\"color\":\"#B6E880\",\"dash\":\"solid\"},\"marker\":{\"symbol\":\"circle\"},\"mode\":\"markers+lines\",\"name\":\"Classical Studies\",\"orientation\":\"v\",\"showlegend\":false,\"x\":[\"2022\",\"2019\",\"2018\",\"2017\",\"2016\"],\"xaxis\":\"x4\",\"y\":[0.7,0.7,0.7,0.7,0.7],\"yaxis\":\"y4\",\"type\":\"scatter\"},{\"hovertemplate\":\"Subject=Classical Studies<br>Grades=B<br>Year=%{x}<br>Percentage=%{y}<extra></extra>\",\"legendgroup\":\"Classical Studies\",\"line\":{\"color\":\"#B6E880\",\"dash\":\"solid\"},\"marker\":{\"symbol\":\"circle\"},\"mode\":\"markers+lines\",\"name\":\"Classical Studies\",\"orientation\":\"v\",\"showlegend\":false,\"x\":[\"2022\",\"2019\",\"2018\",\"2017\",\"2016\"],\"xaxis\":\"x3\",\"y\":[0.58,0.6,0.6,0.6,0.6],\"yaxis\":\"y3\",\"type\":\"scatter\"},{\"hovertemplate\":\"Subject=Classical Studies<br>Grades=C<br>Year=%{x}<br>Percentage=%{y}<extra></extra>\",\"legendgroup\":\"Classical Studies\",\"line\":{\"color\":\"#B6E880\",\"dash\":\"solid\"},\"marker\":{\"symbol\":\"circle\"},\"mode\":\"markers+lines\",\"name\":\"Classical Studies\",\"orientation\":\"v\",\"showlegend\":false,\"x\":[\"2022\",\"2019\",\"2018\",\"2017\",\"2016\"],\"xaxis\":\"x2\",\"y\":[0.47,0.5,0.5,0.5,0.5],\"yaxis\":\"y2\",\"type\":\"scatter\"},{\"hovertemplate\":\"Subject=Classical Studies<br>Grades=D<br>Year=%{x}<br>Percentage=%{y}<extra></extra>\",\"legendgroup\":\"Classical Studies\",\"line\":{\"color\":\"#B6E880\",\"dash\":\"solid\"},\"marker\":{\"symbol\":\"circle\"},\"mode\":\"markers+lines\",\"name\":\"Classical Studies\",\"orientation\":\"v\",\"showlegend\":false,\"x\":[\"2022\",\"2019\",\"2018\",\"2017\",\"2016\"],\"xaxis\":\"x\",\"y\":[0.35,0.45,0.45,0.45,0.45],\"yaxis\":\"y\",\"type\":\"scatter\"},{\"hovertemplate\":\"Subject=Computing Science<br>Grades=upA<br>Year=%{x}<br>Percentage=%{y}<extra></extra>\",\"legendgroup\":\"Computing Science\",\"line\":{\"color\":\"#FF97FF\",\"dash\":\"solid\"},\"marker\":{\"symbol\":\"circle\"},\"mode\":\"markers+lines\",\"name\":\"Computing Science\",\"orientation\":\"v\",\"showlegend\":true,\"x\":[\"2022\",\"2019\",\"2018\",\"2017\",\"2016\"],\"xaxis\":\"x5\",\"y\":[0.85,0.82,0.9,0.91,0.85],\"yaxis\":\"y5\",\"type\":\"scatter\"},{\"hovertemplate\":\"Subject=Computing Science<br>Grades=A<br>Year=%{x}<br>Percentage=%{y}<extra></extra>\",\"legendgroup\":\"Computing Science\",\"line\":{\"color\":\"#FF97FF\",\"dash\":\"solid\"},\"marker\":{\"symbol\":\"circle\"},\"mode\":\"markers+lines\",\"name\":\"Computing Science\",\"orientation\":\"v\",\"showlegend\":false,\"x\":[\"2022\",\"2019\",\"2018\",\"2017\",\"2016\"],\"xaxis\":\"x4\",\"y\":[0.7,0.67,0.75,0.77,0.7],\"yaxis\":\"y4\",\"type\":\"scatter\"},{\"hovertemplate\":\"Subject=Computing Science<br>Grades=B<br>Year=%{x}<br>Percentage=%{y}<extra></extra>\",\"legendgroup\":\"Computing Science\",\"line\":{\"color\":\"#FF97FF\",\"dash\":\"solid\"},\"marker\":{\"symbol\":\"circle\"},\"mode\":\"markers+lines\",\"name\":\"Computing Science\",\"orientation\":\"v\",\"showlegend\":false,\"x\":[\"2022\",\"2019\",\"2018\",\"2017\",\"2016\"],\"xaxis\":\"x3\",\"y\":[0.59,0.56,0.65,0.66,0.6],\"yaxis\":\"y3\",\"type\":\"scatter\"},{\"hovertemplate\":\"Subject=Computing Science<br>Grades=C<br>Year=%{x}<br>Percentage=%{y}<extra></extra>\",\"legendgroup\":\"Computing Science\",\"line\":{\"color\":\"#FF97FF\",\"dash\":\"solid\"},\"marker\":{\"symbol\":\"circle\"},\"mode\":\"markers+lines\",\"name\":\"Computing Science\",\"orientation\":\"v\",\"showlegend\":false,\"x\":[\"2022\",\"2019\",\"2018\",\"2017\",\"2016\"],\"xaxis\":\"x2\",\"y\":[0.48,0.45,0.55,0.56,0.5],\"yaxis\":\"y2\",\"type\":\"scatter\"},{\"hovertemplate\":\"Subject=Computing Science<br>Grades=D<br>Year=%{x}<br>Percentage=%{y}<extra></extra>\",\"legendgroup\":\"Computing Science\",\"line\":{\"color\":\"#FF97FF\",\"dash\":\"solid\"},\"marker\":{\"symbol\":\"circle\"},\"mode\":\"markers+lines\",\"name\":\"Computing Science\",\"orientation\":\"v\",\"showlegend\":false,\"x\":[\"2022\",\"2019\",\"2018\",\"2017\",\"2016\"],\"xaxis\":\"x\",\"y\":[0.37,0.4,0.49,0.51,0.45],\"yaxis\":\"y\",\"type\":\"scatter\"},{\"hovertemplate\":\"Subject=Design and Manufacture<br>Grades=upA<br>Year=%{x}<br>Percentage=%{y}<extra></extra>\",\"legendgroup\":\"Design and Manufacture\",\"line\":{\"color\":\"#FECB52\",\"dash\":\"solid\"},\"marker\":{\"symbol\":\"circle\"},\"mode\":\"markers+lines\",\"name\":\"Design and Manufacture\",\"orientation\":\"v\",\"showlegend\":true,\"x\":[\"2022\",\"2019\",\"2018\",\"2017\",\"2016\"],\"xaxis\":\"x5\",\"y\":[0.79,0.86,0.88,0.92,0.88],\"yaxis\":\"y5\",\"type\":\"scatter\"},{\"hovertemplate\":\"Subject=Design and Manufacture<br>Grades=A<br>Year=%{x}<br>Percentage=%{y}<extra></extra>\",\"legendgroup\":\"Design and Manufacture\",\"line\":{\"color\":\"#FECB52\",\"dash\":\"solid\"},\"marker\":{\"symbol\":\"circle\"},\"mode\":\"markers+lines\",\"name\":\"Design and Manufacture\",\"orientation\":\"v\",\"showlegend\":false,\"x\":[\"2022\",\"2019\",\"2018\",\"2017\",\"2016\"],\"xaxis\":\"x4\",\"y\":[0.64,0.71,0.72,0.77,0.74],\"yaxis\":\"y4\",\"type\":\"scatter\"},{\"hovertemplate\":\"Subject=Design and Manufacture<br>Grades=B<br>Year=%{x}<br>Percentage=%{y}<extra></extra>\",\"legendgroup\":\"Design and Manufacture\",\"line\":{\"color\":\"#FECB52\",\"dash\":\"solid\"},\"marker\":{\"symbol\":\"circle\"},\"mode\":\"markers+lines\",\"name\":\"Design and Manufacture\",\"orientation\":\"v\",\"showlegend\":false,\"x\":[\"2022\",\"2019\",\"2018\",\"2017\",\"2016\"],\"xaxis\":\"x3\",\"y\":[0.52,0.61,0.62,0.67,0.64],\"yaxis\":\"y3\",\"type\":\"scatter\"},{\"hovertemplate\":\"Subject=Design and Manufacture<br>Grades=C<br>Year=%{x}<br>Percentage=%{y}<extra></extra>\",\"legendgroup\":\"Design and Manufacture\",\"line\":{\"color\":\"#FECB52\",\"dash\":\"solid\"},\"marker\":{\"symbol\":\"circle\"},\"mode\":\"markers+lines\",\"name\":\"Design and Manufacture\",\"orientation\":\"v\",\"showlegend\":false,\"x\":[\"2022\",\"2019\",\"2018\",\"2017\",\"2016\"],\"xaxis\":\"x2\",\"y\":[0.4,0.51,0.52,0.57,0.54],\"yaxis\":\"y2\",\"type\":\"scatter\"},{\"hovertemplate\":\"Subject=Design and Manufacture<br>Grades=D<br>Year=%{x}<br>Percentage=%{y}<extra></extra>\",\"legendgroup\":\"Design and Manufacture\",\"line\":{\"color\":\"#FECB52\",\"dash\":\"solid\"},\"marker\":{\"symbol\":\"circle\"},\"mode\":\"markers+lines\",\"name\":\"Design and Manufacture\",\"orientation\":\"v\",\"showlegend\":false,\"x\":[\"2022\",\"2019\",\"2018\",\"2017\",\"2016\"],\"xaxis\":\"x\",\"y\":[0.28,0.46,0.48,0.52,0.48],\"yaxis\":\"y\",\"type\":\"scatter\"},{\"hovertemplate\":\"Subject=Drama<br>Grades=upA<br>Year=%{x}<br>Percentage=%{y}<extra></extra>\",\"legendgroup\":\"Drama\",\"line\":{\"color\":\"#636efa\",\"dash\":\"solid\"},\"marker\":{\"symbol\":\"circle\"},\"mode\":\"markers+lines\",\"name\":\"Drama\",\"orientation\":\"v\",\"showlegend\":true,\"x\":[\"2022\",\"2019\",\"2018\",\"2017\",\"2016\"],\"xaxis\":\"x5\",\"y\":[0.84,0.85,0.85,0.85,0.85],\"yaxis\":\"y5\",\"type\":\"scatter\"},{\"hovertemplate\":\"Subject=Drama<br>Grades=A<br>Year=%{x}<br>Percentage=%{y}<extra></extra>\",\"legendgroup\":\"Drama\",\"line\":{\"color\":\"#636efa\",\"dash\":\"solid\"},\"marker\":{\"symbol\":\"circle\"},\"mode\":\"markers+lines\",\"name\":\"Drama\",\"orientation\":\"v\",\"showlegend\":false,\"x\":[\"2022\",\"2019\",\"2018\",\"2017\",\"2016\"],\"xaxis\":\"x4\",\"y\":[0.69,0.7,0.7,0.7,0.7],\"yaxis\":\"y4\",\"type\":\"scatter\"},{\"hovertemplate\":\"Subject=Drama<br>Grades=B<br>Year=%{x}<br>Percentage=%{y}<extra></extra>\",\"legendgroup\":\"Drama\",\"line\":{\"color\":\"#636efa\",\"dash\":\"solid\"},\"marker\":{\"symbol\":\"circle\"},\"mode\":\"markers+lines\",\"name\":\"Drama\",\"orientation\":\"v\",\"showlegend\":false,\"x\":[\"2022\",\"2019\",\"2018\",\"2017\",\"2016\"],\"xaxis\":\"x3\",\"y\":[0.57,0.6,0.6,0.6,0.6],\"yaxis\":\"y3\",\"type\":\"scatter\"},{\"hovertemplate\":\"Subject=Drama<br>Grades=C<br>Year=%{x}<br>Percentage=%{y}<extra></extra>\",\"legendgroup\":\"Drama\",\"line\":{\"color\":\"#636efa\",\"dash\":\"solid\"},\"marker\":{\"symbol\":\"circle\"},\"mode\":\"markers+lines\",\"name\":\"Drama\",\"orientation\":\"v\",\"showlegend\":false,\"x\":[\"2022\",\"2019\",\"2018\",\"2017\",\"2016\"],\"xaxis\":\"x2\",\"y\":[0.46,0.5,0.5,0.5,0.5],\"yaxis\":\"y2\",\"type\":\"scatter\"},{\"hovertemplate\":\"Subject=Drama<br>Grades=D<br>Year=%{x}<br>Percentage=%{y}<extra></extra>\",\"legendgroup\":\"Drama\",\"line\":{\"color\":\"#636efa\",\"dash\":\"solid\"},\"marker\":{\"symbol\":\"circle\"},\"mode\":\"markers+lines\",\"name\":\"Drama\",\"orientation\":\"v\",\"showlegend\":false,\"x\":[\"2022\",\"2019\",\"2018\",\"2017\",\"2016\"],\"xaxis\":\"x\",\"y\":[0.34,0.45,0.45,0.45,0.45],\"yaxis\":\"y\",\"type\":\"scatter\"},{\"hovertemplate\":\"Subject=Economics<br>Grades=upA<br>Year=%{x}<br>Percentage=%{y}<extra></extra>\",\"legendgroup\":\"Economics\",\"line\":{\"color\":\"#EF553B\",\"dash\":\"solid\"},\"marker\":{\"symbol\":\"circle\"},\"mode\":\"markers+lines\",\"name\":\"Economics\",\"orientation\":\"v\",\"showlegend\":true,\"x\":[\"2022\",\"2019\",\"2018\",\"2017\",\"2016\"],\"xaxis\":\"x5\",\"y\":[0.81,0.85,0.85,0.85,0.85],\"yaxis\":\"y5\",\"type\":\"scatter\"},{\"hovertemplate\":\"Subject=Economics<br>Grades=A<br>Year=%{x}<br>Percentage=%{y}<extra></extra>\",\"legendgroup\":\"Economics\",\"line\":{\"color\":\"#EF553B\",\"dash\":\"solid\"},\"marker\":{\"symbol\":\"circle\"},\"mode\":\"markers+lines\",\"name\":\"Economics\",\"orientation\":\"v\",\"showlegend\":false,\"x\":[\"2022\",\"2019\",\"2018\",\"2017\",\"2016\"],\"xaxis\":\"x4\",\"y\":[0.66,0.7,0.7,0.7,0.7],\"yaxis\":\"y4\",\"type\":\"scatter\"},{\"hovertemplate\":\"Subject=Economics<br>Grades=B<br>Year=%{x}<br>Percentage=%{y}<extra></extra>\",\"legendgroup\":\"Economics\",\"line\":{\"color\":\"#EF553B\",\"dash\":\"solid\"},\"marker\":{\"symbol\":\"circle\"},\"mode\":\"markers+lines\",\"name\":\"Economics\",\"orientation\":\"v\",\"showlegend\":false,\"x\":[\"2022\",\"2019\",\"2018\",\"2017\",\"2016\"],\"xaxis\":\"x3\",\"y\":[0.56,0.6,0.6,0.6,0.6],\"yaxis\":\"y3\",\"type\":\"scatter\"},{\"hovertemplate\":\"Subject=Economics<br>Grades=C<br>Year=%{x}<br>Percentage=%{y}<extra></extra>\",\"legendgroup\":\"Economics\",\"line\":{\"color\":\"#EF553B\",\"dash\":\"solid\"},\"marker\":{\"symbol\":\"circle\"},\"mode\":\"markers+lines\",\"name\":\"Economics\",\"orientation\":\"v\",\"showlegend\":false,\"x\":[\"2022\",\"2019\",\"2018\",\"2017\",\"2016\"],\"xaxis\":\"x2\",\"y\":[0.46,0.5,0.5,0.5,0.5],\"yaxis\":\"y2\",\"type\":\"scatter\"},{\"hovertemplate\":\"Subject=Economics<br>Grades=D<br>Year=%{x}<br>Percentage=%{y}<extra></extra>\",\"legendgroup\":\"Economics\",\"line\":{\"color\":\"#EF553B\",\"dash\":\"solid\"},\"marker\":{\"symbol\":\"circle\"},\"mode\":\"markers+lines\",\"name\":\"Economics\",\"orientation\":\"v\",\"showlegend\":false,\"x\":[\"2022\",\"2019\",\"2018\",\"2017\",\"2016\"],\"xaxis\":\"x\",\"y\":[0.36,0.45,0.45,0.45,0.45],\"yaxis\":\"y\",\"type\":\"scatter\"},{\"hovertemplate\":\"Subject=Engineering Science<br>Grades=upA<br>Year=%{x}<br>Percentage=%{y}<extra></extra>\",\"legendgroup\":\"Engineering Science\",\"line\":{\"color\":\"#00cc96\",\"dash\":\"solid\"},\"marker\":{\"symbol\":\"circle\"},\"mode\":\"markers+lines\",\"name\":\"Engineering Science\",\"orientation\":\"v\",\"showlegend\":true,\"x\":[\"2022\",\"2019\",\"2018\",\"2017\",\"2016\"],\"xaxis\":\"x5\",\"y\":[0.72,0.83,0.85,0.87,0.85],\"yaxis\":\"y5\",\"type\":\"scatter\"},{\"hovertemplate\":\"Subject=Engineering Science<br>Grades=A<br>Year=%{x}<br>Percentage=%{y}<extra></extra>\",\"legendgroup\":\"Engineering Science\",\"line\":{\"color\":\"#00cc96\",\"dash\":\"solid\"},\"marker\":{\"symbol\":\"circle\"},\"mode\":\"markers+lines\",\"name\":\"Engineering Science\",\"orientation\":\"v\",\"showlegend\":false,\"x\":[\"2022\",\"2019\",\"2018\",\"2017\",\"2016\"],\"xaxis\":\"x4\",\"y\":[0.55,0.69,0.7,0.73,0.7],\"yaxis\":\"y4\",\"type\":\"scatter\"},{\"hovertemplate\":\"Subject=Engineering Science<br>Grades=B<br>Year=%{x}<br>Percentage=%{y}<extra></extra>\",\"legendgroup\":\"Engineering Science\",\"line\":{\"color\":\"#00cc96\",\"dash\":\"solid\"},\"marker\":{\"symbol\":\"circle\"},\"mode\":\"markers+lines\",\"name\":\"Engineering Science\",\"orientation\":\"v\",\"showlegend\":false,\"x\":[\"2022\",\"2019\",\"2018\",\"2017\",\"2016\"],\"xaxis\":\"x3\",\"y\":[0.44,0.59,0.6,0.63,0.6],\"yaxis\":\"y3\",\"type\":\"scatter\"},{\"hovertemplate\":\"Subject=Engineering Science<br>Grades=C<br>Year=%{x}<br>Percentage=%{y}<extra></extra>\",\"legendgroup\":\"Engineering Science\",\"line\":{\"color\":\"#00cc96\",\"dash\":\"solid\"},\"marker\":{\"symbol\":\"circle\"},\"mode\":\"markers+lines\",\"name\":\"Engineering Science\",\"orientation\":\"v\",\"showlegend\":false,\"x\":[\"2022\",\"2019\",\"2018\",\"2017\",\"2016\"],\"xaxis\":\"x2\",\"y\":[0.33,0.49,0.5,0.53,0.5],\"yaxis\":\"y2\",\"type\":\"scatter\"},{\"hovertemplate\":\"Subject=Engineering Science<br>Grades=D<br>Year=%{x}<br>Percentage=%{y}<extra></extra>\",\"legendgroup\":\"Engineering Science\",\"line\":{\"color\":\"#00cc96\",\"dash\":\"solid\"},\"marker\":{\"symbol\":\"circle\"},\"mode\":\"markers+lines\",\"name\":\"Engineering Science\",\"orientation\":\"v\",\"showlegend\":false,\"x\":[\"2022\",\"2019\",\"2018\",\"2017\",\"2016\"],\"xaxis\":\"x\",\"y\":[0.23,0.43,0.45,0.47,0.45],\"yaxis\":\"y\",\"type\":\"scatter\"},{\"hovertemplate\":\"Subject=English<br>Grades=upA<br>Year=%{x}<br>Percentage=%{y}<extra></extra>\",\"legendgroup\":\"English\",\"line\":{\"color\":\"#ab63fa\",\"dash\":\"solid\"},\"marker\":{\"symbol\":\"circle\"},\"mode\":\"markers+lines\",\"name\":\"English\",\"orientation\":\"v\",\"showlegend\":true,\"x\":[\"2022\",\"2019\",\"2018\",\"2017\",\"2016\"],\"xaxis\":\"x5\",\"y\":[0.78,0.78,0.79,0.78,0.79],\"yaxis\":\"y5\",\"type\":\"scatter\"},{\"hovertemplate\":\"Subject=English<br>Grades=A<br>Year=%{x}<br>Percentage=%{y}<extra></extra>\",\"legendgroup\":\"English\",\"line\":{\"color\":\"#ab63fa\",\"dash\":\"solid\"},\"marker\":{\"symbol\":\"circle\"},\"mode\":\"markers+lines\",\"name\":\"English\",\"orientation\":\"v\",\"showlegend\":false,\"x\":[\"2022\",\"2019\",\"2018\",\"2017\",\"2016\"],\"xaxis\":\"x4\",\"y\":[0.65,0.65,0.66,0.65,0.66],\"yaxis\":\"y4\",\"type\":\"scatter\"},{\"hovertemplate\":\"Subject=English<br>Grades=B<br>Year=%{x}<br>Percentage=%{y}<extra></extra>\",\"legendgroup\":\"English\",\"line\":{\"color\":\"#ab63fa\",\"dash\":\"solid\"},\"marker\":{\"symbol\":\"circle\"},\"mode\":\"markers+lines\",\"name\":\"English\",\"orientation\":\"v\",\"showlegend\":false,\"x\":[\"2022\",\"2019\",\"2018\",\"2017\",\"2016\"],\"xaxis\":\"x3\",\"y\":[0.55,0.56,0.57,0.56,0.57],\"yaxis\":\"y3\",\"type\":\"scatter\"},{\"hovertemplate\":\"Subject=English<br>Grades=C<br>Year=%{x}<br>Percentage=%{y}<extra></extra>\",\"legendgroup\":\"English\",\"line\":{\"color\":\"#ab63fa\",\"dash\":\"solid\"},\"marker\":{\"symbol\":\"circle\"},\"mode\":\"markers+lines\",\"name\":\"English\",\"orientation\":\"v\",\"showlegend\":false,\"x\":[\"2022\",\"2019\",\"2018\",\"2017\",\"2016\"],\"xaxis\":\"x2\",\"y\":[0.46,0.47,0.48,0.47,0.48],\"yaxis\":\"y2\",\"type\":\"scatter\"},{\"hovertemplate\":\"Subject=English<br>Grades=D<br>Year=%{x}<br>Percentage=%{y}<extra></extra>\",\"legendgroup\":\"English\",\"line\":{\"color\":\"#ab63fa\",\"dash\":\"solid\"},\"marker\":{\"symbol\":\"circle\"},\"mode\":\"markers+lines\",\"name\":\"English\",\"orientation\":\"v\",\"showlegend\":false,\"x\":[\"2022\",\"2019\",\"2018\",\"2017\",\"2016\"],\"xaxis\":\"x\",\"y\":[0.36,0.42,0.43,0.42,0.43],\"yaxis\":\"y\",\"type\":\"scatter\"},{\"hovertemplate\":\"Subject=French<br>Grades=upA<br>Year=%{x}<br>Percentage=%{y}<extra></extra>\",\"legendgroup\":\"French\",\"line\":{\"color\":\"#FFA15A\",\"dash\":\"solid\"},\"marker\":{\"symbol\":\"circle\"},\"mode\":\"markers+lines\",\"name\":\"French\",\"orientation\":\"v\",\"showlegend\":true,\"x\":[\"2022\",\"2019\",\"2018\",\"2017\",\"2016\"],\"xaxis\":\"x5\",\"y\":[0.83,0.84,0.87,0.84,0.85],\"yaxis\":\"y5\",\"type\":\"scatter\"},{\"hovertemplate\":\"Subject=French<br>Grades=A<br>Year=%{x}<br>Percentage=%{y}<extra></extra>\",\"legendgroup\":\"French\",\"line\":{\"color\":\"#FFA15A\",\"dash\":\"solid\"},\"marker\":{\"symbol\":\"circle\"},\"mode\":\"markers+lines\",\"name\":\"French\",\"orientation\":\"v\",\"showlegend\":false,\"x\":[\"2022\",\"2019\",\"2018\",\"2017\",\"2016\"],\"xaxis\":\"x4\",\"y\":[0.68,0.69,0.72,0.69,0.7],\"yaxis\":\"y4\",\"type\":\"scatter\"},{\"hovertemplate\":\"Subject=French<br>Grades=B<br>Year=%{x}<br>Percentage=%{y}<extra></extra>\",\"legendgroup\":\"French\",\"line\":{\"color\":\"#FFA15A\",\"dash\":\"solid\"},\"marker\":{\"symbol\":\"circle\"},\"mode\":\"markers+lines\",\"name\":\"French\",\"orientation\":\"v\",\"showlegend\":false,\"x\":[\"2022\",\"2019\",\"2018\",\"2017\",\"2016\"],\"xaxis\":\"x3\",\"y\":[0.58,0.59,0.62,0.59,0.6],\"yaxis\":\"y3\",\"type\":\"scatter\"},{\"hovertemplate\":\"Subject=French<br>Grades=C<br>Year=%{x}<br>Percentage=%{y}<extra></extra>\",\"legendgroup\":\"French\",\"line\":{\"color\":\"#FFA15A\",\"dash\":\"solid\"},\"marker\":{\"symbol\":\"circle\"},\"mode\":\"markers+lines\",\"name\":\"French\",\"orientation\":\"v\",\"showlegend\":false,\"x\":[\"2022\",\"2019\",\"2018\",\"2017\",\"2016\"],\"xaxis\":\"x2\",\"y\":[0.48,0.49,0.52,0.49,0.5],\"yaxis\":\"y2\",\"type\":\"scatter\"},{\"hovertemplate\":\"Subject=French<br>Grades=D<br>Year=%{x}<br>Percentage=%{y}<extra></extra>\",\"legendgroup\":\"French\",\"line\":{\"color\":\"#FFA15A\",\"dash\":\"solid\"},\"marker\":{\"symbol\":\"circle\"},\"mode\":\"markers+lines\",\"name\":\"French\",\"orientation\":\"v\",\"showlegend\":false,\"x\":[\"2022\",\"2019\",\"2018\",\"2017\",\"2016\"],\"xaxis\":\"x\",\"y\":[0.38,0.44,0.47,0.44,0.45],\"yaxis\":\"y\",\"type\":\"scatter\"},{\"hovertemplate\":\"Subject=Gaelic (Learners)<br>Grades=upA<br>Year=%{x}<br>Percentage=%{y}<extra></extra>\",\"legendgroup\":\"Gaelic (Learners)\",\"line\":{\"color\":\"#19d3f3\",\"dash\":\"solid\"},\"marker\":{\"symbol\":\"circle\"},\"mode\":\"markers+lines\",\"name\":\"Gaelic (Learners)\",\"orientation\":\"v\",\"showlegend\":true,\"x\":[\"2022\",\"2019\",\"2018\",\"2017\",\"2016\"],\"xaxis\":\"x5\",\"y\":[0.85,0.85,0.85,0.85,0.85],\"yaxis\":\"y5\",\"type\":\"scatter\"},{\"hovertemplate\":\"Subject=Gaelic (Learners)<br>Grades=A<br>Year=%{x}<br>Percentage=%{y}<extra></extra>\",\"legendgroup\":\"Gaelic (Learners)\",\"line\":{\"color\":\"#19d3f3\",\"dash\":\"solid\"},\"marker\":{\"symbol\":\"circle\"},\"mode\":\"markers+lines\",\"name\":\"Gaelic (Learners)\",\"orientation\":\"v\",\"showlegend\":false,\"x\":[\"2022\",\"2019\",\"2018\",\"2017\",\"2016\"],\"xaxis\":\"x4\",\"y\":[0.7,0.7,0.7,0.7,0.7],\"yaxis\":\"y4\",\"type\":\"scatter\"},{\"hovertemplate\":\"Subject=Gaelic (Learners)<br>Grades=B<br>Year=%{x}<br>Percentage=%{y}<extra></extra>\",\"legendgroup\":\"Gaelic (Learners)\",\"line\":{\"color\":\"#19d3f3\",\"dash\":\"solid\"},\"marker\":{\"symbol\":\"circle\"},\"mode\":\"markers+lines\",\"name\":\"Gaelic (Learners)\",\"orientation\":\"v\",\"showlegend\":false,\"x\":[\"2022\",\"2019\",\"2018\",\"2017\",\"2016\"],\"xaxis\":\"x3\",\"y\":[0.6,0.6,0.6,0.6,0.6],\"yaxis\":\"y3\",\"type\":\"scatter\"},{\"hovertemplate\":\"Subject=Gaelic (Learners)<br>Grades=C<br>Year=%{x}<br>Percentage=%{y}<extra></extra>\",\"legendgroup\":\"Gaelic (Learners)\",\"line\":{\"color\":\"#19d3f3\",\"dash\":\"solid\"},\"marker\":{\"symbol\":\"circle\"},\"mode\":\"markers+lines\",\"name\":\"Gaelic (Learners)\",\"orientation\":\"v\",\"showlegend\":false,\"x\":[\"2022\",\"2019\",\"2018\",\"2017\",\"2016\"],\"xaxis\":\"x2\",\"y\":[0.5,0.5,0.5,0.5,0.5],\"yaxis\":\"y2\",\"type\":\"scatter\"},{\"hovertemplate\":\"Subject=Gaelic (Learners)<br>Grades=D<br>Year=%{x}<br>Percentage=%{y}<extra></extra>\",\"legendgroup\":\"Gaelic (Learners)\",\"line\":{\"color\":\"#19d3f3\",\"dash\":\"solid\"},\"marker\":{\"symbol\":\"circle\"},\"mode\":\"markers+lines\",\"name\":\"Gaelic (Learners)\",\"orientation\":\"v\",\"showlegend\":false,\"x\":[\"2022\",\"2019\",\"2018\",\"2017\",\"2016\"],\"xaxis\":\"x\",\"y\":[0.4,0.45,0.45,0.45,0.45],\"yaxis\":\"y\",\"type\":\"scatter\"},{\"hovertemplate\":\"Subject=Geography<br>Grades=upA<br>Year=%{x}<br>Percentage=%{y}<extra></extra>\",\"legendgroup\":\"Geography\",\"line\":{\"color\":\"#FF6692\",\"dash\":\"solid\"},\"marker\":{\"symbol\":\"circle\"},\"mode\":\"markers+lines\",\"name\":\"Geography\",\"orientation\":\"v\",\"showlegend\":true,\"x\":[\"2022\",\"2019\",\"2018\",\"2017\",\"2016\"],\"xaxis\":\"x5\",\"y\":[0.82,0.85,0.85,0.82,0.77],\"yaxis\":\"y5\",\"type\":\"scatter\"},{\"hovertemplate\":\"Subject=Geography<br>Grades=A<br>Year=%{x}<br>Percentage=%{y}<extra></extra>\",\"legendgroup\":\"Geography\",\"line\":{\"color\":\"#FF6692\",\"dash\":\"solid\"},\"marker\":{\"symbol\":\"circle\"},\"mode\":\"markers+lines\",\"name\":\"Geography\",\"orientation\":\"v\",\"showlegend\":false,\"x\":[\"2022\",\"2019\",\"2018\",\"2017\",\"2016\"],\"xaxis\":\"x4\",\"y\":[0.65,0.7,0.7,0.67,0.62],\"yaxis\":\"y4\",\"type\":\"scatter\"},{\"hovertemplate\":\"Subject=Geography<br>Grades=B<br>Year=%{x}<br>Percentage=%{y}<extra></extra>\",\"legendgroup\":\"Geography\",\"line\":{\"color\":\"#FF6692\",\"dash\":\"solid\"},\"marker\":{\"symbol\":\"circle\"},\"mode\":\"markers+lines\",\"name\":\"Geography\",\"orientation\":\"v\",\"showlegend\":false,\"x\":[\"2022\",\"2019\",\"2018\",\"2017\",\"2016\"],\"xaxis\":\"x3\",\"y\":[0.53,0.59,0.59,0.56,0.51],\"yaxis\":\"y3\",\"type\":\"scatter\"},{\"hovertemplate\":\"Subject=Geography<br>Grades=C<br>Year=%{x}<br>Percentage=%{y}<extra></extra>\",\"legendgroup\":\"Geography\",\"line\":{\"color\":\"#FF6692\",\"dash\":\"solid\"},\"marker\":{\"symbol\":\"circle\"},\"mode\":\"markers+lines\",\"name\":\"Geography\",\"orientation\":\"v\",\"showlegend\":false,\"x\":[\"2022\",\"2019\",\"2018\",\"2017\",\"2016\"],\"xaxis\":\"x2\",\"y\":[0.41,0.48,0.49,0.45,0.4],\"yaxis\":\"y2\",\"type\":\"scatter\"},{\"hovertemplate\":\"Subject=Geography<br>Grades=D<br>Year=%{x}<br>Percentage=%{y}<extra></extra>\",\"legendgroup\":\"Geography\",\"line\":{\"color\":\"#FF6692\",\"dash\":\"solid\"},\"marker\":{\"symbol\":\"circle\"},\"mode\":\"markers+lines\",\"name\":\"Geography\",\"orientation\":\"v\",\"showlegend\":false,\"x\":[\"2022\",\"2019\",\"2018\",\"2017\",\"2016\"],\"xaxis\":\"x\",\"y\":[0.29,0.43,0.43,0.4,0.35],\"yaxis\":\"y\",\"type\":\"scatter\"},{\"hovertemplate\":\"Subject=German<br>Grades=upA<br>Year=%{x}<br>Percentage=%{y}<extra></extra>\",\"legendgroup\":\"German\",\"line\":{\"color\":\"#B6E880\",\"dash\":\"solid\"},\"marker\":{\"symbol\":\"circle\"},\"mode\":\"markers+lines\",\"name\":\"German\",\"orientation\":\"v\",\"showlegend\":true,\"x\":[\"2022\",\"2019\",\"2018\",\"2017\",\"2016\"],\"xaxis\":\"x5\",\"y\":[0.83,0.85,0.85,0.85,0.85],\"yaxis\":\"y5\",\"type\":\"scatter\"},{\"hovertemplate\":\"Subject=German<br>Grades=A<br>Year=%{x}<br>Percentage=%{y}<extra></extra>\",\"legendgroup\":\"German\",\"line\":{\"color\":\"#B6E880\",\"dash\":\"solid\"},\"marker\":{\"symbol\":\"circle\"},\"mode\":\"markers+lines\",\"name\":\"German\",\"orientation\":\"v\",\"showlegend\":false,\"x\":[\"2022\",\"2019\",\"2018\",\"2017\",\"2016\"],\"xaxis\":\"x4\",\"y\":[0.68,0.7,0.7,0.7,0.7],\"yaxis\":\"y4\",\"type\":\"scatter\"},{\"hovertemplate\":\"Subject=German<br>Grades=B<br>Year=%{x}<br>Percentage=%{y}<extra></extra>\",\"legendgroup\":\"German\",\"line\":{\"color\":\"#B6E880\",\"dash\":\"solid\"},\"marker\":{\"symbol\":\"circle\"},\"mode\":\"markers+lines\",\"name\":\"German\",\"orientation\":\"v\",\"showlegend\":false,\"x\":[\"2022\",\"2019\",\"2018\",\"2017\",\"2016\"],\"xaxis\":\"x3\",\"y\":[0.58,0.6,0.6,0.6,0.6],\"yaxis\":\"y3\",\"type\":\"scatter\"},{\"hovertemplate\":\"Subject=German<br>Grades=C<br>Year=%{x}<br>Percentage=%{y}<extra></extra>\",\"legendgroup\":\"German\",\"line\":{\"color\":\"#B6E880\",\"dash\":\"solid\"},\"marker\":{\"symbol\":\"circle\"},\"mode\":\"markers+lines\",\"name\":\"German\",\"orientation\":\"v\",\"showlegend\":false,\"x\":[\"2022\",\"2019\",\"2018\",\"2017\",\"2016\"],\"xaxis\":\"x2\",\"y\":[0.48,0.5,0.5,0.5,0.5],\"yaxis\":\"y2\",\"type\":\"scatter\"},{\"hovertemplate\":\"Subject=German<br>Grades=D<br>Year=%{x}<br>Percentage=%{y}<extra></extra>\",\"legendgroup\":\"German\",\"line\":{\"color\":\"#B6E880\",\"dash\":\"solid\"},\"marker\":{\"symbol\":\"circle\"},\"mode\":\"markers+lines\",\"name\":\"German\",\"orientation\":\"v\",\"showlegend\":false,\"x\":[\"2022\",\"2019\",\"2018\",\"2017\",\"2016\"],\"xaxis\":\"x\",\"y\":[0.38,0.45,0.45,0.45,0.45],\"yaxis\":\"y\",\"type\":\"scatter\"},{\"hovertemplate\":\"Subject=Graphic Communication<br>Grades=upA<br>Year=%{x}<br>Percentage=%{y}<extra></extra>\",\"legendgroup\":\"Graphic Communication\",\"line\":{\"color\":\"#FF97FF\",\"dash\":\"solid\"},\"marker\":{\"symbol\":\"circle\"},\"mode\":\"markers+lines\",\"name\":\"Graphic Communication\",\"orientation\":\"v\",\"showlegend\":true,\"x\":[\"2022\",\"2019\",\"2018\",\"2017\",\"2016\"],\"xaxis\":\"x5\",\"y\":[0.75,0.9,0.93,0.92,0.9],\"yaxis\":\"y5\",\"type\":\"scatter\"},{\"hovertemplate\":\"Subject=Graphic Communication<br>Grades=A<br>Year=%{x}<br>Percentage=%{y}<extra></extra>\",\"legendgroup\":\"Graphic Communication\",\"line\":{\"color\":\"#FF97FF\",\"dash\":\"solid\"},\"marker\":{\"symbol\":\"circle\"},\"mode\":\"markers+lines\",\"name\":\"Graphic Communication\",\"orientation\":\"v\",\"showlegend\":false,\"x\":[\"2022\",\"2019\",\"2018\",\"2017\",\"2016\"],\"xaxis\":\"x4\",\"y\":[0.6,0.74,0.78,0.76,0.75],\"yaxis\":\"y4\",\"type\":\"scatter\"},{\"hovertemplate\":\"Subject=Graphic Communication<br>Grades=B<br>Year=%{x}<br>Percentage=%{y}<extra></extra>\",\"legendgroup\":\"Graphic Communication\",\"line\":{\"color\":\"#FF97FF\",\"dash\":\"solid\"},\"marker\":{\"symbol\":\"circle\"},\"mode\":\"markers+lines\",\"name\":\"Graphic Communication\",\"orientation\":\"v\",\"showlegend\":false,\"x\":[\"2022\",\"2019\",\"2018\",\"2017\",\"2016\"],\"xaxis\":\"x3\",\"y\":[0.5,0.64,0.68,0.66,0.65],\"yaxis\":\"y3\",\"type\":\"scatter\"},{\"hovertemplate\":\"Subject=Graphic Communication<br>Grades=C<br>Year=%{x}<br>Percentage=%{y}<extra></extra>\",\"legendgroup\":\"Graphic Communication\",\"line\":{\"color\":\"#FF97FF\",\"dash\":\"solid\"},\"marker\":{\"symbol\":\"circle\"},\"mode\":\"markers+lines\",\"name\":\"Graphic Communication\",\"orientation\":\"v\",\"showlegend\":false,\"x\":[\"2022\",\"2019\",\"2018\",\"2017\",\"2016\"],\"xaxis\":\"x2\",\"y\":[0.4,0.55,0.58,0.56,0.55],\"yaxis\":\"y2\",\"type\":\"scatter\"},{\"hovertemplate\":\"Subject=Graphic Communication<br>Grades=D<br>Year=%{x}<br>Percentage=%{y}<extra></extra>\",\"legendgroup\":\"Graphic Communication\",\"line\":{\"color\":\"#FF97FF\",\"dash\":\"solid\"},\"marker\":{\"symbol\":\"circle\"},\"mode\":\"markers+lines\",\"name\":\"Graphic Communication\",\"orientation\":\"v\",\"showlegend\":false,\"x\":[\"2022\",\"2019\",\"2018\",\"2017\",\"2016\"],\"xaxis\":\"x\",\"y\":[0.3,0.5,0.53,0.52,0.5],\"yaxis\":\"y\",\"type\":\"scatter\"},{\"hovertemplate\":\"Subject=G\\u00e0idhlig<br>Grades=upA<br>Year=%{x}<br>Percentage=%{y}<extra></extra>\",\"legendgroup\":\"G\\u00e0idhlig\",\"line\":{\"color\":\"#FECB52\",\"dash\":\"solid\"},\"marker\":{\"symbol\":\"circle\"},\"mode\":\"markers+lines\",\"name\":\"G\\u00e0idhlig\",\"orientation\":\"v\",\"showlegend\":true,\"x\":[\"2022\",\"2019\",\"2018\",\"2017\",\"2016\"],\"xaxis\":\"x5\",\"y\":[0.85,0.85,0.85,0.85,0.85],\"yaxis\":\"y5\",\"type\":\"scatter\"},{\"hovertemplate\":\"Subject=G\\u00e0idhlig<br>Grades=A<br>Year=%{x}<br>Percentage=%{y}<extra></extra>\",\"legendgroup\":\"G\\u00e0idhlig\",\"line\":{\"color\":\"#FECB52\",\"dash\":\"solid\"},\"marker\":{\"symbol\":\"circle\"},\"mode\":\"markers+lines\",\"name\":\"G\\u00e0idhlig\",\"orientation\":\"v\",\"showlegend\":false,\"x\":[\"2022\",\"2019\",\"2018\",\"2017\",\"2016\"],\"xaxis\":\"x4\",\"y\":[0.7,0.7,0.7,0.7,0.7],\"yaxis\":\"y4\",\"type\":\"scatter\"},{\"hovertemplate\":\"Subject=G\\u00e0idhlig<br>Grades=B<br>Year=%{x}<br>Percentage=%{y}<extra></extra>\",\"legendgroup\":\"G\\u00e0idhlig\",\"line\":{\"color\":\"#FECB52\",\"dash\":\"solid\"},\"marker\":{\"symbol\":\"circle\"},\"mode\":\"markers+lines\",\"name\":\"G\\u00e0idhlig\",\"orientation\":\"v\",\"showlegend\":false,\"x\":[\"2022\",\"2019\",\"2018\",\"2017\",\"2016\"],\"xaxis\":\"x3\",\"y\":[0.59,0.6,0.6,0.6,0.6],\"yaxis\":\"y3\",\"type\":\"scatter\"},{\"hovertemplate\":\"Subject=G\\u00e0idhlig<br>Grades=C<br>Year=%{x}<br>Percentage=%{y}<extra></extra>\",\"legendgroup\":\"G\\u00e0idhlig\",\"line\":{\"color\":\"#FECB52\",\"dash\":\"solid\"},\"marker\":{\"symbol\":\"circle\"},\"mode\":\"markers+lines\",\"name\":\"G\\u00e0idhlig\",\"orientation\":\"v\",\"showlegend\":false,\"x\":[\"2022\",\"2019\",\"2018\",\"2017\",\"2016\"],\"xaxis\":\"x2\",\"y\":[0.5,0.5,0.5,0.5,0.5],\"yaxis\":\"y2\",\"type\":\"scatter\"},{\"hovertemplate\":\"Subject=G\\u00e0idhlig<br>Grades=D<br>Year=%{x}<br>Percentage=%{y}<extra></extra>\",\"legendgroup\":\"G\\u00e0idhlig\",\"line\":{\"color\":\"#FECB52\",\"dash\":\"solid\"},\"marker\":{\"symbol\":\"circle\"},\"mode\":\"markers+lines\",\"name\":\"G\\u00e0idhlig\",\"orientation\":\"v\",\"showlegend\":false,\"x\":[\"2022\",\"2019\",\"2018\",\"2017\",\"2016\"],\"xaxis\":\"x\",\"y\":[0.39,0.45,0.45,0.45,0.45],\"yaxis\":\"y\",\"type\":\"scatter\"},{\"hovertemplate\":\"Subject=Health and Food Technology<br>Grades=upA<br>Year=%{x}<br>Percentage=%{y}<extra></extra>\",\"legendgroup\":\"Health and Food Technology\",\"line\":{\"color\":\"#636efa\",\"dash\":\"solid\"},\"marker\":{\"symbol\":\"circle\"},\"mode\":\"markers+lines\",\"name\":\"Health and Food Technology\",\"orientation\":\"v\",\"showlegend\":true,\"x\":[\"2022\",\"2019\",\"2018\",\"2017\",\"2016\"],\"xaxis\":\"x5\",\"y\":[0.82,0.85,0.85,0.85,0.82],\"yaxis\":\"y5\",\"type\":\"scatter\"},{\"hovertemplate\":\"Subject=Health and Food Technology<br>Grades=A<br>Year=%{x}<br>Percentage=%{y}<extra></extra>\",\"legendgroup\":\"Health and Food Technology\",\"line\":{\"color\":\"#636efa\",\"dash\":\"solid\"},\"marker\":{\"symbol\":\"circle\"},\"mode\":\"markers+lines\",\"name\":\"Health and Food Technology\",\"orientation\":\"v\",\"showlegend\":false,\"x\":[\"2022\",\"2019\",\"2018\",\"2017\",\"2016\"],\"xaxis\":\"x4\",\"y\":[0.7,0.7,0.7,0.7,0.67],\"yaxis\":\"y4\",\"type\":\"scatter\"},{\"hovertemplate\":\"Subject=Health and Food Technology<br>Grades=B<br>Year=%{x}<br>Percentage=%{y}<extra></extra>\",\"legendgroup\":\"Health and Food Technology\",\"line\":{\"color\":\"#636efa\",\"dash\":\"solid\"},\"marker\":{\"symbol\":\"circle\"},\"mode\":\"markers+lines\",\"name\":\"Health and Food Technology\",\"orientation\":\"v\",\"showlegend\":false,\"x\":[\"2022\",\"2019\",\"2018\",\"2017\",\"2016\"],\"xaxis\":\"x3\",\"y\":[0.57,0.6,0.6,0.6,0.57],\"yaxis\":\"y3\",\"type\":\"scatter\"},{\"hovertemplate\":\"Subject=Health and Food Technology<br>Grades=C<br>Year=%{x}<br>Percentage=%{y}<extra></extra>\",\"legendgroup\":\"Health and Food Technology\",\"line\":{\"color\":\"#636efa\",\"dash\":\"solid\"},\"marker\":{\"symbol\":\"circle\"},\"mode\":\"markers+lines\",\"name\":\"Health and Food Technology\",\"orientation\":\"v\",\"showlegend\":false,\"x\":[\"2022\",\"2019\",\"2018\",\"2017\",\"2016\"],\"xaxis\":\"x2\",\"y\":[0.45,0.5,0.5,0.5,0.47],\"yaxis\":\"y2\",\"type\":\"scatter\"},{\"hovertemplate\":\"Subject=Health and Food Technology<br>Grades=D<br>Year=%{x}<br>Percentage=%{y}<extra></extra>\",\"legendgroup\":\"Health and Food Technology\",\"line\":{\"color\":\"#636efa\",\"dash\":\"solid\"},\"marker\":{\"symbol\":\"circle\"},\"mode\":\"markers+lines\",\"name\":\"Health and Food Technology\",\"orientation\":\"v\",\"showlegend\":false,\"x\":[\"2022\",\"2019\",\"2018\",\"2017\",\"2016\"],\"xaxis\":\"x\",\"y\":[0.32,0.45,0.45,0.45,0.42],\"yaxis\":\"y\",\"type\":\"scatter\"},{\"hovertemplate\":\"Subject=History<br>Grades=upA<br>Year=%{x}<br>Percentage=%{y}<extra></extra>\",\"legendgroup\":\"History\",\"line\":{\"color\":\"#EF553B\",\"dash\":\"solid\"},\"marker\":{\"symbol\":\"circle\"},\"mode\":\"markers+lines\",\"name\":\"History\",\"orientation\":\"v\",\"showlegend\":true,\"x\":[\"2022\",\"2019\",\"2018\",\"2017\",\"2016\"],\"xaxis\":\"x5\",\"y\":[0.82,0.85,0.85,0.85,0.85],\"yaxis\":\"y5\",\"type\":\"scatter\"},{\"hovertemplate\":\"Subject=History<br>Grades=A<br>Year=%{x}<br>Percentage=%{y}<extra></extra>\",\"legendgroup\":\"History\",\"line\":{\"color\":\"#EF553B\",\"dash\":\"solid\"},\"marker\":{\"symbol\":\"circle\"},\"mode\":\"markers+lines\",\"name\":\"History\",\"orientation\":\"v\",\"showlegend\":false,\"x\":[\"2022\",\"2019\",\"2018\",\"2017\",\"2016\"],\"xaxis\":\"x4\",\"y\":[0.67,0.7,0.7,0.7,0.7],\"yaxis\":\"y4\",\"type\":\"scatter\"},{\"hovertemplate\":\"Subject=History<br>Grades=B<br>Year=%{x}<br>Percentage=%{y}<extra></extra>\",\"legendgroup\":\"History\",\"line\":{\"color\":\"#EF553B\",\"dash\":\"solid\"},\"marker\":{\"symbol\":\"circle\"},\"mode\":\"markers+lines\",\"name\":\"History\",\"orientation\":\"v\",\"showlegend\":false,\"x\":[\"2022\",\"2019\",\"2018\",\"2017\",\"2016\"],\"xaxis\":\"x3\",\"y\":[0.56,0.6,0.6,0.6,0.6],\"yaxis\":\"y3\",\"type\":\"scatter\"},{\"hovertemplate\":\"Subject=History<br>Grades=C<br>Year=%{x}<br>Percentage=%{y}<extra></extra>\",\"legendgroup\":\"History\",\"line\":{\"color\":\"#EF553B\",\"dash\":\"solid\"},\"marker\":{\"symbol\":\"circle\"},\"mode\":\"markers+lines\",\"name\":\"History\",\"orientation\":\"v\",\"showlegend\":false,\"x\":[\"2022\",\"2019\",\"2018\",\"2017\",\"2016\"],\"xaxis\":\"x2\",\"y\":[0.46,0.5,0.5,0.5,0.5],\"yaxis\":\"y2\",\"type\":\"scatter\"},{\"hovertemplate\":\"Subject=History<br>Grades=D<br>Year=%{x}<br>Percentage=%{y}<extra></extra>\",\"legendgroup\":\"History\",\"line\":{\"color\":\"#EF553B\",\"dash\":\"solid\"},\"marker\":{\"symbol\":\"circle\"},\"mode\":\"markers+lines\",\"name\":\"History\",\"orientation\":\"v\",\"showlegend\":false,\"x\":[\"2022\",\"2019\",\"2018\",\"2017\",\"2016\"],\"xaxis\":\"x\",\"y\":[0.35,0.45,0.45,0.45,0.45],\"yaxis\":\"y\",\"type\":\"scatter\"},{\"hovertemplate\":\"Subject=Italian<br>Grades=upA<br>Year=%{x}<br>Percentage=%{y}<extra></extra>\",\"legendgroup\":\"Italian\",\"line\":{\"color\":\"#00cc96\",\"dash\":\"solid\"},\"marker\":{\"symbol\":\"circle\"},\"mode\":\"markers+lines\",\"name\":\"Italian\",\"orientation\":\"v\",\"showlegend\":true,\"x\":[\"2022\",\"2019\",\"2018\",\"2017\",\"2016\"],\"xaxis\":\"x5\",\"y\":[0.83,0.85,0.85,0.85,0.85],\"yaxis\":\"y5\",\"type\":\"scatter\"},{\"hovertemplate\":\"Subject=Italian<br>Grades=A<br>Year=%{x}<br>Percentage=%{y}<extra></extra>\",\"legendgroup\":\"Italian\",\"line\":{\"color\":\"#00cc96\",\"dash\":\"solid\"},\"marker\":{\"symbol\":\"circle\"},\"mode\":\"markers+lines\",\"name\":\"Italian\",\"orientation\":\"v\",\"showlegend\":false,\"x\":[\"2022\",\"2019\",\"2018\",\"2017\",\"2016\"],\"xaxis\":\"x4\",\"y\":[0.68,0.7,0.7,0.7,0.7],\"yaxis\":\"y4\",\"type\":\"scatter\"},{\"hovertemplate\":\"Subject=Italian<br>Grades=B<br>Year=%{x}<br>Percentage=%{y}<extra></extra>\",\"legendgroup\":\"Italian\",\"line\":{\"color\":\"#00cc96\",\"dash\":\"solid\"},\"marker\":{\"symbol\":\"circle\"},\"mode\":\"markers+lines\",\"name\":\"Italian\",\"orientation\":\"v\",\"showlegend\":false,\"x\":[\"2022\",\"2019\",\"2018\",\"2017\",\"2016\"],\"xaxis\":\"x3\",\"y\":[0.58,0.6,0.6,0.6,0.6],\"yaxis\":\"y3\",\"type\":\"scatter\"},{\"hovertemplate\":\"Subject=Italian<br>Grades=C<br>Year=%{x}<br>Percentage=%{y}<extra></extra>\",\"legendgroup\":\"Italian\",\"line\":{\"color\":\"#00cc96\",\"dash\":\"solid\"},\"marker\":{\"symbol\":\"circle\"},\"mode\":\"markers+lines\",\"name\":\"Italian\",\"orientation\":\"v\",\"showlegend\":false,\"x\":[\"2022\",\"2019\",\"2018\",\"2017\",\"2016\"],\"xaxis\":\"x2\",\"y\":[0.48,0.5,0.5,0.5,0.5],\"yaxis\":\"y2\",\"type\":\"scatter\"},{\"hovertemplate\":\"Subject=Italian<br>Grades=D<br>Year=%{x}<br>Percentage=%{y}<extra></extra>\",\"legendgroup\":\"Italian\",\"line\":{\"color\":\"#00cc96\",\"dash\":\"solid\"},\"marker\":{\"symbol\":\"circle\"},\"mode\":\"markers+lines\",\"name\":\"Italian\",\"orientation\":\"v\",\"showlegend\":false,\"x\":[\"2022\",\"2019\",\"2018\",\"2017\",\"2016\"],\"xaxis\":\"x\",\"y\":[0.38,0.45,0.45,0.45,0.45],\"yaxis\":\"y\",\"type\":\"scatter\"},{\"hovertemplate\":\"Subject=Latin<br>Grades=upA<br>Year=%{x}<br>Percentage=%{y}<extra></extra>\",\"legendgroup\":\"Latin\",\"line\":{\"color\":\"#ab63fa\",\"dash\":\"solid\"},\"marker\":{\"symbol\":\"circle\"},\"mode\":\"markers+lines\",\"name\":\"Latin\",\"orientation\":\"v\",\"showlegend\":true,\"x\":[\"2022\",\"2019\",\"2018\",\"2017\",\"2016\"],\"xaxis\":\"x5\",\"y\":[0.84,0.85,0.85,0.85,0.85],\"yaxis\":\"y5\",\"type\":\"scatter\"},{\"hovertemplate\":\"Subject=Latin<br>Grades=A<br>Year=%{x}<br>Percentage=%{y}<extra></extra>\",\"legendgroup\":\"Latin\",\"line\":{\"color\":\"#ab63fa\",\"dash\":\"solid\"},\"marker\":{\"symbol\":\"circle\"},\"mode\":\"markers+lines\",\"name\":\"Latin\",\"orientation\":\"v\",\"showlegend\":false,\"x\":[\"2022\",\"2019\",\"2018\",\"2017\",\"2016\"],\"xaxis\":\"x4\",\"y\":[0.69,0.7,0.7,0.7,0.7],\"yaxis\":\"y4\",\"type\":\"scatter\"},{\"hovertemplate\":\"Subject=Latin<br>Grades=B<br>Year=%{x}<br>Percentage=%{y}<extra></extra>\",\"legendgroup\":\"Latin\",\"line\":{\"color\":\"#ab63fa\",\"dash\":\"solid\"},\"marker\":{\"symbol\":\"circle\"},\"mode\":\"markers+lines\",\"name\":\"Latin\",\"orientation\":\"v\",\"showlegend\":false,\"x\":[\"2022\",\"2019\",\"2018\",\"2017\",\"2016\"],\"xaxis\":\"x3\",\"y\":[0.59,0.6,0.6,0.6,0.6],\"yaxis\":\"y3\",\"type\":\"scatter\"},{\"hovertemplate\":\"Subject=Latin<br>Grades=C<br>Year=%{x}<br>Percentage=%{y}<extra></extra>\",\"legendgroup\":\"Latin\",\"line\":{\"color\":\"#ab63fa\",\"dash\":\"solid\"},\"marker\":{\"symbol\":\"circle\"},\"mode\":\"markers+lines\",\"name\":\"Latin\",\"orientation\":\"v\",\"showlegend\":false,\"x\":[\"2022\",\"2019\",\"2018\",\"2017\",\"2016\"],\"xaxis\":\"x2\",\"y\":[0.49,0.5,0.5,0.5,0.5],\"yaxis\":\"y2\",\"type\":\"scatter\"},{\"hovertemplate\":\"Subject=Latin<br>Grades=D<br>Year=%{x}<br>Percentage=%{y}<extra></extra>\",\"legendgroup\":\"Latin\",\"line\":{\"color\":\"#ab63fa\",\"dash\":\"solid\"},\"marker\":{\"symbol\":\"circle\"},\"mode\":\"markers+lines\",\"name\":\"Latin\",\"orientation\":\"v\",\"showlegend\":false,\"x\":[\"2022\",\"2019\",\"2018\",\"2017\",\"2016\"],\"xaxis\":\"x\",\"y\":[0.39,0.45,0.45,0.45,0.45],\"yaxis\":\"y\",\"type\":\"scatter\"},{\"hovertemplate\":\"Subject=Mathematics<br>Grades=upA<br>Year=%{x}<br>Percentage=%{y}<extra></extra>\",\"legendgroup\":\"Mathematics\",\"line\":{\"color\":\"#FFA15A\",\"dash\":\"solid\"},\"marker\":{\"symbol\":\"circle\"},\"mode\":\"markers+lines\",\"name\":\"Mathematics\",\"orientation\":\"v\",\"showlegend\":true,\"x\":[\"2022\",\"2019\",\"2018\",\"2017\",\"2016\"],\"xaxis\":\"x5\",\"y\":[0.84,0.82,0.89,0.87,0.89],\"yaxis\":\"y5\",\"type\":\"scatter\"},{\"hovertemplate\":\"Subject=Mathematics<br>Grades=A<br>Year=%{x}<br>Percentage=%{y}<extra></extra>\",\"legendgroup\":\"Mathematics\",\"line\":{\"color\":\"#FFA15A\",\"dash\":\"solid\"},\"marker\":{\"symbol\":\"circle\"},\"mode\":\"markers+lines\",\"name\":\"Mathematics\",\"orientation\":\"v\",\"showlegend\":false,\"x\":[\"2022\",\"2019\",\"2018\",\"2017\",\"2016\"],\"xaxis\":\"x4\",\"y\":[0.68,0.64,0.75,0.71,0.73],\"yaxis\":\"y4\",\"type\":\"scatter\"},{\"hovertemplate\":\"Subject=Mathematics<br>Grades=B<br>Year=%{x}<br>Percentage=%{y}<extra></extra>\",\"legendgroup\":\"Mathematics\",\"line\":{\"color\":\"#FFA15A\",\"dash\":\"solid\"},\"marker\":{\"symbol\":\"circle\"},\"mode\":\"markers+lines\",\"name\":\"Mathematics\",\"orientation\":\"v\",\"showlegend\":false,\"x\":[\"2022\",\"2019\",\"2018\",\"2017\",\"2016\"],\"xaxis\":\"x3\",\"y\":[0.56,0.53,0.64,0.6,0.63],\"yaxis\":\"y3\",\"type\":\"scatter\"},{\"hovertemplate\":\"Subject=Mathematics<br>Grades=C<br>Year=%{x}<br>Percentage=%{y}<extra></extra>\",\"legendgroup\":\"Mathematics\",\"line\":{\"color\":\"#FFA15A\",\"dash\":\"solid\"},\"marker\":{\"symbol\":\"circle\"},\"mode\":\"markers+lines\",\"name\":\"Mathematics\",\"orientation\":\"v\",\"showlegend\":false,\"x\":[\"2022\",\"2019\",\"2018\",\"2017\",\"2016\"],\"xaxis\":\"x2\",\"y\":[0.44,0.42,0.54,0.49,0.53],\"yaxis\":\"y2\",\"type\":\"scatter\"},{\"hovertemplate\":\"Subject=Mathematics<br>Grades=D<br>Year=%{x}<br>Percentage=%{y}<extra></extra>\",\"legendgroup\":\"Mathematics\",\"line\":{\"color\":\"#FFA15A\",\"dash\":\"solid\"},\"marker\":{\"symbol\":\"circle\"},\"mode\":\"markers+lines\",\"name\":\"Mathematics\",\"orientation\":\"v\",\"showlegend\":false,\"x\":[\"2022\",\"2019\",\"2018\",\"2017\",\"2016\"],\"xaxis\":\"x\",\"y\":[0.32,0.36,0.49,0.43,0.48],\"yaxis\":\"y\",\"type\":\"scatter\"},{\"hovertemplate\":\"Subject=Mathematics of Mechanics<br>Grades=upA<br>Year=%{x}<br>Percentage=%{y}<extra></extra>\",\"legendgroup\":\"Mathematics of Mechanics\",\"line\":{\"color\":\"#19d3f3\",\"dash\":\"solid\"},\"marker\":{\"symbol\":\"circle\"},\"mode\":\"markers+lines\",\"name\":\"Mathematics of Mechanics\",\"orientation\":\"v\",\"showlegend\":true,\"x\":[\"2022\",\"2019\",\"2018\",\"2017\",\"2016\"],\"xaxis\":\"x5\",\"y\":[0.84,0.81,0.84,0.88,0.83],\"yaxis\":\"y5\",\"type\":\"scatter\"},{\"hovertemplate\":\"Subject=Mathematics of Mechanics<br>Grades=A<br>Year=%{x}<br>Percentage=%{y}<extra></extra>\",\"legendgroup\":\"Mathematics of Mechanics\",\"line\":{\"color\":\"#19d3f3\",\"dash\":\"solid\"},\"marker\":{\"symbol\":\"circle\"},\"mode\":\"markers+lines\",\"name\":\"Mathematics of Mechanics\",\"orientation\":\"v\",\"showlegend\":false,\"x\":[\"2022\",\"2019\",\"2018\",\"2017\",\"2016\"],\"xaxis\":\"x4\",\"y\":[0.7,0.65,0.69,0.7,0.68],\"yaxis\":\"y4\",\"type\":\"scatter\"},{\"hovertemplate\":\"Subject=Mathematics of Mechanics<br>Grades=B<br>Year=%{x}<br>Percentage=%{y}<extra></extra>\",\"legendgroup\":\"Mathematics of Mechanics\",\"line\":{\"color\":\"#19d3f3\",\"dash\":\"solid\"},\"marker\":{\"symbol\":\"circle\"},\"mode\":\"markers+lines\",\"name\":\"Mathematics of Mechanics\",\"orientation\":\"v\",\"showlegend\":false,\"x\":[\"2022\",\"2019\",\"2018\",\"2017\",\"2016\"],\"xaxis\":\"x3\",\"y\":[0.6,0.54,0.59,0.6,0.58],\"yaxis\":\"y3\",\"type\":\"scatter\"},{\"hovertemplate\":\"Subject=Mathematics of Mechanics<br>Grades=C<br>Year=%{x}<br>Percentage=%{y}<extra></extra>\",\"legendgroup\":\"Mathematics of Mechanics\",\"line\":{\"color\":\"#19d3f3\",\"dash\":\"solid\"},\"marker\":{\"symbol\":\"circle\"},\"mode\":\"markers+lines\",\"name\":\"Mathematics of Mechanics\",\"orientation\":\"v\",\"showlegend\":false,\"x\":[\"2022\",\"2019\",\"2018\",\"2017\",\"2016\"],\"xaxis\":\"x2\",\"y\":[0.5,0.43,0.5,0.5,0.48],\"yaxis\":\"y2\",\"type\":\"scatter\"},{\"hovertemplate\":\"Subject=Mathematics of Mechanics<br>Grades=D<br>Year=%{x}<br>Percentage=%{y}<extra></extra>\",\"legendgroup\":\"Mathematics of Mechanics\",\"line\":{\"color\":\"#19d3f3\",\"dash\":\"solid\"},\"marker\":{\"symbol\":\"circle\"},\"mode\":\"markers+lines\",\"name\":\"Mathematics of Mechanics\",\"orientation\":\"v\",\"showlegend\":false,\"x\":[\"2022\",\"2019\",\"2018\",\"2017\",\"2016\"],\"xaxis\":\"x\",\"y\":[0.4,0.37,0.45,0.45,0.43],\"yaxis\":\"y\",\"type\":\"scatter\"},{\"hovertemplate\":\"Subject=Modern Studies<br>Grades=upA<br>Year=%{x}<br>Percentage=%{y}<extra></extra>\",\"legendgroup\":\"Modern Studies\",\"line\":{\"color\":\"#FF6692\",\"dash\":\"solid\"},\"marker\":{\"symbol\":\"circle\"},\"mode\":\"markers+lines\",\"name\":\"Modern Studies\",\"orientation\":\"v\",\"showlegend\":true,\"x\":[\"2022\",\"2019\",\"2018\",\"2017\",\"2016\"],\"xaxis\":\"x5\",\"y\":[0.84,0.85,0.85,0.85,0.85],\"yaxis\":\"y5\",\"type\":\"scatter\"},{\"hovertemplate\":\"Subject=Modern Studies<br>Grades=A<br>Year=%{x}<br>Percentage=%{y}<extra></extra>\",\"legendgroup\":\"Modern Studies\",\"line\":{\"color\":\"#FF6692\",\"dash\":\"solid\"},\"marker\":{\"symbol\":\"circle\"},\"mode\":\"markers+lines\",\"name\":\"Modern Studies\",\"orientation\":\"v\",\"showlegend\":false,\"x\":[\"2022\",\"2019\",\"2018\",\"2017\",\"2016\"],\"xaxis\":\"x4\",\"y\":[0.69,0.7,0.7,0.7,0.71],\"yaxis\":\"y4\",\"type\":\"scatter\"},{\"hovertemplate\":\"Subject=Modern Studies<br>Grades=B<br>Year=%{x}<br>Percentage=%{y}<extra></extra>\",\"legendgroup\":\"Modern Studies\",\"line\":{\"color\":\"#FF6692\",\"dash\":\"solid\"},\"marker\":{\"symbol\":\"circle\"},\"mode\":\"markers+lines\",\"name\":\"Modern Studies\",\"orientation\":\"v\",\"showlegend\":false,\"x\":[\"2022\",\"2019\",\"2018\",\"2017\",\"2016\"],\"xaxis\":\"x3\",\"y\":[0.59,0.6,0.6,0.6,0.61],\"yaxis\":\"y3\",\"type\":\"scatter\"},{\"hovertemplate\":\"Subject=Modern Studies<br>Grades=C<br>Year=%{x}<br>Percentage=%{y}<extra></extra>\",\"legendgroup\":\"Modern Studies\",\"line\":{\"color\":\"#FF6692\",\"dash\":\"solid\"},\"marker\":{\"symbol\":\"circle\"},\"mode\":\"markers+lines\",\"name\":\"Modern Studies\",\"orientation\":\"v\",\"showlegend\":false,\"x\":[\"2022\",\"2019\",\"2018\",\"2017\",\"2016\"],\"xaxis\":\"x2\",\"y\":[0.49,0.5,0.5,0.5,0.5],\"yaxis\":\"y2\",\"type\":\"scatter\"},{\"hovertemplate\":\"Subject=Modern Studies<br>Grades=D<br>Year=%{x}<br>Percentage=%{y}<extra></extra>\",\"legendgroup\":\"Modern Studies\",\"line\":{\"color\":\"#FF6692\",\"dash\":\"solid\"},\"marker\":{\"symbol\":\"circle\"},\"mode\":\"markers+lines\",\"name\":\"Modern Studies\",\"orientation\":\"v\",\"showlegend\":false,\"x\":[\"2022\",\"2019\",\"2018\",\"2017\",\"2016\"],\"xaxis\":\"x\",\"y\":[0.39,0.45,0.45,0.45,0.44],\"yaxis\":\"y\",\"type\":\"scatter\"},{\"hovertemplate\":\"Subject=Music<br>Grades=upA<br>Year=%{x}<br>Percentage=%{y}<extra></extra>\",\"legendgroup\":\"Music\",\"line\":{\"color\":\"#B6E880\",\"dash\":\"solid\"},\"marker\":{\"symbol\":\"circle\"},\"mode\":\"markers+lines\",\"name\":\"Music\",\"orientation\":\"v\",\"showlegend\":true,\"x\":[\"2022\",\"2019\",\"2018\",\"2017\",\"2016\"],\"xaxis\":\"x5\",\"y\":[0.83,0.85,0.85,0.85,0.85],\"yaxis\":\"y5\",\"type\":\"scatter\"},{\"hovertemplate\":\"Subject=Music<br>Grades=A<br>Year=%{x}<br>Percentage=%{y}<extra></extra>\",\"legendgroup\":\"Music\",\"line\":{\"color\":\"#B6E880\",\"dash\":\"solid\"},\"marker\":{\"symbol\":\"circle\"},\"mode\":\"markers+lines\",\"name\":\"Music\",\"orientation\":\"v\",\"showlegend\":false,\"x\":[\"2022\",\"2019\",\"2018\",\"2017\",\"2016\"],\"xaxis\":\"x4\",\"y\":[0.68,0.7,0.7,0.7,0.7],\"yaxis\":\"y4\",\"type\":\"scatter\"},{\"hovertemplate\":\"Subject=Music<br>Grades=B<br>Year=%{x}<br>Percentage=%{y}<extra></extra>\",\"legendgroup\":\"Music\",\"line\":{\"color\":\"#B6E880\",\"dash\":\"solid\"},\"marker\":{\"symbol\":\"circle\"},\"mode\":\"markers+lines\",\"name\":\"Music\",\"orientation\":\"v\",\"showlegend\":false,\"x\":[\"2022\",\"2019\",\"2018\",\"2017\",\"2016\"],\"xaxis\":\"x3\",\"y\":[0.58,0.6,0.6,0.6,0.6],\"yaxis\":\"y3\",\"type\":\"scatter\"},{\"hovertemplate\":\"Subject=Music<br>Grades=C<br>Year=%{x}<br>Percentage=%{y}<extra></extra>\",\"legendgroup\":\"Music\",\"line\":{\"color\":\"#B6E880\",\"dash\":\"solid\"},\"marker\":{\"symbol\":\"circle\"},\"mode\":\"markers+lines\",\"name\":\"Music\",\"orientation\":\"v\",\"showlegend\":false,\"x\":[\"2022\",\"2019\",\"2018\",\"2017\",\"2016\"],\"xaxis\":\"x2\",\"y\":[0.48,0.5,0.5,0.5,0.5],\"yaxis\":\"y2\",\"type\":\"scatter\"},{\"hovertemplate\":\"Subject=Music<br>Grades=D<br>Year=%{x}<br>Percentage=%{y}<extra></extra>\",\"legendgroup\":\"Music\",\"line\":{\"color\":\"#B6E880\",\"dash\":\"solid\"},\"marker\":{\"symbol\":\"circle\"},\"mode\":\"markers+lines\",\"name\":\"Music\",\"orientation\":\"v\",\"showlegend\":false,\"x\":[\"2022\",\"2019\",\"2018\",\"2017\",\"2016\"],\"xaxis\":\"x\",\"y\":[0.38,0.45,0.45,0.45,0.45],\"yaxis\":\"y\",\"type\":\"scatter\"},{\"hovertemplate\":\"Subject=Music Technology<br>Grades=upA<br>Year=%{x}<br>Percentage=%{y}<extra></extra>\",\"legendgroup\":\"Music Technology\",\"line\":{\"color\":\"#FF97FF\",\"dash\":\"solid\"},\"marker\":{\"symbol\":\"circle\"},\"mode\":\"markers+lines\",\"name\":\"Music Technology\",\"orientation\":\"v\",\"showlegend\":true,\"x\":[\"2022\",\"2019\",\"2018\",\"2017\",\"2016\"],\"xaxis\":\"x5\",\"y\":[0.81,null,null,null,null],\"yaxis\":\"y5\",\"type\":\"scatter\"},{\"hovertemplate\":\"Subject=Music Technology<br>Grades=A<br>Year=%{x}<br>Percentage=%{y}<extra></extra>\",\"legendgroup\":\"Music Technology\",\"line\":{\"color\":\"#FF97FF\",\"dash\":\"solid\"},\"marker\":{\"symbol\":\"circle\"},\"mode\":\"markers+lines\",\"name\":\"Music Technology\",\"orientation\":\"v\",\"showlegend\":false,\"x\":[\"2022\",\"2019\",\"2018\",\"2017\",\"2016\"],\"xaxis\":\"x4\",\"y\":[0.66,null,null,null,null],\"yaxis\":\"y4\",\"type\":\"scatter\"},{\"hovertemplate\":\"Subject=Music Technology<br>Grades=B<br>Year=%{x}<br>Percentage=%{y}<extra></extra>\",\"legendgroup\":\"Music Technology\",\"line\":{\"color\":\"#FF97FF\",\"dash\":\"solid\"},\"marker\":{\"symbol\":\"circle\"},\"mode\":\"markers+lines\",\"name\":\"Music Technology\",\"orientation\":\"v\",\"showlegend\":false,\"x\":[\"2022\",\"2019\",\"2018\",\"2017\",\"2016\"],\"xaxis\":\"x3\",\"y\":[0.56,null,null,null,null],\"yaxis\":\"y3\",\"type\":\"scatter\"},{\"hovertemplate\":\"Subject=Music Technology<br>Grades=C<br>Year=%{x}<br>Percentage=%{y}<extra></extra>\",\"legendgroup\":\"Music Technology\",\"line\":{\"color\":\"#FF97FF\",\"dash\":\"solid\"},\"marker\":{\"symbol\":\"circle\"},\"mode\":\"markers+lines\",\"name\":\"Music Technology\",\"orientation\":\"v\",\"showlegend\":false,\"x\":[\"2022\",\"2019\",\"2018\",\"2017\",\"2016\"],\"xaxis\":\"x2\",\"y\":[0.46,null,null,null,null],\"yaxis\":\"y2\",\"type\":\"scatter\"},{\"hovertemplate\":\"Subject=Music Technology<br>Grades=D<br>Year=%{x}<br>Percentage=%{y}<extra></extra>\",\"legendgroup\":\"Music Technology\",\"line\":{\"color\":\"#FF97FF\",\"dash\":\"solid\"},\"marker\":{\"symbol\":\"circle\"},\"mode\":\"markers+lines\",\"name\":\"Music Technology\",\"orientation\":\"v\",\"showlegend\":false,\"x\":[\"2022\",\"2019\",\"2018\",\"2017\",\"2016\"],\"xaxis\":\"x\",\"y\":[0.36,null,null,null,null],\"yaxis\":\"y\",\"type\":\"scatter\"},{\"hovertemplate\":\"Subject=Music: Portfolio<br>Grades=upA<br>Year=%{x}<br>Percentage=%{y}<extra></extra>\",\"legendgroup\":\"Music: Portfolio\",\"line\":{\"color\":\"#FECB52\",\"dash\":\"solid\"},\"marker\":{\"symbol\":\"circle\"},\"mode\":\"markers+lines\",\"name\":\"Music: Portfolio\",\"orientation\":\"v\",\"showlegend\":true,\"x\":[\"2022\",\"2019\",\"2018\",\"2017\",\"2016\"],\"xaxis\":\"x5\",\"y\":[0.83,0.85,0.85,0.85,0.85],\"yaxis\":\"y5\",\"type\":\"scatter\"},{\"hovertemplate\":\"Subject=Music: Portfolio<br>Grades=A<br>Year=%{x}<br>Percentage=%{y}<extra></extra>\",\"legendgroup\":\"Music: Portfolio\",\"line\":{\"color\":\"#FECB52\",\"dash\":\"solid\"},\"marker\":{\"symbol\":\"circle\"},\"mode\":\"markers+lines\",\"name\":\"Music: Portfolio\",\"orientation\":\"v\",\"showlegend\":false,\"x\":[\"2022\",\"2019\",\"2018\",\"2017\",\"2016\"],\"xaxis\":\"x4\",\"y\":[0.68,0.7,0.7,0.7,0.7],\"yaxis\":\"y4\",\"type\":\"scatter\"},{\"hovertemplate\":\"Subject=Music: Portfolio<br>Grades=B<br>Year=%{x}<br>Percentage=%{y}<extra></extra>\",\"legendgroup\":\"Music: Portfolio\",\"line\":{\"color\":\"#FECB52\",\"dash\":\"solid\"},\"marker\":{\"symbol\":\"circle\"},\"mode\":\"markers+lines\",\"name\":\"Music: Portfolio\",\"orientation\":\"v\",\"showlegend\":false,\"x\":[\"2022\",\"2019\",\"2018\",\"2017\",\"2016\"],\"xaxis\":\"x3\",\"y\":[0.58,0.6,0.6,0.6,0.6],\"yaxis\":\"y3\",\"type\":\"scatter\"},{\"hovertemplate\":\"Subject=Music: Portfolio<br>Grades=C<br>Year=%{x}<br>Percentage=%{y}<extra></extra>\",\"legendgroup\":\"Music: Portfolio\",\"line\":{\"color\":\"#FECB52\",\"dash\":\"solid\"},\"marker\":{\"symbol\":\"circle\"},\"mode\":\"markers+lines\",\"name\":\"Music: Portfolio\",\"orientation\":\"v\",\"showlegend\":false,\"x\":[\"2022\",\"2019\",\"2018\",\"2017\",\"2016\"],\"xaxis\":\"x2\",\"y\":[0.48,0.5,0.5,0.5,0.5],\"yaxis\":\"y2\",\"type\":\"scatter\"},{\"hovertemplate\":\"Subject=Music: Portfolio<br>Grades=D<br>Year=%{x}<br>Percentage=%{y}<extra></extra>\",\"legendgroup\":\"Music: Portfolio\",\"line\":{\"color\":\"#FECB52\",\"dash\":\"solid\"},\"marker\":{\"symbol\":\"circle\"},\"mode\":\"markers+lines\",\"name\":\"Music: Portfolio\",\"orientation\":\"v\",\"showlegend\":false,\"x\":[\"2022\",\"2019\",\"2018\",\"2017\",\"2016\"],\"xaxis\":\"x\",\"y\":[0.38,0.45,0.45,0.45,0.45],\"yaxis\":\"y\",\"type\":\"scatter\"},{\"hovertemplate\":\"Subject=Physical Education<br>Grades=upA<br>Year=%{x}<br>Percentage=%{y}<extra></extra>\",\"legendgroup\":\"Physical Education\",\"line\":{\"color\":\"#636efa\",\"dash\":\"solid\"},\"marker\":{\"symbol\":\"circle\"},\"mode\":\"markers+lines\",\"name\":\"Physical Education\",\"orientation\":\"v\",\"showlegend\":true,\"x\":[\"2022\",\"2019\",\"2018\",\"2017\",\"2016\"],\"xaxis\":\"x5\",\"y\":[0.85,0.85,0.85,0.9,0.85],\"yaxis\":\"y5\",\"type\":\"scatter\"},{\"hovertemplate\":\"Subject=Physical Education<br>Grades=A<br>Year=%{x}<br>Percentage=%{y}<extra></extra>\",\"legendgroup\":\"Physical Education\",\"line\":{\"color\":\"#636efa\",\"dash\":\"solid\"},\"marker\":{\"symbol\":\"circle\"},\"mode\":\"markers+lines\",\"name\":\"Physical Education\",\"orientation\":\"v\",\"showlegend\":false,\"x\":[\"2022\",\"2019\",\"2018\",\"2017\",\"2016\"],\"xaxis\":\"x4\",\"y\":[0.7,0.7,0.7,0.75,0.7],\"yaxis\":\"y4\",\"type\":\"scatter\"},{\"hovertemplate\":\"Subject=Physical Education<br>Grades=B<br>Year=%{x}<br>Percentage=%{y}<extra></extra>\",\"legendgroup\":\"Physical Education\",\"line\":{\"color\":\"#636efa\",\"dash\":\"solid\"},\"marker\":{\"symbol\":\"circle\"},\"mode\":\"markers+lines\",\"name\":\"Physical Education\",\"orientation\":\"v\",\"showlegend\":false,\"x\":[\"2022\",\"2019\",\"2018\",\"2017\",\"2016\"],\"xaxis\":\"x3\",\"y\":[0.59,0.6,0.6,0.65,0.6],\"yaxis\":\"y3\",\"type\":\"scatter\"},{\"hovertemplate\":\"Subject=Physical Education<br>Grades=C<br>Year=%{x}<br>Percentage=%{y}<extra></extra>\",\"legendgroup\":\"Physical Education\",\"line\":{\"color\":\"#636efa\",\"dash\":\"solid\"},\"marker\":{\"symbol\":\"circle\"},\"mode\":\"markers+lines\",\"name\":\"Physical Education\",\"orientation\":\"v\",\"showlegend\":false,\"x\":[\"2022\",\"2019\",\"2018\",\"2017\",\"2016\"],\"xaxis\":\"x2\",\"y\":[0.48,0.5,0.5,0.55,0.5],\"yaxis\":\"y2\",\"type\":\"scatter\"},{\"hovertemplate\":\"Subject=Physical Education<br>Grades=D<br>Year=%{x}<br>Percentage=%{y}<extra></extra>\",\"legendgroup\":\"Physical Education\",\"line\":{\"color\":\"#636efa\",\"dash\":\"solid\"},\"marker\":{\"symbol\":\"circle\"},\"mode\":\"markers+lines\",\"name\":\"Physical Education\",\"orientation\":\"v\",\"showlegend\":false,\"x\":[\"2022\",\"2019\",\"2018\",\"2017\",\"2016\"],\"xaxis\":\"x\",\"y\":[0.37,0.45,0.45,0.5,0.45],\"yaxis\":\"y\",\"type\":\"scatter\"},{\"hovertemplate\":\"Subject=Physics<br>Grades=upA<br>Year=%{x}<br>Percentage=%{y}<extra></extra>\",\"legendgroup\":\"Physics\",\"line\":{\"color\":\"#EF553B\",\"dash\":\"solid\"},\"marker\":{\"symbol\":\"circle\"},\"mode\":\"markers+lines\",\"name\":\"Physics\",\"orientation\":\"v\",\"showlegend\":true,\"x\":[\"2022\",\"2019\",\"2018\",\"2017\",\"2016\"],\"xaxis\":\"x5\",\"y\":[0.85,0.85,0.84,0.82,0.8],\"yaxis\":\"y5\",\"type\":\"scatter\"},{\"hovertemplate\":\"Subject=Physics<br>Grades=A<br>Year=%{x}<br>Percentage=%{y}<extra></extra>\",\"legendgroup\":\"Physics\",\"line\":{\"color\":\"#EF553B\",\"dash\":\"solid\"},\"marker\":{\"symbol\":\"circle\"},\"mode\":\"markers+lines\",\"name\":\"Physics\",\"orientation\":\"v\",\"showlegend\":false,\"x\":[\"2022\",\"2019\",\"2018\",\"2017\",\"2016\"],\"xaxis\":\"x4\",\"y\":[0.66,0.69,0.67,0.65,0.65],\"yaxis\":\"y4\",\"type\":\"scatter\"},{\"hovertemplate\":\"Subject=Physics<br>Grades=B<br>Year=%{x}<br>Percentage=%{y}<extra></extra>\",\"legendgroup\":\"Physics\",\"line\":{\"color\":\"#EF553B\",\"dash\":\"solid\"},\"marker\":{\"symbol\":\"circle\"},\"mode\":\"markers+lines\",\"name\":\"Physics\",\"orientation\":\"v\",\"showlegend\":false,\"x\":[\"2022\",\"2019\",\"2018\",\"2017\",\"2016\"],\"xaxis\":\"x3\",\"y\":[0.53,0.59,0.56,0.54,0.55],\"yaxis\":\"y3\",\"type\":\"scatter\"},{\"hovertemplate\":\"Subject=Physics<br>Grades=C<br>Year=%{x}<br>Percentage=%{y}<extra></extra>\",\"legendgroup\":\"Physics\",\"line\":{\"color\":\"#EF553B\",\"dash\":\"solid\"},\"marker\":{\"symbol\":\"circle\"},\"mode\":\"markers+lines\",\"name\":\"Physics\",\"orientation\":\"v\",\"showlegend\":false,\"x\":[\"2022\",\"2019\",\"2018\",\"2017\",\"2016\"],\"xaxis\":\"x2\",\"y\":[0.4,0.49,0.46,0.44,0.47],\"yaxis\":\"y2\",\"type\":\"scatter\"},{\"hovertemplate\":\"Subject=Physics<br>Grades=D<br>Year=%{x}<br>Percentage=%{y}<extra></extra>\",\"legendgroup\":\"Physics\",\"line\":{\"color\":\"#EF553B\",\"dash\":\"solid\"},\"marker\":{\"symbol\":\"circle\"},\"mode\":\"markers+lines\",\"name\":\"Physics\",\"orientation\":\"v\",\"showlegend\":false,\"x\":[\"2022\",\"2019\",\"2018\",\"2017\",\"2016\"],\"xaxis\":\"x\",\"y\":[0.26,0.44,0.41,0.38,0.42],\"yaxis\":\"y\",\"type\":\"scatter\"},{\"hovertemplate\":\"Subject=Religious, Moral and Philosophical Studies<br>Grades=upA<br>Year=%{x}<br>Percentage=%{y}<extra></extra>\",\"legendgroup\":\"Religious, Moral and Philosophical Studies\",\"line\":{\"color\":\"#00cc96\",\"dash\":\"solid\"},\"marker\":{\"symbol\":\"circle\"},\"mode\":\"markers+lines\",\"name\":\"Religious, Moral and Philosophical Studies\",\"orientation\":\"v\",\"showlegend\":true,\"x\":[\"2022\",\"2019\",\"2018\",\"2017\",\"2016\"],\"xaxis\":\"x5\",\"y\":[0.83,0.91,0.85,0.85,0.85],\"yaxis\":\"y5\",\"type\":\"scatter\"},{\"hovertemplate\":\"Subject=Religious, Moral and Philosophical Studies<br>Grades=A<br>Year=%{x}<br>Percentage=%{y}<extra></extra>\",\"legendgroup\":\"Religious, Moral and Philosophical Studies\",\"line\":{\"color\":\"#00cc96\",\"dash\":\"solid\"},\"marker\":{\"symbol\":\"circle\"},\"mode\":\"markers+lines\",\"name\":\"Religious, Moral and Philosophical Studies\",\"orientation\":\"v\",\"showlegend\":false,\"x\":[\"2022\",\"2019\",\"2018\",\"2017\",\"2016\"],\"xaxis\":\"x4\",\"y\":[0.67,0.76,0.7,0.7,0.7],\"yaxis\":\"y4\",\"type\":\"scatter\"},{\"hovertemplate\":\"Subject=Religious, Moral and Philosophical Studies<br>Grades=B<br>Year=%{x}<br>Percentage=%{y}<extra></extra>\",\"legendgroup\":\"Religious, Moral and Philosophical Studies\",\"line\":{\"color\":\"#00cc96\",\"dash\":\"solid\"},\"marker\":{\"symbol\":\"circle\"},\"mode\":\"markers+lines\",\"name\":\"Religious, Moral and Philosophical Studies\",\"orientation\":\"v\",\"showlegend\":false,\"x\":[\"2022\",\"2019\",\"2018\",\"2017\",\"2016\"],\"xaxis\":\"x3\",\"y\":[0.56,0.65,0.6,0.59,0.6],\"yaxis\":\"y3\",\"type\":\"scatter\"},{\"hovertemplate\":\"Subject=Religious, Moral and Philosophical Studies<br>Grades=C<br>Year=%{x}<br>Percentage=%{y}<extra></extra>\",\"legendgroup\":\"Religious, Moral and Philosophical Studies\",\"line\":{\"color\":\"#00cc96\",\"dash\":\"solid\"},\"marker\":{\"symbol\":\"circle\"},\"mode\":\"markers+lines\",\"name\":\"Religious, Moral and Philosophical Studies\",\"orientation\":\"v\",\"showlegend\":false,\"x\":[\"2022\",\"2019\",\"2018\",\"2017\",\"2016\"],\"xaxis\":\"x2\",\"y\":[0.46,0.54,0.5,0.49,0.5],\"yaxis\":\"y2\",\"type\":\"scatter\"},{\"hovertemplate\":\"Subject=Religious, Moral and Philosophical Studies<br>Grades=D<br>Year=%{x}<br>Percentage=%{y}<extra></extra>\",\"legendgroup\":\"Religious, Moral and Philosophical Studies\",\"line\":{\"color\":\"#00cc96\",\"dash\":\"solid\"},\"marker\":{\"symbol\":\"circle\"},\"mode\":\"markers+lines\",\"name\":\"Religious, Moral and Philosophical Studies\",\"orientation\":\"v\",\"showlegend\":false,\"x\":[\"2022\",\"2019\",\"2018\",\"2017\",\"2016\"],\"xaxis\":\"x\",\"y\":[0.36,0.48,0.45,0.44,0.45],\"yaxis\":\"y\",\"type\":\"scatter\"},{\"hovertemplate\":\"Subject=Spanish<br>Grades=upA<br>Year=%{x}<br>Percentage=%{y}<extra></extra>\",\"legendgroup\":\"Spanish\",\"line\":{\"color\":\"#ab63fa\",\"dash\":\"solid\"},\"marker\":{\"symbol\":\"circle\"},\"mode\":\"markers+lines\",\"name\":\"Spanish\",\"orientation\":\"v\",\"showlegend\":true,\"x\":[\"2022\",\"2019\",\"2018\",\"2017\",\"2016\"],\"xaxis\":\"x5\",\"y\":[0.82,0.82,0.82,0.82,0.82],\"yaxis\":\"y5\",\"type\":\"scatter\"},{\"hovertemplate\":\"Subject=Spanish<br>Grades=A<br>Year=%{x}<br>Percentage=%{y}<extra></extra>\",\"legendgroup\":\"Spanish\",\"line\":{\"color\":\"#ab63fa\",\"dash\":\"solid\"},\"marker\":{\"symbol\":\"circle\"},\"mode\":\"markers+lines\",\"name\":\"Spanish\",\"orientation\":\"v\",\"showlegend\":false,\"x\":[\"2022\",\"2019\",\"2018\",\"2017\",\"2016\"],\"xaxis\":\"x4\",\"y\":[0.67,0.68,0.67,0.67,0.67],\"yaxis\":\"y4\",\"type\":\"scatter\"},{\"hovertemplate\":\"Subject=Spanish<br>Grades=B<br>Year=%{x}<br>Percentage=%{y}<extra></extra>\",\"legendgroup\":\"Spanish\",\"line\":{\"color\":\"#ab63fa\",\"dash\":\"solid\"},\"marker\":{\"symbol\":\"circle\"},\"mode\":\"markers+lines\",\"name\":\"Spanish\",\"orientation\":\"v\",\"showlegend\":false,\"x\":[\"2022\",\"2019\",\"2018\",\"2017\",\"2016\"],\"xaxis\":\"x3\",\"y\":[0.57,0.58,0.57,0.57,0.57],\"yaxis\":\"y3\",\"type\":\"scatter\"},{\"hovertemplate\":\"Subject=Spanish<br>Grades=C<br>Year=%{x}<br>Percentage=%{y}<extra></extra>\",\"legendgroup\":\"Spanish\",\"line\":{\"color\":\"#ab63fa\",\"dash\":\"solid\"},\"marker\":{\"symbol\":\"circle\"},\"mode\":\"markers+lines\",\"name\":\"Spanish\",\"orientation\":\"v\",\"showlegend\":false,\"x\":[\"2022\",\"2019\",\"2018\",\"2017\",\"2016\"],\"xaxis\":\"x2\",\"y\":[0.47,0.48,0.48,0.48,0.48],\"yaxis\":\"y2\",\"type\":\"scatter\"},{\"hovertemplate\":\"Subject=Spanish<br>Grades=D<br>Year=%{x}<br>Percentage=%{y}<extra></extra>\",\"legendgroup\":\"Spanish\",\"line\":{\"color\":\"#ab63fa\",\"dash\":\"solid\"},\"marker\":{\"symbol\":\"circle\"},\"mode\":\"markers+lines\",\"name\":\"Spanish\",\"orientation\":\"v\",\"showlegend\":false,\"x\":[\"2022\",\"2019\",\"2018\",\"2017\",\"2016\"],\"xaxis\":\"x\",\"y\":[0.37,0.44,0.43,0.42,0.43],\"yaxis\":\"y\",\"type\":\"scatter\"},{\"hovertemplate\":\"Subject=Statistics<br>Grades=upA<br>Year=%{x}<br>Percentage=%{y}<extra></extra>\",\"legendgroup\":\"Statistics\",\"line\":{\"color\":\"#FFA15A\",\"dash\":\"solid\"},\"marker\":{\"symbol\":\"circle\"},\"mode\":\"markers+lines\",\"name\":\"Statistics\",\"orientation\":\"v\",\"showlegend\":true,\"x\":[\"2022\",\"2019\",\"2018\",\"2017\",\"2016\"],\"xaxis\":\"x5\",\"y\":[0.81,0.79,0.8,0.84,0.85],\"yaxis\":\"y5\",\"type\":\"scatter\"},{\"hovertemplate\":\"Subject=Statistics<br>Grades=A<br>Year=%{x}<br>Percentage=%{y}<extra></extra>\",\"legendgroup\":\"Statistics\",\"line\":{\"color\":\"#FFA15A\",\"dash\":\"solid\"},\"marker\":{\"symbol\":\"circle\"},\"mode\":\"markers+lines\",\"name\":\"Statistics\",\"orientation\":\"v\",\"showlegend\":false,\"x\":[\"2022\",\"2019\",\"2018\",\"2017\",\"2016\"],\"xaxis\":\"x4\",\"y\":[0.66,0.64,0.65,0.69,0.7],\"yaxis\":\"y4\",\"type\":\"scatter\"},{\"hovertemplate\":\"Subject=Statistics<br>Grades=B<br>Year=%{x}<br>Percentage=%{y}<extra></extra>\",\"legendgroup\":\"Statistics\",\"line\":{\"color\":\"#FFA15A\",\"dash\":\"solid\"},\"marker\":{\"symbol\":\"circle\"},\"mode\":\"markers+lines\",\"name\":\"Statistics\",\"orientation\":\"v\",\"showlegend\":false,\"x\":[\"2022\",\"2019\",\"2018\",\"2017\",\"2016\"],\"xaxis\":\"x3\",\"y\":[0.57,0.54,0.56,0.59,0.6],\"yaxis\":\"y3\",\"type\":\"scatter\"},{\"hovertemplate\":\"Subject=Statistics<br>Grades=C<br>Year=%{x}<br>Percentage=%{y}<extra></extra>\",\"legendgroup\":\"Statistics\",\"line\":{\"color\":\"#FFA15A\",\"dash\":\"solid\"},\"marker\":{\"symbol\":\"circle\"},\"mode\":\"markers+lines\",\"name\":\"Statistics\",\"orientation\":\"v\",\"showlegend\":false,\"x\":[\"2022\",\"2019\",\"2018\",\"2017\",\"2016\"],\"xaxis\":\"x2\",\"y\":[0.48,0.45,0.47,0.49,0.5],\"yaxis\":\"y2\",\"type\":\"scatter\"},{\"hovertemplate\":\"Subject=Statistics<br>Grades=D<br>Year=%{x}<br>Percentage=%{y}<extra></extra>\",\"legendgroup\":\"Statistics\",\"line\":{\"color\":\"#FFA15A\",\"dash\":\"solid\"},\"marker\":{\"symbol\":\"circle\"},\"mode\":\"markers+lines\",\"name\":\"Statistics\",\"orientation\":\"v\",\"showlegend\":false,\"x\":[\"2022\",\"2019\",\"2018\",\"2017\",\"2016\"],\"xaxis\":\"x\",\"y\":[0.39,0.4,0.42,0.44,0.45],\"yaxis\":\"y\",\"type\":\"scatter\"}],                        {\"template\":{\"data\":{\"bar\":[{\"error_x\":{\"color\":\"#2a3f5f\"},\"error_y\":{\"color\":\"#2a3f5f\"},\"marker\":{\"line\":{\"color\":\"#E5ECF6\",\"width\":0.5},\"pattern\":{\"fillmode\":\"overlay\",\"size\":10,\"solidity\":0.2}},\"type\":\"bar\"}],\"barpolar\":[{\"marker\":{\"line\":{\"color\":\"#E5ECF6\",\"width\":0.5},\"pattern\":{\"fillmode\":\"overlay\",\"size\":10,\"solidity\":0.2}},\"type\":\"barpolar\"}],\"carpet\":[{\"aaxis\":{\"endlinecolor\":\"#2a3f5f\",\"gridcolor\":\"white\",\"linecolor\":\"white\",\"minorgridcolor\":\"white\",\"startlinecolor\":\"#2a3f5f\"},\"baxis\":{\"endlinecolor\":\"#2a3f5f\",\"gridcolor\":\"white\",\"linecolor\":\"white\",\"minorgridcolor\":\"white\",\"startlinecolor\":\"#2a3f5f\"},\"type\":\"carpet\"}],\"choropleth\":[{\"colorbar\":{\"outlinewidth\":0,\"ticks\":\"\"},\"type\":\"choropleth\"}],\"contour\":[{\"colorbar\":{\"outlinewidth\":0,\"ticks\":\"\"},\"colorscale\":[[0.0,\"#0d0887\"],[0.1111111111111111,\"#46039f\"],[0.2222222222222222,\"#7201a8\"],[0.3333333333333333,\"#9c179e\"],[0.4444444444444444,\"#bd3786\"],[0.5555555555555556,\"#d8576b\"],[0.6666666666666666,\"#ed7953\"],[0.7777777777777778,\"#fb9f3a\"],[0.8888888888888888,\"#fdca26\"],[1.0,\"#f0f921\"]],\"type\":\"contour\"}],\"contourcarpet\":[{\"colorbar\":{\"outlinewidth\":0,\"ticks\":\"\"},\"type\":\"contourcarpet\"}],\"heatmap\":[{\"colorbar\":{\"outlinewidth\":0,\"ticks\":\"\"},\"colorscale\":[[0.0,\"#0d0887\"],[0.1111111111111111,\"#46039f\"],[0.2222222222222222,\"#7201a8\"],[0.3333333333333333,\"#9c179e\"],[0.4444444444444444,\"#bd3786\"],[0.5555555555555556,\"#d8576b\"],[0.6666666666666666,\"#ed7953\"],[0.7777777777777778,\"#fb9f3a\"],[0.8888888888888888,\"#fdca26\"],[1.0,\"#f0f921\"]],\"type\":\"heatmap\"}],\"heatmapgl\":[{\"colorbar\":{\"outlinewidth\":0,\"ticks\":\"\"},\"colorscale\":[[0.0,\"#0d0887\"],[0.1111111111111111,\"#46039f\"],[0.2222222222222222,\"#7201a8\"],[0.3333333333333333,\"#9c179e\"],[0.4444444444444444,\"#bd3786\"],[0.5555555555555556,\"#d8576b\"],[0.6666666666666666,\"#ed7953\"],[0.7777777777777778,\"#fb9f3a\"],[0.8888888888888888,\"#fdca26\"],[1.0,\"#f0f921\"]],\"type\":\"heatmapgl\"}],\"histogram\":[{\"marker\":{\"pattern\":{\"fillmode\":\"overlay\",\"size\":10,\"solidity\":0.2}},\"type\":\"histogram\"}],\"histogram2d\":[{\"colorbar\":{\"outlinewidth\":0,\"ticks\":\"\"},\"colorscale\":[[0.0,\"#0d0887\"],[0.1111111111111111,\"#46039f\"],[0.2222222222222222,\"#7201a8\"],[0.3333333333333333,\"#9c179e\"],[0.4444444444444444,\"#bd3786\"],[0.5555555555555556,\"#d8576b\"],[0.6666666666666666,\"#ed7953\"],[0.7777777777777778,\"#fb9f3a\"],[0.8888888888888888,\"#fdca26\"],[1.0,\"#f0f921\"]],\"type\":\"histogram2d\"}],\"histogram2dcontour\":[{\"colorbar\":{\"outlinewidth\":0,\"ticks\":\"\"},\"colorscale\":[[0.0,\"#0d0887\"],[0.1111111111111111,\"#46039f\"],[0.2222222222222222,\"#7201a8\"],[0.3333333333333333,\"#9c179e\"],[0.4444444444444444,\"#bd3786\"],[0.5555555555555556,\"#d8576b\"],[0.6666666666666666,\"#ed7953\"],[0.7777777777777778,\"#fb9f3a\"],[0.8888888888888888,\"#fdca26\"],[1.0,\"#f0f921\"]],\"type\":\"histogram2dcontour\"}],\"mesh3d\":[{\"colorbar\":{\"outlinewidth\":0,\"ticks\":\"\"},\"type\":\"mesh3d\"}],\"parcoords\":[{\"line\":{\"colorbar\":{\"outlinewidth\":0,\"ticks\":\"\"}},\"type\":\"parcoords\"}],\"pie\":[{\"automargin\":true,\"type\":\"pie\"}],\"scatter\":[{\"marker\":{\"colorbar\":{\"outlinewidth\":0,\"ticks\":\"\"}},\"type\":\"scatter\"}],\"scatter3d\":[{\"line\":{\"colorbar\":{\"outlinewidth\":0,\"ticks\":\"\"}},\"marker\":{\"colorbar\":{\"outlinewidth\":0,\"ticks\":\"\"}},\"type\":\"scatter3d\"}],\"scattercarpet\":[{\"marker\":{\"colorbar\":{\"outlinewidth\":0,\"ticks\":\"\"}},\"type\":\"scattercarpet\"}],\"scattergeo\":[{\"marker\":{\"colorbar\":{\"outlinewidth\":0,\"ticks\":\"\"}},\"type\":\"scattergeo\"}],\"scattergl\":[{\"marker\":{\"colorbar\":{\"outlinewidth\":0,\"ticks\":\"\"}},\"type\":\"scattergl\"}],\"scattermapbox\":[{\"marker\":{\"colorbar\":{\"outlinewidth\":0,\"ticks\":\"\"}},\"type\":\"scattermapbox\"}],\"scatterpolar\":[{\"marker\":{\"colorbar\":{\"outlinewidth\":0,\"ticks\":\"\"}},\"type\":\"scatterpolar\"}],\"scatterpolargl\":[{\"marker\":{\"colorbar\":{\"outlinewidth\":0,\"ticks\":\"\"}},\"type\":\"scatterpolargl\"}],\"scatterternary\":[{\"marker\":{\"colorbar\":{\"outlinewidth\":0,\"ticks\":\"\"}},\"type\":\"scatterternary\"}],\"surface\":[{\"colorbar\":{\"outlinewidth\":0,\"ticks\":\"\"},\"colorscale\":[[0.0,\"#0d0887\"],[0.1111111111111111,\"#46039f\"],[0.2222222222222222,\"#7201a8\"],[0.3333333333333333,\"#9c179e\"],[0.4444444444444444,\"#bd3786\"],[0.5555555555555556,\"#d8576b\"],[0.6666666666666666,\"#ed7953\"],[0.7777777777777778,\"#fb9f3a\"],[0.8888888888888888,\"#fdca26\"],[1.0,\"#f0f921\"]],\"type\":\"surface\"}],\"table\":[{\"cells\":{\"fill\":{\"color\":\"#EBF0F8\"},\"line\":{\"color\":\"white\"}},\"header\":{\"fill\":{\"color\":\"#C8D4E3\"},\"line\":{\"color\":\"white\"}},\"type\":\"table\"}]},\"layout\":{\"annotationdefaults\":{\"arrowcolor\":\"#2a3f5f\",\"arrowhead\":0,\"arrowwidth\":1},\"autotypenumbers\":\"strict\",\"coloraxis\":{\"colorbar\":{\"outlinewidth\":0,\"ticks\":\"\"}},\"colorscale\":{\"diverging\":[[0,\"#8e0152\"],[0.1,\"#c51b7d\"],[0.2,\"#de77ae\"],[0.3,\"#f1b6da\"],[0.4,\"#fde0ef\"],[0.5,\"#f7f7f7\"],[0.6,\"#e6f5d0\"],[0.7,\"#b8e186\"],[0.8,\"#7fbc41\"],[0.9,\"#4d9221\"],[1,\"#276419\"]],\"sequential\":[[0.0,\"#0d0887\"],[0.1111111111111111,\"#46039f\"],[0.2222222222222222,\"#7201a8\"],[0.3333333333333333,\"#9c179e\"],[0.4444444444444444,\"#bd3786\"],[0.5555555555555556,\"#d8576b\"],[0.6666666666666666,\"#ed7953\"],[0.7777777777777778,\"#fb9f3a\"],[0.8888888888888888,\"#fdca26\"],[1.0,\"#f0f921\"]],\"sequentialminus\":[[0.0,\"#0d0887\"],[0.1111111111111111,\"#46039f\"],[0.2222222222222222,\"#7201a8\"],[0.3333333333333333,\"#9c179e\"],[0.4444444444444444,\"#bd3786\"],[0.5555555555555556,\"#d8576b\"],[0.6666666666666666,\"#ed7953\"],[0.7777777777777778,\"#fb9f3a\"],[0.8888888888888888,\"#fdca26\"],[1.0,\"#f0f921\"]]},\"colorway\":[\"#636efa\",\"#EF553B\",\"#00cc96\",\"#ab63fa\",\"#FFA15A\",\"#19d3f3\",\"#FF6692\",\"#B6E880\",\"#FF97FF\",\"#FECB52\"],\"font\":{\"color\":\"#2a3f5f\"},\"geo\":{\"bgcolor\":\"white\",\"lakecolor\":\"white\",\"landcolor\":\"#E5ECF6\",\"showlakes\":true,\"showland\":true,\"subunitcolor\":\"white\"},\"hoverlabel\":{\"align\":\"left\"},\"hovermode\":\"closest\",\"mapbox\":{\"style\":\"light\"},\"paper_bgcolor\":\"white\",\"plot_bgcolor\":\"#E5ECF6\",\"polar\":{\"angularaxis\":{\"gridcolor\":\"white\",\"linecolor\":\"white\",\"ticks\":\"\"},\"bgcolor\":\"#E5ECF6\",\"radialaxis\":{\"gridcolor\":\"white\",\"linecolor\":\"white\",\"ticks\":\"\"}},\"scene\":{\"xaxis\":{\"backgroundcolor\":\"#E5ECF6\",\"gridcolor\":\"white\",\"gridwidth\":2,\"linecolor\":\"white\",\"showbackground\":true,\"ticks\":\"\",\"zerolinecolor\":\"white\"},\"yaxis\":{\"backgroundcolor\":\"#E5ECF6\",\"gridcolor\":\"white\",\"gridwidth\":2,\"linecolor\":\"white\",\"showbackground\":true,\"ticks\":\"\",\"zerolinecolor\":\"white\"},\"zaxis\":{\"backgroundcolor\":\"#E5ECF6\",\"gridcolor\":\"white\",\"gridwidth\":2,\"linecolor\":\"white\",\"showbackground\":true,\"ticks\":\"\",\"zerolinecolor\":\"white\"}},\"shapedefaults\":{\"line\":{\"color\":\"#2a3f5f\"}},\"ternary\":{\"aaxis\":{\"gridcolor\":\"white\",\"linecolor\":\"white\",\"ticks\":\"\"},\"baxis\":{\"gridcolor\":\"white\",\"linecolor\":\"white\",\"ticks\":\"\"},\"bgcolor\":\"#E5ECF6\",\"caxis\":{\"gridcolor\":\"white\",\"linecolor\":\"white\",\"ticks\":\"\"}},\"title\":{\"x\":0.05},\"xaxis\":{\"automargin\":true,\"gridcolor\":\"white\",\"linecolor\":\"white\",\"ticks\":\"\",\"title\":{\"standoff\":15},\"zerolinecolor\":\"white\",\"zerolinewidth\":2},\"yaxis\":{\"automargin\":true,\"gridcolor\":\"white\",\"linecolor\":\"white\",\"ticks\":\"\",\"title\":{\"standoff\":15},\"zerolinecolor\":\"white\",\"zerolinewidth\":2}}},\"xaxis\":{\"anchor\":\"y\",\"domain\":[0.0,0.98],\"title\":{\"text\":\"Year\"},\"categoryorder\":\"array\",\"categoryarray\":[\"2016\",\"2017\",\"2018\",\"2019\",\"2022\"]},\"yaxis\":{\"anchor\":\"x\",\"domain\":[0.0,0.17600000000000002],\"title\":{\"text\":\"Percentage\"}},\"xaxis2\":{\"anchor\":\"y2\",\"domain\":[0.0,0.98],\"matches\":\"x\",\"showticklabels\":false},\"yaxis2\":{\"anchor\":\"x2\",\"domain\":[0.20600000000000002,0.382],\"matches\":\"y\",\"title\":{\"text\":\"Percentage\"}},\"xaxis3\":{\"anchor\":\"y3\",\"domain\":[0.0,0.98],\"matches\":\"x\",\"showticklabels\":false},\"yaxis3\":{\"anchor\":\"x3\",\"domain\":[0.41200000000000003,0.5880000000000001],\"matches\":\"y\",\"title\":{\"text\":\"Percentage\"}},\"xaxis4\":{\"anchor\":\"y4\",\"domain\":[0.0,0.98],\"matches\":\"x\",\"showticklabels\":false},\"yaxis4\":{\"anchor\":\"x4\",\"domain\":[0.618,0.794],\"matches\":\"y\",\"title\":{\"text\":\"Percentage\"}},\"xaxis5\":{\"anchor\":\"y5\",\"domain\":[0.0,0.98],\"matches\":\"x\",\"showticklabels\":false},\"yaxis5\":{\"anchor\":\"x5\",\"domain\":[0.8240000000000001,1.0],\"matches\":\"y\",\"title\":{\"text\":\"Percentage\"}},\"annotations\":[{\"font\":{},\"showarrow\":false,\"text\":\"Grades=D\",\"textangle\":90,\"x\":0.98,\"xanchor\":\"left\",\"xref\":\"paper\",\"y\":0.08800000000000001,\"yanchor\":\"middle\",\"yref\":\"paper\"},{\"font\":{},\"showarrow\":false,\"text\":\"Grades=C\",\"textangle\":90,\"x\":0.98,\"xanchor\":\"left\",\"xref\":\"paper\",\"y\":0.29400000000000004,\"yanchor\":\"middle\",\"yref\":\"paper\"},{\"font\":{},\"showarrow\":false,\"text\":\"Grades=B\",\"textangle\":90,\"x\":0.98,\"xanchor\":\"left\",\"xref\":\"paper\",\"y\":0.5,\"yanchor\":\"middle\",\"yref\":\"paper\"},{\"font\":{},\"showarrow\":false,\"text\":\"Grades=A\",\"textangle\":90,\"x\":0.98,\"xanchor\":\"left\",\"xref\":\"paper\",\"y\":0.706,\"yanchor\":\"middle\",\"yref\":\"paper\"},{\"font\":{},\"showarrow\":false,\"text\":\"Grades=upA\",\"textangle\":90,\"x\":0.98,\"xanchor\":\"left\",\"xref\":\"paper\",\"y\":0.912,\"yanchor\":\"middle\",\"yref\":\"paper\"}],\"legend\":{\"title\":{\"text\":\"Subject\"},\"tracegroupgap\":0},\"title\":{\"text\":\"Grade boundaries per subject from 2016 - 2022 at Advanced Higher\"},\"height\":1150,\"width\":800},                        {\"responsive\": true}                    ).then(function(){\n",
       "                            \n",
       "var gd = document.getElementById('59742672-f575-48e6-acb9-ba942c09867f');\n",
       "var x = new MutationObserver(function (mutations, observer) {{\n",
       "        var display = window.getComputedStyle(gd).display;\n",
       "        if (!display || display === 'none') {{\n",
       "            console.log([gd, 'removed!']);\n",
       "            Plotly.purge(gd);\n",
       "            observer.disconnect();\n",
       "        }}\n",
       "}});\n",
       "\n",
       "// Listen for the removal of the full notebook cells\n",
       "var notebookContainer = gd.closest('#notebook-container');\n",
       "if (notebookContainer) {{\n",
       "    x.observe(notebookContainer, {childList: true});\n",
       "}}\n",
       "\n",
       "// Listen for the clearing of the current output cell\n",
       "var outputEl = gd.closest('.output');\n",
       "if (outputEl) {{\n",
       "    x.observe(outputEl, {childList: true});\n",
       "}}\n",
       "\n",
       "                        })                };                });            </script>        </div>"
      ]
     },
     "metadata": {},
     "output_type": "display_data"
    }
   ],
   "source": [
    "# Plot graph\n",
    "\n",
    "# Create a list of subjects in alphabetical order\n",
    "subjects = sorted(ldf['Subject'].unique())\n",
    "years = sorted(ldf['Year'].unique())\n",
    "\n",
    "fig = px.line(ldf, x = \"Year\", y = \"Count\", \n",
    "                color = \"Subject\",\n",
    "                facet_row = 'Grades',\n",
    "                width = 800,\n",
    "                height = 1150,\n",
    "                category_orders = {'Subject' : subjects, 'Year' : years},\n",
    "                labels = {\"Count\": \"Percentage\"},\n",
    "                title = 'Grade boundaries per subject from 2016 - 2022 at ' + level_label\n",
    "                )\n",
    "\n",
    "fig.update_traces(mode = \"markers+lines\")\n",
    "\n",
    "filename = 'boundaries_' + level + '.html'\n",
    "\n",
    "fig.write_html('./graphs/' + filename)\n",
    "\n",
    "fig.show()"
   ]
  },
  {
   "cell_type": "code",
   "execution_count": 385,
   "id": "fa58af7e",
   "metadata": {},
   "outputs": [],
   "source": [
    "# Setup Chart Studio\n",
    "username = '#####' # your username\n",
    "api_key = '#####' # your api key - go to profile > settings > regenerate key\n",
    "chart_studio.tools.set_credentials_file(username=username, api_key=api_key)\n",
    "\n",
    "# Upload to Chart Studio\n",
    "#py.plot(fig, filename = filename, auto_open=True)"
   ]
  },
  {
   "cell_type": "code",
   "execution_count": null,
   "id": "c9617dd7",
   "metadata": {},
   "outputs": [],
   "source": []
  }
 ],
 "metadata": {
  "kernelspec": {
   "display_name": "Python 3 (ipykernel)",
   "language": "python",
   "name": "python3"
  },
  "language_info": {
   "codemirror_mode": {
    "name": "ipython",
    "version": 3
   },
   "file_extension": ".py",
   "mimetype": "text/x-python",
   "name": "python",
   "nbconvert_exporter": "python",
   "pygments_lexer": "ipython3",
   "version": "3.10.4"
  }
 },
 "nbformat": 4,
 "nbformat_minor": 5
}
